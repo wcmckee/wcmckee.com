{
 "cells": [
  {
   "cell_type": "markdown",
   "metadata": {},
   "source": [
    "<h1>NikTrans</h1>\n",
    "\n",
    "Python script to create Nikola sites from a list of schools. Edits conf.py file for site name and licence. "
   ]
  },
  {
   "cell_type": "code",
   "execution_count": null,
   "metadata": {
    "collapsed": true,
    "scrolled": true
   },
   "outputs": [],
   "source": [
    "import os\n",
    "import json"
   ]
  },
  {
   "cell_type": "code",
   "execution_count": null,
   "metadata": {
    "collapsed": false,
    "scrolled": true
   },
   "outputs": [],
   "source": [
    "os.system('python3 nikoladu.py')\n",
    "os.chdir('/home/wcmckee/nik1/')\n",
    "os.system('nikola build')\n",
    "os.system('rsync -azP /home/wcmckee/nik1/* wcmckee@wcmckee.com:/home/wcmckee/github/wcmckee.com/output/minedujobs')"
   ]
  },
  {
   "cell_type": "code",
   "execution_count": null,
   "metadata": {
    "collapsed": true,
    "scrolled": true
   },
   "outputs": [],
   "source": [
    "opccschho = open('/home/wcmckee/ccschool/cctru.json', 'r')"
   ]
  },
  {
   "cell_type": "code",
   "execution_count": null,
   "metadata": {
    "collapsed": false,
    "scrolled": true
   },
   "outputs": [],
   "source": [
    "opcz = opccschho.read()"
   ]
  },
  {
   "cell_type": "code",
   "execution_count": null,
   "metadata": {
    "collapsed": false,
    "scrolled": true
   },
   "outputs": [],
   "source": [
    "rssch = json.loads(opcz)"
   ]
  },
  {
   "cell_type": "code",
   "execution_count": null,
   "metadata": {
    "collapsed": true,
    "scrolled": true
   },
   "outputs": [],
   "source": [
    "filrma = ('/home/wcmckee/ccschol/')"
   ]
  },
  {
   "cell_type": "code",
   "execution_count": null,
   "metadata": {
    "collapsed": false,
    "scrolled": true
   },
   "outputs": [],
   "source": [
    "for rs in rssch.keys():\n",
    "    hythsc = (rs.replace(' ', '-'))\n",
    "    hylow = hythsc.lower()\n",
    "    hybrac = hylow.replace('(', '')\n",
    "    hybaec = hybrac.replace(')', '')\n",
    "    os.mkdir(filrma + hybaec)\n",
    "    \n",
    "    os.system('nikola init -q ' + filrma + hybaec)\n",
    "    "
   ]
  },
  {
   "cell_type": "markdown",
   "metadata": {
    "collapsed": true
   },
   "source": [
    "I want to open each of the conf.py files and replace the nanme of the site with hythsc.lower\n",
    "\n",
    "Dir /home/wcmckee/ccschol has all the schools folders. Need to replace in conf.py Demo Name \n",
    "with folder name of school.\n",
    "\n",
    "Schools name missing characters - eg ardmore"
   ]
  },
  {
   "cell_type": "code",
   "execution_count": null,
   "metadata": {
    "collapsed": true,
    "scrolled": true
   },
   "outputs": [],
   "source": [
    "lisschol = os.listdir('/home/wcmckee/ccschol/')"
   ]
  },
  {
   "cell_type": "code",
   "execution_count": null,
   "metadata": {
    "collapsed": true,
    "scrolled": true
   },
   "outputs": [],
   "source": [
    "findwat = ('LICENSE = \"\"\"')"
   ]
  },
  {
   "cell_type": "code",
   "execution_count": null,
   "metadata": {
    "collapsed": true,
    "scrolled": true
   },
   "outputs": [],
   "source": [
    "def replacetext(findtext, replacetext):\n",
    "    for lisol in lisschol:\n",
    "        filereaz = ('/home/wcmckee/ccschol/' + hybaec + '/conf.py')\n",
    "        f = open(filereaz,'r')\n",
    "        filedata = f.read()\n",
    "        f.close()\n",
    "\n",
    "        newdata = filedata.replace(findtext, '\"' + replacetext + '\"')\n",
    "        #print (newdata)\n",
    "        f = open(filereaz,'w')\n",
    "        f.write(newdata)\n",
    "        f.close()\n"
   ]
  },
  {
   "cell_type": "code",
   "execution_count": null,
   "metadata": {
    "collapsed": true,
    "scrolled": true
   },
   "outputs": [],
   "source": [
    "replacetext('LICENSE = \"\"\"', 'LICENSE = \"\"\"<a rel=\"license\" href=\"http://creativecommons.org/licenses/by/4.0/\"><img alt=\"Creative Commons Attribution 4.0 International License\" style=\"border-width:0; margin-bottom:12px;\" src=\"https://i.creativecommons.org/l/by/4.0/88x31.png\"></a>\"')"
   ]
  },
  {
   "cell_type": "code",
   "execution_count": null,
   "metadata": {
    "collapsed": false,
    "scrolled": true
   },
   "outputs": [],
   "source": [
    "\n",
    "licfil = 'LICENSE = \"\"\"<a rel=\"license\" href=\"http://creativecommons.org/licenses/by/4.0/\"><img alt=\"Creative Commons Attribution 4.0 International License\" style=\"border-width:0; margin-bottom:12px;\" src=\"https://i.creativecommons.org/l/by/4.0/88x31.png\"></a>\"'"
   ]
  },
  {
   "cell_type": "code",
   "execution_count": null,
   "metadata": {
    "collapsed": true,
    "scrolled": true
   },
   "outputs": [],
   "source": [
    "opwcm = ('/home/wcmckee/github/wcm.com/conf.py')"
   ]
  },
  {
   "cell_type": "code",
   "execution_count": null,
   "metadata": {
    "collapsed": false,
    "scrolled": true
   },
   "outputs": [],
   "source": [
    "for lisol in lisschol:\n",
    "    print (lisol)\n",
    "    rdwcm = open(opwcm, 'r')\n",
    "    \n",
    "    filewcm = rdwcm.read()\n",
    "    newdata = filewcm.replace('wcmckee', lisol)\n",
    "\n",
    "    rdwcm.close()\n",
    "    #print (newdata)\n",
    "    \n",
    "    f = open('/home/wcmckee/ccschol/' + lisol + '/conf.py','w')\n",
    "    f.write(newdata)\n",
    "    f.close()\n"
   ]
  },
  {
   "cell_type": "code",
   "execution_count": null,
   "metadata": {
    "collapsed": false,
    "scrolled": true
   },
   "outputs": [],
   "source": [
    "for rdlin in rdwcm.readlines():\n",
    "    #print (rdlin)\n",
    "    if 'BLOG_TITLE' in rdlin:\n",
    "        print (rdlin)\n",
    "        "
   ]
  },
  {
   "cell_type": "code",
   "execution_count": null,
   "metadata": {
    "collapsed": false,
    "scrolled": true
   },
   "outputs": [],
   "source": [
    "for lisol in lisschol:\n",
    "    print (lisol)\n",
    "    hythsc = (lisol.replace(' ', '-'))\n",
    "    hylow = hythsc.lower()\n",
    "    hybrac = hylow.replace('(', '')\n",
    "    hybaec = hybrac.replace(')', '')\n",
    "    filereaz = ('/home/wcmckee/ccschol/' + hybaec + '/conf.py')\n",
    "    f = open(filereaz,'r')\n",
    "    filedata = f.read()\n",
    "    f.close()\n",
    "\n",
    "    newdata = filedata.replace('LICENCE = \"\"\"', licfil )\n",
    "    #print (newdata)\n",
    "    f = open(filereaz,'w')\n",
    "    f.write(newdata)\n",
    "    f.close()\n"
   ]
  },
  {
   "cell_type": "code",
   "execution_count": null,
   "metadata": {
    "collapsed": true,
    "scrolled": true
   },
   "outputs": [],
   "source": [
    "\n",
    "for lisol in lisschol:\n",
    "    print (lisol)\n",
    "    hythsc = (lisol.replace(' ', '-'))\n",
    "    hylow = hythsc.lower()\n",
    "    hybrac = hylow.replace('(', '')\n",
    "    hybaec = hybrac.replace(')', '')\n",
    "    filereaz = ('/home/wcmckee/ccschol/' + hybaec + '/conf.py')\n",
    "    f = open(filereaz,'r')\n",
    "    filedata = f.read()\n",
    "    f.close()\n",
    "\n",
    "    newdata = filedata.replace('\"Demo Site\"', '\"' + hybaec + '\"')\n",
    "    #print (newdata)\n",
    "    f = open(filereaz,'w')\n",
    "    f.write(newdata)\n",
    "    f.close()\n"
   ]
  },
  {
   "cell_type": "code",
   "execution_count": null,
   "metadata": {
    "collapsed": false,
    "scrolled": true
   },
   "outputs": [],
   "source": [
    "for lisol in lisschol:\n",
    "    print (lisol)\n",
    "    hythsc = (lisol.replace(' ', '-'))\n",
    "    hylow = hythsc.lower()\n",
    "    hybrac = hylow.replace('(', '')\n",
    "    hybaec = hybrac.replace(')', '')\n",
    "    filereaz = ('/home/wcmckee/ccschol/' + hybaec + '/conf.py')\n",
    "    f = open(filereaz,'r')\n",
    "    filedata = f.read()\n",
    "    f.close()\n",
    "\n",
    "    newdata = filedata.replace('\"Demo Site\"', '\"' + hybaec + '\"')\n",
    "    #print (newdata)\n",
    "    f = open(filereaz,'w')\n",
    "    f.write(newdata)\n",
    "    f.close()\n"
   ]
  },
  {
   "cell_type": "markdown",
   "metadata": {
    "collapsed": true
   },
   "source": [
    "Perform Nikola build of all the sites in ccschol folder"
   ]
  },
  {
   "cell_type": "code",
   "execution_count": null,
   "metadata": {
    "collapsed": false,
    "scrolled": true
   },
   "outputs": [],
   "source": [
    "buildnik = input('Build school sites y/N ')\n",
    "\n"
   ]
  },
  {
   "cell_type": "code",
   "execution_count": null,
   "metadata": {
    "collapsed": false,
    "scrolled": true
   },
   "outputs": [],
   "source": [
    "for lisol in lisschol:\n",
    "    print (lisol)\n",
    "    os.chdir('/home/wcmckee/ccschol/' + lisol)\n",
    "    if 'y' in buildnik:\n",
    "        os.system('nikola build')"
   ]
  },
  {
   "cell_type": "code",
   "execution_count": null,
   "metadata": {
    "collapsed": true,
    "scrolled": true
   },
   "outputs": [],
   "source": [
    "makerst = open('/home/wcmckee/ccs')"
   ]
  },
  {
   "cell_type": "code",
   "execution_count": null,
   "metadata": {
    "collapsed": false,
    "scrolled": true
   },
   "outputs": [],
   "source": [
    "for rs in rssch.keys():\n",
    "    hythsc = (rs.replace(' ', '-'))\n",
    "    hylow = hythsc.lower()\n",
    "    hybrac = hylow.replace('(', '-')\n",
    "    hybaec = hybrac.replace(')', '')\n",
    "    \n",
    "    #print (hylow())\n",
    "    filereaz = ('/home/wcmckee/ccschol/' + hybaec + '/conf.py')\n",
    "    f = open(filereaz,'r')\n",
    "    filedata = f.read()\n",
    "    \n",
    "\n",
    "    newdata = filedata.replace(\"Demo Site\", hybaec)\n",
    "    f.close()\n",
    "    f = open(filereaz,'w')\n",
    "    f.write(newdata)\n",
    "    f.close()"
   ]
  }
 ],
 "metadata": {
  "kernelspec": {
   "display_name": "Python 3",
   "language": "python",
   "name": "python3"
  },
  "language_info": {
   "codemirror_mode": {
    "name": "ipython",
    "version": 3
   },
   "file_extension": ".py",
   "mimetype": "text/x-python",
   "name": "python",
   "nbconvert_exporter": "python",
   "pygments_lexer": "ipython3",
   "version": "3.4.2"
  }
 },
 "nbformat": 4,
 "nbformat_minor": 0
}
