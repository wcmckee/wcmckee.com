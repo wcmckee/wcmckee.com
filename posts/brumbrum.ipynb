{
 "cells": [
  {
   "cell_type": "markdown",
   "metadata": {},
   "source": [
    " Challenge 2\n",
    " \n",
    "Speed Runs: optimising truck payload and cycle speeds\n",
    "\n",
    "Description\n",
    "\n",
    "Challenge Statement\n",
    "\n",
    "At the Cowal Gold Mine, trucks transport ore over many km’s from the open pit. The more ore they take, the slower they move. Can you optimise for speed and tonnage?\n",
    "\n",
    "Background\n",
    "\n",
    "The Cowal operation is an open pit mining operation with production from a number of different areas within a large, single pit.  As a result of the general site configuration and layout, haul distances, in particular for waste disposal, is the longest of all open pit operations across the company. Material is typically hauled for a 4km distance at a 1:10 incline and thereafter another 1-3km on a reasonably flat surface to the crusher, stockpiles or waste rock dumps depending on material type. A fleet monitoring system (MineStar) is installed and fully operational with a significant amount of individual truck cycle data available. Mining is carried out with a company-owned fleet of mining equipment that includes 2 x Liebherr 994 backhoe excavators, 1 x Hitachi 3600 Excavator and 16 x Cat 789 dump trucks.\n",
    "The Challenge\n",
    "\n",
    "The key question remains: What is the optimum payload vs haul speed trade-off and how does that change with increases to the depth of the pit and haulage distances to future waste dump locations?\n",
    "The Opportunity\n",
    "\n",
    "At present the operating philosophy is to “light load” trucks to ensure they reach at least second gear on the way out on the ramp. Payloads are controlled, however given the haul distance required, every tonne counts. If the optimum cycle speeds and payload can be determined, there is potential to improve productivity and reduce costs across the haulage fleet.\n",
    "Considerations\n",
    "\n",
    "Critical areas to consider include:\n",
    "\n",
    "    For any given haulage cycle, can payload be “calibrated” to a specific location using historical VIMS data?\n",
    "    In excess of two years VIMS data is available for analysis that could be “mined” to establish the optimum trade-off!\n",
    "    Can payload optimisation be done in real time and displayed to the operator?\n",
    "\n",
    "Data Summary\n",
    "\n",
    "TBC\n",
    "Mentors\n",
    "\n",
    "Ryan Kare - Lead Mentor\n",
    "\n",
    "Elam Athimoolam"
   ]
  },
  {
   "cell_type": "code",
   "execution_count": 153,
   "metadata": {
    "collapsed": false,
    "scrolled": true
   },
   "outputs": [],
   "source": [
    "import pandas\n",
    "import json"
   ]
  },
  {
   "cell_type": "code",
   "execution_count": null,
   "metadata": {
    "collapsed": true
   },
   "outputs": [],
   "source": []
  },
  {
   "cell_type": "code",
   "execution_count": null,
   "metadata": {
    "collapsed": true
   },
   "outputs": [],
   "source": []
  },
  {
   "cell_type": "code",
   "execution_count": 154,
   "metadata": {
    "collapsed": true
   },
   "outputs": [],
   "source": [
    "pitconf = pandas.read_excel('/home/wcmckee/data/Truck_Spec.xlsx', sheetname='SiteInfo', index_col='Parameter')"
   ]
  },
  {
   "cell_type": "code",
   "execution_count": 155,
   "metadata": {
    "collapsed": false,
    "scrolled": true
   },
   "outputs": [],
   "source": [
    "rimpulldata = pandas.read_excel('/home/wcmckee/data/Truck_Spec.xlsx', sheetname='Rimpull')"
   ]
  },
  {
   "cell_type": "code",
   "execution_count": 156,
   "metadata": {
    "collapsed": false
   },
   "outputs": [
    {
     "name": "stdout",
     "output_type": "stream",
     "text": [
      "    Speed (km)   Force (kgf)\n",
      "0     0.000000  85124.846100\n",
      "1     1.269841  84181.974090\n",
      "2     2.116402  81415.558050\n",
      "3     3.386243  75308.980180\n",
      "4     4.444444  69660.426470\n",
      "5     5.291005  63721.832620\n",
      "6     6.137566  58289.507510\n",
      "7     6.984127  52729.697590\n",
      "8     7.407407  50432.017810\n",
      "9     8.465608  49811.731730\n",
      "10    8.982951  48895.577950\n",
      "11    9.805996  46534.040820\n",
      "12   10.370370  43904.562710\n",
      "13   10.793651  41372.434300\n",
      "14   11.005291  39471.824240\n",
      "15   11.216931  36920.178720\n",
      "16   11.851852  36511.238150\n",
      "17   12.275132  36106.827140\n",
      "18   13.004115  35050.162540\n",
      "19   13.474427  34278.007420\n",
      "20   13.874192  33398.632820\n",
      "21   14.203410  32461.371820\n",
      "22   15.026455  29657.294330\n",
      "23   15.238095  28718.205310\n",
      "24   15.449735  27331.186050\n",
      "25   16.084656  27028.456450\n",
      "26   16.507937  26729.079990\n",
      "27   17.330982  26043.367020\n",
      "28   19.776602  23413.949310\n",
      "29   20.129336  22756.887040\n",
      "..         ...           ...\n",
      "32   21.375661  20232.668330\n",
      "33   22.433862  19786.942620\n",
      "34   24.126984  18924.732900\n",
      "35   25.396825  18100.093690\n",
      "36   27.231041  16701.106460\n",
      "37   27.654321  16292.804100\n",
      "38   27.889477  15796.434640\n",
      "39   28.148148  14977.793750\n",
      "40   29.417989  14811.894570\n",
      "41   30.264550  14647.832940\n",
      "42   32.169312  14166.470980\n",
      "43   34.074074  13549.171520\n",
      "44   35.978836  12815.234900\n",
      "45   37.037037  12394.096380\n",
      "46   37.671958  11986.797470\n",
      "47   37.883598  11722.728300\n",
      "48   38.095238  11211.914150\n",
      "49   39.788360  11087.727140\n",
      "50   41.269841  10964.915670\n",
      "51   42.962963  10723.358560\n",
      "52   44.232804  10487.122960\n",
      "53   48.583186   9522.120346\n",
      "54   50.229277   9073.447255\n",
      "55   50.723104   8895.549731\n",
      "56   52.204586   8007.331433\n",
      "57   53.380364   6893.723843\n",
      "58   54.673721   5725.762322\n",
      "59   54.861846   5186.037841\n",
      "60   55.097002   4249.158596\n",
      "61   55.261611   3848.622425\n",
      "\n",
      "[62 rows x 2 columns]\n"
     ]
    }
   ],
   "source": [
    "print(rimpulldata)"
   ]
  },
  {
   "cell_type": "code",
   "execution_count": 114,
   "metadata": {
    "collapsed": true
   },
   "outputs": [
    {
     "data": {
      "text/html": [
       "<div>\n",
       "<table border=\"1\" class=\"dataframe\">\n",
       "  <thead>\n",
       "    <tr style=\"text-align: right;\">\n",
       "      <th></th>\n",
       "      <th>Speed (km)</th>\n",
       "      <th>Force (kgf)</th>\n",
       "    </tr>\n",
       "  </thead>\n",
       "  <tbody>\n",
       "    <tr>\n",
       "      <th>0</th>\n",
       "      <td>0.000000</td>\n",
       "      <td>85124.846100</td>\n",
       "    </tr>\n",
       "    <tr>\n",
       "      <th>1</th>\n",
       "      <td>1.269841</td>\n",
       "      <td>84181.974090</td>\n",
       "    </tr>\n",
       "    <tr>\n",
       "      <th>2</th>\n",
       "      <td>2.116402</td>\n",
       "      <td>81415.558050</td>\n",
       "    </tr>\n",
       "    <tr>\n",
       "      <th>3</th>\n",
       "      <td>3.386243</td>\n",
       "      <td>75308.980180</td>\n",
       "    </tr>\n",
       "    <tr>\n",
       "      <th>4</th>\n",
       "      <td>4.444444</td>\n",
       "      <td>69660.426470</td>\n",
       "    </tr>\n",
       "    <tr>\n",
       "      <th>5</th>\n",
       "      <td>5.291005</td>\n",
       "      <td>63721.832620</td>\n",
       "    </tr>\n",
       "    <tr>\n",
       "      <th>6</th>\n",
       "      <td>6.137566</td>\n",
       "      <td>58289.507510</td>\n",
       "    </tr>\n",
       "    <tr>\n",
       "      <th>7</th>\n",
       "      <td>6.984127</td>\n",
       "      <td>52729.697590</td>\n",
       "    </tr>\n",
       "    <tr>\n",
       "      <th>8</th>\n",
       "      <td>7.407407</td>\n",
       "      <td>50432.017810</td>\n",
       "    </tr>\n",
       "    <tr>\n",
       "      <th>9</th>\n",
       "      <td>8.465608</td>\n",
       "      <td>49811.731730</td>\n",
       "    </tr>\n",
       "    <tr>\n",
       "      <th>10</th>\n",
       "      <td>8.982951</td>\n",
       "      <td>48895.577950</td>\n",
       "    </tr>\n",
       "    <tr>\n",
       "      <th>11</th>\n",
       "      <td>9.805996</td>\n",
       "      <td>46534.040820</td>\n",
       "    </tr>\n",
       "    <tr>\n",
       "      <th>12</th>\n",
       "      <td>10.370370</td>\n",
       "      <td>43904.562710</td>\n",
       "    </tr>\n",
       "    <tr>\n",
       "      <th>13</th>\n",
       "      <td>10.793651</td>\n",
       "      <td>41372.434300</td>\n",
       "    </tr>\n",
       "    <tr>\n",
       "      <th>14</th>\n",
       "      <td>11.005291</td>\n",
       "      <td>39471.824240</td>\n",
       "    </tr>\n",
       "    <tr>\n",
       "      <th>15</th>\n",
       "      <td>11.216931</td>\n",
       "      <td>36920.178720</td>\n",
       "    </tr>\n",
       "    <tr>\n",
       "      <th>16</th>\n",
       "      <td>11.851852</td>\n",
       "      <td>36511.238150</td>\n",
       "    </tr>\n",
       "    <tr>\n",
       "      <th>17</th>\n",
       "      <td>12.275132</td>\n",
       "      <td>36106.827140</td>\n",
       "    </tr>\n",
       "    <tr>\n",
       "      <th>18</th>\n",
       "      <td>13.004115</td>\n",
       "      <td>35050.162540</td>\n",
       "    </tr>\n",
       "    <tr>\n",
       "      <th>19</th>\n",
       "      <td>13.474427</td>\n",
       "      <td>34278.007420</td>\n",
       "    </tr>\n",
       "    <tr>\n",
       "      <th>20</th>\n",
       "      <td>13.874192</td>\n",
       "      <td>33398.632820</td>\n",
       "    </tr>\n",
       "    <tr>\n",
       "      <th>21</th>\n",
       "      <td>14.203410</td>\n",
       "      <td>32461.371820</td>\n",
       "    </tr>\n",
       "    <tr>\n",
       "      <th>22</th>\n",
       "      <td>15.026455</td>\n",
       "      <td>29657.294330</td>\n",
       "    </tr>\n",
       "    <tr>\n",
       "      <th>23</th>\n",
       "      <td>15.238095</td>\n",
       "      <td>28718.205310</td>\n",
       "    </tr>\n",
       "    <tr>\n",
       "      <th>24</th>\n",
       "      <td>15.449735</td>\n",
       "      <td>27331.186050</td>\n",
       "    </tr>\n",
       "    <tr>\n",
       "      <th>25</th>\n",
       "      <td>16.084656</td>\n",
       "      <td>27028.456450</td>\n",
       "    </tr>\n",
       "    <tr>\n",
       "      <th>26</th>\n",
       "      <td>16.507937</td>\n",
       "      <td>26729.079990</td>\n",
       "    </tr>\n",
       "    <tr>\n",
       "      <th>27</th>\n",
       "      <td>17.330982</td>\n",
       "      <td>26043.367020</td>\n",
       "    </tr>\n",
       "    <tr>\n",
       "      <th>28</th>\n",
       "      <td>19.776602</td>\n",
       "      <td>23413.949310</td>\n",
       "    </tr>\n",
       "    <tr>\n",
       "      <th>29</th>\n",
       "      <td>20.129336</td>\n",
       "      <td>22756.887040</td>\n",
       "    </tr>\n",
       "    <tr>\n",
       "      <th>...</th>\n",
       "      <td>...</td>\n",
       "      <td>...</td>\n",
       "    </tr>\n",
       "    <tr>\n",
       "      <th>32</th>\n",
       "      <td>21.375661</td>\n",
       "      <td>20232.668330</td>\n",
       "    </tr>\n",
       "    <tr>\n",
       "      <th>33</th>\n",
       "      <td>22.433862</td>\n",
       "      <td>19786.942620</td>\n",
       "    </tr>\n",
       "    <tr>\n",
       "      <th>34</th>\n",
       "      <td>24.126984</td>\n",
       "      <td>18924.732900</td>\n",
       "    </tr>\n",
       "    <tr>\n",
       "      <th>35</th>\n",
       "      <td>25.396825</td>\n",
       "      <td>18100.093690</td>\n",
       "    </tr>\n",
       "    <tr>\n",
       "      <th>36</th>\n",
       "      <td>27.231041</td>\n",
       "      <td>16701.106460</td>\n",
       "    </tr>\n",
       "    <tr>\n",
       "      <th>37</th>\n",
       "      <td>27.654321</td>\n",
       "      <td>16292.804100</td>\n",
       "    </tr>\n",
       "    <tr>\n",
       "      <th>38</th>\n",
       "      <td>27.889477</td>\n",
       "      <td>15796.434640</td>\n",
       "    </tr>\n",
       "    <tr>\n",
       "      <th>39</th>\n",
       "      <td>28.148148</td>\n",
       "      <td>14977.793750</td>\n",
       "    </tr>\n",
       "    <tr>\n",
       "      <th>40</th>\n",
       "      <td>29.417989</td>\n",
       "      <td>14811.894570</td>\n",
       "    </tr>\n",
       "    <tr>\n",
       "      <th>41</th>\n",
       "      <td>30.264550</td>\n",
       "      <td>14647.832940</td>\n",
       "    </tr>\n",
       "    <tr>\n",
       "      <th>42</th>\n",
       "      <td>32.169312</td>\n",
       "      <td>14166.470980</td>\n",
       "    </tr>\n",
       "    <tr>\n",
       "      <th>43</th>\n",
       "      <td>34.074074</td>\n",
       "      <td>13549.171520</td>\n",
       "    </tr>\n",
       "    <tr>\n",
       "      <th>44</th>\n",
       "      <td>35.978836</td>\n",
       "      <td>12815.234900</td>\n",
       "    </tr>\n",
       "    <tr>\n",
       "      <th>45</th>\n",
       "      <td>37.037037</td>\n",
       "      <td>12394.096380</td>\n",
       "    </tr>\n",
       "    <tr>\n",
       "      <th>46</th>\n",
       "      <td>37.671958</td>\n",
       "      <td>11986.797470</td>\n",
       "    </tr>\n",
       "    <tr>\n",
       "      <th>47</th>\n",
       "      <td>37.883598</td>\n",
       "      <td>11722.728300</td>\n",
       "    </tr>\n",
       "    <tr>\n",
       "      <th>48</th>\n",
       "      <td>38.095238</td>\n",
       "      <td>11211.914150</td>\n",
       "    </tr>\n",
       "    <tr>\n",
       "      <th>49</th>\n",
       "      <td>39.788360</td>\n",
       "      <td>11087.727140</td>\n",
       "    </tr>\n",
       "    <tr>\n",
       "      <th>50</th>\n",
       "      <td>41.269841</td>\n",
       "      <td>10964.915670</td>\n",
       "    </tr>\n",
       "    <tr>\n",
       "      <th>51</th>\n",
       "      <td>42.962963</td>\n",
       "      <td>10723.358560</td>\n",
       "    </tr>\n",
       "    <tr>\n",
       "      <th>52</th>\n",
       "      <td>44.232804</td>\n",
       "      <td>10487.122960</td>\n",
       "    </tr>\n",
       "    <tr>\n",
       "      <th>53</th>\n",
       "      <td>48.583186</td>\n",
       "      <td>9522.120346</td>\n",
       "    </tr>\n",
       "    <tr>\n",
       "      <th>54</th>\n",
       "      <td>50.229277</td>\n",
       "      <td>9073.447255</td>\n",
       "    </tr>\n",
       "    <tr>\n",
       "      <th>55</th>\n",
       "      <td>50.723104</td>\n",
       "      <td>8895.549731</td>\n",
       "    </tr>\n",
       "    <tr>\n",
       "      <th>56</th>\n",
       "      <td>52.204586</td>\n",
       "      <td>8007.331433</td>\n",
       "    </tr>\n",
       "    <tr>\n",
       "      <th>57</th>\n",
       "      <td>53.380364</td>\n",
       "      <td>6893.723843</td>\n",
       "    </tr>\n",
       "    <tr>\n",
       "      <th>58</th>\n",
       "      <td>54.673721</td>\n",
       "      <td>5725.762322</td>\n",
       "    </tr>\n",
       "    <tr>\n",
       "      <th>59</th>\n",
       "      <td>54.861846</td>\n",
       "      <td>5186.037841</td>\n",
       "    </tr>\n",
       "    <tr>\n",
       "      <th>60</th>\n",
       "      <td>55.097002</td>\n",
       "      <td>4249.158596</td>\n",
       "    </tr>\n",
       "    <tr>\n",
       "      <th>61</th>\n",
       "      <td>55.261611</td>\n",
       "      <td>3848.622425</td>\n",
       "    </tr>\n",
       "  </tbody>\n",
       "</table>\n",
       "<p>62 rows × 2 columns</p>\n",
       "</div>"
      ],
      "text/plain": [
       "    Speed (km)   Force (kgf)\n",
       "0     0.000000  85124.846100\n",
       "1     1.269841  84181.974090\n",
       "2     2.116402  81415.558050\n",
       "3     3.386243  75308.980180\n",
       "4     4.444444  69660.426470\n",
       "5     5.291005  63721.832620\n",
       "6     6.137566  58289.507510\n",
       "7     6.984127  52729.697590\n",
       "8     7.407407  50432.017810\n",
       "9     8.465608  49811.731730\n",
       "10    8.982951  48895.577950\n",
       "11    9.805996  46534.040820\n",
       "12   10.370370  43904.562710\n",
       "13   10.793651  41372.434300\n",
       "14   11.005291  39471.824240\n",
       "15   11.216931  36920.178720\n",
       "16   11.851852  36511.238150\n",
       "17   12.275132  36106.827140\n",
       "18   13.004115  35050.162540\n",
       "19   13.474427  34278.007420\n",
       "20   13.874192  33398.632820\n",
       "21   14.203410  32461.371820\n",
       "22   15.026455  29657.294330\n",
       "23   15.238095  28718.205310\n",
       "24   15.449735  27331.186050\n",
       "25   16.084656  27028.456450\n",
       "26   16.507937  26729.079990\n",
       "27   17.330982  26043.367020\n",
       "28   19.776602  23413.949310\n",
       "29   20.129336  22756.887040\n",
       "..         ...           ...\n",
       "32   21.375661  20232.668330\n",
       "33   22.433862  19786.942620\n",
       "34   24.126984  18924.732900\n",
       "35   25.396825  18100.093690\n",
       "36   27.231041  16701.106460\n",
       "37   27.654321  16292.804100\n",
       "38   27.889477  15796.434640\n",
       "39   28.148148  14977.793750\n",
       "40   29.417989  14811.894570\n",
       "41   30.264550  14647.832940\n",
       "42   32.169312  14166.470980\n",
       "43   34.074074  13549.171520\n",
       "44   35.978836  12815.234900\n",
       "45   37.037037  12394.096380\n",
       "46   37.671958  11986.797470\n",
       "47   37.883598  11722.728300\n",
       "48   38.095238  11211.914150\n",
       "49   39.788360  11087.727140\n",
       "50   41.269841  10964.915670\n",
       "51   42.962963  10723.358560\n",
       "52   44.232804  10487.122960\n",
       "53   48.583186   9522.120346\n",
       "54   50.229277   9073.447255\n",
       "55   50.723104   8895.549731\n",
       "56   52.204586   8007.331433\n",
       "57   53.380364   6893.723843\n",
       "58   54.673721   5725.762322\n",
       "59   54.861846   5186.037841\n",
       "60   55.097002   4249.158596\n",
       "61   55.261611   3848.622425\n",
       "\n",
       "[62 rows x 2 columns]"
      ]
     },
     "execution_count": 114,
     "metadata": {},
     "output_type": "execute_result"
    }
   ],
   "source": [
    "rimpulldata"
   ]
  },
  {
   "cell_type": "code",
   "execution_count": 151,
   "metadata": {
    "collapsed": true
   },
   "outputs": [],
   "source": [
    "def createtruckspec(truckid, trucktype, emptyweight, maxoperatingweight):\n",
    "    return({'truckid' : truckid, 'TruckType' : trucktype, 'EmptyWeight' : emptyweight, 'maxoperatingweight' : maxoperatingweight})"
   ]
  },
  {
   "cell_type": "code",
   "execution_count": 152,
   "metadata": {
    "collapsed": false
   },
   "outputs": [
    {
     "data": {
      "text/plain": [
       "{'EmptyWeight': 114114,\n",
       " 'TruckType': '789C',\n",
       " 'maxoperatingweight': 317514.85,\n",
       " 'truckid': 450}"
      ]
     },
     "execution_count": 152,
     "metadata": {},
     "output_type": "execute_result"
    }
   ],
   "source": [
    "createtruckspec(450, \"789C\", 114114, 317514.85)"
   ]
  },
  {
   "cell_type": "code",
   "execution_count": null,
   "metadata": {
    "collapsed": true
   },
   "outputs": [],
   "source": []
  },
  {
   "cell_type": "code",
   "execution_count": null,
   "metadata": {
    "collapsed": true
   },
   "outputs": [],
   "source": [
    "@app.route('/getruckspec')\n",
    "def getruckspec():\n",
    "    # give it truck id and returns back stats about that truck.\n",
    "    # todo: return back truck segment details also. \n",
    "    #localhost:5555/getruckspec?truckid=410\n",
    "    #returns back:\n",
    "    #{\"EmptyWeight\": 124114, \"MaxOperatingWeight\": 317514.85, \"TruckType\": \"789C\"}\n",
    "    truckid = request.args.get('truckid')\n",
    "    #truckid = request.args.get(\"truckid\")\n",
    "    \n",
    "    return(jsonify({'truckid' : truckid, 'EmptyWeight' : truckdicspec['EmptyWeight'][truckid],\n",
    "        'MaxOperatingWeight' : truckdicspec['MaxOperatingWeight'][truckid], 'TruckType' : truckdicspec['TruckType'][truckid]}))\n"
   ]
  },
  {
   "cell_type": "code",
   "execution_count": 104,
   "metadata": {
    "collapsed": true
   },
   "outputs": [],
   "source": [
    "with open('/home/wcmckee/rimpulldata.json', 'w') as rimwr:\n",
    "    rimwr.write(rimpulldata.to_json())"
   ]
  },
  {
   "cell_type": "code",
   "execution_count": 123,
   "metadata": {
    "collapsed": false
   },
   "outputs": [],
   "source": [
    "with open('/home/wcmckee/rimpulldata.json', 'r') as rimrd:\n",
    "    rimrda = (rimrd.read())"
   ]
  },
  {
   "cell_type": "code",
   "execution_count": 133,
   "metadata": {
    "collapsed": false
   },
   "outputs": [],
   "source": [
    "forjs = json.loads(rimrda)"
   ]
  },
  {
   "cell_type": "code",
   "execution_count": 135,
   "metadata": {
    "collapsed": false
   },
   "outputs": [
    {
     "data": {
      "text/plain": [
       "10.37037037"
      ]
     },
     "execution_count": 135,
     "metadata": {},
     "output_type": "execute_result"
    }
   ],
   "source": [
    "forjs['Speed (km)']['12']"
   ]
  },
  {
   "cell_type": "code",
   "execution_count": 139,
   "metadata": {
    "collapsed": false
   },
   "outputs": [
    {
     "data": {
      "text/plain": [
       "43904.56271"
      ]
     },
     "execution_count": 139,
     "metadata": {},
     "output_type": "execute_result"
    }
   ],
   "source": [
    "forjs['Force (kgf)']['12']"
   ]
  },
  {
   "cell_type": "code",
   "execution_count": null,
   "metadata": {
    "collapsed": true
   },
   "outputs": [],
   "source": []
  },
  {
   "cell_type": "code",
   "execution_count": null,
   "metadata": {
    "collapsed": true
   },
   "outputs": [],
   "source": []
  },
  {
   "cell_type": "code",
   "execution_count": 145,
   "metadata": {
    "collapsed": true
   },
   "outputs": [],
   "source": [
    "def lookrimid(rimid):\n",
    "    \n",
    "    return({ 'speed' : forjs['Speed (km)'][str(rimid)], 'force' : forjs['Force (kgf)'][str(rimid)], 'id' : rimid})"
   ]
  },
  {
   "cell_type": "code",
   "execution_count": 146,
   "metadata": {
    "collapsed": false
   },
   "outputs": [
    {
     "data": {
      "text/plain": [
       "{'force': 43904.56271, 'id': 12, 'speed': 10.37037037}"
      ]
     },
     "execution_count": 146,
     "metadata": {},
     "output_type": "execute_result"
    }
   ],
   "source": [
    "lookrimid(12)"
   ]
  },
  {
   "cell_type": "code",
   "execution_count": 148,
   "metadata": {
    "collapsed": false
   },
   "outputs": [],
   "source": [
    "with open('/home/wcmckee/rimpulldata.json', 'r') as rimrd:\n",
    "    rimjsconv = (rimrd.read())\n",
    "          \n",
    "forjs = json.loads(rimjsconv)"
   ]
  },
  {
   "cell_type": "code",
   "execution_count": 150,
   "metadata": {
    "collapsed": false
   },
   "outputs": [
    {
     "data": {
      "text/plain": [
       "{'0': 85124.8461,\n",
       " '1': 84181.97409,\n",
       " '10': 48895.57795,\n",
       " '11': 46534.04082,\n",
       " '12': 43904.56271,\n",
       " '13': 41372.4343,\n",
       " '14': 39471.82424,\n",
       " '15': 36920.17872,\n",
       " '16': 36511.23815,\n",
       " '17': 36106.82714,\n",
       " '18': 35050.16254,\n",
       " '19': 34278.00742,\n",
       " '2': 81415.55805,\n",
       " '20': 33398.63282,\n",
       " '21': 32461.37182,\n",
       " '22': 29657.2943299999,\n",
       " '23': 28718.2053099999,\n",
       " '24': 27331.18605,\n",
       " '25': 27028.4564499999,\n",
       " '26': 26729.07999,\n",
       " '27': 26043.36702,\n",
       " '28': 23413.94931,\n",
       " '29': 22756.88704,\n",
       " '3': 75308.98018,\n",
       " '30': 22063.58565,\n",
       " '31': 20459.28236,\n",
       " '32': 20232.66833,\n",
       " '33': 19786.94262,\n",
       " '34': 18924.7329,\n",
       " '35': 18100.09369,\n",
       " '36': 16701.10646,\n",
       " '37': 16292.8041,\n",
       " '38': 15796.43464,\n",
       " '39': 14977.79375,\n",
       " '4': 69660.42647,\n",
       " '40': 14811.89457,\n",
       " '41': 14647.83294,\n",
       " '42': 14166.4709799999,\n",
       " '43': 13549.17152,\n",
       " '44': 12815.2349,\n",
       " '45': 12394.09638,\n",
       " '46': 11986.79747,\n",
       " '47': 11722.7283,\n",
       " '48': 11211.91415,\n",
       " '49': 11087.72714,\n",
       " '5': 63721.83262,\n",
       " '50': 10964.91567,\n",
       " '51': 10723.35856,\n",
       " '52': 10487.12296,\n",
       " '53': 9522.120346,\n",
       " '54': 9073.447255,\n",
       " '55': 8895.549731,\n",
       " '56': 8007.331433,\n",
       " '57': 6893.723843,\n",
       " '58': 5725.762322,\n",
       " '59': 5186.037841,\n",
       " '6': 58289.50751,\n",
       " '60': 4249.158596,\n",
       " '61': 3848.622425,\n",
       " '7': 52729.69759,\n",
       " '8': 50432.01781,\n",
       " '9': 49811.73173}"
      ]
     },
     "execution_count": 150,
     "metadata": {},
     "output_type": "execute_result"
    }
   ],
   "source": [
    "forjs['Force (kgf)']"
   ]
  },
  {
   "cell_type": "code",
   "execution_count": null,
   "metadata": {
    "collapsed": true
   },
   "outputs": [],
   "source": []
  },
  {
   "cell_type": "code",
   "execution_count": null,
   "metadata": {
    "collapsed": true
   },
   "outputs": [],
   "source": []
  },
  {
   "cell_type": "code",
   "execution_count": null,
   "metadata": {
    "collapsed": true
   },
   "outputs": [],
   "source": []
  },
  {
   "cell_type": "code",
   "execution_count": 137,
   "metadata": {
    "collapsed": false
   },
   "outputs": [
    {
     "data": {
      "text/plain": [
       "10.37037037"
      ]
     },
     "execution_count": 137,
     "metadata": {},
     "output_type": "execute_result"
    }
   ],
   "source": [
    "lookrimid(12)"
   ]
  },
  {
   "cell_type": "code",
   "execution_count": null,
   "metadata": {
    "collapsed": true
   },
   "outputs": [],
   "source": []
  },
  {
   "cell_type": "code",
   "execution_count": null,
   "metadata": {
    "collapsed": true
   },
   "outputs": [],
   "source": []
  },
  {
   "cell_type": "code",
   "execution_count": 129,
   "metadata": {
    "collapsed": false
   },
   "outputs": [
    {
     "name": "stdout",
     "output_type": "stream",
     "text": [
      "{'23': 15.23809524, '30': 20.36449148, '32': 21.37566138, '14': 11.00529101, '4': 4.444444444, '15': 11.21693122, '5': 5.291005291, '12': 10.37037037, '47': 37.88359788, '45': 37.03703704, '51': 42.96296296, '6': 6.137566138, '3': 3.386243386, '61': 55.26161082, '59': 54.86184597, '38': 27.88947678, '25': 16.08465608, '1': 1.26984127, '39': 28.14814815, '0': 0.0, '10': 8.982951205, '34': 24.12698413, '50': 41.26984127, '19': 13.47442681, '49': 39.78835979, '21': 14.20340976, '41': 30.26455026, '24': 15.44973545, '31': 20.74074074, '7': 6.984126984, '58': 54.67372134, '44': 35.97883598, '43': 34.07407407, '37': 27.65432099, '48': 38.0952381, '28': 19.776602, '57': 53.38036449, '53': 48.58318636, '55': 50.72310406, '11': 9.805996473, '20': 13.87419165, '2': 2.116402116, '46': 37.67195767, '35': 25.3968254, '27': 17.33098178, '60': 55.09700176, '26': 16.50793651, '8': 7.407407407, '36': 27.23104056, '54': 50.2292769, '16': 11.85185185, '56': 52.20458554, '18': 13.00411523, '29': 20.12933568, '9': 8.465608466, '33': 22.43386243, '22': 15.02645503, '13': 10.79365079, '52': 44.23280423, '40': 29.41798942, '42': 32.16931217, '17': 12.27513228}\n"
     ]
    }
   ],
   "source": [
    "print(forjs['Speed (km)'])"
   ]
  },
  {
   "cell_type": "code",
   "execution_count": null,
   "metadata": {
    "collapsed": true
   },
   "outputs": [],
   "source": []
  },
  {
   "cell_type": "code",
   "execution_count": null,
   "metadata": {
    "collapsed": true
   },
   "outputs": [],
   "source": []
  },
  {
   "cell_type": "code",
   "execution_count": 125,
   "metadata": {
    "collapsed": false
   },
   "outputs": [
    {
     "data": {
      "text/plain": [
       "'{\"Speed (km)\":{\"0\":0.0,\"1\":1.26984127,\"2\":2.116402116,\"3\":3.386243386,\"4\":4.444444444,\"5\":5.291005291,\"6\":6.137566138,\"7\":6.984126984,\"8\":7.407407407,\"9\":8.465608466,\"10\":8.982951205,\"11\":9.805996473,\"12\":10.37037037,\"13\":10.79365079,\"14\":11.00529101,\"15\":11.21693122,\"16\":11.85185185,\"17\":12.27513228,\"18\":13.00411523,\"19\":13.47442681,\"20\":13.87419165,\"21\":14.20340976,\"22\":15.02645503,\"23\":15.23809524,\"24\":15.44973545,\"25\":16.08465608,\"26\":16.50793651,\"27\":17.33098178,\"28\":19.776602,\"29\":20.12933568,\"30\":20.36449148,\"31\":20.74074074,\"32\":21.37566138,\"33\":22.43386243,\"34\":24.12698413,\"35\":25.3968254,\"36\":27.23104056,\"37\":27.65432099,\"38\":27.88947678,\"39\":28.14814815,\"40\":29.41798942,\"41\":30.26455026,\"42\":32.16931217,\"43\":34.07407407,\"44\":35.97883598,\"45\":37.03703704,\"46\":37.67195767,\"47\":37.88359788,\"48\":38.0952381,\"49\":39.78835979,\"50\":41.26984127,\"51\":42.96296296,\"52\":44.23280423,\"53\":48.58318636,\"54\":50.2292769,\"55\":50.72310406,\"56\":52.20458554,\"57\":53.38036449,\"58\":54.67372134,\"59\":54.86184597,\"60\":55.09700176,\"61\":55.26161082},\"Force (kgf)\":{\"0\":85124.8461,\"1\":84181.97409,\"2\":81415.55805,\"3\":75308.98018,\"4\":69660.42647,\"5\":63721.83262,\"6\":58289.50751,\"7\":52729.69759,\"8\":50432.01781,\"9\":49811.73173,\"10\":48895.57795,\"11\":46534.04082,\"12\":43904.56271,\"13\":41372.4343,\"14\":39471.82424,\"15\":36920.17872,\"16\":36511.23815,\"17\":36106.82714,\"18\":35050.16254,\"19\":34278.00742,\"20\":33398.63282,\"21\":32461.37182,\"22\":29657.2943299999,\"23\":28718.2053099999,\"24\":27331.18605,\"25\":27028.4564499999,\"26\":26729.07999,\"27\":26043.36702,\"28\":23413.94931,\"29\":22756.88704,\"30\":22063.58565,\"31\":20459.28236,\"32\":20232.66833,\"33\":19786.94262,\"34\":18924.7329,\"35\":18100.09369,\"36\":16701.10646,\"37\":16292.8041,\"38\":15796.43464,\"39\":14977.79375,\"40\":14811.89457,\"41\":14647.83294,\"42\":14166.4709799999,\"43\":13549.17152,\"44\":12815.2349,\"45\":12394.09638,\"46\":11986.79747,\"47\":11722.7283,\"48\":11211.91415,\"49\":11087.72714,\"50\":10964.91567,\"51\":10723.35856,\"52\":10487.12296,\"53\":9522.120346,\"54\":9073.447255,\"55\":8895.549731,\"56\":8007.331433,\"57\":6893.723843,\"58\":5725.762322,\"59\":5186.037841,\"60\":4249.158596,\"61\":3848.622425}}'"
      ]
     },
     "execution_count": 125,
     "metadata": {},
     "output_type": "execute_result"
    }
   ],
   "source": [
    "rimrda"
   ]
  },
  {
   "cell_type": "code",
   "execution_count": null,
   "metadata": {
    "collapsed": true
   },
   "outputs": [],
   "source": []
  },
  {
   "cell_type": "code",
   "execution_count": null,
   "metadata": {
    "collapsed": true
   },
   "outputs": [],
   "source": []
  },
  {
   "cell_type": "code",
   "execution_count": null,
   "metadata": {
    "collapsed": true
   },
   "outputs": [],
   "source": []
  },
  {
   "cell_type": "code",
   "execution_count": 121,
   "metadata": {
    "collapsed": false
   },
   "outputs": [
    {
     "name": "stdout",
     "output_type": "stream",
     "text": [
      "['60 km/h' nan]\n",
      "['15.7 km/h' 'Locked in 2nd gear']\n",
      "['28.7 km/h ' 'Locked in 4th gear']\n",
      "['35 tonnes' nan]\n",
      "['33.8 sec' 'Time taken to load a bucket']\n",
      "['30 sec' 'Time to load first bucket']\n",
      "['30 sec' 'Time taken to reverse under a loader']\n",
      "['45 sec' nan]\n"
     ]
    }
   ],
   "source": [
    "for putf in pitconf.values:\n",
    "    print(putf)"
   ]
  },
  {
   "cell_type": "code",
   "execution_count": null,
   "metadata": {
    "collapsed": true
   },
   "outputs": [],
   "source": []
  },
  {
   "cell_type": "code",
   "execution_count": 118,
   "metadata": {
    "collapsed": false
   },
   "outputs": [
    {
     "name": "stdout",
     "output_type": "stream",
     "text": [
      "                                      Value  \\\n",
      "Parameter                                     \n",
      "Max Speed Limit                     60 km/h   \n",
      "Downhill Speed Limit - Loaded     15.7 km/h   \n",
      "Downhill Speed Limit - Unloaded  28.7 km/h    \n",
      "Loader bucket capacity            35 tonnes   \n",
      "Loader cycle time                  33.8 sec   \n",
      "First loader pass                    30 sec   \n",
      "Truck spot time at loader            30 sec   \n",
      "Dump time                            45 sec   \n",
      "\n",
      "                                                             Comments  \n",
      "Parameter                                                              \n",
      "Max Speed Limit                                                   NaN  \n",
      "Downhill Speed Limit - Loaded                      Locked in 2nd gear  \n",
      "Downhill Speed Limit - Unloaded                    Locked in 4th gear  \n",
      "Loader bucket capacity                                            NaN  \n",
      "Loader cycle time                         Time taken to load a bucket  \n",
      "First loader pass                           Time to load first bucket  \n",
      "Truck spot time at loader        Time taken to reverse under a loader  \n",
      "Dump time                                                         NaN  \n"
     ]
    }
   ],
   "source": [
    "print(pitconf)"
   ]
  },
  {
   "cell_type": "code",
   "execution_count": null,
   "metadata": {
    "collapsed": true
   },
   "outputs": [],
   "source": []
  },
  {
   "cell_type": "code",
   "execution_count": 95,
   "metadata": {
    "collapsed": true
   },
   "outputs": [],
   "source": [
    "import json"
   ]
  },
  {
   "cell_type": "code",
   "execution_count": null,
   "metadata": {
    "collapsed": true
   },
   "outputs": [],
   "source": []
  },
  {
   "cell_type": "code",
   "execution_count": 96,
   "metadata": {
    "collapsed": false
   },
   "outputs": [],
   "source": [
    "with open('/home/wcmckee/pitconfig.json', 'w') as pitw:\n",
    "    pitw.write(pitconf.to_json())"
   ]
  },
  {
   "cell_type": "code",
   "execution_count": 97,
   "metadata": {
    "collapsed": true
   },
   "outputs": [],
   "source": [
    "with open('/home/wcmckee/pitconfig.json', 'r') as pitr:\n",
    "    pitjs = pitr.read()\n",
    "    pitlo = json.loads(pitjs)\n",
    "    "
   ]
  },
  {
   "cell_type": "code",
   "execution_count": 98,
   "metadata": {
    "collapsed": false
   },
   "outputs": [
    {
     "name": "stdout",
     "output_type": "stream",
     "text": [
      "{'Comments': {'Downhill Speed Limit - Loaded': 'Locked in 2nd gear', 'Downhill Speed Limit - Unloaded': 'Locked in 4th gear', 'Dump time': None, 'First loader pass': 'Time to load first bucket', 'Truck spot time at loader': 'Time taken to reverse under a loader', 'Max Speed Limit': None, 'Loader bucket capacity': None, 'Loader cycle time': 'Time taken to load a bucket'}, 'Value': {'Downhill Speed Limit - Loaded': '15.7 km/h', 'Downhill Speed Limit - Unloaded': '28.7 km/h ', 'Dump time': '45 sec', 'First loader pass': '30 sec', 'Truck spot time at loader': '30 sec', 'Max Speed Limit': '60 km/h', 'Loader bucket capacity': '35 tonnes', 'Loader cycle time': '33.8 sec'}}\n"
     ]
    }
   ],
   "source": [
    "print(pitlo)"
   ]
  },
  {
   "cell_type": "code",
   "execution_count": 88,
   "metadata": {
    "collapsed": false
   },
   "outputs": [
    {
     "data": {
      "text/plain": [
       "dict_keys(['Comments', 'Value', 'Parameter'])"
      ]
     },
     "execution_count": 88,
     "metadata": {},
     "output_type": "execute_result"
    }
   ],
   "source": [
    "pitlo.keys()"
   ]
  },
  {
   "cell_type": "code",
   "execution_count": 92,
   "metadata": {
    "collapsed": false
   },
   "outputs": [
    {
     "name": "stdout",
     "output_type": "stream",
     "text": [
      "Locked in 2nd gear\n",
      "15.7 km/h\n",
      "Downhill Speed Limit - Loaded\n"
     ]
    }
   ],
   "source": [
    "for pitl in pitlo.values():\n",
    "    print(pitl['1'])"
   ]
  },
  {
   "cell_type": "code",
   "execution_count": null,
   "metadata": {
    "collapsed": true
   },
   "outputs": [],
   "source": []
  },
  {
   "cell_type": "code",
   "execution_count": null,
   "metadata": {
    "collapsed": true
   },
   "outputs": [],
   "source": []
  },
  {
   "cell_type": "code",
   "execution_count": null,
   "metadata": {
    "collapsed": true
   },
   "outputs": [],
   "source": []
  },
  {
   "cell_type": "code",
   "execution_count": null,
   "metadata": {
    "collapsed": false,
    "scrolled": true
   },
   "outputs": [],
   "source": [
    "truk= pandas.read_excel('/home/wcmckee/data/Truck_Spec.xlsx', index_col='Truckid')"
   ]
  },
  {
   "cell_type": "code",
   "execution_count": null,
   "metadata": {
    "collapsed": true,
    "scrolled": true
   },
   "outputs": [],
   "source": []
  },
  {
   "cell_type": "code",
   "execution_count": null,
   "metadata": {
    "collapsed": false,
    "scrolled": true
   },
   "outputs": [],
   "source": [
    "print(truk)"
   ]
  },
  {
   "cell_type": "code",
   "execution_count": null,
   "metadata": {
    "collapsed": true,
    "scrolled": true
   },
   "outputs": [],
   "source": [
    "with open('/home/wcmckee/truckspec.json', 'w') as truc:\n",
    "    truc.write(truk.to_json())"
   ]
  },
  {
   "cell_type": "code",
   "execution_count": null,
   "metadata": {
    "collapsed": false,
    "scrolled": true
   },
   "outputs": [],
   "source": [
    "cat /home/wcmckee/truckspec.json"
   ]
  },
  {
   "cell_type": "code",
   "execution_count": null,
   "metadata": {
    "collapsed": false,
    "scrolled": true
   },
   "outputs": [],
   "source": [
    "with open('/home/wcmckee/truckspec.json', 'r') as truatm:\n",
    "    tread = truatm.read()\n",
    "    #print(truatm.read())"
   ]
  },
  {
   "cell_type": "code",
   "execution_count": null,
   "metadata": {
    "collapsed": false,
    "scrolled": true
   },
   "outputs": [],
   "source": [
    "truckdicspec = json.loads(tread)"
   ]
  },
  {
   "cell_type": "code",
   "execution_count": null,
   "metadata": {
    "collapsed": true,
    "scrolled": true
   },
   "outputs": [],
   "source": []
  },
  {
   "cell_type": "code",
   "execution_count": null,
   "metadata": {
    "collapsed": false,
    "scrolled": true
   },
   "outputs": [],
   "source": [
    "truckdicspec"
   ]
  },
  {
   "cell_type": "code",
   "execution_count": null,
   "metadata": {
    "collapsed": false,
    "scrolled": true
   },
   "outputs": [],
   "source": [
    "truckdicspec['TruckType']['418']"
   ]
  },
  {
   "cell_type": "code",
   "execution_count": null,
   "metadata": {
    "collapsed": false,
    "scrolled": true
   },
   "outputs": [],
   "source": [
    "def gettruck(truckid):\n",
    "           with open('/home/wcmckee/truckspec.json', 'r') as truatm:\n",
    "               tread = truatm.read()\n",
    "           truckdicspec = json.loads(tread)\n",
    "           return({'EmptyWeight' : truckdicspec['EmptyWeight'][truckid],\n",
    "        'MaxOperatingWeight' : truckdicspec['MaxOperatingWeight'][truckid], 'TruckType' : truckdicspec['TruckType'][truckid]})"
   ]
  },
  {
   "cell_type": "code",
   "execution_count": null,
   "metadata": {
    "collapsed": false,
    "scrolled": true
   },
   "outputs": [],
   "source": [
    "gettruck('410')"
   ]
  },
  {
   "cell_type": "code",
   "execution_count": null,
   "metadata": {
    "collapsed": true,
    "scrolled": true
   },
   "outputs": [],
   "source": [
    "import json"
   ]
  },
  {
   "cell_type": "code",
   "execution_count": null,
   "metadata": {
    "collapsed": false,
    "scrolled": true
   },
   "outputs": [],
   "source": [
    "tred = json.loads(trurd.read())"
   ]
  },
  {
   "cell_type": "code",
   "execution_count": null,
   "metadata": {
    "collapsed": true,
    "scrolled": true
   },
   "outputs": [],
   "source": [
    "#create database of trucks from existing file. \n"
   ]
  },
  {
   "cell_type": "code",
   "execution_count": null,
   "metadata": {
    "collapsed": true,
    "scrolled": true
   },
   "outputs": [],
   "source": [
    "somedict = dict()"
   ]
  },
  {
   "cell_type": "code",
   "execution_count": null,
   "metadata": {
    "collapsed": false,
    "scrolled": true
   },
   "outputs": [],
   "source": [
    "somedict.update({truk['Truck ID'] : dict({'test' : 'this is test'})})"
   ]
  },
  {
   "cell_type": "code",
   "execution_count": null,
   "metadata": {
    "collapsed": true,
    "scrolled": true
   },
   "outputs": [],
   "source": []
  },
  {
   "cell_type": "code",
   "execution_count": null,
   "metadata": {
    "collapsed": false,
    "scrolled": true
   },
   "outputs": [],
   "source": [
    "for truk['Truck ID'] in truk:\n",
    "    print(truk['Truck ID'])"
   ]
  },
  {
   "cell_type": "code",
   "execution_count": null,
   "metadata": {
    "collapsed": true,
    "scrolled": true
   },
   "outputs": [],
   "source": []
  },
  {
   "cell_type": "code",
   "execution_count": null,
   "metadata": {
    "collapsed": true,
    "scrolled": true
   },
   "outputs": [],
   "source": []
  },
  {
   "cell_type": "code",
   "execution_count": null,
   "metadata": {
    "collapsed": false,
    "scrolled": true
   },
   "outputs": [],
   "source": [
    "truk.values"
   ]
  },
  {
   "cell_type": "code",
   "execution_count": null,
   "metadata": {
    "collapsed": false,
    "scrolled": true
   },
   "outputs": [],
   "source": [
    "truk.keys()\n"
   ]
  },
  {
   "cell_type": "code",
   "execution_count": null,
   "metadata": {
    "collapsed": true,
    "scrolled": true
   },
   "outputs": [],
   "source": []
  },
  {
   "cell_type": "code",
   "execution_count": null,
   "metadata": {
    "collapsed": true,
    "scrolled": true
   },
   "outputs": [],
   "source": []
  },
  {
   "cell_type": "code",
   "execution_count": null,
   "metadata": {
    "collapsed": true,
    "scrolled": true
   },
   "outputs": [],
   "source": []
  },
  {
   "cell_type": "code",
   "execution_count": null,
   "metadata": {
    "collapsed": false,
    "scrolled": true
   },
   "outputs": [],
   "source": [
    "with open('/home/wcmckee/truckspec.json', 'r') as trurd:\n",
    "    #print(trurd.read())\n",
    "    tred = json.loads(trurd.read())\n",
    "    print(tred)\n",
    "    "
   ]
  },
  {
   "cell_type": "code",
   "execution_count": null,
   "metadata": {
    "collapsed": true,
    "scrolled": true
   },
   "outputs": [],
   "source": [
    "import sqlite3"
   ]
  },
  {
   "cell_type": "code",
   "execution_count": null,
   "metadata": {
    "collapsed": true,
    "scrolled": true
   },
   "outputs": [],
   "source": [
    "connid = sqlite3.connect('identity.db')"
   ]
  },
  {
   "cell_type": "code",
   "execution_count": null,
   "metadata": {
    "collapsed": false,
    "scrolled": true
   },
   "outputs": [],
   "source": [
    "connid"
   ]
  },
  {
   "cell_type": "code",
   "execution_count": null,
   "metadata": {
    "collapsed": true,
    "scrolled": true
   },
   "outputs": [],
   "source": [
    "c = connid.cursor()\n"
   ]
  },
  {
   "cell_type": "code",
   "execution_count": null,
   "metadata": {
    "collapsed": true,
    "scrolled": true
   },
   "outputs": [],
   "source": [
    "def createdb(nameofdb):\n",
    "    connid = sqlite3.connect('{}.db'.format(nameofdb))\n",
    "    c.execute('''CREATE TABLE truckspec\n",
    "             (truckid, trucktype, emptyweight, maxgrossoperatingweight)''')\n",
    "\n",
    "    c = connid.cursor()\n",
    "    \n",
    "    c.close()\n",
    "\n",
    "    return(nameofdb)"
   ]
  },
  {
   "cell_type": "code",
   "execution_count": null,
   "metadata": {
    "collapsed": false,
    "scrolled": true
   },
   "outputs": [],
   "source": [
    "createdb('testing')"
   ]
  },
  {
   "cell_type": "code",
   "execution_count": null,
   "metadata": {
    "collapsed": true,
    "scrolled": true
   },
   "outputs": [],
   "source": []
  },
  {
   "cell_type": "code",
   "execution_count": null,
   "metadata": {
    "collapsed": false,
    "scrolled": true
   },
   "outputs": [],
   "source": [
    "createdb('truckspec')"
   ]
  },
  {
   "cell_type": "code",
   "execution_count": null,
   "metadata": {
    "collapsed": true,
    "scrolled": true
   },
   "outputs": [],
   "source": []
  },
  {
   "cell_type": "code",
   "execution_count": null,
   "metadata": {
    "collapsed": false,
    "scrolled": true
   },
   "outputs": [],
   "source": [
    "c.execute('''CREATE TABLE truckspec\n",
    "             (truckid, trucktype, emptyweight, maxgrossoperatingweight)''')\n"
   ]
  },
  {
   "cell_type": "code",
   "execution_count": null,
   "metadata": {
    "collapsed": false,
    "scrolled": true
   },
   "outputs": [],
   "source": [
    "def createtruk(truckid, trucktype, emptyweight, maxgrossoperatingweight):\n",
    "    connid = sqlite3.connect('truckspec.db')\n",
    "    c = connid.cursor()\n",
    "    c.execute(\"INSERT INTO truckspec VALUES ('{}','{}','{}', '{}')\".format(truckid, trucktype, emptyweight, maxgrossoperatingweight))\n",
    "    connid.commit()\n",
    "    connid.close()\n",
    "\n",
    "    return({truckid : dict({'trucktype' : trucktype, 'emptyweight' : emptyweight,\n",
    "                           'maxgrossoperatingweight' : maxgrossoperatingweight})})"
   ]
  },
  {
   "cell_type": "code",
   "execution_count": null,
   "metadata": {
    "collapsed": true,
    "scrolled": true
   },
   "outputs": [],
   "source": [
    "def select_all_tasks():\n",
    "    \"\"\"\n",
    "    Query all rows in the tasks table\n",
    "    :param conn: the Connection object\n",
    "    :return:\n",
    "    \"\"\"\n",
    "    connid = sqlite3.connect('truckspec.db')\n",
    "\n",
    "    cur = connid.cursor()\n",
    "    cur.execute(\"SELECT * truckspec;\")\n",
    " \n",
    "    rows = cur.fetchall()\n",
    " \n",
    "    for row in rows:\n",
    "        print(row)"
   ]
  },
  {
   "cell_type": "code",
   "execution_count": null,
   "metadata": {
    "collapsed": false,
    "scrolled": true
   },
   "outputs": [],
   "source": [
    "select_all_tasks()"
   ]
  },
  {
   "cell_type": "code",
   "execution_count": null,
   "metadata": {
    "collapsed": true,
    "scrolled": true
   },
   "outputs": [],
   "source": []
  },
  {
   "cell_type": "code",
   "execution_count": null,
   "metadata": {
    "collapsed": true,
    "scrolled": true
   },
   "outputs": [],
   "source": []
  },
  {
   "cell_type": "code",
   "execution_count": null,
   "metadata": {
    "collapsed": false,
    "scrolled": true
   },
   "outputs": [],
   "source": [
    "createtruk(420, '789C', 124114, 317514.85)"
   ]
  },
  {
   "cell_type": "code",
   "execution_count": null,
   "metadata": {
    "collapsed": false,
    "scrolled": true
   },
   "outputs": [],
   "source": [
    "createtruk(421, '789C', 114114, 317514.85)"
   ]
  },
  {
   "cell_type": "code",
   "execution_count": null,
   "metadata": {
    "collapsed": false,
    "scrolled": true
   },
   "outputs": [],
   "source": [
    "cat /home/wcmckee/truckspec.json"
   ]
  },
  {
   "cell_type": "code",
   "execution_count": null,
   "metadata": {
    "collapsed": false,
    "scrolled": true
   },
   "outputs": [],
   "source": [
    "truk.to_json()"
   ]
  },
  {
   "cell_type": "code",
   "execution_count": null,
   "metadata": {
    "collapsed": false,
    "scrolled": true
   },
   "outputs": [],
   "source": [
    "truk.sort_values(by='Truck ID')"
   ]
  },
  {
   "cell_type": "markdown",
   "metadata": {},
   "source": [
    "an api on truck spec\n",
    "\n",
    "{401 : dict({'type' : '789c', 'emptyweight' : 124114, 'maxweight' : 317514.85})}"
   ]
  },
  {
   "cell_type": "code",
   "execution_count": null,
   "metadata": {
    "collapsed": false,
    "scrolled": true
   },
   "outputs": [],
   "source": [
    "forohon = ({401 : dict({'type' : '789c', 'emptyweight' : 124114, 'maxweight' : 317514.85})})"
   ]
  },
  {
   "cell_type": "code",
   "execution_count": null,
   "metadata": {
    "collapsed": false,
    "scrolled": true
   },
   "outputs": [],
   "source": [
    "forohon"
   ]
  },
  {
   "cell_type": "code",
   "execution_count": null,
   "metadata": {
    "collapsed": false,
    "scrolled": true
   },
   "outputs": [],
   "source": [
    "tru.loc[tru['Truck'] == 'TRH404']"
   ]
  },
  {
   "cell_type": "code",
   "execution_count": null,
   "metadata": {
    "collapsed": false,
    "scrolled": true
   },
   "outputs": [],
   "source": [
    "tulo = tru.loc('TRH404')"
   ]
  },
  {
   "cell_type": "code",
   "execution_count": null,
   "metadata": {
    "collapsed": false,
    "scrolled": true
   },
   "outputs": [],
   "source": [
    "tulo.name"
   ]
  },
  {
   "cell_type": "code",
   "execution_count": null,
   "metadata": {
    "collapsed": false,
    "scrolled": true
   },
   "outputs": [],
   "source": [
    "print(tulo())"
   ]
  },
  {
   "cell_type": "code",
   "execution_count": null,
   "metadata": {
    "collapsed": false,
    "scrolled": true
   },
   "outputs": [],
   "source": [
    "roadsegdata = {'Road-segment-data' : dict({'Truck' : 'ID of the 16 CAT trucks', \n",
    "                             'Description - CR' : 'Grade the truck needs to climb',\n",
    "                            'Payload' : 'Weight in kg excluding truck weight.',\n",
    "                            'Start velocity' : 'Force the truck starts the grade in km/hr.',\n",
    "                            'End velocity' : 'Force the truck exits the grade in km/hr.',\n",
    "                            'EfhLength' : 'Not valid as it is an old measure of distance.', \n",
    "                            'Target duration' : 'Optimal time for the truck to cover the grade in seconds.', \n",
    "                            'Duration calculated' : 'Actual time for the truck to cover the grade in seconds.',\n",
    "                            'Slope length' : 'Slope length(curvature distance) in meters.',\n",
    "                            'Rise height' : 'Measure of the slope in meters.',\n",
    "                            'StartWayPoint X,Y,Z' : 'Starting location of the grade',\n",
    "                            'EndWayPoint X,Y,Z' : 'Ending location of the grade.'})}"
   ]
  },
  {
   "cell_type": "code",
   "execution_count": null,
   "metadata": {
    "collapsed": false,
    "scrolled": true
   },
   "outputs": [],
   "source": [
    "print(roadsegdata)"
   ]
  },
  {
   "cell_type": "code",
   "execution_count": null,
   "metadata": {
    "collapsed": false,
    "scrolled": true
   },
   "outputs": [],
   "source": [
    "truckcycledict = {'Truck cycle' : dict({'Date' : 'Date the data was recorded.', \n",
    "                       'Source stage' : 'Stage the truck starts from.',\n",
    "                      'Source bench' : 'Bench the truck starts from.',\n",
    "                      'Destination name' : 'Unloading dump.', \n",
    "                      'Truck' : 'ID of the 16 CAT trucks',\n",
    "                      'Travelling empty duration' : 'Travelling time in seconds when the truck is empty. (return time duration',\n",
    "                      'Travelling full duration' : 'Travelling time in seconds when the truck is loaded.',\n",
    "                      'Payload' : 'Weight in kg excluding truck weight.',\n",
    "                      'Full slope length' : 'Distance in meters from bench to dump location.',\n",
    "                      'Empty slope length' : 'Return distance in meters.',\n",
    "                      'Inpit ramp length' : 'Distance from the bench to the exit of the pit in meters.', \n",
    "                     'Inpit ramp grade' : 'Inclination angle of the in-pit grade in %',\n",
    "                      'Dump ramp length' : 'Distance from the exit of pit to the dump location.', \n",
    "                      'Dump ramp grade' : 'Inclination angle after the exit of pit to the dump location in %.'})}"
   ]
  },
  {
   "cell_type": "code",
   "execution_count": null,
   "metadata": {
    "collapsed": false,
    "scrolled": true
   },
   "outputs": [],
   "source": [
    "trucyc = truckcycledict['Truck cycle']"
   ]
  },
  {
   "cell_type": "code",
   "execution_count": null,
   "metadata": {
    "collapsed": false,
    "scrolled": true
   },
   "outputs": [],
   "source": [
    "print(trucyc)"
   ]
  },
  {
   "cell_type": "code",
   "execution_count": null,
   "metadata": {
    "collapsed": false,
    "scrolled": true
   },
   "outputs": [],
   "source": [
    "for truc in trucyc:\n",
    "    print(truc)"
   ]
  },
  {
   "cell_type": "code",
   "execution_count": null,
   "metadata": {
    "collapsed": false,
    "scrolled": true
   },
   "outputs": [],
   "source": [
    "truckcycledict.update(roadsegdata)"
   ]
  },
  {
   "cell_type": "code",
   "execution_count": null,
   "metadata": {
    "collapsed": false,
    "scrolled": true
   },
   "outputs": [],
   "source": [
    "truckcy = json.dumps(truckcycledict)"
   ]
  },
  {
   "cell_type": "code",
   "execution_count": null,
   "metadata": {
    "collapsed": false,
    "scrolled": true
   },
   "outputs": [],
   "source": [
    "with open('/home/wcmckee/truckscycroad.json', 'w') as t:\n",
    "    t.write(truckcy)"
   ]
  },
  {
   "cell_type": "code",
   "execution_count": null,
   "metadata": {
    "collapsed": true,
    "scrolled": true
   },
   "outputs": [],
   "source": []
  },
  {
   "cell_type": "code",
   "execution_count": 159,
   "metadata": {
    "collapsed": false,
    "scrolled": true
   },
   "outputs": [],
   "source": [
    "with open('/home/wcmckee/truckscycroad.json', 'r') as r:\n",
    "    #print(r.read())\n",
    "    decjs = json.loads(r.read())"
   ]
  },
  {
   "cell_type": "code",
   "execution_count": null,
   "metadata": {
    "collapsed": false,
    "scrolled": true
   },
   "outputs": [],
   "source": [
    "print({410 : dict({'Truck' : 410, 'Payload' : 100, })})"
   ]
  },
  {
   "cell_type": "code",
   "execution_count": 160,
   "metadata": {
    "collapsed": false,
    "scrolled": true
   },
   "outputs": [
    {
     "name": "stdout",
     "output_type": "stream",
     "text": [
      "{'Target duration': 'Optimal time for the truck to cover the grade in seconds.', 'Truck': 'ID of the 16 CAT trucks', 'End velocity': 'Force the truck exits the grade in km/hr.', 'Duration calculated': 'Actual time for the truck to cover the grade in seconds.', 'Payload': 'Weight in kg excluding truck weight.', 'StartWayPoint X,Y,Z': 'Starting location of the grade', 'Description - CR': 'Grade the truck needs to climb', 'Rise height': 'Measure of the slope in meters.', 'EndWayPoint X,Y,Z': 'Ending location of the grade.', 'Start velocity': 'Force the truck starts the grade in km/hr.', 'EfhLength': 'Not valid as it is an old measure of distance.', 'Slope length': 'Slope length(curvature distance) in meters.'}\n"
     ]
    }
   ],
   "source": [
    "print(decjs['Road-segment-data'])"
   ]
  },
  {
   "cell_type": "code",
   "execution_count": 161,
   "metadata": {
    "collapsed": false,
    "scrolled": true
   },
   "outputs": [
    {
     "name": "stdout",
     "output_type": "stream",
     "text": [
      "{'Travelling full duration': 'Travelling time in seconds when the truck is loaded.', 'Inpit ramp length': 'Distance from the bench to the exit of the pit in meters.', 'Truck': 'ID of the 16 CAT trucks', 'Destination name': 'Unloading dump.', 'Empty slope length': 'Return distance in meters.', 'Date': 'Date the data was recorded.', 'Dump ramp length': 'Distance from the exit of pit to the dump location.', 'Payload': 'Weight in kg excluding truck weight.', 'Full slope length': 'Distance in meters from bench to dump location.', 'Dump ramp grade': 'Inclination angle after the exit of pit to the dump location in %.', 'Inpit ramp grade': 'Inclination angle of the in-pit grade in %', 'Source bench': 'Bench the truck starts from.', 'Travelling empty duration': 'Travelling time in seconds when the truck is empty. (return time duration', 'Source stage': 'Stage the truck starts from.'}\n"
     ]
    }
   ],
   "source": [
    "print(decjs['Truck cycle'])"
   ]
  },
  {
   "cell_type": "code",
   "execution_count": null,
   "metadata": {
    "collapsed": false,
    "scrolled": true
   },
   "outputs": [],
   "source": [
    "cat /home/wcmckee/truckscycroad.json"
   ]
  },
  {
   "cell_type": "code",
   "execution_count": null,
   "metadata": {
    "collapsed": false,
    "scrolled": true
   },
   "outputs": [],
   "source": [
    "for trucy in truckcycledict['Road-segment-data']:\n",
    "    print({trucy : dict({'example' : 'l33t', 'Description' : 'this is an example'})})\n",
    "    \n",
    "    "
   ]
  },
  {
   "cell_type": "code",
   "execution_count": null,
   "metadata": {
    "collapsed": true,
    "scrolled": true
   },
   "outputs": [],
   "source": [
    "def createlocation(truck, longitude, latitude):\n",
    "    return({'truck' : truck, 'longitude' : longitude, 'latitude' : latitude})"
   ]
  },
  {
   "cell_type": "code",
   "execution_count": null,
   "metadata": {
    "collapsed": true,
    "scrolled": true
   },
   "outputs": [],
   "source": [
    "import pandas"
   ]
  },
  {
   "cell_type": "code",
   "execution_count": null,
   "metadata": {
    "collapsed": false,
    "scrolled": true
   },
   "outputs": [],
   "source": [
    "descri = pandas.read_excel('/home/wcmckee/data/Road Segment Data.xlsx')"
   ]
  },
  {
   "cell_type": "code",
   "execution_count": null,
   "metadata": {
    "collapsed": false,
    "scrolled": true
   },
   "outputs": [],
   "source": [
    "dropcol = descri.drop('Unnamed: 0', axis=1)"
   ]
  },
  {
   "cell_type": "code",
   "execution_count": null,
   "metadata": {
    "collapsed": false,
    "scrolled": false
   },
   "outputs": [],
   "source": [
    "with open('/home/wcmckee/roadsegdatatest.json', 'w') as roaddrop:\n",
    "    roaddrop.write(dropcol.to_json())"
   ]
  },
  {
   "cell_type": "code",
   "execution_count": null,
   "metadata": {
    "collapsed": false,
    "scrolled": false
   },
   "outputs": [],
   "source": [
    "with open('/home/wcmckee/roadsegdatatest.json', 'r') as roard:\n",
    "    roadjsconv = roard.read()"
   ]
  },
  {
   "cell_type": "code",
   "execution_count": null,
   "metadata": {
    "collapsed": true,
    "scrolled": true
   },
   "outputs": [],
   "source": [
    "import json"
   ]
  },
  {
   "cell_type": "code",
   "execution_count": null,
   "metadata": {
    "collapsed": false,
    "scrolled": true
   },
   "outputs": [],
   "source": [
    "roadjslod = json.loads(roadjsconv)"
   ]
  },
  {
   "cell_type": "code",
   "execution_count": null,
   "metadata": {
    "collapsed": true,
    "scrolled": true
   },
   "outputs": [],
   "source": [
    "import getpass"
   ]
  },
  {
   "cell_type": "code",
   "execution_count": null,
   "metadata": {
    "collapsed": false,
    "scrolled": true
   },
   "outputs": [],
   "source": [
    "getpass.getuser()"
   ]
  },
  {
   "cell_type": "code",
   "execution_count": null,
   "metadata": {
    "collapsed": true,
    "scrolled": true
   },
   "outputs": [],
   "source": []
  },
  {
   "cell_type": "code",
   "execution_count": null,
   "metadata": {
    "collapsed": false,
    "scrolled": false
   },
   "outputs": [],
   "source": [
    "for paka in roadjslod.keys():\n",
    "    print(roadjslod[paka]['127'])"
   ]
  },
  {
   "cell_type": "code",
   "execution_count": null,
   "metadata": {
    "collapsed": false,
    "scrolled": true
   },
   "outputs": [],
   "source": [
    "startdict ={'StartWaypoint' : dict({'x' : int(samptru['StartWaypointCoordsX']), \n",
    "                         'y' : int(samptru['StartWaypointCoordsY']), \n",
    "                         'z' : int(samptru['StartWaypointCoordsZ']),\n",
    "                        'velocity' : int(samptru['StartVelocity'])})}"
   ]
  },
  {
   "cell_type": "code",
   "execution_count": null,
   "metadata": {
    "collapsed": false,
    "scrolled": true
   },
   "outputs": [],
   "source": [
    "startdict"
   ]
  },
  {
   "cell_type": "code",
   "execution_count": null,
   "metadata": {
    "collapsed": false,
    "scrolled": true
   },
   "outputs": [],
   "source": [
    "def xyz(startx, starty, startz, startvelo, endx, endy, endz, endvelo):\n",
    "           return({'startwaypoint' : dict({'x' : startx, \n",
    "                         'y' : starty, \n",
    "                         'z' : startz,\n",
    "                        'velocity' : startvelo}),\n",
    "                  'endwaypoint' : dict({'x' : endx, 'y' : endy, 'z' : endz, \n",
    "                                        'velocity' : endvelo})})"
   ]
  },
  {
   "cell_type": "code",
   "execution_count": null,
   "metadata": {
    "collapsed": false,
    "scrolled": true
   },
   "outputs": [],
   "source": [
    "xyz(86545, 36238, 1097, 13, 86578, 36354, 1097, 13)"
   ]
  },
  {
   "cell_type": "code",
   "execution_count": null,
   "metadata": {
    "collapsed": false,
    "scrolled": true
   },
   "outputs": [],
   "source": [
    "endist = {'EndWaypoint' : dict({'x' : int(samptru['EndWaypointCoordsX']), \n",
    "                       'y' : int(samptru['EndWaypointCoordsY']),\n",
    "                      'z' : int(samptru['StartWaypointCoordsZ']),\n",
    "                      'velocity' : int(samptru['EndVelocity'])})}"
   ]
  },
  {
   "cell_type": "code",
   "execution_count": null,
   "metadata": {
    "collapsed": false,
    "scrolled": true
   },
   "outputs": [],
   "source": [
    "startdict.update(endist)"
   ]
  },
  {
   "cell_type": "code",
   "execution_count": null,
   "metadata": {
    "collapsed": false,
    "scrolled": true
   },
   "outputs": [],
   "source": [
    "{'stats' : dict({'Description-CR' : samptru['Description-CR']})}"
   ]
  },
  {
   "cell_type": "code",
   "execution_count": null,
   "metadata": {
    "collapsed": false,
    "scrolled": true
   },
   "outputs": [],
   "source": [
    "samdes = samptru['Description-CR']"
   ]
  },
  {
   "cell_type": "code",
   "execution_count": null,
   "metadata": {
    "collapsed": true,
    "scrolled": true
   },
   "outputs": [],
   "source": [
    "import requests"
   ]
  },
  {
   "cell_type": "code",
   "execution_count": null,
   "metadata": {
    "collapsed": false,
    "scrolled": true
   },
   "outputs": [],
   "source": [
    "reqge = requests.get('https://geocode.xyz/51.50354,-0.12768')"
   ]
  },
  {
   "cell_type": "code",
   "execution_count": null,
   "metadata": {
    "collapsed": false,
    "scrolled": true
   },
   "outputs": [],
   "source": [
    "rejs = (reqge.json)"
   ]
  },
  {
   "cell_type": "code",
   "execution_count": null,
   "metadata": {
    "collapsed": false,
    "scrolled": true
   },
   "outputs": [],
   "source": [
    "print(str(rejs))"
   ]
  },
  {
   "cell_type": "markdown",
   "metadata": {},
   "source": [
    "http://www.oc.nps.edu/oc2902w/coord/llhxyz.htm"
   ]
  },
  {
   "cell_type": "code",
   "execution_count": null,
   "metadata": {
    "collapsed": false,
    "scrolled": true
   },
   "outputs": [],
   "source": [
    "print(dict({'truck' : truck, dict({'startwaypoint' : {'longitude' : int(samptru['StartWaypointCoordsX'], 'latitude' : int(samptru['StartWaypointCoordsY']))}}"
   ]
  },
  {
   "cell_type": "code",
   "execution_count": null,
   "metadata": {
    "collapsed": false,
    "scrolled": true
   },
   "outputs": [],
   "source": [
    "print ({'truck' : 402, dict({'startwaypoint' : dict({'longitude' : 1, 'latitude' : 3})})"
   ]
  },
  {
   "cell_type": "code",
   "execution_count": null,
   "metadata": {
    "collapsed": false,
    "scrolled": true
   },
   "outputs": [],
   "source": [
    "{'startwaypoint' : dict({'longitude' : 1, 'latitude' : 3})}"
   ]
  },
  {
   "cell_type": "code",
   "execution_count": 157,
   "metadata": {
    "collapsed": false,
    "scrolled": true
   },
   "outputs": [],
   "source": [
    "trukxlc = pandas.read_excel('/home/wcmckee/data/Scenario1.xlsx')"
   ]
  },
  {
   "cell_type": "code",
   "execution_count": null,
   "metadata": {
    "collapsed": true
   },
   "outputs": [],
   "source": []
  },
  {
   "cell_type": "code",
   "execution_count": 158,
   "metadata": {
    "collapsed": false,
    "scrolled": true
   },
   "outputs": [
    {
     "name": "stdout",
     "output_type": "stream",
     "text": [
      "0      Material Carried: 50%\n",
      "1                          Y\n",
      "2                    36277.7\n",
      "3                      36284\n",
      "4                    36262.6\n",
      "5                    36256.8\n",
      "6                    36239.5\n",
      "7                    36228.9\n",
      "8                    36214.3\n",
      "9                    36206.9\n",
      "10                   36203.7\n",
      "11                   36202.4\n",
      "12                   36203.7\n",
      "13                   36216.5\n",
      "14                   36230.2\n",
      "15                   36255.4\n",
      "16                   36271.1\n",
      "17                   36287.6\n",
      "18                   36369.5\n",
      "19                   36399.5\n",
      "20                   36418.2\n",
      "21                   36445.7\n",
      "22                   36441.9\n",
      "23                   36431.9\n",
      "24                   36375.1\n",
      "25                   36331.4\n",
      "26                   36291.2\n",
      "27                     36224\n",
      "28                   36195.9\n",
      "29                   36176.6\n",
      "               ...          \n",
      "82                   36715.2\n",
      "83                   36653.3\n",
      "84                   36620.6\n",
      "85                   36601.8\n",
      "86                   36540.6\n",
      "87                   36530.5\n",
      "88                   36515.1\n",
      "89                   36458.7\n",
      "90                   36383.8\n",
      "91                   36316.8\n",
      "92                   36287.3\n",
      "93                   36270.7\n",
      "94                   36222.7\n",
      "95                   36156.4\n",
      "96                   36094.5\n",
      "97                   36042.8\n",
      "98                   35983.4\n",
      "99                   35970.8\n",
      "100                  35962.4\n",
      "101                      NaN\n",
      "102                      NaN\n",
      "103                      NaN\n",
      "104                      NaN\n",
      "105                      NaN\n",
      "106                      NaN\n",
      "107                      NaN\n",
      "108                      NaN\n",
      "109                      NaN\n",
      "110                      NaN\n",
      "111                      NaN\n",
      "Name: Destination 1, dtype: object\n"
     ]
    }
   ],
   "source": [
    "print(trukxlc['Destination 1'])"
   ]
  },
  {
   "cell_type": "code",
   "execution_count": null,
   "metadata": {
    "collapsed": false,
    "scrolled": true
   },
   "outputs": [],
   "source": [
    "trukcyc = pandas.read_csv('/home/wcmckee/data/Truck Cycle.csv', index_col='Truck')"
   ]
  },
  {
   "cell_type": "code",
   "execution_count": null,
   "metadata": {
    "collapsed": false,
    "scrolled": true
   },
   "outputs": [],
   "source": [
    "for trkey in trukcyc.keys():\n",
    "    trk = (trkey.replace(' ', '-'))\n",
    "    print(trk.lower())"
   ]
  },
  {
   "cell_type": "code",
   "execution_count": null,
   "metadata": {
    "collapsed": false,
    "scrolled": true
   },
   "outputs": [],
   "source": [
    "import json"
   ]
  },
  {
   "cell_type": "code",
   "execution_count": null,
   "metadata": {
    "collapsed": true,
    "scrolled": true
   },
   "outputs": [],
   "source": [
    "import random"
   ]
  },
  {
   "cell_type": "code",
   "execution_count": null,
   "metadata": {
    "collapsed": false,
    "scrolled": true
   },
   "outputs": [],
   "source": [
    "print(truckdicspec)"
   ]
  },
  {
   "cell_type": "code",
   "execution_count": null,
   "metadata": {
    "collapsed": false,
    "scrolled": true
   },
   "outputs": [],
   "source": [
    "with open('/home/wcmckee/truckspec.json', 'r') as truatm:\n",
    "        tread = truatm.read()\n",
    "        truckdicspec = json.loads(tread)\n",
    "        truckid = random.choice(truckdicspec)"
   ]
  },
  {
   "cell_type": "code",
   "execution_count": null,
   "metadata": {
    "collapsed": false,
    "scrolled": true
   },
   "outputs": [],
   "source": [
    "truits = trukcyc.iteritems()"
   ]
  },
  {
   "cell_type": "code",
   "execution_count": null,
   "metadata": {
    "collapsed": true,
    "scrolled": true
   },
   "outputs": [],
   "source": [
    "somedict = dict()"
   ]
  },
  {
   "cell_type": "code",
   "execution_count": null,
   "metadata": {
    "collapsed": false,
    "scrolled": true
   },
   "outputs": [],
   "source": [
    "somedict"
   ]
  },
  {
   "cell_type": "code",
   "execution_count": null,
   "metadata": {
    "collapsed": true,
    "scrolled": true
   },
   "outputs": [],
   "source": [
    "somelis = list()"
   ]
  },
  {
   "cell_type": "code",
   "execution_count": null,
   "metadata": {
    "collapsed": true,
    "scrolled": true
   },
   "outputs": [],
   "source": []
  },
  {
   "cell_type": "code",
   "execution_count": null,
   "metadata": {
    "collapsed": false,
    "scrolled": true
   },
   "outputs": [],
   "source": [
    "for tru in truits:\n",
    "    #print(tru)\n",
    "    somelis.append(tru)\n",
    "    #somedict.update({tru : tru})"
   ]
  },
  {
   "cell_type": "code",
   "execution_count": null,
   "metadata": {
    "collapsed": true,
    "scrolled": true
   },
   "outputs": [],
   "source": [
    "for somel in somelis:\n",
    "    print(somel)"
   ]
  },
  {
   "cell_type": "code",
   "execution_count": null,
   "metadata": {
    "collapsed": false,
    "scrolled": true
   },
   "outputs": [],
   "source": [
    "for somel in somelis:\n",
    "    print(somel)"
   ]
  },
  {
   "cell_type": "code",
   "execution_count": null,
   "metadata": {
    "collapsed": true,
    "scrolled": true
   },
   "outputs": [],
   "source": [
    "import random"
   ]
  },
  {
   "cell_type": "code",
   "execution_count": null,
   "metadata": {
    "collapsed": true,
    "scrolled": true
   },
   "outputs": [],
   "source": [
    "random.choice()"
   ]
  },
  {
   "cell_type": "code",
   "execution_count": null,
   "metadata": {
    "collapsed": false,
    "scrolled": true
   },
   "outputs": [],
   "source": [
    "def createtruckcyc(date, sourcestage, sourcebench, destinationname,\n",
    "       travellingemptyduration, travellingfullduration, payload,\n",
    "       fullslopelength, emptyslopelength, inpitramplength,\n",
    "       inpitrampgrade, dumpramplength, dumprampgrade):\n",
    "        return (dict({'date' : date, 'sourcestage' : sourcebench, 'sourcebench' : sourcebench, \n",
    "                      'destinationname' : destinationname, \n",
    "                      'travellingemptyduration' : travellingemptyduration, \n",
    "                      'travellingfullduration' : travellingfullduration, \n",
    "                      'payload' : payload, 'fullslopelength' : fullslopelength, \n",
    "                      'emptyslopelength' : emptyslopelength, \n",
    "                      'inpitramplength' : inpitramplength, \n",
    "                      'inpitrampgrade' : inpitrampgrade, 'dumpramplength' : dumpramplength, \n",
    "                      'dumprampgrade' : dumprampgrade}))"
   ]
  },
  {
   "cell_type": "code",
   "execution_count": null,
   "metadata": {
    "collapsed": true,
    "scrolled": true
   },
   "outputs": [],
   "source": [
    "import arrow"
   ]
  },
  {
   "cell_type": "code",
   "execution_count": null,
   "metadata": {
    "collapsed": true,
    "scrolled": true
   },
   "outputs": [],
   "source": [
    "timnow = arrow.now()"
   ]
  },
  {
   "cell_type": "code",
   "execution_count": null,
   "metadata": {
    "collapsed": false,
    "scrolled": true
   },
   "outputs": [],
   "source": [
    "print(timnow)"
   ]
  },
  {
   "cell_type": "code",
   "execution_count": null,
   "metadata": {
    "collapsed": false,
    "scrolled": true
   },
   "outputs": [],
   "source": [
    "str(timnow.date())"
   ]
  },
  {
   "cell_type": "code",
   "execution_count": null,
   "metadata": {
    "collapsed": false,
    "scrolled": true
   },
   "outputs": [],
   "source": [
    "'9.34%', 336.00, '8.33%'"
   ]
  },
  {
   "cell_type": "code",
   "execution_count": null,
   "metadata": {
    "collapsed": false,
    "scrolled": true
   },
   "outputs": [],
   "source": [
    "createtruckcyc('01/01/2017', 'Stage G', '920', 'MW_PRIME', 0.0, 1009, 179.7, 3888.21, 3888.21,\n",
    "              42.94, 3108.02, '9.34%', 336.00, '8.33%')"
   ]
  },
  {
   "cell_type": "code",
   "execution_count": null,
   "metadata": {
    "collapsed": false,
    "scrolled": true
   },
   "outputs": [],
   "source": [
    "trjs = trukcyc.to_json"
   ]
  },
  {
   "cell_type": "code",
   "execution_count": null,
   "metadata": {
    "collapsed": true,
    "scrolled": true
   },
   "outputs": [],
   "source": []
  },
  {
   "cell_type": "code",
   "execution_count": null,
   "metadata": {
    "collapsed": true,
    "scrolled": true
   },
   "outputs": [],
   "source": []
  },
  {
   "cell_type": "code",
   "execution_count": null,
   "metadata": {
    "collapsed": false,
    "scrolled": true
   },
   "outputs": [],
   "source": [
    "with open('/home/wcmckee/truckdetail.json', 'w') as truckdet:\n",
    "    truckdet.write(trjs)"
   ]
  },
  {
   "cell_type": "code",
   "execution_count": null,
   "metadata": {
    "collapsed": false,
    "scrolled": true
   },
   "outputs": [],
   "source": [
    "trukd = pandas.read_json('/home/wcmckee/truckdetail.json')\n"
   ]
  },
  {
   "cell_type": "code",
   "execution_count": null,
   "metadata": {
    "collapsed": false,
    "scrolled": true
   },
   "outputs": [],
   "source": [
    "trukcyc.to_json "
   ]
  },
  {
   "cell_type": "code",
   "execution_count": null,
   "metadata": {
    "collapsed": true,
    "scrolled": true
   },
   "outputs": [],
   "source": []
  },
  {
   "cell_type": "code",
   "execution_count": null,
   "metadata": {
    "collapsed": false,
    "scrolled": false
   },
   "outputs": [],
   "source": [
    "trujsn = (trukcyc.to_json)"
   ]
  },
  {
   "cell_type": "code",
   "execution_count": null,
   "metadata": {
    "collapsed": false,
    "scrolled": false
   },
   "outputs": [],
   "source": [
    "trujsn"
   ]
  },
  {
   "cell_type": "code",
   "execution_count": null,
   "metadata": {
    "collapsed": false,
    "scrolled": false
   },
   "outputs": [],
   "source": [
    "trujsn"
   ]
  },
  {
   "cell_type": "code",
   "execution_count": null,
   "metadata": {
    "collapsed": false,
    "scrolled": true
   },
   "outputs": [],
   "source": [
    "with open('/home/wcmckee/truckinfo.json', 'w') as truwri:\n",
    "    truwri.write(str(trujsn))"
   ]
  },
  {
   "cell_type": "code",
   "execution_count": null,
   "metadata": {
    "collapsed": true,
    "scrolled": true
   },
   "outputs": [],
   "source": []
  },
  {
   "cell_type": "code",
   "execution_count": null,
   "metadata": {
    "collapsed": true,
    "scrolled": true
   },
   "outputs": [],
   "source": [
    "cat /home/wcmckee/truckinfo.json"
   ]
  },
  {
   "cell_type": "code",
   "execution_count": null,
   "metadata": {
    "collapsed": false,
    "scrolled": true
   },
   "outputs": [],
   "source": [
    "import arrow"
   ]
  },
  {
   "cell_type": "code",
   "execution_count": null,
   "metadata": {
    "collapsed": true,
    "scrolled": true
   },
   "outputs": [],
   "source": []
  },
  {
   "cell_type": "code",
   "execution_count": null,
   "metadata": {
    "collapsed": true,
    "scrolled": true
   },
   "outputs": [],
   "source": [
    "def mkblogpost(blogpath, postname, tagblog):\n",
    "    raw = arrow.now()\n",
    "    fultim = raw.datetime\n",
    "    \n",
    "    if postname + '.md' not in os.listdir(blogpath + '/posts'):\n",
    "        with open(blogpath + '/posts/' + postname + '.meta', 'w') as daympo:\n",
    "            daympo.write('.. title: {}\\n.. slug: {}\\n.. date: {}\\n.. tags: {}\\n.. link:\\n.. description:\\n.. type: text'.format(postname, postname, fultim, tagblog))\n",
    "            \n",
    "        with open(blogpath + '/posts/' + postname + '.md', 'w') as daymark:\n",
    "            for toar in os.listdir(blogpath + '/galleries/' + raw.strftime(\"%Y\") + '/' + raw.strftime(\"%m\") + '/' + raw.strftime('%d')):\n",
    "\n",
    "                daymark.write('![{}]({}{})\\n\\n'.format(toar.replace('.png', ''), '/galleries/' + raw.strftime(\"%Y\") + '/' + raw.strftime(\"%m\") + '/' + raw.strftime('%d') + '/', toar))"
   ]
  },
  {
   "cell_type": "code",
   "execution_count": null,
   "metadata": {
    "collapsed": false,
    "scrolled": false
   },
   "outputs": [],
   "source": [
    "print(trukcyc['Destination name'])"
   ]
  },
  {
   "cell_type": "code",
   "execution_count": null,
   "metadata": {
    "collapsed": true,
    "scrolled": true,
    "slideshow": {
     "slide_type": "slide"
    }
   },
   "outputs": [],
   "source": [
    "from flask import Flask, request, jsonify\n",
    "import json\n",
    "\n",
    "import getpass\n",
    "myusr = getpass.getuser()\n",
    "homepath = '/home/{}'.format(myusr)\n",
    "app = Flask(__name__)"
   ]
  },
  {
   "cell_type": "code",
   "execution_count": null,
   "metadata": {
    "collapsed": false,
    "scrolled": true,
    "slideshow": {
     "slide_type": "slide"
    }
   },
   "outputs": [],
   "source": [
    "\n",
    "\n",
    "with open('{}/truckspec.json'.format(homepath), 'r') as truatm:\n",
    "    #opens the truck spec json file. \n",
    "    tread = truatm.read()\n",
    "    \n",
    "truckdicspec = json.loads(tread)\n",
    "\n",
    "with open('{}/roadsegdatatest.json'.format(homepath), 'r') as roard:\n",
    "    #opens the road seg data \n",
    "    roadjsconv = roard.read()\n",
    "    \n",
    "roadjslod = json.loads(roadjsconv)\n",
    "      "
   ]
  },
  {
   "cell_type": "code",
   "execution_count": null,
   "metadata": {
    "collapsed": true,
    "scrolled": true
   },
   "outputs": [],
   "source": []
  },
  {
   "cell_type": "code",
   "execution_count": null,
   "metadata": {
    "collapsed": true,
    "scrolled": true,
    "slideshow": {
     "slide_type": "slide"
    }
   },
   "outputs": [],
   "source": [
    "@app.route('/getruckspec')\n",
    "def getruckspec():\n",
    "    # give it truck id and returns back stats about that truck.\n",
    "    # todo: return back truck segment details also. \n",
    "    #localhost:5555/getruckspec?truckid=410\n",
    "    #returns back:\n",
    "    #{\"EmptyWeight\": 124114, \"MaxOperatingWeight\": 317514.85, \"TruckType\": \"789C\"}\n",
    "    truckid = request.args.get('truckid')\n",
    "    #truckid = request.args.get(\"truckid\")\n",
    "    \n",
    "    return(jsonify({'EmptyWeight' : truckdicspec['EmptyWeight'][truckid],\n",
    "        'MaxOperatingWeight' : truckdicspec['MaxOperatingWeight'][truckid], 'TruckType' : truckdicspec['TruckType'][truckid]}))\n"
   ]
  },
  {
   "cell_type": "code",
   "execution_count": null,
   "metadata": {
    "collapsed": true,
    "scrolled": true,
    "slideshow": {
     "slide_type": "slide"
    }
   },
   "outputs": [],
   "source": [
    "@app.route('/getroadsegid')\n",
    "def getroadsegid():\n",
    "    #localhost:5555/getroadsegid?segid=95\n",
    "    #give it id and return back road segiment details. \n",
    "    '''\n",
    "    returns back: {\n",
    "  \"Description-CR\": \"GRD25-GRD26\", \n",
    "  \"DurationCalculated\": 28.0, \n",
    "  \"EfhLength\": 157.9984208252, \n",
    "  \"EndVelocity\": 21.9239999982, \n",
    "  \"EndWaypointCoordsX\": 85976.84, \n",
    "  \"EndWaypointCoordsY\": 36378.8, \n",
    "  \"EndWaypointCoordsZ_Q-CR\": 885.02, \n",
    "  \"LoadStateDirection_D-CR\": \"Reverse traversal full\", \n",
    "  \"Payload\": 170900, \n",
    "  \"RiseHeight\": 0.15, \n",
    "  \"SlopeLength\": 148.8954144547, \n",
    "  \"StartVelocity\": 13.3919999989, \n",
    "  \"StartWaypointCoordsX\": 85987.63, \n",
    "  \"StartWaypointCoordsY\": 36257.25, \n",
    "  \"StartWaypointCoordsZ\": 885.05, \n",
    "  \"TargetDuration\": 11, \n",
    "  \"Truck\": \"TRH405\"\n",
    "}\n",
    "'''\n",
    "    segid = request.args.get('segid')\n",
    "    newdict = dict()\n",
    "\n",
    "    for paka in roadjslod.keys():\n",
    "        newdict.update({paka : roadjslod[paka][segid]})\n",
    "    return(jsonify(newdict))\n",
    "    #return('everything worked')\n",
    "\n",
    "\n",
    "if __name__ == '__main__':\n",
    "    app.run(host='0.0.0.0', port=5555) "
   ]
  },
  {
   "cell_type": "code",
   "execution_count": null,
   "metadata": {
    "collapsed": true,
    "scrolled": true,
    "slideshow": {
     "slide_type": "skip"
    }
   },
   "outputs": [],
   "source": [
    "from flask import Flask, request, jsonify\n",
    "import json\n",
    "\n",
    "import getpass\n",
    "myusr = getpass.getuser()\n",
    "homepath = '/home/{}'.format(myusr)\n",
    "app = Flask(__name__)\n",
    "\n",
    "\n",
    "with open('{}/truckspec.json'.format(homepath), 'r') as truatm:\n",
    "    #opens the truck spec json file. \n",
    "    tread = truatm.read()\n",
    "    \n",
    "truckdicspec = json.loads(tread)\n",
    "\n",
    "with open('{}/roadsegdatatest.json'.format(homepath), 'r') as roard:\n",
    "    #opens the road seg data \n",
    "    roadjsconv = roard.read()\n",
    "    \n",
    "roadjslod = json.loads(roadjsconv)\n",
    "      \n",
    "@app.route('/getruckspec')\n",
    "def getruckspec():\n",
    "    # give it truck id and returns back stats about that truck.\n",
    "    # todo: return back truck segment details also. \n",
    "    #localhost:5555/getruckspec?truckid=410\n",
    "    #returns back:\n",
    "    #{\"EmptyWeight\": 124114, \"MaxOperatingWeight\": 317514.85, \"TruckType\": \"789C\"}\n",
    "    truckid = request.args.get('truckid')\n",
    "    #truckid = request.args.get(\"truckid\")\n",
    "    \n",
    "    return(jsonify({'EmptyWeight' : truckdicspec['EmptyWeight'][truckid],\n",
    "        'MaxOperatingWeight' : truckdicspec['MaxOperatingWeight'][truckid], 'TruckType' : truckdicspec['TruckType'][truckid]}))\n",
    "\n",
    "@app.route('/getroadsegid')\n",
    "def getroadsegid():\n",
    "    #localhost:5555/getroadsegid?segid=95\n",
    "    #give it id and return back road segiment details. \n",
    "    '''\n",
    "    returns back: {\n",
    "  \"Description-CR\": \"GRD25-GRD26\", \n",
    "  \"DurationCalculated\": 28.0, \n",
    "  \"EfhLength\": 157.9984208252, \n",
    "  \"EndVelocity\": 21.9239999982, \n",
    "  \"EndWaypointCoordsX\": 85976.84, \n",
    "  \"EndWaypointCoordsY\": 36378.8, \n",
    "  \"EndWaypointCoordsZ_Q-CR\": 885.02, \n",
    "  \"LoadStateDirection_D-CR\": \"Reverse traversal full\", \n",
    "  \"Payload\": 170900, \n",
    "  \"RiseHeight\": 0.15, \n",
    "  \"SlopeLength\": 148.8954144547, \n",
    "  \"StartVelocity\": 13.3919999989, \n",
    "  \"StartWaypointCoordsX\": 85987.63, \n",
    "  \"StartWaypointCoordsY\": 36257.25, \n",
    "  \"StartWaypointCoordsZ\": 885.05, \n",
    "  \"TargetDuration\": 11, \n",
    "  \"Truck\": \"TRH405\"\n",
    "}\n",
    "'''\n",
    "    segid = request.args.get('segid')\n",
    "    newdict = dict()\n",
    "\n",
    "    for paka in roadjslod.keys():\n",
    "        newdict.update({paka : roadjslod[paka][segid]})\n",
    "    return(jsonify(newdict))\n",
    "    #return('everything worked')\n",
    "\n",
    "\n",
    "if __name__ == '__main__':\n",
    "    app.run(host='0.0.0.0', port=5555) "
   ]
  }
 ],
 "metadata": {
  "kernelspec": {
   "display_name": "Python 3",
   "language": "python",
   "name": "python3"
  },
  "language_info": {
   "codemirror_mode": {
    "name": "ipython",
    "version": 3
   },
   "file_extension": ".py",
   "mimetype": "text/x-python",
   "name": "python",
   "nbconvert_exporter": "python",
   "pygments_lexer": "ipython3",
   "version": "3.5.3"
  }
 },
 "nbformat": 4,
 "nbformat_minor": 2
}
