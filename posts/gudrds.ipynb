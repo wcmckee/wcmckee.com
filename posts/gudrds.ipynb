{
 "cells": [
  {
   "cell_type": "markdown",
   "metadata": {},
   "source": [
    "goodreasds"
   ]
  },
  {
   "cell_type": "code",
   "execution_count": 60,
   "metadata": {
    "collapsed": false
   },
   "outputs": [],
   "source": [
    "import requests\n",
    "import os\n",
    "import getpass\n",
    "import xmltodict\n",
    "import arrow\n",
    "import bs4\n",
    "#import couchdb\n",
    "#import nltk\n",
    "\n"
   ]
  },
  {
   "cell_type": "code",
   "execution_count": 61,
   "metadata": {
    "collapsed": true
   },
   "outputs": [],
   "source": [
    "myusr = getpass.getuser()"
   ]
  },
  {
   "cell_type": "code",
   "execution_count": 62,
   "metadata": {
    "collapsed": false
   },
   "outputs": [
    {
     "data": {
      "text/plain": [
       "'pi'"
      ]
     },
     "execution_count": 62,
     "metadata": {},
     "output_type": "execute_result"
    }
   ],
   "source": [
    "myusr"
   ]
  },
  {
   "cell_type": "code",
   "execution_count": 63,
   "metadata": {
    "collapsed": true
   },
   "outputs": [],
   "source": [
    "para = {'key' : 'j6a7NN6aLyIGFrt9YHwibw', 'v': 2}"
   ]
  },
  {
   "cell_type": "code",
   "execution_count": 64,
   "metadata": {
    "collapsed": false
   },
   "outputs": [],
   "source": [
    "getreview = requests.get('https://www.goodreads.com/review/list/5753105.xml', params = para)"
   ]
  },
  {
   "cell_type": "code",
   "execution_count": null,
   "metadata": {
    "collapsed": true
   },
   "outputs": [],
   "source": []
  },
  {
   "cell_type": "code",
   "execution_count": 65,
   "metadata": {
    "collapsed": true
   },
   "outputs": [],
   "source": [
    "revxml = xmltodict.parse(getreview.text)"
   ]
  },
  {
   "cell_type": "code",
   "execution_count": 66,
   "metadata": {
    "collapsed": false,
    "scrolled": true
   },
   "outputs": [
    {
     "name": "stdout",
     "output_type": "stream",
     "text": [
      "OrderedDict([('GoodreadsResponse', OrderedDict([('Request', OrderedDict([('authentication', 'true'), ('key', 'j6a7NN6aLyIGFrt9YHwibw'), ('method', 'review_list')])), ('reviews', OrderedDict([('@start', '1'), ('@end', '20'), ('@total', '156'), ('review', [OrderedDict([('id', '2115445855'), ('book', OrderedDict([('id', OrderedDict([('@type', 'integer'), ('#text', '31139576')])), ('isbn', OrderedDict([('@nil', 'true')])), ('isbn13', OrderedDict([('@nil', 'true')])), ('text_reviews_count', OrderedDict([('@type', 'integer'), ('#text', '436')])), ('title', 'All the Breaking Waves'), ('title_without_series', 'All the Breaking Waves'), ('image_url', 'https://images.gr-assets.com/books/1470750981m/31139576.jpg'), ('small_image_url', 'https://images.gr-assets.com/books/1470750981s/31139576.jpg'), ('large_image_url', None), ('link', 'https://www.goodreads.com/book/show/31139576-all-the-breaking-waves'), ('num_pages', '322'), ('format', None), ('edition_information', None), ('publisher', None), ('publication_day', None), ('publication_year', None), ('publication_month', None), ('average_rating', '3.89'), ('ratings_count', '10571'), ('description', '<b>From the bestselling author of <i>Everything We Keep</i> comes a gripping tale of long-buried secrets, the strength of forgiveness, and the healing power of returning home for good.</b><br /><br />After a harrowing accident tore her family apart, Molly Brennan fled from the man she loved and the tragic mistake she made.<br /><br />Twelve years later, Molly has created a new life for herself and her eight-year-old daughter, Cassie. The art history professor crafts jewelry as unique and weathered as the surf-tumbled sea glass she collects, while raising her daughter in a safe and loving environment—something Molly never had. But when Cassie is plagued by horrific visions and debilitating nightmares, Molly is forced to return to the one place she swore she’d never move back to—home to Pacific Grove.<br /><br />A riveting exploration of love, secrets, and motherhood, <i>All the Breaking Waves</i> is the poignant story of a woman who discovers she must confront her past, let go of her guilt, and summon everything in her power to save her daughter.'), ('authors', OrderedDict([('author', OrderedDict([('id', '14257762'), ('name', 'Kerry Lonsdale'), ('role', None), ('image_url', OrderedDict([('@nophoto', 'false'), ('#text', 'https://images.gr-assets.com/authors/1448928390p5/14257762.jpg')])), ('small_image_url', OrderedDict([('@nophoto', 'false'), ('#text', 'https://images.gr-assets.com/authors/1448928390p2/14257762.jpg')])), ('link', 'https://www.goodreads.com/author/show/14257762.Kerry_Lonsdale'), ('average_rating', '3.86'), ('ratings_count', '85997'), ('text_reviews_count', '4685')]))])), ('published', None), ('work', OrderedDict([('id', '51765277')]))])), ('rating', '0'), ('votes', '0'), ('spoiler_flag', 'false'), ('spoilers_state', 'none'), ('shelves', OrderedDict([('shelf', OrderedDict([('@name', 'to-read'), ('@exclusive', 'true'), ('@review_shelf_id', '1767094157'), ('@sortable', 'true')]))])), ('recommended_for', None), ('recommended_by', None), ('started_at', None), ('read_at', None), ('date_added', 'Tue Sep 05 22:59:38 -0700 2017'), ('date_updated', 'Tue Sep 05 22:59:38 -0700 2017'), ('read_count', '0'), ('body', None), ('comments_count', '0'), ('url', 'https://www.goodreads.com/review/show/2115445855'), ('link', 'https://www.goodreads.com/review/show/2115445855'), ('owned', '0')]), OrderedDict([('id', '2114259154'), ('book', OrderedDict([('id', OrderedDict([('@type', 'integer'), ('#text', '17315134')])), ('isbn', '1471400360'), ('isbn13', '9781471400360'), ('text_reviews_count', OrderedDict([('@type', 'integer'), ('#text', '283')])), ('title', 'Paper Aeroplanes (Paper Aeroplanes, #1)'), ('title_without_series', 'Paper Aeroplanes'), ('image_url', 'https://images.gr-assets.com/books/1366494917m/17315134.jpg'), ('small_image_url', 'https://images.gr-assets.com/books/1366494917s/17315134.jpg'), ('large_image_url', None), ('link', 'https://www.goodreads.com/book/show/17315134-paper-aeroplanes'), ('num_pages', '261'), ('format', 'Paperback'), ('edition_information', None), ('publisher', 'Hot Key Books'), ('publication_day', '2'), ('publication_year', '2013'), ('publication_month', '5'), ('average_rating', '3.80'), ('ratings_count', '2931'), ('description', \"It's the mid-1990s, and fifteen year-old Guernsey schoolgirls, Renée and Flo, are not really meant to be friends. Thoughtful, introspective and studious Flo couldn't be more different to ambitious, extroverted and sexually curious Renée. But Renée and Flo are united by loneliness and their dysfunctional families, and an intense bond is formed. Although there are obstacles to their friendship (namely Flo's jealous ex-best friend and Renée's growing infatuation with Flo's brother), fifteen is an age where anything can happen, where life stretches out before you, and when every betrayal feels like the end of the world. For Renée and Flo it is the time of their lives.<br /><br />With graphic content and some scenes of a sexual nature, PAPER AEROPLANES is a gritty, poignant, often laugh-out-loud funny and powerful novel. It is an unforgettable snapshot of small-town adolescence and the heart-stopping power of female friendship.\"), ('authors', OrderedDict([('author', OrderedDict([('id', '6916615'), ('name', \"Dawn O'Porter\"), ('role', None), ('image_url', OrderedDict([('@nophoto', 'false'), ('#text', 'https://images.gr-assets.com/authors/1362145642p5/6916615.jpg')])), ('small_image_url', OrderedDict([('@nophoto', 'false'), ('#text', 'https://images.gr-assets.com/authors/1362145642p2/6916615.jpg')])), ('link', 'https://www.goodreads.com/author/show/6916615.Dawn_O_Porter'), ('average_rating', '3.81'), ('ratings_count', '5268'), ('text_reviews_count', '611')]))])), ('published', '2013'), ('work', OrderedDict([('id', '23982352')]))])), ('rating', '0'), ('votes', '0'), ('spoiler_flag', 'false'), ('spoilers_state', 'none'), ('shelves', OrderedDict([('shelf', OrderedDict([('@name', 'to-read'), ('@exclusive', 'true'), ('@review_shelf_id', '1765955613'), ('@sortable', 'true')]))])), ('recommended_for', None), ('recommended_by', None), ('started_at', None), ('read_at', None), ('date_added', 'Mon Sep 04 22:10:38 -0700 2017'), ('date_updated', 'Mon Sep 04 22:10:39 -0700 2017'), ('read_count', '0'), ('body', None), ('comments_count', '0'), ('url', 'https://www.goodreads.com/review/show/2114259154'), ('link', 'https://www.goodreads.com/review/show/2114259154'), ('owned', '0')]), OrderedDict([('id', '2112909361'), ('book', OrderedDict([('id', OrderedDict([('@type', 'integer'), ('#text', '6469165')])), ('isbn', '0141043768'), ('isbn13', '9780141043760'), ('text_reviews_count', OrderedDict([('@type', 'integer'), ('#text', '14811')])), ('title', 'What Alice Forgot'), ('title_without_series', 'What Alice Forgot'), ('image_url', 'https://images.gr-assets.com/books/1377159022m/6469165.jpg'), ('small_image_url', 'https://images.gr-assets.com/books/1377159022s/6469165.jpg'), ('large_image_url', None), ('link', 'https://www.goodreads.com/book/show/6469165-what-alice-forgot'), ('num_pages', '476'), ('format', 'Paperback'), ('edition_information', None), ('publisher', 'PanMacmillan Australia'), ('publication_day', None), ('publication_year', '2010'), ('publication_month', '5'), ('average_rating', '4.05'), ('ratings_count', '208570'), ('description', 'Alice Love is twenty-nine, crazy about her husband, and pregnant with her first child.<br /><br />So imagine Alice’s surprise when she comes to on the floor of a gym and is whisked off to the hospital where she discovers the honeymoon is truly over — she’s getting divorced, she has three kids and she’s actually 39 years old. Alice must reconstruct the events of a lost decade, and find out whether it’s possible to reconstruct her life at the same time. She has to figure out why her sister hardly talks to her, and how is it that she’s become one of those super skinny moms with really expensive clothes. <br /><br />Ultimately, Alice must discover whether forgetting is a blessing or a curse, and whether it’s possible to start over.'), ('authors', OrderedDict([('author', OrderedDict([('id', '322069'), ('name', 'Liane Moriarty'), ('role', None), ('image_url', OrderedDict([('@nophoto', 'false'), ('#text', 'https://images.gr-assets.com/authors/1459827224p5/322069.jpg')])), ('small_image_url', OrderedDict([('@nophoto', 'false'), ('#text', 'https://images.gr-assets.com/authors/1459827224p2/322069.jpg')])), ('link', 'https://www.goodreads.com/author/show/322069.Liane_Moriarty'), ('average_rating', '3.97'), ('ratings_count', '1242312'), ('text_reviews_count', '101748')]))])), ('published', '2010'), ('work', OrderedDict([('id', '6659752')]))])), ('rating', '0'), ('votes', '0'), ('spoiler_flag', 'false'), ('spoilers_state', 'none'), ('shelves', OrderedDict([('shelf', OrderedDict([('@name', 'to-read'), ('@exclusive', 'true'), ('@review_shelf_id', '1764636102'), ('@sortable', 'true')]))])), ('recommended_for', None), ('recommended_by', None), ('started_at', None), ('read_at', None), ('date_added', 'Sun Sep 03 17:31:02 -0700 2017'), ('date_updated', 'Sun Sep 03 17:31:02 -0700 2017'), ('read_count', '0'), ('body', None), ('comments_count', '0'), ('url', 'https://www.goodreads.com/review/show/2112909361'), ('link', 'https://www.goodreads.com/review/show/2112909361'), ('owned', '0')]), OrderedDict([('id', '2112908743'), ('book', OrderedDict([('id', OrderedDict([('@type', 'integer'), ('#text', '15507958')])), ('isbn', '0670026603'), ('isbn13', '9780670026609'), ('text_reviews_count', OrderedDict([('@type', 'integer'), ('#text', '51142')])), ('title', 'Me Before You (Me Before You, #1)'), ('title_without_series', 'Me Before You'), ('image_url', 'https://images.gr-assets.com/books/1357108762m/15507958.jpg'), ('small_image_url', 'https://images.gr-assets.com/books/1357108762s/15507958.jpg'), ('large_image_url', None), ('link', 'https://www.goodreads.com/book/show/15507958-me-before-you'), ('num_pages', '369'), ('format', 'Hardcover'), ('edition_information', None), ('publisher', 'Pamela Dorman Books/Viking'), ('publication_day', '31'), ('publication_year', '2012'), ('publication_month', '12'), ('average_rating', '4.27'), ('ratings_count', '748953'), ('description', 'Louisa Clark is an ordinary young woman living an exceedingly ordinary life—steady boyfriend, close family—who has never been farther afield than their tiny village. She takes a badly needed job working for ex-Master of the Universe Will Traynor, who is wheelchair-bound after an accident. Will has always lived a huge life—big deals, extreme sports, worldwide travel—and now he’s pretty sure he cannot live the way he is.<br /><br /> Will is acerbic, moody, bossy—but Lou refuses to treat him with kid gloves, and soon his happiness means more to her than she expected. When she learns that Will has shocking plans of his own, she sets out to show him that life is still worth living.<br /><br />A love story for this generation, <i>Me Before You</i> brings to life two people who couldn’t have less in common—a heartbreakingly romantic novel that asks, What do you do when making the person you love happy also means breaking your own heart?'), ('authors', OrderedDict([('author', OrderedDict([('id', '281810'), ('name', 'Jojo Moyes'), ('role', None), ('image_url', OrderedDict([('@nophoto', 'false'), ('#text', 'https://images.gr-assets.com/authors/1400624880p5/281810.jpg')])), ('small_image_url', OrderedDict([('@nophoto', 'false'), ('#text', 'https://images.gr-assets.com/authors/1400624880p2/281810.jpg')])), ('link', 'https://www.goodreads.com/author/show/281810.Jojo_Moyes'), ('average_rating', '4.08'), ('ratings_count', '1264809'), ('text_reviews_count', '120257')]))])), ('published', '2012'), ('work', OrderedDict([('id', '17763198')]))])), ('rating', '0'), ('votes', '0'), ('spoiler_flag', 'false'), ('spoilers_state', 'none'), ('shelves', OrderedDict([('shelf', OrderedDict([('@name', 'to-read'), ('@exclusive', 'true'), ('@review_shelf_id', '1764635505'), ('@sortable', 'true')]))])), ('recommended_for', None), ('recommended_by', None), ('started_at', None), ('read_at', None), ('date_added', 'Sun Sep 03 17:30:15 -0700 2017'), ('date_updated', 'Sun Sep 03 17:30:15 -0700 2017'), ('read_count', '0'), ('body', None), ('comments_count', '0'), ('url', 'https://www.goodreads.com/review/show/2112908743'), ('link', 'https://www.goodreads.com/review/show/2112908743'), ('owned', '0')]), OrderedDict([('id', '2112907191'), ('book', OrderedDict([('id', OrderedDict([('@type', 'integer'), ('#text', '22892448')])), ('isbn', '161984625X'), ('isbn13', '9781619846258'), ('text_reviews_count', OrderedDict([('@type', 'integer'), ('#text', '131')])), ('title', 'The Color Project'), ('title_without_series', 'The Color Project'), ('image_url', 'https://images.gr-assets.com/books/1495203898m/22892448.jpg'), ('small_image_url', 'https://images.gr-assets.com/books/1495203898s/22892448.jpg'), ('large_image_url', None), ('link', 'https://www.goodreads.com/book/show/22892448-the-color-project'), ('num_pages', '464'), ('format', 'Paperback'), ('edition_information', None), ('publisher', 'Gatekeeper Press'), ('publication_day', '17'), ('publication_year', '2017'), ('publication_month', '8'), ('average_rating', '4.03'), ('ratings_count', '244'), ('description', \"Bernice Aurora Wescott has one thing she doesn't want anyone to know: her name. That is, until Bee meets Levi, the local golden boy who runs a charity organization called The Color Project.<br /><br />Levi is not at all shy about attempting to guess Bee’s real name; his persistence is one of the many reasons why Bee falls for him. But while Levi is everything she never knew she needed, giving up her name would feel like a stamp on forever. And that terrifies her.<br /><br />When unexpected news of an illness in the family drains Bee's summer of everything bright, she is pushed to the breaking point. Losing herself in The Color Project—a world of weddings, funerals, cancer patients, and hopeful families that the charity funds—is no longer enough. Bee must hold up the weight of her family, but to do that, she needs Levi. She’ll have to give up her name and let him in completely or lose the best thing that’s ever happened to her.<br /><br />For fans of Stephanie Perkins and Morgan Matson, THE COLOR PROJECT is a story about the three great loves of life—family, friendship, and romance—and the bonds that withstand tragedy.\"), ('authors', OrderedDict([('author', OrderedDict([('id', '8436117'), ('name', 'Sierra Abrams'), ('role', None), ('image_url', OrderedDict([('@nophoto', 'false'), ('#text', 'https://images.gr-assets.com/authors/1481275334p5/8436117.jpg')])), ('small_image_url', OrderedDict([('@nophoto', 'false'), ('#text', 'https://images.gr-assets.com/authors/1481275334p2/8436117.jpg')])), ('link', 'https://www.goodreads.com/author/show/8436117.Sierra_Abrams'), ('average_rating', '4.02'), ('ratings_count', '246'), ('text_reviews_count', '142')]))])), ('published', '2017'), ('work', OrderedDict([('id', '42462380')]))])), ('rating', '0'), ('votes', '0'), ('spoiler_flag', 'false'), ('spoilers_state', 'none'), ('shelves', OrderedDict([('shelf', OrderedDict([('@name', 'to-read'), ('@exclusive', 'true'), ('@review_shelf_id', '1764634108'), ('@sortable', 'true')]))])), ('recommended_for', None), ('recommended_by', None), ('started_at', None), ('read_at', None), ('date_added', 'Sun Sep 03 17:28:15 -0700 2017'), ('date_updated', 'Sun Sep 03 17:28:15 -0700 2017'), ('read_count', '0'), ('body', None), ('comments_count', '0'), ('url', 'https://www.goodreads.com/review/show/2112907191'), ('link', 'https://www.goodreads.com/review/show/2112907191'), ('owned', '0')]), OrderedDict([('id', '2112905980'), ('book', OrderedDict([('id', OrderedDict([('@type', 'integer'), ('#text', '27434')])), ('isbn', '0385497148'), ('isbn13', '9780385497145'), ('text_reviews_count', OrderedDict([('@type', 'integer'), ('#text', '29')])), ('title', 'Waterfront: A Walk Around Manhattan'), ('title_without_series', 'Waterfront: A Walk Around Manhattan'), ('image_url', 'https://s.gr-assets.com/assets/nophoto/book/111x148-bcc042a9c91a29c1d680899eff700a03.png'), ('small_image_url', 'https://s.gr-assets.com/assets/nophoto/book/50x75-a91bf249278a81aabab721ef782c4a74.png'), ('large_image_url', None), ('link', 'https://www.goodreads.com/book/show/27434.Waterfront'), ('num_pages', '450'), ('format', 'Paperback'), ('edition_information', None), ('publisher', 'Anchor'), ('publication_day', '10'), ('publication_year', '2005'), ('publication_month', '5'), ('average_rating', '3.74'), ('ratings_count', '235'), ('description', \"East Side, West Side, from the Little Red Lighthouse to Battery Park City, the wonders of Manhattan's waterfront are both celebrated and secret -- hidden in plain sight. In his brilliant exploration of this defining yet neglected shoreline, personal essayist Philip Lopate also recovers a part of the city's soul. <br /><br />A native New Yorker, Lopate has embraced Manhattan by walking every inch of its perimeter, telling stories on the way of pirates (Captain Kidd) and power brokers (Robert Moses), the lowly shipworm and Typhoid Mary, public housing in Harlem and the building of the Brooklyn Bridge. He evokes the magic of the once bustling old port from Melville's and Whitman's day to the era of the longshoremen in <b>On the Waterfront</b>, while appraising today's developers and environmental activists, and probing new plans for parks and pleasure domes with river views. Whether escorting us into unfamiliar, hazardous crannies or along a Beaux Arts esplanade, <b>Waterfront</b> is a grand literary ramble and defense of urban life by one of our most perceptive observers.\"), ('authors', OrderedDict([('author', OrderedDict([('id', '15387'), ('name', 'Phillip Lopate'), ('role', None), ('image_url', OrderedDict([('@nophoto', 'true'), ('#text', 'https://s.gr-assets.com/assets/nophoto/user/m_200x266-d279b33f8eec0f27b7272477f09806be.png')])), ('small_image_url', OrderedDict([('@nophoto', 'true'), ('#text', 'https://s.gr-assets.com/assets/nophoto/user/m_50x66-82093808bca726cb3249a493fbd3bd0f.png')])), ('link', 'https://www.goodreads.com/author/show/15387.Phillip_Lopate'), ('average_rating', '4.00'), ('ratings_count', '5573'), ('text_reviews_count', '589')]))])), ('published', '2005'), ('work', OrderedDict([('id', '28061')]))])), ('rating', '0'), ('votes', '0'), ('spoiler_flag', 'false'), ('spoilers_state', 'none'), ('shelves', OrderedDict([('shelf', OrderedDict([('@name', 'to-read'), ('@exclusive', 'true'), ('@review_shelf_id', '1764632994'), ('@sortable', 'true')]))])), ('recommended_for', None), ('recommended_by', None), ('started_at', None), ('read_at', None), ('date_added', 'Sun Sep 03 17:26:38 -0700 2017'), ('date_updated', 'Sun Sep 03 17:26:38 -0700 2017'), ('read_count', '0'), ('body', None), ('comments_count', '0'), ('url', 'https://www.goodreads.com/review/show/2112905980'), ('link', 'https://www.goodreads.com/review/show/2112905980'), ('owned', '0')]), OrderedDict([('id', '2112905690'), ('book', OrderedDict([('id', OrderedDict([('@type', 'integer'), ('#text', '3316191')])), ('isbn', '0440211824'), ('isbn13', '9780440211822'), ('text_reviews_count', OrderedDict([('@type', 'integer'), ('#text', '2')])), ('title', 'The Jade Pagoda'), ('title_without_series', 'The Jade Pagoda'), ('image_url', 'https://images.gr-assets.com/books/1364502669m/3316191.jpg'), ('small_image_url', 'https://images.gr-assets.com/books/1364502669s/3316191.jpg'), ('large_image_url', None), ('link', 'https://www.goodreads.com/book/show/3316191-the-jade-pagoda'), ('num_pages', '272'), ('format', 'Mass Market Paperback'), ('edition_information', None), ('publisher', 'Dell'), ('publication_day', '1'), ('publication_year', '1992'), ('publication_month', '11'), ('average_rating', '3.50'), ('ratings_count', '6'), ('description', '<i>\"His mansion was a maze of mysteries, his past a puzzle too dangerous to probe...\"</i><br /><br />As Lesley Blair decorates the bridal suite of handsome widower Drake Wynfield in anticipation of his pending nuptials, she discovers that something is terribly wrong in his lavish home.'), ('authors', OrderedDict([('author', OrderedDict([('id', '831500'), ('name', 'Marion Clarke'), ('role', None), ('image_url', OrderedDict([('@nophoto', 'true'), ('#text', 'https://s.gr-assets.com/assets/nophoto/user/u_200x266-e183445fd1a1b5cc7075bb1cf7043306.png')])), ('small_image_url', OrderedDict([('@nophoto', 'true'), ('#text', 'https://s.gr-assets.com/assets/nophoto/user/u_50x66-632230dc9882b4352d753eedf9396530.png')])), ('link', 'https://www.goodreads.com/author/show/831500.Marion_Clarke'), ('average_rating', '3.65'), ('ratings_count', '20'), ('text_reviews_count', '2')]))])), ('published', '1992'), ('work', OrderedDict([('id', '3353850')]))])), ('rating', '0'), ('votes', '0'), ('spoiler_flag', 'false'), ('spoilers_state', 'none'), ('shelves', OrderedDict([('shelf', OrderedDict([('@name', 'to-read'), ('@exclusive', 'true'), ('@review_shelf_id', '1764632731'), ('@sortable', 'true')]))])), ('recommended_for', None), ('recommended_by', None), ('started_at', None), ('read_at', None), ('date_added', 'Sun Sep 03 17:26:15 -0700 2017'), ('date_updated', 'Sun Sep 03 17:26:15 -0700 2017'), ('read_count', '0'), ('body', None), ('comments_count', '0'), ('url', 'https://www.goodreads.com/review/show/2112905690'), ('link', 'https://www.goodreads.com/review/show/2112905690'), ('owned', '0')]), OrderedDict([('id', '2112851743'), ('book', OrderedDict([('id', OrderedDict([('@type', 'integer'), ('#text', '16299')])), ('isbn', '0312330871'), ('isbn13', '9780312330873'), ('text_reviews_count', OrderedDict([('@type', 'integer'), ('#text', '12132')])), ('title', 'And Then There Were None'), ('title_without_series', 'And Then There Were None'), ('image_url', 'https://images.gr-assets.com/books/1391120695m/16299.jpg'), ('small_image_url', 'https://images.gr-assets.com/books/1391120695s/16299.jpg'), ('large_image_url', None), ('link', 'https://www.goodreads.com/book/show/16299.And_Then_There_Were_None'), ('num_pages', '264'), ('format', None), ('edition_information', None), ('publisher', None), ('publication_day', None), ('publication_year', None), ('publication_month', None), ('average_rating', '4.23'), ('ratings_count', '462727'), ('description', \"First, there were ten - a curious assortment of strangers summoned as weekend guests to a private island off the coast of Devon. Their host, an eccentric millionaire unknown to all of them, is nowhere to be found. All that the guests have in common is a wicked past they're unwilling to reveal - and a secret that will seal their fate. For each has been marked for murder. One by one they fall prey. Before the weekend is out, there will be none. And only the dead are above suspicion.\"), ('authors', OrderedDict([('author', OrderedDict([('id', '123715'), ('name', 'Agatha Christie'), ('role', None), ('image_url', OrderedDict([('@nophoto', 'false'), ('#text', 'https://images.gr-assets.com/authors/1321738793p5/123715.jpg')])), ('small_image_url', OrderedDict([('@nophoto', 'false'), ('#text', 'https://images.gr-assets.com/authors/1321738793p2/123715.jpg')])), ('link', 'https://www.goodreads.com/author/show/123715.Agatha_Christie'), ('average_rating', '3.97'), ('ratings_count', '2470925'), ('text_reviews_count', '109764')]))])), ('published', None), ('work', OrderedDict([('id', '3038872')]))])), ('rating', '0'), ('votes', '0'), ('spoiler_flag', 'false'), ('spoilers_state', 'none'), ('shelves', OrderedDict([('shelf', OrderedDict([('@name', 'to-read'), ('@exclusive', 'true'), ('@review_shelf_id', '1764581511'), ('@sortable', 'true')]))])), ('recommended_for', None), ('recommended_by', None), ('started_at', None), ('read_at', None), ('date_added', 'Sun Sep 03 16:16:35 -0700 2017'), ('date_updated', 'Sun Sep 03 16:16:35 -0700 2017'), ('read_count', '0'), ('body', None), ('comments_count', '0'), ('url', 'https://www.goodreads.com/review/show/2112851743'), ('link', 'https://www.goodreads.com/review/show/2112851743'), ('owned', '0')]), OrderedDict([('id', '2112849976'), ('book', OrderedDict([('id', OrderedDict([('@type', 'integer'), ('#text', '21787')])), ('isbn', '0345418263'), ('isbn13', '9780345418265'), ('text_reviews_count', OrderedDict([('@type', 'integer'), ('#text', '11704')])), ('title', 'The Princess Bride'), ('title_without_series', 'The Princess Bride'), ('image_url', 'https://images.gr-assets.com/books/1327903636m/21787.jpg'), ('small_image_url', 'https://images.gr-assets.com/books/1327903636s/21787.jpg'), ('large_image_url', None), ('link', 'https://www.goodreads.com/book/show/21787.The_Princess_Bride'), ('num_pages', '398'), ('format', None), ('edition_information', '30th Anniversary Edition'), ('publisher', \"Ballantine Books (Ballantine Reader's Circle)\"), ('publication_day', '15'), ('publication_year', '2003'), ('publication_month', '7'), ('average_rating', '4.25'), ('ratings_count', '659173'), ('description', 'What happens when the most beautiful girl in the world marries the handsomest prince of all time and he turns out to be...well...a lot less than the man of her dreams?<br /><br />As a boy, William Goldman claims, he loved to hear his father read the S. Morgenstern classic, The Princess Bride. But as a grown-up he discovered that the boring parts were left out of good old Dad\\'s recitation, and only the \"good parts\" reached his ears.<br /><br />Now Goldman does Dad one better. He\\'s reconstructed the \"Good Parts Version\" to delight wise kids and wide-eyed grownups everywhere.<br /><br />What\\'s it about? Fencing. Fighting. True Love. Strong Hate. Harsh Revenge. A Few Giants. Lots of Bad Men. Lots of Good Men. Five or Six Beautiful Women. Beasties Monstrous and Gentle. Some Swell Escapes and Captures. Death, Lies, Truth, Miracles, and a Little Sex.<br /><br />In short, it\\'s about everything.'), ('authors', OrderedDict([('author', OrderedDict([('id', '12521'), ('name', 'William Goldman'), ('role', None), ('image_url', OrderedDict([('@nophoto', 'false'), ('#text', 'https://images.gr-assets.com/authors/1198704782p5/12521.jpg')])), ('small_image_url', OrderedDict([('@nophoto', 'false'), ('#text', 'https://images.gr-assets.com/authors/1198704782p2/12521.jpg')])), ('link', 'https://www.goodreads.com/author/show/12521.William_Goldman'), ('average_rating', '4.24'), ('ratings_count', '689142'), ('text_reviews_count', '16975')]))])), ('published', '2003'), ('work', OrderedDict([('id', '992628')]))])), ('rating', '0'), ('votes', '0'), ('spoiler_flag', 'false'), ('spoilers_state', 'none'), ('shelves', OrderedDict([('shelf', OrderedDict([('@name', 'to-read'), ('@exclusive', 'true'), ('@review_shelf_id', '1764579726'), ('@sortable', 'true')]))])), ('recommended_for', None), ('recommended_by', None), ('started_at', None), ('read_at', None), ('date_added', 'Sun Sep 03 16:14:17 -0700 2017'), ('date_updated', 'Sun Sep 03 16:14:18 -0700 2017'), ('read_count', '0'), ('body', None), ('comments_count', '0'), ('url', 'https://www.goodreads.com/review/show/2112849976'), ('link', 'https://www.goodreads.com/review/show/2112849976'), ('owned', '0')]), OrderedDict([('id', '2112849819'), ('book', OrderedDict([('id', OrderedDict([('@type', 'integer'), ('#text', '22628')])), ('isbn', '0671027344'), ('isbn13', '9780671027346'), ('text_reviews_count', OrderedDict([('@type', 'integer'), ('#text', '39718')])), ('title', 'The Perks of Being a Wallflower'), ('title_without_series', 'The Perks of Being a Wallflower'), ('image_url', 'https://images.gr-assets.com/books/1167352178m/22628.jpg'), ('small_image_url', 'https://images.gr-assets.com/books/1167352178s/22628.jpg'), ('large_image_url', None), ('link', 'https://www.goodreads.com/book/show/22628.The_Perks_of_Being_a_Wallflower'), ('num_pages', '213'), ('format', None), ('edition_information', None), ('publisher', 'MTV Books and Pocket Books'), ('publication_day', '1'), ('publication_year', '1999'), ('publication_month', '2'), ('average_rating', '4.21'), ('ratings_count', '959222'), ('description', 'The critically acclaimed debut novel from Stephen Chbosky, Perks follows observant “wallflower” Charlie as he charts a course through the strange world between adolescence and adulthood. First dates, family drama, and new friends. Sex, drugs, and The Rocky Horror Picture Show. Devastating loss, young love, and life on the fringes. Caught between trying to live his life and trying to run from it, Charlie must learn to navigate those wild and poignant roller-coaster days known as growing up.'), ('authors', OrderedDict([('author', OrderedDict([('id', '12898'), ('name', 'Stephen Chbosky'), ('role', None), ('image_url', OrderedDict([('@nophoto', 'false'), ('#text', 'https://images.gr-assets.com/authors/1199070302p5/12898.jpg')])), ('small_image_url', OrderedDict([('@nophoto', 'false'), ('#text', 'https://images.gr-assets.com/authors/1199070302p2/12898.jpg')])), ('link', 'https://www.goodreads.com/author/show/12898.Stephen_Chbosky'), ('average_rating', '4.21'), ('ratings_count', '960333'), ('text_reviews_count', '47328')]))])), ('published', '1999'), ('work', OrderedDict([('id', '2236198')]))])), ('rating', '0'), ('votes', '0'), ('spoiler_flag', 'false'), ('spoilers_state', 'none'), ('shelves', OrderedDict([('shelf', OrderedDict([('@name', 'to-read'), ('@exclusive', 'true'), ('@review_shelf_id', '1764579581'), ('@sortable', 'true')]))])), ('recommended_for', None), ('recommended_by', None), ('started_at', None), ('read_at', None), ('date_added', 'Sun Sep 03 16:14:06 -0700 2017'), ('date_updated', 'Sun Sep 03 16:14:07 -0700 2017'), ('read_count', '0'), ('body', None), ('comments_count', '0'), ('url', 'https://www.goodreads.com/review/show/2112849819'), ('link', 'https://www.goodreads.com/review/show/2112849819'), ('owned', '0')]), OrderedDict([('id', '2112847419'), ('book', OrderedDict([('id', OrderedDict([('@type', 'integer'), ('#text', '14891')])), ('isbn', '0061120073'), ('isbn13', '9780061120077'), ('text_reviews_count', OrderedDict([('@type', 'integer'), ('#text', '13686')])), ('title', 'A Tree Grows in Brooklyn'), ('title_without_series', 'A Tree Grows in Brooklyn'), ('image_url', 'https://images.gr-assets.com/books/1327883484m/14891.jpg'), ('small_image_url', 'https://images.gr-assets.com/books/1327883484s/14891.jpg'), ('large_image_url', None), ('link', 'https://www.goodreads.com/book/show/14891.A_Tree_Grows_in_Brooklyn'), ('num_pages', '496'), ('format', 'Paperback'), ('edition_information', 'Deckle Page Edition'), ('publisher', 'HarperCollins Publishers'), ('publication_day', '30'), ('publication_year', '2006'), ('publication_month', '5'), ('average_rating', '4.24'), ('ratings_count', '310061'), ('description', \"The beloved American classic about a young girl's coming-of-age at the turn of the century, Betty Smith's <i>A Tree Grows in Brooklyn</i> is a poignant and moving tale filled with compassion and cruelty, laughter and heartache, crowded with life and people and incident. The story of young, sensitive, and idealistic Francie Nolan and her bittersweet formative years in the slums of Williamsburg has enchanted and inspired millions of readers for more than sixty years. By turns overwhelming, sublime, heartbreaking, and uplifting, the daily experiences of the unforgettable Nolans are raw with honesty and tenderly threaded with family connectedness -- in a work of literary art that brilliantly captures a unique time and place as well as incredibly rich moments of universal experience.\"), ('authors', OrderedDict([('author', OrderedDict([('id', '2327917'), ('name', 'Betty  Smith'), ('role', None), ('image_url', OrderedDict([('@nophoto', 'false'), ('#text', 'https://images.gr-assets.com/authors/1238556081p5/2327917.jpg')])), ('small_image_url', OrderedDict([('@nophoto', 'false'), ('#text', 'https://images.gr-assets.com/authors/1238556081p2/2327917.jpg')])), ('link', 'https://www.goodreads.com/author/show/2327917.Betty_Smith'), ('average_rating', '4.23'), ('ratings_count', '318006'), ('text_reviews_count', '16959')]))])), ('published', '2006'), ('work', OrderedDict([('id', '833257')]))])), ('rating', '0'), ('votes', '0'), ('spoiler_flag', 'false'), ('spoilers_state', 'none'), ('shelves', OrderedDict([('shelf', OrderedDict([('@name', 'read'), ('@exclusive', 'true')]))])), ('recommended_for', None), ('recommended_by', None), ('started_at', None), ('read_at', None), ('date_added', 'Sun Sep 03 16:11:09 -0700 2017'), ('date_updated', 'Sun Sep 03 16:11:10 -0700 2017'), ('read_count', '1'), ('body', None), ('comments_count', '0'), ('url', 'https://www.goodreads.com/review/show/2112847419'), ('link', 'https://www.goodreads.com/review/show/2112847419'), ('owned', '0')]), OrderedDict([('id', '2112847141'), ('book', OrderedDict([('id', OrderedDict([('@type', 'integer'), ('#text', '7604')])), ('isbn', OrderedDict([('@nil', 'true')])), ('isbn13', OrderedDict([('@nil', 'true')])), ('text_reviews_count', OrderedDict([('@type', 'integer'), ('#text', '12320')])), ('title', 'Lolita'), ('title_without_series', 'Lolita'), ('image_url', 'https://images.gr-assets.com/books/1377756377m/7604.jpg'), ('small_image_url', 'https://images.gr-assets.com/books/1377756377s/7604.jpg'), ('large_image_url', None), ('link', 'https://www.goodreads.com/book/show/7604.Lolita'), ('num_pages', '331'), ('format', 'Paperback'), ('edition_information', 'New Edition, Penguin Modern Classics'), ('publisher', 'Penguin'), ('publication_day', None), ('publication_year', '1995'), ('publication_month', None), ('average_rating', '3.88'), ('ratings_count', '520066'), ('description', \"Humbert Humbert - scholar, aesthete and romantic - has fallen completely and utterly in love with Lolita Haze, his landlady's gum-snapping, silky skinned twelve-year-old daughter. Reluctantly agreeing to marry Mrs Haze just to be close to Lolita, Humbert suffers greatly in the pursuit of romance; but when Lo herself starts looking for attention elsewhere, he will carry her off on a desperate cross-country misadventure, all in the name of Love. Hilarious, flamboyant, heart-breaking and full of ingenious word play, Lolita is an immaculate, unforgettable masterpiece of obsession, delusion and lust.\"), ('authors', OrderedDict([('author', OrderedDict([('id', '5152'), ('name', 'Vladimir Nabokov'), ('role', None), ('image_url', OrderedDict([('@nophoto', 'false'), ('#text', 'https://images.gr-assets.com/authors/1482502806p5/5152.jpg')])), ('small_image_url', OrderedDict([('@nophoto', 'false'), ('#text', 'https://images.gr-assets.com/authors/1482502806p2/5152.jpg')])), ('link', 'https://www.goodreads.com/author/show/5152.Vladimir_Nabokov'), ('average_rating', '3.88'), ('ratings_count', '892674'), ('text_reviews_count', '32893')]))])), ('published', '1995'), ('work', OrderedDict([('id', '1268631')]))])), ('rating', '0'), ('votes', '0'), ('spoiler_flag', 'false'), ('spoilers_state', 'none'), ('shelves', OrderedDict([('shelf', OrderedDict([('@name', 'to-read'), ('@exclusive', 'true'), ('@review_shelf_id', '1764576967'), ('@sortable', 'true')]))])), ('recommended_for', None), ('recommended_by', None), ('started_at', None), ('read_at', None), ('date_added', 'Sun Sep 03 16:10:48 -0700 2017'), ('date_updated', 'Sun Sep 03 16:10:48 -0700 2017'), ('read_count', '0'), ('body', None), ('comments_count', '0'), ('url', 'https://www.goodreads.com/review/show/2112847141'), ('link', 'https://www.goodreads.com/review/show/2112847141'), ('owned', '0')]), OrderedDict([('id', '2112842389'), ('book', OrderedDict([('id', OrderedDict([('@type', 'integer'), ('#text', '21853621')])), ('isbn', '0312577222'), ('isbn13', '9780312577223'), ('text_reviews_count', OrderedDict([('@type', 'integer'), ('#text', '32251')])), ('title', 'The Nightingale'), ('title_without_series', 'The Nightingale'), ('image_url', 'https://images.gr-assets.com/books/1451446316m/21853621.jpg'), ('small_image_url', 'https://images.gr-assets.com/books/1451446316s/21853621.jpg'), ('large_image_url', None), ('link', 'https://www.goodreads.com/book/show/21853621-the-nightingale'), ('num_pages', '440'), ('format', 'Hardcover'), ('edition_information', '1st Edition'), ('publisher', \"St. Martin's Press\"), ('publication_day', '3'), ('publication_year', '2015'), ('publication_month', '2'), ('average_rating', '4.54'), ('ratings_count', '332753'), ('description', \"Despite their differences, sisters Vianne and Isabelle have always been close. Younger, bolder Isabelle lives in Paris while Vianne is content with life in the French countryside with her husband Antoine and their daughter. But when the Second World War strikes, Antoine is sent off to fight and Vianne finds herself isolated so Isabelle is sent by their father to help her. <br /><br />As the war progresses, the sisters' relationship and strength are tested. With life changing in unbelievably horrific ways, Vianne and Isabelle will find themselves facing frightening situations and responding in ways they never thought possible as bravery and resistance take different forms in each of their actions.\"), ('authors', OrderedDict([('author', OrderedDict([('id', '54493'), ('name', 'Kristin Hannah'), ('role', None), ('image_url', OrderedDict([('@nophoto', 'false'), ('#text', 'https://images.gr-assets.com/authors/1417050721p5/54493.jpg')])), ('small_image_url', OrderedDict([('@nophoto', 'false'), ('#text', 'https://images.gr-assets.com/authors/1417050721p2/54493.jpg')])), ('link', 'https://www.goodreads.com/author/show/54493.Kristin_Hannah'), ('average_rating', '4.21'), ('ratings_count', '919308'), ('text_reviews_count', '87855')]))])), ('published', '2015'), ('work', OrderedDict([('id', '41125521')]))])), ('rating', '0'), ('votes', '0'), ('spoiler_flag', 'false'), ('spoilers_state', 'none'), ('shelves', OrderedDict([('shelf', OrderedDict([('@name', 'to-read'), ('@exclusive', 'true'), ('@review_shelf_id', '1764572191'), ('@sortable', 'true')]))])), ('recommended_for', None), ('recommended_by', None), ('started_at', None), ('read_at', None), ('date_added', 'Sun Sep 03 16:04:33 -0700 2017'), ('date_updated', 'Sun Sep 03 16:04:33 -0700 2017'), ('read_count', '0'), ('body', None), ('comments_count', '0'), ('url', 'https://www.goodreads.com/review/show/2112842389'), ('link', 'https://www.goodreads.com/review/show/2112842389'), ('owned', '0')]), OrderedDict([('id', '2112838500'), ('book', OrderedDict([('id', OrderedDict([('@type', 'integer'), ('#text', '22822858')])), ('isbn', '0385539258'), ('isbn13', '9780385539258'), ('text_reviews_count', OrderedDict([('@type', 'integer'), ('#text', '12636')])), ('title', 'A Little Life'), ('title_without_series', 'A Little Life'), ('image_url', 'https://images.gr-assets.com/books/1446469353m/22822858.jpg'), ('small_image_url', 'https://images.gr-assets.com/books/1446469353s/22822858.jpg'), ('large_image_url', None), ('link', 'https://www.goodreads.com/book/show/22822858-a-little-life'), ('num_pages', '720'), ('format', 'Hardcover'), ('edition_information', 'First Edition'), ('publisher', 'Doubleday'), ('publication_day', '10'), ('publication_year', '2015'), ('publication_month', '3'), ('average_rating', '4.27'), ('ratings_count', '87641'), ('description', \"When four classmates from a small Massachusetts college move to New York to make their way, they're broke, adrift, and buoyed only by their friendship and ambition. There is kind, handsome Willem, an aspiring actor; JB, a quick-witted, sometimes cruel Brooklyn-born painter seeking entry to the art world; Malcolm, a frustrated architect at a prominent firm; and withdrawn, brilliant, enigmatic Jude, who serves as their center of gravity. <br /><br />Over the decades, their relationships deepen and darken, tinged by addiction, success, and pride.\\xa0Yet their greatest challenge, each comes to realize, is Jude himself, by midlife a terrifyingly talented litigator yet an increasingly broken man, his mind and body scarred by an unspeakable childhood, and haunted by what he fears is a degree of trauma that he’ll not only be unable to overcome—but that will define his life forever.\"), ('authors', OrderedDict([('author', OrderedDict([('id', '6571447'), ('name', 'Hanya Yanagihara'), ('role', None), ('image_url', OrderedDict([('@nophoto', 'false'), ('#text', 'https://images.gr-assets.com/authors/1421881815p5/6571447.jpg')])), ('small_image_url', OrderedDict([('@nophoto', 'false'), ('#text', 'https://images.gr-assets.com/authors/1421881815p2/6571447.jpg')])), ('link', 'https://www.goodreads.com/author/show/6571447.Hanya_Yanagihara'), ('average_rating', '4.21'), ('ratings_count', '96803'), ('text_reviews_count', '17153')]))])), ('published', '2015'), ('work', OrderedDict([('id', '42375710')]))])), ('rating', '0'), ('votes', '0'), ('spoiler_flag', 'false'), ('spoilers_state', 'none'), ('shelves', OrderedDict([('shelf', OrderedDict([('@name', 'to-read'), ('@exclusive', 'true'), ('@review_shelf_id', '1764568445'), ('@sortable', 'true')]))])), ('recommended_for', None), ('recommended_by', None), ('started_at', None), ('read_at', None), ('date_added', 'Sun Sep 03 15:59:26 -0700 2017'), ('date_updated', 'Sun Sep 03 15:59:27 -0700 2017'), ('read_count', '0'), ('body', None), ('comments_count', '0'), ('url', 'https://www.goodreads.com/review/show/2112838500'), ('link', 'https://www.goodreads.com/review/show/2112838500'), ('owned', '0')]), OrderedDict([('id', '2112010752'), ('book', OrderedDict([('id', OrderedDict([('@type', 'integer'), ('#text', '211264')])), ('isbn', '0007172893'), ('isbn13', '9780007172894'), ('text_reviews_count', OrderedDict([('@type', 'integer'), ('#text', '201')])), ('title', 'Fludd'), ('title_without_series', 'Fludd'), ('image_url', 'https://s.gr-assets.com/assets/nophoto/book/111x148-bcc042a9c91a29c1d680899eff700a03.png'), ('small_image_url', 'https://s.gr-assets.com/assets/nophoto/book/50x75-a91bf249278a81aabab721ef782c4a74.png'), ('large_image_url', None), ('link', 'https://www.goodreads.com/book/show/211264.Fludd'), ('num_pages', '186'), ('format', 'Paperback'), ('edition_information', None), ('publisher', 'Fourth Estate'), ('publication_day', None), ('publication_year', '2010'), ('publication_month', None), ('average_rating', '3.47'), ('ratings_count', '3200'), ('description', 'One dark and stormy night in 1956, a stranger named Fludd mysteriously turns up in the dismal village of Fetherhoughton. He is the curate sent by the bishop to assist Father Angwin-or is he? <br /><br />In the most unlikely of places, a superstitious town that understands little of romance or sentimentality, where bad blood between neighbors is ancient and impenetrable, miracles begin to bloom. <br /><br />No matter how copiously Father Angwin drinks while he confesses his broken faith, the level of the bottle does not drop. <br /><br />Although Fludd does not appear to be eating, the food on his plate disappears. <br /><br />Fludd becomes lover, gravedigger, and savior, transforming his dull office into a golden regency of decision, unashamed sensation, and unprecedented action. <br /><br />Knitting together the miraculous and the mundane, the dreadful and the ludicrous, Fludd is a tale of alchemy and transformation told with astonishing art, insight, humor, and wit.<br />'), ('authors', OrderedDict([('author', OrderedDict([('id', '58851'), ('name', 'Hilary Mantel'), ('role', None), ('image_url', OrderedDict([('@nophoto', 'false'), ('#text', 'https://images.gr-assets.com/authors/1334862633p5/58851.jpg')])), ('small_image_url', OrderedDict([('@nophoto', 'false'), ('#text', 'https://images.gr-assets.com/authors/1334862633p2/58851.jpg')])), ('link', 'https://www.goodreads.com/author/show/58851.Hilary_Mantel'), ('average_rating', '3.92'), ('ratings_count', '206855'), ('text_reviews_count', '23800')]))])), ('published', '2010'), ('work', OrderedDict([('id', '955904')]))])), ('rating', '0'), ('votes', '0'), ('spoiler_flag', 'false'), ('spoilers_state', 'none'), ('shelves', OrderedDict([('shelf', OrderedDict([('@name', 'to-read'), ('@exclusive', 'true'), ('@review_shelf_id', '1763760855'), ('@sortable', 'true')]))])), ('recommended_for', None), ('recommended_by', None), ('started_at', None), ('read_at', None), ('date_added', 'Sat Sep 02 19:53:00 -0700 2017'), ('date_updated', 'Sat Sep 02 19:53:00 -0700 2017'), ('read_count', '0'), ('body', None), ('comments_count', '0'), ('url', 'https://www.goodreads.com/review/show/2112010752'), ('link', 'https://www.goodreads.com/review/show/2112010752'), ('owned', '0')]), OrderedDict([('id', '2110861279'), ('book', OrderedDict([('id', OrderedDict([('@type', 'integer'), ('#text', '17668473')])), ('isbn', '0062278819'), ('isbn13', '9780062278814'), ('text_reviews_count', OrderedDict([('@type', 'integer'), ('#text', '1144')])), ('title', 'Prisoner of Night and Fog (Prisoner of Night and Fog, #1)'), ('title_without_series', 'Prisoner of Night and Fog'), ('image_url', 'https://images.gr-assets.com/books/1395470671m/17668473.jpg'), ('small_image_url', 'https://images.gr-assets.com/books/1395470671s/17668473.jpg'), ('large_image_url', None), ('link', 'https://www.goodreads.com/book/show/17668473-prisoner-of-night-and-fog'), ('num_pages', '401'), ('format', 'Hardcover'), ('edition_information', None), ('publisher', 'Balzer + Bray'), ('publication_day', '22'), ('publication_year', '2014'), ('publication_month', '4'), ('average_rating', '4.06'), ('ratings_count', '6373'), ('description', 'In 1930s Munich, danger lurks behind dark corners, and secrets are buried deep within the city. But Gretchen Müller, who grew up in the National Socialist Party under the wing of her \"uncle\" Dolf, has been shielded from that side of society ever since her father traded his life for Dolf\\'s, and Gretchen is his favorite, his pet.<br /><br />Uncle Dolf is none other than Adolf Hitler. And Gretchen follows his every command.<br /><br />Until she meets a fearless and handsome young Jewish reporter named Daniel Cohen. Gretchen should despise Daniel, yet she can\\'t stop herself from listening to his story: that her father, the adored Nazi martyr, was actually murdered by an unknown comrade. She also can\\'t help the fierce attraction brewing between them, despite everything she\\'s been taught to believe about Jews.<br /><br />As Gretchen investigates the very people she\\'s always considered friends, she must decide where her loyalties lie. Will she choose the safety of her former life as a Nazi darling, or will she dare to dig up the truth—even if it could get her and Daniel killed?<br /><br />From debut author Anne Blankman comes this harrowing and evocative story about an ordinary girl faced with the extraordinary decision to give up everything she\\'s ever believed . . . and to trust her own heart instead.'), ('authors', OrderedDict([('author', OrderedDict([('id', '7012378'), ('name', 'Anne Blankman'), ('role', None), ('image_url', OrderedDict([('@nophoto', 'false'), ('#text', 'https://images.gr-assets.com/authors/1374190458p5/7012378.jpg')])), ('small_image_url', OrderedDict([('@nophoto', 'false'), ('#text', 'https://images.gr-assets.com/authors/1374190458p2/7012378.jpg')])), ('link', 'https://www.goodreads.com/author/show/7012378.Anne_Blankman'), ('average_rating', '4.03'), ('ratings_count', '8630'), ('text_reviews_count', '1825')]))])), ('published', '2014'), ('work', OrderedDict([('id', '24664532')]))])), ('rating', '0'), ('votes', '0'), ('spoiler_flag', 'false'), ('spoilers_state', 'none'), ('shelves', OrderedDict([('shelf', OrderedDict([('@name', 'to-read'), ('@exclusive', 'true'), ('@review_shelf_id', '1762619884'), ('@sortable', 'true')]))])), ('recommended_for', None), ('recommended_by', None), ('started_at', None), ('read_at', None), ('date_added', 'Fri Sep 01 15:08:18 -0700 2017'), ('date_updated', 'Fri Sep 01 15:08:19 -0700 2017'), ('read_count', '0'), ('body', None), ('comments_count', '0'), ('url', 'https://www.goodreads.com/review/show/2110861279'), ('link', 'https://www.goodreads.com/review/show/2110861279'), ('owned', '0')]), OrderedDict([('id', '2110860513'), ('book', OrderedDict([('id', OrderedDict([('@type', 'integer'), ('#text', '24807186')])), ('isbn', '0316405124'), ('isbn13', '9780316405126'), ('text_reviews_count', OrderedDict([('@type', 'integer'), ('#text', '2151')])), ('title', 'Wolf by Wolf (Wolf by Wolf, #1)'), ('title_without_series', 'Wolf by Wolf'), ('image_url', 'https://images.gr-assets.com/books/1424193184m/24807186.jpg'), ('small_image_url', 'https://images.gr-assets.com/books/1424193184s/24807186.jpg'), ('large_image_url', None), ('link', 'https://www.goodreads.com/book/show/24807186-wolf-by-wolf'), ('num_pages', '388'), ('format', 'Hardcover'), ('edition_information', None), ('publisher', 'Little, Brown Books for Young Readers'), ('publication_day', '20'), ('publication_year', '2015'), ('publication_month', '10'), ('average_rating', '4.29'), ('ratings_count', '10560'), ('description', '<i>Her story begins on a train.</i><br /><br />The year is 1956, and the Axis powers of the Third Reich and Imperial Japan rule. To commemorate their Great Victory, Hitler and Emperor Hirohito host the Axis Tour: an annual motorcycle race across their conjoined continents. The victor is awarded an audience with the highly reclusive Adolf Hitler at the Victor’s Ball in Tokyo.<br /><br />Yael, a former death camp prisoner, has witnessed too much suffering, and the five wolves tattooed on her arm are a constant reminder of the loved ones she lost. The resistance has given Yael one goal: Win the race and kill Hitler. A survivor of painful human experimentation, Yael has the power to skinshift and must complete her mission by impersonating last year’s only female racer, Adele Wolfe. This deception becomes more difficult when Felix, Adele twin’s brother, and Luka, her former love interest, enter the race and watch Yael’s every move.<br /><br />But as Yael grows closer to the other competitors, can she bring herself to be as ruthless as she needs to be to avoid discovery and complete her mission?<br /><br />From the author of <i>The Walled City</i> comes a fast-paced and innovative novel that will leave you breathless.'), ('authors', OrderedDict([('author', OrderedDict([('id', '5228256'), ('name', 'Ryan Graudin'), ('role', None), ('image_url', OrderedDict([('@nophoto', 'false'), ('#text', 'https://images.gr-assets.com/authors/1480517006p5/5228256.jpg')])), ('small_image_url', OrderedDict([('@nophoto', 'false'), ('#text', 'https://images.gr-assets.com/authors/1480517006p2/5228256.jpg')])), ('link', 'https://www.goodreads.com/author/show/5228256.Ryan_Graudin'), ('average_rating', '4.13'), ('ratings_count', '21763'), ('text_reviews_count', '5286')]))])), ('published', '2015'), ('work', OrderedDict([('id', '44446095')]))])), ('rating', '0'), ('votes', '0'), ('spoiler_flag', 'false'), ('spoilers_state', 'none'), ('shelves', OrderedDict([('shelf', OrderedDict([('@name', 'to-read'), ('@exclusive', 'true'), ('@review_shelf_id', '1762619126'), ('@sortable', 'true')]))])), ('recommended_for', None), ('recommended_by', None), ('started_at', None), ('read_at', None), ('date_added', 'Fri Sep 01 15:07:23 -0700 2017'), ('date_updated', 'Fri Sep 01 15:07:24 -0700 2017'), ('read_count', '0'), ('body', None), ('comments_count', '0'), ('url', 'https://www.goodreads.com/review/show/2110860513'), ('link', 'https://www.goodreads.com/review/show/2110860513'), ('owned', '0')]), OrderedDict([('id', '2110860209'), ('book', OrderedDict([('id', OrderedDict([('@type', 'integer'), ('#text', '18798983')])), ('isbn', '0399171614'), ('isbn13', '9780399171611'), ('text_reviews_count', OrderedDict([('@type', 'integer'), ('#text', '10263')])), ('title', 'The Wrath and the Dawn (The Wrath and the Dawn, #1)'), ('title_without_series', 'The Wrath and the Dawn'), ('image_url', 'https://images.gr-assets.com/books/1417956963m/18798983.jpg'), ('small_image_url', 'https://images.gr-assets.com/books/1417956963s/18798983.jpg'), ('large_image_url', None), ('link', 'https://www.goodreads.com/book/show/18798983-the-wrath-and-the-dawn'), ('num_pages', '395'), ('format', 'Hardcover'), ('edition_information', None), ('publisher', \"G.P. Putnam's Sons Books for Young Readers\"), ('publication_day', '12'), ('publication_year', '2015'), ('publication_month', '5'), ('average_rating', '4.19'), ('ratings_count', '66006'), ('description', \"<b>One Life to One Dawn.</b><br /><br />In a land ruled by a murderous boy-king, each dawn brings heartache to a new family. Khalid, the eighteen-year-old Caliph of Khorasan, is a monster. Each night he takes a new bride only to have a silk cord wrapped around her throat come morning. When sixteen-year-old Shahrzad's dearest friend falls victim to Khalid, Shahrzad vows vengeance and volunteers to be his next bride. Shahrzad is determined not only to stay alive, but to end the caliph's reign of terror once and for all.<br /><br />Night after night, Shahrzad beguiles Khalid, weaving stories that enchant, ensuring her survival, though she knows each dawn could be her last. But something she never expected begins to happen: Khalid is nothing like what she'd imagined him to be. This monster is a boy with a tormented heart. Incredibly, Shahrzad finds herself falling in love. How is this possible? It's an unforgivable betrayal. Still, Shahrzad has come to understand all is not as it seems in this palace of marble and stone. She resolves to uncover whatever secrets lurk and, despite her love, be ready to take Khalid's life as retribution for the many lives he's stolen. Can their love survive this world of stories and secrets?\"), ('authors', OrderedDict([('author', OrderedDict([('id', '4600197'), ('name', 'Renee Ahdieh'), ('role', None), ('image_url', OrderedDict([('@nophoto', 'false'), ('#text', 'https://images.gr-assets.com/authors/1487663209p5/4600197.jpg')])), ('small_image_url', OrderedDict([('@nophoto', 'false'), ('#text', 'https://images.gr-assets.com/authors/1487663209p2/4600197.jpg')])), ('link', 'https://www.goodreads.com/author/show/4600197.Renee_Ahdieh'), ('average_rating', '4.13'), ('ratings_count', '121445'), ('text_reviews_count', '23225')]))])), ('published', '2015'), ('work', OrderedDict([('id', '26724902')]))])), ('rating', '0'), ('votes', '0'), ('spoiler_flag', 'false'), ('spoilers_state', 'none'), ('shelves', OrderedDict([('shelf', OrderedDict([('@name', 'to-read'), ('@exclusive', 'true'), ('@review_shelf_id', '1762618835'), ('@sortable', 'true')]))])), ('recommended_for', None), ('recommended_by', None), ('started_at', None), ('read_at', None), ('date_added', 'Fri Sep 01 15:07:00 -0700 2017'), ('date_updated', 'Fri Sep 01 15:07:01 -0700 2017'), ('read_count', '0'), ('body', None), ('comments_count', '0'), ('url', 'https://www.goodreads.com/review/show/2110860209'), ('link', 'https://www.goodreads.com/review/show/2110860209'), ('owned', '0')]), OrderedDict([('id', '2110858227'), ('book', OrderedDict([('id', OrderedDict([('@type', 'integer'), ('#text', '35054530')])), ('isbn', OrderedDict([('@nil', 'true')])), ('isbn13', OrderedDict([('@nil', 'true')])), ('text_reviews_count', OrderedDict([('@type', 'integer'), ('#text', '10')])), ('title', 'Perception of Life (Perception, #1)'), ('title_without_series', 'Perception of Life'), ('image_url', 'https://images.gr-assets.com/books/1493779760m/35054530.jpg'), ('small_image_url', 'https://images.gr-assets.com/books/1493779760s/35054530.jpg'), ('large_image_url', None), ('link', 'https://www.goodreads.com/book/show/35054530-perception-of-life'), ('num_pages', None), ('format', 'Kindle Edition'), ('edition_information', 'NEW COVER EDITION'), ('publisher', None), ('publication_day', None), ('publication_year', None), ('publication_month', None), ('average_rating', '4.07'), ('ratings_count', '317'), ('description', \"Noah Taylor is on the cusp of stardom with his band 'Rise Up'. Noah's soul has been shattered beyond repair after a series of devastating family events. The last thing that Noah wants is a committed relationship. But Noah soon learns that life doesn't always work out the way you plan. Sometimes life can take you on a small detour. <br /><br />You will never want another book boyfriend after you meet Noah Taylor. <br /><br />This novel is sexy, gritty and a little bit raw. <br /><br />Please note this novel contains adult content, such as swear words and sexual references.\"), ('authors', OrderedDict([('author', OrderedDict([('id', '15042820'), ('name', 'Shandi Boyes'), ('role', None), ('image_url', OrderedDict([('@nophoto', 'false'), ('#text', 'https://images.gr-assets.com/authors/1494718356p5/15042820.jpg')])), ('small_image_url', OrderedDict([('@nophoto', 'false'), ('#text', 'https://images.gr-assets.com/authors/1494718356p2/15042820.jpg')])), ('link', 'https://www.goodreads.com/author/show/15042820.Shandi_Boyes'), ('average_rating', '4.49'), ('ratings_count', '1318'), ('text_reviews_count', '621')]))])), ('published', None), ('work', OrderedDict([('id', '49607183')]))])), ('rating', '0'), ('votes', '0'), ('spoiler_flag', 'false'), ('spoilers_state', 'none'), ('shelves', OrderedDict([('shelf', OrderedDict([('@name', 'to-read'), ('@exclusive', 'true'), ('@review_shelf_id', '1762616958'), ('@sortable', 'true')]))])), ('recommended_for', None), ('recommended_by', None), ('started_at', None), ('read_at', None), ('date_added', 'Fri Sep 01 15:04:25 -0700 2017'), ('date_updated', 'Fri Sep 01 15:04:25 -0700 2017'), ('read_count', '0'), ('body', None), ('comments_count', '0'), ('url', 'https://www.goodreads.com/review/show/2110858227'), ('link', 'https://www.goodreads.com/review/show/2110858227'), ('owned', '0')]), OrderedDict([('id', '2110857222'), ('book', OrderedDict([('id', OrderedDict([('@type', 'integer'), ('#text', '28373129')])), ('isbn', OrderedDict([('@nil', 'true')])), ('isbn13', OrderedDict([('@nil', 'true')])), ('text_reviews_count', OrderedDict([('@type', 'integer'), ('#text', '18')])), ('title', 'The Forever Broken'), ('title_without_series', 'The Forever Broken'), ('image_url', 'https://images.gr-assets.com/books/1500827937m/28373129.jpg'), ('small_image_url', 'https://images.gr-assets.com/books/1500827937s/28373129.jpg'), ('large_image_url', None), ('link', 'https://www.goodreads.com/book/show/28373129-the-forever-broken'), ('num_pages', None), ('format', None), ('edition_information', None), ('publisher', None), ('publication_day', '29'), ('publication_year', '2016'), ('publication_month', '1'), ('average_rating', '4.28'), ('ratings_count', '95'), ('description', 'A BROKEN NOVELLA. <br /><br /><br />Blaydon has been playing with fire when it comes to his best friend’s twin siblings, Quinn and Sofia. Sneaking behind everyone’s back to be with them both, he finds himself struggling to choose between them. But maybe it’s not his choice to make. <br />When Sofia’s troubles become too much for her to bear, will a desperate act force their truths into the light? Some secrets are used to cover even more painful deceits and they are about to cost them all immeasurably.'), ('authors', OrderedDict([('author', OrderedDict([('id', '7313508'), ('name', 'Ker Dukey'), ('role', None), ('image_url', OrderedDict([('@nophoto', 'false'), ('#text', 'https://images.gr-assets.com/authors/1420896526p5/7313508.jpg')])), ('small_image_url', OrderedDict([('@nophoto', 'false'), ('#text', 'https://images.gr-assets.com/authors/1420896526p2/7313508.jpg')])), ('link', 'https://www.goodreads.com/author/show/7313508.Ker_Dukey'), ('average_rating', '4.20'), ('ratings_count', '30307'), ('text_reviews_count', '6613')]))])), ('published', '2016'), ('work', OrderedDict([('id', '48453519')]))])), ('rating', '0'), ('votes', '0'), ('spoiler_flag', 'false'), ('spoilers_state', 'none'), ('shelves', OrderedDict([('shelf', OrderedDict([('@name', 'to-read'), ('@exclusive', 'true'), ('@review_shelf_id', '1762616035'), ('@sortable', 'true')]))])), ('recommended_for', None), ('recommended_by', None), ('started_at', None), ('read_at', None), ('date_added', 'Fri Sep 01 15:03:11 -0700 2017'), ('date_updated', 'Fri Sep 01 15:03:11 -0700 2017'), ('read_count', '0'), ('body', None), ('comments_count', '0'), ('url', 'https://www.goodreads.com/review/show/2110857222'), ('link', 'https://www.goodreads.com/review/show/2110857222'), ('owned', '0')])])]))]))])\n"
     ]
    }
   ],
   "source": [
    "print(revxml)"
   ]
  },
  {
   "cell_type": "code",
   "execution_count": 67,
   "metadata": {
    "collapsed": true
   },
   "outputs": [],
   "source": [
    "bookdica = dict()"
   ]
  },
  {
   "cell_type": "code",
   "execution_count": 68,
   "metadata": {
    "collapsed": false,
    "scrolled": true
   },
   "outputs": [
    {
     "name": "stdout",
     "output_type": "stream",
     "text": [
      "OrderedDict([('@nil', 'true')])\n",
      "All the Breaking Waves\n",
      "all-the-breaking-waves\n",
      "https://images.gr-assets.com/books/1470750981m/31139576.jpg\n",
      "Kerry Lonsdale\n",
      "From the bestselling author of Everything We Keep comes a gripping tale of long-buried secrets, the strength of forgiveness, and the healing power of returning home for good.After a harrowing accident tore her family apart, Molly Brennan fled from the man she loved and the tragic mistake she made.Twelve years later, Molly has created a new life for herself and her eight-year-old daughter, Cassie. The art history professor crafts jewelry as unique and weathered as the surf-tumbled sea glass she collects, while raising her daughter in a safe and loving environment—something Molly never had. But when Cassie is plagued by horrific visions and debilitating nightmares, Molly is forced to return to the one place she swore she’d never move back to—home to Pacific Grove.A riveting exploration of love, secrets, and motherhood, All the Breaking Waves is the poignant story of a woman who discovers she must confront her past, let go of her guilt, and summon everything in her power to save her daughter.\n",
      "1471400360\n",
      "Paper Aeroplanes (Paper Aeroplanes, #1)\n",
      "paper-aeroplanes\n",
      "https://images.gr-assets.com/books/1366494917m/17315134.jpg\n",
      "Dawn O'Porter\n",
      "It's the mid-1990s, and fifteen year-old Guernsey schoolgirls, Renée and Flo, are not really meant to be friends. Thoughtful, introspective and studious Flo couldn't be more different to ambitious, extroverted and sexually curious Renée. But Renée and Flo are united by loneliness and their dysfunctional families, and an intense bond is formed. Although there are obstacles to their friendship (namely Flo's jealous ex-best friend and Renée's growing infatuation with Flo's brother), fifteen is an age where anything can happen, where life stretches out before you, and when every betrayal feels like the end of the world. For Renée and Flo it is the time of their lives.With graphic content and some scenes of a sexual nature, PAPER AEROPLANES is a gritty, poignant, often laugh-out-loud funny and powerful novel. It is an unforgettable snapshot of small-town adolescence and the heart-stopping power of female friendship.\n",
      "2013-05-02T00:00:00+00:00\n",
      "4 years ago\n",
      "0141043768\n",
      "What Alice Forgot\n",
      "what-alice-forgot\n",
      "https://images.gr-assets.com/books/1377159022m/6469165.jpg\n",
      "Liane Moriarty\n",
      "Alice Love is twenty-nine, crazy about her husband, and pregnant with her first child.So imagine Alice’s surprise when she comes to on the floor of a gym and is whisked off to the hospital where she discovers the honeymoon is truly over — she’s getting divorced, she has three kids and she’s actually 39 years old. Alice must reconstruct the events of a lost decade, and find out whether it’s possible to reconstruct her life at the same time. She has to figure out why her sister hardly talks to her, and how is it that she’s become one of those super skinny moms with really expensive clothes. Ultimately, Alice must discover whether forgetting is a blessing or a curse, and whether it’s possible to start over.\n",
      "0670026603\n",
      "Me Before You (Me Before You, #1)\n",
      "me-before-you\n",
      "https://images.gr-assets.com/books/1357108762m/15507958.jpg\n",
      "Jojo Moyes\n",
      "Louisa Clark is an ordinary young woman living an exceedingly ordinary life—steady boyfriend, close family—who has never been farther afield than their tiny village. She takes a badly needed job working for ex-Master of the Universe Will Traynor, who is wheelchair-bound after an accident. Will has always lived a huge life—big deals, extreme sports, worldwide travel—and now he’s pretty sure he cannot live the way he is. Will is acerbic, moody, bossy—but Lou refuses to treat him with kid gloves, and soon his happiness means more to her than she expected. When she learns that Will has shocking plans of his own, she sets out to show him that life is still worth living.A love story for this generation, Me Before You brings to life two people who couldn’t have less in common—a heartbreakingly romantic novel that asks, What do you do when making the person you love happy also means breaking your own heart?\n",
      "2012-12-31T00:00:00+00:00\n",
      "4 years ago\n",
      "161984625X\n",
      "The Color Project\n",
      "the-color-project\n",
      "https://images.gr-assets.com/books/1495203898m/22892448.jpg\n",
      "Sierra Abrams\n",
      "Bernice Aurora Wescott has one thing she doesn't want anyone to know: her name. That is, until Bee meets Levi, the local golden boy who runs a charity organization called The Color Project.Levi is not at all shy about attempting to guess Bee’s real name; his persistence is one of the many reasons why Bee falls for him. But while Levi is everything she never knew she needed, giving up her name would feel like a stamp on forever. And that terrifies her.When unexpected news of an illness in the family drains Bee's summer of everything bright, she is pushed to the breaking point. Losing herself in The Color Project—a world of weddings, funerals, cancer patients, and hopeful families that the charity funds—is no longer enough. Bee must hold up the weight of her family, but to do that, she needs Levi. She’ll have to give up her name and let him in completely or lose the best thing that’s ever happened to her.For fans of Stephanie Perkins and Morgan Matson, THE COLOR PROJECT is a story about the three great loves of life—family, friendship, and romance—and the bonds that withstand tragedy.\n",
      "2017-08-17T00:00:00+00:00\n",
      "22 days ago\n",
      "0385497148\n",
      "Waterfront: A Walk Around Manhattan\n",
      "waterfront:-a-walk-around-manhattan\n",
      "https://s.gr-assets.com/assets/nophoto/book/111x148-bcc042a9c91a29c1d680899eff700a03.png\n",
      "Phillip Lopate\n",
      "East Side, West Side, from the Little Red Lighthouse to Battery Park City, the wonders of Manhattan's waterfront are both celebrated and secret -- hidden in plain sight. In his brilliant exploration of this defining yet neglected shoreline, personal essayist Philip Lopate also recovers a part of the city's soul. A native New Yorker, Lopate has embraced Manhattan by walking every inch of its perimeter, telling stories on the way of pirates (Captain Kidd) and power brokers (Robert Moses), the lowly shipworm and Typhoid Mary, public housing in Harlem and the building of the Brooklyn Bridge. He evokes the magic of the once bustling old port from Melville's and Whitman's day to the era of the longshoremen in On the Waterfront, while appraising today's developers and environmental activists, and probing new plans for parks and pleasure domes with river views. Whether escorting us into unfamiliar, hazardous crannies or along a Beaux Arts esplanade, Waterfront is a grand literary ramble and defense of urban life by one of our most perceptive observers.\n",
      "2005-05-10T00:00:00+00:00\n",
      "12 years ago\n",
      "0440211824\n",
      "The Jade Pagoda\n",
      "the-jade-pagoda\n",
      "https://images.gr-assets.com/books/1364502669m/3316191.jpg\n",
      "Marion Clarke\n",
      "\"His mansion was a maze of mysteries, his past a puzzle too dangerous to probe...\"As Lesley Blair decorates the bridal suite of handsome widower Drake Wynfield in anticipation of his pending nuptials, she discovers that something is terribly wrong in his lavish home.\n",
      "1992-11-01T00:00:00+00:00\n",
      "24 years ago\n",
      "0312330871\n",
      "And Then There Were None\n",
      "and-then-there-were-none\n",
      "https://images.gr-assets.com/books/1391120695m/16299.jpg\n",
      "Agatha Christie\n",
      "First, there were ten - a curious assortment of strangers summoned as weekend guests to a private island off the coast of Devon. Their host, an eccentric millionaire unknown to all of them, is nowhere to be found. All that the guests have in common is a wicked past they're unwilling to reveal - and a secret that will seal their fate. For each has been marked for murder. One by one they fall prey. Before the weekend is out, there will be none. And only the dead are above suspicion.\n",
      "0345418263\n",
      "The Princess Bride\n",
      "the-princess-bride\n",
      "https://images.gr-assets.com/books/1327903636m/21787.jpg\n",
      "William Goldman\n",
      "What happens when the most beautiful girl in the world marries the handsomest prince of all time and he turns out to be...well...a lot less than the man of her dreams?As a boy, William Goldman claims, he loved to hear his father read the S. Morgenstern classic, The Princess Bride. But as a grown-up he discovered that the boring parts were left out of good old Dad's recitation, and only the \"good parts\" reached his ears.Now Goldman does Dad one better. He's reconstructed the \"Good Parts Version\" to delight wise kids and wide-eyed grownups everywhere.What's it about? Fencing. Fighting. True Love. Strong Hate. Harsh Revenge. A Few Giants. Lots of Bad Men. Lots of Good Men. Five or Six Beautiful Women. Beasties Monstrous and Gentle. Some Swell Escapes and Captures. Death, Lies, Truth, Miracles, and a Little Sex.In short, it's about everything.\n",
      "2003-07-15T00:00:00+00:00\n",
      "14 years ago\n",
      "0671027344\n",
      "The Perks of Being a Wallflower\n",
      "the-perks-of-being-a-wallflower\n",
      "https://images.gr-assets.com/books/1167352178m/22628.jpg\n",
      "Stephen Chbosky\n",
      "The critically acclaimed debut novel from Stephen Chbosky, Perks follows observant “wallflower” Charlie as he charts a course through the strange world between adolescence and adulthood. First dates, family drama, and new friends. Sex, drugs, and The Rocky Horror Picture Show. Devastating loss, young love, and life on the fringes. Caught between trying to live his life and trying to run from it, Charlie must learn to navigate those wild and poignant roller-coaster days known as growing up.\n",
      "1999-02-01T00:00:00+00:00\n",
      "18 years ago\n",
      "0061120073\n",
      "A Tree Grows in Brooklyn\n",
      "a-tree-grows-in-brooklyn\n",
      "https://images.gr-assets.com/books/1327883484m/14891.jpg\n",
      "Betty  Smith\n",
      "The beloved American classic about a young girl's coming-of-age at the turn of the century, Betty Smith's A Tree Grows in Brooklyn is a poignant and moving tale filled with compassion and cruelty, laughter and heartache, crowded with life and people and incident. The story of young, sensitive, and idealistic Francie Nolan and her bittersweet formative years in the slums of Williamsburg has enchanted and inspired millions of readers for more than sixty years. By turns overwhelming, sublime, heartbreaking, and uplifting, the daily experiences of the unforgettable Nolans are raw with honesty and tenderly threaded with family connectedness -- in a work of literary art that brilliantly captures a unique time and place as well as incredibly rich moments of universal experience.\n",
      "2006-05-30T00:00:00+00:00\n",
      "11 years ago\n",
      "OrderedDict([('@nil', 'true')])\n",
      "Lolita\n",
      "lolita\n",
      "https://images.gr-assets.com/books/1377756377m/7604.jpg\n",
      "Vladimir Nabokov\n",
      "Humbert Humbert - scholar, aesthete and romantic - has fallen completely and utterly in love with Lolita Haze, his landlady's gum-snapping, silky skinned twelve-year-old daughter. Reluctantly agreeing to marry Mrs Haze just to be close to Lolita, Humbert suffers greatly in the pursuit of romance; but when Lo herself starts looking for attention elsewhere, he will carry her off on a desperate cross-country misadventure, all in the name of Love. Hilarious, flamboyant, heart-breaking and full of ingenious word play, Lolita is an immaculate, unforgettable masterpiece of obsession, delusion and lust.\n",
      "0312577222\n",
      "The Nightingale\n",
      "the-nightingale\n",
      "https://images.gr-assets.com/books/1451446316m/21853621.jpg\n",
      "Kristin Hannah\n",
      "Despite their differences, sisters Vianne and Isabelle have always been close. Younger, bolder Isabelle lives in Paris while Vianne is content with life in the French countryside with her husband Antoine and their daughter. But when the Second World War strikes, Antoine is sent off to fight and Vianne finds herself isolated so Isabelle is sent by their father to help her. As the war progresses, the sisters' relationship and strength are tested. With life changing in unbelievably horrific ways, Vianne and Isabelle will find themselves facing frightening situations and responding in ways they never thought possible as bravery and resistance take different forms in each of their actions.\n",
      "2015-02-03T00:00:00+00:00\n",
      "2 years ago\n",
      "0385539258\n",
      "A Little Life\n",
      "a-little-life\n",
      "https://images.gr-assets.com/books/1446469353m/22822858.jpg\n",
      "Hanya Yanagihara\n",
      "When four classmates from a small Massachusetts college move to New York to make their way, they're broke, adrift, and buoyed only by their friendship and ambition. There is kind, handsome Willem, an aspiring actor; JB, a quick-witted, sometimes cruel Brooklyn-born painter seeking entry to the art world; Malcolm, a frustrated architect at a prominent firm; and withdrawn, brilliant, enigmatic Jude, who serves as their center of gravity. Over the decades, their relationships deepen and darken, tinged by addiction, success, and pride. Yet their greatest challenge, each comes to realize, is Jude himself, by midlife a terrifyingly talented litigator yet an increasingly broken man, his mind and body scarred by an unspeakable childhood, and haunted by what he fears is a degree of trauma that he’ll not only be unable to overcome—but that will define his life forever.\n",
      "2015-03-10T00:00:00+00:00\n",
      "2 years ago\n",
      "0007172893\n",
      "Fludd\n",
      "fludd\n",
      "https://s.gr-assets.com/assets/nophoto/book/111x148-bcc042a9c91a29c1d680899eff700a03.png\n",
      "Hilary Mantel\n",
      "One dark and stormy night in 1956, a stranger named Fludd mysteriously turns up in the dismal village of Fetherhoughton. He is the curate sent by the bishop to assist Father Angwin-or is he? In the most unlikely of places, a superstitious town that understands little of romance or sentimentality, where bad blood between neighbors is ancient and impenetrable, miracles begin to bloom. No matter how copiously Father Angwin drinks while he confesses his broken faith, the level of the bottle does not drop. Although Fludd does not appear to be eating, the food on his plate disappears. Fludd becomes lover, gravedigger, and savior, transforming his dull office into a golden regency of decision, unashamed sensation, and unprecedented action. Knitting together the miraculous and the mundane, the dreadful and the ludicrous, Fludd is a tale of alchemy and transformation told with astonishing art, insight, humor, and wit.\n",
      "0062278819\n",
      "Prisoner of Night and Fog (Prisoner of Night and Fog, #1)\n",
      "prisoner-of-night-and-fog\n",
      "https://images.gr-assets.com/books/1395470671m/17668473.jpg\n",
      "Anne Blankman\n",
      "In 1930s Munich, danger lurks behind dark corners, and secrets are buried deep within the city. But Gretchen Müller, who grew up in the National Socialist Party under the wing of her \"uncle\" Dolf, has been shielded from that side of society ever since her father traded his life for Dolf's, and Gretchen is his favorite, his pet.Uncle Dolf is none other than Adolf Hitler. And Gretchen follows his every command.Until she meets a fearless and handsome young Jewish reporter named Daniel Cohen. Gretchen should despise Daniel, yet she can't stop herself from listening to his story: that her father, the adored Nazi martyr, was actually murdered by an unknown comrade. She also can't help the fierce attraction brewing between them, despite everything she's been taught to believe about Jews.As Gretchen investigates the very people she's always considered friends, she must decide where her loyalties lie. Will she choose the safety of her former life as a Nazi darling, or will she dare to dig up the truth—even if it could get her and Daniel killed?From debut author Anne Blankman comes this harrowing and evocative story about an ordinary girl faced with the extraordinary decision to give up everything she's ever believed . . . and to trust her own heart instead.\n",
      "2014-04-22T00:00:00+00:00\n",
      "3 years ago\n",
      "0316405124\n",
      "Wolf by Wolf (Wolf by Wolf, #1)\n",
      "wolf-by-wolf\n",
      "https://images.gr-assets.com/books/1424193184m/24807186.jpg\n",
      "Ryan Graudin\n",
      "Her story begins on a train.The year is 1956, and the Axis powers of the Third Reich and Imperial Japan rule. To commemorate their Great Victory, Hitler and Emperor Hirohito host the Axis Tour: an annual motorcycle race across their conjoined continents. The victor is awarded an audience with the highly reclusive Adolf Hitler at the Victor’s Ball in Tokyo.Yael, a former death camp prisoner, has witnessed too much suffering, and the five wolves tattooed on her arm are a constant reminder of the loved ones she lost. The resistance has given Yael one goal: Win the race and kill Hitler. A survivor of painful human experimentation, Yael has the power to skinshift and must complete her mission by impersonating last year’s only female racer, Adele Wolfe. This deception becomes more difficult when Felix, Adele twin’s brother, and Luka, her former love interest, enter the race and watch Yael’s every move.But as Yael grows closer to the other competitors, can she bring herself to be as ruthless as she needs to be to avoid discovery and complete her mission?From the author of The Walled City comes a fast-paced and innovative novel that will leave you breathless.\n",
      "2015-10-20T00:00:00+00:00\n",
      "2 years ago\n",
      "0399171614\n",
      "The Wrath and the Dawn (The Wrath and the Dawn, #1)\n",
      "the-wrath-and-the-dawn\n",
      "https://images.gr-assets.com/books/1417956963m/18798983.jpg\n",
      "Renee Ahdieh\n",
      "One Life to One Dawn.In a land ruled by a murderous boy-king, each dawn brings heartache to a new family. Khalid, the eighteen-year-old Caliph of Khorasan, is a monster. Each night he takes a new bride only to have a silk cord wrapped around her throat come morning. When sixteen-year-old Shahrzad's dearest friend falls victim to Khalid, Shahrzad vows vengeance and volunteers to be his next bride. Shahrzad is determined not only to stay alive, but to end the caliph's reign of terror once and for all.Night after night, Shahrzad beguiles Khalid, weaving stories that enchant, ensuring her survival, though she knows each dawn could be her last. But something she never expected begins to happen: Khalid is nothing like what she'd imagined him to be. This monster is a boy with a tormented heart. Incredibly, Shahrzad finds herself falling in love. How is this possible? It's an unforgivable betrayal. Still, Shahrzad has come to understand all is not as it seems in this palace of marble and stone. She resolves to uncover whatever secrets lurk and, despite her love, be ready to take Khalid's life as retribution for the many lives he's stolen. Can their love survive this world of stories and secrets?\n",
      "2015-05-12T00:00:00+00:00\n",
      "2 years ago\n",
      "OrderedDict([('@nil', 'true')])\n",
      "Perception of Life (Perception, #1)\n",
      "perception-of-life\n",
      "https://images.gr-assets.com/books/1493779760m/35054530.jpg\n",
      "Shandi Boyes\n",
      "Noah Taylor is on the cusp of stardom with his band 'Rise Up'. Noah's soul has been shattered beyond repair after a series of devastating family events. The last thing that Noah wants is a committed relationship. But Noah soon learns that life doesn't always work out the way you plan. Sometimes life can take you on a small detour. You will never want another book boyfriend after you meet Noah Taylor. This novel is sexy, gritty and a little bit raw. Please note this novel contains adult content, such as swear words and sexual references.\n",
      "OrderedDict([('@nil', 'true')])\n",
      "The Forever Broken\n",
      "the-forever-broken\n",
      "https://images.gr-assets.com/books/1500827937m/28373129.jpg\n",
      "Ker Dukey\n",
      "A BROKEN NOVELLA. Blaydon has been playing with fire when it comes to his best friend’s twin siblings, Quinn and Sofia. Sneaking behind everyone’s back to be with them both, he finds himself struggling to choose between them. But maybe it’s not his choice to make. When Sofia’s troubles become too much for her to bear, will a desperate act force their truths into the light? Some secrets are used to cover even more painful deceits and they are about to cost them all immeasurably.\n",
      "2016-01-29T00:00:00+00:00\n",
      "2 years ago\n"
     ]
    },
    {
     "name": "stderr",
     "output_type": "stream",
     "text": [
      "/usr/local/lib/python3.4/dist-packages/bs4/__init__.py:181: UserWarning: No parser was explicitly specified, so I'm using the best available HTML parser for this system (\"lxml\"). This usually isn't a problem, but if you run this code on another system, or in a different virtual environment, it may use a different parser and behave differently.\n",
      "\n",
      "The code that caused this warning is on line 170 of the file /usr/lib/python3.4/runpy.py. To get rid of this warning, change code that looks like this:\n",
      "\n",
      " BeautifulSoup(YOUR_MARKUP})\n",
      "\n",
      "to this:\n",
      "\n",
      " BeautifulSoup(YOUR_MARKUP, \"lxml\")\n",
      "\n",
      "  markup_type=markup_type))\n"
     ]
    }
   ],
   "source": [
    "for rev in range(20):\n",
    "    bookdic = revxml['GoodreadsResponse']['reviews']['review'][rev]['book']\n",
    "    \n",
    "    #print(bookdic)\n",
    "    print(bookdic['isbn'])\n",
    "    print(bookdic['title'])\n",
    "    bktit = bookdic['title_without_series']\n",
    "    bknot = bktit.replace(' ', '-')\n",
    "    bklow = bknot.lower()\n",
    "    \n",
    "    bookimg = bookdic['image_url']\n",
    "    \n",
    "    \n",
    "    print(bklow)\n",
    "    print(bookimg)\n",
    "    print(bookdic['authors']['author']['name'])\n",
    "    authimg = (bookdic['authors']['author']['image_url']['#text'])\n",
    "    \n",
    "    bkdes = (revxml['GoodreadsResponse']['reviews']['review'][rev]['book']['description'])\n",
    "    soupdes = bs4.BeautifulSoup(bkdes)\n",
    "    print(soupdes.text)\n",
    "    #print(bookdic)\n",
    "    #bookdic.update({bookdic['isbn'] : dict({'isbn' : bookdic['isbn'], 'slug' : bklow, 'autname' : bookdic['authors']['author']['name']})})#'autimg' : authimg, 'bookimg' : bookimg})})\n",
    "    bookdica.update({str(bookdic['isbn']) : dict({'isbn' : bookdic['isbn'], 'num_pages' : bookdic['num_pages']})})\n",
    "    pubday = (bookdic['publication_day'])\n",
    "    pubmonth = (bookdic['publication_month'])\n",
    "    pubyear = (bookdic['publication_year'])\n",
    "    #pubyr = int(pubyear) + ',' + int(pubday) + ',' + int(pubmonth)\n",
    "    try:\n",
    "        ardate = arrow.get(int(pubyear), int(pubmonth), int(pubday))\n",
    "        #print(pubday + ',' + pubmonth + ',' + pubyear)\n",
    "        print(ardate)\n",
    "        print(ardate.humanize())\n",
    "        bookdic.update({bookdic : dict({'timestamp' : ardate, 'timehuman' : ardate.humanize()})})\n",
    "    except TypeError:\n",
    "        continue\n",
    "    #print(bookdic['authors']['author'])\n",
    "    #print(bookdic['authors']['author']['name'])\n",
    "    \n",
    "    \n",
    "\n",
    "    print(bookdic['num_pages'])\n",
    "\n"
   ]
  },
  {
   "cell_type": "code",
   "execution_count": 49,
   "metadata": {
    "collapsed": true
   },
   "outputs": [],
   "source": [
    "paraz = {'api-key' : '177948e7f058537298a9a57b29ac0195:11:74111394', 'list': 'e-book-fiction'}"
   ]
  },
  {
   "cell_type": "code",
   "execution_count": 50,
   "metadata": {
    "collapsed": false
   },
   "outputs": [
    {
     "ename": "ConnectionError",
     "evalue": "('Connection aborted.', gaierror(-2, 'Name or service not known'))",
     "output_type": "error",
     "traceback": [
      "\u001b[1;31m---------------------------------------------------------------------------\u001b[0m",
      "\u001b[1;31mgaierror\u001b[0m                                  Traceback (most recent call last)",
      "\u001b[1;32m/usr/lib/python3/dist-packages/urllib3/connectionpool.py\u001b[0m in \u001b[0;36murlopen\u001b[1;34m(self, method, url, body, headers, retries, redirect, assert_same_host, timeout, pool_timeout, release_conn, **response_kw)\u001b[0m\n\u001b[0;32m    515\u001b[0m                                                   \u001b[0mtimeout\u001b[0m\u001b[1;33m=\u001b[0m\u001b[0mtimeout\u001b[0m\u001b[1;33m,\u001b[0m\u001b[1;33m\u001b[0m\u001b[0m\n\u001b[1;32m--> 516\u001b[1;33m                                                   body=body, headers=headers)\n\u001b[0m\u001b[0;32m    517\u001b[0m \u001b[1;33m\u001b[0m\u001b[0m\n",
      "\u001b[1;32m/usr/lib/python3/dist-packages/urllib3/connectionpool.py\u001b[0m in \u001b[0;36m_make_request\u001b[1;34m(self, conn, method, url, timeout, **httplib_request_kw)\u001b[0m\n\u001b[0;32m    303\u001b[0m         \u001b[1;31m# Trigger any extra validation we need to do.\u001b[0m\u001b[1;33m\u001b[0m\u001b[1;33m\u001b[0m\u001b[0m\n\u001b[1;32m--> 304\u001b[1;33m         \u001b[0mself\u001b[0m\u001b[1;33m.\u001b[0m\u001b[0m_validate_conn\u001b[0m\u001b[1;33m(\u001b[0m\u001b[0mconn\u001b[0m\u001b[1;33m)\u001b[0m\u001b[1;33m\u001b[0m\u001b[0m\n\u001b[0m\u001b[0;32m    305\u001b[0m \u001b[1;33m\u001b[0m\u001b[0m\n",
      "\u001b[1;32m/usr/lib/python3/dist-packages/urllib3/connectionpool.py\u001b[0m in \u001b[0;36m_validate_conn\u001b[1;34m(self, conn)\u001b[0m\n\u001b[0;32m    723\u001b[0m         \u001b[1;32mif\u001b[0m \u001b[1;32mnot\u001b[0m \u001b[0mgetattr\u001b[0m\u001b[1;33m(\u001b[0m\u001b[0mconn\u001b[0m\u001b[1;33m,\u001b[0m \u001b[1;34m'sock'\u001b[0m\u001b[1;33m,\u001b[0m \u001b[1;32mNone\u001b[0m\u001b[1;33m)\u001b[0m\u001b[1;33m:\u001b[0m  \u001b[1;31m# AppEngine might not have  `.sock`\u001b[0m\u001b[1;33m\u001b[0m\u001b[0m\n\u001b[1;32m--> 724\u001b[1;33m             \u001b[0mconn\u001b[0m\u001b[1;33m.\u001b[0m\u001b[0mconnect\u001b[0m\u001b[1;33m(\u001b[0m\u001b[1;33m)\u001b[0m\u001b[1;33m\u001b[0m\u001b[0m\n\u001b[0m\u001b[0;32m    725\u001b[0m \u001b[1;33m\u001b[0m\u001b[0m\n",
      "\u001b[1;32m/usr/lib/python3/dist-packages/urllib3/connection.py\u001b[0m in \u001b[0;36mconnect\u001b[1;34m(self)\u001b[0m\n\u001b[0;32m    202\u001b[0m         \u001b[1;31m# Add certificate verification\u001b[0m\u001b[1;33m\u001b[0m\u001b[1;33m\u001b[0m\u001b[0m\n\u001b[1;32m--> 203\u001b[1;33m         \u001b[0mconn\u001b[0m \u001b[1;33m=\u001b[0m \u001b[0mself\u001b[0m\u001b[1;33m.\u001b[0m\u001b[0m_new_conn\u001b[0m\u001b[1;33m(\u001b[0m\u001b[1;33m)\u001b[0m\u001b[1;33m\u001b[0m\u001b[0m\n\u001b[0m\u001b[0;32m    204\u001b[0m \u001b[1;33m\u001b[0m\u001b[0m\n",
      "\u001b[1;32m/usr/lib/python3/dist-packages/urllib3/connection.py\u001b[0m in \u001b[0;36m_new_conn\u001b[1;34m(self)\u001b[0m\n\u001b[0;32m    132\u001b[0m             conn = connection.create_connection(\n\u001b[1;32m--> 133\u001b[1;33m                 (self.host, self.port), self.timeout, **extra_kw)\n\u001b[0m\u001b[0;32m    134\u001b[0m \u001b[1;33m\u001b[0m\u001b[0m\n",
      "\u001b[1;32m/usr/lib/python3/dist-packages/urllib3/util/connection.py\u001b[0m in \u001b[0;36mcreate_connection\u001b[1;34m(address, timeout, source_address, socket_options)\u001b[0m\n\u001b[0;32m     63\u001b[0m     \u001b[0merr\u001b[0m \u001b[1;33m=\u001b[0m \u001b[1;32mNone\u001b[0m\u001b[1;33m\u001b[0m\u001b[0m\n\u001b[1;32m---> 64\u001b[1;33m     \u001b[1;32mfor\u001b[0m \u001b[0mres\u001b[0m \u001b[1;32min\u001b[0m \u001b[0msocket\u001b[0m\u001b[1;33m.\u001b[0m\u001b[0mgetaddrinfo\u001b[0m\u001b[1;33m(\u001b[0m\u001b[0mhost\u001b[0m\u001b[1;33m,\u001b[0m \u001b[0mport\u001b[0m\u001b[1;33m,\u001b[0m \u001b[1;36m0\u001b[0m\u001b[1;33m,\u001b[0m \u001b[0msocket\u001b[0m\u001b[1;33m.\u001b[0m\u001b[0mSOCK_STREAM\u001b[0m\u001b[1;33m)\u001b[0m\u001b[1;33m:\u001b[0m\u001b[1;33m\u001b[0m\u001b[0m\n\u001b[0m\u001b[0;32m     65\u001b[0m         \u001b[0maf\u001b[0m\u001b[1;33m,\u001b[0m \u001b[0msocktype\u001b[0m\u001b[1;33m,\u001b[0m \u001b[0mproto\u001b[0m\u001b[1;33m,\u001b[0m \u001b[0mcanonname\u001b[0m\u001b[1;33m,\u001b[0m \u001b[0msa\u001b[0m \u001b[1;33m=\u001b[0m \u001b[0mres\u001b[0m\u001b[1;33m\u001b[0m\u001b[0m\n",
      "\u001b[1;32m/usr/lib/python3.4/socket.py\u001b[0m in \u001b[0;36mgetaddrinfo\u001b[1;34m(host, port, family, type, proto, flags)\u001b[0m\n\u001b[0;32m    529\u001b[0m     \u001b[0maddrlist\u001b[0m \u001b[1;33m=\u001b[0m \u001b[1;33m[\u001b[0m\u001b[1;33m]\u001b[0m\u001b[1;33m\u001b[0m\u001b[0m\n\u001b[1;32m--> 530\u001b[1;33m     \u001b[1;32mfor\u001b[0m \u001b[0mres\u001b[0m \u001b[1;32min\u001b[0m \u001b[0m_socket\u001b[0m\u001b[1;33m.\u001b[0m\u001b[0mgetaddrinfo\u001b[0m\u001b[1;33m(\u001b[0m\u001b[0mhost\u001b[0m\u001b[1;33m,\u001b[0m \u001b[0mport\u001b[0m\u001b[1;33m,\u001b[0m \u001b[0mfamily\u001b[0m\u001b[1;33m,\u001b[0m \u001b[0mtype\u001b[0m\u001b[1;33m,\u001b[0m \u001b[0mproto\u001b[0m\u001b[1;33m,\u001b[0m \u001b[0mflags\u001b[0m\u001b[1;33m)\u001b[0m\u001b[1;33m:\u001b[0m\u001b[1;33m\u001b[0m\u001b[0m\n\u001b[0m\u001b[0;32m    531\u001b[0m         \u001b[0maf\u001b[0m\u001b[1;33m,\u001b[0m \u001b[0msocktype\u001b[0m\u001b[1;33m,\u001b[0m \u001b[0mproto\u001b[0m\u001b[1;33m,\u001b[0m \u001b[0mcanonname\u001b[0m\u001b[1;33m,\u001b[0m \u001b[0msa\u001b[0m \u001b[1;33m=\u001b[0m \u001b[0mres\u001b[0m\u001b[1;33m\u001b[0m\u001b[0m\n",
      "\u001b[1;31mgaierror\u001b[0m: [Errno -2] Name or service not known",
      "\nDuring handling of the above exception, another exception occurred:\n",
      "\u001b[1;31mProtocolError\u001b[0m                             Traceback (most recent call last)",
      "\u001b[1;32m/usr/lib/python3/dist-packages/requests/adapters.py\u001b[0m in \u001b[0;36msend\u001b[1;34m(self, request, stream, timeout, verify, cert, proxies)\u001b[0m\n\u001b[0;32m    361\u001b[0m                     \u001b[0mretries\u001b[0m\u001b[1;33m=\u001b[0m\u001b[0mRetry\u001b[0m\u001b[1;33m(\u001b[0m\u001b[0mself\u001b[0m\u001b[1;33m.\u001b[0m\u001b[0mmax_retries\u001b[0m\u001b[1;33m,\u001b[0m \u001b[0mread\u001b[0m\u001b[1;33m=\u001b[0m\u001b[1;32mFalse\u001b[0m\u001b[1;33m)\u001b[0m\u001b[1;33m,\u001b[0m\u001b[1;33m\u001b[0m\u001b[0m\n\u001b[1;32m--> 362\u001b[1;33m                     \u001b[0mtimeout\u001b[0m\u001b[1;33m=\u001b[0m\u001b[0mtimeout\u001b[0m\u001b[1;33m\u001b[0m\u001b[0m\n\u001b[0m\u001b[0;32m    363\u001b[0m                 )\n",
      "\u001b[1;32m/usr/lib/python3/dist-packages/urllib3/connectionpool.py\u001b[0m in \u001b[0;36murlopen\u001b[1;34m(self, method, url, body, headers, retries, redirect, assert_same_host, timeout, pool_timeout, release_conn, **response_kw)\u001b[0m\n\u001b[0;32m    558\u001b[0m             retries = retries.increment(method, url, error=e,\n\u001b[1;32m--> 559\u001b[1;33m                                         _pool=self, _stacktrace=stacktrace)\n\u001b[0m\u001b[0;32m    560\u001b[0m             \u001b[0mretries\u001b[0m\u001b[1;33m.\u001b[0m\u001b[0msleep\u001b[0m\u001b[1;33m(\u001b[0m\u001b[1;33m)\u001b[0m\u001b[1;33m\u001b[0m\u001b[0m\n",
      "\u001b[1;32m/usr/lib/python3/dist-packages/urllib3/util/retry.py\u001b[0m in \u001b[0;36mincrement\u001b[1;34m(self, method, url, response, error, _pool, _stacktrace)\u001b[0m\n\u001b[0;32m    244\u001b[0m             \u001b[1;32mif\u001b[0m \u001b[0mread\u001b[0m \u001b[1;32mis\u001b[0m \u001b[1;32mFalse\u001b[0m\u001b[1;33m:\u001b[0m\u001b[1;33m\u001b[0m\u001b[0m\n\u001b[1;32m--> 245\u001b[1;33m                 \u001b[1;32mraise\u001b[0m \u001b[0msix\u001b[0m\u001b[1;33m.\u001b[0m\u001b[0mreraise\u001b[0m\u001b[1;33m(\u001b[0m\u001b[0mtype\u001b[0m\u001b[1;33m(\u001b[0m\u001b[0merror\u001b[0m\u001b[1;33m)\u001b[0m\u001b[1;33m,\u001b[0m \u001b[0merror\u001b[0m\u001b[1;33m,\u001b[0m \u001b[0m_stacktrace\u001b[0m\u001b[1;33m)\u001b[0m\u001b[1;33m\u001b[0m\u001b[0m\n\u001b[0m\u001b[0;32m    246\u001b[0m             \u001b[1;32melif\u001b[0m \u001b[0mread\u001b[0m \u001b[1;32mis\u001b[0m \u001b[1;32mnot\u001b[0m \u001b[1;32mNone\u001b[0m\u001b[1;33m:\u001b[0m\u001b[1;33m\u001b[0m\u001b[0m\n",
      "\u001b[1;32m/usr/lib/python3/dist-packages/six.py\u001b[0m in \u001b[0;36mreraise\u001b[1;34m(tp, value, tb)\u001b[0m\n\u001b[0;32m    623\u001b[0m         \u001b[1;32mif\u001b[0m \u001b[0mvalue\u001b[0m\u001b[1;33m.\u001b[0m\u001b[0m__traceback__\u001b[0m \u001b[1;32mis\u001b[0m \u001b[1;32mnot\u001b[0m \u001b[0mtb\u001b[0m\u001b[1;33m:\u001b[0m\u001b[1;33m\u001b[0m\u001b[0m\n\u001b[1;32m--> 624\u001b[1;33m             \u001b[1;32mraise\u001b[0m \u001b[0mvalue\u001b[0m\u001b[1;33m.\u001b[0m\u001b[0mwith_traceback\u001b[0m\u001b[1;33m(\u001b[0m\u001b[0mtb\u001b[0m\u001b[1;33m)\u001b[0m\u001b[1;33m\u001b[0m\u001b[0m\n\u001b[0m\u001b[0;32m    625\u001b[0m         \u001b[1;32mraise\u001b[0m \u001b[0mvalue\u001b[0m\u001b[1;33m\u001b[0m\u001b[0m\n",
      "\u001b[1;32m/usr/lib/python3/dist-packages/urllib3/connectionpool.py\u001b[0m in \u001b[0;36murlopen\u001b[1;34m(self, method, url, body, headers, retries, redirect, assert_same_host, timeout, pool_timeout, release_conn, **response_kw)\u001b[0m\n\u001b[0;32m    515\u001b[0m                                                   \u001b[0mtimeout\u001b[0m\u001b[1;33m=\u001b[0m\u001b[0mtimeout\u001b[0m\u001b[1;33m,\u001b[0m\u001b[1;33m\u001b[0m\u001b[0m\n\u001b[1;32m--> 516\u001b[1;33m                                                   body=body, headers=headers)\n\u001b[0m\u001b[0;32m    517\u001b[0m \u001b[1;33m\u001b[0m\u001b[0m\n",
      "\u001b[1;32m/usr/lib/python3/dist-packages/urllib3/connectionpool.py\u001b[0m in \u001b[0;36m_make_request\u001b[1;34m(self, conn, method, url, timeout, **httplib_request_kw)\u001b[0m\n\u001b[0;32m    303\u001b[0m         \u001b[1;31m# Trigger any extra validation we need to do.\u001b[0m\u001b[1;33m\u001b[0m\u001b[1;33m\u001b[0m\u001b[0m\n\u001b[1;32m--> 304\u001b[1;33m         \u001b[0mself\u001b[0m\u001b[1;33m.\u001b[0m\u001b[0m_validate_conn\u001b[0m\u001b[1;33m(\u001b[0m\u001b[0mconn\u001b[0m\u001b[1;33m)\u001b[0m\u001b[1;33m\u001b[0m\u001b[0m\n\u001b[0m\u001b[0;32m    305\u001b[0m \u001b[1;33m\u001b[0m\u001b[0m\n",
      "\u001b[1;32m/usr/lib/python3/dist-packages/urllib3/connectionpool.py\u001b[0m in \u001b[0;36m_validate_conn\u001b[1;34m(self, conn)\u001b[0m\n\u001b[0;32m    723\u001b[0m         \u001b[1;32mif\u001b[0m \u001b[1;32mnot\u001b[0m \u001b[0mgetattr\u001b[0m\u001b[1;33m(\u001b[0m\u001b[0mconn\u001b[0m\u001b[1;33m,\u001b[0m \u001b[1;34m'sock'\u001b[0m\u001b[1;33m,\u001b[0m \u001b[1;32mNone\u001b[0m\u001b[1;33m)\u001b[0m\u001b[1;33m:\u001b[0m  \u001b[1;31m# AppEngine might not have  `.sock`\u001b[0m\u001b[1;33m\u001b[0m\u001b[0m\n\u001b[1;32m--> 724\u001b[1;33m             \u001b[0mconn\u001b[0m\u001b[1;33m.\u001b[0m\u001b[0mconnect\u001b[0m\u001b[1;33m(\u001b[0m\u001b[1;33m)\u001b[0m\u001b[1;33m\u001b[0m\u001b[0m\n\u001b[0m\u001b[0;32m    725\u001b[0m \u001b[1;33m\u001b[0m\u001b[0m\n",
      "\u001b[1;32m/usr/lib/python3/dist-packages/urllib3/connection.py\u001b[0m in \u001b[0;36mconnect\u001b[1;34m(self)\u001b[0m\n\u001b[0;32m    202\u001b[0m         \u001b[1;31m# Add certificate verification\u001b[0m\u001b[1;33m\u001b[0m\u001b[1;33m\u001b[0m\u001b[0m\n\u001b[1;32m--> 203\u001b[1;33m         \u001b[0mconn\u001b[0m \u001b[1;33m=\u001b[0m \u001b[0mself\u001b[0m\u001b[1;33m.\u001b[0m\u001b[0m_new_conn\u001b[0m\u001b[1;33m(\u001b[0m\u001b[1;33m)\u001b[0m\u001b[1;33m\u001b[0m\u001b[0m\n\u001b[0m\u001b[0;32m    204\u001b[0m \u001b[1;33m\u001b[0m\u001b[0m\n",
      "\u001b[1;32m/usr/lib/python3/dist-packages/urllib3/connection.py\u001b[0m in \u001b[0;36m_new_conn\u001b[1;34m(self)\u001b[0m\n\u001b[0;32m    132\u001b[0m             conn = connection.create_connection(\n\u001b[1;32m--> 133\u001b[1;33m                 (self.host, self.port), self.timeout, **extra_kw)\n\u001b[0m\u001b[0;32m    134\u001b[0m \u001b[1;33m\u001b[0m\u001b[0m\n",
      "\u001b[1;32m/usr/lib/python3/dist-packages/urllib3/util/connection.py\u001b[0m in \u001b[0;36mcreate_connection\u001b[1;34m(address, timeout, source_address, socket_options)\u001b[0m\n\u001b[0;32m     63\u001b[0m     \u001b[0merr\u001b[0m \u001b[1;33m=\u001b[0m \u001b[1;32mNone\u001b[0m\u001b[1;33m\u001b[0m\u001b[0m\n\u001b[1;32m---> 64\u001b[1;33m     \u001b[1;32mfor\u001b[0m \u001b[0mres\u001b[0m \u001b[1;32min\u001b[0m \u001b[0msocket\u001b[0m\u001b[1;33m.\u001b[0m\u001b[0mgetaddrinfo\u001b[0m\u001b[1;33m(\u001b[0m\u001b[0mhost\u001b[0m\u001b[1;33m,\u001b[0m \u001b[0mport\u001b[0m\u001b[1;33m,\u001b[0m \u001b[1;36m0\u001b[0m\u001b[1;33m,\u001b[0m \u001b[0msocket\u001b[0m\u001b[1;33m.\u001b[0m\u001b[0mSOCK_STREAM\u001b[0m\u001b[1;33m)\u001b[0m\u001b[1;33m:\u001b[0m\u001b[1;33m\u001b[0m\u001b[0m\n\u001b[0m\u001b[0;32m     65\u001b[0m         \u001b[0maf\u001b[0m\u001b[1;33m,\u001b[0m \u001b[0msocktype\u001b[0m\u001b[1;33m,\u001b[0m \u001b[0mproto\u001b[0m\u001b[1;33m,\u001b[0m \u001b[0mcanonname\u001b[0m\u001b[1;33m,\u001b[0m \u001b[0msa\u001b[0m \u001b[1;33m=\u001b[0m \u001b[0mres\u001b[0m\u001b[1;33m\u001b[0m\u001b[0m\n",
      "\u001b[1;32m/usr/lib/python3.4/socket.py\u001b[0m in \u001b[0;36mgetaddrinfo\u001b[1;34m(host, port, family, type, proto, flags)\u001b[0m\n\u001b[0;32m    529\u001b[0m     \u001b[0maddrlist\u001b[0m \u001b[1;33m=\u001b[0m \u001b[1;33m[\u001b[0m\u001b[1;33m]\u001b[0m\u001b[1;33m\u001b[0m\u001b[0m\n\u001b[1;32m--> 530\u001b[1;33m     \u001b[1;32mfor\u001b[0m \u001b[0mres\u001b[0m \u001b[1;32min\u001b[0m \u001b[0m_socket\u001b[0m\u001b[1;33m.\u001b[0m\u001b[0mgetaddrinfo\u001b[0m\u001b[1;33m(\u001b[0m\u001b[0mhost\u001b[0m\u001b[1;33m,\u001b[0m \u001b[0mport\u001b[0m\u001b[1;33m,\u001b[0m \u001b[0mfamily\u001b[0m\u001b[1;33m,\u001b[0m \u001b[0mtype\u001b[0m\u001b[1;33m,\u001b[0m \u001b[0mproto\u001b[0m\u001b[1;33m,\u001b[0m \u001b[0mflags\u001b[0m\u001b[1;33m)\u001b[0m\u001b[1;33m:\u001b[0m\u001b[1;33m\u001b[0m\u001b[0m\n\u001b[0m\u001b[0;32m    531\u001b[0m         \u001b[0maf\u001b[0m\u001b[1;33m,\u001b[0m \u001b[0msocktype\u001b[0m\u001b[1;33m,\u001b[0m \u001b[0mproto\u001b[0m\u001b[1;33m,\u001b[0m \u001b[0mcanonname\u001b[0m\u001b[1;33m,\u001b[0m \u001b[0msa\u001b[0m \u001b[1;33m=\u001b[0m \u001b[0mres\u001b[0m\u001b[1;33m\u001b[0m\u001b[0m\n",
      "\u001b[1;31mProtocolError\u001b[0m: ('Connection aborted.', gaierror(-2, 'Name or service not known'))",
      "\nDuring handling of the above exception, another exception occurred:\n",
      "\u001b[1;31mConnectionError\u001b[0m                           Traceback (most recent call last)",
      "\u001b[1;32m<ipython-input-50-a7a60ec7b94e>\u001b[0m in \u001b[0;36m<module>\u001b[1;34m()\u001b[0m\n\u001b[1;32m----> 1\u001b[1;33m \u001b[0mbooklis\u001b[0m \u001b[1;33m=\u001b[0m \u001b[0mrequests\u001b[0m\u001b[1;33m.\u001b[0m\u001b[0mget\u001b[0m\u001b[1;33m(\u001b[0m\u001b[1;34m'https://api.nytimes.com/svc/books/v3/lists.json'\u001b[0m\u001b[1;33m,\u001b[0m \u001b[0mparams\u001b[0m \u001b[1;33m=\u001b[0m \u001b[0mparaz\u001b[0m\u001b[1;33m)\u001b[0m\u001b[1;33m\u001b[0m\u001b[0m\n\u001b[0m",
      "\u001b[1;32m/usr/lib/python3/dist-packages/requests/api.py\u001b[0m in \u001b[0;36mget\u001b[1;34m(url, **kwargs)\u001b[0m\n\u001b[0;32m     58\u001b[0m \u001b[1;33m\u001b[0m\u001b[0m\n\u001b[0;32m     59\u001b[0m     \u001b[0mkwargs\u001b[0m\u001b[1;33m.\u001b[0m\u001b[0msetdefault\u001b[0m\u001b[1;33m(\u001b[0m\u001b[1;34m'allow_redirects'\u001b[0m\u001b[1;33m,\u001b[0m \u001b[1;32mTrue\u001b[0m\u001b[1;33m)\u001b[0m\u001b[1;33m\u001b[0m\u001b[0m\n\u001b[1;32m---> 60\u001b[1;33m     \u001b[1;32mreturn\u001b[0m \u001b[0mrequest\u001b[0m\u001b[1;33m(\u001b[0m\u001b[1;34m'get'\u001b[0m\u001b[1;33m,\u001b[0m \u001b[0murl\u001b[0m\u001b[1;33m,\u001b[0m \u001b[1;33m**\u001b[0m\u001b[0mkwargs\u001b[0m\u001b[1;33m)\u001b[0m\u001b[1;33m\u001b[0m\u001b[0m\n\u001b[0m\u001b[0;32m     61\u001b[0m \u001b[1;33m\u001b[0m\u001b[0m\n\u001b[0;32m     62\u001b[0m \u001b[1;33m\u001b[0m\u001b[0m\n",
      "\u001b[1;32m/usr/lib/python3/dist-packages/requests/api.py\u001b[0m in \u001b[0;36mrequest\u001b[1;34m(method, url, **kwargs)\u001b[0m\n\u001b[0;32m     47\u001b[0m \u001b[1;33m\u001b[0m\u001b[0m\n\u001b[0;32m     48\u001b[0m     \u001b[0msession\u001b[0m \u001b[1;33m=\u001b[0m \u001b[0msessions\u001b[0m\u001b[1;33m.\u001b[0m\u001b[0mSession\u001b[0m\u001b[1;33m(\u001b[0m\u001b[1;33m)\u001b[0m\u001b[1;33m\u001b[0m\u001b[0m\n\u001b[1;32m---> 49\u001b[1;33m     \u001b[1;32mreturn\u001b[0m \u001b[0msession\u001b[0m\u001b[1;33m.\u001b[0m\u001b[0mrequest\u001b[0m\u001b[1;33m(\u001b[0m\u001b[0mmethod\u001b[0m\u001b[1;33m=\u001b[0m\u001b[0mmethod\u001b[0m\u001b[1;33m,\u001b[0m \u001b[0murl\u001b[0m\u001b[1;33m=\u001b[0m\u001b[0murl\u001b[0m\u001b[1;33m,\u001b[0m \u001b[1;33m**\u001b[0m\u001b[0mkwargs\u001b[0m\u001b[1;33m)\u001b[0m\u001b[1;33m\u001b[0m\u001b[0m\n\u001b[0m\u001b[0;32m     50\u001b[0m \u001b[1;33m\u001b[0m\u001b[0m\n\u001b[0;32m     51\u001b[0m \u001b[1;33m\u001b[0m\u001b[0m\n",
      "\u001b[1;32m/usr/lib/python3/dist-packages/requests/sessions.py\u001b[0m in \u001b[0;36mrequest\u001b[1;34m(self, method, url, params, data, headers, cookies, files, auth, timeout, allow_redirects, proxies, hooks, stream, verify, cert, json)\u001b[0m\n\u001b[0;32m    455\u001b[0m         }\n\u001b[0;32m    456\u001b[0m         \u001b[0msend_kwargs\u001b[0m\u001b[1;33m.\u001b[0m\u001b[0mupdate\u001b[0m\u001b[1;33m(\u001b[0m\u001b[0msettings\u001b[0m\u001b[1;33m)\u001b[0m\u001b[1;33m\u001b[0m\u001b[0m\n\u001b[1;32m--> 457\u001b[1;33m         \u001b[0mresp\u001b[0m \u001b[1;33m=\u001b[0m \u001b[0mself\u001b[0m\u001b[1;33m.\u001b[0m\u001b[0msend\u001b[0m\u001b[1;33m(\u001b[0m\u001b[0mprep\u001b[0m\u001b[1;33m,\u001b[0m \u001b[1;33m**\u001b[0m\u001b[0msend_kwargs\u001b[0m\u001b[1;33m)\u001b[0m\u001b[1;33m\u001b[0m\u001b[0m\n\u001b[0m\u001b[0;32m    458\u001b[0m \u001b[1;33m\u001b[0m\u001b[0m\n\u001b[0;32m    459\u001b[0m         \u001b[1;32mreturn\u001b[0m \u001b[0mresp\u001b[0m\u001b[1;33m\u001b[0m\u001b[0m\n",
      "\u001b[1;32m/usr/lib/python3/dist-packages/requests/sessions.py\u001b[0m in \u001b[0;36msend\u001b[1;34m(self, request, **kwargs)\u001b[0m\n\u001b[0;32m    567\u001b[0m \u001b[1;33m\u001b[0m\u001b[0m\n\u001b[0;32m    568\u001b[0m         \u001b[1;31m# Send the request\u001b[0m\u001b[1;33m\u001b[0m\u001b[1;33m\u001b[0m\u001b[0m\n\u001b[1;32m--> 569\u001b[1;33m         \u001b[0mr\u001b[0m \u001b[1;33m=\u001b[0m \u001b[0madapter\u001b[0m\u001b[1;33m.\u001b[0m\u001b[0msend\u001b[0m\u001b[1;33m(\u001b[0m\u001b[0mrequest\u001b[0m\u001b[1;33m,\u001b[0m \u001b[1;33m**\u001b[0m\u001b[0mkwargs\u001b[0m\u001b[1;33m)\u001b[0m\u001b[1;33m\u001b[0m\u001b[0m\n\u001b[0m\u001b[0;32m    570\u001b[0m \u001b[1;33m\u001b[0m\u001b[0m\n\u001b[0;32m    571\u001b[0m         \u001b[1;31m# Total elapsed time of the request (approximately)\u001b[0m\u001b[1;33m\u001b[0m\u001b[1;33m\u001b[0m\u001b[0m\n",
      "\u001b[1;32m/usr/lib/python3/dist-packages/requests/adapters.py\u001b[0m in \u001b[0;36msend\u001b[1;34m(self, request, stream, timeout, verify, cert, proxies)\u001b[0m\n\u001b[0;32m    405\u001b[0m \u001b[1;33m\u001b[0m\u001b[0m\n\u001b[0;32m    406\u001b[0m         \u001b[1;32mexcept\u001b[0m \u001b[1;33m(\u001b[0m\u001b[0mProtocolError\u001b[0m\u001b[1;33m,\u001b[0m \u001b[0msocket\u001b[0m\u001b[1;33m.\u001b[0m\u001b[0merror\u001b[0m\u001b[1;33m)\u001b[0m \u001b[1;32mas\u001b[0m \u001b[0merr\u001b[0m\u001b[1;33m:\u001b[0m\u001b[1;33m\u001b[0m\u001b[0m\n\u001b[1;32m--> 407\u001b[1;33m             \u001b[1;32mraise\u001b[0m \u001b[0mConnectionError\u001b[0m\u001b[1;33m(\u001b[0m\u001b[0merr\u001b[0m\u001b[1;33m,\u001b[0m \u001b[0mrequest\u001b[0m\u001b[1;33m=\u001b[0m\u001b[0mrequest\u001b[0m\u001b[1;33m)\u001b[0m\u001b[1;33m\u001b[0m\u001b[0m\n\u001b[0m\u001b[0;32m    408\u001b[0m \u001b[1;33m\u001b[0m\u001b[0m\n\u001b[0;32m    409\u001b[0m         \u001b[1;32mexcept\u001b[0m \u001b[0mMaxRetryError\u001b[0m \u001b[1;32mas\u001b[0m \u001b[0me\u001b[0m\u001b[1;33m:\u001b[0m\u001b[1;33m\u001b[0m\u001b[0m\n",
      "\u001b[1;31mConnectionError\u001b[0m: ('Connection aborted.', gaierror(-2, 'Name or service not known'))"
     ]
    }
   ],
   "source": [
    "booklis = requests.get('https://api.nytimes.com/svc/books/v3/lists.json', params = paraz)"
   ]
  },
  {
   "cell_type": "code",
   "execution_count": 51,
   "metadata": {
    "collapsed": false
   },
   "outputs": [
    {
     "ename": "AttributeError",
     "evalue": "'list' object has no attribute 'json'",
     "output_type": "error",
     "traceback": [
      "\u001b[1;31m---------------------------------------------------------------------------\u001b[0m",
      "\u001b[1;31mAttributeError\u001b[0m                            Traceback (most recent call last)",
      "\u001b[1;32m<ipython-input-51-a0b3d435ed16>\u001b[0m in \u001b[0;36m<module>\u001b[1;34m()\u001b[0m\n\u001b[1;32m----> 1\u001b[1;33m \u001b[0mbookjs\u001b[0m \u001b[1;33m=\u001b[0m \u001b[0mbooklis\u001b[0m\u001b[1;33m.\u001b[0m\u001b[0mjson\u001b[0m\u001b[1;33m(\u001b[0m\u001b[1;33m)\u001b[0m\u001b[1;33m\u001b[0m\u001b[0m\n\u001b[0m",
      "\u001b[1;31mAttributeError\u001b[0m: 'list' object has no attribute 'json'"
     ]
    }
   ],
   "source": [
    "bookjs = booklis.json()"
   ]
  },
  {
   "cell_type": "code",
   "execution_count": 52,
   "metadata": {
    "collapsed": false
   },
   "outputs": [
    {
     "data": {
      "text/plain": [
       "{'copyright': 'Copyright (c) 2017 The New York Times Company.  All Rights Reserved.',\n",
       " 'last_modified': '2017-03-21T13:38:01-04:00',\n",
       " 'num_results': 15,\n",
       " 'results': [{'amazon_product_url': 'https://www.amazon.com/Full-Package-Lauren-Blakely-ebook/dp/B01MT5HMRV?tag=NYTBS-20',\n",
       "   'asterisk': 0,\n",
       "   'bestsellers_date': '2017-01-14',\n",
       "   'book_details': [{'age_group': '',\n",
       "     'author': 'Lauren Blakely',\n",
       "     'contributor': 'by Lauren Blakely',\n",
       "     'contributor_note': '',\n",
       "     'description': \"A man shares a cramped apartment with his friend's fetching sister.\",\n",
       "     'price': 0,\n",
       "     'primary_isbn10': 'None',\n",
       "     'primary_isbn13': 'A00B01MT5HMRV',\n",
       "     'publisher': 'Lauren Blakely',\n",
       "     'title': 'FULL PACKAGE'}],\n",
       "   'dagger': 0,\n",
       "   'display_name': 'E-Book Fiction',\n",
       "   'isbns': [],\n",
       "   'list_name': 'E-Book Fiction',\n",
       "   'published_date': '2017-01-29',\n",
       "   'rank': 1,\n",
       "   'rank_last_week': 0,\n",
       "   'reviews': [{'article_chapter_link': '',\n",
       "     'book_review_link': '',\n",
       "     'first_chapter_link': '',\n",
       "     'sunday_review_link': ''}],\n",
       "   'weeks_on_list': 1},\n",
       "  {'amazon_product_url': 'http://www.amazon.com/Guernsey-Literary-Potato-Peel-Society/dp/0385340990?tag=NYTBS-20',\n",
       "   'asterisk': 0,\n",
       "   'bestsellers_date': '2017-01-14',\n",
       "   'book_details': [{'age_group': '',\n",
       "     'author': 'Mary Ann Shaffer and Annie Barrows',\n",
       "     'contributor': 'by Mary Ann Shaffer and Annie Barrows',\n",
       "     'contributor_note': '',\n",
       "     'description': 'After World War II, a journalist travels to the island of Guernsey to meet residents who resisted the Nazi occupation. Originally published in 2008.',\n",
       "     'price': 0,\n",
       "     'primary_isbn10': '0440337976',\n",
       "     'primary_isbn13': '9780440337973',\n",
       "     'publisher': 'Dial',\n",
       "     'title': 'THE GUERNSEY LITERARY AND POTATO PEEL PIE SOCIETY'}],\n",
       "   'dagger': 0,\n",
       "   'display_name': 'E-Book Fiction',\n",
       "   'isbns': [{'isbn10': '0385341008', 'isbn13': '9780385341004'},\n",
       "    {'isbn10': '0440337976', 'isbn13': '9780440337973'}],\n",
       "   'list_name': 'E-Book Fiction',\n",
       "   'published_date': '2017-01-29',\n",
       "   'rank': 2,\n",
       "   'rank_last_week': 0,\n",
       "   'reviews': [{'article_chapter_link': '',\n",
       "     'book_review_link': '',\n",
       "     'first_chapter_link': '',\n",
       "     'sunday_review_link': ''}],\n",
       "   'weeks_on_list': 2},\n",
       "  {'amazon_product_url': 'https://www.amazon.com/Whistler-John-Grisham-ebook/dp/B01C1LUFFK?tag=NYTBS-20',\n",
       "   'asterisk': 0,\n",
       "   'bestsellers_date': '2017-01-14',\n",
       "   'book_details': [{'age_group': '',\n",
       "     'author': 'John Grisham',\n",
       "     'contributor': 'by John Grisham',\n",
       "     'contributor_note': '',\n",
       "     'description': 'A whistleblower alerts a Florida investigator to judicial corruption involving the Mob and Indian casinos.',\n",
       "     'price': 0,\n",
       "     'primary_isbn10': '0385541201',\n",
       "     'primary_isbn13': '9780385541206',\n",
       "     'publisher': 'Doubleday',\n",
       "     'title': 'THE WHISTLER'}],\n",
       "   'dagger': 0,\n",
       "   'display_name': 'E-Book Fiction',\n",
       "   'isbns': [{'isbn10': '0385541198', 'isbn13': '9780385541190'},\n",
       "    {'isbn10': '0385541201', 'isbn13': '9780385541206'},\n",
       "    {'isbn10': '0385541570', 'isbn13': '9780385541572'},\n",
       "    {'isbn10': '1101967676', 'isbn13': '9781101967676'},\n",
       "    {'isbn10': '1101967684', 'isbn13': '9781101967683'}],\n",
       "   'list_name': 'E-Book Fiction',\n",
       "   'published_date': '2017-01-29',\n",
       "   'rank': 3,\n",
       "   'rank_last_week': 4,\n",
       "   'reviews': [{'article_chapter_link': '',\n",
       "     'book_review_link': 'https://www.nytimes.com/2016/11/06/books/review/john-grisham-whistler.html',\n",
       "     'first_chapter_link': '',\n",
       "     'sunday_review_link': ''}],\n",
       "   'weeks_on_list': 12},\n",
       "  {'amazon_product_url': 'https://www.amazon.com/Ring-Fire-Pike-Logan-Thriller/dp/1101984767?tag=NYTBS-20',\n",
       "   'asterisk': 0,\n",
       "   'bestsellers_date': '2017-01-14',\n",
       "   'book_details': [{'age_group': '',\n",
       "     'author': 'Brad Taylor',\n",
       "     'contributor': 'by Brad Taylor',\n",
       "     'contributor_note': '',\n",
       "     'description': 'Pike Logan, a member of a secret counterterrorist unit called the Taskforce, investigates a Saudi-backed Moroccan terrorist cell.',\n",
       "     'price': 0,\n",
       "     'primary_isbn10': 'None',\n",
       "     'primary_isbn13': '9781101984772',\n",
       "     'publisher': 'Dutton',\n",
       "     'title': 'RING OF FIRE'}],\n",
       "   'dagger': 0,\n",
       "   'display_name': 'E-Book Fiction',\n",
       "   'isbns': [{'isbn10': '1101984767', 'isbn13': '9781101984765'}],\n",
       "   'list_name': 'E-Book Fiction',\n",
       "   'published_date': '2017-01-29',\n",
       "   'rank': 4,\n",
       "   'rank_last_week': 0,\n",
       "   'reviews': [{'article_chapter_link': '',\n",
       "     'book_review_link': '',\n",
       "     'first_chapter_link': '',\n",
       "     'sunday_review_link': ''}],\n",
       "   'weeks_on_list': 1},\n",
       "  {'amazon_product_url': 'http://www.amazon.com/Small-Great-Things-Jodi-Picoult-ebook/dp/B01AQNYZ3I?tag=NYTBS-20',\n",
       "   'asterisk': 0,\n",
       "   'bestsellers_date': '2017-01-14',\n",
       "   'book_details': [{'age_group': '',\n",
       "     'author': 'Jodi Picoult',\n",
       "     'contributor': 'by Jodi Picoult',\n",
       "     'contributor_note': '',\n",
       "     'description': 'A medical crisis entangles a black nurse, a white supremacist father and a white lawyer.',\n",
       "     'price': 0,\n",
       "     'primary_isbn10': '034554496X',\n",
       "     'primary_isbn13': '9780345544964',\n",
       "     'publisher': 'Ballantine',\n",
       "     'title': 'SMALL GREAT THINGS'}],\n",
       "   'dagger': 0,\n",
       "   'display_name': 'E-Book Fiction',\n",
       "   'isbns': [{'isbn10': '0345544951', 'isbn13': '9780345544957'},\n",
       "    {'isbn10': '034554496X', 'isbn13': '9780345544964'},\n",
       "    {'isbn10': '1410463745', 'isbn13': '9781410463746'},\n",
       "    {'isbn10': '0425286010', 'isbn13': '9780425286012'}],\n",
       "   'list_name': 'E-Book Fiction',\n",
       "   'published_date': '2017-01-29',\n",
       "   'rank': 5,\n",
       "   'rank_last_week': 7,\n",
       "   'reviews': [{'article_chapter_link': '',\n",
       "     'book_review_link': 'https://www.nytimes.com/2016/10/16/books/review/jodi-picoult-small-great-things-roxane-gay.html',\n",
       "     'first_chapter_link': '',\n",
       "     'sunday_review_link': ''}],\n",
       "   'weeks_on_list': 9},\n",
       "  {'amazon_product_url': 'https://www.amazon.com/Shelter-Adeline-Badge-Honor-Heroes-ebook/dp/B01MF62CN8?tag=NYTBS-20',\n",
       "   'asterisk': 0,\n",
       "   'bestsellers_date': '2017-01-14',\n",
       "   'book_details': [{'age_group': '',\n",
       "     'author': 'Susan Stoker',\n",
       "     'contributor': 'by Susan Stoker',\n",
       "     'contributor_note': '',\n",
       "     'description': 'A fireman must keep his overprotective nature in check while pursuing an epileptic prey to her suspiciously obsessive boss.',\n",
       "     'price': 0,\n",
       "     'primary_isbn10': 'None',\n",
       "     'primary_isbn13': 'A00B01MF62CN8',\n",
       "     'publisher': 'Stoker Aces Production',\n",
       "     'title': 'SHELTER FOR ADELINE'}],\n",
       "   'dagger': 0,\n",
       "   'display_name': 'E-Book Fiction',\n",
       "   'isbns': [],\n",
       "   'list_name': 'E-Book Fiction',\n",
       "   'published_date': '2017-01-29',\n",
       "   'rank': 6,\n",
       "   'rank_last_week': 0,\n",
       "   'reviews': [{'article_chapter_link': '',\n",
       "     'book_review_link': '',\n",
       "     'first_chapter_link': '',\n",
       "     'sunday_review_link': ''}],\n",
       "   'weeks_on_list': 1},\n",
       "  {'amazon_product_url': 'http://www.amazon.com/Man-Called-Ove-Novel/dp/1476738025?tag=NYTBS-20',\n",
       "   'asterisk': 0,\n",
       "   'bestsellers_date': '2017-01-14',\n",
       "   'book_details': [{'age_group': '',\n",
       "     'author': 'Fredrik Backman',\n",
       "     'contributor': 'by Fredrik Backman',\n",
       "     'contributor_note': '',\n",
       "     'description': 'An angry old curmudgeon gets new neighbors, and things are about to change for all of them.',\n",
       "     'price': 0,\n",
       "     'primary_isbn10': 'None',\n",
       "     'primary_isbn13': '9781476738031',\n",
       "     'publisher': 'Atria',\n",
       "     'title': 'A MAN CALLED OVE'}],\n",
       "   'dagger': 0,\n",
       "   'display_name': 'E-Book Fiction',\n",
       "   'isbns': [{'isbn10': '1476738025', 'isbn13': '9781476738024'},\n",
       "    {'isbn10': '1476738017', 'isbn13': '9781476738017'},\n",
       "    {'isbn10': '1594139830', 'isbn13': '9781594139833'},\n",
       "    {'isbn10': '1410472922', 'isbn13': '9781410472922'}],\n",
       "   'list_name': 'E-Book Fiction',\n",
       "   'published_date': '2017-01-29',\n",
       "   'rank': 7,\n",
       "   'rank_last_week': 9,\n",
       "   'reviews': [{'article_chapter_link': '',\n",
       "     'book_review_link': '',\n",
       "     'first_chapter_link': '',\n",
       "     'sunday_review_link': ''}],\n",
       "   'weeks_on_list': 3},\n",
       "  {'amazon_product_url': 'https://www.amazon.com/Mistress-Novel-Danielle-Steel-ebook/dp/B01E2GZ5FC?tag=NYTBS-20',\n",
       "   'asterisk': 0,\n",
       "   'bestsellers_date': '2017-01-14',\n",
       "   'book_details': [{'age_group': '',\n",
       "     'author': 'Danielle Steel',\n",
       "     'contributor': 'by Danielle Steel',\n",
       "     'contributor_note': '',\n",
       "     'description': 'The beautiful mistress of a Russian oligarch falls in love with an artist and yearns for freedom.',\n",
       "     'price': 0,\n",
       "     'primary_isbn10': '0425285359',\n",
       "     'primary_isbn13': '9780425285350',\n",
       "     'publisher': 'Delacorte',\n",
       "     'title': 'THE MISTRESS'}],\n",
       "   'dagger': 0,\n",
       "   'display_name': 'E-Book Fiction',\n",
       "   'isbns': [{'isbn10': '0345531116', 'isbn13': '9780345531117'},\n",
       "    {'isbn10': '0425285359', 'isbn13': '9780425285350'},\n",
       "    {'isbn10': '0735210039', 'isbn13': '9780735210035'}],\n",
       "   'list_name': 'E-Book Fiction',\n",
       "   'published_date': '2017-01-29',\n",
       "   'rank': 8,\n",
       "   'rank_last_week': 2,\n",
       "   'reviews': [{'article_chapter_link': '',\n",
       "     'book_review_link': '',\n",
       "     'first_chapter_link': '',\n",
       "     'sunday_review_link': ''}],\n",
       "   'weeks_on_list': 2},\n",
       "  {'amazon_product_url': 'https://www.amazon.com/Guests-South-Battery-Tradd-Street/dp/0451475232?tag=NYTBS-20',\n",
       "   'asterisk': 0,\n",
       "   'bestsellers_date': '2017-01-14',\n",
       "   'book_details': [{'age_group': '',\n",
       "     'author': 'Karen White',\n",
       "     'contributor': 'by Karen White',\n",
       "     'contributor_note': '',\n",
       "     'description': 'Spirits invade the life of a Charleston realtor.',\n",
       "     'price': 0,\n",
       "     'primary_isbn10': '',\n",
       "     'primary_isbn13': '9780698193000',\n",
       "     'publisher': 'Berkley',\n",
       "     'title': 'THE GUESTS ON SOUTH BATTERY'}],\n",
       "   'dagger': 0,\n",
       "   'display_name': 'E-Book Fiction',\n",
       "   'isbns': [{'isbn10': '0451475232', 'isbn13': '9780451475237'}],\n",
       "   'list_name': 'E-Book Fiction',\n",
       "   'published_date': '2017-01-29',\n",
       "   'rank': 9,\n",
       "   'rank_last_week': 0,\n",
       "   'reviews': [{'article_chapter_link': '',\n",
       "     'book_review_link': '',\n",
       "     'first_chapter_link': '',\n",
       "     'sunday_review_link': ''}],\n",
       "   'weeks_on_list': 1},\n",
       "  {'amazon_product_url': 'https://www.amazon.com/No-Mans-Land-John-Puller/dp/145558651X?tag=NYTBS-20',\n",
       "   'asterisk': 0,\n",
       "   'bestsellers_date': '2017-01-14',\n",
       "   'book_details': [{'age_group': '',\n",
       "     'author': 'David Baldacci',\n",
       "     'contributor': 'by David Baldacci',\n",
       "     'contributor_note': '',\n",
       "     'description': 'John Puller, a special agent with the Army, searches for the truth about his mother, who disappeared 30 years ago.',\n",
       "     'price': 0,\n",
       "     'primary_isbn10': '1455586498',\n",
       "     'primary_isbn13': '9781455586493',\n",
       "     'publisher': 'Grand Central',\n",
       "     'title': \"NO MAN'S LAND\"}],\n",
       "   'dagger': 0,\n",
       "   'display_name': 'E-Book Fiction',\n",
       "   'isbns': [{'isbn10': '145558651X', 'isbn13': '9781455586516'},\n",
       "    {'isbn10': '1455541664', 'isbn13': '9781455541669'},\n",
       "    {'isbn10': '1455586498', 'isbn13': '9781455586493'},\n",
       "    {'isbn10': '1455586501', 'isbn13': '9781455586509'}],\n",
       "   'list_name': 'E-Book Fiction',\n",
       "   'published_date': '2017-01-29',\n",
       "   'rank': 10,\n",
       "   'rank_last_week': 0,\n",
       "   'reviews': [{'article_chapter_link': '',\n",
       "     'book_review_link': '',\n",
       "     'first_chapter_link': '',\n",
       "     'sunday_review_link': ''}],\n",
       "   'weeks_on_list': 8},\n",
       "  {'amazon_product_url': 'https://www.amazon.com/Below-Belt-Stone-Barrington-Novel/dp/0399573976?tag=NYTBS-20',\n",
       "   'asterisk': 0,\n",
       "   'bestsellers_date': '2017-01-14',\n",
       "   'book_details': [{'age_group': '',\n",
       "     'author': 'Stuart Woods',\n",
       "     'contributor': 'by Stuart Woods',\n",
       "     'contributor_note': '',\n",
       "     'description': 'The New York lawyer Stone Barrington faces danger when he finds himself in possession of a retired C.I.A. agent’s explosive memoir.',\n",
       "     'price': 0,\n",
       "     'primary_isbn10': 'None',\n",
       "     'primary_isbn13': '9780399574184',\n",
       "     'publisher': 'Putnam',\n",
       "     'title': 'BELOW THE BELT'}],\n",
       "   'dagger': 0,\n",
       "   'display_name': 'E-Book Fiction',\n",
       "   'isbns': [{'isbn10': '0399573976', 'isbn13': '9780399573972'}],\n",
       "   'list_name': 'E-Book Fiction',\n",
       "   'published_date': '2017-01-29',\n",
       "   'rank': 11,\n",
       "   'rank_last_week': 0,\n",
       "   'reviews': [{'article_chapter_link': '',\n",
       "     'book_review_link': '',\n",
       "     'first_chapter_link': '',\n",
       "     'sunday_review_link': ''}],\n",
       "   'weeks_on_list': 0},\n",
       "  {'amazon_product_url': 'https://www.amazon.com/Cross-Line-James-Patterson-ebook/dp/B01C37XEUU?tag=NYTBS-20',\n",
       "   'asterisk': 0,\n",
       "   'bestsellers_date': '2017-01-14',\n",
       "   'book_details': [{'age_group': '',\n",
       "     'author': 'James Patterson',\n",
       "     'contributor': 'by James Patterson',\n",
       "     'contributor_note': '',\n",
       "     'description': 'Detective Alex Cross and his wife, Bree, team up to catch a killer causing chaos in Washington, D.C.',\n",
       "     'price': 0,\n",
       "     'primary_isbn10': '031640716X',\n",
       "     'primary_isbn13': '9780316407168',\n",
       "     'publisher': 'Little, Brown',\n",
       "     'title': 'CROSS THE LINE'}],\n",
       "   'dagger': 0,\n",
       "   'display_name': 'E-Book Fiction',\n",
       "   'isbns': [{'isbn10': '0316407097', 'isbn13': '9780316407090'},\n",
       "    {'isbn10': '031640716X', 'isbn13': '9780316407168'},\n",
       "    {'isbn10': '0316407151', 'isbn13': '9780316407151'}],\n",
       "   'list_name': 'E-Book Fiction',\n",
       "   'published_date': '2017-01-29',\n",
       "   'rank': 12,\n",
       "   'rank_last_week': 0,\n",
       "   'reviews': [{'article_chapter_link': '',\n",
       "     'book_review_link': '',\n",
       "     'first_chapter_link': '',\n",
       "     'sunday_review_link': ''}],\n",
       "   'weeks_on_list': 0},\n",
       "  {'amazon_product_url': 'https://www.amazon.com/Dry-Novel-Jane-Harper-ebook/dp/B01BSN15F6?tag=NYTBS-20',\n",
       "   'asterisk': 0,\n",
       "   'bestsellers_date': '2017-01-14',\n",
       "   'book_details': [{'age_group': '',\n",
       "     'author': 'Jane Harper',\n",
       "     'contributor': 'by Jane Harper',\n",
       "     'contributor_note': '',\n",
       "     'description': '',\n",
       "     'price': 0,\n",
       "     'primary_isbn10': '1250105617',\n",
       "     'primary_isbn13': '9781250105615',\n",
       "     'publisher': 'Flatiron',\n",
       "     'title': 'THE DRY'}],\n",
       "   'dagger': 0,\n",
       "   'display_name': 'E-Book Fiction',\n",
       "   'isbns': [{'isbn10': '1250105609', 'isbn13': '9781250105608'},\n",
       "    {'isbn10': '1250105617', 'isbn13': '9781250105615'}],\n",
       "   'list_name': 'E-Book Fiction',\n",
       "   'published_date': '2017-01-29',\n",
       "   'rank': 13,\n",
       "   'rank_last_week': 0,\n",
       "   'reviews': [{'article_chapter_link': '',\n",
       "     'book_review_link': '',\n",
       "     'first_chapter_link': '',\n",
       "     'sunday_review_link': ''}],\n",
       "   'weeks_on_list': 0},\n",
       "  {'amazon_product_url': 'https://www.amazon.com/Dogs-Purpose-Novel-Humans/dp/0765330342?tag=NYTBS-20',\n",
       "   'asterisk': 0,\n",
       "   'bestsellers_date': '2017-01-14',\n",
       "   'book_details': [{'age_group': '',\n",
       "     'author': 'W Bruce Cameron',\n",
       "     'contributor': 'by W. Bruce Cameron',\n",
       "     'contributor_note': '',\n",
       "     'description': 'A canine narrator undergoes a series of reincarnations.',\n",
       "     'price': 0,\n",
       "     'primary_isbn10': '1429960272',\n",
       "     'primary_isbn13': '9781429960274',\n",
       "     'publisher': 'Forge',\n",
       "     'title': \"A DOG'S PURPOSE\"}],\n",
       "   'dagger': 0,\n",
       "   'display_name': 'E-Book Fiction',\n",
       "   'isbns': [{'isbn10': '0765326264', 'isbn13': '9780765326263'},\n",
       "    {'isbn10': '0765330342', 'isbn13': '9780765330345'},\n",
       "    {'isbn10': '0765388111', 'isbn13': '9780765388117'},\n",
       "    {'isbn10': '0765388103', 'isbn13': '9780765388100'},\n",
       "    {'isbn10': '1429960272', 'isbn13': '9781429960274'}],\n",
       "   'list_name': 'E-Book Fiction',\n",
       "   'published_date': '2017-01-29',\n",
       "   'rank': 14,\n",
       "   'rank_last_week': 0,\n",
       "   'reviews': [{'article_chapter_link': '',\n",
       "     'book_review_link': '',\n",
       "     'first_chapter_link': '',\n",
       "     'sunday_review_link': ''}],\n",
       "   'weeks_on_list': 0},\n",
       "  {'amazon_product_url': 'https://www.amazon.com/Sleepwalker-Novel-Chris-Bohjalian-ebook/dp/B01FPGY5TK?tag=NYTBS-20',\n",
       "   'asterisk': 0,\n",
       "   'bestsellers_date': '2017-01-14',\n",
       "   'book_details': [{'age_group': '',\n",
       "     'author': 'Chris Bohjalian',\n",
       "     'contributor': 'by Chris Bohjalian',\n",
       "     'contributor_note': '',\n",
       "     'description': 'The daughters of a Vermont woman who disappeared from her home in the middle of the night try to understand what happened.',\n",
       "     'price': 0,\n",
       "     'primary_isbn10': '0385538928',\n",
       "     'primary_isbn13': '9780385538923',\n",
       "     'publisher': 'Doubleday',\n",
       "     'title': 'THE SLEEPWALKER'}],\n",
       "   'dagger': 0,\n",
       "   'display_name': 'E-Book Fiction',\n",
       "   'isbns': [{'isbn10': '038553891X', 'isbn13': '9780385538916'},\n",
       "    {'isbn10': '0385538928', 'isbn13': '9780385538923'}],\n",
       "   'list_name': 'E-Book Fiction',\n",
       "   'published_date': '2017-01-29',\n",
       "   'rank': 15,\n",
       "   'rank_last_week': 0,\n",
       "   'reviews': [{'article_chapter_link': '',\n",
       "     'book_review_link': '',\n",
       "     'first_chapter_link': '',\n",
       "     'sunday_review_link': ''}],\n",
       "   'weeks_on_list': 0}],\n",
       " 'status': 'OK'}"
      ]
     },
     "execution_count": 52,
     "metadata": {},
     "output_type": "execute_result"
    }
   ],
   "source": [
    "bookjs"
   ]
  },
  {
   "cell_type": "code",
   "execution_count": 53,
   "metadata": {
    "collapsed": true
   },
   "outputs": [],
   "source": [
    "booklis = list()"
   ]
  },
  {
   "cell_type": "code",
   "execution_count": 54,
   "metadata": {
    "collapsed": false
   },
   "outputs": [
    {
     "name": "stdout",
     "output_type": "stream",
     "text": [
      "[{'age_group': '', 'price': 0, 'publisher': 'Lauren Blakely', 'primary_isbn13': 'A00B01MT5HMRV', 'author': 'Lauren Blakely', 'contributor': 'by Lauren Blakely', 'title': 'FULL PACKAGE', 'contributor_note': '', 'description': \"A man shares a cramped apartment with his friend's fetching sister.\", 'primary_isbn10': 'None'}]\n",
      "[{'age_group': '', 'price': 0, 'publisher': 'Dial', 'primary_isbn13': '9780440337973', 'author': 'Mary Ann Shaffer and Annie Barrows', 'contributor': 'by Mary Ann Shaffer and Annie Barrows', 'title': 'THE GUERNSEY LITERARY AND POTATO PEEL PIE SOCIETY', 'contributor_note': '', 'description': 'After World War II, a journalist travels to the island of Guernsey to meet residents who resisted the Nazi occupation. Originally published in 2008.', 'primary_isbn10': '0440337976'}]\n",
      "[{'age_group': '', 'price': 0, 'publisher': 'Doubleday', 'primary_isbn13': '9780385541206', 'author': 'John Grisham', 'contributor': 'by John Grisham', 'title': 'THE WHISTLER', 'contributor_note': '', 'description': 'A whistleblower alerts a Florida investigator to judicial corruption involving the Mob and Indian casinos.', 'primary_isbn10': '0385541201'}]\n",
      "[{'age_group': '', 'price': 0, 'publisher': 'Dutton', 'primary_isbn13': '9781101984772', 'author': 'Brad Taylor', 'contributor': 'by Brad Taylor', 'title': 'RING OF FIRE', 'contributor_note': '', 'description': 'Pike Logan, a member of a secret counterterrorist unit called the Taskforce, investigates a Saudi-backed Moroccan terrorist cell.', 'primary_isbn10': 'None'}]\n",
      "[{'age_group': '', 'price': 0, 'publisher': 'Ballantine', 'primary_isbn13': '9780345544964', 'author': 'Jodi Picoult', 'contributor': 'by Jodi Picoult', 'title': 'SMALL GREAT THINGS', 'contributor_note': '', 'description': 'A medical crisis entangles a black nurse, a white supremacist father and a white lawyer.', 'primary_isbn10': '034554496X'}]\n",
      "[{'age_group': '', 'price': 0, 'publisher': 'Stoker Aces Production', 'primary_isbn13': 'A00B01MF62CN8', 'author': 'Susan Stoker', 'contributor': 'by Susan Stoker', 'title': 'SHELTER FOR ADELINE', 'contributor_note': '', 'description': 'A fireman must keep his overprotective nature in check while pursuing an epileptic prey to her suspiciously obsessive boss.', 'primary_isbn10': 'None'}]\n",
      "[{'age_group': '', 'price': 0, 'publisher': 'Atria', 'primary_isbn13': '9781476738031', 'author': 'Fredrik Backman', 'contributor': 'by Fredrik Backman', 'title': 'A MAN CALLED OVE', 'contributor_note': '', 'description': 'An angry old curmudgeon gets new neighbors, and things are about to change for all of them.', 'primary_isbn10': 'None'}]\n",
      "[{'age_group': '', 'price': 0, 'publisher': 'Delacorte', 'primary_isbn13': '9780425285350', 'author': 'Danielle Steel', 'contributor': 'by Danielle Steel', 'title': 'THE MISTRESS', 'contributor_note': '', 'description': 'The beautiful mistress of a Russian oligarch falls in love with an artist and yearns for freedom.', 'primary_isbn10': '0425285359'}]\n",
      "[{'age_group': '', 'price': 0, 'publisher': 'Berkley', 'primary_isbn13': '9780698193000', 'author': 'Karen White', 'contributor': 'by Karen White', 'title': 'THE GUESTS ON SOUTH BATTERY', 'contributor_note': '', 'description': 'Spirits invade the life of a Charleston realtor.', 'primary_isbn10': ''}]\n",
      "[{'age_group': '', 'price': 0, 'publisher': 'Grand Central', 'primary_isbn13': '9781455586493', 'author': 'David Baldacci', 'contributor': 'by David Baldacci', 'title': \"NO MAN'S LAND\", 'contributor_note': '', 'description': 'John Puller, a special agent with the Army, searches for the truth about his mother, who disappeared 30 years ago.', 'primary_isbn10': '1455586498'}]\n",
      "[{'age_group': '', 'price': 0, 'publisher': 'Putnam', 'primary_isbn13': '9780399574184', 'author': 'Stuart Woods', 'contributor': 'by Stuart Woods', 'title': 'BELOW THE BELT', 'contributor_note': '', 'description': 'The New York lawyer Stone Barrington faces danger when he finds himself in possession of a retired C.I.A. agent’s explosive memoir.', 'primary_isbn10': 'None'}]\n",
      "[{'age_group': '', 'price': 0, 'publisher': 'Little, Brown', 'primary_isbn13': '9780316407168', 'author': 'James Patterson', 'contributor': 'by James Patterson', 'title': 'CROSS THE LINE', 'contributor_note': '', 'description': 'Detective Alex Cross and his wife, Bree, team up to catch a killer causing chaos in Washington, D.C.', 'primary_isbn10': '031640716X'}]\n",
      "[{'age_group': '', 'price': 0, 'publisher': 'Flatiron', 'primary_isbn13': '9781250105615', 'author': 'Jane Harper', 'contributor': 'by Jane Harper', 'title': 'THE DRY', 'contributor_note': '', 'description': '', 'primary_isbn10': '1250105617'}]\n",
      "[{'age_group': '', 'price': 0, 'publisher': 'Forge', 'primary_isbn13': '9781429960274', 'author': 'W Bruce Cameron', 'contributor': 'by W. Bruce Cameron', 'title': \"A DOG'S PURPOSE\", 'contributor_note': '', 'description': 'A canine narrator undergoes a series of reincarnations.', 'primary_isbn10': '1429960272'}]\n",
      "[{'age_group': '', 'price': 0, 'publisher': 'Doubleday', 'primary_isbn13': '9780385538923', 'author': 'Chris Bohjalian', 'contributor': 'by Chris Bohjalian', 'title': 'THE SLEEPWALKER', 'contributor_note': '', 'description': 'The daughters of a Vermont woman who disappeared from her home in the middle of the night try to understand what happened.', 'primary_isbn10': '0385538928'}]\n"
     ]
    }
   ],
   "source": [
    "for bores in bookjs['results']:\n",
    "    #for bor in bores:\n",
    "    print(bores['book_details'])\n",
    "    booklis.append(bores['book_details'])\n",
    "    #print(bores['book_details'][0]['title'])\n",
    "    #    print(bor)\n",
    "    #print(bores['book_details'][bor]['author'])"
   ]
  },
  {
   "cell_type": "markdown",
   "metadata": {},
   "source": [
    "Get Goodreads book IDs given ISBNs\n",
    "Get Goodreads book IDs given one or more ISBNs. Response contains IDs without any markup.\n",
    "URL: https://www.goodreads.com/book/isbn_to_id    (sample url)\n",
    "HTTP method: GET\n",
    "Parameters:\n",
    "\n",
    "    key: Developer key (required).\n",
    "\n",
    "    isbn: ISBNs of books to look up.\n",
    "\n",
    "\n",
    "Get Goodreads work IDs g"
   ]
  },
  {
   "cell_type": "code",
   "execution_count": 55,
   "metadata": {
    "collapsed": true
   },
   "outputs": [],
   "source": [
    "para = {'key' : 'j6a7NN6aLyIGFrt9YHwibw', 'v': 2}"
   ]
  },
  {
   "cell_type": "code",
   "execution_count": 56,
   "metadata": {
    "collapsed": true
   },
   "outputs": [],
   "source": [
    "newsnip = dict()"
   ]
  },
  {
   "cell_type": "code",
   "execution_count": 57,
   "metadata": {
    "collapsed": false,
    "scrolled": true
   },
   "outputs": [
    {
     "name": "stdout",
     "output_type": "stream",
     "text": [
      "{'age_group': '', 'price': 0, 'publisher': 'Lauren Blakely', 'primary_isbn13': 'A00B01MT5HMRV', 'author': 'Lauren Blakely', 'contributor': 'by Lauren Blakely', 'title': 'FULL PACKAGE', 'contributor_note': '', 'description': \"A man shares a cramped apartment with his friend's fetching sister.\", 'primary_isbn10': 'None'}\n"
     ]
    },
    {
     "ename": "ConnectionError",
     "evalue": "('Connection aborted.', gaierror(-2, 'Name or service not known'))",
     "output_type": "error",
     "traceback": [
      "\u001b[1;31m---------------------------------------------------------------------------\u001b[0m",
      "\u001b[1;31mgaierror\u001b[0m                                  Traceback (most recent call last)",
      "\u001b[1;32m/usr/lib/python3/dist-packages/urllib3/connectionpool.py\u001b[0m in \u001b[0;36murlopen\u001b[1;34m(self, method, url, body, headers, retries, redirect, assert_same_host, timeout, pool_timeout, release_conn, **response_kw)\u001b[0m\n\u001b[0;32m    515\u001b[0m                                                   \u001b[0mtimeout\u001b[0m\u001b[1;33m=\u001b[0m\u001b[0mtimeout\u001b[0m\u001b[1;33m,\u001b[0m\u001b[1;33m\u001b[0m\u001b[0m\n\u001b[1;32m--> 516\u001b[1;33m                                                   body=body, headers=headers)\n\u001b[0m\u001b[0;32m    517\u001b[0m \u001b[1;33m\u001b[0m\u001b[0m\n",
      "\u001b[1;32m/usr/lib/python3/dist-packages/urllib3/connectionpool.py\u001b[0m in \u001b[0;36m_make_request\u001b[1;34m(self, conn, method, url, timeout, **httplib_request_kw)\u001b[0m\n\u001b[0;32m    307\u001b[0m         \u001b[1;31m# urllib3.request. It also calls makefile (recv) on the socket.\u001b[0m\u001b[1;33m\u001b[0m\u001b[1;33m\u001b[0m\u001b[0m\n\u001b[1;32m--> 308\u001b[1;33m         \u001b[0mconn\u001b[0m\u001b[1;33m.\u001b[0m\u001b[0mrequest\u001b[0m\u001b[1;33m(\u001b[0m\u001b[0mmethod\u001b[0m\u001b[1;33m,\u001b[0m \u001b[0murl\u001b[0m\u001b[1;33m,\u001b[0m \u001b[1;33m**\u001b[0m\u001b[0mhttplib_request_kw\u001b[0m\u001b[1;33m)\u001b[0m\u001b[1;33m\u001b[0m\u001b[0m\n\u001b[0m\u001b[0;32m    309\u001b[0m \u001b[1;33m\u001b[0m\u001b[0m\n",
      "\u001b[1;32m/usr/lib/python3.4/http/client.py\u001b[0m in \u001b[0;36mrequest\u001b[1;34m(self, method, url, body, headers)\u001b[0m\n\u001b[0;32m   1089\u001b[0m         \u001b[1;34m\"\"\"Send a complete request to the server.\"\"\"\u001b[0m\u001b[1;33m\u001b[0m\u001b[0m\n\u001b[1;32m-> 1090\u001b[1;33m         \u001b[0mself\u001b[0m\u001b[1;33m.\u001b[0m\u001b[0m_send_request\u001b[0m\u001b[1;33m(\u001b[0m\u001b[0mmethod\u001b[0m\u001b[1;33m,\u001b[0m \u001b[0murl\u001b[0m\u001b[1;33m,\u001b[0m \u001b[0mbody\u001b[0m\u001b[1;33m,\u001b[0m \u001b[0mheaders\u001b[0m\u001b[1;33m)\u001b[0m\u001b[1;33m\u001b[0m\u001b[0m\n\u001b[0m\u001b[0;32m   1091\u001b[0m \u001b[1;33m\u001b[0m\u001b[0m\n",
      "\u001b[1;32m/usr/lib/python3.4/http/client.py\u001b[0m in \u001b[0;36m_send_request\u001b[1;34m(self, method, url, body, headers)\u001b[0m\n\u001b[0;32m   1127\u001b[0m             \u001b[0mbody\u001b[0m \u001b[1;33m=\u001b[0m \u001b[0mbody\u001b[0m\u001b[1;33m.\u001b[0m\u001b[0mencode\u001b[0m\u001b[1;33m(\u001b[0m\u001b[1;34m'iso-8859-1'\u001b[0m\u001b[1;33m)\u001b[0m\u001b[1;33m\u001b[0m\u001b[0m\n\u001b[1;32m-> 1128\u001b[1;33m         \u001b[0mself\u001b[0m\u001b[1;33m.\u001b[0m\u001b[0mendheaders\u001b[0m\u001b[1;33m(\u001b[0m\u001b[0mbody\u001b[0m\u001b[1;33m)\u001b[0m\u001b[1;33m\u001b[0m\u001b[0m\n\u001b[0m\u001b[0;32m   1129\u001b[0m \u001b[1;33m\u001b[0m\u001b[0m\n",
      "\u001b[1;32m/usr/lib/python3.4/http/client.py\u001b[0m in \u001b[0;36mendheaders\u001b[1;34m(self, message_body)\u001b[0m\n\u001b[0;32m   1085\u001b[0m             \u001b[1;32mraise\u001b[0m \u001b[0mCannotSendHeader\u001b[0m\u001b[1;33m(\u001b[0m\u001b[1;33m)\u001b[0m\u001b[1;33m\u001b[0m\u001b[0m\n\u001b[1;32m-> 1086\u001b[1;33m         \u001b[0mself\u001b[0m\u001b[1;33m.\u001b[0m\u001b[0m_send_output\u001b[0m\u001b[1;33m(\u001b[0m\u001b[0mmessage_body\u001b[0m\u001b[1;33m)\u001b[0m\u001b[1;33m\u001b[0m\u001b[0m\n\u001b[0m\u001b[0;32m   1087\u001b[0m \u001b[1;33m\u001b[0m\u001b[0m\n",
      "\u001b[1;32m/usr/lib/python3.4/http/client.py\u001b[0m in \u001b[0;36m_send_output\u001b[1;34m(self, message_body)\u001b[0m\n\u001b[0;32m    923\u001b[0m             \u001b[0mmessage_body\u001b[0m \u001b[1;33m=\u001b[0m \u001b[1;32mNone\u001b[0m\u001b[1;33m\u001b[0m\u001b[0m\n\u001b[1;32m--> 924\u001b[1;33m         \u001b[0mself\u001b[0m\u001b[1;33m.\u001b[0m\u001b[0msend\u001b[0m\u001b[1;33m(\u001b[0m\u001b[0mmsg\u001b[0m\u001b[1;33m)\u001b[0m\u001b[1;33m\u001b[0m\u001b[0m\n\u001b[0m\u001b[0;32m    925\u001b[0m         \u001b[1;32mif\u001b[0m \u001b[0mmessage_body\u001b[0m \u001b[1;32mis\u001b[0m \u001b[1;32mnot\u001b[0m \u001b[1;32mNone\u001b[0m\u001b[1;33m:\u001b[0m\u001b[1;33m\u001b[0m\u001b[0m\n",
      "\u001b[1;32m/usr/lib/python3.4/http/client.py\u001b[0m in \u001b[0;36msend\u001b[1;34m(self, data)\u001b[0m\n\u001b[0;32m    858\u001b[0m             \u001b[1;32mif\u001b[0m \u001b[0mself\u001b[0m\u001b[1;33m.\u001b[0m\u001b[0mauto_open\u001b[0m\u001b[1;33m:\u001b[0m\u001b[1;33m\u001b[0m\u001b[0m\n\u001b[1;32m--> 859\u001b[1;33m                 \u001b[0mself\u001b[0m\u001b[1;33m.\u001b[0m\u001b[0mconnect\u001b[0m\u001b[1;33m(\u001b[0m\u001b[1;33m)\u001b[0m\u001b[1;33m\u001b[0m\u001b[0m\n\u001b[0m\u001b[0;32m    860\u001b[0m             \u001b[1;32melse\u001b[0m\u001b[1;33m:\u001b[0m\u001b[1;33m\u001b[0m\u001b[0m\n",
      "\u001b[1;32m/usr/lib/python3/dist-packages/urllib3/connection.py\u001b[0m in \u001b[0;36mconnect\u001b[1;34m(self)\u001b[0m\n\u001b[0;32m    153\u001b[0m     \u001b[1;32mdef\u001b[0m \u001b[0mconnect\u001b[0m\u001b[1;33m(\u001b[0m\u001b[0mself\u001b[0m\u001b[1;33m)\u001b[0m\u001b[1;33m:\u001b[0m\u001b[1;33m\u001b[0m\u001b[0m\n\u001b[1;32m--> 154\u001b[1;33m         \u001b[0mconn\u001b[0m \u001b[1;33m=\u001b[0m \u001b[0mself\u001b[0m\u001b[1;33m.\u001b[0m\u001b[0m_new_conn\u001b[0m\u001b[1;33m(\u001b[0m\u001b[1;33m)\u001b[0m\u001b[1;33m\u001b[0m\u001b[0m\n\u001b[0m\u001b[0;32m    155\u001b[0m         \u001b[0mself\u001b[0m\u001b[1;33m.\u001b[0m\u001b[0m_prepare_conn\u001b[0m\u001b[1;33m(\u001b[0m\u001b[0mconn\u001b[0m\u001b[1;33m)\u001b[0m\u001b[1;33m\u001b[0m\u001b[0m\n",
      "\u001b[1;32m/usr/lib/python3/dist-packages/urllib3/connection.py\u001b[0m in \u001b[0;36m_new_conn\u001b[1;34m(self)\u001b[0m\n\u001b[0;32m    132\u001b[0m             conn = connection.create_connection(\n\u001b[1;32m--> 133\u001b[1;33m                 (self.host, self.port), self.timeout, **extra_kw)\n\u001b[0m\u001b[0;32m    134\u001b[0m \u001b[1;33m\u001b[0m\u001b[0m\n",
      "\u001b[1;32m/usr/lib/python3/dist-packages/urllib3/util/connection.py\u001b[0m in \u001b[0;36mcreate_connection\u001b[1;34m(address, timeout, source_address, socket_options)\u001b[0m\n\u001b[0;32m     63\u001b[0m     \u001b[0merr\u001b[0m \u001b[1;33m=\u001b[0m \u001b[1;32mNone\u001b[0m\u001b[1;33m\u001b[0m\u001b[0m\n\u001b[1;32m---> 64\u001b[1;33m     \u001b[1;32mfor\u001b[0m \u001b[0mres\u001b[0m \u001b[1;32min\u001b[0m \u001b[0msocket\u001b[0m\u001b[1;33m.\u001b[0m\u001b[0mgetaddrinfo\u001b[0m\u001b[1;33m(\u001b[0m\u001b[0mhost\u001b[0m\u001b[1;33m,\u001b[0m \u001b[0mport\u001b[0m\u001b[1;33m,\u001b[0m \u001b[1;36m0\u001b[0m\u001b[1;33m,\u001b[0m \u001b[0msocket\u001b[0m\u001b[1;33m.\u001b[0m\u001b[0mSOCK_STREAM\u001b[0m\u001b[1;33m)\u001b[0m\u001b[1;33m:\u001b[0m\u001b[1;33m\u001b[0m\u001b[0m\n\u001b[0m\u001b[0;32m     65\u001b[0m         \u001b[0maf\u001b[0m\u001b[1;33m,\u001b[0m \u001b[0msocktype\u001b[0m\u001b[1;33m,\u001b[0m \u001b[0mproto\u001b[0m\u001b[1;33m,\u001b[0m \u001b[0mcanonname\u001b[0m\u001b[1;33m,\u001b[0m \u001b[0msa\u001b[0m \u001b[1;33m=\u001b[0m \u001b[0mres\u001b[0m\u001b[1;33m\u001b[0m\u001b[0m\n",
      "\u001b[1;32m/usr/lib/python3.4/socket.py\u001b[0m in \u001b[0;36mgetaddrinfo\u001b[1;34m(host, port, family, type, proto, flags)\u001b[0m\n\u001b[0;32m    529\u001b[0m     \u001b[0maddrlist\u001b[0m \u001b[1;33m=\u001b[0m \u001b[1;33m[\u001b[0m\u001b[1;33m]\u001b[0m\u001b[1;33m\u001b[0m\u001b[0m\n\u001b[1;32m--> 530\u001b[1;33m     \u001b[1;32mfor\u001b[0m \u001b[0mres\u001b[0m \u001b[1;32min\u001b[0m \u001b[0m_socket\u001b[0m\u001b[1;33m.\u001b[0m\u001b[0mgetaddrinfo\u001b[0m\u001b[1;33m(\u001b[0m\u001b[0mhost\u001b[0m\u001b[1;33m,\u001b[0m \u001b[0mport\u001b[0m\u001b[1;33m,\u001b[0m \u001b[0mfamily\u001b[0m\u001b[1;33m,\u001b[0m \u001b[0mtype\u001b[0m\u001b[1;33m,\u001b[0m \u001b[0mproto\u001b[0m\u001b[1;33m,\u001b[0m \u001b[0mflags\u001b[0m\u001b[1;33m)\u001b[0m\u001b[1;33m:\u001b[0m\u001b[1;33m\u001b[0m\u001b[0m\n\u001b[0m\u001b[0;32m    531\u001b[0m         \u001b[0maf\u001b[0m\u001b[1;33m,\u001b[0m \u001b[0msocktype\u001b[0m\u001b[1;33m,\u001b[0m \u001b[0mproto\u001b[0m\u001b[1;33m,\u001b[0m \u001b[0mcanonname\u001b[0m\u001b[1;33m,\u001b[0m \u001b[0msa\u001b[0m \u001b[1;33m=\u001b[0m \u001b[0mres\u001b[0m\u001b[1;33m\u001b[0m\u001b[0m\n",
      "\u001b[1;31mgaierror\u001b[0m: [Errno -2] Name or service not known",
      "\nDuring handling of the above exception, another exception occurred:\n",
      "\u001b[1;31mProtocolError\u001b[0m                             Traceback (most recent call last)",
      "\u001b[1;32m/usr/lib/python3/dist-packages/requests/adapters.py\u001b[0m in \u001b[0;36msend\u001b[1;34m(self, request, stream, timeout, verify, cert, proxies)\u001b[0m\n\u001b[0;32m    361\u001b[0m                     \u001b[0mretries\u001b[0m\u001b[1;33m=\u001b[0m\u001b[0mRetry\u001b[0m\u001b[1;33m(\u001b[0m\u001b[0mself\u001b[0m\u001b[1;33m.\u001b[0m\u001b[0mmax_retries\u001b[0m\u001b[1;33m,\u001b[0m \u001b[0mread\u001b[0m\u001b[1;33m=\u001b[0m\u001b[1;32mFalse\u001b[0m\u001b[1;33m)\u001b[0m\u001b[1;33m,\u001b[0m\u001b[1;33m\u001b[0m\u001b[0m\n\u001b[1;32m--> 362\u001b[1;33m                     \u001b[0mtimeout\u001b[0m\u001b[1;33m=\u001b[0m\u001b[0mtimeout\u001b[0m\u001b[1;33m\u001b[0m\u001b[0m\n\u001b[0m\u001b[0;32m    363\u001b[0m                 )\n",
      "\u001b[1;32m/usr/lib/python3/dist-packages/urllib3/connectionpool.py\u001b[0m in \u001b[0;36murlopen\u001b[1;34m(self, method, url, body, headers, retries, redirect, assert_same_host, timeout, pool_timeout, release_conn, **response_kw)\u001b[0m\n\u001b[0;32m    558\u001b[0m             retries = retries.increment(method, url, error=e,\n\u001b[1;32m--> 559\u001b[1;33m                                         _pool=self, _stacktrace=stacktrace)\n\u001b[0m\u001b[0;32m    560\u001b[0m             \u001b[0mretries\u001b[0m\u001b[1;33m.\u001b[0m\u001b[0msleep\u001b[0m\u001b[1;33m(\u001b[0m\u001b[1;33m)\u001b[0m\u001b[1;33m\u001b[0m\u001b[0m\n",
      "\u001b[1;32m/usr/lib/python3/dist-packages/urllib3/util/retry.py\u001b[0m in \u001b[0;36mincrement\u001b[1;34m(self, method, url, response, error, _pool, _stacktrace)\u001b[0m\n\u001b[0;32m    244\u001b[0m             \u001b[1;32mif\u001b[0m \u001b[0mread\u001b[0m \u001b[1;32mis\u001b[0m \u001b[1;32mFalse\u001b[0m\u001b[1;33m:\u001b[0m\u001b[1;33m\u001b[0m\u001b[0m\n\u001b[1;32m--> 245\u001b[1;33m                 \u001b[1;32mraise\u001b[0m \u001b[0msix\u001b[0m\u001b[1;33m.\u001b[0m\u001b[0mreraise\u001b[0m\u001b[1;33m(\u001b[0m\u001b[0mtype\u001b[0m\u001b[1;33m(\u001b[0m\u001b[0merror\u001b[0m\u001b[1;33m)\u001b[0m\u001b[1;33m,\u001b[0m \u001b[0merror\u001b[0m\u001b[1;33m,\u001b[0m \u001b[0m_stacktrace\u001b[0m\u001b[1;33m)\u001b[0m\u001b[1;33m\u001b[0m\u001b[0m\n\u001b[0m\u001b[0;32m    246\u001b[0m             \u001b[1;32melif\u001b[0m \u001b[0mread\u001b[0m \u001b[1;32mis\u001b[0m \u001b[1;32mnot\u001b[0m \u001b[1;32mNone\u001b[0m\u001b[1;33m:\u001b[0m\u001b[1;33m\u001b[0m\u001b[0m\n",
      "\u001b[1;32m/usr/lib/python3/dist-packages/six.py\u001b[0m in \u001b[0;36mreraise\u001b[1;34m(tp, value, tb)\u001b[0m\n\u001b[0;32m    623\u001b[0m         \u001b[1;32mif\u001b[0m \u001b[0mvalue\u001b[0m\u001b[1;33m.\u001b[0m\u001b[0m__traceback__\u001b[0m \u001b[1;32mis\u001b[0m \u001b[1;32mnot\u001b[0m \u001b[0mtb\u001b[0m\u001b[1;33m:\u001b[0m\u001b[1;33m\u001b[0m\u001b[0m\n\u001b[1;32m--> 624\u001b[1;33m             \u001b[1;32mraise\u001b[0m \u001b[0mvalue\u001b[0m\u001b[1;33m.\u001b[0m\u001b[0mwith_traceback\u001b[0m\u001b[1;33m(\u001b[0m\u001b[0mtb\u001b[0m\u001b[1;33m)\u001b[0m\u001b[1;33m\u001b[0m\u001b[0m\n\u001b[0m\u001b[0;32m    625\u001b[0m         \u001b[1;32mraise\u001b[0m \u001b[0mvalue\u001b[0m\u001b[1;33m\u001b[0m\u001b[0m\n",
      "\u001b[1;32m/usr/lib/python3/dist-packages/urllib3/connectionpool.py\u001b[0m in \u001b[0;36murlopen\u001b[1;34m(self, method, url, body, headers, retries, redirect, assert_same_host, timeout, pool_timeout, release_conn, **response_kw)\u001b[0m\n\u001b[0;32m    515\u001b[0m                                                   \u001b[0mtimeout\u001b[0m\u001b[1;33m=\u001b[0m\u001b[0mtimeout\u001b[0m\u001b[1;33m,\u001b[0m\u001b[1;33m\u001b[0m\u001b[0m\n\u001b[1;32m--> 516\u001b[1;33m                                                   body=body, headers=headers)\n\u001b[0m\u001b[0;32m    517\u001b[0m \u001b[1;33m\u001b[0m\u001b[0m\n",
      "\u001b[1;32m/usr/lib/python3/dist-packages/urllib3/connectionpool.py\u001b[0m in \u001b[0;36m_make_request\u001b[1;34m(self, conn, method, url, timeout, **httplib_request_kw)\u001b[0m\n\u001b[0;32m    307\u001b[0m         \u001b[1;31m# urllib3.request. It also calls makefile (recv) on the socket.\u001b[0m\u001b[1;33m\u001b[0m\u001b[1;33m\u001b[0m\u001b[0m\n\u001b[1;32m--> 308\u001b[1;33m         \u001b[0mconn\u001b[0m\u001b[1;33m.\u001b[0m\u001b[0mrequest\u001b[0m\u001b[1;33m(\u001b[0m\u001b[0mmethod\u001b[0m\u001b[1;33m,\u001b[0m \u001b[0murl\u001b[0m\u001b[1;33m,\u001b[0m \u001b[1;33m**\u001b[0m\u001b[0mhttplib_request_kw\u001b[0m\u001b[1;33m)\u001b[0m\u001b[1;33m\u001b[0m\u001b[0m\n\u001b[0m\u001b[0;32m    309\u001b[0m \u001b[1;33m\u001b[0m\u001b[0m\n",
      "\u001b[1;32m/usr/lib/python3.4/http/client.py\u001b[0m in \u001b[0;36mrequest\u001b[1;34m(self, method, url, body, headers)\u001b[0m\n\u001b[0;32m   1089\u001b[0m         \u001b[1;34m\"\"\"Send a complete request to the server.\"\"\"\u001b[0m\u001b[1;33m\u001b[0m\u001b[0m\n\u001b[1;32m-> 1090\u001b[1;33m         \u001b[0mself\u001b[0m\u001b[1;33m.\u001b[0m\u001b[0m_send_request\u001b[0m\u001b[1;33m(\u001b[0m\u001b[0mmethod\u001b[0m\u001b[1;33m,\u001b[0m \u001b[0murl\u001b[0m\u001b[1;33m,\u001b[0m \u001b[0mbody\u001b[0m\u001b[1;33m,\u001b[0m \u001b[0mheaders\u001b[0m\u001b[1;33m)\u001b[0m\u001b[1;33m\u001b[0m\u001b[0m\n\u001b[0m\u001b[0;32m   1091\u001b[0m \u001b[1;33m\u001b[0m\u001b[0m\n",
      "\u001b[1;32m/usr/lib/python3.4/http/client.py\u001b[0m in \u001b[0;36m_send_request\u001b[1;34m(self, method, url, body, headers)\u001b[0m\n\u001b[0;32m   1127\u001b[0m             \u001b[0mbody\u001b[0m \u001b[1;33m=\u001b[0m \u001b[0mbody\u001b[0m\u001b[1;33m.\u001b[0m\u001b[0mencode\u001b[0m\u001b[1;33m(\u001b[0m\u001b[1;34m'iso-8859-1'\u001b[0m\u001b[1;33m)\u001b[0m\u001b[1;33m\u001b[0m\u001b[0m\n\u001b[1;32m-> 1128\u001b[1;33m         \u001b[0mself\u001b[0m\u001b[1;33m.\u001b[0m\u001b[0mendheaders\u001b[0m\u001b[1;33m(\u001b[0m\u001b[0mbody\u001b[0m\u001b[1;33m)\u001b[0m\u001b[1;33m\u001b[0m\u001b[0m\n\u001b[0m\u001b[0;32m   1129\u001b[0m \u001b[1;33m\u001b[0m\u001b[0m\n",
      "\u001b[1;32m/usr/lib/python3.4/http/client.py\u001b[0m in \u001b[0;36mendheaders\u001b[1;34m(self, message_body)\u001b[0m\n\u001b[0;32m   1085\u001b[0m             \u001b[1;32mraise\u001b[0m \u001b[0mCannotSendHeader\u001b[0m\u001b[1;33m(\u001b[0m\u001b[1;33m)\u001b[0m\u001b[1;33m\u001b[0m\u001b[0m\n\u001b[1;32m-> 1086\u001b[1;33m         \u001b[0mself\u001b[0m\u001b[1;33m.\u001b[0m\u001b[0m_send_output\u001b[0m\u001b[1;33m(\u001b[0m\u001b[0mmessage_body\u001b[0m\u001b[1;33m)\u001b[0m\u001b[1;33m\u001b[0m\u001b[0m\n\u001b[0m\u001b[0;32m   1087\u001b[0m \u001b[1;33m\u001b[0m\u001b[0m\n",
      "\u001b[1;32m/usr/lib/python3.4/http/client.py\u001b[0m in \u001b[0;36m_send_output\u001b[1;34m(self, message_body)\u001b[0m\n\u001b[0;32m    923\u001b[0m             \u001b[0mmessage_body\u001b[0m \u001b[1;33m=\u001b[0m \u001b[1;32mNone\u001b[0m\u001b[1;33m\u001b[0m\u001b[0m\n\u001b[1;32m--> 924\u001b[1;33m         \u001b[0mself\u001b[0m\u001b[1;33m.\u001b[0m\u001b[0msend\u001b[0m\u001b[1;33m(\u001b[0m\u001b[0mmsg\u001b[0m\u001b[1;33m)\u001b[0m\u001b[1;33m\u001b[0m\u001b[0m\n\u001b[0m\u001b[0;32m    925\u001b[0m         \u001b[1;32mif\u001b[0m \u001b[0mmessage_body\u001b[0m \u001b[1;32mis\u001b[0m \u001b[1;32mnot\u001b[0m \u001b[1;32mNone\u001b[0m\u001b[1;33m:\u001b[0m\u001b[1;33m\u001b[0m\u001b[0m\n",
      "\u001b[1;32m/usr/lib/python3.4/http/client.py\u001b[0m in \u001b[0;36msend\u001b[1;34m(self, data)\u001b[0m\n\u001b[0;32m    858\u001b[0m             \u001b[1;32mif\u001b[0m \u001b[0mself\u001b[0m\u001b[1;33m.\u001b[0m\u001b[0mauto_open\u001b[0m\u001b[1;33m:\u001b[0m\u001b[1;33m\u001b[0m\u001b[0m\n\u001b[1;32m--> 859\u001b[1;33m                 \u001b[0mself\u001b[0m\u001b[1;33m.\u001b[0m\u001b[0mconnect\u001b[0m\u001b[1;33m(\u001b[0m\u001b[1;33m)\u001b[0m\u001b[1;33m\u001b[0m\u001b[0m\n\u001b[0m\u001b[0;32m    860\u001b[0m             \u001b[1;32melse\u001b[0m\u001b[1;33m:\u001b[0m\u001b[1;33m\u001b[0m\u001b[0m\n",
      "\u001b[1;32m/usr/lib/python3/dist-packages/urllib3/connection.py\u001b[0m in \u001b[0;36mconnect\u001b[1;34m(self)\u001b[0m\n\u001b[0;32m    153\u001b[0m     \u001b[1;32mdef\u001b[0m \u001b[0mconnect\u001b[0m\u001b[1;33m(\u001b[0m\u001b[0mself\u001b[0m\u001b[1;33m)\u001b[0m\u001b[1;33m:\u001b[0m\u001b[1;33m\u001b[0m\u001b[0m\n\u001b[1;32m--> 154\u001b[1;33m         \u001b[0mconn\u001b[0m \u001b[1;33m=\u001b[0m \u001b[0mself\u001b[0m\u001b[1;33m.\u001b[0m\u001b[0m_new_conn\u001b[0m\u001b[1;33m(\u001b[0m\u001b[1;33m)\u001b[0m\u001b[1;33m\u001b[0m\u001b[0m\n\u001b[0m\u001b[0;32m    155\u001b[0m         \u001b[0mself\u001b[0m\u001b[1;33m.\u001b[0m\u001b[0m_prepare_conn\u001b[0m\u001b[1;33m(\u001b[0m\u001b[0mconn\u001b[0m\u001b[1;33m)\u001b[0m\u001b[1;33m\u001b[0m\u001b[0m\n",
      "\u001b[1;32m/usr/lib/python3/dist-packages/urllib3/connection.py\u001b[0m in \u001b[0;36m_new_conn\u001b[1;34m(self)\u001b[0m\n\u001b[0;32m    132\u001b[0m             conn = connection.create_connection(\n\u001b[1;32m--> 133\u001b[1;33m                 (self.host, self.port), self.timeout, **extra_kw)\n\u001b[0m\u001b[0;32m    134\u001b[0m \u001b[1;33m\u001b[0m\u001b[0m\n",
      "\u001b[1;32m/usr/lib/python3/dist-packages/urllib3/util/connection.py\u001b[0m in \u001b[0;36mcreate_connection\u001b[1;34m(address, timeout, source_address, socket_options)\u001b[0m\n\u001b[0;32m     63\u001b[0m     \u001b[0merr\u001b[0m \u001b[1;33m=\u001b[0m \u001b[1;32mNone\u001b[0m\u001b[1;33m\u001b[0m\u001b[0m\n\u001b[1;32m---> 64\u001b[1;33m     \u001b[1;32mfor\u001b[0m \u001b[0mres\u001b[0m \u001b[1;32min\u001b[0m \u001b[0msocket\u001b[0m\u001b[1;33m.\u001b[0m\u001b[0mgetaddrinfo\u001b[0m\u001b[1;33m(\u001b[0m\u001b[0mhost\u001b[0m\u001b[1;33m,\u001b[0m \u001b[0mport\u001b[0m\u001b[1;33m,\u001b[0m \u001b[1;36m0\u001b[0m\u001b[1;33m,\u001b[0m \u001b[0msocket\u001b[0m\u001b[1;33m.\u001b[0m\u001b[0mSOCK_STREAM\u001b[0m\u001b[1;33m)\u001b[0m\u001b[1;33m:\u001b[0m\u001b[1;33m\u001b[0m\u001b[0m\n\u001b[0m\u001b[0;32m     65\u001b[0m         \u001b[0maf\u001b[0m\u001b[1;33m,\u001b[0m \u001b[0msocktype\u001b[0m\u001b[1;33m,\u001b[0m \u001b[0mproto\u001b[0m\u001b[1;33m,\u001b[0m \u001b[0mcanonname\u001b[0m\u001b[1;33m,\u001b[0m \u001b[0msa\u001b[0m \u001b[1;33m=\u001b[0m \u001b[0mres\u001b[0m\u001b[1;33m\u001b[0m\u001b[0m\n",
      "\u001b[1;32m/usr/lib/python3.4/socket.py\u001b[0m in \u001b[0;36mgetaddrinfo\u001b[1;34m(host, port, family, type, proto, flags)\u001b[0m\n\u001b[0;32m    529\u001b[0m     \u001b[0maddrlist\u001b[0m \u001b[1;33m=\u001b[0m \u001b[1;33m[\u001b[0m\u001b[1;33m]\u001b[0m\u001b[1;33m\u001b[0m\u001b[0m\n\u001b[1;32m--> 530\u001b[1;33m     \u001b[1;32mfor\u001b[0m \u001b[0mres\u001b[0m \u001b[1;32min\u001b[0m \u001b[0m_socket\u001b[0m\u001b[1;33m.\u001b[0m\u001b[0mgetaddrinfo\u001b[0m\u001b[1;33m(\u001b[0m\u001b[0mhost\u001b[0m\u001b[1;33m,\u001b[0m \u001b[0mport\u001b[0m\u001b[1;33m,\u001b[0m \u001b[0mfamily\u001b[0m\u001b[1;33m,\u001b[0m \u001b[0mtype\u001b[0m\u001b[1;33m,\u001b[0m \u001b[0mproto\u001b[0m\u001b[1;33m,\u001b[0m \u001b[0mflags\u001b[0m\u001b[1;33m)\u001b[0m\u001b[1;33m:\u001b[0m\u001b[1;33m\u001b[0m\u001b[0m\n\u001b[0m\u001b[0;32m    531\u001b[0m         \u001b[0maf\u001b[0m\u001b[1;33m,\u001b[0m \u001b[0msocktype\u001b[0m\u001b[1;33m,\u001b[0m \u001b[0mproto\u001b[0m\u001b[1;33m,\u001b[0m \u001b[0mcanonname\u001b[0m\u001b[1;33m,\u001b[0m \u001b[0msa\u001b[0m \u001b[1;33m=\u001b[0m \u001b[0mres\u001b[0m\u001b[1;33m\u001b[0m\u001b[0m\n",
      "\u001b[1;31mProtocolError\u001b[0m: ('Connection aborted.', gaierror(-2, 'Name or service not known'))",
      "\nDuring handling of the above exception, another exception occurred:\n",
      "\u001b[1;31mConnectionError\u001b[0m                           Traceback (most recent call last)",
      "\u001b[1;32m<ipython-input-57-1b46a5c3b9ff>\u001b[0m in \u001b[0;36m<module>\u001b[1;34m()\u001b[0m\n\u001b[0;32m      7\u001b[0m         \u001b[0mbonow\u001b[0m \u001b[1;33m=\u001b[0m \u001b[0mbotit\u001b[0m\u001b[1;33m.\u001b[0m\u001b[0mreplace\u001b[0m\u001b[1;33m(\u001b[0m\u001b[1;34m' '\u001b[0m\u001b[1;33m,\u001b[0m \u001b[1;34m'-'\u001b[0m\u001b[1;33m)\u001b[0m\u001b[1;33m\u001b[0m\u001b[0m\n\u001b[0;32m      8\u001b[0m         \u001b[0mgifparm\u001b[0m \u001b[1;33m=\u001b[0m \u001b[1;33m{\u001b[0m\u001b[1;34m'q'\u001b[0m \u001b[1;33m:\u001b[0m \u001b[0mbotit\u001b[0m\u001b[1;33m,\u001b[0m \u001b[1;34m'api_key'\u001b[0m \u001b[1;33m:\u001b[0m \u001b[1;34m'dc6zaTOxFJmzC'\u001b[0m\u001b[1;33m}\u001b[0m\u001b[1;33m\u001b[0m\u001b[0m\n\u001b[1;32m----> 9\u001b[1;33m         \u001b[0mreqgif\u001b[0m \u001b[1;33m=\u001b[0m \u001b[0mrequests\u001b[0m\u001b[1;33m.\u001b[0m\u001b[0mget\u001b[0m\u001b[1;33m(\u001b[0m\u001b[1;34m'http://api.giphy.com/v1/gifs/search'\u001b[0m\u001b[1;33m,\u001b[0m \u001b[0mparams\u001b[0m \u001b[1;33m=\u001b[0m \u001b[0mgifparm\u001b[0m\u001b[1;33m)\u001b[0m\u001b[1;33m\u001b[0m\u001b[0m\n\u001b[0m\u001b[0;32m     10\u001b[0m         \u001b[0mgifjs\u001b[0m \u001b[1;33m=\u001b[0m \u001b[1;33m(\u001b[0m\u001b[0mreqgif\u001b[0m\u001b[1;33m.\u001b[0m\u001b[0mjson\u001b[0m\u001b[1;33m(\u001b[0m\u001b[1;33m)\u001b[0m\u001b[1;33m)\u001b[0m\u001b[1;33m\u001b[0m\u001b[0m\n\u001b[0;32m     11\u001b[0m         \u001b[0mprint\u001b[0m\u001b[1;33m(\u001b[0m\u001b[0mgifjs\u001b[0m\u001b[1;33m[\u001b[0m\u001b[1;34m'data'\u001b[0m\u001b[1;33m]\u001b[0m\u001b[1;33m[\u001b[0m\u001b[1;36m0\u001b[0m\u001b[1;33m]\u001b[0m\u001b[1;33m[\u001b[0m\u001b[1;34m'images'\u001b[0m\u001b[1;33m]\u001b[0m\u001b[1;33m[\u001b[0m\u001b[1;34m'fixed_width'\u001b[0m\u001b[1;33m]\u001b[0m\u001b[1;33m)\u001b[0m\u001b[1;31m#['images'])\u001b[0m\u001b[1;33m\u001b[0m\u001b[0m\n",
      "\u001b[1;32m/usr/lib/python3/dist-packages/requests/api.py\u001b[0m in \u001b[0;36mget\u001b[1;34m(url, **kwargs)\u001b[0m\n\u001b[0;32m     58\u001b[0m \u001b[1;33m\u001b[0m\u001b[0m\n\u001b[0;32m     59\u001b[0m     \u001b[0mkwargs\u001b[0m\u001b[1;33m.\u001b[0m\u001b[0msetdefault\u001b[0m\u001b[1;33m(\u001b[0m\u001b[1;34m'allow_redirects'\u001b[0m\u001b[1;33m,\u001b[0m \u001b[1;32mTrue\u001b[0m\u001b[1;33m)\u001b[0m\u001b[1;33m\u001b[0m\u001b[0m\n\u001b[1;32m---> 60\u001b[1;33m     \u001b[1;32mreturn\u001b[0m \u001b[0mrequest\u001b[0m\u001b[1;33m(\u001b[0m\u001b[1;34m'get'\u001b[0m\u001b[1;33m,\u001b[0m \u001b[0murl\u001b[0m\u001b[1;33m,\u001b[0m \u001b[1;33m**\u001b[0m\u001b[0mkwargs\u001b[0m\u001b[1;33m)\u001b[0m\u001b[1;33m\u001b[0m\u001b[0m\n\u001b[0m\u001b[0;32m     61\u001b[0m \u001b[1;33m\u001b[0m\u001b[0m\n\u001b[0;32m     62\u001b[0m \u001b[1;33m\u001b[0m\u001b[0m\n",
      "\u001b[1;32m/usr/lib/python3/dist-packages/requests/api.py\u001b[0m in \u001b[0;36mrequest\u001b[1;34m(method, url, **kwargs)\u001b[0m\n\u001b[0;32m     47\u001b[0m \u001b[1;33m\u001b[0m\u001b[0m\n\u001b[0;32m     48\u001b[0m     \u001b[0msession\u001b[0m \u001b[1;33m=\u001b[0m \u001b[0msessions\u001b[0m\u001b[1;33m.\u001b[0m\u001b[0mSession\u001b[0m\u001b[1;33m(\u001b[0m\u001b[1;33m)\u001b[0m\u001b[1;33m\u001b[0m\u001b[0m\n\u001b[1;32m---> 49\u001b[1;33m     \u001b[1;32mreturn\u001b[0m \u001b[0msession\u001b[0m\u001b[1;33m.\u001b[0m\u001b[0mrequest\u001b[0m\u001b[1;33m(\u001b[0m\u001b[0mmethod\u001b[0m\u001b[1;33m=\u001b[0m\u001b[0mmethod\u001b[0m\u001b[1;33m,\u001b[0m \u001b[0murl\u001b[0m\u001b[1;33m=\u001b[0m\u001b[0murl\u001b[0m\u001b[1;33m,\u001b[0m \u001b[1;33m**\u001b[0m\u001b[0mkwargs\u001b[0m\u001b[1;33m)\u001b[0m\u001b[1;33m\u001b[0m\u001b[0m\n\u001b[0m\u001b[0;32m     50\u001b[0m \u001b[1;33m\u001b[0m\u001b[0m\n\u001b[0;32m     51\u001b[0m \u001b[1;33m\u001b[0m\u001b[0m\n",
      "\u001b[1;32m/usr/lib/python3/dist-packages/requests/sessions.py\u001b[0m in \u001b[0;36mrequest\u001b[1;34m(self, method, url, params, data, headers, cookies, files, auth, timeout, allow_redirects, proxies, hooks, stream, verify, cert, json)\u001b[0m\n\u001b[0;32m    455\u001b[0m         }\n\u001b[0;32m    456\u001b[0m         \u001b[0msend_kwargs\u001b[0m\u001b[1;33m.\u001b[0m\u001b[0mupdate\u001b[0m\u001b[1;33m(\u001b[0m\u001b[0msettings\u001b[0m\u001b[1;33m)\u001b[0m\u001b[1;33m\u001b[0m\u001b[0m\n\u001b[1;32m--> 457\u001b[1;33m         \u001b[0mresp\u001b[0m \u001b[1;33m=\u001b[0m \u001b[0mself\u001b[0m\u001b[1;33m.\u001b[0m\u001b[0msend\u001b[0m\u001b[1;33m(\u001b[0m\u001b[0mprep\u001b[0m\u001b[1;33m,\u001b[0m \u001b[1;33m**\u001b[0m\u001b[0msend_kwargs\u001b[0m\u001b[1;33m)\u001b[0m\u001b[1;33m\u001b[0m\u001b[0m\n\u001b[0m\u001b[0;32m    458\u001b[0m \u001b[1;33m\u001b[0m\u001b[0m\n\u001b[0;32m    459\u001b[0m         \u001b[1;32mreturn\u001b[0m \u001b[0mresp\u001b[0m\u001b[1;33m\u001b[0m\u001b[0m\n",
      "\u001b[1;32m/usr/lib/python3/dist-packages/requests/sessions.py\u001b[0m in \u001b[0;36msend\u001b[1;34m(self, request, **kwargs)\u001b[0m\n\u001b[0;32m    567\u001b[0m \u001b[1;33m\u001b[0m\u001b[0m\n\u001b[0;32m    568\u001b[0m         \u001b[1;31m# Send the request\u001b[0m\u001b[1;33m\u001b[0m\u001b[1;33m\u001b[0m\u001b[0m\n\u001b[1;32m--> 569\u001b[1;33m         \u001b[0mr\u001b[0m \u001b[1;33m=\u001b[0m \u001b[0madapter\u001b[0m\u001b[1;33m.\u001b[0m\u001b[0msend\u001b[0m\u001b[1;33m(\u001b[0m\u001b[0mrequest\u001b[0m\u001b[1;33m,\u001b[0m \u001b[1;33m**\u001b[0m\u001b[0mkwargs\u001b[0m\u001b[1;33m)\u001b[0m\u001b[1;33m\u001b[0m\u001b[0m\n\u001b[0m\u001b[0;32m    570\u001b[0m \u001b[1;33m\u001b[0m\u001b[0m\n\u001b[0;32m    571\u001b[0m         \u001b[1;31m# Total elapsed time of the request (approximately)\u001b[0m\u001b[1;33m\u001b[0m\u001b[1;33m\u001b[0m\u001b[0m\n",
      "\u001b[1;32m/usr/lib/python3/dist-packages/requests/adapters.py\u001b[0m in \u001b[0;36msend\u001b[1;34m(self, request, stream, timeout, verify, cert, proxies)\u001b[0m\n\u001b[0;32m    405\u001b[0m \u001b[1;33m\u001b[0m\u001b[0m\n\u001b[0;32m    406\u001b[0m         \u001b[1;32mexcept\u001b[0m \u001b[1;33m(\u001b[0m\u001b[0mProtocolError\u001b[0m\u001b[1;33m,\u001b[0m \u001b[0msocket\u001b[0m\u001b[1;33m.\u001b[0m\u001b[0merror\u001b[0m\u001b[1;33m)\u001b[0m \u001b[1;32mas\u001b[0m \u001b[0merr\u001b[0m\u001b[1;33m:\u001b[0m\u001b[1;33m\u001b[0m\u001b[0m\n\u001b[1;32m--> 407\u001b[1;33m             \u001b[1;32mraise\u001b[0m \u001b[0mConnectionError\u001b[0m\u001b[1;33m(\u001b[0m\u001b[0merr\u001b[0m\u001b[1;33m,\u001b[0m \u001b[0mrequest\u001b[0m\u001b[1;33m=\u001b[0m\u001b[0mrequest\u001b[0m\u001b[1;33m)\u001b[0m\u001b[1;33m\u001b[0m\u001b[0m\n\u001b[0m\u001b[0;32m    408\u001b[0m \u001b[1;33m\u001b[0m\u001b[0m\n\u001b[0;32m    409\u001b[0m         \u001b[1;32mexcept\u001b[0m \u001b[0mMaxRetryError\u001b[0m \u001b[1;32mas\u001b[0m \u001b[0me\u001b[0m\u001b[1;33m:\u001b[0m\u001b[1;33m\u001b[0m\u001b[0m\n",
      "\u001b[1;31mConnectionError\u001b[0m: ('Connection aborted.', gaierror(-2, 'Name or service not known'))"
     ]
    }
   ],
   "source": [
    "for bok in booklis:\n",
    "    #print(bok)\n",
    "    for bo in bok:\n",
    "        #print(bo)\n",
    "        print(bo)\n",
    "        botit = (bo['title'])\n",
    "        bonow = botit.replace(' ', '-')\n",
    "        gifparm = {'q' : botit, 'api_key' : 'dc6zaTOxFJmzC'}\n",
    "        reqgif = requests.get('http://api.giphy.com/v1/gifs/search', params = gifparm)\n",
    "        gifjs = (reqgif.json())\n",
    "        print(gifjs['data'][0]['images']['fixed_width'])#['images'])\n",
    "        print(botit.capitalize())\n",
    "        print(bo['description'])\n",
    "        print(bo['author'])\n",
    "        print(bo['publisher'])\n",
    "        newdic = {'api-key' : '177948e7f058537298a9a57b29ac0195:11:74111394', 'q' : bonow, 'sort' : 'newest'}\n",
    "        newnews = requests.get('https://api.nytimes.com/svc/search/v2/articlesearch.json', params = newdic)\n",
    "        newsjs = (newnews.json())\n",
    "        newdocs = newsjs['response']['docs']\n",
    "        \n",
    "        for newd in newdocs:\n",
    "            print(newd)\n",
    "            print(newd['headline']['print_headline'])\n",
    "            newsnip.update({botit : dict({'printhead' : newd['headline']['print_headline'], 'snippet' : newd['snippet']})})\n",
    "            print(newd['snippet'])\n",
    "\n",
    "        #print(bo['primary_isbn13'])\n",
    "        #print(bo['primary_isbn10'])\n",
    "        #paraisb = {'key' : 'j6a7NN6aLyIGFrt9YHwibw', 'isbn': bo['primary_isbn13']}\n",
    "        #reqgdr = requests.get('https://www.goodreads.com/book/isbn_to_id', params = paraisb)\n",
    "        #print(reqgdr.text)\n",
    "        #reqb = {'key' : 'j6a7NN6aLyIGFrt9YHwibw', 'q' : (bo['title'])}\n",
    "        #reqsbib = requests.get('https://www.goodreads.com/search/index.xml', params = reqb)\n",
    "        #print(reqsbib.text)"
   ]
  },
  {
   "cell_type": "code",
   "execution_count": 58,
   "metadata": {
    "collapsed": true
   },
   "outputs": [],
   "source": [
    "newdic = {'api-key' : '177948e7f058537298a9a57b29ac0195:11:74111394', 'q' : 'blockchain', 'sort' : 'newest'}"
   ]
  },
  {
   "cell_type": "code",
   "execution_count": 59,
   "metadata": {
    "collapsed": false
   },
   "outputs": [
    {
     "ename": "ConnectionError",
     "evalue": "('Connection aborted.', gaierror(-2, 'Name or service not known'))",
     "output_type": "error",
     "traceback": [
      "\u001b[1;31m---------------------------------------------------------------------------\u001b[0m",
      "\u001b[1;31mgaierror\u001b[0m                                  Traceback (most recent call last)",
      "\u001b[1;32m/usr/lib/python3/dist-packages/urllib3/connectionpool.py\u001b[0m in \u001b[0;36murlopen\u001b[1;34m(self, method, url, body, headers, retries, redirect, assert_same_host, timeout, pool_timeout, release_conn, **response_kw)\u001b[0m\n\u001b[0;32m    515\u001b[0m                                                   \u001b[0mtimeout\u001b[0m\u001b[1;33m=\u001b[0m\u001b[0mtimeout\u001b[0m\u001b[1;33m,\u001b[0m\u001b[1;33m\u001b[0m\u001b[0m\n\u001b[1;32m--> 516\u001b[1;33m                                                   body=body, headers=headers)\n\u001b[0m\u001b[0;32m    517\u001b[0m \u001b[1;33m\u001b[0m\u001b[0m\n",
      "\u001b[1;32m/usr/lib/python3/dist-packages/urllib3/connectionpool.py\u001b[0m in \u001b[0;36m_make_request\u001b[1;34m(self, conn, method, url, timeout, **httplib_request_kw)\u001b[0m\n\u001b[0;32m    303\u001b[0m         \u001b[1;31m# Trigger any extra validation we need to do.\u001b[0m\u001b[1;33m\u001b[0m\u001b[1;33m\u001b[0m\u001b[0m\n\u001b[1;32m--> 304\u001b[1;33m         \u001b[0mself\u001b[0m\u001b[1;33m.\u001b[0m\u001b[0m_validate_conn\u001b[0m\u001b[1;33m(\u001b[0m\u001b[0mconn\u001b[0m\u001b[1;33m)\u001b[0m\u001b[1;33m\u001b[0m\u001b[0m\n\u001b[0m\u001b[0;32m    305\u001b[0m \u001b[1;33m\u001b[0m\u001b[0m\n",
      "\u001b[1;32m/usr/lib/python3/dist-packages/urllib3/connectionpool.py\u001b[0m in \u001b[0;36m_validate_conn\u001b[1;34m(self, conn)\u001b[0m\n\u001b[0;32m    723\u001b[0m         \u001b[1;32mif\u001b[0m \u001b[1;32mnot\u001b[0m \u001b[0mgetattr\u001b[0m\u001b[1;33m(\u001b[0m\u001b[0mconn\u001b[0m\u001b[1;33m,\u001b[0m \u001b[1;34m'sock'\u001b[0m\u001b[1;33m,\u001b[0m \u001b[1;32mNone\u001b[0m\u001b[1;33m)\u001b[0m\u001b[1;33m:\u001b[0m  \u001b[1;31m# AppEngine might not have  `.sock`\u001b[0m\u001b[1;33m\u001b[0m\u001b[0m\n\u001b[1;32m--> 724\u001b[1;33m             \u001b[0mconn\u001b[0m\u001b[1;33m.\u001b[0m\u001b[0mconnect\u001b[0m\u001b[1;33m(\u001b[0m\u001b[1;33m)\u001b[0m\u001b[1;33m\u001b[0m\u001b[0m\n\u001b[0m\u001b[0;32m    725\u001b[0m \u001b[1;33m\u001b[0m\u001b[0m\n",
      "\u001b[1;32m/usr/lib/python3/dist-packages/urllib3/connection.py\u001b[0m in \u001b[0;36mconnect\u001b[1;34m(self)\u001b[0m\n\u001b[0;32m    202\u001b[0m         \u001b[1;31m# Add certificate verification\u001b[0m\u001b[1;33m\u001b[0m\u001b[1;33m\u001b[0m\u001b[0m\n\u001b[1;32m--> 203\u001b[1;33m         \u001b[0mconn\u001b[0m \u001b[1;33m=\u001b[0m \u001b[0mself\u001b[0m\u001b[1;33m.\u001b[0m\u001b[0m_new_conn\u001b[0m\u001b[1;33m(\u001b[0m\u001b[1;33m)\u001b[0m\u001b[1;33m\u001b[0m\u001b[0m\n\u001b[0m\u001b[0;32m    204\u001b[0m \u001b[1;33m\u001b[0m\u001b[0m\n",
      "\u001b[1;32m/usr/lib/python3/dist-packages/urllib3/connection.py\u001b[0m in \u001b[0;36m_new_conn\u001b[1;34m(self)\u001b[0m\n\u001b[0;32m    132\u001b[0m             conn = connection.create_connection(\n\u001b[1;32m--> 133\u001b[1;33m                 (self.host, self.port), self.timeout, **extra_kw)\n\u001b[0m\u001b[0;32m    134\u001b[0m \u001b[1;33m\u001b[0m\u001b[0m\n",
      "\u001b[1;32m/usr/lib/python3/dist-packages/urllib3/util/connection.py\u001b[0m in \u001b[0;36mcreate_connection\u001b[1;34m(address, timeout, source_address, socket_options)\u001b[0m\n\u001b[0;32m     63\u001b[0m     \u001b[0merr\u001b[0m \u001b[1;33m=\u001b[0m \u001b[1;32mNone\u001b[0m\u001b[1;33m\u001b[0m\u001b[0m\n\u001b[1;32m---> 64\u001b[1;33m     \u001b[1;32mfor\u001b[0m \u001b[0mres\u001b[0m \u001b[1;32min\u001b[0m \u001b[0msocket\u001b[0m\u001b[1;33m.\u001b[0m\u001b[0mgetaddrinfo\u001b[0m\u001b[1;33m(\u001b[0m\u001b[0mhost\u001b[0m\u001b[1;33m,\u001b[0m \u001b[0mport\u001b[0m\u001b[1;33m,\u001b[0m \u001b[1;36m0\u001b[0m\u001b[1;33m,\u001b[0m \u001b[0msocket\u001b[0m\u001b[1;33m.\u001b[0m\u001b[0mSOCK_STREAM\u001b[0m\u001b[1;33m)\u001b[0m\u001b[1;33m:\u001b[0m\u001b[1;33m\u001b[0m\u001b[0m\n\u001b[0m\u001b[0;32m     65\u001b[0m         \u001b[0maf\u001b[0m\u001b[1;33m,\u001b[0m \u001b[0msocktype\u001b[0m\u001b[1;33m,\u001b[0m \u001b[0mproto\u001b[0m\u001b[1;33m,\u001b[0m \u001b[0mcanonname\u001b[0m\u001b[1;33m,\u001b[0m \u001b[0msa\u001b[0m \u001b[1;33m=\u001b[0m \u001b[0mres\u001b[0m\u001b[1;33m\u001b[0m\u001b[0m\n",
      "\u001b[1;32m/usr/lib/python3.4/socket.py\u001b[0m in \u001b[0;36mgetaddrinfo\u001b[1;34m(host, port, family, type, proto, flags)\u001b[0m\n\u001b[0;32m    529\u001b[0m     \u001b[0maddrlist\u001b[0m \u001b[1;33m=\u001b[0m \u001b[1;33m[\u001b[0m\u001b[1;33m]\u001b[0m\u001b[1;33m\u001b[0m\u001b[0m\n\u001b[1;32m--> 530\u001b[1;33m     \u001b[1;32mfor\u001b[0m \u001b[0mres\u001b[0m \u001b[1;32min\u001b[0m \u001b[0m_socket\u001b[0m\u001b[1;33m.\u001b[0m\u001b[0mgetaddrinfo\u001b[0m\u001b[1;33m(\u001b[0m\u001b[0mhost\u001b[0m\u001b[1;33m,\u001b[0m \u001b[0mport\u001b[0m\u001b[1;33m,\u001b[0m \u001b[0mfamily\u001b[0m\u001b[1;33m,\u001b[0m \u001b[0mtype\u001b[0m\u001b[1;33m,\u001b[0m \u001b[0mproto\u001b[0m\u001b[1;33m,\u001b[0m \u001b[0mflags\u001b[0m\u001b[1;33m)\u001b[0m\u001b[1;33m:\u001b[0m\u001b[1;33m\u001b[0m\u001b[0m\n\u001b[0m\u001b[0;32m    531\u001b[0m         \u001b[0maf\u001b[0m\u001b[1;33m,\u001b[0m \u001b[0msocktype\u001b[0m\u001b[1;33m,\u001b[0m \u001b[0mproto\u001b[0m\u001b[1;33m,\u001b[0m \u001b[0mcanonname\u001b[0m\u001b[1;33m,\u001b[0m \u001b[0msa\u001b[0m \u001b[1;33m=\u001b[0m \u001b[0mres\u001b[0m\u001b[1;33m\u001b[0m\u001b[0m\n",
      "\u001b[1;31mgaierror\u001b[0m: [Errno -2] Name or service not known",
      "\nDuring handling of the above exception, another exception occurred:\n",
      "\u001b[1;31mProtocolError\u001b[0m                             Traceback (most recent call last)",
      "\u001b[1;32m/usr/lib/python3/dist-packages/requests/adapters.py\u001b[0m in \u001b[0;36msend\u001b[1;34m(self, request, stream, timeout, verify, cert, proxies)\u001b[0m\n\u001b[0;32m    361\u001b[0m                     \u001b[0mretries\u001b[0m\u001b[1;33m=\u001b[0m\u001b[0mRetry\u001b[0m\u001b[1;33m(\u001b[0m\u001b[0mself\u001b[0m\u001b[1;33m.\u001b[0m\u001b[0mmax_retries\u001b[0m\u001b[1;33m,\u001b[0m \u001b[0mread\u001b[0m\u001b[1;33m=\u001b[0m\u001b[1;32mFalse\u001b[0m\u001b[1;33m)\u001b[0m\u001b[1;33m,\u001b[0m\u001b[1;33m\u001b[0m\u001b[0m\n\u001b[1;32m--> 362\u001b[1;33m                     \u001b[0mtimeout\u001b[0m\u001b[1;33m=\u001b[0m\u001b[0mtimeout\u001b[0m\u001b[1;33m\u001b[0m\u001b[0m\n\u001b[0m\u001b[0;32m    363\u001b[0m                 )\n",
      "\u001b[1;32m/usr/lib/python3/dist-packages/urllib3/connectionpool.py\u001b[0m in \u001b[0;36murlopen\u001b[1;34m(self, method, url, body, headers, retries, redirect, assert_same_host, timeout, pool_timeout, release_conn, **response_kw)\u001b[0m\n\u001b[0;32m    558\u001b[0m             retries = retries.increment(method, url, error=e,\n\u001b[1;32m--> 559\u001b[1;33m                                         _pool=self, _stacktrace=stacktrace)\n\u001b[0m\u001b[0;32m    560\u001b[0m             \u001b[0mretries\u001b[0m\u001b[1;33m.\u001b[0m\u001b[0msleep\u001b[0m\u001b[1;33m(\u001b[0m\u001b[1;33m)\u001b[0m\u001b[1;33m\u001b[0m\u001b[0m\n",
      "\u001b[1;32m/usr/lib/python3/dist-packages/urllib3/util/retry.py\u001b[0m in \u001b[0;36mincrement\u001b[1;34m(self, method, url, response, error, _pool, _stacktrace)\u001b[0m\n\u001b[0;32m    244\u001b[0m             \u001b[1;32mif\u001b[0m \u001b[0mread\u001b[0m \u001b[1;32mis\u001b[0m \u001b[1;32mFalse\u001b[0m\u001b[1;33m:\u001b[0m\u001b[1;33m\u001b[0m\u001b[0m\n\u001b[1;32m--> 245\u001b[1;33m                 \u001b[1;32mraise\u001b[0m \u001b[0msix\u001b[0m\u001b[1;33m.\u001b[0m\u001b[0mreraise\u001b[0m\u001b[1;33m(\u001b[0m\u001b[0mtype\u001b[0m\u001b[1;33m(\u001b[0m\u001b[0merror\u001b[0m\u001b[1;33m)\u001b[0m\u001b[1;33m,\u001b[0m \u001b[0merror\u001b[0m\u001b[1;33m,\u001b[0m \u001b[0m_stacktrace\u001b[0m\u001b[1;33m)\u001b[0m\u001b[1;33m\u001b[0m\u001b[0m\n\u001b[0m\u001b[0;32m    246\u001b[0m             \u001b[1;32melif\u001b[0m \u001b[0mread\u001b[0m \u001b[1;32mis\u001b[0m \u001b[1;32mnot\u001b[0m \u001b[1;32mNone\u001b[0m\u001b[1;33m:\u001b[0m\u001b[1;33m\u001b[0m\u001b[0m\n",
      "\u001b[1;32m/usr/lib/python3/dist-packages/six.py\u001b[0m in \u001b[0;36mreraise\u001b[1;34m(tp, value, tb)\u001b[0m\n\u001b[0;32m    623\u001b[0m         \u001b[1;32mif\u001b[0m \u001b[0mvalue\u001b[0m\u001b[1;33m.\u001b[0m\u001b[0m__traceback__\u001b[0m \u001b[1;32mis\u001b[0m \u001b[1;32mnot\u001b[0m \u001b[0mtb\u001b[0m\u001b[1;33m:\u001b[0m\u001b[1;33m\u001b[0m\u001b[0m\n\u001b[1;32m--> 624\u001b[1;33m             \u001b[1;32mraise\u001b[0m \u001b[0mvalue\u001b[0m\u001b[1;33m.\u001b[0m\u001b[0mwith_traceback\u001b[0m\u001b[1;33m(\u001b[0m\u001b[0mtb\u001b[0m\u001b[1;33m)\u001b[0m\u001b[1;33m\u001b[0m\u001b[0m\n\u001b[0m\u001b[0;32m    625\u001b[0m         \u001b[1;32mraise\u001b[0m \u001b[0mvalue\u001b[0m\u001b[1;33m\u001b[0m\u001b[0m\n",
      "\u001b[1;32m/usr/lib/python3/dist-packages/urllib3/connectionpool.py\u001b[0m in \u001b[0;36murlopen\u001b[1;34m(self, method, url, body, headers, retries, redirect, assert_same_host, timeout, pool_timeout, release_conn, **response_kw)\u001b[0m\n\u001b[0;32m    515\u001b[0m                                                   \u001b[0mtimeout\u001b[0m\u001b[1;33m=\u001b[0m\u001b[0mtimeout\u001b[0m\u001b[1;33m,\u001b[0m\u001b[1;33m\u001b[0m\u001b[0m\n\u001b[1;32m--> 516\u001b[1;33m                                                   body=body, headers=headers)\n\u001b[0m\u001b[0;32m    517\u001b[0m \u001b[1;33m\u001b[0m\u001b[0m\n",
      "\u001b[1;32m/usr/lib/python3/dist-packages/urllib3/connectionpool.py\u001b[0m in \u001b[0;36m_make_request\u001b[1;34m(self, conn, method, url, timeout, **httplib_request_kw)\u001b[0m\n\u001b[0;32m    303\u001b[0m         \u001b[1;31m# Trigger any extra validation we need to do.\u001b[0m\u001b[1;33m\u001b[0m\u001b[1;33m\u001b[0m\u001b[0m\n\u001b[1;32m--> 304\u001b[1;33m         \u001b[0mself\u001b[0m\u001b[1;33m.\u001b[0m\u001b[0m_validate_conn\u001b[0m\u001b[1;33m(\u001b[0m\u001b[0mconn\u001b[0m\u001b[1;33m)\u001b[0m\u001b[1;33m\u001b[0m\u001b[0m\n\u001b[0m\u001b[0;32m    305\u001b[0m \u001b[1;33m\u001b[0m\u001b[0m\n",
      "\u001b[1;32m/usr/lib/python3/dist-packages/urllib3/connectionpool.py\u001b[0m in \u001b[0;36m_validate_conn\u001b[1;34m(self, conn)\u001b[0m\n\u001b[0;32m    723\u001b[0m         \u001b[1;32mif\u001b[0m \u001b[1;32mnot\u001b[0m \u001b[0mgetattr\u001b[0m\u001b[1;33m(\u001b[0m\u001b[0mconn\u001b[0m\u001b[1;33m,\u001b[0m \u001b[1;34m'sock'\u001b[0m\u001b[1;33m,\u001b[0m \u001b[1;32mNone\u001b[0m\u001b[1;33m)\u001b[0m\u001b[1;33m:\u001b[0m  \u001b[1;31m# AppEngine might not have  `.sock`\u001b[0m\u001b[1;33m\u001b[0m\u001b[0m\n\u001b[1;32m--> 724\u001b[1;33m             \u001b[0mconn\u001b[0m\u001b[1;33m.\u001b[0m\u001b[0mconnect\u001b[0m\u001b[1;33m(\u001b[0m\u001b[1;33m)\u001b[0m\u001b[1;33m\u001b[0m\u001b[0m\n\u001b[0m\u001b[0;32m    725\u001b[0m \u001b[1;33m\u001b[0m\u001b[0m\n",
      "\u001b[1;32m/usr/lib/python3/dist-packages/urllib3/connection.py\u001b[0m in \u001b[0;36mconnect\u001b[1;34m(self)\u001b[0m\n\u001b[0;32m    202\u001b[0m         \u001b[1;31m# Add certificate verification\u001b[0m\u001b[1;33m\u001b[0m\u001b[1;33m\u001b[0m\u001b[0m\n\u001b[1;32m--> 203\u001b[1;33m         \u001b[0mconn\u001b[0m \u001b[1;33m=\u001b[0m \u001b[0mself\u001b[0m\u001b[1;33m.\u001b[0m\u001b[0m_new_conn\u001b[0m\u001b[1;33m(\u001b[0m\u001b[1;33m)\u001b[0m\u001b[1;33m\u001b[0m\u001b[0m\n\u001b[0m\u001b[0;32m    204\u001b[0m \u001b[1;33m\u001b[0m\u001b[0m\n",
      "\u001b[1;32m/usr/lib/python3/dist-packages/urllib3/connection.py\u001b[0m in \u001b[0;36m_new_conn\u001b[1;34m(self)\u001b[0m\n\u001b[0;32m    132\u001b[0m             conn = connection.create_connection(\n\u001b[1;32m--> 133\u001b[1;33m                 (self.host, self.port), self.timeout, **extra_kw)\n\u001b[0m\u001b[0;32m    134\u001b[0m \u001b[1;33m\u001b[0m\u001b[0m\n",
      "\u001b[1;32m/usr/lib/python3/dist-packages/urllib3/util/connection.py\u001b[0m in \u001b[0;36mcreate_connection\u001b[1;34m(address, timeout, source_address, socket_options)\u001b[0m\n\u001b[0;32m     63\u001b[0m     \u001b[0merr\u001b[0m \u001b[1;33m=\u001b[0m \u001b[1;32mNone\u001b[0m\u001b[1;33m\u001b[0m\u001b[0m\n\u001b[1;32m---> 64\u001b[1;33m     \u001b[1;32mfor\u001b[0m \u001b[0mres\u001b[0m \u001b[1;32min\u001b[0m \u001b[0msocket\u001b[0m\u001b[1;33m.\u001b[0m\u001b[0mgetaddrinfo\u001b[0m\u001b[1;33m(\u001b[0m\u001b[0mhost\u001b[0m\u001b[1;33m,\u001b[0m \u001b[0mport\u001b[0m\u001b[1;33m,\u001b[0m \u001b[1;36m0\u001b[0m\u001b[1;33m,\u001b[0m \u001b[0msocket\u001b[0m\u001b[1;33m.\u001b[0m\u001b[0mSOCK_STREAM\u001b[0m\u001b[1;33m)\u001b[0m\u001b[1;33m:\u001b[0m\u001b[1;33m\u001b[0m\u001b[0m\n\u001b[0m\u001b[0;32m     65\u001b[0m         \u001b[0maf\u001b[0m\u001b[1;33m,\u001b[0m \u001b[0msocktype\u001b[0m\u001b[1;33m,\u001b[0m \u001b[0mproto\u001b[0m\u001b[1;33m,\u001b[0m \u001b[0mcanonname\u001b[0m\u001b[1;33m,\u001b[0m \u001b[0msa\u001b[0m \u001b[1;33m=\u001b[0m \u001b[0mres\u001b[0m\u001b[1;33m\u001b[0m\u001b[0m\n",
      "\u001b[1;32m/usr/lib/python3.4/socket.py\u001b[0m in \u001b[0;36mgetaddrinfo\u001b[1;34m(host, port, family, type, proto, flags)\u001b[0m\n\u001b[0;32m    529\u001b[0m     \u001b[0maddrlist\u001b[0m \u001b[1;33m=\u001b[0m \u001b[1;33m[\u001b[0m\u001b[1;33m]\u001b[0m\u001b[1;33m\u001b[0m\u001b[0m\n\u001b[1;32m--> 530\u001b[1;33m     \u001b[1;32mfor\u001b[0m \u001b[0mres\u001b[0m \u001b[1;32min\u001b[0m \u001b[0m_socket\u001b[0m\u001b[1;33m.\u001b[0m\u001b[0mgetaddrinfo\u001b[0m\u001b[1;33m(\u001b[0m\u001b[0mhost\u001b[0m\u001b[1;33m,\u001b[0m \u001b[0mport\u001b[0m\u001b[1;33m,\u001b[0m \u001b[0mfamily\u001b[0m\u001b[1;33m,\u001b[0m \u001b[0mtype\u001b[0m\u001b[1;33m,\u001b[0m \u001b[0mproto\u001b[0m\u001b[1;33m,\u001b[0m \u001b[0mflags\u001b[0m\u001b[1;33m)\u001b[0m\u001b[1;33m:\u001b[0m\u001b[1;33m\u001b[0m\u001b[0m\n\u001b[0m\u001b[0;32m    531\u001b[0m         \u001b[0maf\u001b[0m\u001b[1;33m,\u001b[0m \u001b[0msocktype\u001b[0m\u001b[1;33m,\u001b[0m \u001b[0mproto\u001b[0m\u001b[1;33m,\u001b[0m \u001b[0mcanonname\u001b[0m\u001b[1;33m,\u001b[0m \u001b[0msa\u001b[0m \u001b[1;33m=\u001b[0m \u001b[0mres\u001b[0m\u001b[1;33m\u001b[0m\u001b[0m\n",
      "\u001b[1;31mProtocolError\u001b[0m: ('Connection aborted.', gaierror(-2, 'Name or service not known'))",
      "\nDuring handling of the above exception, another exception occurred:\n",
      "\u001b[1;31mConnectionError\u001b[0m                           Traceback (most recent call last)",
      "\u001b[1;32m<ipython-input-59-f82bdb8f7fed>\u001b[0m in \u001b[0;36m<module>\u001b[1;34m()\u001b[0m\n\u001b[1;32m----> 1\u001b[1;33m \u001b[0mnewnews\u001b[0m \u001b[1;33m=\u001b[0m \u001b[0mrequests\u001b[0m\u001b[1;33m.\u001b[0m\u001b[0mget\u001b[0m\u001b[1;33m(\u001b[0m\u001b[1;34m'https://api.nytimes.com/svc/search/v2/articlesearch.json'\u001b[0m\u001b[1;33m,\u001b[0m \u001b[0mparams\u001b[0m \u001b[1;33m=\u001b[0m \u001b[0mnewdic\u001b[0m\u001b[1;33m)\u001b[0m\u001b[1;33m\u001b[0m\u001b[0m\n\u001b[0m",
      "\u001b[1;32m/usr/lib/python3/dist-packages/requests/api.py\u001b[0m in \u001b[0;36mget\u001b[1;34m(url, **kwargs)\u001b[0m\n\u001b[0;32m     58\u001b[0m \u001b[1;33m\u001b[0m\u001b[0m\n\u001b[0;32m     59\u001b[0m     \u001b[0mkwargs\u001b[0m\u001b[1;33m.\u001b[0m\u001b[0msetdefault\u001b[0m\u001b[1;33m(\u001b[0m\u001b[1;34m'allow_redirects'\u001b[0m\u001b[1;33m,\u001b[0m \u001b[1;32mTrue\u001b[0m\u001b[1;33m)\u001b[0m\u001b[1;33m\u001b[0m\u001b[0m\n\u001b[1;32m---> 60\u001b[1;33m     \u001b[1;32mreturn\u001b[0m \u001b[0mrequest\u001b[0m\u001b[1;33m(\u001b[0m\u001b[1;34m'get'\u001b[0m\u001b[1;33m,\u001b[0m \u001b[0murl\u001b[0m\u001b[1;33m,\u001b[0m \u001b[1;33m**\u001b[0m\u001b[0mkwargs\u001b[0m\u001b[1;33m)\u001b[0m\u001b[1;33m\u001b[0m\u001b[0m\n\u001b[0m\u001b[0;32m     61\u001b[0m \u001b[1;33m\u001b[0m\u001b[0m\n\u001b[0;32m     62\u001b[0m \u001b[1;33m\u001b[0m\u001b[0m\n",
      "\u001b[1;32m/usr/lib/python3/dist-packages/requests/api.py\u001b[0m in \u001b[0;36mrequest\u001b[1;34m(method, url, **kwargs)\u001b[0m\n\u001b[0;32m     47\u001b[0m \u001b[1;33m\u001b[0m\u001b[0m\n\u001b[0;32m     48\u001b[0m     \u001b[0msession\u001b[0m \u001b[1;33m=\u001b[0m \u001b[0msessions\u001b[0m\u001b[1;33m.\u001b[0m\u001b[0mSession\u001b[0m\u001b[1;33m(\u001b[0m\u001b[1;33m)\u001b[0m\u001b[1;33m\u001b[0m\u001b[0m\n\u001b[1;32m---> 49\u001b[1;33m     \u001b[1;32mreturn\u001b[0m \u001b[0msession\u001b[0m\u001b[1;33m.\u001b[0m\u001b[0mrequest\u001b[0m\u001b[1;33m(\u001b[0m\u001b[0mmethod\u001b[0m\u001b[1;33m=\u001b[0m\u001b[0mmethod\u001b[0m\u001b[1;33m,\u001b[0m \u001b[0murl\u001b[0m\u001b[1;33m=\u001b[0m\u001b[0murl\u001b[0m\u001b[1;33m,\u001b[0m \u001b[1;33m**\u001b[0m\u001b[0mkwargs\u001b[0m\u001b[1;33m)\u001b[0m\u001b[1;33m\u001b[0m\u001b[0m\n\u001b[0m\u001b[0;32m     50\u001b[0m \u001b[1;33m\u001b[0m\u001b[0m\n\u001b[0;32m     51\u001b[0m \u001b[1;33m\u001b[0m\u001b[0m\n",
      "\u001b[1;32m/usr/lib/python3/dist-packages/requests/sessions.py\u001b[0m in \u001b[0;36mrequest\u001b[1;34m(self, method, url, params, data, headers, cookies, files, auth, timeout, allow_redirects, proxies, hooks, stream, verify, cert, json)\u001b[0m\n\u001b[0;32m    455\u001b[0m         }\n\u001b[0;32m    456\u001b[0m         \u001b[0msend_kwargs\u001b[0m\u001b[1;33m.\u001b[0m\u001b[0mupdate\u001b[0m\u001b[1;33m(\u001b[0m\u001b[0msettings\u001b[0m\u001b[1;33m)\u001b[0m\u001b[1;33m\u001b[0m\u001b[0m\n\u001b[1;32m--> 457\u001b[1;33m         \u001b[0mresp\u001b[0m \u001b[1;33m=\u001b[0m \u001b[0mself\u001b[0m\u001b[1;33m.\u001b[0m\u001b[0msend\u001b[0m\u001b[1;33m(\u001b[0m\u001b[0mprep\u001b[0m\u001b[1;33m,\u001b[0m \u001b[1;33m**\u001b[0m\u001b[0msend_kwargs\u001b[0m\u001b[1;33m)\u001b[0m\u001b[1;33m\u001b[0m\u001b[0m\n\u001b[0m\u001b[0;32m    458\u001b[0m \u001b[1;33m\u001b[0m\u001b[0m\n\u001b[0;32m    459\u001b[0m         \u001b[1;32mreturn\u001b[0m \u001b[0mresp\u001b[0m\u001b[1;33m\u001b[0m\u001b[0m\n",
      "\u001b[1;32m/usr/lib/python3/dist-packages/requests/sessions.py\u001b[0m in \u001b[0;36msend\u001b[1;34m(self, request, **kwargs)\u001b[0m\n\u001b[0;32m    567\u001b[0m \u001b[1;33m\u001b[0m\u001b[0m\n\u001b[0;32m    568\u001b[0m         \u001b[1;31m# Send the request\u001b[0m\u001b[1;33m\u001b[0m\u001b[1;33m\u001b[0m\u001b[0m\n\u001b[1;32m--> 569\u001b[1;33m         \u001b[0mr\u001b[0m \u001b[1;33m=\u001b[0m \u001b[0madapter\u001b[0m\u001b[1;33m.\u001b[0m\u001b[0msend\u001b[0m\u001b[1;33m(\u001b[0m\u001b[0mrequest\u001b[0m\u001b[1;33m,\u001b[0m \u001b[1;33m**\u001b[0m\u001b[0mkwargs\u001b[0m\u001b[1;33m)\u001b[0m\u001b[1;33m\u001b[0m\u001b[0m\n\u001b[0m\u001b[0;32m    570\u001b[0m \u001b[1;33m\u001b[0m\u001b[0m\n\u001b[0;32m    571\u001b[0m         \u001b[1;31m# Total elapsed time of the request (approximately)\u001b[0m\u001b[1;33m\u001b[0m\u001b[1;33m\u001b[0m\u001b[0m\n",
      "\u001b[1;32m/usr/lib/python3/dist-packages/requests/adapters.py\u001b[0m in \u001b[0;36msend\u001b[1;34m(self, request, stream, timeout, verify, cert, proxies)\u001b[0m\n\u001b[0;32m    405\u001b[0m \u001b[1;33m\u001b[0m\u001b[0m\n\u001b[0;32m    406\u001b[0m         \u001b[1;32mexcept\u001b[0m \u001b[1;33m(\u001b[0m\u001b[0mProtocolError\u001b[0m\u001b[1;33m,\u001b[0m \u001b[0msocket\u001b[0m\u001b[1;33m.\u001b[0m\u001b[0merror\u001b[0m\u001b[1;33m)\u001b[0m \u001b[1;32mas\u001b[0m \u001b[0merr\u001b[0m\u001b[1;33m:\u001b[0m\u001b[1;33m\u001b[0m\u001b[0m\n\u001b[1;32m--> 407\u001b[1;33m             \u001b[1;32mraise\u001b[0m \u001b[0mConnectionError\u001b[0m\u001b[1;33m(\u001b[0m\u001b[0merr\u001b[0m\u001b[1;33m,\u001b[0m \u001b[0mrequest\u001b[0m\u001b[1;33m=\u001b[0m\u001b[0mrequest\u001b[0m\u001b[1;33m)\u001b[0m\u001b[1;33m\u001b[0m\u001b[0m\n\u001b[0m\u001b[0;32m    408\u001b[0m \u001b[1;33m\u001b[0m\u001b[0m\n\u001b[0;32m    409\u001b[0m         \u001b[1;32mexcept\u001b[0m \u001b[0mMaxRetryError\u001b[0m \u001b[1;32mas\u001b[0m \u001b[0me\u001b[0m\u001b[1;33m:\u001b[0m\u001b[1;33m\u001b[0m\u001b[0m\n",
      "\u001b[1;31mConnectionError\u001b[0m: ('Connection aborted.', gaierror(-2, 'Name or service not known'))"
     ]
    }
   ],
   "source": [
    "newnews = requests.get('https://api.nytimes.com/svc/search/v2/articlesearch.json', params = newdic)\n"
   ]
  },
  {
   "cell_type": "code",
   "execution_count": 26,
   "metadata": {
    "collapsed": false
   },
   "outputs": [],
   "source": [
    "newsjs = (newnews.json())"
   ]
  },
  {
   "cell_type": "code",
   "execution_count": 27,
   "metadata": {
    "collapsed": false
   },
   "outputs": [],
   "source": [
    "newdocs = newsjs['response']['docs']"
   ]
  },
  {
   "cell_type": "code",
   "execution_count": 31,
   "metadata": {
    "collapsed": true
   },
   "outputs": [
    {
     "name": "stdout",
     "output_type": "stream",
     "text": [
      "{'score': 3.716621, 'document_type': 'article', 'uri': 'nyt://article/f46bbee3-ddf1-5fa3-bad2-0844fb2ad347', 'type_of_material': 'News', 'new_desk': 'None', 'multimedia': [], 'word_count': 250, 'web_url': 'https://www.nytimes.com/reuters/2017/09/06/technology/06reuters-ukraine-blockchain.html', 'snippet': \"Ukraine's justice ministry carried out trial auctions using blockchain technology for the first time on Wednesday, part of an effort to improve transparency in government transactions.\", 'blog': {}, 'source': 'Reuters', 'byline': {'original': 'By REUTERS'}, 'headline': {'print_headline': 'Ukrainian Ministry Carries Out First Blockchain Transactions', 'main': 'Ukrainian Ministry Carries Out First Blockchain Transactions'}, '_id': '59b03c007c459f246b62214a', 'pub_date': '2017-09-06T18:18:28+0000', 'keywords': []}\n",
      "Ukraine's justice ministry carried out trial auctions using blockchain technology for the first time on Wednesday, part of an effort to improve transparency in government transactions.\n",
      "{'score': 3.2532094, 'document_type': 'article', 'uri': 'nyt://article/13658f66-ef4d-507e-9a82-1c533c813856', 'type_of_material': 'News', 'new_desk': 'None', 'multimedia': [], 'word_count': 288, 'web_url': 'https://www.nytimes.com/reuters/2017/09/06/business/06reuters-blockchain-ecb.html', 'snippet': \"Distributed ledger technology like blockchain is not mature enough to power the world's biggest payment systems, though it has the potential to improve system resilience, the European Central Bank and the Bank of Japan said on Wednesday.\", 'blog': {}, 'source': 'Reuters', 'byline': {'original': 'By REUTERS'}, 'headline': {'print_headline': 'Blockchain Immature for Big Central Banks, ECB and BOJ Say', 'main': 'Blockchain Immature for Big Central Banks, ECB and BOJ Say'}, '_id': '59b006977c459f246b62206f', 'pub_date': '2017-09-06T14:30:32+0000', 'keywords': []}\n",
      "Distributed ledger technology like blockchain is not mature enough to power the world's biggest payment systems, though it has the potential to improve system resilience, the European Central Bank and the Bank of Japan said on Wednesday.\n",
      "{'score': 0.6811652, 'document_type': 'article', 'uri': 'nyt://article/496d1ecb-7808-55a7-a8fd-de68e0496fce', 'type_of_material': 'News', 'new_desk': 'None', 'multimedia': [], 'word_count': 390, 'web_url': 'https://www.nytimes.com/reuters/2017/09/05/business/05reuters-sec-enforcement.html', 'snippet': 'Regulators must do more to help mom-and-pop investors better understand the potential risks posed by cyber crime and new technologies used to commit fraud, U.S. Securities and Exchange Commission Chairman Jay Clayton said on Tuesday.', 'blog': {}, 'source': 'Reuters', 'byline': {'original': 'By REUTERS'}, 'headline': {'print_headline': 'SEC Chief Says Cyber Crime Risks Are Substantial, Systemic', 'main': 'SEC Chief Says Cyber Crime Risks Are Substantial, Systemic'}, '_id': '59af58e47c459f246b621ea0', 'pub_date': '2017-09-06T02:09:35+0000', 'keywords': []}\n",
      "Regulators must do more to help mom-and-pop investors better understand the potential risks posed by cyber crime and new technologies used to commit fraud, U.S. Securities and Exchange Commission Chairman Jay Clayton said on Tuesday.\n",
      "{'score': 2.4777472, 'document_type': 'article', 'uri': 'nyt://article/b11f50cc-2a60-5f57-bde8-2f96ff7789ea', 'type_of_material': 'News', 'new_desk': 'None', 'multimedia': [], 'word_count': 395, 'web_url': 'https://www.nytimes.com/reuters/2017/09/05/business/05reuters-blockchain-insurance-marine.html', 'snippet': 'Consultancy EY, data security firm Guardtime, Microsoft and ship operator Maersk have joined to build a blockchain-based marine insurance platform that will be the first real-world use of the nascent technology in the shipping industry. ', 'blog': {}, 'source': 'Reuters', 'byline': {'original': 'By REUTERS'}, 'headline': {'print_headline': 'EY Teams Up With Maersk, Microsoft on Blockchain-Based Marine Insurance', 'main': 'EY Teams Up With Maersk, Microsoft on Blockchain-Based Marine Insurance'}, '_id': '59af2d497c459f246b621e55', 'pub_date': '2017-09-05T23:03:31+0000', 'keywords': []}\n",
      "Consultancy EY, data security firm Guardtime, Microsoft and ship operator Maersk have joined to build a blockchain-based marine insurance platform that will be the first real-world use of the nascent technology in the shipping industry. \n",
      "{'score': 0.9414933, 'document_type': 'article', 'uri': 'nyt://article/a6d81fb9-0662-547a-a3ee-444995be4008', 'type_of_material': 'News', 'new_desk': 'None', 'multimedia': [], 'word_count': 259, 'web_url': 'https://www.nytimes.com/reuters/2017/09/05/business/05reuters-china-finance-digital-regulation.html', 'snippet': \"It is the interest of the long-term development of blockchain technologies for the rapidly growing market for fundraising through the issue of digital currencies to be regulated, an adviser to China's central bank said on Tuesday.\", 'blog': {}, 'source': 'Reuters', 'byline': {'original': 'By REUTERS'}, 'headline': {'print_headline': 'Regulation of Digital Coin Offerings Needed for Healthy Market: China Central Bank Adviser', 'main': 'Regulation of Digital Coin Offerings Needed for Healthy Market: China Central Bank Adviser'}, '_id': '59aed56f7c459f246b621d51', 'pub_date': '2017-09-05T16:48:35+0000', 'keywords': []}\n",
      "It is the interest of the long-term development of blockchain technologies for the rapidly growing market for fundraising through the issue of digital currencies to be regulated, an adviser to China's central bank said on Tuesday.\n",
      "{'score': 0.96538925, 'document_type': 'article', 'uri': 'nyt://article/73e895cf-4c16-5dd1-9f00-f81b4be0e3b6', 'type_of_material': 'News', 'new_desk': 'None', 'multimedia': [], 'word_count': 259, 'web_url': 'https://www.nytimes.com/reuters/2017/09/05/technology/05reuters-china-finance-digital.html', 'snippet': \"It is the interest of the long-term development of blockchain technologies for the rapidly growing market for fundraising through the issue of digital currencies to be regulated, an adviser to China's central bank said on Tuesday.\", 'blog': {}, 'source': 'Reuters', 'byline': {'original': 'By REUTERS'}, 'headline': {'print_headline': 'Regulation of Digital Coin Offerings Needed for Healthy Market: China Central Bank Adviser', 'main': 'Regulation of Digital Coin Offerings Needed for Healthy Market: China Central Bank Adviser'}, '_id': '59ae48c47c459f246b621bd1', 'pub_date': '2017-09-05T06:48:32+0000', 'keywords': []}\n",
      "It is the interest of the long-term development of blockchain technologies for the rapidly growing market for fundraising through the issue of digital currencies to be regulated, an adviser to China's central bank said on Tuesday.\n",
      "{'score': 3.2131865, 'document_type': 'article', 'uri': 'nyt://article/6b030a69-6596-5030-8bc5-93efee1e926d', 'type_of_material': 'News', 'new_desk': 'None', 'multimedia': [], 'word_count': 246, 'web_url': 'https://www.nytimes.com/reuters/2017/08/31/business/31reuters-blockchain-banks.html', 'snippet': 'Six new banks have joined a UBS-led effort to create a digital cash system that would allow financial markets to make payments and settle transactions quickly via blockchain technology.', 'blog': {}, 'source': 'Reuters', 'byline': {'original': 'By REUTERS'}, 'headline': {'print_headline': 'Six Big Banks Join Blockchain Digital Cash Settlement Project', 'main': 'Six Big Banks Join Blockchain Digital Cash Settlement Project'}, '_id': '59a7c7c37c459f246b620fc0', 'pub_date': '2017-08-31T08:24:27+0000', 'keywords': []}\n",
      "Six new banks have joined a UBS-led effort to create a digital cash system that would allow financial markets to make payments and settle transactions quickly via blockchain technology.\n",
      "{'score': 0.95841837, 'document_type': 'article', 'uri': 'nyt://article/20f049a2-ad3b-5bac-819e-fe75f2a9701a', 'type_of_material': 'News', 'new_desk': 'None', 'multimedia': [], 'word_count': 392, 'web_url': 'https://www.nytimes.com/reuters/2017/08/30/business/30reuters-kik-blockchain-offering.html', 'snippet': 'Kik Interactive, the Ontario, Canada-based creator of the global chat platform Kik, valued at $1 billion, said on Tuesday it will launch in two weeks the sale of its own crypto currency which is expected to raise $125 million. ', 'blog': {}, 'source': 'Reuters', 'byline': {'original': 'By REUTERS'}, 'headline': {'print_headline': 'Canada-Based Chat Platform Kik to Launch $125 Million Token Sale', 'main': 'Canada-Based Chat Platform Kik to Launch $125 Million Token Sale'}, '_id': '59a73eb37c459f246b620ec4', 'pub_date': '2017-08-30T22:39:35+0000', 'keywords': []}\n",
      "Kik Interactive, the Ontario, Canada-based creator of the global chat platform Kik, valued at $1 billion, said on Tuesday it will launch in two weeks the sale of its own crypto currency which is expected to raise $125 million. \n",
      "{'score': 3.3641672, 'document_type': 'article', 'uri': 'nyt://article/27ab544e-9240-5f08-a4ce-a8fa8951fdb7', 'type_of_material': 'News', 'new_desk': 'None', 'multimedia': [], 'word_count': 358, 'web_url': 'https://www.nytimes.com/reuters/2017/08/30/technology/30reuters-autos-blockchain.html', 'snippet': 'The technology underpinning the cryptocurrency bitcoin is migrating to the auto industry and vehicle sharing.', 'blog': {}, 'source': 'Reuters', 'byline': {'original': 'By REUTERS'}, 'headline': {'print_headline': 'Blockchain Technology Moves Into Car Sharing, Mobility Services', 'main': 'Blockchain Technology Moves Into Car Sharing, Mobility Services'}, '_id': '59a6beb77c459f246b620d2e', 'pub_date': '2017-08-30T13:33:28+0000', 'keywords': []}\n",
      "The technology underpinning the cryptocurrency bitcoin is migrating to the auto industry and vehicle sharing.\n",
      "{'score': 0.95841837, 'document_type': 'article', 'uri': 'nyt://article/50c2e233-04a6-5933-b014-7aad3b43ae7f', 'type_of_material': 'News', 'new_desk': 'None', 'multimedia': [], 'word_count': 392, 'web_url': 'https://www.nytimes.com/reuters/2017/08/29/business/29reuters-kik-blockchain-offering.html', 'snippet': 'Kik Interactive, the Ontario, Canada-based creator of the global chat platform Kik, valued at $1 billion, said on Tuesday it will launch in two weeks the sale of its own crypto currency which is expected to raise $125 million. ', 'blog': {}, 'source': 'Reuters', 'byline': {'original': 'By REUTERS'}, 'headline': {'print_headline': 'Canada-Based Chat Platform Kik to Launch $125 Million Token Sale', 'main': 'Canada-Based Chat Platform Kik to Launch $125 Million Token Sale'}, '_id': '59a5d3de7c459f246b620b45', 'pub_date': '2017-08-29T20:51:30+0000', 'keywords': []}\n",
      "Kik Interactive, the Ontario, Canada-based creator of the global chat platform Kik, valued at $1 billion, said on Tuesday it will launch in two weeks the sale of its own crypto currency which is expected to raise $125 million. \n"
     ]
    }
   ],
   "source": [
    "for newd in newdocs:\n",
    "    print(newd)\n",
    "    phead = (newd['headline']['print_headline'])\n",
    "    pnone = phead.replace(' ', '-')\n",
    "    print(newd['snippet'])\n",
    "    newsnip.update({pnone : dict({'printheadlin' : phead, 'snippit' : newd['snippet']})})"
   ]
  },
  {
   "cell_type": "code",
   "execution_count": 39,
   "metadata": {
    "collapsed": false
   },
   "outputs": [
    {
     "name": "stdout",
     "output_type": "stream",
     "text": [
      "Canada-Bas\n",
      "Blockchain-Technology-Moves-Into-Car-Sharing,-Mobility-Services\n",
      "Six-Big-Banks-Join-Blockchain-Digital-Cash-Settlement-Project\n",
      "Blockchain\n",
      "Regulation\n",
      "Regulation-of-Digital-Coin-Offerings-Needed-for-Healthy-Market:-China-Central-Bank-Adviser\n",
      "SEC-Chief-\n",
      "FULL PACKAGE\n",
      "THE GUERNSEY LITERARY AND POTATO PEEL PIE SOCIETY\n",
      "EY-Teams-Up-With-Maersk,-Microsoft-on-Blockchain-Based-Marine-Insurance\n",
      "Ukrainian-\n",
      "Ukrainian-Ministry-Carries-Out-First-Blockchain-Transactions\n",
      "EY-Teams-U\n",
      "Canada-Based-Chat-Platform-Kik-to-Launch-$125-Million-Token-Sale\n",
      "Six-Big-Ba\n",
      "SEC-Chief-Says-Cyber-Crime-Risks-Are-Substantial,-Systemic\n",
      "Blockchain-Immature-for-Big-Central-Banks,-ECB-and-BOJ-Say\n"
     ]
    }
   ],
   "source": [
    "for news in newsnip.keys():\n",
    "    print(news)"
   ]
  },
  {
   "cell_type": "code",
   "execution_count": null,
   "metadata": {
    "collapsed": true
   },
   "outputs": [],
   "source": []
  },
  {
   "cell_type": "code",
   "execution_count": null,
   "metadata": {
    "collapsed": true
   },
   "outputs": [],
   "source": []
  }
 ],
 "metadata": {
  "kernelspec": {
   "display_name": "Python 3",
   "language": "python",
   "name": "python3"
  },
  "language_info": {
   "codemirror_mode": {
    "name": "ipython",
    "version": 3
   },
   "file_extension": ".py",
   "mimetype": "text/x-python",
   "name": "python",
   "nbconvert_exporter": "python",
   "pygments_lexer": "ipython3",
   "version": "3.4.2"
  }
 },
 "nbformat": 4,
 "nbformat_minor": 0
}
