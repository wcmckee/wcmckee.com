{
 "cells": [
  {
   "cell_type": "markdown",
   "metadata": {
    "collapsed": true
   },
   "source": [
    "RedTube json Python"
   ]
  },
  {
   "cell_type": "code",
   "execution_count": 10,
   "metadata": {},
   "outputs": [],
   "source": [
    "import requests\n",
    "import json\n",
    "import random\n",
    "\n",
    "import getpass\n",
    "#import couchdb\n",
    "import pickle\n",
    "import getpass\n",
    "#!flask/bin/python\n",
    "#from flask import Flask, jsonify"
   ]
  },
  {
   "cell_type": "code",
   "execution_count": 11,
   "metadata": {},
   "outputs": [],
   "source": [
    "myusr = getpass.getuser()"
   ]
  },
  {
   "cell_type": "code",
   "execution_count": 12,
   "metadata": {},
   "outputs": [
    {
     "name": "stdout",
     "output_type": "stream",
     "text": [
      "pi\n"
     ]
    }
   ],
   "source": [
    "print(myusr)"
   ]
  },
  {
   "cell_type": "code",
   "execution_count": 2,
   "metadata": {},
   "outputs": [],
   "source": [
    "#couch = couchdb.Server()"
   ]
  },
  {
   "cell_type": "code",
   "execution_count": 36,
   "metadata": {},
   "outputs": [],
   "source": [
    "with open('/home/{}/prn.pickle'.format(myusr), 'rb') as handle:\n",
    "    prnlis = pickle.load(handle)"
   ]
  },
  {
   "cell_type": "code",
   "execution_count": 13,
   "metadata": {},
   "outputs": [],
   "source": [
    "#db = couch.create('redtube')    "
   ]
  },
  {
   "cell_type": "code",
   "execution_count": 14,
   "metadata": {},
   "outputs": [],
   "source": [
    "#db = couch['redtube']"
   ]
  },
  {
   "cell_type": "markdown",
   "metadata": {},
   "source": [
    "Requests and json are the two main modules used for this. Random can also be handy"
   ]
  },
  {
   "cell_type": "code",
   "execution_count": 15,
   "metadata": {},
   "outputs": [],
   "source": [
    "payload = {'output' : 'json', 'data' : 'redtube.Videos.searchVideos', 'page' : 1}"
   ]
  },
  {
   "cell_type": "code",
   "execution_count": 16,
   "metadata": {},
   "outputs": [],
   "source": [
    "getprn = requests.get('http://api.redtube.com/', params = payload)"
   ]
  },
  {
   "cell_type": "code",
   "execution_count": 17,
   "metadata": {},
   "outputs": [],
   "source": [
    "daprn = getprn.json()"
   ]
  },
  {
   "cell_type": "code",
   "execution_count": 18,
   "metadata": {},
   "outputs": [],
   "source": [
    "levid = len(daprn['videos'])"
   ]
  },
  {
   "cell_type": "code",
   "execution_count": 19,
   "metadata": {},
   "outputs": [],
   "source": [
    "porndick = dict()"
   ]
  },
  {
   "cell_type": "code",
   "execution_count": null,
   "metadata": {},
   "outputs": [],
   "source": []
  },
  {
   "cell_type": "code",
   "execution_count": 47,
   "metadata": {},
   "outputs": [],
   "source": [
    "#for lev in range(0, levid):\n",
    "#    print(daprn['videos'][lev]['video'])\n",
    "#    prntit = (daprn['videos'][lev]['video']['title'])\n",
    "#    prnnow = prntit.replace(' ', '-')\n",
    "#    prnlow = prnnow.lower()\n",
    "#    print(prnlow)\n",
    "#    try:\n",
    "#        somelis = list()\n",
    "#        for dapr in daprn['videos'][lev]['video']['tags']:\n",
    "#            print(dapr['tag_name'])\n",
    "#            somelis.append(dapr['tag_name'])\n",
    "#            porndick.update({daprn['videos'][lev]['video']['video_id'] : {'tags' : \", \".join(str(x) for x in somelis)}})\n",
    "            #db.save(porndick)\n",
    "            #try:\n",
    "            #    db = couch.create(prnlow)\n",
    "            #except PreconditionFailed:\n",
    "            #    db = couch[prnlow]\n",
    "            #db.save({daprn['videos'][lev]['video']['video_id'] : {'tags' : \", \".join(str(x) for x in somelis)}})\n",
    "            \n",
    "#    except KeyError:\n",
    "#        continue"
   ]
  },
  {
   "cell_type": "code",
   "execution_count": 18,
   "metadata": {},
   "outputs": [
    {
     "name": "stdout",
     "output_type": "stream",
     "text": [
      "b4bd99ab29c1300495b1c1e6dd001590\n"
     ]
    }
   ],
   "source": [
    "#for i in db:\n",
    "#    print(i)"
   ]
  },
  {
   "cell_type": "code",
   "execution_count": 45,
   "metadata": {},
   "outputs": [],
   "source": [
    "#db.save(porndick)\n",
    "\n",
    "#for i in db:\n",
    "#    print(db[i])"
   ]
  },
  {
   "cell_type": "code",
   "execution_count": 54,
   "metadata": {},
   "outputs": [
    {
     "name": "stdout",
     "output_type": "stream",
     "text": [
      "HD\n"
     ]
    }
   ],
   "source": [
    "#print(pornd['tags'])"
   ]
  },
  {
   "cell_type": "code",
   "execution_count": 8,
   "metadata": {},
   "outputs": [],
   "source": [
    "#loaPrn = json.loads(getPrn.text)\n",
    "#print loaUrl"
   ]
  },
  {
   "cell_type": "markdown",
   "metadata": {},
   "source": [
    "Convert it into readable text that you can work with"
   ]
  },
  {
   "cell_type": "code",
   "execution_count": 28,
   "metadata": {},
   "outputs": [],
   "source": [
    "lenvid = len(daprn[u'videos'])"
   ]
  },
  {
   "cell_type": "code",
   "execution_count": 29,
   "metadata": {},
   "outputs": [
    {
     "data": {
      "text/plain": [
       "20"
      ]
     },
     "execution_count": 29,
     "metadata": {},
     "output_type": "execute_result"
    }
   ],
   "source": [
    "lenvid"
   ]
  },
  {
   "cell_type": "code",
   "execution_count": 25,
   "metadata": {},
   "outputs": [],
   "source": [
    "#aldic = dict()"
   ]
  },
  {
   "cell_type": "code",
   "execution_count": 42,
   "metadata": {},
   "outputs": [],
   "source": [
    "with open('/home/{}/prn3.pickle'.format(myusr), 'rb') as handles:\n",
    "    aldic = pickle.load(handles)"
   ]
  },
  {
   "cell_type": "code",
   "execution_count": 26,
   "metadata": {},
   "outputs": [],
   "source": [
    "import shutil"
   ]
  },
  {
   "cell_type": "code",
   "execution_count": 46,
   "metadata": {},
   "outputs": [
    {
     "name": "stdout",
     "output_type": "stream",
     "text": [
      "https://www.redtube.com/2553368\n",
      "Two Lusty Brunettes Are Taking No Prisoners\n",
      "https://media2.giphy.com/media/ftWOFe1fwGPK0/200w.gif\n",
      "Amateur\n",
      "Big Cock\n",
      "Blonde\n",
      "Blowjob\n",
      "Cum Shot\n",
      "HD\n",
      "Teen\n",
      "Verified Amateurs\n",
      "https://www.redtube.com/2553359\n",
      "Mexican patrol Suspect was seen on CCTV\n",
      "https://media1.giphy.com/media/BXorYDutuBZ84/200w.gif\n",
      "Amateur\n",
      "Big Cock\n",
      "Blonde\n",
      "Blowjob\n",
      "Cum Shot\n",
      "HD\n",
      "Teen\n",
      "Verified Amateurs\n",
      "https://www.redtube.com/2553353\n",
      "Hot red head big tits Crazy slut brought in\n",
      "https://media0.giphy.com/media/lnGoIzwfI3ja/200w.gif\n",
      "Amateur\n",
      "Big Cock\n",
      "Blonde\n",
      "Blowjob\n",
      "Cum Shot\n",
      "HD\n",
      "Teen\n",
      "Verified Amateurs\n",
      "https://www.redtube.com/2411894\n",
      "18VR Two Rocky Dicks For Alexis Crystal VR Porn\n",
      "https://media0.giphy.com/media/DhLHlUF8tFJPG/200w.gif\n",
      "Amateur\n",
      "Big Cock\n",
      "Blonde\n",
      "Blowjob\n",
      "Cum Shot\n",
      "HD\n",
      "Teen\n",
      "Verified Amateurs\n",
      "https://www.redtube.com/2194970\n",
      "Spiked heeled tease and suck\n",
      "https://media2.giphy.com/media/3PNJqxf3Gfknm/200w.gif\n",
      "Amateur\n",
      "Big Cock\n",
      "Blonde\n",
      "Blowjob\n",
      "Cum Shot\n",
      "HD\n",
      "Teen\n",
      "Verified Amateurs\n",
      "https://www.redtube.com/2553364\n",
      "Fat man handjob xxx We are the Law my\n",
      "https://media0.giphy.com/media/KnM6RQ9Dl6wNy/200w.gif\n",
      "Amateur\n",
      "Big Cock\n",
      "Blonde\n",
      "Blowjob\n",
      "Cum Shot\n",
      "HD\n",
      "Teen\n",
      "Verified Amateurs\n",
      "https://www.redtube.com/2553360\n",
      "POV Deepthroat Blowjob with my Teen StepSister till Facial\n",
      "https://media2.giphy.com/media/3PNJqxf3Gfknm/200w.gif\n",
      "Amateur\n",
      "Big Cock\n",
      "Blonde\n",
      "Blowjob\n",
      "Cum Shot\n",
      "HD\n",
      "Teen\n",
      "Verified Amateurs\n",
      "https://www.redtube.com/2553358\n",
      "Wife Eva turns into anal slut\n",
      "https://media0.giphy.com/media/t2AesNogfAeXK/200w.gif\n",
      "Amateur\n",
      "Big Cock\n",
      "Blonde\n",
      "Blowjob\n",
      "Cum Shot\n",
      "HD\n",
      "Teen\n",
      "Verified Amateurs\n",
      "https://www.redtube.com/2553357\n",
      "Night fucking doggy\n",
      "https://media1.giphy.com/media/pp3voGwFpfYS4/200w.gif\n",
      "Amateur\n",
      "Big Cock\n",
      "Blonde\n",
      "Blowjob\n",
      "Cum Shot\n",
      "HD\n",
      "Teen\n",
      "Verified Amateurs\n",
      "https://www.redtube.com/2553356\n",
      "Bikini Goddess Bexxy Gives an Awesome Handjob with Huge Cumshot\n",
      "https://media3.giphy.com/media/B08TIKuS9DK4U/200w.gif\n",
      "Amateur\n",
      "Big Cock\n",
      "Blonde\n",
      "Blowjob\n",
      "Cum Shot\n",
      "HD\n",
      "Teen\n",
      "Verified Amateurs\n",
      "https://www.redtube.com/2553355\n",
      "Baby Girl Swallows Daddy's Cum For Breakfast\n",
      "https://media2.giphy.com/media/1gwx36stVpSFi/200w.gif\n",
      "Amateur\n",
      "Big Cock\n",
      "Blonde\n",
      "Blowjob\n",
      "Cum Shot\n",
      "HD\n",
      "Teen\n",
      "Verified Amateurs\n",
      "https://www.redtube.com/2553354\n",
      "Teen Gets Her Pussy &amp; Throat Stretched\n",
      "https://media3.giphy.com/media/8NSNUBsKux8u4/200w.gif\n",
      "Amateur\n",
      "Big Cock\n",
      "Blonde\n",
      "Blowjob\n",
      "Cum Shot\n",
      "HD\n",
      "Teen\n",
      "Verified Amateurs\n",
      "https://www.redtube.com/2553352\n",
      "Thick Pawg wife gets massive Facial\n",
      "https://media2.giphy.com/media/ftWOFe1fwGPK0/200w.gif\n",
      "Amateur\n",
      "Big Cock\n",
      "Blonde\n",
      "Blowjob\n",
      "Cum Shot\n",
      "HD\n",
      "Teen\n",
      "Verified Amateurs\n",
      "https://www.redtube.com/2553351\n",
      "Fucking my tight ass\n",
      "https://media1.giphy.com/media/2ClUBE8YazoeQ/200w.gif\n",
      "Amateur\n",
      "Big Cock\n",
      "Blonde\n",
      "Blowjob\n",
      "Cum Shot\n",
      "HD\n",
      "Teen\n",
      "Verified Amateurs\n",
      "https://www.redtube.com/2553350\n",
      "Sperm Diet Episode 1 - First Time Oral Creampie And Swallow\n",
      "https://media3.giphy.com/media/11txuXecP6oQJa/200w.gif\n",
      "Amateur\n",
      "Big Cock\n",
      "Blonde\n",
      "Blowjob\n",
      "Cum Shot\n",
      "HD\n",
      "Teen\n",
      "Verified Amateurs\n",
      "https://www.redtube.com/2553349\n",
      "College teen outdoor multiple orgasm - Made in Canarias\n",
      "https://media2.giphy.com/media/ftWOFe1fwGPK0/200w.gif\n",
      "Amateur\n",
      "Big Cock\n",
      "Blonde\n",
      "Blowjob\n",
      "Cum Shot\n",
      "HD\n",
      "Teen\n",
      "Verified Amateurs\n",
      "https://www.redtube.com/2553348\n",
      "Fucking my GF in her new sexy outfit\n",
      "https://media1.giphy.com/media/OpwqitsZKzRqU/200w.gif\n",
      "Amateur\n",
      "Big Cock\n",
      "Blonde\n",
      "Blowjob\n",
      "Cum Shot\n",
      "HD\n",
      "Teen\n",
      "Verified Amateurs\n",
      "https://www.redtube.com/2553347\n",
      "Bondage Punishment\n",
      "https://media3.giphy.com/media/VNh3XsWCN5Dfq/200w.gif\n",
      "Amateur\n",
      "Big Cock\n",
      "Blonde\n",
      "Blowjob\n",
      "Cum Shot\n",
      "HD\n",
      "Teen\n",
      "Verified Amateurs\n",
      "https://www.redtube.com/2553346\n",
      "Caught my Sister's Husband Smelling my Panties and Fuck him\n",
      "https://media1.giphy.com/media/2ClUBE8YazoeQ/200w.gif\n",
      "Amateur\n",
      "Big Cock\n",
      "Blonde\n",
      "Blowjob\n",
      "Cum Shot\n",
      "HD\n",
      "Teen\n",
      "Verified Amateurs\n",
      "https://www.redtube.com/2553345\n",
      "Insta Girl gets Fucked Hard - Amateur Couple LeoLulu\n",
      "https://media3.giphy.com/media/yR4ttMO5adaw/200w.gif\n",
      "Amateur\n",
      "Big Cock\n",
      "Blonde\n",
      "Blowjob\n",
      "Cum Shot\n",
      "HD\n",
      "Teen\n",
      "Verified Amateurs\n"
     ]
    }
   ],
   "source": [
    "for napn in range(0, lenvid):\n",
    "    print(daprn[u'videos'][napn]['video']['url'])\n",
    "    print(daprn[u'videos'][napn]['video']['title'])\n",
    "    try:\n",
    "        letae = len(daprn[u'videos'][napn]['video']['tags'])\n",
    "        tagna = (daprn[u'videos'][napn]['video']['tags'])\n",
    "        reqbru = requests.get('http://api.giphy.com/v1/gifs/translate?s={}&api_key=dc6zaTOxFJmzC'.format(tagna))\n",
    "        brujsn = reqbru.json()\n",
    "        print(brujsn['data']['images']['fixed_width']['url'])\n",
    "        gurl = (brujsn['data']['images']['fixed_width']['url'])\n",
    "        gslug = (brujsn['data']['slug'])\n",
    "        #fislg = gslug.repl\n",
    "        \n",
    "        try:\n",
    "            somelis = list()\n",
    "            for dapr in daprn['videos'][lev]['video']['tags']:\n",
    "                print(dapr['tag_name'])\n",
    "                somelis.append(dapr['tag_name'])\n",
    "                porndick.update({daprn['videos'][lev]['video']['video_id'] : {'tags' : \", \".join(str(x) for x in somelis)}})\n",
    " \n",
    "\n",
    "        except KeyError:\n",
    "            continue\n",
    "        \n",
    "        aldic.update({gslug : gurl})\n",
    "        #print(gurl)\n",
    "        '''\n",
    "        with open('/home/pi/redtube/posts/{}.meta'.format(gslug), 'w') as blmet:\n",
    "            blmet.write('.. title: ' + glug + ' \\n' + '.. slug: ' + nameofblogpost + ' \\n' + '.. date: ' + str(nowtime) + ' \\n' +  '.. tags: ' + tagblog + '\\n' + '.. link:\\n.. description:\\n.. type: text')\n",
    "     \n",
    "        response = requests.get(gurl, stream=True)#\n",
    "        response\n",
    "        with open('/home/pi/redtube/galleries/{}.gif'.format(gslug), 'wb') as out_file:\n",
    "            shutil.copyfileobj(response.raw, out_file)\n",
    "            del response\n",
    "            \n",
    "            tan = tagna.replace(' ', '-')\n",
    "            tanq = tan.lower()\n",
    "            print(tanq)\n",
    "            \n",
    "        '''\n",
    "    except KeyError:\n",
    "         continue                                                                                                                                                                                                                                                                                                                  "
   ]
  },
  {
   "cell_type": "code",
   "execution_count": null,
   "metadata": {},
   "outputs": [],
   "source": [
    "with open('/home/{}/prn.pickle'.format(myusr), 'wb') as handle:\n",
    "    pickle.dump(porndick, handle, protocol=pickle.HIGHEST_PROTOCOL)"
   ]
  },
  {
   "cell_type": "code",
   "execution_count": 41,
   "metadata": {},
   "outputs": [],
   "source": [
    "with open('/home/{}/prn3.pickle'.format(myusr), 'wb') as handle:\n",
    "    pickle.dump(aldic, handle, protocol=pickle.HIGHEST_PROTOCOL)"
   ]
  },
  {
   "cell_type": "code",
   "execution_count": 44,
   "metadata": {},
   "outputs": [],
   "source": [
    "#db.save(aldic)\n",
    "\n"
   ]
  }
 ],
 "metadata": {
  "kernelspec": {
   "display_name": "Python 3",
   "language": "python",
   "name": "python3"
  },
  "language_info": {
   "codemirror_mode": {
    "name": "ipython",
    "version": 3
   },
   "file_extension": ".py",
   "mimetype": "text/x-python",
   "name": "python",
   "nbconvert_exporter": "python",
   "pygments_lexer": "ipython3",
   "version": "3.4.2"
  }
 },
 "nbformat": 4,
 "nbformat_minor": 1
}
