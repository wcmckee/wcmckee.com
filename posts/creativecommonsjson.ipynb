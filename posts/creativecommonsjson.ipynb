{
 "cells": [
  {
   "cell_type": "markdown",
   "metadata": {},
   "source": [
    "Creative Commons JSON\n",
    "\n",
    "Returns json instead of xml from creative commons api.\n",
    "\n",
    "flask api that returns cc license depending on what licence is requested.\n",
    "\n",
    "add svg/eps along with current png. \n",
    "\n",
    "88x31 image currently - add 88x15 images. \n",
    "\n",
    "add public domain/cc zero to the api"
   ]
  },
  {
   "cell_type": "code",
   "execution_count": 2,
   "metadata": {
    "collapsed": false
   },
   "outputs": [],
   "source": [
    "import requests\n",
    "import json\n",
    "import xmltodict\n",
    "from flask import Flask\n",
    "from flask_restful import Resource, Api"
   ]
  },
  {
   "cell_type": "code",
   "execution_count": 113,
   "metadata": {
    "collapsed": false
   },
   "outputs": [
    {
     "ename": "OSError",
     "evalue": "[Errno 98] Address already in use",
     "output_type": "error",
     "traceback": [
      "\u001b[0;31m---------------------------------------------------------------------------\u001b[0m",
      "\u001b[0;31mOSError\u001b[0m                                   Traceback (most recent call last)",
      "\u001b[0;32m<ipython-input-113-222dde2a7eb2>\u001b[0m in \u001b[0;36m<module>\u001b[0;34m()\u001b[0m\n\u001b[1;32m     12\u001b[0m \u001b[0;34m\u001b[0m\u001b[0m\n\u001b[1;32m     13\u001b[0m \u001b[0;32mif\u001b[0m \u001b[0m__name__\u001b[0m \u001b[0;34m==\u001b[0m \u001b[0;34m'__main__'\u001b[0m\u001b[0;34m:\u001b[0m\u001b[0;34m\u001b[0m\u001b[0m\n\u001b[0;32m---> 14\u001b[0;31m     \u001b[0mapp\u001b[0m\u001b[0;34m.\u001b[0m\u001b[0mrun\u001b[0m\u001b[0;34m(\u001b[0m\u001b[0mhost\u001b[0m \u001b[0;34m=\u001b[0m \u001b[0;34m'0.0.0.0'\u001b[0m\u001b[0;34m)\u001b[0m\u001b[0;34m\u001b[0m\u001b[0m\n\u001b[0m",
      "\u001b[0;32m/usr/local/lib/python3.4/dist-packages/flask/app.py\u001b[0m in \u001b[0;36mrun\u001b[0;34m(self, host, port, debug, **options)\u001b[0m\n\u001b[1;32m    841\u001b[0m         \u001b[0moptions\u001b[0m\u001b[0;34m.\u001b[0m\u001b[0msetdefault\u001b[0m\u001b[0;34m(\u001b[0m\u001b[0;34m'passthrough_errors'\u001b[0m\u001b[0;34m,\u001b[0m \u001b[0;32mTrue\u001b[0m\u001b[0;34m)\u001b[0m\u001b[0;34m\u001b[0m\u001b[0m\n\u001b[1;32m    842\u001b[0m         \u001b[0;32mtry\u001b[0m\u001b[0;34m:\u001b[0m\u001b[0;34m\u001b[0m\u001b[0m\n\u001b[0;32m--> 843\u001b[0;31m             \u001b[0mrun_simple\u001b[0m\u001b[0;34m(\u001b[0m\u001b[0mhost\u001b[0m\u001b[0;34m,\u001b[0m \u001b[0mport\u001b[0m\u001b[0;34m,\u001b[0m \u001b[0mself\u001b[0m\u001b[0;34m,\u001b[0m \u001b[0;34m**\u001b[0m\u001b[0moptions\u001b[0m\u001b[0;34m)\u001b[0m\u001b[0;34m\u001b[0m\u001b[0m\n\u001b[0m\u001b[1;32m    844\u001b[0m         \u001b[0;32mfinally\u001b[0m\u001b[0;34m:\u001b[0m\u001b[0;34m\u001b[0m\u001b[0m\n\u001b[1;32m    845\u001b[0m             \u001b[0;31m# reset the first request information if the development server\u001b[0m\u001b[0;34m\u001b[0m\u001b[0;34m\u001b[0m\u001b[0m\n",
      "\u001b[0;32m/usr/local/lib/python3.4/dist-packages/werkzeug/serving.py\u001b[0m in \u001b[0;36mrun_simple\u001b[0;34m(hostname, port, application, use_reloader, use_debugger, use_evalex, extra_files, reloader_interval, reloader_type, threaded, processes, request_handler, static_files, passthrough_errors, ssl_context)\u001b[0m\n\u001b[1;32m    692\u001b[0m                           reloader_type)\n\u001b[1;32m    693\u001b[0m     \u001b[0;32melse\u001b[0m\u001b[0;34m:\u001b[0m\u001b[0;34m\u001b[0m\u001b[0m\n\u001b[0;32m--> 694\u001b[0;31m         \u001b[0minner\u001b[0m\u001b[0;34m(\u001b[0m\u001b[0;34m)\u001b[0m\u001b[0;34m\u001b[0m\u001b[0m\n\u001b[0m\u001b[1;32m    695\u001b[0m \u001b[0;34m\u001b[0m\u001b[0m\n\u001b[1;32m    696\u001b[0m \u001b[0;34m\u001b[0m\u001b[0m\n",
      "\u001b[0;32m/usr/local/lib/python3.4/dist-packages/werkzeug/serving.py\u001b[0m in \u001b[0;36minner\u001b[0;34m()\u001b[0m\n\u001b[1;32m    654\u001b[0m                           \u001b[0mprocesses\u001b[0m\u001b[0;34m,\u001b[0m \u001b[0mrequest_handler\u001b[0m\u001b[0;34m,\u001b[0m\u001b[0;34m\u001b[0m\u001b[0m\n\u001b[1;32m    655\u001b[0m                           \u001b[0mpassthrough_errors\u001b[0m\u001b[0;34m,\u001b[0m \u001b[0mssl_context\u001b[0m\u001b[0;34m,\u001b[0m\u001b[0;34m\u001b[0m\u001b[0m\n\u001b[0;32m--> 656\u001b[0;31m                           fd=fd)\n\u001b[0m\u001b[1;32m    657\u001b[0m         \u001b[0;32mif\u001b[0m \u001b[0mfd\u001b[0m \u001b[0;32mis\u001b[0m \u001b[0;32mNone\u001b[0m\u001b[0;34m:\u001b[0m\u001b[0;34m\u001b[0m\u001b[0m\n\u001b[1;32m    658\u001b[0m             \u001b[0mlog_startup\u001b[0m\u001b[0;34m(\u001b[0m\u001b[0msrv\u001b[0m\u001b[0;34m.\u001b[0m\u001b[0msocket\u001b[0m\u001b[0;34m)\u001b[0m\u001b[0;34m\u001b[0m\u001b[0m\n",
      "\u001b[0;32m/usr/local/lib/python3.4/dist-packages/werkzeug/serving.py\u001b[0m in \u001b[0;36mmake_server\u001b[0;34m(host, port, app, threaded, processes, request_handler, passthrough_errors, ssl_context, fd)\u001b[0m\n\u001b[1;32m    548\u001b[0m     \u001b[0;32melse\u001b[0m\u001b[0;34m:\u001b[0m\u001b[0;34m\u001b[0m\u001b[0m\n\u001b[1;32m    549\u001b[0m         return BaseWSGIServer(host, port, app, request_handler,\n\u001b[0;32m--> 550\u001b[0;31m                               passthrough_errors, ssl_context, fd=fd)\n\u001b[0m\u001b[1;32m    551\u001b[0m \u001b[0;34m\u001b[0m\u001b[0m\n\u001b[1;32m    552\u001b[0m \u001b[0;34m\u001b[0m\u001b[0m\n",
      "\u001b[0;32m/usr/local/lib/python3.4/dist-packages/werkzeug/serving.py\u001b[0m in \u001b[0;36m__init__\u001b[0;34m(self, host, port, app, handler, passthrough_errors, ssl_context, fd)\u001b[0m\n\u001b[1;32m    462\u001b[0m                                       socket.SOCK_STREAM)\n\u001b[1;32m    463\u001b[0m             \u001b[0mport\u001b[0m \u001b[0;34m=\u001b[0m \u001b[0;36m0\u001b[0m\u001b[0;34m\u001b[0m\u001b[0m\n\u001b[0;32m--> 464\u001b[0;31m         \u001b[0mHTTPServer\u001b[0m\u001b[0;34m.\u001b[0m\u001b[0m__init__\u001b[0m\u001b[0;34m(\u001b[0m\u001b[0mself\u001b[0m\u001b[0;34m,\u001b[0m \u001b[0;34m(\u001b[0m\u001b[0mhost\u001b[0m\u001b[0;34m,\u001b[0m \u001b[0mint\u001b[0m\u001b[0;34m(\u001b[0m\u001b[0mport\u001b[0m\u001b[0;34m)\u001b[0m\u001b[0;34m)\u001b[0m\u001b[0;34m,\u001b[0m \u001b[0mhandler\u001b[0m\u001b[0;34m)\u001b[0m\u001b[0;34m\u001b[0m\u001b[0m\n\u001b[0m\u001b[1;32m    465\u001b[0m         \u001b[0mself\u001b[0m\u001b[0;34m.\u001b[0m\u001b[0mapp\u001b[0m \u001b[0;34m=\u001b[0m \u001b[0mapp\u001b[0m\u001b[0;34m\u001b[0m\u001b[0m\n\u001b[1;32m    466\u001b[0m         \u001b[0mself\u001b[0m\u001b[0;34m.\u001b[0m\u001b[0mpassthrough_errors\u001b[0m \u001b[0;34m=\u001b[0m \u001b[0mpassthrough_errors\u001b[0m\u001b[0;34m\u001b[0m\u001b[0m\n",
      "\u001b[0;32m/usr/lib/python3.4/socketserver.py\u001b[0m in \u001b[0;36m__init__\u001b[0;34m(self, server_address, RequestHandlerClass, bind_and_activate)\u001b[0m\n\u001b[1;32m    427\u001b[0m                                     self.socket_type)\n\u001b[1;32m    428\u001b[0m         \u001b[0;32mif\u001b[0m \u001b[0mbind_and_activate\u001b[0m\u001b[0;34m:\u001b[0m\u001b[0;34m\u001b[0m\u001b[0m\n\u001b[0;32m--> 429\u001b[0;31m             \u001b[0mself\u001b[0m\u001b[0;34m.\u001b[0m\u001b[0mserver_bind\u001b[0m\u001b[0;34m(\u001b[0m\u001b[0;34m)\u001b[0m\u001b[0;34m\u001b[0m\u001b[0m\n\u001b[0m\u001b[1;32m    430\u001b[0m             \u001b[0mself\u001b[0m\u001b[0;34m.\u001b[0m\u001b[0mserver_activate\u001b[0m\u001b[0;34m(\u001b[0m\u001b[0;34m)\u001b[0m\u001b[0;34m\u001b[0m\u001b[0m\n\u001b[1;32m    431\u001b[0m \u001b[0;34m\u001b[0m\u001b[0m\n",
      "\u001b[0;32m/usr/lib/python3.4/http/server.py\u001b[0m in \u001b[0;36mserver_bind\u001b[0;34m(self)\u001b[0m\n\u001b[1;32m    131\u001b[0m     \u001b[0;32mdef\u001b[0m \u001b[0mserver_bind\u001b[0m\u001b[0;34m(\u001b[0m\u001b[0mself\u001b[0m\u001b[0;34m)\u001b[0m\u001b[0;34m:\u001b[0m\u001b[0;34m\u001b[0m\u001b[0m\n\u001b[1;32m    132\u001b[0m         \u001b[0;34m\"\"\"Override server_bind to store the server name.\"\"\"\u001b[0m\u001b[0;34m\u001b[0m\u001b[0m\n\u001b[0;32m--> 133\u001b[0;31m         \u001b[0msocketserver\u001b[0m\u001b[0;34m.\u001b[0m\u001b[0mTCPServer\u001b[0m\u001b[0;34m.\u001b[0m\u001b[0mserver_bind\u001b[0m\u001b[0;34m(\u001b[0m\u001b[0mself\u001b[0m\u001b[0;34m)\u001b[0m\u001b[0;34m\u001b[0m\u001b[0m\n\u001b[0m\u001b[1;32m    134\u001b[0m         \u001b[0mhost\u001b[0m\u001b[0;34m,\u001b[0m \u001b[0mport\u001b[0m \u001b[0;34m=\u001b[0m \u001b[0mself\u001b[0m\u001b[0;34m.\u001b[0m\u001b[0msocket\u001b[0m\u001b[0;34m.\u001b[0m\u001b[0mgetsockname\u001b[0m\u001b[0;34m(\u001b[0m\u001b[0;34m)\u001b[0m\u001b[0;34m[\u001b[0m\u001b[0;34m:\u001b[0m\u001b[0;36m2\u001b[0m\u001b[0;34m]\u001b[0m\u001b[0;34m\u001b[0m\u001b[0m\n\u001b[1;32m    135\u001b[0m         \u001b[0mself\u001b[0m\u001b[0;34m.\u001b[0m\u001b[0mserver_name\u001b[0m \u001b[0;34m=\u001b[0m \u001b[0msocket\u001b[0m\u001b[0;34m.\u001b[0m\u001b[0mgetfqdn\u001b[0m\u001b[0;34m(\u001b[0m\u001b[0mhost\u001b[0m\u001b[0;34m)\u001b[0m\u001b[0;34m\u001b[0m\u001b[0m\n",
      "\u001b[0;32m/usr/lib/python3.4/socketserver.py\u001b[0m in \u001b[0;36mserver_bind\u001b[0;34m(self)\u001b[0m\n\u001b[1;32m    438\u001b[0m         \u001b[0;32mif\u001b[0m \u001b[0mself\u001b[0m\u001b[0;34m.\u001b[0m\u001b[0mallow_reuse_address\u001b[0m\u001b[0;34m:\u001b[0m\u001b[0;34m\u001b[0m\u001b[0m\n\u001b[1;32m    439\u001b[0m             \u001b[0mself\u001b[0m\u001b[0;34m.\u001b[0m\u001b[0msocket\u001b[0m\u001b[0;34m.\u001b[0m\u001b[0msetsockopt\u001b[0m\u001b[0;34m(\u001b[0m\u001b[0msocket\u001b[0m\u001b[0;34m.\u001b[0m\u001b[0mSOL_SOCKET\u001b[0m\u001b[0;34m,\u001b[0m \u001b[0msocket\u001b[0m\u001b[0;34m.\u001b[0m\u001b[0mSO_REUSEADDR\u001b[0m\u001b[0;34m,\u001b[0m \u001b[0;36m1\u001b[0m\u001b[0;34m)\u001b[0m\u001b[0;34m\u001b[0m\u001b[0m\n\u001b[0;32m--> 440\u001b[0;31m         \u001b[0mself\u001b[0m\u001b[0;34m.\u001b[0m\u001b[0msocket\u001b[0m\u001b[0;34m.\u001b[0m\u001b[0mbind\u001b[0m\u001b[0;34m(\u001b[0m\u001b[0mself\u001b[0m\u001b[0;34m.\u001b[0m\u001b[0mserver_address\u001b[0m\u001b[0;34m)\u001b[0m\u001b[0;34m\u001b[0m\u001b[0m\n\u001b[0m\u001b[1;32m    441\u001b[0m         \u001b[0mself\u001b[0m\u001b[0;34m.\u001b[0m\u001b[0mserver_address\u001b[0m \u001b[0;34m=\u001b[0m \u001b[0mself\u001b[0m\u001b[0;34m.\u001b[0m\u001b[0msocket\u001b[0m\u001b[0;34m.\u001b[0m\u001b[0mgetsockname\u001b[0m\u001b[0;34m(\u001b[0m\u001b[0;34m)\u001b[0m\u001b[0;34m\u001b[0m\u001b[0m\n\u001b[1;32m    442\u001b[0m \u001b[0;34m\u001b[0m\u001b[0m\n",
      "\u001b[0;31mOSError\u001b[0m: [Errno 98] Address already in use"
     ]
    }
   ],
   "source": [
    "app = Flask(__name__)\n",
    "api = Api(app)\n",
    "\n",
    "#CCBY CCBYNCSA CCBYSA CCBYND CCBYNCND CCBYND CCZERO CCPUBDOMAIN\n",
    "\n",
    "class ccby(Resource):\n",
    "    def get(self):\n",
    "        ccdev = requests.get('http://api.creativecommons.org/rest/dev/license/standard/get?commercial=y&derivatives=y')\n",
    "        xmpar = xmltodict.parse(ccdev.text)\n",
    "        ccabtlic = xmpar['result']['rdf']['rdf:RDF']['License']['@rdf:about']\n",
    "        cchtmtxt = xmpar['result']['html']['a'][1]['#text']\n",
    "        ccimglic = xmpar['result']['html']['a'][0]['img']['@src']\n",
    "        licdic = dict({'url' : ccabtlic, 'text' : cchtmtxt, 'img' :\n",
    "        dict({'fullbutton' : dict({'png' : ccimglic, 'svg' : 'http://mirrors.creativecommons.org/presskit/buttons/88x31/svg/by.svg'}),\n",
    "             'halfbutton' : dict({'png' : 'http://mirrors.creativecommons.org/presskit/buttons/80x15/png/by.png',\n",
    "                                 'svg' : 'http://mirrors.creativecommons.org/presskit/buttons/80x15/svg/by.svg'})})}) \n",
    "        return licdic\n",
    "    \n",
    "class ccbync(Resource):\n",
    "    def get(self):\n",
    "        ccdev = requests.get('http://api.creativecommons.org/rest/dev/license/standard/get?commercial=n&derivatives=y')\n",
    "        xmpar = xmltodict.parse(ccdev.text)\n",
    "        ccabtlic = xmpar['result']['rdf']['rdf:RDF']['License']['@rdf:about']\n",
    "        cchtmtxt = xmpar['result']['html']['a'][1]['#text']\n",
    "        ccimglic = xmpar['result']['html']['a'][0]['img']['@src']\n",
    "        licdic = dict({'url' : ccabtlic, 'text' : cchtmtxt, 'img' :\n",
    "        dict({'fullbutton' : dict({'png' : ccimglic, 'svg' : 'http://mirrors.creativecommons.org/presskit/buttons/88x31/svg/by-nc.svg'}),\n",
    "             'halfbutton' : dict({'png' : 'http://mirrors.creativecommons.org/presskit/buttons/80x15/png/by-nc.png',\n",
    "                                 'svg' : 'http://mirrors.creativecommons.org/presskit/buttons/80x15/svg/by-nc.svg'})})}) \n",
    "        return licdic\n",
    "    \n",
    "class ccbyncsa(Resource):\n",
    "    def get(self):\n",
    "        ccdev = requests.get('http://api.creativecommons.org/rest/dev/details?license-uri=http://creativecommons.org/licenses/by-nc-sa/4.0/')\n",
    "        xmpar = xmltodict.parse(ccdev.text)\n",
    "        ccabtlic = xmpar['result']['rdf']['rdf:RDF']['License']['@rdf:about']\n",
    "        cchtmtxt = xmpar['result']['html']['a'][1]['#text']\n",
    "        ccimglic = xmpar['result']['html']['a'][0]['img']['@src']\n",
    "        licdic = dict({'url' : ccabtlic, 'text' : cchtmtxt, 'img' :\n",
    "        dict({'fullbutton' : dict({'png' : ccimglic, 'svg' : 'http://mirrors.creativecommons.org/presskit/buttons/88x31/svg/by-nc-sa.svg'}),\n",
    "             'halfbutton' : dict({'png' : 'http://mirrors.creativecommons.org/presskit/buttons/80x15/png/by-nc-sa.png',\n",
    "                                 'svg' : 'http://mirrors.creativecommons.org/presskit/buttons/80x15/svg/by-nc-sa.svg'})})}) \n",
    "        return licdic\n",
    "\n",
    "class ccbysa(Resource):\n",
    "    def get(self):\n",
    "        ccdev = requests.get('http://api.creativecommons.org/rest/dev/details?license-uri=http://creativecommons.org/licenses/by-sa/4.0/')\n",
    "        xmpar = xmltodict.parse(ccdev.text)\n",
    "        ccabtlic = xmpar['result']['rdf']['rdf:RDF']['License']['@rdf:about']\n",
    "        cchtmtxt = xmpar['result']['html']['a'][1]['#text']\n",
    "        ccimglic = xmpar['result']['html']['a'][0]['img']['@src']\n",
    "        licdic = dict({'url' : ccabtlic, 'text' : cchtmtxt, 'img' : dict({'png' : ccimglic, 'svg' : 'http://mirrors.creativecommons.org/presskit/buttons/88x31/svg/by-sa.svg'})})\n",
    "        return licdic\n",
    "        \n",
    "class ccbync(Resource):\n",
    "    def get(self):\n",
    "        ccdev = requests.get('http://api.creativecommons.org/rest/dev/license/standard/get?commercial=n&derivatives=y')\n",
    "        xmpar = xmltodict.parse(ccdev.text)\n",
    "        ccabtlic = xmpar['result']['rdf']['rdf:RDF']['License']['@rdf:about']\n",
    "        cchtmtxt = xmpar['result']['html']['a'][1]['#text']\n",
    "        ccimglic = xmpar['result']['html']['a'][0]['img']['@src']\n",
    "        licdic = dict({'url' : ccabtlic, 'text' : cchtmtxt, 'img' :\n",
    "        dict({'fullbutton' : dict({'png' : ccimglic, 'svg' : 'http://mirrors.creativecommons.org/presskit/buttons/88x31/svg/by-nc.svg'}),\n",
    "             'halfbutton' : dict({'png' : 'http://mirrors.creativecommons.org/presskit/buttons/80x15/png/by-nc.png',\n",
    "                                 'svg' : 'http://mirrors.creativecommons.org/presskit/buttons/80x15/svg/by-nc.svg'})})}) \n",
    "        return(licdic)\n",
    "\n",
    "    \n",
    "class ccbyncnd(Resource):\n",
    "    def get(self):\n",
    "        ccdev = requests.get('http://api.creativecommons.org/rest/dev/license/standard/get?commercial=n&derivatives=n')\n",
    "        xmpar = xmltodict.parse(ccdev.text)\n",
    "        ccabtlic = xmpar['result']['rdf']['rdf:RDF']['License']['@rdf:about']\n",
    "        cchtmtxt = xmpar['result']['html']['a'][1]['#text']\n",
    "        ccimglic = xmpar['result']['html']['a'][0]['img']['@src']\n",
    "        licdic = dict({'url' : ccabtlic, 'text' : cchtmtxt, 'img' :\n",
    "        dict({'fullbutton' : dict({'png' : ccimglic, 'svg' : 'http://mirrors.creativecommons.org/presskit/buttons/88x31/svg/by-nc-nd.svg'}),\n",
    "             'halfbutton' : dict({'png' : 'http://mirrors.creativecommons.org/presskit/buttons/80x15/png/by-nc-nd.png',\n",
    "                                 'svg' : 'http://mirrors.creativecommons.org/presskit/buttons/80x15/svg/by-nc-nd.svg'})})}) \n",
    "        return licdic\n",
    "    \n",
    "class ccbynd(Resource):\n",
    "    def get(self):\n",
    "        ccdev = requests.get('http://api.creativecommons.org/rest/dev/license/standard/get?commercial=y&derivatives=n')\n",
    "        xmpar = xmltodict.parse(ccdev.text)\n",
    "        ccabtlic = xmpar['result']['rdf']['rdf:RDF']['License']['@rdf:about']\n",
    "        cchtmtxt = xmpar['result']['html']['a'][1]['#text']\n",
    "        ccimglic = xmpar['result']['html']['a'][0]['img']['@src']\n",
    "        licdic = dict({'url' : ccabtlic, 'text' : cchtmtxt, 'img' :\n",
    "        dict({'fullbutton' : dict({'png' : ccimglic, 'svg' : 'http://mirrors.creativecommons.org/presskit/buttons/88x31/svg/nd.svg'}),\n",
    "             'halfbutton' : dict({'png' : 'http://mirrors.creativecommons.org/presskit/buttons/80x15/png/by-nd.png',\n",
    "                                 'svg' : 'http://mirrors.creativecommons.org/presskit/buttons/80x15/svg/by-nd.svg'})})}) \n",
    "        return licdic\n",
    "    \n",
    "class cczero(Resource):\n",
    "    def get(self):\n",
    "        ccdev = requests.get('http://api.creativecommons.org/rest/dev/details?license-uri=http://creativecommons.org/publicdomain/zero/1.0/')\n",
    "        xmpar = xmltodict.parse(ccdev.text)\n",
    "        ccabtlic = xmpar['result']['rdf']['rdf:RDF']['License']['@rdf:about']\n",
    "        cchtmtxt = xmpar['result']['license-name']\n",
    "        ccimglic = xmpar['result']['html']['p']['a']['img']['@src']\n",
    "        licdic = dict({'url' : ccabtlic, 'text' : cchtmtxt, 'img' :\n",
    "        dict({'fullbutton' : dict({'png' : ccimglic, 'svg' : 'http://mirrors.creativecommons.org/presskit/buttons/88x31/svg/cc-zero.svg'}),\n",
    "             'halfbutton' : dict({'png' : 'http://mirrors.creativecommons.org/presskit/buttons/80x15/png/cc-zero.png',\n",
    "                                 'svg' : 'http://mirrors.creativecommons.org/presskit/buttons/80x15/svg/cc-zero.svg'})})}) \n",
    "        return licdic\n",
    "\n",
    "class ccpubdom(Resource):\n",
    "    def get(self):\n",
    "        ccdev = requests.get('http://api.creativecommons.org/rest/dev/details?license-uri=http://creativecommons.org/publicdomain/mark/1.0/')\n",
    "        xmpar = xmltodict.parse(ccdev.text)\n",
    "        ccabtlic = xmpar['result']['rdf']['rdf:RDF']['License']['@rdf:about']\n",
    "        cchtmtxt = xmpar['result']['license-name']\n",
    "        ccimglic = xmpar['result']['html']['p']['a']['img']['@src']\n",
    "        licdic = dict({'url' : ccabtlic, 'text' : cchtmtxt, 'img' :\n",
    "        dict({'fullbutton' : dict({'png' : ccimglic, 'svg' : 'http://mirrors.creativecommons.org/presskit/buttons/88x31/svg/cc-publicdomain.svg'}),\n",
    "             'halfbutton' : dict({'png' : 'http://mirrors.creativecommons.org/presskit/buttons/80x15/png/cc-publicdomain.png',\n",
    "                                 'svg' : 'http://mirrors.creativecommons.org/presskit/buttons/80x15/svg/cc-publicdomain.svg'})})}) \n",
    "        \n",
    "        return licdic\n",
    "    \n",
    "api.add_resource(ccby, '/by')\n",
    "\n",
    "api.add_resource(ccbync, '/bync')\n",
    "\n",
    "api.add_resource(ccbynd, '/bynd')\n",
    "\n",
    "api.add_resource(ccbyncnd, '/byncnd')\n",
    "\n",
    "api.add_resource(ccbysa, '/bysa')\n",
    "                 \n",
    "api.add_resource(ccbyncsa, '/byncsa')\n",
    "\n",
    "api.add_resource(cczero, '/zero')\n",
    "\n",
    "api.add_resource(ccpubdom, '/publicdomain')\n",
    "\n",
    "if __name__ == '__main__':\n",
    "    app.run(host = '0.0.0.0')\n"
   ]
  },
  {
   "cell_type": "code",
   "execution_count": 3,
   "metadata": {
    "collapsed": true
   },
   "outputs": [],
   "source": [
    "#licstand = requests.get('http://api.creativecommons.org/rest/1.5/license/standard')"
   ]
  },
  {
   "cell_type": "code",
   "execution_count": 7,
   "metadata": {
    "collapsed": false
   },
   "outputs": [],
   "source": [
    "#dictlic = xmltodict.parse(licstand.text)"
   ]
  },
  {
   "cell_type": "code",
   "execution_count": 21,
   "metadata": {
    "collapsed": false
   },
   "outputs": [],
   "source": [
    "#lenfield = len(dictlic['licenseclass']['field'])"
   ]
  },
  {
   "cell_type": "code",
   "execution_count": 36,
   "metadata": {
    "collapsed": false
   },
   "outputs": [
    {
     "name": "stdout",
     "output_type": "stream",
     "text": [
      "OrderedDict([('@xml:lang', 'en'), ('#text', 'Allow commercial uses of your work?')])\n",
      "OrderedDict([('@xml:lang', 'en'), ('#text', 'Allow modifications of your work?')])\n",
      "OrderedDict([('@xml:lang', 'en'), ('#text', 'Jurisdiction of your license')])\n"
     ]
    }
   ],
   "source": [
    "#for lenf in range(0, lenfield):\n",
    "#    print(dictlic['licenseclass']['field'][lenf]['label'])\n",
    "    \n",
    "    #print(dictlic['licenseclass']['field'][lenf]['@id'])\n",
    "    \n",
    "    #print(dictlic['licenseclass']['field'][lenf])\n",
    "    \n",
    "    #print(dictlic['licenseclass']['field'][lenf]['description'])"
   ]
  },
  {
   "cell_type": "code",
   "execution_count": null,
   "metadata": {
    "collapsed": true
   },
   "outputs": [],
   "source": [
    "#ShareAlike"
   ]
  },
  {
   "cell_type": "code",
   "execution_count": 134,
   "metadata": {
    "collapsed": false
   },
   "outputs": [],
   "source": [
    "#ccdev = requests.get('http://api.creativecommons.org/rest/dev/license/standard/get?commercial=n&derivatives=y')"
   ]
  },
  {
   "cell_type": "code",
   "execution_count": 135,
   "metadata": {
    "collapsed": false
   },
   "outputs": [],
   "source": [
    "#xmpar = xmltodict.parse(ccdev.text)"
   ]
  },
  {
   "cell_type": "code",
   "execution_count": 136,
   "metadata": {
    "collapsed": false
   },
   "outputs": [
    {
     "data": {
      "text/plain": [
       "OrderedDict([('@xmlns', 'http://creativecommons.org/ns#'),\n",
       "             ('@xmlns:rdf', 'http://www.w3.org/1999/02/22-rdf-syntax-ns#'),\n",
       "             ('Work',\n",
       "              OrderedDict([('@xmlns:dc', 'http://purl.org/dc/elements/1.1/'),\n",
       "                           ('@rdf:about', ''),\n",
       "                           ('license',\n",
       "                            OrderedDict([('@rdf:resource',\n",
       "                                          'http://creativecommons.org/licenses/by-nc/4.0/')]))])),\n",
       "             ('License',\n",
       "              OrderedDict([('@rdf:about',\n",
       "                            'http://creativecommons.org/licenses/by-nc/4.0/'),\n",
       "                           ('permits',\n",
       "                            [OrderedDict([('@rdf:resource',\n",
       "                                           'http://creativecommons.org/ns#DerivativeWorks')]),\n",
       "                             OrderedDict([('@rdf:resource',\n",
       "                                           'http://creativecommons.org/ns#Distribution')]),\n",
       "                             OrderedDict([('@rdf:resource',\n",
       "                                           'http://creativecommons.org/ns#Reproduction')])]),\n",
       "                           ('requires',\n",
       "                            [OrderedDict([('@rdf:resource',\n",
       "                                           'http://creativecommons.org/ns#Attribution')]),\n",
       "                             OrderedDict([('@rdf:resource',\n",
       "                                           'http://creativecommons.org/ns#Notice')])])]))])"
      ]
     },
     "execution_count": 136,
     "metadata": {},
     "output_type": "execute_result"
    }
   ],
   "source": [
    "#xmpar['result']['rdf']['rdf:RDF']"
   ]
  },
  {
   "cell_type": "code",
   "execution_count": 128,
   "metadata": {
    "collapsed": false
   },
   "outputs": [
    {
     "data": {
      "text/plain": [
       "'http://creativecommons.org/ns#'"
      ]
     },
     "execution_count": 128,
     "metadata": {},
     "output_type": "execute_result"
    }
   ],
   "source": [
    "#xmpar['result']['rdf']['rdf:RDF']['@xmlns']"
   ]
  },
  {
   "cell_type": "code",
   "execution_count": 129,
   "metadata": {
    "collapsed": false
   },
   "outputs": [
    {
     "data": {
      "text/plain": [
       "OrderedDict([('@xmlns:dc', 'http://purl.org/dc/elements/1.1/'),\n",
       "             ('@rdf:about', ''),\n",
       "             ('license',\n",
       "              OrderedDict([('@rdf:resource',\n",
       "                            'http://creativecommons.org/licenses/by/4.0/')]))])"
      ]
     },
     "execution_count": 129,
     "metadata": {},
     "output_type": "execute_result"
    }
   ],
   "source": [
    "#xmpar['result']['rdf']['rdf:RDF']['Work']"
   ]
  },
  {
   "cell_type": "code",
   "execution_count": 130,
   "metadata": {
    "collapsed": false
   },
   "outputs": [
    {
     "data": {
      "text/plain": [
       "OrderedDict([('@rdf:about', 'http://creativecommons.org/licenses/by/4.0/'),\n",
       "             ('permits',\n",
       "              [OrderedDict([('@rdf:resource',\n",
       "                             'http://creativecommons.org/ns#DerivativeWorks')]),\n",
       "               OrderedDict([('@rdf:resource',\n",
       "                             'http://creativecommons.org/ns#Distribution')]),\n",
       "               OrderedDict([('@rdf:resource',\n",
       "                             'http://creativecommons.org/ns#Reproduction')])]),\n",
       "             ('requires',\n",
       "              [OrderedDict([('@rdf:resource',\n",
       "                             'http://creativecommons.org/ns#Attribution')]),\n",
       "               OrderedDict([('@rdf:resource',\n",
       "                             'http://creativecommons.org/ns#Notice')])])])"
      ]
     },
     "execution_count": 130,
     "metadata": {},
     "output_type": "execute_result"
    }
   ],
   "source": [
    "#xmpar['result']['rdf']['rdf:RDF']['License']"
   ]
  },
  {
   "cell_type": "code",
   "execution_count": 120,
   "metadata": {
    "collapsed": false
   },
   "outputs": [],
   "source": [
    "#ccabtlic = xmpar['result']['rdf']['rdf:RDF']['License']['@rdf:about']"
   ]
  },
  {
   "cell_type": "code",
   "execution_count": 121,
   "metadata": {
    "collapsed": false
   },
   "outputs": [
    {
     "data": {
      "text/plain": [
       "'http://creativecommons.org/licenses/by/4.0/'"
      ]
     },
     "execution_count": 121,
     "metadata": {},
     "output_type": "execute_result"
    }
   ],
   "source": [
    "#ccabtlic\n"
   ]
  },
  {
   "cell_type": "code",
   "execution_count": 92,
   "metadata": {
    "collapsed": false
   },
   "outputs": [
    {
     "name": "stdout",
     "output_type": "stream",
     "text": [
      "http://creativecommons.org/ns#DerivativeWorks\n",
      "http://creativecommons.org/ns#Distribution\n",
      "http://creativecommons.org/ns#Reproduction\n"
     ]
    }
   ],
   "source": [
    "#for perm in xmpar['result']['rdf']['rdf:RDF']['License']['permits']:\n",
    "#    print(perm['@rdf:resource'])"
   ]
  },
  {
   "cell_type": "code",
   "execution_count": 93,
   "metadata": {
    "collapsed": false
   },
   "outputs": [
    {
     "data": {
      "text/plain": [
       "'This work is licensed under a .'"
      ]
     },
     "execution_count": 93,
     "metadata": {},
     "output_type": "execute_result"
    }
   ],
   "source": [
    "#xmpar['result']['html']['#text']"
   ]
  },
  {
   "cell_type": "code",
   "execution_count": 107,
   "metadata": {
    "collapsed": false
   },
   "outputs": [],
   "source": [
    "#cchtmtxt = xmpar['result']['html']['a'][1]['#text']"
   ]
  },
  {
   "cell_type": "code",
   "execution_count": 108,
   "metadata": {
    "collapsed": false
   },
   "outputs": [],
   "source": [
    "#ccimglic = xmpar['result']['html']['a'][0]['img']['@src']"
   ]
  },
  {
   "cell_type": "code",
   "execution_count": 109,
   "metadata": {
    "collapsed": true
   },
   "outputs": [],
   "source": [
    "#http://mirrors.creativecommons.org/presskit/buttons/88x31/svg/by.svg"
   ]
  },
  {
   "cell_type": "code",
   "execution_count": 111,
   "metadata": {
    "collapsed": true
   },
   "outputs": [],
   "source": [
    "#licdic = dict({'licurl' : ccabtlic, 'lictext' : cchtmtxt, 'ccimg' : ccimglic})"
   ]
  },
  {
   "cell_type": "code",
   "execution_count": 112,
   "metadata": {
    "collapsed": false
   },
   "outputs": [
    {
     "data": {
      "text/plain": [
       "{'ccimg': 'http://i.creativecommons.org/l/by/4.0/88x31.png',\n",
       " 'lictext': 'Creative Commons Attribution 4.0 International License',\n",
       " 'licurl': 'http://creativecommons.org/licenses/by/4.0/'}"
      ]
     },
     "execution_count": 112,
     "metadata": {},
     "output_type": "execute_result"
    }
   ],
   "source": [
    "#licdic"
   ]
  },
  {
   "cell_type": "code",
   "execution_count": 138,
   "metadata": {
    "collapsed": true
   },
   "outputs": [],
   "source": [
    "#ccdev = requests.get('http://api.creativecommons.org/rest/dev/details?license-uri=http://creativecommons.org/licenses/by-nc-sa/4.0/')"
   ]
  },
  {
   "cell_type": "code",
   "execution_count": 141,
   "metadata": {
    "collapsed": false
   },
   "outputs": [],
   "source": [
    "#reqccsa.text\n",
    "\n",
    "#xmpar = xmltodict.parse(reqccsa.text)\n",
    "#ccabtlic = xmpar['result']['rdf']['rdf:RDF']['License']['@rdf:about']\n",
    "#cchtmtxt = xmpar['result']['html']['a'][1]['#text']\n",
    "#ccimglic = xmpar['result']['html']['a'][0]['img']['@src']\n",
    "#licdic = dict({'licurl' : ccabtlic, 'lictext' : cchtmtxt, 'ccimg' : ccimglic})"
   ]
  },
  {
   "cell_type": "code",
   "execution_count": 142,
   "metadata": {
    "collapsed": false
   },
   "outputs": [
    {
     "data": {
      "text/plain": [
       "{'ccimg': 'http://i.creativecommons.org/l/by-nc-sa/4.0/88x31.png',\n",
       " 'lictext': 'Creative Commons Attribution-NonCommercial-ShareAlike 4.0 International License',\n",
       " 'licurl': 'http://creativecommons.org/licenses/by-nc-sa/4.0/'}"
      ]
     },
     "execution_count": 142,
     "metadata": {},
     "output_type": "execute_result"
    }
   ],
   "source": [
    "#licdic"
   ]
  },
  {
   "cell_type": "code",
   "execution_count": null,
   "metadata": {
    "collapsed": true
   },
   "outputs": [],
   "source": [
    "#http://api.creativecommons.org/rest/dev/simple/chooser"
   ]
  },
  {
   "cell_type": "code",
   "execution_count": null,
   "metadata": {
    "collapsed": true
   },
   "outputs": [],
   "source": [
    "#http://api.creativecommons.org/rest/dev/details?license-uri=creativecommons.org\n",
    "    \n",
    "#http://api.creativecommons.org/rest/dev/details?license-uri=http://creativecommons.org/licenses/by-nc-sa/4.0/"
   ]
  }
 ],
 "metadata": {
  "kernelspec": {
   "display_name": "Python 3",
   "language": "python",
   "name": "python3"
  },
  "language_info": {
   "codemirror_mode": {
    "name": "ipython",
    "version": 3
   },
   "file_extension": ".py",
   "mimetype": "text/x-python",
   "name": "python",
   "nbconvert_exporter": "python",
   "pygments_lexer": "ipython3",
   "version": "3.4.2"
  }
 },
 "nbformat": 4,
 "nbformat_minor": 1
}
