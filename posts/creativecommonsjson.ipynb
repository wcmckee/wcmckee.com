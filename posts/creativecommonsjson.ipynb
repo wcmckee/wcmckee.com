{
 "cells": [
  {
   "cell_type": "markdown",
   "metadata": {},
   "source": [
    "Creative Commons JSON\n",
    "\n",
    "Returns json instead of xml from creative commons api.\n",
    "\n",
    "flask api that returns cc license depending on what licence is requested.\n",
    "\n",
    "add svg/eps along with current png. \n",
    "\n",
    "88x31 image currently - add 88x15 images. \n",
    "\n",
    "add public domain/cc zero to the api"
   ]
  },
  {
   "cell_type": "code",
   "execution_count": 4,
   "metadata": {},
   "outputs": [],
   "source": [
    "import requests\n",
    "import json\n",
    "import xmltodict\n",
    "\n",
    "from flask import Flask, request\n",
    "from flask_restful import Resource, Api"
   ]
  },
  {
   "cell_type": "code",
   "execution_count": 5,
   "metadata": {},
   "outputs": [],
   "source": [
    "app = Flask(__name__)"
   ]
  },
  {
   "cell_type": "code",
   "execution_count": 6,
   "metadata": {},
   "outputs": [],
   "source": [
    "api = Api(app)"
   ]
  },
  {
   "cell_type": "code",
   "execution_count": 7,
   "metadata": {},
   "outputs": [],
   "source": [
    "@app.route('/')\n",
    "def cclicence():\n",
    "    memename = request.json.get('memename')\n",
    "\n",
    "    return(requests.get('http://api.creativecommons.org/rest/dev/license/standard/get?commercial={}&derivatives=y'.format(request.args['commerical'])))"
   ]
  },
  {
   "cell_type": "code",
   "execution_count": null,
   "metadata": {},
   "outputs": [],
   "source": [
    "@app.route('/cc', methods=['GET', 'POST'])\n",
    "def query_example():\n",
    "        if request.method == 'POST':  #this block is only entered when the form is submitted\n",
    "            countrycode = request.form.get('countrycode')\n",
    "            statecode = request.form.get('statecode')\n",
    "            courtcode = request.form.get('courtcode')\n",
    "            #<input type=\"radio\" name=\"results\" value=\"10\" checked> 10<br>\n",
    "            vslist = list()\n",
    "\n",
    "\n",
    "\n",
    "\n",
    "            req = requests.get('http://www.austlii.edu.au/cgi-bin/feed/{}/cases/{}/{}/'.format(countrycode, statecode, courtcode))\n",
    "            #req = requests.get('http://www.austlii.edu.au/cgi-bin/feed/au/cases/nsw/NSWSC/')\n",
    "            bsreq = req.text\n",
    "            xreq = xmltodict.parse(bsreq)\n",
    "            lenchan = len(xreq['rss']['channel'])\n",
    "            dalens = len(xreq['rss']['channel']['item'])\n",
    "\n",
    "            for xr in range(0, dalens):\n",
    "                #print(xreq['rss']['channel']['item'][xr])\n",
    "                #print(xreq['rss']['channel']['item'][xr]['title'])\n",
    "                #print(xreq['rss']['channel']['item'][xr]['link'])\n",
    "                reqlink = xreq['rss']['channel']['item'][xr]['link']\n",
    "                reqcourt = requests.get(reqlink)\n",
    "                reqc = reqcourt.text\n",
    "                soupcour = bs4.BeautifulSoup(reqc, 'lxml')\n",
    "                courtit = soupcour.find('title')\n",
    "                courtext = courtit.text\n",
    "\n",
    "                repcourt = courtext.replace('[', ',')\n",
    "                backcourt = repcourt.replace(']', ',')\n",
    "                newcourt = backcourt.replace('(', ',')\n",
    "                oldcourt = newcourt.replace(')', ',')\n",
    "\n",
    "                sosplit = (oldcourt.split(','))\n",
    "                #print(sosplit[:-4])\n",
    "                casename = (''.join(sosplit[:-4]))\n",
    "\n",
    "                casesplit = casename.split('v')\n",
    "                try:\n",
    "                    #print(casesplit)\n",
    "                    vslist.append(casesplit)\n",
    "            #dicthis = dict({'party1' : (casesplit[0]), 'party2' : casesplit[1]})\n",
    "                except 'IndexError':\n",
    "                    pass\n",
    "\n",
    "                #dicthis = dict({'party1' : (casesplit[0]), 'party2' : casesplit[1]})\n",
    "\n",
    "\n",
    "\n",
    "        #print(sosplit[-2:-1])\n",
    "                #casedate =  (''.join(sosplit[-2:-1]))\n",
    "\n",
    "\n",
    "                #bstxt = bs4.BeautifulSoup(reqsearch.text)\n",
    "\n",
    "                #sometxt = (bstxt.find_all('li', {'class' : 'multi'}))\n",
    "\n",
    "                #print(sometxt)\n",
    "\n",
    "\n",
    "\n",
    "                #for somet in sometxt:\n",
    "                #    print(somet.text)\n",
    "\n",
    "\n",
    "            return '''\n",
    "                    {}\n",
    "                      '''.format(vslist)\n",
    "\n",
    "        return '''\n",
    "                <!DOCTYPE html>\n",
    "            <html>\n",
    "            <head>\n",
    "              <title>Search legal materials</title>\n",
    "              <script src=\"https://unpkg.com/vue\"></script>\n",
    "              <script src=\"node_modules/vue/vue.min.js\"></script>\n",
    "              <link type=\"text/css\" rel=\"stylesheet\" href=\"//unpkg.com/bootstrap/dist/css/bootstrap.min.css\"/>\n",
    "              <link type=\"text/css\" rel=\"stylesheet\" href=\"//unpkg.com/bootstrap-vue@latest/dist/bootstrap-vue.css\"/>\n",
    "              <meta name=\"viewport\" content=\"width=device-width, initial-scale=1\">\n",
    "              </head>\n",
    "              <body>\n",
    "                <img src=\"static/header.jpg\"><br>\n",
    "                <h1>Search Recent legal materials API</h1><br>\n",
    "                <p>Example: au, nsw, NSWSC</p><br>\n",
    "                <p>This returns party1 and party2 in recent cases.</p>\n",
    "                <form method=\"POST\">\n",
    "                  <fieldset>\n",
    "                    <legend>Search legal materials:</legend>\n",
    "                      countrycode: <input type=\"text\" name=\"countrycode\"><br>\n",
    "                      statecode : <input type=\"text\" name=\"statecode\"><br>\n",
    "                      courtcode : <input type=\"text\" name=\"courtcode\"><br>\n",
    "                      <input type=\"submit\" value=\"Submit\"><br>\n",
    "                      </fieldset>\n",
    "                  </form></body>'''\n",
    "\n",
    "\n",
    "\n",
    "\n"
   ]
  },
  {
   "cell_type": "code",
   "execution_count": null,
   "metadata": {},
   "outputs": [],
   "source": [
    "memename = request.json.get('memename')\n",
    "\n",
    "    toptext = request.json.get('toptext')\n",
    "    toptext = toptext.upper()\n",
    "\n",
    "    bottomtext = request.json.get('bottomtext')\n",
    "    bottomtext = bottomtext.upper()\n",
    "    user= request.json.get('user')\n",
    "\n",
    "    timnow = arrow.now()\n",
    "    timstr = timnow.timestamp\n",
    "\n",
    "    galdirdir = '/home/{}/artctrl/meme/galleries/{}/'.format(myusr, user)\n",
    "\n",
    "\n",
    "\n",
    "    #with open('/home/{}/rbnz-tech-backup/artctrl/meme/galleries/default')\n",
    "\n",
    "    img = Image.open('/home/{}/artctrl/meme/galleries/default/{}.jpg'.format(myusr, memename))\n",
    "\n",
    "    imageSize = img.size\n",
    "\n",
    "    # find biggest font size th90t works\n",
    "    fontSize = int(imageSize[1]/5)\n",
    "    font = ImageFont.truetype(\"/home/{}/Downloads/impact.ttf\".format(myusr), fontSize)\n",
    "    topTextSize = font.getsize(toptext)\n",
    "    bottomTextSize = font.getsize(bottomtext)\n",
    "\n",
    "    while topTextSize[0] > imageSize[0]-20 or bottomTextSize[0] > imageSize[0]-20:\n",
    "        fontSize = fontSize - 1\n",
    "        font = ImageFont.truetype(\"/home/{}/Downloads/impact.ttf\".format(myusr), fontSize)\n",
    "        topTextSize = font.getsize(toptext)\n",
    "        bottomTextSize = font.getsize(bottomtext)\n",
    "\n",
    "    # find top centered position for top text\n",
    "    topTextPositionX = (imageSize[0]/2) - (topTextSize[0]/2)\n",
    "    topTextPositionY = 0\n",
    "    topTextPosition = (topTextPositionX, topTextPositionY)\n",
    "\n",
    "    # find bottom centered position for bottom text\n",
    "    bottomTextPositionX = (imageSize[0]/2) - (bottomTextSize[0]/2)\n",
    "    bottomTextPositionY = imageSize[1] - bottomTextSize[1] -10\n",
    "    bottomTextPosition = (bottomTextPositionX, bottomTextPositionY)\n",
    "\n",
    "    draw = ImageDraw.Draw(img)\n",
    "\n",
    "    outlineRange = int(fontSize/15)\n",
    "    for x in range(-outlineRange, outlineRange+1):\n",
    "        for y in range(-outlineRange, outlineRange+1):\n",
    "                draw.text((topTextPosition[0]+x, topTextPosition[1]+y), toptext, (0,0,0), font=font)\n",
    "                draw.text((bottomTextPosition[0]+x, bottomTextPosition[1]+y), bottomtext, (0,0,0), font=font)\n",
    "\n",
    "        draw.text(topTextPosition, toptext, (255,255,255), font=font)\n",
    "        draw.text(bottomTextPosition, bottomtext, (255,255,255), font=font)\n",
    "        img.save('/home/{}/artctrl/meme/galleries/{}/{}-{}.jpg'.format(myusr, user, memename, timstr))\n",
    "\n",
    "        #img.save(\"/home/{}/memetest/galleries/{}/{}.jpg\".format(myusr, usrfolz, gtm['id']))\n",
    "\n",
    "\n",
    "    memedict = dict({'meme' : memename, 'toptext' : toptext.upper(), 'bottomtext' : bottomtext.upper(), 'imagepath' : '/home/{}/rbnz-tech-backup/artctrl/meme/galleries/{}/{}-{}.jpg'.format(myusr, user, memename, timstr)})\n",
    "    return(jsonify(memedict))\n"
   ]
  },
  {
   "cell_type": "code",
   "execution_count": 113,
   "metadata": {},
   "outputs": [
    {
     "ename": "OSError",
     "evalue": "[Errno 98] Address already in use",
     "output_type": "error",
     "traceback": [
      "\u001b[0;31m---------------------------------------------------------------------------\u001b[0m",
      "\u001b[0;31mOSError\u001b[0m                                   Traceback (most recent call last)",
      "\u001b[0;32m<ipython-input-113-222dde2a7eb2>\u001b[0m in \u001b[0;36m<module>\u001b[0;34m()\u001b[0m\n\u001b[1;32m     12\u001b[0m \u001b[0;34m\u001b[0m\u001b[0m\n\u001b[1;32m     13\u001b[0m \u001b[0;32mif\u001b[0m \u001b[0m__name__\u001b[0m \u001b[0;34m==\u001b[0m \u001b[0;34m'__main__'\u001b[0m\u001b[0;34m:\u001b[0m\u001b[0;34m\u001b[0m\u001b[0m\n\u001b[0;32m---> 14\u001b[0;31m     \u001b[0mapp\u001b[0m\u001b[0;34m.\u001b[0m\u001b[0mrun\u001b[0m\u001b[0;34m(\u001b[0m\u001b[0mhost\u001b[0m \u001b[0;34m=\u001b[0m \u001b[0;34m'0.0.0.0'\u001b[0m\u001b[0;34m)\u001b[0m\u001b[0;34m\u001b[0m\u001b[0m\n\u001b[0m",
      "\u001b[0;32m/usr/local/lib/python3.4/dist-packages/flask/app.py\u001b[0m in \u001b[0;36mrun\u001b[0;34m(self, host, port, debug, **options)\u001b[0m\n\u001b[1;32m    841\u001b[0m         \u001b[0moptions\u001b[0m\u001b[0;34m.\u001b[0m\u001b[0msetdefault\u001b[0m\u001b[0;34m(\u001b[0m\u001b[0;34m'passthrough_errors'\u001b[0m\u001b[0;34m,\u001b[0m \u001b[0;32mTrue\u001b[0m\u001b[0;34m)\u001b[0m\u001b[0;34m\u001b[0m\u001b[0m\n\u001b[1;32m    842\u001b[0m         \u001b[0;32mtry\u001b[0m\u001b[0;34m:\u001b[0m\u001b[0;34m\u001b[0m\u001b[0m\n\u001b[0;32m--> 843\u001b[0;31m             \u001b[0mrun_simple\u001b[0m\u001b[0;34m(\u001b[0m\u001b[0mhost\u001b[0m\u001b[0;34m,\u001b[0m \u001b[0mport\u001b[0m\u001b[0;34m,\u001b[0m \u001b[0mself\u001b[0m\u001b[0;34m,\u001b[0m \u001b[0;34m**\u001b[0m\u001b[0moptions\u001b[0m\u001b[0;34m)\u001b[0m\u001b[0;34m\u001b[0m\u001b[0m\n\u001b[0m\u001b[1;32m    844\u001b[0m         \u001b[0;32mfinally\u001b[0m\u001b[0;34m:\u001b[0m\u001b[0;34m\u001b[0m\u001b[0m\n\u001b[1;32m    845\u001b[0m             \u001b[0;31m# reset the first request information if the development server\u001b[0m\u001b[0;34m\u001b[0m\u001b[0;34m\u001b[0m\u001b[0m\n",
      "\u001b[0;32m/usr/local/lib/python3.4/dist-packages/werkzeug/serving.py\u001b[0m in \u001b[0;36mrun_simple\u001b[0;34m(hostname, port, application, use_reloader, use_debugger, use_evalex, extra_files, reloader_interval, reloader_type, threaded, processes, request_handler, static_files, passthrough_errors, ssl_context)\u001b[0m\n\u001b[1;32m    692\u001b[0m                           reloader_type)\n\u001b[1;32m    693\u001b[0m     \u001b[0;32melse\u001b[0m\u001b[0;34m:\u001b[0m\u001b[0;34m\u001b[0m\u001b[0m\n\u001b[0;32m--> 694\u001b[0;31m         \u001b[0minner\u001b[0m\u001b[0;34m(\u001b[0m\u001b[0;34m)\u001b[0m\u001b[0;34m\u001b[0m\u001b[0m\n\u001b[0m\u001b[1;32m    695\u001b[0m \u001b[0;34m\u001b[0m\u001b[0m\n\u001b[1;32m    696\u001b[0m \u001b[0;34m\u001b[0m\u001b[0m\n",
      "\u001b[0;32m/usr/local/lib/python3.4/dist-packages/werkzeug/serving.py\u001b[0m in \u001b[0;36minner\u001b[0;34m()\u001b[0m\n\u001b[1;32m    654\u001b[0m                           \u001b[0mprocesses\u001b[0m\u001b[0;34m,\u001b[0m \u001b[0mrequest_handler\u001b[0m\u001b[0;34m,\u001b[0m\u001b[0;34m\u001b[0m\u001b[0m\n\u001b[1;32m    655\u001b[0m                           \u001b[0mpassthrough_errors\u001b[0m\u001b[0;34m,\u001b[0m \u001b[0mssl_context\u001b[0m\u001b[0;34m,\u001b[0m\u001b[0;34m\u001b[0m\u001b[0m\n\u001b[0;32m--> 656\u001b[0;31m                           fd=fd)\n\u001b[0m\u001b[1;32m    657\u001b[0m         \u001b[0;32mif\u001b[0m \u001b[0mfd\u001b[0m \u001b[0;32mis\u001b[0m \u001b[0;32mNone\u001b[0m\u001b[0;34m:\u001b[0m\u001b[0;34m\u001b[0m\u001b[0m\n\u001b[1;32m    658\u001b[0m             \u001b[0mlog_startup\u001b[0m\u001b[0;34m(\u001b[0m\u001b[0msrv\u001b[0m\u001b[0;34m.\u001b[0m\u001b[0msocket\u001b[0m\u001b[0;34m)\u001b[0m\u001b[0;34m\u001b[0m\u001b[0m\n",
      "\u001b[0;32m/usr/local/lib/python3.4/dist-packages/werkzeug/serving.py\u001b[0m in \u001b[0;36mmake_server\u001b[0;34m(host, port, app, threaded, processes, request_handler, passthrough_errors, ssl_context, fd)\u001b[0m\n\u001b[1;32m    548\u001b[0m     \u001b[0;32melse\u001b[0m\u001b[0;34m:\u001b[0m\u001b[0;34m\u001b[0m\u001b[0m\n\u001b[1;32m    549\u001b[0m         return BaseWSGIServer(host, port, app, request_handler,\n\u001b[0;32m--> 550\u001b[0;31m                               passthrough_errors, ssl_context, fd=fd)\n\u001b[0m\u001b[1;32m    551\u001b[0m \u001b[0;34m\u001b[0m\u001b[0m\n\u001b[1;32m    552\u001b[0m \u001b[0;34m\u001b[0m\u001b[0m\n",
      "\u001b[0;32m/usr/local/lib/python3.4/dist-packages/werkzeug/serving.py\u001b[0m in \u001b[0;36m__init__\u001b[0;34m(self, host, port, app, handler, passthrough_errors, ssl_context, fd)\u001b[0m\n\u001b[1;32m    462\u001b[0m                                       socket.SOCK_STREAM)\n\u001b[1;32m    463\u001b[0m             \u001b[0mport\u001b[0m \u001b[0;34m=\u001b[0m \u001b[0;36m0\u001b[0m\u001b[0;34m\u001b[0m\u001b[0m\n\u001b[0;32m--> 464\u001b[0;31m         \u001b[0mHTTPServer\u001b[0m\u001b[0;34m.\u001b[0m\u001b[0m__init__\u001b[0m\u001b[0;34m(\u001b[0m\u001b[0mself\u001b[0m\u001b[0;34m,\u001b[0m \u001b[0;34m(\u001b[0m\u001b[0mhost\u001b[0m\u001b[0;34m,\u001b[0m \u001b[0mint\u001b[0m\u001b[0;34m(\u001b[0m\u001b[0mport\u001b[0m\u001b[0;34m)\u001b[0m\u001b[0;34m)\u001b[0m\u001b[0;34m,\u001b[0m \u001b[0mhandler\u001b[0m\u001b[0;34m)\u001b[0m\u001b[0;34m\u001b[0m\u001b[0m\n\u001b[0m\u001b[1;32m    465\u001b[0m         \u001b[0mself\u001b[0m\u001b[0;34m.\u001b[0m\u001b[0mapp\u001b[0m \u001b[0;34m=\u001b[0m \u001b[0mapp\u001b[0m\u001b[0;34m\u001b[0m\u001b[0m\n\u001b[1;32m    466\u001b[0m         \u001b[0mself\u001b[0m\u001b[0;34m.\u001b[0m\u001b[0mpassthrough_errors\u001b[0m \u001b[0;34m=\u001b[0m \u001b[0mpassthrough_errors\u001b[0m\u001b[0;34m\u001b[0m\u001b[0m\n",
      "\u001b[0;32m/usr/lib/python3.4/socketserver.py\u001b[0m in \u001b[0;36m__init__\u001b[0;34m(self, server_address, RequestHandlerClass, bind_and_activate)\u001b[0m\n\u001b[1;32m    427\u001b[0m                                     self.socket_type)\n\u001b[1;32m    428\u001b[0m         \u001b[0;32mif\u001b[0m \u001b[0mbind_and_activate\u001b[0m\u001b[0;34m:\u001b[0m\u001b[0;34m\u001b[0m\u001b[0m\n\u001b[0;32m--> 429\u001b[0;31m             \u001b[0mself\u001b[0m\u001b[0;34m.\u001b[0m\u001b[0mserver_bind\u001b[0m\u001b[0;34m(\u001b[0m\u001b[0;34m)\u001b[0m\u001b[0;34m\u001b[0m\u001b[0m\n\u001b[0m\u001b[1;32m    430\u001b[0m             \u001b[0mself\u001b[0m\u001b[0;34m.\u001b[0m\u001b[0mserver_activate\u001b[0m\u001b[0;34m(\u001b[0m\u001b[0;34m)\u001b[0m\u001b[0;34m\u001b[0m\u001b[0m\n\u001b[1;32m    431\u001b[0m \u001b[0;34m\u001b[0m\u001b[0m\n",
      "\u001b[0;32m/usr/lib/python3.4/http/server.py\u001b[0m in \u001b[0;36mserver_bind\u001b[0;34m(self)\u001b[0m\n\u001b[1;32m    131\u001b[0m     \u001b[0;32mdef\u001b[0m \u001b[0mserver_bind\u001b[0m\u001b[0;34m(\u001b[0m\u001b[0mself\u001b[0m\u001b[0;34m)\u001b[0m\u001b[0;34m:\u001b[0m\u001b[0;34m\u001b[0m\u001b[0m\n\u001b[1;32m    132\u001b[0m         \u001b[0;34m\"\"\"Override server_bind to store the server name.\"\"\"\u001b[0m\u001b[0;34m\u001b[0m\u001b[0m\n\u001b[0;32m--> 133\u001b[0;31m         \u001b[0msocketserver\u001b[0m\u001b[0;34m.\u001b[0m\u001b[0mTCPServer\u001b[0m\u001b[0;34m.\u001b[0m\u001b[0mserver_bind\u001b[0m\u001b[0;34m(\u001b[0m\u001b[0mself\u001b[0m\u001b[0;34m)\u001b[0m\u001b[0;34m\u001b[0m\u001b[0m\n\u001b[0m\u001b[1;32m    134\u001b[0m         \u001b[0mhost\u001b[0m\u001b[0;34m,\u001b[0m \u001b[0mport\u001b[0m \u001b[0;34m=\u001b[0m \u001b[0mself\u001b[0m\u001b[0;34m.\u001b[0m\u001b[0msocket\u001b[0m\u001b[0;34m.\u001b[0m\u001b[0mgetsockname\u001b[0m\u001b[0;34m(\u001b[0m\u001b[0;34m)\u001b[0m\u001b[0;34m[\u001b[0m\u001b[0;34m:\u001b[0m\u001b[0;36m2\u001b[0m\u001b[0;34m]\u001b[0m\u001b[0;34m\u001b[0m\u001b[0m\n\u001b[1;32m    135\u001b[0m         \u001b[0mself\u001b[0m\u001b[0;34m.\u001b[0m\u001b[0mserver_name\u001b[0m \u001b[0;34m=\u001b[0m \u001b[0msocket\u001b[0m\u001b[0;34m.\u001b[0m\u001b[0mgetfqdn\u001b[0m\u001b[0;34m(\u001b[0m\u001b[0mhost\u001b[0m\u001b[0;34m)\u001b[0m\u001b[0;34m\u001b[0m\u001b[0m\n",
      "\u001b[0;32m/usr/lib/python3.4/socketserver.py\u001b[0m in \u001b[0;36mserver_bind\u001b[0;34m(self)\u001b[0m\n\u001b[1;32m    438\u001b[0m         \u001b[0;32mif\u001b[0m \u001b[0mself\u001b[0m\u001b[0;34m.\u001b[0m\u001b[0mallow_reuse_address\u001b[0m\u001b[0;34m:\u001b[0m\u001b[0;34m\u001b[0m\u001b[0m\n\u001b[1;32m    439\u001b[0m             \u001b[0mself\u001b[0m\u001b[0;34m.\u001b[0m\u001b[0msocket\u001b[0m\u001b[0;34m.\u001b[0m\u001b[0msetsockopt\u001b[0m\u001b[0;34m(\u001b[0m\u001b[0msocket\u001b[0m\u001b[0;34m.\u001b[0m\u001b[0mSOL_SOCKET\u001b[0m\u001b[0;34m,\u001b[0m \u001b[0msocket\u001b[0m\u001b[0;34m.\u001b[0m\u001b[0mSO_REUSEADDR\u001b[0m\u001b[0;34m,\u001b[0m \u001b[0;36m1\u001b[0m\u001b[0;34m)\u001b[0m\u001b[0;34m\u001b[0m\u001b[0m\n\u001b[0;32m--> 440\u001b[0;31m         \u001b[0mself\u001b[0m\u001b[0;34m.\u001b[0m\u001b[0msocket\u001b[0m\u001b[0;34m.\u001b[0m\u001b[0mbind\u001b[0m\u001b[0;34m(\u001b[0m\u001b[0mself\u001b[0m\u001b[0;34m.\u001b[0m\u001b[0mserver_address\u001b[0m\u001b[0;34m)\u001b[0m\u001b[0;34m\u001b[0m\u001b[0m\n\u001b[0m\u001b[1;32m    441\u001b[0m         \u001b[0mself\u001b[0m\u001b[0;34m.\u001b[0m\u001b[0mserver_address\u001b[0m \u001b[0;34m=\u001b[0m \u001b[0mself\u001b[0m\u001b[0;34m.\u001b[0m\u001b[0msocket\u001b[0m\u001b[0;34m.\u001b[0m\u001b[0mgetsockname\u001b[0m\u001b[0;34m(\u001b[0m\u001b[0;34m)\u001b[0m\u001b[0;34m\u001b[0m\u001b[0m\n\u001b[1;32m    442\u001b[0m \u001b[0;34m\u001b[0m\u001b[0m\n",
      "\u001b[0;31mOSError\u001b[0m: [Errno 98] Address already in use"
     ]
    }
   ],
   "source": [
    "app = Flask(__name__)\n",
    "api = Api(app)\n",
    "\n",
    "#CCBY CCBYNCSA CCBYSA CCBYND CCBYNCND CCBYND CCZERO CCPUBDOMAIN\n",
    "\n",
    "class ccby(Resource):\n",
    "    def get(self):\n",
    "        ccdev = requests.get('http://api.creativecommons.org/rest/dev/license/standard/get?commercial=y&derivatives=y')\n",
    "        xmpar = xmltodict.parse(ccdev.text)\n",
    "        ccabtlic = xmpar['result']['rdf']['rdf:RDF']['License']['@rdf:about']\n",
    "        cchtmtxt = xmpar['result']['html']['a'][1]['#text']\n",
    "        ccimglic = xmpar['result']['html']['a'][0]['img']['@src']\n",
    "        licdic = dict({'url' : ccabtlic, 'text' : cchtmtxt, 'img' :\n",
    "        dict({'fullbutton' : dict({'png' : ccimglic, 'svg' : 'http://mirrors.creativecommons.org/presskit/buttons/88x31/svg/by.svg'}),\n",
    "             'halfbutton' : dict({'png' : 'http://mirrors.creativecommons.org/presskit/buttons/80x15/png/by.png',\n",
    "                                 'svg' : 'http://mirrors.creativecommons.org/presskit/buttons/80x15/svg/by.svg'})})}) \n",
    "        return licdic\n",
    "    \n",
    "class ccbync(Resource):\n",
    "    def get(self):\n",
    "        ccdev = requests.get('http://api.creativecommons.org/rest/dev/license/standard/get?commercial=n&derivatives=y')\n",
    "        xmpar = xmltodict.parse(ccdev.text)\n",
    "        ccabtlic = xmpar['result']['rdf']['rdf:RDF']['License']['@rdf:about']\n",
    "        cchtmtxt = xmpar['result']['html']['a'][1]['#text']\n",
    "        ccimglic = xmpar['result']['html']['a'][0]['img']['@src']\n",
    "        licdic = dict({'url' : ccabtlic, 'text' : cchtmtxt, 'img' :\n",
    "        dict({'fullbutton' : dict({'png' : ccimglic, 'svg' : 'http://mirrors.creativecommons.org/presskit/buttons/88x31/svg/by-nc.svg'}),\n",
    "             'halfbutton' : dict({'png' : 'http://mirrors.creativecommons.org/presskit/buttons/80x15/png/by-nc.png',\n",
    "                                 'svg' : 'http://mirrors.creativecommons.org/presskit/buttons/80x15/svg/by-nc.svg'})})}) \n",
    "        return licdic\n",
    "    \n",
    "class ccbyncsa(Resource):\n",
    "    def get(self):\n",
    "        ccdev = requests.get('http://api.creativecommons.org/rest/dev/details?license-uri=http://creativecommons.org/licenses/by-nc-sa/4.0/')\n",
    "        xmpar = xmltodict.parse(ccdev.text)\n",
    "        ccabtlic = xmpar['result']['rdf']['rdf:RDF']['License']['@rdf:about']\n",
    "        cchtmtxt = xmpar['result']['html']['a'][1]['#text']\n",
    "        ccimglic = xmpar['result']['html']['a'][0]['img']['@src']\n",
    "        licdic = dict({'url' : ccabtlic, 'text' : cchtmtxt, 'img' :\n",
    "        dict({'fullbutton' : dict({'png' : ccimglic, 'svg' : 'http://mirrors.creativecommons.org/presskit/buttons/88x31/svg/by-nc-sa.svg'}),\n",
    "             'halfbutton' : dict({'png' : 'http://mirrors.creativecommons.org/presskit/buttons/80x15/png/by-nc-sa.png',\n",
    "                                 'svg' : 'http://mirrors.creativecommons.org/presskit/buttons/80x15/svg/by-nc-sa.svg'})})}) \n",
    "        return licdic\n",
    "\n",
    "class ccbysa(Resource):\n",
    "    def get(self):\n",
    "        ccdev = requests.get('http://api.creativecommons.org/rest/dev/details?license-uri=http://creativecommons.org/licenses/by-sa/4.0/')\n",
    "        xmpar = xmltodict.parse(ccdev.text)\n",
    "        ccabtlic = xmpar['result']['rdf']['rdf:RDF']['License']['@rdf:about']\n",
    "        cchtmtxt = xmpar['result']['html']['a'][1]['#text']\n",
    "        ccimglic = xmpar['result']['html']['a'][0]['img']['@src']\n",
    "        licdic = dict({'url' : ccabtlic, 'text' : cchtmtxt, 'img' : dict({'png' : ccimglic, 'svg' : 'http://mirrors.creativecommons.org/presskit/buttons/88x31/svg/by-sa.svg'})})\n",
    "        return licdic\n",
    "        \n",
    "class ccbync(Resource):\n",
    "    def get(self):\n",
    "        ccdev = requests.get('http://api.creativecommons.org/rest/dev/license/standard/get?commercial=n&derivatives=y')\n",
    "        xmpar = xmltodict.parse(ccdev.text)\n",
    "        ccabtlic = xmpar['result']['rdf']['rdf:RDF']['License']['@rdf:about']\n",
    "        cchtmtxt = xmpar['result']['html']['a'][1]['#text']\n",
    "        ccimglic = xmpar['result']['html']['a'][0]['img']['@src']\n",
    "        licdic = dict({'url' : ccabtlic, 'text' : cchtmtxt, 'img' :\n",
    "        dict({'fullbutton' : dict({'png' : ccimglic, 'svg' : 'http://mirrors.creativecommons.org/presskit/buttons/88x31/svg/by-nc.svg'}),\n",
    "             'halfbutton' : dict({'png' : 'http://mirrors.creativecommons.org/presskit/buttons/80x15/png/by-nc.png',\n",
    "                                 'svg' : 'http://mirrors.creativecommons.org/presskit/buttons/80x15/svg/by-nc.svg'})})}) \n",
    "        return(licdic)\n",
    "\n",
    "    \n",
    "class ccbyncnd(Resource):\n",
    "    def get(self):\n",
    "        ccdev = requests.get('http://api.creativecommons.org/rest/dev/license/standard/get?commercial=n&derivatives=n')\n",
    "        xmpar = xmltodict.parse(ccdev.text)\n",
    "        ccabtlic = xmpar['result']['rdf']['rdf:RDF']['License']['@rdf:about']\n",
    "        cchtmtxt = xmpar['result']['html']['a'][1]['#text']\n",
    "        ccimglic = xmpar['result']['html']['a'][0]['img']['@src']\n",
    "        licdic = dict({'url' : ccabtlic, 'text' : cchtmtxt, 'img' :\n",
    "        dict({'fullbutton' : dict({'png' : ccimglic, 'svg' : 'http://mirrors.creativecommons.org/presskit/buttons/88x31/svg/by-nc-nd.svg'}),\n",
    "             'halfbutton' : dict({'png' : 'http://mirrors.creativecommons.org/presskit/buttons/80x15/png/by-nc-nd.png',\n",
    "                                 'svg' : 'http://mirrors.creativecommons.org/presskit/buttons/80x15/svg/by-nc-nd.svg'})})}) \n",
    "        return licdic\n",
    "    \n",
    "class ccbynd(Resource):\n",
    "    def get(self):\n",
    "        ccdev = requests.get('http://api.creativecommons.org/rest/dev/license/standard/get?commercial=y&derivatives=n')\n",
    "        xmpar = xmltodict.parse(ccdev.text)\n",
    "        ccabtlic = xmpar['result']['rdf']['rdf:RDF']['License']['@rdf:about']\n",
    "        cchtmtxt = xmpar['result']['html']['a'][1]['#text']\n",
    "        ccimglic = xmpar['result']['html']['a'][0]['img']['@src']\n",
    "        licdic = dict({'url' : ccabtlic, 'text' : cchtmtxt, 'img' :\n",
    "        dict({'fullbutton' : dict({'png' : ccimglic, 'svg' : 'http://mirrors.creativecommons.org/presskit/buttons/88x31/svg/nd.svg'}),\n",
    "             'halfbutton' : dict({'png' : 'http://mirrors.creativecommons.org/presskit/buttons/80x15/png/by-nd.png',\n",
    "                                 'svg' : 'http://mirrors.creativecommons.org/presskit/buttons/80x15/svg/by-nd.svg'})})}) \n",
    "        return licdic\n",
    "    \n",
    "class cczero(Resource):\n",
    "    def get(self):\n",
    "        ccdev = requests.get('http://api.creativecommons.org/rest/dev/details?license-uri=http://creativecommons.org/publicdomain/zero/1.0/')\n",
    "        xmpar = xmltodict.parse(ccdev.text)\n",
    "        ccabtlic = xmpar['result']['rdf']['rdf:RDF']['License']['@rdf:about']\n",
    "        cchtmtxt = xmpar['result']['license-name']\n",
    "        ccimglic = xmpar['result']['html']['p']['a']['img']['@src']\n",
    "        licdic = dict({'url' : ccabtlic, 'text' : cchtmtxt, 'img' :\n",
    "        dict({'fullbutton' : dict({'png' : ccimglic, 'svg' : 'http://mirrors.creativecommons.org/presskit/buttons/88x31/svg/cc-zero.svg'}),\n",
    "             'halfbutton' : dict({'png' : 'http://mirrors.creativecommons.org/presskit/buttons/80x15/png/cc-zero.png',\n",
    "                                 'svg' : 'http://mirrors.creativecommons.org/presskit/buttons/80x15/svg/cc-zero.svg'})})}) \n",
    "        return licdic\n",
    "\n",
    "class ccpubdom(Resource):\n",
    "    def get(self):\n",
    "        ccdev = requests.get('http://api.creativecommons.org/rest/dev/details?license-uri=http://creativecommons.org/publicdomain/mark/1.0/')\n",
    "        xmpar = xmltodict.parse(ccdev.text)\n",
    "        ccabtlic = xmpar['result']['rdf']['rdf:RDF']['License']['@rdf:about']\n",
    "        cchtmtxt = xmpar['result']['license-name']\n",
    "        ccimglic = xmpar['result']['html']['p']['a']['img']['@src']\n",
    "        licdic = dict({'url' : ccabtlic, 'text' : cchtmtxt, 'img' :\n",
    "        dict({'fullbutton' : dict({'png' : ccimglic, 'svg' : 'http://mirrors.creativecommons.org/presskit/buttons/88x31/svg/cc-publicdomain.svg'}),\n",
    "             'halfbutton' : dict({'png' : 'http://mirrors.creativecommons.org/presskit/buttons/80x15/png/cc-publicdomain.png',\n",
    "                                 'svg' : 'http://mirrors.creativecommons.org/presskit/buttons/80x15/svg/cc-publicdomain.svg'})})}) \n",
    "        \n",
    "        return licdic\n",
    "    \n",
    "api.add_resource(ccby, '/by')\n",
    "\n",
    "api.add_resource(ccbync, '/bync')\n",
    "\n",
    "api.add_resource(ccbynd, '/bynd')\n",
    "\n",
    "api.add_resource(ccbyncnd, '/byncnd')\n",
    "\n",
    "api.add_resource(ccbysa, '/bysa')\n",
    "                 \n",
    "api.add_resource(ccbyncsa, '/byncsa')\n",
    "\n",
    "api.add_resource(cczero, '/zero')\n",
    "\n",
    "api.add_resource(ccpubdom, '/publicdomain')\n",
    "\n",
    "if __name__ == '__main__':\n",
    "    app.run(host = '0.0.0.0')\n"
   ]
  },
  {
   "cell_type": "code",
   "execution_count": 3,
   "metadata": {
    "collapsed": true
   },
   "outputs": [],
   "source": [
    "#licstand = requests.get('http://api.creativecommons.org/rest/1.5/license/standard')"
   ]
  },
  {
   "cell_type": "code",
   "execution_count": 7,
   "metadata": {},
   "outputs": [],
   "source": [
    "#dictlic = xmltodict.parse(licstand.text)"
   ]
  },
  {
   "cell_type": "code",
   "execution_count": 21,
   "metadata": {},
   "outputs": [],
   "source": [
    "#lenfield = len(dictlic['licenseclass']['field'])"
   ]
  },
  {
   "cell_type": "code",
   "execution_count": 36,
   "metadata": {},
   "outputs": [
    {
     "name": "stdout",
     "output_type": "stream",
     "text": [
      "OrderedDict([('@xml:lang', 'en'), ('#text', 'Allow commercial uses of your work?')])\n",
      "OrderedDict([('@xml:lang', 'en'), ('#text', 'Allow modifications of your work?')])\n",
      "OrderedDict([('@xml:lang', 'en'), ('#text', 'Jurisdiction of your license')])\n"
     ]
    }
   ],
   "source": [
    "#for lenf in range(0, lenfield):\n",
    "#    print(dictlic['licenseclass']['field'][lenf]['label'])\n",
    "    \n",
    "    #print(dictlic['licenseclass']['field'][lenf]['@id'])\n",
    "    \n",
    "    #print(dictlic['licenseclass']['field'][lenf])\n",
    "    \n",
    "    #print(dictlic['licenseclass']['field'][lenf]['description'])"
   ]
  },
  {
   "cell_type": "code",
   "execution_count": null,
   "metadata": {
    "collapsed": true
   },
   "outputs": [],
   "source": [
    "#ShareAlike"
   ]
  },
  {
   "cell_type": "code",
   "execution_count": 134,
   "metadata": {},
   "outputs": [],
   "source": [
    "#ccdev = requests.get('http://api.creativecommons.org/rest/dev/license/standard/get?commercial=n&derivatives=y')"
   ]
  },
  {
   "cell_type": "code",
   "execution_count": 135,
   "metadata": {},
   "outputs": [],
   "source": [
    "#xmpar = xmltodict.parse(ccdev.text)"
   ]
  },
  {
   "cell_type": "code",
   "execution_count": 136,
   "metadata": {},
   "outputs": [
    {
     "data": {
      "text/plain": [
       "OrderedDict([('@xmlns', 'http://creativecommons.org/ns#'),\n",
       "             ('@xmlns:rdf', 'http://www.w3.org/1999/02/22-rdf-syntax-ns#'),\n",
       "             ('Work',\n",
       "              OrderedDict([('@xmlns:dc', 'http://purl.org/dc/elements/1.1/'),\n",
       "                           ('@rdf:about', ''),\n",
       "                           ('license',\n",
       "                            OrderedDict([('@rdf:resource',\n",
       "                                          'http://creativecommons.org/licenses/by-nc/4.0/')]))])),\n",
       "             ('License',\n",
       "              OrderedDict([('@rdf:about',\n",
       "                            'http://creativecommons.org/licenses/by-nc/4.0/'),\n",
       "                           ('permits',\n",
       "                            [OrderedDict([('@rdf:resource',\n",
       "                                           'http://creativecommons.org/ns#DerivativeWorks')]),\n",
       "                             OrderedDict([('@rdf:resource',\n",
       "                                           'http://creativecommons.org/ns#Distribution')]),\n",
       "                             OrderedDict([('@rdf:resource',\n",
       "                                           'http://creativecommons.org/ns#Reproduction')])]),\n",
       "                           ('requires',\n",
       "                            [OrderedDict([('@rdf:resource',\n",
       "                                           'http://creativecommons.org/ns#Attribution')]),\n",
       "                             OrderedDict([('@rdf:resource',\n",
       "                                           'http://creativecommons.org/ns#Notice')])])]))])"
      ]
     },
     "execution_count": 136,
     "metadata": {},
     "output_type": "execute_result"
    }
   ],
   "source": [
    "#xmpar['result']['rdf']['rdf:RDF']"
   ]
  },
  {
   "cell_type": "code",
   "execution_count": 128,
   "metadata": {},
   "outputs": [
    {
     "data": {
      "text/plain": [
       "'http://creativecommons.org/ns#'"
      ]
     },
     "execution_count": 128,
     "metadata": {},
     "output_type": "execute_result"
    }
   ],
   "source": [
    "#xmpar['result']['rdf']['rdf:RDF']['@xmlns']"
   ]
  },
  {
   "cell_type": "code",
   "execution_count": 129,
   "metadata": {},
   "outputs": [
    {
     "data": {
      "text/plain": [
       "OrderedDict([('@xmlns:dc', 'http://purl.org/dc/elements/1.1/'),\n",
       "             ('@rdf:about', ''),\n",
       "             ('license',\n",
       "              OrderedDict([('@rdf:resource',\n",
       "                            'http://creativecommons.org/licenses/by/4.0/')]))])"
      ]
     },
     "execution_count": 129,
     "metadata": {},
     "output_type": "execute_result"
    }
   ],
   "source": [
    "#xmpar['result']['rdf']['rdf:RDF']['Work']"
   ]
  },
  {
   "cell_type": "code",
   "execution_count": 130,
   "metadata": {},
   "outputs": [
    {
     "data": {
      "text/plain": [
       "OrderedDict([('@rdf:about', 'http://creativecommons.org/licenses/by/4.0/'),\n",
       "             ('permits',\n",
       "              [OrderedDict([('@rdf:resource',\n",
       "                             'http://creativecommons.org/ns#DerivativeWorks')]),\n",
       "               OrderedDict([('@rdf:resource',\n",
       "                             'http://creativecommons.org/ns#Distribution')]),\n",
       "               OrderedDict([('@rdf:resource',\n",
       "                             'http://creativecommons.org/ns#Reproduction')])]),\n",
       "             ('requires',\n",
       "              [OrderedDict([('@rdf:resource',\n",
       "                             'http://creativecommons.org/ns#Attribution')]),\n",
       "               OrderedDict([('@rdf:resource',\n",
       "                             'http://creativecommons.org/ns#Notice')])])])"
      ]
     },
     "execution_count": 130,
     "metadata": {},
     "output_type": "execute_result"
    }
   ],
   "source": [
    "#xmpar['result']['rdf']['rdf:RDF']['License']"
   ]
  },
  {
   "cell_type": "code",
   "execution_count": 120,
   "metadata": {},
   "outputs": [],
   "source": [
    "#ccabtlic = xmpar['result']['rdf']['rdf:RDF']['License']['@rdf:about']"
   ]
  },
  {
   "cell_type": "code",
   "execution_count": 121,
   "metadata": {},
   "outputs": [
    {
     "data": {
      "text/plain": [
       "'http://creativecommons.org/licenses/by/4.0/'"
      ]
     },
     "execution_count": 121,
     "metadata": {},
     "output_type": "execute_result"
    }
   ],
   "source": [
    "#ccabtlic\n"
   ]
  },
  {
   "cell_type": "code",
   "execution_count": 92,
   "metadata": {},
   "outputs": [
    {
     "name": "stdout",
     "output_type": "stream",
     "text": [
      "http://creativecommons.org/ns#DerivativeWorks\n",
      "http://creativecommons.org/ns#Distribution\n",
      "http://creativecommons.org/ns#Reproduction\n"
     ]
    }
   ],
   "source": [
    "#for perm in xmpar['result']['rdf']['rdf:RDF']['License']['permits']:\n",
    "#    print(perm['@rdf:resource'])"
   ]
  },
  {
   "cell_type": "code",
   "execution_count": 93,
   "metadata": {},
   "outputs": [
    {
     "data": {
      "text/plain": [
       "'This work is licensed under a .'"
      ]
     },
     "execution_count": 93,
     "metadata": {},
     "output_type": "execute_result"
    }
   ],
   "source": [
    "#xmpar['result']['html']['#text']"
   ]
  },
  {
   "cell_type": "code",
   "execution_count": 107,
   "metadata": {},
   "outputs": [],
   "source": [
    "#cchtmtxt = xmpar['result']['html']['a'][1]['#text']"
   ]
  },
  {
   "cell_type": "code",
   "execution_count": 108,
   "metadata": {},
   "outputs": [],
   "source": [
    "#ccimglic = xmpar['result']['html']['a'][0]['img']['@src']"
   ]
  },
  {
   "cell_type": "code",
   "execution_count": 109,
   "metadata": {
    "collapsed": true
   },
   "outputs": [],
   "source": [
    "#http://mirrors.creativecommons.org/presskit/buttons/88x31/svg/by.svg"
   ]
  },
  {
   "cell_type": "code",
   "execution_count": 111,
   "metadata": {
    "collapsed": true
   },
   "outputs": [],
   "source": [
    "#licdic = dict({'licurl' : ccabtlic, 'lictext' : cchtmtxt, 'ccimg' : ccimglic})"
   ]
  },
  {
   "cell_type": "code",
   "execution_count": 112,
   "metadata": {},
   "outputs": [
    {
     "data": {
      "text/plain": [
       "{'ccimg': 'http://i.creativecommons.org/l/by/4.0/88x31.png',\n",
       " 'lictext': 'Creative Commons Attribution 4.0 International License',\n",
       " 'licurl': 'http://creativecommons.org/licenses/by/4.0/'}"
      ]
     },
     "execution_count": 112,
     "metadata": {},
     "output_type": "execute_result"
    }
   ],
   "source": [
    "#licdic"
   ]
  },
  {
   "cell_type": "code",
   "execution_count": 138,
   "metadata": {
    "collapsed": true
   },
   "outputs": [],
   "source": [
    "#ccdev = requests.get('http://api.creativecommons.org/rest/dev/details?license-uri=http://creativecommons.org/licenses/by-nc-sa/4.0/')"
   ]
  },
  {
   "cell_type": "code",
   "execution_count": 141,
   "metadata": {},
   "outputs": [],
   "source": [
    "#reqccsa.text\n",
    "\n",
    "#xmpar = xmltodict.parse(reqccsa.text)\n",
    "#ccabtlic = xmpar['result']['rdf']['rdf:RDF']['License']['@rdf:about']\n",
    "#cchtmtxt = xmpar['result']['html']['a'][1]['#text']\n",
    "#ccimglic = xmpar['result']['html']['a'][0]['img']['@src']\n",
    "#licdic = dict({'licurl' : ccabtlic, 'lictext' : cchtmtxt, 'ccimg' : ccimglic})"
   ]
  },
  {
   "cell_type": "code",
   "execution_count": 142,
   "metadata": {},
   "outputs": [
    {
     "data": {
      "text/plain": [
       "{'ccimg': 'http://i.creativecommons.org/l/by-nc-sa/4.0/88x31.png',\n",
       " 'lictext': 'Creative Commons Attribution-NonCommercial-ShareAlike 4.0 International License',\n",
       " 'licurl': 'http://creativecommons.org/licenses/by-nc-sa/4.0/'}"
      ]
     },
     "execution_count": 142,
     "metadata": {},
     "output_type": "execute_result"
    }
   ],
   "source": [
    "#licdic"
   ]
  },
  {
   "cell_type": "code",
   "execution_count": null,
   "metadata": {
    "collapsed": true
   },
   "outputs": [],
   "source": [
    "#http://api.creativecommons.org/rest/dev/simple/chooser"
   ]
  },
  {
   "cell_type": "code",
   "execution_count": null,
   "metadata": {
    "collapsed": true
   },
   "outputs": [],
   "source": [
    "#http://api.creativecommons.org/rest/dev/details?license-uri=creativecommons.org\n",
    "    \n",
    "#http://api.creativecommons.org/rest/dev/details?license-uri=http://creativecommons.org/licenses/by-nc-sa/4.0/"
   ]
  }
 ],
 "metadata": {
  "kernelspec": {
   "display_name": "Python 3",
   "language": "python",
   "name": "python3"
  },
  "language_info": {
   "codemirror_mode": {
    "name": "ipython",
    "version": 3
   },
   "file_extension": ".py",
   "mimetype": "text/x-python",
   "name": "python",
   "nbconvert_exporter": "python",
   "pygments_lexer": "ipython3",
   "version": "3.5.3"
  }
 },
 "nbformat": 4,
 "nbformat_minor": 1
}
