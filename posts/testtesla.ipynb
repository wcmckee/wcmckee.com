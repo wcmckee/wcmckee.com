{
 "cells": [
  {
   "cell_type": "markdown",
   "metadata": {},
   "source": [
    "Control Tesla Cars \n",
    "\n",
    "Test setting temp based on local weather.\n",
    "\n",
    "driver_temp=\n",
    "\n",
    "passenger_temp=\n",
    "\n",
    "This is a delivery system. replace buses in cities with electrical cars. These cars run the same route as buses. \n",
    "\n",
    "\n",
    "Going to change the radio \n",
    "\n",
    "More indepth Tesla car stats. Returns the Raspberry Pi media system onboard that is used to stream media to the car. Pluhs in to the cars stero. Allows passangers in the bar to reclievve calls. Broadcast wifi. Each car has its own router that it uses to comm with the outside world. Canera t oo report how everything is goiing. If things are wrong realtime images of what is happening. The ability to for remote login and control. HAM Radio broadcast. Each car is broadcasting a media center that offers storage space and media. You are able to connect to any of these Tesla cars and access the services they offer. If for some reason they are not to total standards then you can retry. \n",
    "\n",
    "Nux the \n",
    "\n",
    "Switch between low and high heat. \n",
    "\n",
    "passanger temp\n",
    "\n",
    "config file with times to auto start the car. driverless commands. sync to meetup and drive to where the meetups are happening\n",
    "\n",
    "\n",
    "{\n",
    "  \"response\": {\n",
    "    \"inside_temp\": 17.0,          // degC inside car\n",
    "    \"outside_temp\": 9.5,          // degC outside car or null\n",
    "    \"driver_temp_setting\": 22.6,  // degC of driver temperature setpoint\n",
    "    \"passenger_temp_setting\": 22.6, // degC of passenger temperature setpoint\n",
    "    \"is_auto_conditioning_on\": false, // apparently even if on\n",
    "    \"is_front_defroster_on\": null, // null or boolean as integer?\n",
    "    \"is_rear_defroster_on\": false,\n",
    "    \"fan_status\": 0               // fan speed 0-6 or null\n",
    "  }\n",
    "}"
   ]
  },
  {
   "cell_type": "code",
   "execution_count": 2,
   "metadata": {
    "collapsed": false
   },
   "outputs": [],
   "source": [
    "import json\n",
    "#import nose\n",
    "from cryptography.fernet import Fernet\n",
    "import getpass\n",
    "import pandas"
   ]
  },
  {
   "cell_type": "code",
   "execution_count": null,
   "metadata": {
    "collapsed": true
   },
   "outputs": [],
   "source": [
    "myusr = getpass.getuser()"
   ]
  },
  {
   "cell_type": "code",
   "execution_count": 7,
   "metadata": {
    "collapsed": false
   },
   "outputs": [
    {
     "name": "stdout",
     "output_type": "stream",
     "text": [
      "PASSWORD ········\n"
     ]
    }
   ],
   "source": [
    "tespas = getpass.getpass('PASSWORD ')"
   ]
  },
  {
   "cell_type": "code",
   "execution_count": 9,
   "metadata": {
    "collapsed": false
   },
   "outputs": [],
   "source": [
    "mydict = ({ \"response\": { \"df\": False, \"dr\": False, \"pf\": False, \"pr\": False, \"ft\": False, \"rt\": False, \"car_verson\": \"1.19.42\", \"locked\": True, \"sun_roof_installed\": False, \"sun_roof_state\": \"unknown\", \"sun_roof_percent_open\": 0, \"dark_rims\": False, \"wheel_type\": \"Base19\", \"has_spoiler\": False, \"roof_color\": \"Colored\", \"perf_config\": \"Base\" } })"
   ]
  },
  {
   "cell_type": "code",
   "execution_count": 10,
   "metadata": {
    "collapsed": false
   },
   "outputs": [
    {
     "data": {
      "text/plain": [
       "'test'"
      ]
     },
     "execution_count": 10,
     "metadata": {},
     "output_type": "execute_result"
    }
   ],
   "source": [
    "tespas"
   ]
  },
  {
   "cell_type": "code",
   "execution_count": 11,
   "metadata": {
    "collapsed": false
   },
   "outputs": [
    {
     "data": {
      "text/html": [
       "<div style=\"max-height:1000px;max-width:1500px;overflow:auto;\">\n",
       "<table border=\"1\" class=\"dataframe\">\n",
       "  <thead>\n",
       "    <tr style=\"text-align: right;\">\n",
       "      <th></th>\n",
       "      <th>response</th>\n",
       "    </tr>\n",
       "  </thead>\n",
       "  <tbody>\n",
       "    <tr>\n",
       "      <th>car_verson</th>\n",
       "      <td> 1.19.42</td>\n",
       "    </tr>\n",
       "    <tr>\n",
       "      <th>dark_rims</th>\n",
       "      <td>   False</td>\n",
       "    </tr>\n",
       "    <tr>\n",
       "      <th>df</th>\n",
       "      <td>   False</td>\n",
       "    </tr>\n",
       "    <tr>\n",
       "      <th>dr</th>\n",
       "      <td>   False</td>\n",
       "    </tr>\n",
       "    <tr>\n",
       "      <th>ft</th>\n",
       "      <td>   False</td>\n",
       "    </tr>\n",
       "    <tr>\n",
       "      <th>has_spoiler</th>\n",
       "      <td>   False</td>\n",
       "    </tr>\n",
       "    <tr>\n",
       "      <th>locked</th>\n",
       "      <td>    True</td>\n",
       "    </tr>\n",
       "    <tr>\n",
       "      <th>perf_config</th>\n",
       "      <td>    Base</td>\n",
       "    </tr>\n",
       "    <tr>\n",
       "      <th>pf</th>\n",
       "      <td>   False</td>\n",
       "    </tr>\n",
       "    <tr>\n",
       "      <th>pr</th>\n",
       "      <td>   False</td>\n",
       "    </tr>\n",
       "    <tr>\n",
       "      <th>roof_color</th>\n",
       "      <td> Colored</td>\n",
       "    </tr>\n",
       "    <tr>\n",
       "      <th>rt</th>\n",
       "      <td>   False</td>\n",
       "    </tr>\n",
       "    <tr>\n",
       "      <th>sun_roof_installed</th>\n",
       "      <td>   False</td>\n",
       "    </tr>\n",
       "    <tr>\n",
       "      <th>sun_roof_percent_open</th>\n",
       "      <td>       0</td>\n",
       "    </tr>\n",
       "    <tr>\n",
       "      <th>sun_roof_state</th>\n",
       "      <td> unknown</td>\n",
       "    </tr>\n",
       "    <tr>\n",
       "      <th>wheel_type</th>\n",
       "      <td>  Base19</td>\n",
       "    </tr>\n",
       "  </tbody>\n",
       "</table>\n",
       "</div>"
      ],
      "text/plain": [
       "                      response\n",
       "car_verson             1.19.42\n",
       "dark_rims                False\n",
       "df                       False\n",
       "dr                       False\n",
       "ft                       False\n",
       "has_spoiler              False\n",
       "locked                    True\n",
       "perf_config               Base\n",
       "pf                       False\n",
       "pr                       False\n",
       "roof_color             Colored\n",
       "rt                       False\n",
       "sun_roof_installed       False\n",
       "sun_roof_percent_open        0\n",
       "sun_roof_state         unknown\n",
       "wheel_type              Base19"
      ]
     },
     "execution_count": 11,
     "metadata": {},
     "output_type": "execute_result"
    }
   ],
   "source": [
    "pandas.DataFrame(mydict)"
   ]
  },
  {
   "cell_type": "code",
   "execution_count": 16,
   "metadata": {
    "collapsed": false
   },
   "outputs": [
    {
     "name": "stdout",
     "output_type": "stream",
     "text": [
      "b'gAAAAABX-5fRdIVRQf8vPSMZGEa7MW1Y9kxc5gv5XAUB9bHf0482Bk6vYuO-4Jy1zpfLTR7azjJew_JBh92cqrZ9Fw931daYaQ=='\n"
     ]
    },
    {
     "data": {
      "text/plain": [
       "b'straz'"
      ]
     },
     "execution_count": 16,
     "metadata": {},
     "output_type": "execute_result"
    }
   ],
   "source": [
    "key = Fernet.generate_key()\n",
    "\n",
    "f = Fernet(key)\n",
    "token = f.encrypt(b'straz')\n",
    "print(token)\n",
    "'...'\n",
    "f.decrypt(token)"
   ]
  },
  {
   "cell_type": "code",
   "execution_count": 17,
   "metadata": {
    "collapsed": false
   },
   "outputs": [
    {
     "data": {
      "text/plain": [
       "b'z-FQnyhiZIL6ZWxd5tUCWxYaHQaEK4KFPlIshGKRgBM='"
      ]
     },
     "execution_count": 17,
     "metadata": {},
     "output_type": "execute_result"
    }
   ],
   "source": [
    "key"
   ]
  },
  {
   "cell_type": "code",
   "execution_count": 18,
   "metadata": {
    "collapsed": true
   },
   "outputs": [],
   "source": [
    "tesveh = 'https://owner-api.teslamotors.com/api/1/vehicles/1/command/remote_start_drive?password='"
   ]
  },
  {
   "cell_type": "code",
   "execution_count": 19,
   "metadata": {
    "collapsed": false
   },
   "outputs": [
    {
     "data": {
      "text/plain": [
       "'https://owner-api.teslamotors.com/api/1/vehicles/1/command/remote_start_drive?password='"
      ]
     },
     "execution_count": 19,
     "metadata": {},
     "output_type": "execute_result"
    }
   ],
   "source": [
    "tesveh"
   ]
  },
  {
   "cell_type": "code",
   "execution_count": 21,
   "metadata": {
    "collapsed": false
   },
   "outputs": [],
   "source": [
    "#from urllib2 import Request, urlopen\n",
    "\n",
    "#headers = {\n",
    "#  'Authorization': 'Bearer {access_token}'\n",
    "#}\n",
    "#request = Request('https://owner-api.teslamotors.com/api/1/vehicles/1/command/remote_start_drive?password=edisonsux', headers=headers)\n",
    "\n",
    "#response_body = urlopen(request).read()\n",
    "#print response_body"
   ]
  },
  {
   "cell_type": "code",
   "execution_count": 22,
   "metadata": {
    "collapsed": false
   },
   "outputs": [],
   "source": [
    "doorquen = (mydict['response']['df'], mydict['response']['dr'], mydict['response']['pf'], mydict['response']['pr'])"
   ]
  },
  {
   "cell_type": "code",
   "execution_count": 23,
   "metadata": {
    "collapsed": false
   },
   "outputs": [
    {
     "data": {
      "text/plain": [
       "(False, False, False, False)"
      ]
     },
     "execution_count": 23,
     "metadata": {},
     "output_type": "execute_result"
    }
   ],
   "source": [
    "doorquen"
   ]
  },
  {
   "cell_type": "code",
   "execution_count": 24,
   "metadata": {
    "collapsed": false
   },
   "outputs": [
    {
     "data": {
      "text/plain": [
       "b'z-FQnyhiZIL6ZWxd5tUCWxYaHQaEK4KFPlIshGKRgBM='"
      ]
     },
     "execution_count": 24,
     "metadata": {},
     "output_type": "execute_result"
    }
   ],
   "source": [
    "key"
   ]
  },
  {
   "cell_type": "code",
   "execution_count": 26,
   "metadata": {
    "collapsed": false
   },
   "outputs": [],
   "source": [
    "keyencr = f.encrypt(key)"
   ]
  },
  {
   "cell_type": "code",
   "execution_count": 27,
   "metadata": {
    "collapsed": false
   },
   "outputs": [
    {
     "data": {
      "text/plain": [
       "b'gAAAAABX-5gkD9fwfYgaYhD3L-JLdwX9RTHr2cezBZTJ5zgyJCSzbJnNZznkB0DAY6ka5sfsbqoEZ5jOyryU_gXxvd38H3k5o_r1KRF7DecTPHb_wVspVd9XLw9q3jLr1NF_nVBxgBAW'"
      ]
     },
     "execution_count": 27,
     "metadata": {},
     "output_type": "execute_result"
    }
   ],
   "source": [
    "keyencr"
   ]
  },
  {
   "cell_type": "code",
   "execution_count": 28,
   "metadata": {
    "collapsed": false
   },
   "outputs": [
    {
     "data": {
      "text/plain": [
       "b'straz'"
      ]
     },
     "execution_count": 28,
     "metadata": {},
     "output_type": "execute_result"
    }
   ],
   "source": [
    "f.decrypt(token)"
   ]
  },
  {
   "cell_type": "code",
   "execution_count": 29,
   "metadata": {
    "collapsed": true
   },
   "outputs": [],
   "source": [
    "TESLACONFIG = ('TESLA CONTROL BRUM BRUM')"
   ]
  },
  {
   "cell_type": "code",
   "execution_count": 30,
   "metadata": {
    "collapsed": false
   },
   "outputs": [
    {
     "name": "stdout",
     "output_type": "stream",
     "text": [
      "TESLA CONTROL BRUM BRUM\n"
     ]
    }
   ],
   "source": [
    "print(TESLACONFIG)"
   ]
  },
  {
   "cell_type": "code",
   "execution_count": null,
   "metadata": {
    "collapsed": true
   },
   "outputs": [],
   "source": []
  },
  {
   "cell_type": "code",
   "execution_count": 31,
   "metadata": {
    "collapsed": false
   },
   "outputs": [
    {
     "name": "stdout",
     "output_type": "stream",
     "text": [
      "PASSWORD ENTER ········\n",
      "AMERICAN SETTINGS Y/n Y\n",
      "DRIVER LOW TEMP SET AS: 12\n",
      "DRIVER HIGH TEMP SET AS: 15\n",
      "PASS LOW TEMP SET AS: 10\n",
      "PASS HIGH TEMP SET AS: 16\n",
      "OPEN DRIVERS DOOR Y/n Y\n",
      "UNLOCK CAR Y/n Y\n",
      "VALET MODE Y/n Y\n",
      "4 PIN NUMBER: ········\n"
     ]
    }
   ],
   "source": [
    "passwrdz = getpass.getpass(\"PASSWORD ENTER \")\n",
    "\n",
    "askmileorkilo = input('AMERICAN SETTINGS Y/n ')\n",
    "\n",
    "setlowtemp = input('DRIVER LOW TEMP SET AS: ')\n",
    "\n",
    "sethightemp = input('DRIVER HIGH TEMP SET AS: ')\n",
    "\n",
    "\n",
    "setpasslow = input('PASS LOW TEMP SET AS: ')\n",
    "\n",
    "setpashight = input('PASS HIGH TEMP SET AS: ')\n",
    "\n",
    "openDriversDoor = input('OPEN DRIVERS DOOR Y/n ')\n",
    "\n",
    "unlockcar = input('UNLOCK CAR Y/n ')\n",
    "\n",
    "valetmode = input('VALET MODE Y/n ')\n",
    "\n",
    "valetpass = getpass.getpass('4 PIN NUMBER: ')\n"
   ]
  },
  {
   "cell_type": "code",
   "execution_count": 32,
   "metadata": {
    "collapsed": false
   },
   "outputs": [
    {
     "data": {
      "text/plain": [
       "'qwe'"
      ]
     },
     "execution_count": 32,
     "metadata": {},
     "output_type": "execute_result"
    }
   ],
   "source": [
    "passwrdz"
   ]
  },
  {
   "cell_type": "code",
   "execution_count": 33,
   "metadata": {
    "collapsed": false
   },
   "outputs": [],
   "source": [
    "valint = int(valetpass)"
   ]
  },
  {
   "cell_type": "code",
   "execution_count": 34,
   "metadata": {
    "collapsed": false
   },
   "outputs": [
    {
     "name": "stdout",
     "output_type": "stream",
     "text": [
      "Current from -1 to 1: 1\n"
     ]
    }
   ],
   "source": [
    "SETCURRENTZ = input('Current from -1 to 1: ')"
   ]
  },
  {
   "cell_type": "code",
   "execution_count": 35,
   "metadata": {
    "collapsed": false
   },
   "outputs": [],
   "source": [
    "flsecur = float(SETCURRENTZ)"
   ]
  },
  {
   "cell_type": "code",
   "execution_count": 36,
   "metadata": {
    "collapsed": false
   },
   "outputs": [
    {
     "data": {
      "text/plain": [
       "1.0"
      ]
     },
     "execution_count": 36,
     "metadata": {},
     "output_type": "execute_result"
    }
   ],
   "source": [
    "flsecur"
   ]
  },
  {
   "cell_type": "code",
   "execution_count": 37,
   "metadata": {
    "collapsed": false
   },
   "outputs": [
    {
     "data": {
      "text/plain": [
       "1"
      ]
     },
     "execution_count": 37,
     "metadata": {},
     "output_type": "execute_result"
    }
   ],
   "source": [
    "int(SETCURRENTZ)"
   ]
  },
  {
   "cell_type": "code",
   "execution_count": 39,
   "metadata": {
    "collapsed": true
   },
   "outputs": [],
   "source": [
    "import cryptography"
   ]
  },
  {
   "cell_type": "code",
   "execution_count": 183,
   "metadata": {
    "collapsed": false
   },
   "outputs": [],
   "source": [
    "#fercypo = cryptography.fernet()"
   ]
  },
  {
   "cell_type": "markdown",
   "metadata": {},
   "source": [
    "{\n",
    "        \"portal_url\": \"https://owner-api.teslamotors.com/api/1/vehicles/\",\n",
    "        \"stream_url\": \"https://streaming.vn.teslamotors.com/stream/\",\n",
    "        \"username\": \"yourMyTeslaLogin@email.com\",\n",
    "        \"password\": \"yourPassword\",\n",
    "        \"output_file\": \"stream_output.txt\"\n",
    "}"
   ]
  },
  {
   "cell_type": "code",
   "execution_count": 41,
   "metadata": {
    "collapsed": false
   },
   "outputs": [
    {
     "data": {
      "text/plain": [
       "b'Fy3UWE2Hg_dfPQMi34D3_3wsa5Fnxl0iTCXWHm3E5qs='"
      ]
     },
     "execution_count": 41,
     "metadata": {},
     "output_type": "execute_result"
    }
   ],
   "source": [
    "f.generate_key()"
   ]
  },
  {
   "cell_type": "code",
   "execution_count": 43,
   "metadata": {
    "collapsed": false
   },
   "outputs": [],
   "source": [
    "token = f.encrypt(bytes(valint))"
   ]
  },
  {
   "cell_type": "code",
   "execution_count": 44,
   "metadata": {
    "collapsed": false
   },
   "outputs": [
    {
     "name": "stdout",
     "output_type": "stream",
     "text": [
      "b'gAAAAABX-5iJmrFOHgUji6u3hkGCofgKBsmWq7p4Iftoxj7AHyf_SHAA_v7voz5NXOvqu2ptTeqmhkxaR3YWTBitoZVK47IxcdBRII_hb8JzileS9naLjnLuDjmmFSh0zGMmvFZELJdxOQeEBDDP6kl7UMiWkFTl_y3NK0hk_BsicG3kSqbRQvmuo7Yvz6wBb7LPMMOIpCFlMK5Xqyd4Eyv20_y2qTrdR7KwbPKyXeYSHS8DSp0JWO72rRqAfGUJehV9oI1JVeofLrakjHYiubOVHvDDcIs0H9HPulbyVUSrF1VDb-ct4WQPVdkrosuHfA2bJT_t5WtA6zr4kKSS6DpenC8G6-bAAfaLdLZ2qraZJlbCmDJ3C4zL7AgWDA98hmtDN3X-mR2NCcleHqM0X8reNxD8O-VJiTZOxUkOS2Piyo32lI4FpNgnSGrjFaIE3JAWjyyHHXWQBysTi5S8fkGX9Fc--szZnKaZ7FFu-7HHOSw4G1WwU4LVaG6ibfB43-qacA8B_EpV711AT_vmugjUk933eHH3IO4uJmFSap1nSwcaWzgEF41hsBDtPxxifDDBOclAz0aIwqJpq4PWmxMdL3iXsEEl6GHiTerbixHvBVqVoxbjMgEo2x6ULH9cJJW0Bv5wQEsJFAej-Uf2y4HgGLVrMJS1gcze7AYqGO5n5jsLB9KEbD3ZYg6xBm6mZe4eQbfizf7AGLJW_qLK_T22UohS-Wtt47wyFiZ2_NUEz5vm77f9UkfjQuOSJnJ52jpsUL9XBcjH4er_W61yMpaHU14lSJa5hjWiB15iq0Fah-fv_nmHdLS6v8u7nSnBsoNG5Z4paVn_joBFD7eERdWCCLl09Y7T8SLp9wq6M7_I6KOceJYht_6xIPImDcthtRg1G5nzQj52u4QMG0YioEfVxO9F7-ocbo3Irva_uhmoao23l0Mnt_YfrEr5erL_xxtFsfI1N1rs8V2Ki7yxrg2hFVTcXkv4z6v2ovfAHASJaWNSzw1406JveN-ZDCJBQvCI2kHqFDcsmN4zHktQnJmkG2TZteO3cJA30aD7EMqbGDYv5WWh0JQplNrqg-dg9ZOD1L8hqeVjmqv8_yOxFVm12e6TeW2LXADerdCML67DdfHh0kjhTyGMSPdaLoPwk3gRbXnADsz9VCIAGQMnpyEcbnFYnLO4eDs5KeT01cBqF_T_A1EfFjgFVM9daBKfewHyI19DDmOWKFHPgY5p-5pDpt2v5zrwjJ8wrBFsGrotyH_A7bkpC2p4p1KcRoqf5u2NwJlCB6CKzdPyWdHbm-f9JQ_tLwpKmm0X0Lt11t9sf0ApVNFGEp6T3rd5f8nwEH7bq7OmCbXeLV5xmvqI1hX84MuLu2ZoRSflO1osmOfEeRlse3qvE8j0Jk-K4gDUH2BDlkUrUv5ij3KMqSDVR2oiPKl2Za9dT6wWPWMhzefvGjgkXZATzkPM4hVjaCA-6M6NNAMxlRLgTvrXwQTu3J3HZQ-8HPGn-ntUzx_RBSbHmHV4q63piREC_9SswFthJYoMCL4jY5lkHnsH-zKGC2x20nCib9QyiKYGQsFcCVq37CqPfUDCx-CVK2qjRO89dn9seFXaPI4Jsr4dGNHOt1Q3MSTCaeoMsODnpzwgjv4dq1r_utrOG_bMMac3Bg0JMsC_KWo8gxf_mVMvhERmZCizapav2geJtbJM5234X3SoDmqnAfQHPZxR5FpWVvo_8xoms2okByh2'\n"
     ]
    }
   ],
   "source": [
    "print(token)"
   ]
  },
  {
   "cell_type": "code",
   "execution_count": 45,
   "metadata": {
    "collapsed": false
   },
   "outputs": [
    {
     "data": {
      "text/plain": [
       "b'\\x00\\x00\\x00\\x00\\x00\\x00\\x00\\x00\\x00\\x00\\x00\\x00\\x00\\x00\\x00\\x00\\x00\\x00\\x00\\x00\\x00\\x00\\x00\\x00\\x00\\x00\\x00\\x00\\x00\\x00\\x00\\x00\\x00\\x00\\x00\\x00\\x00\\x00\\x00\\x00\\x00\\x00\\x00\\x00\\x00\\x00\\x00\\x00\\x00\\x00\\x00\\x00\\x00\\x00\\x00\\x00\\x00\\x00\\x00\\x00\\x00\\x00\\x00\\x00\\x00\\x00\\x00\\x00\\x00\\x00\\x00\\x00\\x00\\x00\\x00\\x00\\x00\\x00\\x00\\x00\\x00\\x00\\x00\\x00\\x00\\x00\\x00\\x00\\x00\\x00\\x00\\x00\\x00\\x00\\x00\\x00\\x00\\x00\\x00\\x00\\x00\\x00\\x00\\x00\\x00\\x00\\x00\\x00\\x00\\x00\\x00\\x00\\x00\\x00\\x00\\x00\\x00\\x00\\x00\\x00\\x00\\x00\\x00\\x00\\x00\\x00\\x00\\x00\\x00\\x00\\x00\\x00\\x00\\x00\\x00\\x00\\x00\\x00\\x00\\x00\\x00\\x00\\x00\\x00\\x00\\x00\\x00\\x00\\x00\\x00\\x00\\x00\\x00\\x00\\x00\\x00\\x00\\x00\\x00\\x00\\x00\\x00\\x00\\x00\\x00\\x00\\x00\\x00\\x00\\x00\\x00\\x00\\x00\\x00\\x00\\x00\\x00\\x00\\x00\\x00\\x00\\x00\\x00\\x00\\x00\\x00\\x00\\x00\\x00\\x00\\x00\\x00\\x00\\x00\\x00\\x00\\x00\\x00\\x00\\x00\\x00\\x00\\x00\\x00\\x00\\x00\\x00\\x00\\x00\\x00\\x00\\x00\\x00\\x00\\x00\\x00\\x00\\x00\\x00\\x00\\x00\\x00\\x00\\x00\\x00\\x00\\x00\\x00\\x00\\x00\\x00\\x00\\x00\\x00\\x00\\x00\\x00\\x00\\x00\\x00\\x00\\x00\\x00\\x00\\x00\\x00\\x00\\x00\\x00\\x00\\x00\\x00\\x00\\x00\\x00\\x00\\x00\\x00\\x00\\x00\\x00\\x00\\x00\\x00\\x00\\x00\\x00\\x00\\x00\\x00\\x00\\x00\\x00\\x00\\x00\\x00\\x00\\x00\\x00\\x00\\x00\\x00\\x00\\x00\\x00\\x00\\x00\\x00\\x00\\x00\\x00\\x00\\x00\\x00\\x00\\x00\\x00\\x00\\x00\\x00\\x00\\x00\\x00\\x00\\x00\\x00\\x00\\x00\\x00\\x00\\x00\\x00\\x00\\x00\\x00\\x00\\x00\\x00\\x00\\x00\\x00\\x00\\x00\\x00\\x00\\x00\\x00\\x00\\x00\\x00\\x00\\x00\\x00\\x00\\x00\\x00\\x00\\x00\\x00\\x00\\x00\\x00\\x00\\x00\\x00\\x00\\x00\\x00\\x00\\x00\\x00\\x00\\x00\\x00\\x00\\x00\\x00\\x00\\x00\\x00\\x00\\x00\\x00\\x00\\x00\\x00\\x00\\x00\\x00\\x00\\x00\\x00\\x00\\x00\\x00\\x00\\x00\\x00\\x00\\x00\\x00\\x00\\x00\\x00\\x00\\x00\\x00\\x00\\x00\\x00\\x00\\x00\\x00\\x00\\x00\\x00\\x00\\x00\\x00\\x00\\x00\\x00\\x00\\x00\\x00\\x00\\x00\\x00\\x00\\x00\\x00\\x00\\x00\\x00\\x00\\x00\\x00\\x00\\x00\\x00\\x00\\x00\\x00\\x00\\x00\\x00\\x00\\x00\\x00\\x00\\x00\\x00\\x00\\x00\\x00\\x00\\x00\\x00\\x00\\x00\\x00\\x00\\x00\\x00\\x00\\x00\\x00\\x00\\x00\\x00\\x00\\x00\\x00\\x00\\x00\\x00\\x00\\x00\\x00\\x00\\x00\\x00\\x00\\x00\\x00\\x00\\x00\\x00\\x00\\x00\\x00\\x00\\x00\\x00\\x00\\x00\\x00\\x00\\x00\\x00\\x00\\x00\\x00\\x00\\x00\\x00\\x00\\x00\\x00\\x00\\x00\\x00\\x00\\x00\\x00\\x00\\x00\\x00\\x00\\x00\\x00\\x00\\x00\\x00\\x00\\x00\\x00\\x00\\x00\\x00\\x00\\x00\\x00\\x00\\x00\\x00\\x00\\x00\\x00\\x00\\x00\\x00\\x00\\x00\\x00\\x00\\x00\\x00\\x00\\x00\\x00\\x00\\x00\\x00\\x00\\x00\\x00\\x00\\x00\\x00\\x00\\x00\\x00\\x00\\x00\\x00\\x00\\x00\\x00\\x00\\x00\\x00\\x00\\x00\\x00\\x00\\x00\\x00\\x00\\x00\\x00\\x00\\x00\\x00\\x00\\x00\\x00\\x00\\x00\\x00\\x00\\x00\\x00\\x00\\x00\\x00\\x00\\x00\\x00\\x00\\x00\\x00\\x00\\x00\\x00\\x00\\x00\\x00\\x00\\x00\\x00\\x00\\x00\\x00\\x00\\x00\\x00\\x00\\x00\\x00\\x00\\x00\\x00\\x00\\x00\\x00\\x00\\x00\\x00\\x00\\x00\\x00\\x00\\x00\\x00\\x00\\x00\\x00\\x00\\x00\\x00\\x00\\x00\\x00\\x00\\x00\\x00\\x00\\x00\\x00\\x00\\x00\\x00\\x00\\x00\\x00\\x00\\x00\\x00\\x00\\x00\\x00\\x00\\x00\\x00\\x00\\x00\\x00\\x00\\x00\\x00\\x00\\x00\\x00\\x00\\x00\\x00\\x00\\x00\\x00\\x00\\x00\\x00\\x00\\x00\\x00\\x00\\x00\\x00\\x00\\x00\\x00\\x00\\x00\\x00\\x00\\x00\\x00\\x00\\x00\\x00\\x00\\x00\\x00\\x00\\x00\\x00\\x00\\x00\\x00\\x00\\x00\\x00\\x00\\x00\\x00\\x00\\x00\\x00\\x00\\x00\\x00\\x00\\x00\\x00\\x00\\x00\\x00\\x00\\x00\\x00\\x00\\x00\\x00\\x00\\x00\\x00\\x00\\x00\\x00\\x00\\x00\\x00\\x00\\x00\\x00\\x00\\x00\\x00\\x00\\x00\\x00\\x00\\x00\\x00\\x00\\x00\\x00\\x00\\x00\\x00\\x00\\x00\\x00\\x00\\x00\\x00\\x00\\x00\\x00\\x00\\x00\\x00\\x00\\x00\\x00\\x00\\x00\\x00\\x00\\x00\\x00\\x00\\x00\\x00\\x00\\x00\\x00\\x00\\x00\\x00\\x00\\x00\\x00\\x00\\x00\\x00\\x00\\x00\\x00\\x00\\x00\\x00\\x00\\x00\\x00\\x00\\x00\\x00\\x00\\x00\\x00\\x00\\x00\\x00\\x00\\x00\\x00\\x00\\x00\\x00\\x00\\x00\\x00\\x00\\x00\\x00\\x00\\x00\\x00\\x00\\x00\\x00\\x00\\x00\\x00\\x00\\x00\\x00\\x00\\x00\\x00\\x00\\x00\\x00\\x00\\x00\\x00\\x00\\x00\\x00\\x00\\x00\\x00\\x00\\x00\\x00\\x00\\x00\\x00\\x00\\x00\\x00\\x00\\x00\\x00\\x00\\x00\\x00\\x00\\x00\\x00\\x00\\x00\\x00\\x00\\x00\\x00\\x00\\x00\\x00\\x00\\x00\\x00\\x00\\x00\\x00\\x00\\x00\\x00\\x00\\x00\\x00\\x00\\x00\\x00\\x00\\x00\\x00\\x00\\x00\\x00\\x00\\x00\\x00\\x00\\x00\\x00\\x00\\x00\\x00\\x00\\x00\\x00\\x00\\x00\\x00\\x00\\x00\\x00\\x00\\x00\\x00\\x00\\x00\\x00\\x00\\x00\\x00\\x00\\x00\\x00\\x00\\x00\\x00\\x00\\x00\\x00\\x00\\x00\\x00\\x00\\x00\\x00\\x00\\x00\\x00\\x00\\x00\\x00\\x00\\x00\\x00\\x00\\x00\\x00\\x00\\x00\\x00\\x00\\x00\\x00\\x00\\x00\\x00\\x00\\x00\\x00\\x00\\x00\\x00\\x00\\x00\\x00\\x00\\x00\\x00\\x00\\x00\\x00\\x00\\x00\\x00\\x00\\x00\\x00\\x00\\x00\\x00\\x00\\x00\\x00\\x00\\x00\\x00\\x00\\x00\\x00\\x00\\x00\\x00\\x00\\x00\\x00\\x00\\x00\\x00\\x00\\x00\\x00\\x00\\x00\\x00\\x00\\x00\\x00\\x00\\x00\\x00\\x00\\x00\\x00\\x00\\x00\\x00\\x00\\x00\\x00\\x00\\x00\\x00\\x00\\x00\\x00\\x00\\x00\\x00\\x00\\x00\\x00\\x00\\x00\\x00\\x00\\x00\\x00\\x00\\x00\\x00\\x00\\x00\\x00\\x00\\x00\\x00\\x00\\x00\\x00\\x00\\x00\\x00\\x00\\x00\\x00\\x00\\x00\\x00\\x00\\x00\\x00\\x00\\x00\\x00\\x00\\x00\\x00\\x00\\x00\\x00\\x00\\x00\\x00\\x00\\x00\\x00\\x00\\x00\\x00\\x00\\x00\\x00\\x00\\x00\\x00\\x00\\x00\\x00\\x00\\x00\\x00\\x00\\x00\\x00\\x00\\x00\\x00\\x00\\x00\\x00\\x00\\x00\\x00\\x00\\x00\\x00\\x00\\x00\\x00\\x00\\x00\\x00\\x00\\x00\\x00\\x00\\x00\\x00\\x00\\x00\\x00\\x00\\x00\\x00\\x00\\x00\\x00\\x00\\x00\\x00\\x00\\x00\\x00\\x00\\x00\\x00\\x00\\x00\\x00\\x00\\x00\\x00\\x00\\x00\\x00\\x00\\x00\\x00\\x00\\x00\\x00\\x00\\x00\\x00\\x00\\x00\\x00\\x00\\x00\\x00\\x00\\x00\\x00\\x00\\x00\\x00\\x00\\x00\\x00\\x00\\x00\\x00\\x00\\x00\\x00\\x00\\x00\\x00\\x00\\x00\\x00\\x00\\x00\\x00\\x00\\x00\\x00\\x00\\x00\\x00\\x00\\x00\\x00\\x00\\x00\\x00\\x00\\x00\\x00\\x00\\x00\\x00\\x00\\x00\\x00\\x00\\x00\\x00\\x00\\x00\\x00\\x00\\x00\\x00\\x00\\x00\\x00\\x00\\x00\\x00\\x00\\x00\\x00\\x00\\x00\\x00\\x00\\x00\\x00\\x00\\x00\\x00\\x00\\x00\\x00\\x00\\x00\\x00\\x00\\x00\\x00\\x00\\x00\\x00\\x00'"
      ]
     },
     "execution_count": 45,
     "metadata": {},
     "output_type": "execute_result"
    }
   ],
   "source": [
    "f.decrypt(token)"
   ]
  },
  {
   "cell_type": "code",
   "execution_count": 46,
   "metadata": {
    "collapsed": false
   },
   "outputs": [
    {
     "data": {
      "text/plain": [
       "0"
      ]
     },
     "execution_count": 46,
     "metadata": {},
     "output_type": "execute_result"
    }
   ],
   "source": [
    "int.from_bytes((f.decrypt(token)), byteorder='big')"
   ]
  },
  {
   "cell_type": "code",
   "execution_count": 47,
   "metadata": {
    "collapsed": false
   },
   "outputs": [],
   "source": [
    "byedecrpt = (f.decrypt(token))"
   ]
  },
  {
   "cell_type": "code",
   "execution_count": 48,
   "metadata": {
    "collapsed": false
   },
   "outputs": [
    {
     "data": {
      "text/plain": [
       "0"
      ]
     },
     "execution_count": 48,
     "metadata": {},
     "output_type": "execute_result"
    }
   ],
   "source": [
    "int.from_bytes((byedecrpt), byteorder='big')"
   ]
  },
  {
   "cell_type": "code",
   "execution_count": 50,
   "metadata": {
    "collapsed": false
   },
   "outputs": [],
   "source": [
    "if 'n' in valetmode:\n",
    "    valeton = False\n",
    "elif 'Y' in valetmode:\n",
    "    valeton = True\n",
    "    "
   ]
  },
  {
   "cell_type": "code",
   "execution_count": 52,
   "metadata": {
    "collapsed": true
   },
   "outputs": [],
   "source": [
    "if 'n' in askmileorkilo:\n",
    "    miletru = False\n",
    "elif 'Y' in askmileorkilo:\n",
    "    miletru = True"
   ]
  },
  {
   "cell_type": "code",
   "execution_count": 53,
   "metadata": {
    "collapsed": false
   },
   "outputs": [
    {
     "data": {
      "text/plain": [
       "'Y'"
      ]
     },
     "execution_count": 53,
     "metadata": {},
     "output_type": "execute_result"
    }
   ],
   "source": [
    "askmileorkilo"
   ]
  },
  {
   "cell_type": "code",
   "execution_count": 54,
   "metadata": {
    "collapsed": false
   },
   "outputs": [
    {
     "data": {
      "text/plain": [
       "True"
      ]
     },
     "execution_count": 54,
     "metadata": {},
     "output_type": "execute_result"
    }
   ],
   "source": [
    "miletru"
   ]
  },
  {
   "cell_type": "code",
   "execution_count": 55,
   "metadata": {
    "collapsed": false
   },
   "outputs": [],
   "source": [
    "if miletru == True:\n",
    "    guidisuni = \"mi/hr\"\n",
    "elif miletru == False:\n",
    "    guidisuni = \"km/hr\""
   ]
  },
  {
   "cell_type": "code",
   "execution_count": 56,
   "metadata": {
    "collapsed": false
   },
   "outputs": [
    {
     "data": {
      "text/plain": [
       "'mi/hr'"
      ]
     },
     "execution_count": 56,
     "metadata": {},
     "output_type": "execute_result"
    }
   ],
   "source": [
    "guidisuni"
   ]
  },
  {
   "cell_type": "code",
   "execution_count": 57,
   "metadata": {
    "collapsed": true
   },
   "outputs": [],
   "source": [
    "if 'n' in unlockcar:\n",
    "    opddor = False\n",
    "elif 'Y' in unlockcar:\n",
    "    opddor = True"
   ]
  },
  {
   "cell_type": "code",
   "execution_count": 58,
   "metadata": {
    "collapsed": false
   },
   "outputs": [
    {
     "data": {
      "text/plain": [
       "True"
      ]
     },
     "execution_count": 58,
     "metadata": {},
     "output_type": "execute_result"
    }
   ],
   "source": [
    "opddor"
   ]
  },
  {
   "cell_type": "code",
   "execution_count": 59,
   "metadata": {
    "collapsed": false
   },
   "outputs": [],
   "source": [
    "if 'n' in openDriversDoor:\n",
    "    opddor = False\n",
    "    \n",
    "elif 'Y' in openDriversDoor:\n",
    "    opddor = True\n",
    "    \n",
    "    "
   ]
  },
  {
   "cell_type": "code",
   "execution_count": 60,
   "metadata": {
    "collapsed": false
   },
   "outputs": [
    {
     "data": {
      "text/plain": [
       "True"
      ]
     },
     "execution_count": 60,
     "metadata": {},
     "output_type": "execute_result"
    }
   ],
   "source": [
    "opddor"
   ]
  },
  {
   "cell_type": "code",
   "execution_count": 61,
   "metadata": {
    "collapsed": true
   },
   "outputs": [],
   "source": [
    "import configparser"
   ]
  },
  {
   "cell_type": "code",
   "execution_count": 62,
   "metadata": {
    "collapsed": false
   },
   "outputs": [],
   "source": [
    "dfstat = (mydict['response']['df'])"
   ]
  },
  {
   "cell_type": "code",
   "execution_count": 63,
   "metadata": {
    "collapsed": false
   },
   "outputs": [],
   "source": [
    "pfstat = (mydict['response']['pf'])"
   ]
  },
  {
   "cell_type": "code",
   "execution_count": 64,
   "metadata": {
    "collapsed": false
   },
   "outputs": [],
   "source": [
    "prstat = (mydict['response']['pr'])"
   ]
  },
  {
   "cell_type": "code",
   "execution_count": 65,
   "metadata": {
    "collapsed": true
   },
   "outputs": [],
   "source": [
    "drstat = (mydict['response']['dr'])"
   ]
  },
  {
   "cell_type": "code",
   "execution_count": 66,
   "metadata": {
    "collapsed": false
   },
   "outputs": [
    {
     "data": {
      "text/plain": [
       "False"
      ]
     },
     "execution_count": 66,
     "metadata": {},
     "output_type": "execute_result"
    }
   ],
   "source": [
    "drstat"
   ]
  },
  {
   "cell_type": "code",
   "execution_count": 67,
   "metadata": {
    "collapsed": false
   },
   "outputs": [
    {
     "data": {
      "text/plain": [
       "False"
      ]
     },
     "execution_count": 67,
     "metadata": {},
     "output_type": "execute_result"
    }
   ],
   "source": [
    "prstat"
   ]
  },
  {
   "cell_type": "code",
   "execution_count": 68,
   "metadata": {
    "collapsed": false
   },
   "outputs": [
    {
     "data": {
      "text/plain": [
       "False"
      ]
     },
     "execution_count": 68,
     "metadata": {},
     "output_type": "execute_result"
    }
   ],
   "source": [
    "dfstat"
   ]
  },
  {
   "cell_type": "code",
   "execution_count": 69,
   "metadata": {
    "collapsed": false
   },
   "outputs": [
    {
     "data": {
      "text/plain": [
       "False"
      ]
     },
     "execution_count": 69,
     "metadata": {},
     "output_type": "execute_result"
    }
   ],
   "source": [
    "pfstat"
   ]
  },
  {
   "cell_type": "code",
   "execution_count": 70,
   "metadata": {
    "collapsed": true
   },
   "outputs": [],
   "source": [
    "import arrow"
   ]
  },
  {
   "cell_type": "code",
   "execution_count": 71,
   "metadata": {
    "collapsed": true
   },
   "outputs": [],
   "source": [
    "timnow = arrow.now()"
   ]
  },
  {
   "cell_type": "code",
   "execution_count": 72,
   "metadata": {
    "collapsed": false
   },
   "outputs": [
    {
     "name": "stdout",
     "output_type": "stream",
     "text": [
      "2016-10-11 02:34:18.627450+13:00\n"
     ]
    }
   ],
   "source": [
    "print(timnow.datetime)"
   ]
  },
  {
   "cell_type": "code",
   "execution_count": 73,
   "metadata": {
    "collapsed": false
   },
   "outputs": [
    {
     "data": {
      "text/plain": [
       "'2016-10-11T02:34:18.627450+13:00'"
      ]
     },
     "execution_count": 73,
     "metadata": {},
     "output_type": "execute_result"
    }
   ],
   "source": [
    "timnow.for_json()"
   ]
  },
  {
   "cell_type": "code",
   "execution_count": 74,
   "metadata": {
    "collapsed": false
   },
   "outputs": [
    {
     "data": {
      "text/plain": [
       "2"
      ]
     },
     "execution_count": 74,
     "metadata": {},
     "output_type": "execute_result"
    }
   ],
   "source": [
    "timnow.isoweekday()"
   ]
  },
  {
   "cell_type": "code",
   "execution_count": 75,
   "metadata": {
    "collapsed": false
   },
   "outputs": [
    {
     "data": {
      "text/plain": [
       "'just now'"
      ]
     },
     "execution_count": 75,
     "metadata": {},
     "output_type": "execute_result"
    }
   ],
   "source": [
    "timnow.humanize()"
   ]
  },
  {
   "cell_type": "code",
   "execution_count": 76,
   "metadata": {
    "collapsed": false
   },
   "outputs": [
    {
     "data": {
      "text/plain": [
       "2"
      ]
     },
     "execution_count": 76,
     "metadata": {},
     "output_type": "execute_result"
    }
   ],
   "source": [
    "timnow.isoweekday()"
   ]
  },
  {
   "cell_type": "code",
   "execution_count": 77,
   "metadata": {
    "collapsed": false
   },
   "outputs": [
    {
     "data": {
      "text/plain": [
       "(2016, 41, 2)"
      ]
     },
     "execution_count": 77,
     "metadata": {},
     "output_type": "execute_result"
    }
   ],
   "source": [
    "timnow.isocalendar()"
   ]
  },
  {
   "cell_type": "code",
   "execution_count": 78,
   "metadata": {
    "collapsed": false
   },
   "outputs": [
    {
     "data": {
      "text/plain": [
       "<bound method Arrow.ceil of <Arrow [2016-10-11T02:34:18.627450+13:00]>>"
      ]
     },
     "execution_count": 78,
     "metadata": {},
     "output_type": "execute_result"
    }
   ],
   "source": [
    "timnow.ceil"
   ]
  },
  {
   "cell_type": "code",
   "execution_count": 79,
   "metadata": {
    "collapsed": false
   },
   "outputs": [
    {
     "data": {
      "text/plain": [
       "<Arrow [2016-10-11T02:34:18.627450+13:00]>"
      ]
     },
     "execution_count": 79,
     "metadata": {},
     "output_type": "execute_result"
    }
   ],
   "source": [
    "timnow.clone()"
   ]
  },
  {
   "cell_type": "code",
   "execution_count": 80,
   "metadata": {
    "collapsed": false
   },
   "outputs": [
    {
     "data": {
      "text/plain": [
       "datetime.date(2016, 10, 11)"
      ]
     },
     "execution_count": 80,
     "metadata": {},
     "output_type": "execute_result"
    }
   ],
   "source": [
    "timnow.date()"
   ]
  },
  {
   "cell_type": "code",
   "execution_count": 81,
   "metadata": {
    "collapsed": false
   },
   "outputs": [
    {
     "data": {
      "text/plain": [
       "'2016-10-11 02:34:18+13:00'"
      ]
     },
     "execution_count": 81,
     "metadata": {},
     "output_type": "execute_result"
    }
   ],
   "source": [
    "timnow.format()"
   ]
  },
  {
   "cell_type": "code",
   "execution_count": 82,
   "metadata": {
    "collapsed": false
   },
   "outputs": [
    {
     "data": {
      "text/plain": [
       "<bound method Arrow.floor of <Arrow [2016-10-11T02:34:18.627450+13:00]>>"
      ]
     },
     "execution_count": 82,
     "metadata": {},
     "output_type": "execute_result"
    }
   ],
   "source": [
    "timnow.floor"
   ]
  },
  {
   "cell_type": "code",
   "execution_count": 83,
   "metadata": {
    "collapsed": false
   },
   "outputs": [
    {
     "data": {
      "text/plain": [
       "1476106458.62745"
      ]
     },
     "execution_count": 83,
     "metadata": {},
     "output_type": "execute_result"
    }
   ],
   "source": [
    "timnow.float_timestamp"
   ]
  },
  {
   "cell_type": "code",
   "execution_count": 84,
   "metadata": {
    "collapsed": false
   },
   "outputs": [],
   "source": [
    "timz = timnow.for_json()"
   ]
  },
  {
   "cell_type": "code",
   "execution_count": 85,
   "metadata": {
    "collapsed": false
   },
   "outputs": [
    {
     "data": {
      "text/plain": [
       "'2016-10-11T02:34:18.627450+13:00'"
      ]
     },
     "execution_count": 85,
     "metadata": {},
     "output_type": "execute_result"
    }
   ],
   "source": [
    "timz"
   ]
  },
  {
   "cell_type": "code",
   "execution_count": 86,
   "metadata": {
    "collapsed": false
   },
   "outputs": [
    {
     "name": "stdout",
     "output_type": "stream",
     "text": [
      "2016-10-11T02:34:18.627450+13:00\n"
     ]
    }
   ],
   "source": [
    "print(timz)"
   ]
  },
  {
   "cell_type": "code",
   "execution_count": 87,
   "metadata": {
    "collapsed": false
   },
   "outputs": [
    {
     "data": {
      "text/plain": [
       "'2016-10-11T02:34:18.627450+13:00'"
      ]
     },
     "execution_count": 87,
     "metadata": {},
     "output_type": "execute_result"
    }
   ],
   "source": [
    "timz.upper()"
   ]
  },
  {
   "cell_type": "code",
   "execution_count": 88,
   "metadata": {
    "collapsed": false
   },
   "outputs": [
    {
     "data": {
      "text/plain": [
       "['2016-10-11T02:34:18', '627450+13:00']"
      ]
     },
     "execution_count": 88,
     "metadata": {},
     "output_type": "execute_result"
    }
   ],
   "source": [
    "timz.split('-' and ':' and '.')"
   ]
  },
  {
   "cell_type": "code",
   "execution_count": 89,
   "metadata": {
    "collapsed": false
   },
   "outputs": [
    {
     "name": "stdout",
     "output_type": "stream",
     "text": [
      "2016-10-11T02:34:18.627450+13:00\n"
     ]
    }
   ],
   "source": [
    "print(timnow)"
   ]
  },
  {
   "cell_type": "code",
   "execution_count": 90,
   "metadata": {
    "collapsed": false
   },
   "outputs": [],
   "source": [
    "timutc = timnow.utcnow()"
   ]
  },
  {
   "cell_type": "code",
   "execution_count": null,
   "metadata": {
    "collapsed": true
   },
   "outputs": [],
   "source": []
  },
  {
   "cell_type": "code",
   "execution_count": 91,
   "metadata": {
    "collapsed": false
   },
   "outputs": [
    {
     "data": {
      "text/plain": [
       "1"
      ]
     },
     "execution_count": 91,
     "metadata": {},
     "output_type": "execute_result"
    }
   ],
   "source": [
    "timnow.weekday()"
   ]
  },
  {
   "cell_type": "code",
   "execution_count": 92,
   "metadata": {
    "collapsed": false
   },
   "outputs": [
    {
     "data": {
      "text/plain": [
       "datetime.timedelta(0, 3600)"
      ]
     },
     "execution_count": 92,
     "metadata": {},
     "output_type": "execute_result"
    }
   ],
   "source": [
    "timnow.dst()"
   ]
  },
  {
   "cell_type": "code",
   "execution_count": 93,
   "metadata": {
    "collapsed": false
   },
   "outputs": [
    {
     "data": {
      "text/plain": [
       "'Tue Oct 11 02:34:18 2016'"
      ]
     },
     "execution_count": 93,
     "metadata": {},
     "output_type": "execute_result"
    }
   ],
   "source": [
    "timnow.ctime()"
   ]
  },
  {
   "cell_type": "code",
   "execution_count": 95,
   "metadata": {
    "collapsed": false
   },
   "outputs": [
    {
     "data": {
      "text/plain": [
       "<function arrow.util._total_seconds_27>"
      ]
     },
     "execution_count": 95,
     "metadata": {},
     "output_type": "execute_result"
    }
   ],
   "source": [
    "arrow.util.total_seconds"
   ]
  },
  {
   "cell_type": "code",
   "execution_count": 96,
   "metadata": {
    "collapsed": false
   },
   "outputs": [
    {
     "data": {
      "text/plain": [
       "<function arrow.api.factory>"
      ]
     },
     "execution_count": 96,
     "metadata": {},
     "output_type": "execute_result"
    }
   ],
   "source": [
    "arrow.api.factory"
   ]
  },
  {
   "cell_type": "code",
   "execution_count": 97,
   "metadata": {
    "collapsed": false
   },
   "outputs": [],
   "source": [
    "artz = arrow.factory.tzinfo(timutc)"
   ]
  },
  {
   "cell_type": "code",
   "execution_count": 99,
   "metadata": {
    "collapsed": false
   },
   "outputs": [],
   "source": [
    "calcsee= arrow.locales.calendar.HTMLCalendar()"
   ]
  },
  {
   "cell_type": "code",
   "execution_count": 100,
   "metadata": {
    "collapsed": false
   },
   "outputs": [
    {
     "data": {
      "text/plain": [
       "'<table border=\"0\" cellpadding=\"0\" cellspacing=\"0\" class=\"month\">\\n<tr><th colspan=\"7\" class=\"month\">May 2016</th></tr>\\n<tr><th class=\"mon\">Mon</th><th class=\"tue\">Tue</th><th class=\"wed\">Wed</th><th class=\"thu\">Thu</th><th class=\"fri\">Fri</th><th class=\"sat\">Sat</th><th class=\"sun\">Sun</th></tr>\\n<tr><td class=\"noday\">&nbsp;</td><td class=\"noday\">&nbsp;</td><td class=\"noday\">&nbsp;</td><td class=\"noday\">&nbsp;</td><td class=\"noday\">&nbsp;</td><td class=\"noday\">&nbsp;</td><td class=\"sun\">1</td></tr>\\n<tr><td class=\"mon\">2</td><td class=\"tue\">3</td><td class=\"wed\">4</td><td class=\"thu\">5</td><td class=\"fri\">6</td><td class=\"sat\">7</td><td class=\"sun\">8</td></tr>\\n<tr><td class=\"mon\">9</td><td class=\"tue\">10</td><td class=\"wed\">11</td><td class=\"thu\">12</td><td class=\"fri\">13</td><td class=\"sat\">14</td><td class=\"sun\">15</td></tr>\\n<tr><td class=\"mon\">16</td><td class=\"tue\">17</td><td class=\"wed\">18</td><td class=\"thu\">19</td><td class=\"fri\">20</td><td class=\"sat\">21</td><td class=\"sun\">22</td></tr>\\n<tr><td class=\"mon\">23</td><td class=\"tue\">24</td><td class=\"wed\">25</td><td class=\"thu\">26</td><td class=\"fri\">27</td><td class=\"sat\">28</td><td class=\"sun\">29</td></tr>\\n<tr><td class=\"mon\">30</td><td class=\"tue\">31</td><td class=\"noday\">&nbsp;</td><td class=\"noday\">&nbsp;</td><td class=\"noday\">&nbsp;</td><td class=\"noday\">&nbsp;</td><td class=\"noday\">&nbsp;</td></tr>\\n</table>\\n'"
      ]
     },
     "execution_count": 100,
     "metadata": {},
     "output_type": "execute_result"
    }
   ],
   "source": [
    "calcsee.formatmonth(2016, 5)"
   ]
  },
  {
   "cell_type": "code",
   "execution_count": 101,
   "metadata": {
    "collapsed": false
   },
   "outputs": [],
   "source": [
    "arnow = arrow.now()"
   ]
  },
  {
   "cell_type": "code",
   "execution_count": 102,
   "metadata": {
    "collapsed": false
   },
   "outputs": [],
   "source": [
    "dayweekz = arnow.weekday()"
   ]
  },
  {
   "cell_type": "code",
   "execution_count": 103,
   "metadata": {
    "collapsed": false
   },
   "outputs": [
    {
     "data": {
      "text/plain": [
       "1"
      ]
     },
     "execution_count": 103,
     "metadata": {},
     "output_type": "execute_result"
    }
   ],
   "source": [
    "dayweekz"
   ]
  },
  {
   "cell_type": "code",
   "execution_count": 104,
   "metadata": {
    "collapsed": false
   },
   "outputs": [
    {
     "data": {
      "text/plain": [
       "0"
      ]
     },
     "execution_count": 104,
     "metadata": {},
     "output_type": "execute_result"
    }
   ],
   "source": [
    "calcsee.getfirstweekday()"
   ]
  },
  {
   "cell_type": "code",
   "execution_count": 105,
   "metadata": {
    "collapsed": false
   },
   "outputs": [
    {
     "data": {
      "text/plain": [
       "0"
      ]
     },
     "execution_count": 105,
     "metadata": {},
     "output_type": "execute_result"
    }
   ],
   "source": [
    "calcsee.getfirstweekday()"
   ]
  },
  {
   "cell_type": "code",
   "execution_count": 109,
   "metadata": {
    "collapsed": false
   },
   "outputs": [
    {
     "data": {
      "text/plain": [
       "'35'"
      ]
     },
     "execution_count": 109,
     "metadata": {},
     "output_type": "execute_result"
    }
   ],
   "source": [
    "arnow.strftime('%M')"
   ]
  },
  {
   "cell_type": "code",
   "execution_count": 110,
   "metadata": {
    "collapsed": false
   },
   "outputs": [
    {
     "data": {
      "text/plain": [
       "'10'"
      ]
     },
     "execution_count": 110,
     "metadata": {},
     "output_type": "execute_result"
    }
   ],
   "source": [
    "arnow.strftime('%m')"
   ]
  },
  {
   "cell_type": "code",
   "execution_count": 111,
   "metadata": {
    "collapsed": false
   },
   "outputs": [
    {
     "data": {
      "text/plain": [
       "'2016 10'"
      ]
     },
     "execution_count": 111,
     "metadata": {},
     "output_type": "execute_result"
    }
   ],
   "source": [
    "arnow.strftime('%Y %m')"
   ]
  },
  {
   "cell_type": "code",
   "execution_count": null,
   "metadata": {
    "collapsed": true
   },
   "outputs": [],
   "source": []
  },
  {
   "cell_type": "code",
   "execution_count": 112,
   "metadata": {
    "collapsed": false
   },
   "outputs": [],
   "source": [
    "yrints = int(arnow.strftime('%Y'))"
   ]
  },
  {
   "cell_type": "code",
   "execution_count": 113,
   "metadata": {
    "collapsed": false
   },
   "outputs": [
    {
     "data": {
      "text/plain": [
       "2016"
      ]
     },
     "execution_count": 113,
     "metadata": {},
     "output_type": "execute_result"
    }
   ],
   "source": [
    "yrints"
   ]
  },
  {
   "cell_type": "code",
   "execution_count": 114,
   "metadata": {
    "collapsed": false
   },
   "outputs": [],
   "source": [
    "mondayfor = int(arnow.strftime('%m'))"
   ]
  },
  {
   "cell_type": "code",
   "execution_count": 115,
   "metadata": {
    "collapsed": false
   },
   "outputs": [
    {
     "data": {
      "text/plain": [
       "10"
      ]
     },
     "execution_count": 115,
     "metadata": {},
     "output_type": "execute_result"
    }
   ],
   "source": [
    "mondayfor"
   ]
  },
  {
   "cell_type": "code",
   "execution_count": 116,
   "metadata": {
    "collapsed": true
   },
   "outputs": [],
   "source": [
    "daydatye = int(arnow.strftime('%d'))"
   ]
  },
  {
   "cell_type": "code",
   "execution_count": 117,
   "metadata": {
    "collapsed": false
   },
   "outputs": [
    {
     "data": {
      "text/plain": [
       "11"
      ]
     },
     "execution_count": 117,
     "metadata": {},
     "output_type": "execute_result"
    }
   ],
   "source": [
    "daydatye"
   ]
  },
  {
   "cell_type": "code",
   "execution_count": 118,
   "metadata": {
    "collapsed": false
   },
   "outputs": [
    {
     "data": {
      "text/plain": [
       "'<td class=\"tue\">2016</td>'"
      ]
     },
     "execution_count": 118,
     "metadata": {},
     "output_type": "execute_result"
    }
   ],
   "source": [
    "calcsee.formatday(2016, 1)"
   ]
  },
  {
   "cell_type": "code",
   "execution_count": 120,
   "metadata": {
    "collapsed": false
   },
   "outputs": [],
   "source": [
    "panread = pandas.read_html(calcsee.formatmonth(yrints, mondayfor))"
   ]
  },
  {
   "cell_type": "code",
   "execution_count": 121,
   "metadata": {
    "collapsed": false
   },
   "outputs": [
    {
     "data": {
      "text/html": [
       "<div style=\"max-height:1000px;max-width:1500px;overflow:auto;\">\n",
       "<table border=\"1\" class=\"dataframe\">\n",
       "  <thead>\n",
       "    <tr style=\"text-align: right;\">\n",
       "      <th></th>\n",
       "      <th>0</th>\n",
       "      <th>1</th>\n",
       "      <th>2</th>\n",
       "      <th>3</th>\n",
       "      <th>4</th>\n",
       "      <th>5</th>\n",
       "      <th>6</th>\n",
       "    </tr>\n",
       "  </thead>\n",
       "  <tbody>\n",
       "    <tr>\n",
       "      <th>0</th>\n",
       "      <td>2016-10-11</td>\n",
       "      <td>       NaT</td>\n",
       "      <td>       NaT</td>\n",
       "      <td>       NaT</td>\n",
       "      <td>       NaT</td>\n",
       "      <td>       NaT</td>\n",
       "      <td>       NaT</td>\n",
       "    </tr>\n",
       "    <tr>\n",
       "      <th>1</th>\n",
       "      <td>2016-10-17</td>\n",
       "      <td>2016-10-11</td>\n",
       "      <td>2016-10-12</td>\n",
       "      <td>2016-10-13</td>\n",
       "      <td>2016-10-14</td>\n",
       "      <td>2016-10-15</td>\n",
       "      <td>2016-10-16</td>\n",
       "    </tr>\n",
       "    <tr>\n",
       "      <th>2</th>\n",
       "      <td>       NaT</td>\n",
       "      <td>       NaT</td>\n",
       "      <td>       NaT</td>\n",
       "      <td>       NaT</td>\n",
       "      <td>       NaT</td>\n",
       "      <td>       NaT</td>\n",
       "      <td>       NaT</td>\n",
       "    </tr>\n",
       "    <tr>\n",
       "      <th>3</th>\n",
       "      <td>       NaT</td>\n",
       "      <td>       NaT</td>\n",
       "      <td>       NaT</td>\n",
       "      <td>       NaT</td>\n",
       "      <td>       NaT</td>\n",
       "      <td>       NaT</td>\n",
       "      <td>       NaT</td>\n",
       "    </tr>\n",
       "    <tr>\n",
       "      <th>4</th>\n",
       "      <td>       NaT</td>\n",
       "      <td>       NaT</td>\n",
       "      <td>       NaT</td>\n",
       "      <td>       NaT</td>\n",
       "      <td>       NaT</td>\n",
       "      <td>       NaT</td>\n",
       "      <td>       NaT</td>\n",
       "    </tr>\n",
       "    <tr>\n",
       "      <th>5</th>\n",
       "      <td>       NaT</td>\n",
       "      <td>       NaT</td>\n",
       "      <td>       NaT</td>\n",
       "      <td>       NaT</td>\n",
       "      <td>       NaT</td>\n",
       "      <td>       NaT</td>\n",
       "      <td>       NaT</td>\n",
       "    </tr>\n",
       "    <tr>\n",
       "      <th>6</th>\n",
       "      <td>       NaT</td>\n",
       "      <td>       NaT</td>\n",
       "      <td>       NaT</td>\n",
       "      <td>       NaT</td>\n",
       "      <td>       NaT</td>\n",
       "      <td>       NaT</td>\n",
       "      <td>       NaT</td>\n",
       "    </tr>\n",
       "    <tr>\n",
       "      <th>7</th>\n",
       "      <td>       NaT</td>\n",
       "      <td>       NaT</td>\n",
       "      <td>       NaT</td>\n",
       "      <td>       NaT</td>\n",
       "      <td>       NaT</td>\n",
       "      <td>       NaT</td>\n",
       "      <td>       NaT</td>\n",
       "    </tr>\n",
       "  </tbody>\n",
       "</table>\n",
       "</div>"
      ],
      "text/plain": [
       "           0          1          2          3          4          5          6\n",
       "0 2016-10-11        NaT        NaT        NaT        NaT        NaT        NaT\n",
       "1 2016-10-17 2016-10-11 2016-10-12 2016-10-13 2016-10-14 2016-10-15 2016-10-16\n",
       "2        NaT        NaT        NaT        NaT        NaT        NaT        NaT\n",
       "3        NaT        NaT        NaT        NaT        NaT        NaT        NaT\n",
       "4        NaT        NaT        NaT        NaT        NaT        NaT        NaT\n",
       "5        NaT        NaT        NaT        NaT        NaT        NaT        NaT\n",
       "6        NaT        NaT        NaT        NaT        NaT        NaT        NaT\n",
       "7        NaT        NaT        NaT        NaT        NaT        NaT        NaT"
      ]
     },
     "execution_count": 121,
     "metadata": {},
     "output_type": "execute_result"
    }
   ],
   "source": [
    "panread[0]"
   ]
  },
  {
   "cell_type": "code",
   "execution_count": 122,
   "metadata": {
    "collapsed": false
   },
   "outputs": [
    {
     "data": {
      "text/plain": [
       "'<table border=\"0\" cellpadding=\"0\" cellspacing=\"0\" class=\"month\">\\n<tr><th colspan=\"7\" class=\"month\">October 2016</th></tr>\\n<tr><th class=\"mon\">Mon</th><th class=\"tue\">Tue</th><th class=\"wed\">Wed</th><th class=\"thu\">Thu</th><th class=\"fri\">Fri</th><th class=\"sat\">Sat</th><th class=\"sun\">Sun</th></tr>\\n<tr><td class=\"noday\">&nbsp;</td><td class=\"noday\">&nbsp;</td><td class=\"noday\">&nbsp;</td><td class=\"noday\">&nbsp;</td><td class=\"noday\">&nbsp;</td><td class=\"sat\">1</td><td class=\"sun\">2</td></tr>\\n<tr><td class=\"mon\">3</td><td class=\"tue\">4</td><td class=\"wed\">5</td><td class=\"thu\">6</td><td class=\"fri\">7</td><td class=\"sat\">8</td><td class=\"sun\">9</td></tr>\\n<tr><td class=\"mon\">10</td><td class=\"tue\">11</td><td class=\"wed\">12</td><td class=\"thu\">13</td><td class=\"fri\">14</td><td class=\"sat\">15</td><td class=\"sun\">16</td></tr>\\n<tr><td class=\"mon\">17</td><td class=\"tue\">18</td><td class=\"wed\">19</td><td class=\"thu\">20</td><td class=\"fri\">21</td><td class=\"sat\">22</td><td class=\"sun\">23</td></tr>\\n<tr><td class=\"mon\">24</td><td class=\"tue\">25</td><td class=\"wed\">26</td><td class=\"thu\">27</td><td class=\"fri\">28</td><td class=\"sat\">29</td><td class=\"sun\">30</td></tr>\\n<tr><td class=\"mon\">31</td><td class=\"noday\">&nbsp;</td><td class=\"noday\">&nbsp;</td><td class=\"noday\">&nbsp;</td><td class=\"noday\">&nbsp;</td><td class=\"noday\">&nbsp;</td><td class=\"noday\">&nbsp;</td></tr>\\n</table>\\n'"
      ]
     },
     "execution_count": 122,
     "metadata": {},
     "output_type": "execute_result"
    }
   ],
   "source": [
    "calcsee.formatmonth(yrints, mondayfor)"
   ]
  },
  {
   "cell_type": "code",
   "execution_count": 125,
   "metadata": {
    "collapsed": true
   },
   "outputs": [],
   "source": [
    "import os"
   ]
  },
  {
   "cell_type": "code",
   "execution_count": 126,
   "metadata": {
    "collapsed": true
   },
   "outputs": [],
   "source": [
    "import random"
   ]
  },
  {
   "cell_type": "code",
   "execution_count": null,
   "metadata": {
    "collapsed": true
   },
   "outputs": [],
   "source": []
  },
  {
   "cell_type": "code",
   "execution_count": 127,
   "metadata": {
    "collapsed": false
   },
   "outputs": [],
   "source": [
    "calcday = calcsee.cssclasses"
   ]
  },
  {
   "cell_type": "code",
   "execution_count": 128,
   "metadata": {
    "collapsed": false
   },
   "outputs": [
    {
     "data": {
      "text/plain": [
       "['mon', 'tue', 'wed', 'thu', 'fri', 'sat', 'sun']"
      ]
     },
     "execution_count": 128,
     "metadata": {},
     "output_type": "execute_result"
    }
   ],
   "source": [
    "calcday"
   ]
  },
  {
   "cell_type": "code",
   "execution_count": 129,
   "metadata": {
    "collapsed": true
   },
   "outputs": [],
   "source": [
    "calcfulday = ['Monday', 'Tuesday', 'Wednesday', 'Thursday', 'Friday', 'Saturday', 'Sunday']"
   ]
  },
  {
   "cell_type": "code",
   "execution_count": 130,
   "metadata": {
    "collapsed": false
   },
   "outputs": [
    {
     "data": {
      "text/plain": [
       "7"
      ]
     },
     "execution_count": 130,
     "metadata": {},
     "output_type": "execute_result"
    }
   ],
   "source": [
    "len(calcfulday)"
   ]
  },
  {
   "cell_type": "code",
   "execution_count": null,
   "metadata": {
    "collapsed": true
   },
   "outputs": [],
   "source": []
  },
  {
   "cell_type": "code",
   "execution_count": 131,
   "metadata": {
    "collapsed": false
   },
   "outputs": [
    {
     "data": {
      "text/plain": [
       "'Friday'"
      ]
     },
     "execution_count": 131,
     "metadata": {},
     "output_type": "execute_result"
    }
   ],
   "source": [
    "random.choice(calcfulday)"
   ]
  },
  {
   "cell_type": "code",
   "execution_count": 132,
   "metadata": {
    "collapsed": false
   },
   "outputs": [
    {
     "data": {
      "text/plain": [
       "1"
      ]
     },
     "execution_count": 132,
     "metadata": {},
     "output_type": "execute_result"
    }
   ],
   "source": [
    "dayweekz"
   ]
  },
  {
   "cell_type": "code",
   "execution_count": 133,
   "metadata": {
    "collapsed": false
   },
   "outputs": [
    {
     "data": {
      "text/plain": [
       "'Tuesday'"
      ]
     },
     "execution_count": 133,
     "metadata": {},
     "output_type": "execute_result"
    }
   ],
   "source": [
    "calcfulday[dayweekz]"
   ]
  },
  {
   "cell_type": "code",
   "execution_count": null,
   "metadata": {
    "collapsed": true
   },
   "outputs": [],
   "source": []
  },
  {
   "cell_type": "code",
   "execution_count": 134,
   "metadata": {
    "collapsed": false
   },
   "outputs": [
    {
     "name": "stdout",
     "output_type": "stream",
     "text": [
      "tue\n"
     ]
    }
   ],
   "source": [
    "print(calcday[dayweekz])"
   ]
  },
  {
   "cell_type": "code",
   "execution_count": 136,
   "metadata": {
    "collapsed": false
   },
   "outputs": [
    {
     "data": {
      "text/plain": [
       "'tue'"
      ]
     },
     "execution_count": 136,
     "metadata": {},
     "output_type": "execute_result"
    }
   ],
   "source": [
    "random.choice(calcday)"
   ]
  },
  {
   "cell_type": "code",
   "execution_count": null,
   "metadata": {
    "collapsed": true
   },
   "outputs": [],
   "source": []
  },
  {
   "cell_type": "code",
   "execution_count": 137,
   "metadata": {
    "collapsed": false
   },
   "outputs": [
    {
     "data": {
      "text/plain": [
       "0"
      ]
     },
     "execution_count": 137,
     "metadata": {},
     "output_type": "execute_result"
    }
   ],
   "source": [
    "calcsee.firstweekday"
   ]
  },
  {
   "cell_type": "code",
   "execution_count": 138,
   "metadata": {
    "collapsed": false
   },
   "outputs": [
    {
     "data": {
      "text/plain": [
       "<bound method HTMLCalendar.formatday of <calendar.HTMLCalendar object at 0xaeee90d0>>"
      ]
     },
     "execution_count": 138,
     "metadata": {},
     "output_type": "execute_result"
    }
   ],
   "source": [
    "calcsee.formatday"
   ]
  },
  {
   "cell_type": "code",
   "execution_count": 139,
   "metadata": {
    "collapsed": false
   },
   "outputs": [
    {
     "data": {
      "text/plain": [
       "<bound method HTMLCalendar.formatmonth of <calendar.HTMLCalendar object at 0xaeee90d0>>"
      ]
     },
     "execution_count": 139,
     "metadata": {},
     "output_type": "execute_result"
    }
   ],
   "source": [
    "calcsee.formatmonth"
   ]
  },
  {
   "cell_type": "code",
   "execution_count": 140,
   "metadata": {
    "collapsed": false
   },
   "outputs": [
    {
     "ename": "SyntaxError",
     "evalue": "invalid syntax (<ipython-input-140-511f2c07e020>, line 1)",
     "output_type": "error",
     "traceback": [
      "\u001b[1;36m  File \u001b[1;32m\"<ipython-input-140-511f2c07e020>\"\u001b[1;36m, line \u001b[1;32m1\u001b[0m\n\u001b[1;33m    calcsee.\u001b[0m\n\u001b[1;37m            ^\u001b[0m\n\u001b[1;31mSyntaxError\u001b[0m\u001b[1;31m:\u001b[0m invalid syntax\n"
     ]
    }
   ],
   "source": [
    "calcsee."
   ]
  },
  {
   "cell_type": "code",
   "execution_count": 141,
   "metadata": {
    "collapsed": false
   },
   "outputs": [
    {
     "data": {
      "text/plain": [
       "'qwe'"
      ]
     },
     "execution_count": 141,
     "metadata": {},
     "output_type": "execute_result"
    }
   ],
   "source": [
    "passwrdz"
   ]
  },
  {
   "cell_type": "code",
   "execution_count": 142,
   "metadata": {
    "collapsed": false
   },
   "outputs": [
    {
     "data": {
      "text/plain": [
       "<bound method Fernet.encrypt of <cryptography.fernet.Fernet object at 0xaeff4f50>>"
      ]
     },
     "execution_count": 142,
     "metadata": {},
     "output_type": "execute_result"
    }
   ],
   "source": [
    "f.encrypt"
   ]
  },
  {
   "cell_type": "code",
   "execution_count": 143,
   "metadata": {
    "collapsed": false
   },
   "outputs": [
    {
     "ename": "TypeError",
     "evalue": "data must be bytes.",
     "output_type": "error",
     "traceback": [
      "\u001b[1;31m---------------------------------------------------------------------------\u001b[0m",
      "\u001b[1;31mTypeError\u001b[0m                                 Traceback (most recent call last)",
      "\u001b[1;32m<ipython-input-143-6d6ff1800471>\u001b[0m in \u001b[0;36m<module>\u001b[1;34m()\u001b[0m\n\u001b[1;32m----> 1\u001b[1;33m \u001b[0mtoken\u001b[0m \u001b[1;33m=\u001b[0m \u001b[0mf\u001b[0m\u001b[1;33m.\u001b[0m\u001b[0mencrypt\u001b[0m\u001b[1;33m(\u001b[0m\u001b[0mpasswrdz\u001b[0m\u001b[1;33m)\u001b[0m\u001b[1;33m\u001b[0m\u001b[0m\n\u001b[0m",
      "\u001b[1;32m/usr/lib/python3/dist-packages/cryptography/fernet.py\u001b[0m in \u001b[0;36mencrypt\u001b[1;34m(self, data)\u001b[0m\n\u001b[0;32m     58\u001b[0m         \u001b[0mcurrent_time\u001b[0m \u001b[1;33m=\u001b[0m \u001b[0mint\u001b[0m\u001b[1;33m(\u001b[0m\u001b[0mtime\u001b[0m\u001b[1;33m.\u001b[0m\u001b[0mtime\u001b[0m\u001b[1;33m(\u001b[0m\u001b[1;33m)\u001b[0m\u001b[1;33m)\u001b[0m\u001b[1;33m\u001b[0m\u001b[0m\n\u001b[0;32m     59\u001b[0m         \u001b[0miv\u001b[0m \u001b[1;33m=\u001b[0m \u001b[0mos\u001b[0m\u001b[1;33m.\u001b[0m\u001b[0murandom\u001b[0m\u001b[1;33m(\u001b[0m\u001b[1;36m16\u001b[0m\u001b[1;33m)\u001b[0m\u001b[1;33m\u001b[0m\u001b[0m\n\u001b[1;32m---> 60\u001b[1;33m         \u001b[1;32mreturn\u001b[0m \u001b[0mself\u001b[0m\u001b[1;33m.\u001b[0m\u001b[0m_encrypt_from_parts\u001b[0m\u001b[1;33m(\u001b[0m\u001b[0mdata\u001b[0m\u001b[1;33m,\u001b[0m \u001b[0mcurrent_time\u001b[0m\u001b[1;33m,\u001b[0m \u001b[0miv\u001b[0m\u001b[1;33m)\u001b[0m\u001b[1;33m\u001b[0m\u001b[0m\n\u001b[0m\u001b[0;32m     61\u001b[0m \u001b[1;33m\u001b[0m\u001b[0m\n\u001b[0;32m     62\u001b[0m     \u001b[1;32mdef\u001b[0m \u001b[0m_encrypt_from_parts\u001b[0m\u001b[1;33m(\u001b[0m\u001b[0mself\u001b[0m\u001b[1;33m,\u001b[0m \u001b[0mdata\u001b[0m\u001b[1;33m,\u001b[0m \u001b[0mcurrent_time\u001b[0m\u001b[1;33m,\u001b[0m \u001b[0miv\u001b[0m\u001b[1;33m)\u001b[0m\u001b[1;33m:\u001b[0m\u001b[1;33m\u001b[0m\u001b[0m\n",
      "\u001b[1;32m/usr/lib/python3/dist-packages/cryptography/fernet.py\u001b[0m in \u001b[0;36m_encrypt_from_parts\u001b[1;34m(self, data, current_time, iv)\u001b[0m\n\u001b[0;32m     62\u001b[0m     \u001b[1;32mdef\u001b[0m \u001b[0m_encrypt_from_parts\u001b[0m\u001b[1;33m(\u001b[0m\u001b[0mself\u001b[0m\u001b[1;33m,\u001b[0m \u001b[0mdata\u001b[0m\u001b[1;33m,\u001b[0m \u001b[0mcurrent_time\u001b[0m\u001b[1;33m,\u001b[0m \u001b[0miv\u001b[0m\u001b[1;33m)\u001b[0m\u001b[1;33m:\u001b[0m\u001b[1;33m\u001b[0m\u001b[0m\n\u001b[0;32m     63\u001b[0m         \u001b[1;32mif\u001b[0m \u001b[1;32mnot\u001b[0m \u001b[0misinstance\u001b[0m\u001b[1;33m(\u001b[0m\u001b[0mdata\u001b[0m\u001b[1;33m,\u001b[0m \u001b[0mbytes\u001b[0m\u001b[1;33m)\u001b[0m\u001b[1;33m:\u001b[0m\u001b[1;33m\u001b[0m\u001b[0m\n\u001b[1;32m---> 64\u001b[1;33m             \u001b[1;32mraise\u001b[0m \u001b[0mTypeError\u001b[0m\u001b[1;33m(\u001b[0m\u001b[1;34m\"data must be bytes.\"\u001b[0m\u001b[1;33m)\u001b[0m\u001b[1;33m\u001b[0m\u001b[0m\n\u001b[0m\u001b[0;32m     65\u001b[0m \u001b[1;33m\u001b[0m\u001b[0m\n\u001b[0;32m     66\u001b[0m         \u001b[0mpadder\u001b[0m \u001b[1;33m=\u001b[0m \u001b[0mpadding\u001b[0m\u001b[1;33m.\u001b[0m\u001b[0mPKCS7\u001b[0m\u001b[1;33m(\u001b[0m\u001b[0malgorithms\u001b[0m\u001b[1;33m.\u001b[0m\u001b[0mAES\u001b[0m\u001b[1;33m.\u001b[0m\u001b[0mblock_size\u001b[0m\u001b[1;33m)\u001b[0m\u001b[1;33m.\u001b[0m\u001b[0mpadder\u001b[0m\u001b[1;33m(\u001b[0m\u001b[1;33m)\u001b[0m\u001b[1;33m\u001b[0m\u001b[0m\n",
      "\u001b[1;31mTypeError\u001b[0m: data must be bytes."
     ]
    }
   ],
   "source": [
    "token = f.encrypt(passwrdz)"
   ]
  },
  {
   "cell_type": "code",
   "execution_count": 144,
   "metadata": {
    "collapsed": true
   },
   "outputs": [],
   "source": [
    "import hashlib"
   ]
  },
  {
   "cell_type": "code",
   "execution_count": 145,
   "metadata": {
    "collapsed": false
   },
   "outputs": [
    {
     "name": "stdout",
     "output_type": "stream",
     "text": [
      "{'SHA1', 'MD5', 'sha', 'sha1', 'MD4', 'SHA', 'SHA384', 'dsaWithSHA', 'whirlpool', 'sha224', 'md5', 'ripemd160', 'ecdsa-with-SHA1', 'sha512', 'SHA512', 'SHA224', 'SHA256', 'sha256', 'sha384', 'md4', 'DSA-SHA', 'dsaEncryption', 'DSA', 'RIPEMD160'}\n",
      "{'sha512', 'sha1', 'sha256', 'sha384', 'sha224', 'md5'}\n"
     ]
    }
   ],
   "source": [
    "print(hashlib.algorithms_available)\n",
    "print(hashlib.algorithms_guaranteed)"
   ]
  },
  {
   "cell_type": "code",
   "execution_count": 146,
   "metadata": {
    "collapsed": false
   },
   "outputs": [
    {
     "name": "stdout",
     "output_type": "stream",
     "text": [
      "b5ba77af1f7bda735894e746a199acb1d2c836424da2fc46bebb55423dccbff871877a30fab77a31e47b0a29ea0154882e532e9a29b220a8f2958773313bbb2a\n"
     ]
    }
   ],
   "source": [
    "#mystring = input('Enter String to hash: ')\n",
    "# Assumes the default UTF-8\n",
    "hash_object = hashlib.sha512(passwrdz.encode())\n",
    "print(hash_object.hexdigest())"
   ]
  },
  {
   "cell_type": "code",
   "execution_count": 147,
   "metadata": {
    "collapsed": false
   },
   "outputs": [
    {
     "name": "stdout",
     "output_type": "stream",
     "text": [
      "sha512\n"
     ]
    }
   ],
   "source": [
    "print(hash_object.name)"
   ]
  },
  {
   "cell_type": "code",
   "execution_count": 148,
   "metadata": {
    "collapsed": false
   },
   "outputs": [
    {
     "name": "stdout",
     "output_type": "stream",
     "text": [
      "128\n"
     ]
    }
   ],
   "source": [
    "print(hash_object.block_size)"
   ]
  },
  {
   "cell_type": "code",
   "execution_count": 149,
   "metadata": {
    "collapsed": true
   },
   "outputs": [],
   "source": [
    "import subprocess"
   ]
  },
  {
   "cell_type": "code",
   "execution_count": null,
   "metadata": {
    "collapsed": false
   },
   "outputs": [],
   "source": [
    "tempchec = subprocess.check_output([\"/opt/vc/bin/vcgencmd\", \"measure_temp\"])"
   ]
  },
  {
   "cell_type": "code",
   "execution_count": null,
   "metadata": {
    "collapsed": false
   },
   "outputs": [],
   "source": [
    "print(float(tempchec.split(‘=’)[1][:-3]))"
   ]
  },
  {
   "cell_type": "code",
   "execution_count": null,
   "metadata": {
    "collapsed": false
   },
   "outputs": [],
   "source": [
    "tempchec"
   ]
  },
  {
   "cell_type": "code",
   "execution_count": null,
   "metadata": {
    "collapsed": true
   },
   "outputs": [],
   "source": []
  },
  {
   "cell_type": "code",
   "execution_count": null,
   "metadata": {
    "collapsed": true
   },
   "outputs": [],
   "source": []
  },
  {
   "cell_type": "code",
   "execution_count": null,
   "metadata": {
    "collapsed": true
   },
   "outputs": [],
   "source": []
  },
  {
   "cell_type": "code",
   "execution_count": null,
   "metadata": {
    "collapsed": true
   },
   "outputs": [],
   "source": []
  },
  {
   "cell_type": "code",
   "execution_count": null,
   "metadata": {
    "collapsed": true
   },
   "outputs": [],
   "source": [
    "subprocess.check_output(o)"
   ]
  },
  {
   "cell_type": "code",
   "execution_count": null,
   "metadata": {
    "collapsed": false
   },
   "outputs": [],
   "source": [
    "s = subprocess.check_output([“/opt/vc/bin/vcgencmd”,”measure_temp”])\n",
    "print(float(s.split(‘=’)[1][:-3]))"
   ]
  },
  {
   "cell_type": "code",
   "execution_count": 152,
   "metadata": {
    "collapsed": false
   },
   "outputs": [
    {
     "data": {
      "text/plain": [
       "'127.0.0.1'"
      ]
     },
     "execution_count": 152,
     "metadata": {},
     "output_type": "execute_result"
    }
   ],
   "source": [
    "import socket\n",
    "socket.gethostbyname(socket.gethostname())"
   ]
  },
  {
   "cell_type": "code",
   "execution_count": 153,
   "metadata": {
    "collapsed": false
   },
   "outputs": [
    {
     "data": {
      "text/plain": [
       "'localhost'"
      ]
     },
     "execution_count": 153,
     "metadata": {},
     "output_type": "execute_result"
    }
   ],
   "source": [
    "socket.gethostname()"
   ]
  },
  {
   "cell_type": "code",
   "execution_count": 154,
   "metadata": {
    "collapsed": true
   },
   "outputs": [],
   "source": [
    "import socket\n",
    "\n",
    "s = socket.socket(socket.AF_INET, socket.SOCK_DGRAM)\n",
    "s.connect(('8.8.8.8', 0))  # connecting to a UDP address doesn't send packets\n",
    "local_ip_address = s.getsockname()[0]"
   ]
  },
  {
   "cell_type": "code",
   "execution_count": 155,
   "metadata": {
    "collapsed": false
   },
   "outputs": [
    {
     "data": {
      "text/plain": [
       "'192.168.1.7'"
      ]
     },
     "execution_count": 155,
     "metadata": {},
     "output_type": "execute_result"
    }
   ],
   "source": [
    "local_ip_address"
   ]
  },
  {
   "cell_type": "code",
   "execution_count": 156,
   "metadata": {
    "collapsed": false
   },
   "outputs": [
    {
     "data": {
      "text/plain": [
       "('192.168.1.7', 56084)"
      ]
     },
     "execution_count": 156,
     "metadata": {},
     "output_type": "execute_result"
    }
   ],
   "source": [
    "s.getsockname()"
   ]
  },
  {
   "cell_type": "code",
   "execution_count": null,
   "metadata": {
    "collapsed": true
   },
   "outputs": [],
   "source": []
  },
  {
   "cell_type": "code",
   "execution_count": 157,
   "metadata": {
    "collapsed": false
   },
   "outputs": [
    {
     "data": {
      "text/plain": [
       "('localhost', ['ip6-localhost', 'ip6-loopback'], ['::1'])"
      ]
     },
     "execution_count": 157,
     "metadata": {},
     "output_type": "execute_result"
    }
   ],
   "source": [
    "socket.gethostbyaddr(socket.gethostname())"
   ]
  },
  {
   "cell_type": "code",
   "execution_count": 160,
   "metadata": {
    "collapsed": false
   },
   "outputs": [
    {
     "data": {
      "text/plain": [
       "<function socket.getaddrinfo>"
      ]
     },
     "execution_count": 160,
     "metadata": {},
     "output_type": "execute_result"
    }
   ],
   "source": [
    "socket.getaddrinfo"
   ]
  },
  {
   "cell_type": "code",
   "execution_count": 161,
   "metadata": {
    "collapsed": false
   },
   "outputs": [],
   "source": [
    "subup = subprocess.check_output(['uptime'])"
   ]
  },
  {
   "cell_type": "code",
   "execution_count": 162,
   "metadata": {
    "collapsed": false
   },
   "outputs": [
    {
     "ename": "TypeError",
     "evalue": "Type str doesn't support the buffer API",
     "output_type": "error",
     "traceback": [
      "\u001b[1;31m---------------------------------------------------------------------------\u001b[0m",
      "\u001b[1;31mTypeError\u001b[0m                                 Traceback (most recent call last)",
      "\u001b[1;32m<ipython-input-162-156caad8bd35>\u001b[0m in \u001b[0;36m<module>\u001b[1;34m()\u001b[0m\n\u001b[1;32m----> 1\u001b[1;33m \u001b[0mloaspli\u001b[0m \u001b[1;33m=\u001b[0m \u001b[0msubup\u001b[0m\u001b[1;33m.\u001b[0m\u001b[0msplit\u001b[0m\u001b[1;33m(\u001b[0m\u001b[1;34m'load average: '\u001b[0m\u001b[1;33m)\u001b[0m\u001b[1;33m\u001b[0m\u001b[0m\n\u001b[0m",
      "\u001b[1;31mTypeError\u001b[0m: Type str doesn't support the buffer API"
     ]
    }
   ],
   "source": [
    "loaspli = subup.split('load average: ')"
   ]
  },
  {
   "cell_type": "code",
   "execution_count": null,
   "metadata": {
    "collapsed": true
   },
   "outputs": [],
   "source": []
  },
  {
   "cell_type": "code",
   "execution_count": 163,
   "metadata": {
    "collapsed": false
   },
   "outputs": [
    {
     "data": {
      "text/plain": [
       "'\\nimport os\\nimport subprocess\\n\\nBAT_PATH = \"/proc/acpi/battery/BAT%d\"\\n\\n\\ndef get_full_charge(batt_path):\\n    \"\"\"Get the max capacity of the battery\\n\\n    :param batt_path: The dir path to the battery (acpi) processes\\n    :type batt_path: string\\n    :returns: The max capacity of the battery\\n    :rtype: int\\n    \"\"\"\\n    p1 = subprocess.Popen([\"grep\",\\n                            \"last full capacity\",\\n                            batt_path + \"/info\"],\\n                         stdout=subprocess.PIPE)\\n    p2 = subprocess.Popen([\"awk\",\\n                            \"{print $4}\"],\\n                            stdin=p1.stdout,\\n                            stdout=subprocess.PIPE)\\n    p1.stdout.close()\\n    return int(p2.communicate()[0])\\n\\n\\ndef get_current_charge(batt_path):\\n    \"\"\"Get the current capacity of the battery\\n\\n    :param batt_path: The dir path to the battery (acpi) processes\\n    :type batt_path: string\\n    :returns: The current capacity of the battery\\n    :rtype: int\\n    \"\"\"\\n    p1 = subprocess.Popen([\"grep\",\\n                            \"remaining capacity\",\\n                            batt_path + \"/state\"],\\n                         stdout=subprocess.PIPE)\\n    p2 = subprocess.Popen([\"awk\",\\n                            \"{print $3}\"],\\n                            stdin=p1.stdout,\\n                            stdout=subprocess.PIPE)\\n    p1.stdout.close()\\n    return int(p2.communicate()[0])\\n\\n\\ndef guess_battery_path():\\n    \"\"\"Gets the path of the battery (BAT0, BAT1...)\\n\\n    :returns: The path to the battery acpi process information\\n    :rtype: string\\n    \"\"\"\\n    i = 0\\n    while True:\\n        if os.path.exists(BAT_PATH % i):\\n            return BAT_PATH % i\\n        i += 1\\n\\n\\ndef is_plugged(batt_path):\\n    \"\"\"Returns a flag saying if the battery is plugged in or not\\n\\n    :param batt_path: The dir path to the battery (acpi) processes\\n    :type batt_path: string\\n    :returns: A flag, true is plugged, false unplugged\\n    :rtype: bool\\n    \"\"\"\\n    p = subprocess.Popen([\"grep\",\\n                            \"charging state\",\\n                            batt_path + \"/state\"],\\n                         stdout=subprocess.PIPE)\\n    return \"discharging\" not in p.communicate()[0]\\n\\n\\ndef get_battery_percent(batt_path):\\n    \"\"\"Calculates the percent of the battery based on the different data of\\n    the battery processes\\n\\n    :param batt_path: The dir path to the battery (acpi) processes\\n    :type batt_path: string\\n    :returns: The percent translation of the battery total and current capacity\\n    :rtype: int\\n    \"\"\"\\n\\n    return get_current_charge(batt_path) * 100 / get_full_charge(batt_path)\\n\\n\\ndef main():\\n    path = guess_battery_path()\\n    print(\"Current battery percent: %d\" % get_battery_percent(path))\\n    print(\"Plugged in\" if is_plugged(path) else \"Not plugged in\")\\n\\nif __name__ == \"__main__\":\\n    main()\\n'"
      ]
     },
     "execution_count": 163,
     "metadata": {},
     "output_type": "execute_result"
    }
   ],
   "source": [
    "'''\n",
    "import os\n",
    "import subprocess\n",
    "\n",
    "BAT_PATH = \"/proc/acpi/battery/BAT%d\"\n",
    "\n",
    "\n",
    "def get_full_charge(batt_path):\n",
    "    \"\"\"Get the max capacity of the battery\n",
    "\n",
    "    :param batt_path: The dir path to the battery (acpi) processes\n",
    "    :type batt_path: string\n",
    "    :returns: The max capacity of the battery\n",
    "    :rtype: int\n",
    "    \"\"\"\n",
    "    p1 = subprocess.Popen([\"grep\",\n",
    "                            \"last full capacity\",\n",
    "                            batt_path + \"/info\"],\n",
    "                         stdout=subprocess.PIPE)\n",
    "    p2 = subprocess.Popen([\"awk\",\n",
    "                            \"{print $4}\"],\n",
    "                            stdin=p1.stdout,\n",
    "                            stdout=subprocess.PIPE)\n",
    "    p1.stdout.close()\n",
    "    return int(p2.communicate()[0])\n",
    "\n",
    "\n",
    "def get_current_charge(batt_path):\n",
    "    \"\"\"Get the current capacity of the battery\n",
    "\n",
    "    :param batt_path: The dir path to the battery (acpi) processes\n",
    "    :type batt_path: string\n",
    "    :returns: The current capacity of the battery\n",
    "    :rtype: int\n",
    "    \"\"\"\n",
    "    p1 = subprocess.Popen([\"grep\",\n",
    "                            \"remaining capacity\",\n",
    "                            batt_path + \"/state\"],\n",
    "                         stdout=subprocess.PIPE)\n",
    "    p2 = subprocess.Popen([\"awk\",\n",
    "                            \"{print $3}\"],\n",
    "                            stdin=p1.stdout,\n",
    "                            stdout=subprocess.PIPE)\n",
    "    p1.stdout.close()\n",
    "    return int(p2.communicate()[0])\n",
    "\n",
    "\n",
    "def guess_battery_path():\n",
    "    \"\"\"Gets the path of the battery (BAT0, BAT1...)\n",
    "\n",
    "    :returns: The path to the battery acpi process information\n",
    "    :rtype: string\n",
    "    \"\"\"\n",
    "    i = 0\n",
    "    while True:\n",
    "        if os.path.exists(BAT_PATH % i):\n",
    "            return BAT_PATH % i\n",
    "        i += 1\n",
    "\n",
    "\n",
    "def is_plugged(batt_path):\n",
    "    \"\"\"Returns a flag saying if the battery is plugged in or not\n",
    "\n",
    "    :param batt_path: The dir path to the battery (acpi) processes\n",
    "    :type batt_path: string\n",
    "    :returns: A flag, true is plugged, false unplugged\n",
    "    :rtype: bool\n",
    "    \"\"\"\n",
    "    p = subprocess.Popen([\"grep\",\n",
    "                            \"charging state\",\n",
    "                            batt_path + \"/state\"],\n",
    "                         stdout=subprocess.PIPE)\n",
    "    return \"discharging\" not in p.communicate()[0]\n",
    "\n",
    "\n",
    "def get_battery_percent(batt_path):\n",
    "    \"\"\"Calculates the percent of the battery based on the different data of\n",
    "    the battery processes\n",
    "\n",
    "    :param batt_path: The dir path to the battery (acpi) processes\n",
    "    :type batt_path: string\n",
    "    :returns: The percent translation of the battery total and current capacity\n",
    "    :rtype: int\n",
    "    \"\"\"\n",
    "\n",
    "    return get_current_charge(batt_path) * 100 / get_full_charge(batt_path)\n",
    "\n",
    "\n",
    "def main():\n",
    "    path = guess_battery_path()\n",
    "    print(\"Current battery percent: %d\" % get_battery_percent(path))\n",
    "    print(\"Plugged in\" if is_plugged(path) else \"Not plugged in\")\n",
    "\n",
    "if __name__ == \"__main__\":\n",
    "    main()\n",
    "'''"
   ]
  },
  {
   "cell_type": "code",
   "execution_count": null,
   "metadata": {
    "collapsed": false
   },
   "outputs": [],
   "source": [
    " s = subprocess.check_output([“uptime”])\n",
    "    load_split = s.split(‘load average: ‘)\n",
    "    load_five = float(load_split[1].split(‘,’)[1])\n",
    "    up = load_split[0]\n",
    "    up_pos = up.rfind(‘,’,0,len(up)-4)\n",
    "    up = up[:up_pos].split(‘up ‘)[1]\n",
    "    return ( up , load_five )"
   ]
  },
  {
   "cell_type": "code",
   "execution_count": 165,
   "metadata": {
    "collapsed": false
   },
   "outputs": [
    {
     "data": {
      "text/plain": [
       "'\\nimport subprocess\\nimport os\\n    \\ndef get_ram():\\n    “Returns a tuple (total ram, available ram) in megabytes. See www.linuxatemyram.com”\\n    try:\\n        s = subprocess.check_output([“free”,”-m”])\\n        lines = s.split(‘\\n’)\\n        return ( int(lines[1].split()[1]), int(lines[2].split()[3]) )\\n    except:\\n        return 0def get_process_count():\\n        “Returns the number of processes”\\n    try:\\n        s = subprocess.check_output([“ps”,”-e”])\\n        return len(s.split(‘\\n’))\\n    except:\\n        return 0def get_up_stats():\\n    “Returns a tuple (uptime, 5 min load average)”\\n    try:\\n    s = subprocess.check_output([“uptime”])\\n    load_split = s.split(‘load average: ‘)\\n    load_five = float(load_split[1].split(‘,’)[1])\\n    up = load_split[0]\\n    up_pos = up.rfind(‘,’,0,len(up)-4)\\n    up = up[:up_pos].split(‘up ‘)[1]\\n    return ( up , load_five )\\n    except:\\n    return ( ” , 0 )def get_connections():\\n    “Returns the number of network connections”\\n    try:\\n    s = subprocess.check_output([“netstat”,”-tun”])\\n    return len([x for x in s.split() if x == ‘ESTABLISHED’])\\n    except:\\n    return 0def get_temperature():\\n    “Returns the temperature in degrees C”\\n    try:\\n    s = subprocess.check_output([“/opt/vc/bin/vcgencmd”,”measure_temp”])\\n    return float(s.split(‘=’)[1][:-3])\\n    except:\\n    return 0def get_ipaddress():\\n    “Returns the current IP address”\\n    arg=’ip route list’\\n    p=subprocess.Popen(arg,shell=True,stdout=subprocess.PIPE)\\n    data = p.communicate()\\n    split_data = data[0].split()\\n    ipaddr = split_data[split_data.index(‘src’)+1]\\n    return ipaddr\\n\\n    def get_cpu_speed():\\n    “Returns the current CPU speed”\\n    f = os.popen(‘/opt/vc/bin/vcgencmd get_config arm_freq’)\\n    cpu = f.read()\\n    return cpu\\n\\n    print ‘Free RAM: ‘+str(get_ram()[1])+’ (‘+str(get_ram()[0])+’)’\\n    print ‘Nr. of processes: ‘+str(get_process_count())\\n    print ‘Up time: ‘+get_up_stats()[0]\\n    print ‘Nr. of connections: ‘+str(get_connections())\\n    print ‘Temperature in C: ‘ +str(get_temperature())\\n    print ‘IP-address: ‘+get_ipaddress()\\n    print ‘CPU speed: ‘+str(get_cpu_speed())\\n'"
      ]
     },
     "execution_count": 165,
     "metadata": {},
     "output_type": "execute_result"
    }
   ],
   "source": [
    "'''\n",
    "import subprocess\n",
    "import os\n",
    "    \n",
    "def get_ram():\n",
    "    “Returns a tuple (total ram, available ram) in megabytes. See www.linuxatemyram.com”\n",
    "    try:\n",
    "        s = subprocess.check_output([“free”,”-m”])\n",
    "        lines = s.split(‘\\n’)\n",
    "        return ( int(lines[1].split()[1]), int(lines[2].split()[3]) )\n",
    "    except:\n",
    "        return 0def get_process_count():\n",
    "        “Returns the number of processes”\n",
    "    try:\n",
    "        s = subprocess.check_output([“ps”,”-e”])\n",
    "        return len(s.split(‘\\n’))\n",
    "    except:\n",
    "        return 0def get_up_stats():\n",
    "    “Returns a tuple (uptime, 5 min load average)”\n",
    "    try:\n",
    "    s = subprocess.check_output([“uptime”])\n",
    "    load_split = s.split(‘load average: ‘)\n",
    "    load_five = float(load_split[1].split(‘,’)[1])\n",
    "    up = load_split[0]\n",
    "    up_pos = up.rfind(‘,’,0,len(up)-4)\n",
    "    up = up[:up_pos].split(‘up ‘)[1]\n",
    "    return ( up , load_five )\n",
    "    except:\n",
    "    return ( ” , 0 )def get_connections():\n",
    "    “Returns the number of network connections”\n",
    "    try:\n",
    "    s = subprocess.check_output([“netstat”,”-tun”])\n",
    "    return len([x for x in s.split() if x == ‘ESTABLISHED’])\n",
    "    except:\n",
    "    return 0def get_temperature():\n",
    "    “Returns the temperature in degrees C”\n",
    "    try:\n",
    "    s = subprocess.check_output([“/opt/vc/bin/vcgencmd”,”measure_temp”])\n",
    "    return float(s.split(‘=’)[1][:-3])\n",
    "    except:\n",
    "    return 0def get_ipaddress():\n",
    "    “Returns the current IP address”\n",
    "    arg=’ip route list’\n",
    "    p=subprocess.Popen(arg,shell=True,stdout=subprocess.PIPE)\n",
    "    data = p.communicate()\n",
    "    split_data = data[0].split()\n",
    "    ipaddr = split_data[split_data.index(‘src’)+1]\n",
    "    return ipaddr\n",
    "\n",
    "    def get_cpu_speed():\n",
    "    “Returns the current CPU speed”\n",
    "    f = os.popen(‘/opt/vc/bin/vcgencmd get_config arm_freq’)\n",
    "    cpu = f.read()\n",
    "    return cpu\n",
    "\n",
    "    print ‘Free RAM: ‘+str(get_ram()[1])+’ (‘+str(get_ram()[0])+’)’\n",
    "    print ‘Nr. of processes: ‘+str(get_process_count())\n",
    "    print ‘Up time: ‘+get_up_stats()[0]\n",
    "    print ‘Nr. of connections: ‘+str(get_connections())\n",
    "    print ‘Temperature in C: ‘ +str(get_temperature())\n",
    "    print ‘IP-address: ‘+get_ipaddress()\n",
    "    print ‘CPU speed: ‘+str(get_cpu_speed())\n",
    "'''\n"
   ]
  },
  {
   "cell_type": "code",
   "execution_count": null,
   "metadata": {
    "collapsed": false
   },
   "outputs": [],
   "source": [
    "#import ConfigParser\n",
    "\n",
    "config = configparser.RawConfigParser()\n",
    "\n",
    "# When adding sections or items, add them in the reverse order of\n",
    "# how you want them to be displayed in the actual file.\n",
    "# In addition, please note that using RawConfigParser's and the raw\n",
    "# mode of ConfigParser's respective set functions, you can assign\n",
    "# non-string values to keys internally, but will receive an error\n",
    "# when attempting to write to a file or when you get it in non-raw\n",
    "# mode. SafeConfigParser does not allow such assignments to take place.\n",
    "\n",
    "config.add_section('userinfo')\n",
    "config.set('userinfo', 'username', myusr)\n",
    "\n",
    "config.set('userinfo', 'password', (hash_object.hexdigest()))\n",
    "config.add_section('tempsetting')\n",
    "config.set('tempsetting', 'drivertemphigh', sethightemp)\n",
    "config.set('tempsetting', 'drivertemplow', setlowtemp)\n",
    "config.set('tempsetting', 'passtemphigh', sethightemp)\n",
    "config.set('tempsetting', 'passtemplow', setlowtemp)\n",
    "\n",
    "\n",
    "config.add_section('dooropenstatus')\n",
    "\n",
    "#config.set('doorstatus', 'drifronop', )\n",
    "config.set('dooropenstatus', 'driversfront', dfstat)\n",
    "\n",
    "config.set('dooropenstatus', 'passfront', pfstat)\n",
    "\n",
    "config.set('dooropenstatus', 'passrear', prstat)\n",
    "\n",
    "config.set('dooropenstatus', 'driversrear', drstat)\n",
    "\n",
    "config.add_section('doorlockstatus')\n",
    "\n",
    "config.set('doorlockstatus', 'driversfont', opddor)\n",
    "\n",
    "config.set('doorlockstatus', 'passfront', opddor)\n",
    "\n",
    "config.set('doorlockstatus', 'passrear', opddor)\n",
    "\n",
    "config.set('doorlockstatus', 'driverrear', opddor)\n",
    "\n",
    "config.add_section('chargestatus')\n",
    "\n",
    "config.set('chargestatus', 'charging', 'complete')\n",
    "\n",
    "config.set('chargestatus', \"battcurrent\", flsecur)\n",
    "\n",
    "config.set('chargestatus', 'chargvolt', 2.5)\n",
    "\n",
    "config.set('chargestatus', 'timecharge', 60)\n",
    "#config.set('charges')\n",
    "\n",
    "#Set Valet Mode\n",
    "config.add_section('valetmode')\n",
    "\n",
    "config.set('valetmode', 'valeton', valeton)\n",
    "\n",
    "config.set('valetmode', 'timenow', (timnow))\n",
    "\n",
    "config.set('valetmode', 'traveltime', 40)\n",
    "\n",
    "config.set('valetmode', 'dayname', calcfulday[dayweekz])\n",
    "\n",
    "config.set('valetmode', 'timehuman', timnow.humanize())\n",
    "\n",
    "#config.set('templow', 'an_int', setlowtemp)\n",
    "#config.set('drivefront', 'an_int', '3')\n",
    "#config.set('passfront', 'baz', 'fun')\n",
    "#config.set('passback', 'bar', 'Python')\n",
    "#config.set('driveback', 'foo', '%(bar)s is %(baz)s!')\n",
    "\n",
    "# Writing our configuration file to 'example.cfg'\n",
    "with open('tesla.cfg', 'w') as configfile:\n",
    "    config.write(configfile)\n"
   ]
  },
  {
   "cell_type": "code",
   "execution_count": null,
   "metadata": {
    "collapsed": false
   },
   "outputs": [],
   "source": [
    "crea = config.read"
   ]
  },
  {
   "cell_type": "code",
   "execution_count": null,
   "metadata": {
    "collapsed": false
   },
   "outputs": [],
   "source": [
    "with open('tesla.cfg', 'r') as configfile:\n",
    "    print(config.read(configfile))"
   ]
  },
  {
   "cell_type": "code",
   "execution_count": null,
   "metadata": {
    "collapsed": false
   },
   "outputs": [],
   "source": [
    "temphi = 32\n",
    "templo = 17\n",
    "\n",
    "tempstr = (\"{'temphi' :  \" + str(temphi) + '}')"
   ]
  },
  {
   "cell_type": "code",
   "execution_count": null,
   "metadata": {
    "collapsed": true
   },
   "outputs": [],
   "source": [
    "templow = (\"{'templow' :  \" + str(templo) + '}')"
   ]
  },
  {
   "cell_type": "code",
   "execution_count": null,
   "metadata": {
    "collapsed": false
   },
   "outputs": [],
   "source": [
    "templow"
   ]
  },
  {
   "cell_type": "markdown",
   "metadata": {
    "collapsed": false
   },
   "source": [
    "\n",
    "{\n",
    "  \"response\": {\n",
    "    \"gui_distance_units\": \"mi/hr\",\n",
    "    \"gui_temperature_units\": \"F\",\n",
    "    \"gui_charge_rate_units\": \"mi/hr\",\n",
    "    \"gui_24_hour_time\": false,\n",
    "    \"gui_range_display\": \"Rated\"\n",
    "  }\n",
    "}tempstr"
   ]
  },
  {
   "cell_type": "markdown",
   "metadata": {
    "collapsed": false
   },
   "source": [
    "\n",
    "\n",
    "{ \"response\": { \"charging_state\": \"Complete\", // \"Charging\", ?? \"charge_to_max_range\": false, // current std/max-range setting \"max_range_charge_counter\": 0, \"fast_charger_present\": false, // connected to Supercharger? \"battery_range\": 239.02, // rated miles \"est_battery_range\": 155.79, // range estimated from recent driving \"ideal_battery_range\": 275.09, // ideal miles \"battery_level\": 91, // integer charge percentage \"battery_current\": -0.6, // current flowing into battery \"charge_starting_range\": null, \"charge_starting_soc\": null, \"charger_voltage\": 0, // only has value while charging \"charger_pilot_current\": 40, // max current allowed by charger & adapter \"charger_actual_current\": 0, // current actually being drawn \"charger_power\": 0, // kW (rounded down) of charger \"time_to_full_charge\": null, // valid only while charging \"charge_rate\": -1.0, // float mi/hr charging or -1 if not charging \"charge_port_door_open\": true } }"
   ]
  },
  {
   "cell_type": "markdown",
   "metadata": {
    "collapsed": true
   },
   "source": [
    "https://owner-api.teslamotors.com/api/1/vehicles/1/command/set_temps?driver_temp=23.7&passenger_temp=18.1\n",
    "    \n",
    "Returns the current temperature and climate control state.\n",
    "\n",
    "var TEMP_HI = 32;\n",
    "var TEMP_LO = 17;\n",
    "function set_temperature( params, cb ) {\n",
    "    var dtemp = params.dtemp;\n",
    "    var ptemp = params.ptemp;\n",
    "    var vid = params.id;\n",
    "    var error = false;\n",
    "    \n",
    "    //var temp_str = \"\";\n",
    "    if ( dtemp !== undefined && dtemp <= TEMP_HI && dtemp >= TEMP_LO) {\n",
    "        //temp_str = 'driver_temp=' + dtemp; // change from string to JSON form data\n",
    "    } else {\n",
    "        error = true;\n",
    "    }\n",
    "    // if no passenger temp is passed, the driver temp is also used as the passenger temp\n",
    "    if ( ptemp !== undefined && ptemp <= TEMP_HI && ptemp >= TEMP_LO) {\n",
    "        //temp_str = temp_str +'&passenger_temp=' + ptemp; // change from string to JSON form data\n",
    "    } else if ( ptemp === undefined ) {\n",
    "        ptemp = dtemp;\n",
    "    } else {\n",
    "        error = true;\n",
    "    }\n",
    "    if (!error) {\n",
    "        request( {\n",
    "            method: 'POST',\n",
    "            url: portal + '/vehicles/' + vid + '/command/set_temps',\n",
    "            gzip: true,\n",
    "            headers: http_header,\n",
    "            form: {\n",
    "                \"driver_temp\" : dtemp.toString(),\n",
    "                \"passenger_temp\" : ptemp.toString(),\n",
    "            }\n",
    "        }, function (error, response, body) { \n",
    "            if ((!!error) || (response.statusCode !== 200)) return report(error, response, body, cb);\n",
    "            try {\n",
    "                var data = JSON.parse(body); \n",
    "                if (typeof cb == 'function') return cb( data.response );  \n",
    "                else return true;\n",
    "            } catch (err) {\n",
    "                return report2('set_temps', body, cb);\n",
    "            }\n",
    "        });\n",
    "    } else {\n",
    "        if (typeof cb == 'function') return cb( new Error('Invalid temperature setting (' + dtemp + 'C), Passenger (' + ptemp + 'C)'));  \n",
    "        else return false;\n",
    "    }\n",
    "\n",
    "}\n",
    "exports.set_temperature = set_temperature;\n",
    "exports.TEMP_HI = TEMP_HI;\n",
    "exports.TEMP_LO = TEMP_LO;\n",
    "\n",
    "{\n",
    "  \"response\": {\n",
    "    \"df\": false,                  // driver's side front door open\n",
    "    \"dr\": false,                  // driver's side rear door open\n",
    "    \"pf\": false,                  // passenger's side front door open\n",
    "    \"pr\": false,                  // passenger's side rear door open\n",
    "    \"ft\": false,                  // front trunk is open\n",
    "    \"rt\": false,                  // rear trunk is open\n",
    "    \"car_verson\": \"1.19.42\",      // car firmware version\n",
    "    \"locked\": true,               // car is locked\n",
    "    \"sun_roof_installed\": false,  // panoramic roof is installed\n",
    "    \"sun_roof_state\": \"unknown\",\n",
    "    \"sun_roof_percent_open\": 0,   // null if not installed\n",
    "    \"dark_rims\": false,           // gray rims installed\n",
    "    \"wheel_type\": \"Base19\",       // wheel type installed\n",
    "    \"has_spoiler\": false,         // spoiler is installed\n",
    "    \"roof_color\": \"Colored\",      // \"None\" for panoramic roof\n",
    "    \"perf_config\": \"Base\"\n",
    "  }\n",
    "}\n",
    "\n",
    "{\n",
    "  \"response\": {\n",
    "    \"charging_state\": \"Complete\",  // \"Charging\", ??\n",
    "    \"charge_to_max_range\": false,  // current std/max-range setting\n",
    "    \"max_range_charge_counter\": 0,\n",
    "    \"fast_charger_present\": false, // connected to Supercharger?\n",
    "    \"battery_range\": 239.02,       // rated miles\n",
    "    \"est_battery_range\": 155.79,   // range estimated from recent driving\n",
    "    \"ideal_battery_range\": 275.09, // ideal miles\n",
    "    \"battery_level\": 91,           // integer charge percentage\n",
    "    \"battery_current\": -0.6,       // current flowing into battery\n",
    "    \"charge_starting_range\": null,\n",
    "    \"charge_starting_soc\": null,\n",
    "    \"charger_voltage\": 0,          // only has value while charging\n",
    "    \"charger_pilot_current\": 40,   // max current allowed by charger & adapter\n",
    "    \"charger_actual_current\": 0,   // current actually being drawn\n",
    "    \"charger_power\": 0,            // kW (rounded down) of charger\n",
    "    \"time_to_full_charge\": null,   // valid only while charging\n",
    "    \"charge_rate\": -1.0,           // float mi/hr charging or -1 if not charging\n",
    "    \"charge_port_door_open\": true\n",
    "  }\n",
    "}\n",
    "\n",
    "More car info\n",
    "\n",
    "What music is being played.\n",
    "\n",
    "Is my car unlocked? Unlock when device within certain distance.\n",
    "\n",
    "Checks that all the doors are shut\n",
    "\n",
    "https://owner-api.teslamotors.com/api/1/vehicles/vehicle_id/command/door_unlock\n",
    "\n",
    "https://owner-api.teslamotors.com/api/1/vehicles/vehicle_id/command/door_lock"
   ]
  },
  {
   "cell_type": "code",
   "execution_count": 166,
   "metadata": {
    "collapsed": false
   },
   "outputs": [],
   "source": [
    "for doorq in doorquen:\n",
    "    if doorq == True:\n",
    "        print('Warning Door Open')"
   ]
  },
  {
   "cell_type": "code",
   "execution_count": 167,
   "metadata": {
    "collapsed": false
   },
   "outputs": [
    {
     "name": "stdout",
     "output_type": "stream",
     "text": [
      "Warning Door Close\n",
      "Warning Door Close\n",
      "Warning Door Close\n",
      "Warning Door Close\n"
     ]
    }
   ],
   "source": [
    "for doorq in doorquen:\n",
    "    #print(doorq)\n",
    "    if doorq == False:\n",
    "        #for inz in range():\n",
    "        print('Warning Door Close')"
   ]
  },
  {
   "cell_type": "code",
   "execution_count": null,
   "metadata": {
    "collapsed": true
   },
   "outputs": [],
   "source": []
  },
  {
   "cell_type": "code",
   "execution_count": 168,
   "metadata": {
    "collapsed": false
   },
   "outputs": [
    {
     "data": {
      "text/plain": [
       "False"
      ]
     },
     "execution_count": 168,
     "metadata": {},
     "output_type": "execute_result"
    }
   ],
   "source": [
    "mydict['response']['dr']"
   ]
  },
  {
   "cell_type": "code",
   "execution_count": 169,
   "metadata": {
    "collapsed": false
   },
   "outputs": [
    {
     "data": {
      "text/plain": [
       "False"
      ]
     },
     "execution_count": 169,
     "metadata": {},
     "output_type": "execute_result"
    }
   ],
   "source": [
    "mydict['response']['pf']"
   ]
  },
  {
   "cell_type": "code",
   "execution_count": 170,
   "metadata": {
    "collapsed": false
   },
   "outputs": [
    {
     "data": {
      "text/plain": [
       "False"
      ]
     },
     "execution_count": 170,
     "metadata": {},
     "output_type": "execute_result"
    }
   ],
   "source": [
    "mydict['response']['pr']"
   ]
  },
  {
   "cell_type": "code",
   "execution_count": 172,
   "metadata": {
    "collapsed": false
   },
   "outputs": [],
   "source": [
    "def testdoorlock():\n",
    "    assert mydict['response']['locked'] == 'True'\n",
    "    \n",
    "def testdoorunlock():\n",
    "    assert mydict['response']['locked'] == 'False'\n"
   ]
  },
  {
   "cell_type": "code",
   "execution_count": null,
   "metadata": {
    "collapsed": false
   },
   "outputs": [],
   "source": []
  },
  {
   "cell_type": "code",
   "execution_count": 173,
   "metadata": {
    "collapsed": false
   },
   "outputs": [
    {
     "data": {
      "text/plain": [
       "True"
      ]
     },
     "execution_count": 173,
     "metadata": {},
     "output_type": "execute_result"
    }
   ],
   "source": [
    "mydict['response']['locked']"
   ]
  },
  {
   "cell_type": "code",
   "execution_count": 174,
   "metadata": {
    "collapsed": false
   },
   "outputs": [
    {
     "data": {
      "text/plain": [
       "False"
      ]
     },
     "execution_count": 174,
     "metadata": {},
     "output_type": "execute_result"
    }
   ],
   "source": [
    "mydict['response']['df']"
   ]
  },
  {
   "cell_type": "code",
   "execution_count": null,
   "metadata": {
    "collapsed": true
   },
   "outputs": [],
   "source": []
  },
  {
   "cell_type": "code",
   "execution_count": 175,
   "metadata": {
    "collapsed": false
   },
   "outputs": [
    {
     "data": {
      "text/plain": [
       "False"
      ]
     },
     "execution_count": 175,
     "metadata": {},
     "output_type": "execute_result"
    }
   ],
   "source": [
    "mydict['response']['dr']"
   ]
  },
  {
   "cell_type": "code",
   "execution_count": 176,
   "metadata": {
    "collapsed": false
   },
   "outputs": [
    {
     "data": {
      "text/plain": [
       "False"
      ]
     },
     "execution_count": 176,
     "metadata": {},
     "output_type": "execute_result"
    }
   ],
   "source": [
    "mydict['response']['pf']"
   ]
  },
  {
   "cell_type": "code",
   "execution_count": 177,
   "metadata": {
    "collapsed": false
   },
   "outputs": [
    {
     "data": {
      "text/plain": [
       "False"
      ]
     },
     "execution_count": 177,
     "metadata": {},
     "output_type": "execute_result"
    }
   ],
   "source": [
    "mydict['response']['pr']"
   ]
  },
  {
   "cell_type": "code",
   "execution_count": 178,
   "metadata": {
    "collapsed": true
   },
   "outputs": [],
   "source": [
    "vechj = open('/home/wcm/git/vech.json', 'r')"
   ]
  },
  {
   "cell_type": "code",
   "execution_count": 179,
   "metadata": {
    "collapsed": true
   },
   "outputs": [],
   "source": [
    "rdvechj = vechj.read()"
   ]
  },
  {
   "cell_type": "code",
   "execution_count": 180,
   "metadata": {
    "collapsed": false
   },
   "outputs": [
    {
     "data": {
      "text/plain": [
       "'{\\n  \"response\": [\\n    {\\n      \"color\": null,\\n      \"display_name\": null,\\n      \"id\": 321,\\n      \"option_codes\": \"MS01,RENA,TM00,DRLH,PF00,BT85,PBCW,RFPO,WT19,IBMB,IDPB,TR00,SU01,SC01,TP01,AU01,CH00,HP00,PA00,PS00,AD02,X020,X025,X001,X003,X007,X011,X013\",\\n      \"user_id\": 123,\\n      \"vehicle_id\": 1234567890,\\n      \"vin\": \"5YJSA1CN5CFP01657\",\\n      \"tokens\": [\\n        \"x\",\\n        \"x\"\\n      ],\\n      \"state\": \"online\"\\n    }\\n  ],\\n  \"count\": 1\\n}\\n'"
      ]
     },
     "execution_count": 180,
     "metadata": {},
     "output_type": "execute_result"
    }
   ],
   "source": [
    "rdvechj"
   ]
  },
  {
   "cell_type": "code",
   "execution_count": 181,
   "metadata": {
    "collapsed": false
   },
   "outputs": [
    {
     "data": {
      "text/plain": [
       "{'count': 1,\n",
       " 'response': [{'color': None,\n",
       "   'display_name': None,\n",
       "   'id': 321,\n",
       "   'option_codes': 'MS01,RENA,TM00,DRLH,PF00,BT85,PBCW,RFPO,WT19,IBMB,IDPB,TR00,SU01,SC01,TP01,AU01,CH00,HP00,PA00,PS00,AD02,X020,X025,X001,X003,X007,X011,X013',\n",
       "   'state': 'online',\n",
       "   'tokens': ['x', 'x'],\n",
       "   'user_id': 123,\n",
       "   'vehicle_id': 1234567890,\n",
       "   'vin': '5YJSA1CN5CFP01657'}]}"
      ]
     },
     "execution_count": 181,
     "metadata": {},
     "output_type": "execute_result"
    }
   ],
   "source": [
    "json.loads(rdvechj)"
   ]
  }
 ],
 "metadata": {
  "kernelspec": {
   "display_name": "Python 3",
   "language": "python",
   "name": "python3"
  },
  "language_info": {
   "codemirror_mode": {
    "name": "ipython",
    "version": 3
   },
   "file_extension": ".py",
   "mimetype": "text/x-python",
   "name": "python",
   "nbconvert_exporter": "python",
   "pygments_lexer": "ipython3",
   "version": "3.4.2"
  }
 },
 "nbformat": 4,
 "nbformat_minor": 0
}
