{
 "cells": [
  {
   "cell_type": "markdown",
   "metadata": {
    "collapsed": true
   },
   "source": [
    "Track Drop\n",
    "\n",
    "Logging information. asks for input. saves json and tweets. doesn't save/tweet if ID is not unique. Generate 12 character ID. "
   ]
  },
  {
   "cell_type": "code",
   "execution_count": 32,
   "metadata": {
    "collapsed": true
   },
   "outputs": [],
   "source": [
    "import arrow\n",
    "import getpass\n",
    "import string\n",
    "import random\n",
    "import json\n",
    "import tweepy\n",
    "import os\n",
    "from pathlib import Path"
   ]
  },
  {
   "cell_type": "code",
   "execution_count": 33,
   "metadata": {
    "collapsed": false
   },
   "outputs": [],
   "source": [
    "timnow = arrow.now()\n",
    "\n",
    "myusr = getpass.getuser()"
   ]
  },
  {
   "cell_type": "code",
   "execution_count": 34,
   "metadata": {
    "collapsed": true
   },
   "outputs": [],
   "source": [
    "dateti = timnow.datetime"
   ]
  },
  {
   "cell_type": "code",
   "execution_count": 35,
   "metadata": {
    "collapsed": false
   },
   "outputs": [],
   "source": [
    "def idgenr(size=12, chars=string.ascii_uppercase):\n",
    "    return ''.join(random.choice(chars) for _ in range(size))"
   ]
  },
  {
   "cell_type": "code",
   "execution_count": 18,
   "metadata": {
    "collapsed": false
   },
   "outputs": [],
   "source": [
    "jslis = os.listdir('/home/{}/medtest/'.format(myusr))\n",
    "\n",
    "meddir = ('/home/{}/medtest/'.format(myusr))"
   ]
  },
  {
   "cell_type": "code",
   "execution_count": 36,
   "metadata": {
    "collapsed": false
   },
   "outputs": [],
   "source": [
    "theid = idgenr()"
   ]
  },
  {
   "cell_type": "code",
   "execution_count": 37,
   "metadata": {
    "collapsed": false
   },
   "outputs": [
    {
     "name": "stdout",
     "output_type": "stream",
     "text": [
      "LDUDBTKRMGGT\n"
     ]
    }
   ],
   "source": [
    "print(theid)"
   ]
  },
  {
   "cell_type": "code",
   "execution_count": null,
   "metadata": {
    "collapsed": false
   },
   "outputs": [],
   "source": [
    "amountake = input('number of drops: ')"
   ]
  },
  {
   "cell_type": "code",
   "execution_count": 11,
   "metadata": {
    "collapsed": false
   },
   "outputs": [
    {
     "name": "stdout",
     "output_type": "stream",
     "text": [
      "C or T C\n"
     ]
    }
   ],
   "source": [
    "cort = input('C or T ')"
   ]
  },
  {
   "cell_type": "code",
   "execution_count": 12,
   "metadata": {
    "collapsed": false
   },
   "outputs": [
    {
     "name": "stdout",
     "output_type": "stream",
     "text": [
      "Comments: fine\n"
     ]
    }
   ],
   "source": [
    "comnow = input('Comments: ')"
   ]
  },
  {
   "cell_type": "code",
   "execution_count": 13,
   "metadata": {
    "collapsed": true
   },
   "outputs": [],
   "source": [
    "medhis = dict()"
   ]
  },
  {
   "cell_type": "code",
   "execution_count": 14,
   "metadata": {
    "collapsed": false
   },
   "outputs": [],
   "source": [
    "medhis.update({theid : dict({'drops' : amountake, 'datetime' : str(dateti), 'type' : cort, 'comments' : comnow, 'user' : myusr})})"
   ]
  },
  {
   "cell_type": "code",
   "execution_count": 15,
   "metadata": {
    "collapsed": false
   },
   "outputs": [],
   "source": [
    "meddum = json.dumps(medhis)"
   ]
  },
  {
   "cell_type": "code",
   "execution_count": 16,
   "metadata": {
    "collapsed": false
   },
   "outputs": [
    {
     "name": "stdout",
     "output_type": "stream",
     "text": [
      "{\"HKJZABUIRYII\": {\"datetime\": \"2017-01-04 10:49:46.499037+13:00\", \"comments\": \"fine\", \"drops\": \"2\", \"user\": \"pi\", \"type\": \"C\"}}\n"
     ]
    }
   ],
   "source": [
    "print(meddum)"
   ]
  },
  {
   "cell_type": "code",
   "execution_count": 78,
   "metadata": {
    "collapsed": false
   },
   "outputs": [],
   "source": [
    "with open('/home/{}/wck.txt'.format(myusr), 'r') as wckz:\n",
    "    allkey = wckz.readlines()\n",
    "    OAUTH_TOKEN = allkey[0]\n",
    "    #print(OAUTH_TOKEN)\n",
    "    OAUTH_SECRET = allkey[1]\n",
    "    CONSUMER_KEY = allkey[2]\n",
    "    CONSUMER_SECRET = allkey[3]\n",
    "   \n",
    "auth = tweepy.OAuthHandler(CONSUMER_KEY.strip('\\n'), CONSUMER_SECRET.strip('\\n'))\n",
    "auth.set_access_token(OAUTH_TOKEN.strip('\\n'), OAUTH_SECRET.strip('\\n'))\n",
    "\n",
    "api = tweepy.API(auth)\n",
    "\n"
   ]
  },
  {
   "cell_type": "code",
   "execution_count": 31,
   "metadata": {
    "collapsed": false
   },
   "outputs": [
    {
     "name": "stdout",
     "output_type": "stream",
     "text": [
      "file not there\n"
     ]
    }
   ],
   "source": [
    "my_file = Path(meddir + theid + '.json')\n",
    "if my_file.is_file():\n",
    "    print('file exists')\n",
    "else:\n",
    "    print('file not there')\n",
    "    with open('{}{}.json'.format(meddir, theid), 'w') as mete:\n",
    "        mete.write(meddum)\n",
    "    \n",
    "    api.update_status('Med {} drops {}. {}'.format(cort, amountake, comnow))"
   ]
  }
 ],
 "metadata": {
  "kernelspec": {
   "display_name": "Python 3",
   "language": "python",
   "name": "python3"
  },
  "language_info": {
   "codemirror_mode": {
    "name": "ipython",
    "version": 3
   },
   "file_extension": ".py",
   "mimetype": "text/x-python",
   "name": "python",
   "nbconvert_exporter": "python",
   "pygments_lexer": "ipython3",
   "version": "3.4.2"
  }
 },
 "nbformat": 4,
 "nbformat_minor": 0
}
