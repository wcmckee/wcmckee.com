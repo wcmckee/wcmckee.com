{
 "cells": [
  {
   "cell_type": "markdown",
   "metadata": {},
   "source": [
    "auckland university computers\n",
    "\n",
    "exploring the auckland university SIT API"
   ]
  },
  {
   "cell_type": "code",
   "execution_count": 6,
   "metadata": {
    "collapsed": true
   },
   "outputs": [],
   "source": [
    "import requests\n",
    "import json"
   ]
  },
  {
   "cell_type": "code",
   "execution_count": 3,
   "metadata": {
    "collapsed": false
   },
   "outputs": [],
   "source": [
    "labreqmach = requests.get('http://www.fos.auckland.ac.nz/api/lab/machines/1.json')"
   ]
  },
  {
   "cell_type": "code",
   "execution_count": 8,
   "metadata": {
    "collapsed": false
   },
   "outputs": [],
   "source": [
    "labmachdic = json.loads(labreqmach.text)"
   ]
  },
  {
   "cell_type": "code",
   "execution_count": 12,
   "metadata": {
    "collapsed": false
   },
   "outputs": [],
   "source": [
    "lenmach = len(labmachdic)"
   ]
  },
  {
   "cell_type": "code",
   "execution_count": 15,
   "metadata": {
    "collapsed": false
   },
   "outputs": [
    {
     "ename": "IndexError",
     "evalue": "list index out of range",
     "output_type": "error",
     "traceback": [
      "\u001b[1;31m---------------------------------------------------------------------------\u001b[0m",
      "\u001b[1;31mIndexError\u001b[0m                                Traceback (most recent call last)",
      "\u001b[1;32m<ipython-input-15-9b063b18b537>\u001b[0m in \u001b[0;36m<module>\u001b[1;34m()\u001b[0m\n\u001b[1;32m----> 1\u001b[1;33m \u001b[0mlabmachdic\u001b[0m\u001b[1;33m[\u001b[0m\u001b[0mlenmach\u001b[0m\u001b[1;33m]\u001b[0m\u001b[1;33m\u001b[0m\u001b[0m\n\u001b[0m",
      "\u001b[1;31mIndexError\u001b[0m: list index out of range"
     ]
    }
   ],
   "source": [
    "labmachdic[lenmach]"
   ]
  },
  {
   "cell_type": "code",
   "execution_count": 28,
   "metadata": {
    "collapsed": false
   },
   "outputs": [
    {
     "name": "stdout",
     "output_type": "stream",
     "text": [
      "10.103.139.124\n",
      "10.103.139.123\n",
      "10.103.139.122\n",
      "10.103.139.121\n",
      "10.103.139.120\n",
      "10.103.139.119\n",
      "10.103.139.118\n",
      "10.103.139.117\n",
      "10.103.139.116\n",
      "10.103.139.115\n",
      "10.103.139.114\n",
      "10.103.139.113\n",
      "10.103.139.112\n",
      "10.103.139.111\n",
      "10.103.139.110\n",
      "10.103.139.109\n",
      "10.103.139.108\n",
      "10.103.139.107\n",
      "10.103.139.106\n",
      "10.103.139.105\n",
      "10.103.139.104\n",
      "10.103.139.103\n",
      "10.103.139.102\n",
      "10.103.139.101\n",
      "10.103.139.100\n",
      "10.103.139.99\n",
      "10.103.139.98\n",
      "10.103.139.97\n",
      "10.103.139.96\n",
      "10.103.139.95\n",
      "10.103.139.94\n",
      "10.103.139.93\n",
      "10.103.139.92\n",
      "10.103.139.91\n",
      "10.103.139.90\n",
      "10.103.139.89\n",
      "10.103.139.88\n",
      "10.103.139.87\n",
      "10.103.139.86\n",
      "10.103.139.85\n",
      "10.103.139.84\n",
      "10.103.139.83\n",
      "10.103.139.82\n",
      "10.103.139.81\n",
      "10.103.139.80\n",
      "10.103.139.79\n",
      "10.103.139.78\n",
      "10.103.139.77\n",
      "10.103.139.76\n",
      "10.103.139.75\n",
      "10.103.139.74\n",
      "10.103.139.73\n",
      "10.103.139.72\n",
      "10.103.139.71\n",
      "10.103.139.70\n",
      "10.103.139.69\n",
      "10.103.139.68\n",
      "10.103.139.67\n",
      "10.103.139.66\n",
      "10.103.139.65\n",
      "10.103.139.64\n",
      "10.103.139.63\n",
      "10.103.139.62\n",
      "10.103.139.61\n",
      "10.103.139.60\n",
      "10.103.139.59\n",
      "10.103.139.58\n",
      "10.103.139.57\n",
      "10.103.139.56\n",
      "10.103.139.55\n",
      "10.103.139.54\n",
      "10.103.139.53\n",
      "10.103.139.52\n",
      "10.103.139.51\n",
      "10.103.139.50\n",
      "10.103.139.49\n",
      "10.103.139.48\n",
      "10.103.139.47\n",
      "10.103.139.46\n",
      "10.103.139.45\n",
      "10.103.139.44\n",
      "10.103.139.43\n",
      "10.103.139.42\n",
      "10.103.139.41\n",
      "10.103.139.40\n",
      "10.103.139.39\n",
      "10.103.139.38\n",
      "10.103.139.37\n",
      "10.103.139.36\n",
      "10.103.139.35\n",
      "10.103.139.34\n",
      "10.103.139.33\n",
      "10.103.139.32\n",
      "10.103.139.31\n",
      "10.103.139.30\n",
      "10.103.139.29\n",
      "10.103.139.28\n",
      "10.103.139.27\n",
      "10.103.139.26\n",
      "10.103.139.25\n",
      "10.103.139.24\n",
      "10.103.139.23\n",
      "10.103.139.22\n",
      "10.103.139.21\n",
      "10.103.139.20\n",
      "10.103.139.19\n",
      "10.103.139.18\n",
      "10.103.139.17\n",
      "10.103.139.16\n",
      "10.103.139.15\n",
      "10.103.139.14\n",
      "10.103.139.13\n",
      "10.103.139.12\n",
      "10.103.139.11\n",
      "10.103.139.10\n",
      "10.103.139.9\n",
      "10.103.139.8\n",
      "10.103.139.7\n",
      "10.103.139.6\n",
      "10.103.139.5\n",
      "10.103.139.4\n",
      "10.103.139.3\n",
      "10.103.139.2\n",
      "10.103.139.1\n",
      "10.103.139.126\n"
     ]
    }
   ],
   "source": [
    "for labm in range(0, lenmach):\n",
    "    print(labmachdic[labm]['ip'])"
   ]
  },
  {
   "cell_type": "code",
   "execution_count": 29,
   "metadata": {
    "collapsed": true
   },
   "outputs": [],
   "source": [
    "labdet = requests.get('http://www.fos.auckland.ac.nz/api/lab/current_usage/1.json')"
   ]
  },
  {
   "cell_type": "code",
   "execution_count": 31,
   "metadata": {
    "collapsed": false
   },
   "outputs": [
    {
     "data": {
      "text/plain": [
       "'[{\"machines_in_use\": 56, \"name\": \"FCL\", \"current_tutorial\": null, \"next_tutorial\": null, \"total_machines\": 125, \"id\": 1, \"closed\": false, \"timestamp\": \"2016/10/11 18:57:21 +1300\", \"room\": \"303s-191\"}]'"
      ]
     },
     "execution_count": 31,
     "metadata": {},
     "output_type": "execute_result"
    }
   ],
   "source": [
    "labdet.text"
   ]
  },
  {
   "cell_type": "code",
   "execution_count": null,
   "metadata": {
    "collapsed": true
   },
   "outputs": [],
   "source": []
  },
  {
   "cell_type": "code",
   "execution_count": null,
   "metadata": {
    "collapsed": true
   },
   "outputs": [],
   "source": []
  },
  {
   "cell_type": "code",
   "execution_count": null,
   "metadata": {
    "collapsed": true
   },
   "outputs": [],
   "source": []
  },
  {
   "cell_type": "code",
   "execution_count": null,
   "metadata": {
    "collapsed": true
   },
   "outputs": [],
   "source": []
  },
  {
   "cell_type": "code",
   "execution_count": 25,
   "metadata": {
    "collapsed": false
   },
   "outputs": [
    {
     "name": "stdout",
     "output_type": "stream",
     "text": [
      "False\n",
      "False\n",
      "False\n",
      "False\n",
      "False\n",
      "False\n",
      "True\n",
      "False\n",
      "True\n",
      "False\n",
      "True\n",
      "True\n",
      "True\n",
      "False\n",
      "True\n",
      "True\n",
      "False\n",
      "False\n",
      "False\n",
      "True\n",
      "True\n",
      "False\n",
      "True\n",
      "False\n",
      "False\n",
      "False\n",
      "False\n",
      "False\n",
      "True\n",
      "False\n",
      "False\n",
      "True\n",
      "True\n",
      "False\n",
      "False\n",
      "True\n",
      "True\n",
      "True\n",
      "True\n",
      "True\n",
      "False\n",
      "False\n",
      "True\n",
      "True\n",
      "True\n",
      "True\n",
      "False\n",
      "False\n",
      "True\n",
      "False\n",
      "False\n",
      "True\n",
      "True\n",
      "False\n",
      "False\n",
      "False\n",
      "True\n",
      "False\n",
      "False\n",
      "False\n",
      "False\n",
      "False\n",
      "False\n",
      "True\n",
      "False\n",
      "False\n",
      "False\n",
      "True\n",
      "True\n",
      "False\n",
      "False\n",
      "False\n",
      "True\n",
      "False\n",
      "True\n",
      "False\n",
      "True\n",
      "True\n",
      "False\n",
      "False\n",
      "False\n",
      "True\n",
      "False\n",
      "True\n",
      "False\n",
      "True\n",
      "True\n",
      "True\n",
      "False\n",
      "True\n",
      "False\n",
      "True\n",
      "True\n",
      "False\n",
      "True\n",
      "True\n",
      "True\n",
      "True\n",
      "True\n",
      "True\n",
      "False\n",
      "True\n",
      "True\n",
      "True\n",
      "False\n",
      "False\n",
      "False\n",
      "False\n",
      "True\n",
      "True\n",
      "True\n",
      "False\n",
      "False\n",
      "False\n",
      "False\n",
      "False\n",
      "True\n",
      "True\n",
      "False\n",
      "True\n",
      "False\n",
      "False\n",
      "False\n",
      "False\n",
      "False\n"
     ]
    }
   ],
   "source": [
    "for labm in range(0, lenmach):\n",
    "    print(labmachdic[labm]['in_use'])\n",
    "    #if True in (labmachdic[labm]['in_use']):\n",
    "    #    print(labmachdic[labm]['in_use'])"
   ]
  },
  {
   "cell_type": "code",
   "execution_count": null,
   "metadata": {
    "collapsed": true
   },
   "outputs": [],
   "source": []
  },
  {
   "cell_type": "code",
   "execution_count": null,
   "metadata": {
    "collapsed": true
   },
   "outputs": [],
   "source": []
  },
  {
   "cell_type": "code",
   "execution_count": null,
   "metadata": {
    "collapsed": true
   },
   "outputs": [],
   "source": []
  },
  {
   "cell_type": "code",
   "execution_count": null,
   "metadata": {
    "collapsed": true
   },
   "outputs": [],
   "source": []
  },
  {
   "cell_type": "code",
   "execution_count": null,
   "metadata": {
    "collapsed": true
   },
   "outputs": [],
   "source": []
  },
  {
   "cell_type": "code",
   "execution_count": null,
   "metadata": {
    "collapsed": true
   },
   "outputs": [],
   "source": []
  },
  {
   "cell_type": "code",
   "execution_count": null,
   "metadata": {
    "collapsed": true
   },
   "outputs": [],
   "source": []
  },
  {
   "cell_type": "code",
   "execution_count": null,
   "metadata": {
    "collapsed": true
   },
   "outputs": [],
   "source": []
  },
  {
   "cell_type": "code",
   "execution_count": null,
   "metadata": {
    "collapsed": true
   },
   "outputs": [],
   "source": []
  },
  {
   "cell_type": "code",
   "execution_count": null,
   "metadata": {
    "collapsed": true
   },
   "outputs": [],
   "source": []
  },
  {
   "cell_type": "code",
   "execution_count": null,
   "metadata": {
    "collapsed": true
   },
   "outputs": [],
   "source": []
  },
  {
   "cell_type": "code",
   "execution_count": null,
   "metadata": {
    "collapsed": true
   },
   "outputs": [],
   "source": []
  },
  {
   "cell_type": "code",
   "execution_count": null,
   "metadata": {
    "collapsed": true
   },
   "outputs": [],
   "source": []
  }
 ],
 "metadata": {
  "kernelspec": {
   "display_name": "Python 3",
   "language": "python",
   "name": "python3"
  },
  "language_info": {
   "codemirror_mode": {
    "name": "ipython",
    "version": 3
   },
   "file_extension": ".py",
   "mimetype": "text/x-python",
   "name": "python",
   "nbconvert_exporter": "python",
   "pygments_lexer": "ipython3",
   "version": "3.4.2"
  }
 },
 "nbformat": 4,
 "nbformat_minor": 0
}
