{
 "cells": [
  {
   "cell_type": "markdown",
   "metadata": {},
   "source": [
    "script to make a new blog post. tweet that i have started it. downloads gifs on input keyword and tweet the with start message. \n",
    "\n",
    "Check dir and if it has the name already - error\n",
    "\n",
    ".. title: eceret\n",
    ".. slug: eceret\n",
    ".. date: 2016-12-02 11:30:18 UTC\n",
    ".. tags:\n",
    ".. link:\n",
    ".. description:\n",
    ".. type: text\n"
   ]
  },
  {
   "cell_type": "code",
   "execution_count": 3,
   "metadata": {
    "collapsed": false
   },
   "outputs": [],
   "source": [
    "import getpass\n",
    "import os\n",
    "import arrow\n",
    "#from TwitterFollowBot import TwitterBot\n",
    "import requests\n",
    "import random\n",
    "import tweepy\n",
    "import shutil\n",
    "#import IPython.nbformat.current as nbf\n",
    "#import nbformat\n",
    "\n",
    "from shutil import copyfile\n",
    "import json\n",
    "\n",
    "#import pickle\n"
   ]
  },
  {
   "cell_type": "code",
   "execution_count": 4,
   "metadata": {
    "collapsed": false
   },
   "outputs": [
    {
     "name": "stdout",
     "output_type": "stream",
     "text": [
      "keyword gif search: rehab\n"
     ]
    }
   ],
   "source": [
    "namofgifsea = input('keyword gif search: ')"
   ]
  },
  {
   "cell_type": "code",
   "execution_count": 5,
   "metadata": {
    "collapsed": true
   },
   "outputs": [],
   "source": [
    "myusr = getpass.getuser()"
   ]
  },
  {
   "cell_type": "code",
   "execution_count": 6,
   "metadata": {
    "collapsed": false
   },
   "outputs": [],
   "source": [
    "gifpat = ('/home/{}/giftweet/'.format(myusr))"
   ]
  },
  {
   "cell_type": "code",
   "execution_count": 7,
   "metadata": {
    "collapsed": false
   },
   "outputs": [],
   "source": [
    "oslisg = os.listdir(gifpat)"
   ]
  },
  {
   "cell_type": "code",
   "execution_count": 8,
   "metadata": {
    "collapsed": true
   },
   "outputs": [],
   "source": [
    "dictgif = dict()"
   ]
  },
  {
   "cell_type": "code",
   "execution_count": 9,
   "metadata": {
    "collapsed": false
   },
   "outputs": [],
   "source": [
    "if namofgifsea not in oslisg:\n",
    "    os.mkdir('{}{}'.format(gifpat, namofgifsea))\n",
    "    typereq = 'http://api.giphy.com/v1/gifs/search?q={}&api_key=dc6zaTOxFJmzC'.format(namofgifsea)\n",
    "    reqt = requests.get(typereq)\n",
    "    gifjsn = reqt.json()\n",
    "    leng = len(gifjsn['data'])\n",
    "    \n",
    "    for legif in range(0, leng):\n",
    "        gurl = ((gifjsn['data'][legif]['images']['original']['url']))\n",
    "        gslug = (gifjsn['data'][legif]['slug'])\n",
    "        dictgif.update({gslug : gurl})\n",
    "        #print(gurl)\n",
    "        response = requests.get(gurl, stream=True)#\n",
    "        response\n",
    "        with open('{}{}/{}.gif'.format(gifpat, namofgifsea, gslug), 'wb') as out_file:\n",
    "            shutil.copyfileobj(response.raw, out_file)\n",
    "            del response\n",
    "else:\n",
    "    pass"
   ]
  },
  {
   "cell_type": "code",
   "execution_count": 10,
   "metadata": {
    "collapsed": false
   },
   "outputs": [],
   "source": [
    "#import requests\n",
    "#data = requests.get(\"http://api.giphy.com/v1/gifs/search?q=ryan+gosling&api_key=dc6zaTOxFJmzC&limit=5\")\n",
    "#print (data.json())"
   ]
  },
  {
   "cell_type": "code",
   "execution_count": 11,
   "metadata": {
    "collapsed": true
   },
   "outputs": [],
   "source": [
    "dicfir = dict()"
   ]
  },
  {
   "cell_type": "code",
   "execution_count": 12,
   "metadata": {
    "collapsed": false
   },
   "outputs": [],
   "source": [
    "dicfir.update({namofgifsea : dictgif})"
   ]
  },
  {
   "cell_type": "code",
   "execution_count": 13,
   "metadata": {
    "collapsed": false
   },
   "outputs": [],
   "source": [
    "indump = (json.dumps(dicfir))"
   ]
  },
  {
   "cell_type": "code",
   "execution_count": 15,
   "metadata": {
    "collapsed": true
   },
   "outputs": [],
   "source": [
    "with open('/home/{}/giftweet/{}.json'.format(myusr, namofgifsea), 'w') as gifd:\n",
    "    gifd.write(indump)"
   ]
  },
  {
   "cell_type": "code",
   "execution_count": 16,
   "metadata": {
    "collapsed": false
   },
   "outputs": [],
   "source": [
    "#with open('/home/{}/startgif.pickle'.format(myusr), 'ab') as gifd:\n",
    "#    pickle.dump(dicfir, gifd, pickle.HIGHEST_PROTOCOL)"
   ]
  },
  {
   "cell_type": "code",
   "execution_count": 17,
   "metadata": {
    "collapsed": false
   },
   "outputs": [],
   "source": [
    "#with open('/home/{}/startgif.pickle'.format(myusr), 'rb') as gf:\n",
    "#    print(pickle.load(gf))\n"
   ]
  },
  {
   "cell_type": "code",
   "execution_count": 18,
   "metadata": {
    "collapsed": false
   },
   "outputs": [],
   "source": [
    "#with open('/home/{}/startgif.pickle'.format(myusr), 'r') as gifd:\n",
    "#    pickle.load(dicfir, gifd, pickle.HIGHEST_PROTOCOL)"
   ]
  },
  {
   "cell_type": "markdown",
   "metadata": {},
   "source": [
    " An arbitrary collection of objects supported by pickle.\n",
    "data = {\n",
    "    'a': [1, 2.0, 3, 4+6j],\n",
    "    'b': (\"character string\", b\"byte string\"),\n",
    "    'c': set([None, True, False])\n",
    "}\n",
    "\n",
    "with open('data.pickle', 'wb') as f:\n",
    "    # Pickle the 'data' dictionary using the highest protocol available.\n",
    "    pickle.dump(data, f, pickle.HIGHEST_PROTOCOL)"
   ]
  },
  {
   "cell_type": "code",
   "execution_count": 19,
   "metadata": {
    "collapsed": true
   },
   "outputs": [],
   "source": [
    "dictgif.update({namofgifsea : dict({})})"
   ]
  },
  {
   "cell_type": "code",
   "execution_count": 20,
   "metadata": {
    "collapsed": false
   },
   "outputs": [],
   "source": [
    "ranlocgif = random.choice(os.listdir(gifpat + namofgifsea))"
   ]
  },
  {
   "cell_type": "code",
   "execution_count": 21,
   "metadata": {
    "collapsed": true
   },
   "outputs": [],
   "source": [
    "rangif = random.randint(0, leng)"
   ]
  },
  {
   "cell_type": "code",
   "execution_count": 22,
   "metadata": {
    "collapsed": false
   },
   "outputs": [],
   "source": [
    "rangifurl = ((gifjsn['data'][rangif]['images']['original']['url']))"
   ]
  },
  {
   "cell_type": "code",
   "execution_count": 23,
   "metadata": {
    "collapsed": true
   },
   "outputs": [],
   "source": [
    "blagpat = ('/home/{}/git/wcmsilver/wcmckee.com/posts/'.format(myusr))"
   ]
  },
  {
   "cell_type": "code",
   "execution_count": 24,
   "metadata": {
    "collapsed": false
   },
   "outputs": [],
   "source": [
    "with open('/home/{}/wck.txt'.format(myusr), 'r') as wckz:\n",
    "    allkey = wckz.readlines()\n",
    "    OAUTH_TOKEN = allkey[0]\n",
    "    #print(OAUTH_TOKEN)\n",
    "    OAUTH_SECRET = allkey[1]\n",
    "    CONSUMER_KEY = allkey[2]\n",
    "    CONSUMER_SECRET = allkey[3]"
   ]
  },
  {
   "cell_type": "code",
   "execution_count": 25,
   "metadata": {
    "collapsed": false
   },
   "outputs": [],
   "source": [
    "auth = tweepy.OAuthHandler(CONSUMER_KEY.strip('\\n'), CONSUMER_SECRET.strip('\\n'))\n",
    "auth.set_access_token(OAUTH_TOKEN.strip('\\n'), OAUTH_SECRET.strip('\\n'))\n"
   ]
  },
  {
   "cell_type": "code",
   "execution_count": 26,
   "metadata": {
    "collapsed": true
   },
   "outputs": [],
   "source": [
    "api = tweepy.API(auth)"
   ]
  },
  {
   "cell_type": "code",
   "execution_count": 27,
   "metadata": {
    "collapsed": false
   },
   "outputs": [
    {
     "name": "stdout",
     "output_type": "stream",
     "text": [
      "name of blog post: rehabtest\n"
     ]
    }
   ],
   "source": [
    "nameofblogpost = input('name of blog post: ')"
   ]
  },
  {
   "cell_type": "code",
   "execution_count": 28,
   "metadata": {
    "collapsed": false
   },
   "outputs": [],
   "source": [
    "postext = '.ipynb'"
   ]
  },
  {
   "cell_type": "code",
   "execution_count": 29,
   "metadata": {
    "collapsed": true
   },
   "outputs": [],
   "source": [
    "blognam = nameofblogpost + postext"
   ]
  },
  {
   "cell_type": "code",
   "execution_count": 30,
   "metadata": {
    "collapsed": false
   },
   "outputs": [],
   "source": [
    "osdi = os.listdir(blagpat)"
   ]
  },
  {
   "cell_type": "code",
   "execution_count": 31,
   "metadata": {
    "collapsed": false
   },
   "outputs": [],
   "source": [
    "#[x for x in osdi if blognam in x]"
   ]
  },
  {
   "cell_type": "code",
   "execution_count": 32,
   "metadata": {
    "collapsed": true
   },
   "outputs": [],
   "source": [
    "timnow = arrow.utcnow()"
   ]
  },
  {
   "cell_type": "code",
   "execution_count": 33,
   "metadata": {
    "collapsed": false
   },
   "outputs": [],
   "source": [
    "nowtime = (timnow.datetime)"
   ]
  },
  {
   "cell_type": "code",
   "execution_count": 34,
   "metadata": {
    "collapsed": true
   },
   "outputs": [],
   "source": [
    "taglis = list()"
   ]
  },
  {
   "cell_type": "code",
   "execution_count": 37,
   "metadata": {
    "collapsed": false
   },
   "outputs": [
    {
     "name": "stdout",
     "output_type": "stream",
     "text": [
      "it is not there\n",
      "blog tags: test, bot\n",
      "#test\n",
      "#bot\n"
     ]
    }
   ],
   "source": [
    "if any(blognam in s for s in osdi):\n",
    "    print('post is there - choose a diff name')\n",
    "    raise SystemExit\n",
    "else:\n",
    "    print('it is not there')\n",
    "    \n",
    "    copyfile('/home/{}/test.ipynb'.format(myusr), '/home/{}/git/wcmckee.com/posts/{}'.format(myusr, blognam))\n",
    "    #with open(blagpat + blognam, \"w+\", encoding=\"utf8\") as fd:\n",
    "    #    nbformat.write(blagpat + blognam, fd, 'ipynb')\n",
    "    #nbformat.writes(blagpat + blognam, 'ipynb')\n",
    "    #os.mknod(blagpat + blognam)\n",
    "    tagblog = input('blog tags: ')\n",
    "    with open(blagpat + nameofblogpost + '.meta', 'w') as blmet:\n",
    "        blmet.write('.. title: ' + nameofblogpost + ' \\n' + '.. slug: ' + nameofblogpost + ' \\n' + '.. date: ' + str(nowtime) + ' \\n' +  '.. tags: ' + tagblog + '\\n' + '.. link:\\n.. description:\\n.. type: text')\n",
    "        \n",
    "    tagspl = tagblog.split(',')\n",
    "    \n",
    "    for ta in tagspl:\n",
    "        print( '#' + ta.replace(' ', ''))\n",
    "        taglis.append( '#' + ta.replace(' ', ''))\n",
    "        \n",
    "    jointag = (' '.join(taglis))\n",
    "    api.update_with_media('{}{}/{}'.format(gifpat, namofgifsea, ranlocgif), status='Started typing script {} {}'.format(blognam, jointag))\n",
    "        \n",
    "    #wcm_bot.send_tweet('Started typing script {} {} {}'.format(blognam, rangifurl, jointag))"
   ]
  },
  {
   "cell_type": "code",
   "execution_count": 38,
   "metadata": {
    "collapsed": false
   },
   "outputs": [],
   "source": [
    "os.remove(gifpat + namofgifsea +  '/' + ranlocgif)"
   ]
  },
  {
   "cell_type": "code",
   "execution_count": null,
   "metadata": {
    "collapsed": true
   },
   "outputs": [],
   "source": []
  }
 ],
 "metadata": {
  "kernelspec": {
   "display_name": "Python 3",
   "language": "python",
   "name": "python3"
  },
  "language_info": {
   "codemirror_mode": {
    "name": "ipython",
    "version": 3
   },
   "file_extension": ".py",
   "mimetype": "text/x-python",
   "name": "python",
   "nbconvert_exporter": "python",
   "pygments_lexer": "ipython3",
   "version": "3.4.2"
  }
 },
 "nbformat": 4,
 "nbformat_minor": 1
}
