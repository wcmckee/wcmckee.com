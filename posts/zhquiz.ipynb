{
 "cells": [
  {
   "cell_type": "code",
   "execution_count": 1,
   "metadata": {},
   "outputs": [],
   "source": [
    "import sqlite3\n",
    "import requests"
   ]
  },
  {
   "cell_type": "code",
   "execution_count": 44,
   "metadata": {},
   "outputs": [],
   "source": [
    "import dankmeme"
   ]
  },
  {
   "cell_type": "code",
   "execution_count": 45,
   "metadata": {},
   "outputs": [],
   "source": [
    "dankmeme.creatememe('/home/wcmckee/meme/meme/galleries/default/61585.jpg', \n",
    "                    \"/mnt/c/Users/luke/Downloads/impact.ttf\",\n",
    "                    'CHECKS OVERSEAS WEATHER OF GIRL HE LIKES',\n",
    "                    'GETS THE COUNTRY WRONG', '/mnt/c/Users/luke/Desktop/t2.jpg')"
   ]
  },
  {
   "cell_type": "code",
   "execution_count": null,
   "metadata": {},
   "outputs": [],
   "source": []
  },
  {
   "cell_type": "code",
   "execution_count": 2,
   "metadata": {},
   "outputs": [],
   "source": [
    "def createQuizDB(namedb):\n",
    "    conn = sqlite3.connect('{}.db'.format(namedb))\n",
    "    c = conn.cursor()\n",
    "\n",
    "    # Create table\n",
    "    c.execute('''CREATE TABLE quiz\n",
    "             (zhch text, english text, image text, pingyin text)''')"
   ]
  },
  {
   "cell_type": "code",
   "execution_count": 16,
   "metadata": {},
   "outputs": [],
   "source": [
    "createQuizDB('china')"
   ]
  },
  {
   "cell_type": "code",
   "execution_count": 57,
   "metadata": {},
   "outputs": [],
   "source": [
    "def createQuiz(zhch, english, wrong, image):\n",
    "    conn = sqlite3.connect('china.db')\n",
    "    c = conn.cursor()\n",
    "    #hashpass = pwd_context.hash(password)\n",
    "    hanjs = requests.get('https://glosbe.com/transliteration/api?from=Han&dest=Latin&text={}&format=json'.format(zhch))\n",
    "    pingzh = hanjs.json()\n",
    "    dankmeme.creatememe('/home/wcmckee/meme/meme/galleries/default/61585.jpg', \n",
    "                    \"/mnt/c/Users/luke/Downloads/mingliu.ttc\",\n",
    "                    zhch, pingzh['text'], '/mnt/c/Users/luke/Desktop/{}.jpg'.format(english.replace(' ', '-')))\n",
    "    c.execute(\"INSERT INTO quiz VALUES ('{}', '{}', '{}', '{}', '{}')\".format(zhch, english, wrong, image, pingzh['text']))\n",
    "    \n",
    "    conn.commit()\n",
    "\n",
    "    # We can also close the connection if we are done with it.\n",
    "    # Just be sure any changes have been committed or they will be lost.\n",
    "    conn.close()\n",
    "    #returnCountUsers()\n"
   ]
  },
  {
   "cell_type": "code",
   "execution_count": 49,
   "metadata": {},
   "outputs": [],
   "source": [
    "def returnQuiz():\n",
    "    conn = sqlite3.connect('china.db')\n",
    "    c = conn.cursor()\n",
    "    allfod = c.execute('SELECT * FROM quiz')\n",
    "    return(allfod.fetchall())"
   ]
  },
  {
   "cell_type": "code",
   "execution_count": 50,
   "metadata": {},
   "outputs": [],
   "source": [
    "def returnRandomQuiz():\n",
    "    conn = sqlite3.connect('china.db')\n",
    "    c = conn.cursor()\n",
    "    allfod = c.execute('SELECT * FROM quiz ORDER BY RANDOM() LIMIT 1;')\n",
    "    return(allfod.fetchall())"
   ]
  },
  {
   "cell_type": "code",
   "execution_count": 51,
   "metadata": {},
   "outputs": [],
   "source": [
    "returnran = returnRandomQuiz()"
   ]
  },
  {
   "cell_type": "code",
   "execution_count": 52,
   "metadata": {},
   "outputs": [
    {
     "data": {
      "text/plain": [
       "'我不爱你'"
      ]
     },
     "execution_count": 52,
     "metadata": {},
     "output_type": "execute_result"
    }
   ],
   "source": [
    "returnran[0][0]"
   ]
  },
  {
   "cell_type": "code",
   "execution_count": 53,
   "metadata": {},
   "outputs": [
    {
     "data": {
      "text/plain": [
       "[('你不吃吗？',\n",
       "  'you do not eat it?',\n",
       "  'we ate the food',\n",
       "  'img12.jpg',\n",
       "  'nǐ bù chī ma？'),\n",
       " ('我不爱你', 'I do not love you', '我爱她平', 'test.png', 'wǒ bù ài nǐ'),\n",
       " ('奶茶', 'milk tea', '茶爱奶茶', '1.png', 'nǎi chá'),\n",
       " ('珍珠奶茶，大杯，去冰，不要糖，謝謝',\n",
       "  'Pearl (bubble) milk tea, No ice, No sugar, thank you.',\n",
       "  '我是谢谢不高你杯 天天',\n",
       "  '1.png',\n",
       "  'zhēn zhū nǎi chá， dà bēi， qù bīng， bù yào táng， xiè xiè'),\n",
       " ('我爱吃珍珠奶茶',\n",
       "  'I love to drink Pearl (bubble) milk tea',\n",
       "  '我爱是谢',\n",
       "  '1.png',\n",
       "  'wǒ ài chī zhēn zhū nǎi chá')]"
      ]
     },
     "execution_count": 53,
     "metadata": {},
     "output_type": "execute_result"
    }
   ],
   "source": [
    "returnQuiz()"
   ]
  },
  {
   "cell_type": "code",
   "execution_count": 54,
   "metadata": {},
   "outputs": [
    {
     "ename": "NameError",
     "evalue": "name '奶茶' is not defined",
     "output_type": "error",
     "traceback": [
      "\u001b[0;31m---------------------------------------------------------------------------\u001b[0m",
      "\u001b[0;31mNameError\u001b[0m                                 Traceback (most recent call last)",
      "\u001b[0;32m<ipython-input-54-9ffa3b842ffe>\u001b[0m in \u001b[0;36m<module>\u001b[0;34m\u001b[0m\n\u001b[0;32m----> 1\u001b[0;31m \u001b[0m奶茶\u001b[0m\u001b[0;34m\u001b[0m\u001b[0m\n\u001b[0m",
      "\u001b[0;31mNameError\u001b[0m: name '奶茶' is not defined"
     ]
    }
   ],
   "source": [
    "奶茶"
   ]
  },
  {
   "cell_type": "code",
   "execution_count": 58,
   "metadata": {},
   "outputs": [],
   "source": [
    "createQuiz('我是她的哥哥', 'I am her brother', '你不得嘛嘛', '1.png')"
   ]
  },
  {
   "cell_type": "code",
   "execution_count": 59,
   "metadata": {},
   "outputs": [
    {
     "data": {
      "text/plain": [
       "[('你不吃吗？',\n",
       "  'you do not eat it?',\n",
       "  'we ate the food',\n",
       "  'img12.jpg',\n",
       "  'nǐ bù chī ma？'),\n",
       " ('我不爱你', 'I do not love you', '我爱她平', 'test.png', 'wǒ bù ài nǐ'),\n",
       " ('奶茶', 'milk tea', '茶爱奶茶', '1.png', 'nǎi chá'),\n",
       " ('珍珠奶茶，大杯，去冰，不要糖，謝謝',\n",
       "  'Pearl (bubble) milk tea, No ice, No sugar, thank you.',\n",
       "  '我是谢谢不高你杯 天天',\n",
       "  '1.png',\n",
       "  'zhēn zhū nǎi chá， dà bēi， qù bīng， bù yào táng， xiè xiè'),\n",
       " ('我爱吃珍珠奶茶',\n",
       "  'I love to drink Pearl (bubble) milk tea',\n",
       "  '我爱是谢',\n",
       "  '1.png',\n",
       "  'wǒ ài chī zhēn zhū nǎi chá'),\n",
       " ('我爱吃珍珠奶茶',\n",
       "  'I love to drink Pearl (bubble) milk tea',\n",
       "  '我爱是谢',\n",
       "  '1.png',\n",
       "  'wǒ ài chī zhēn zhū nǎi chá'),\n",
       " ('我是她的哥哥', 'I am her brother', '你不得嘛嘛', '1.png', 'wǒ shì tā de gē gē')]"
      ]
     },
     "execution_count": 59,
     "metadata": {},
     "output_type": "execute_result"
    }
   ],
   "source": [
    "returnQuiz()"
   ]
  },
  {
   "cell_type": "code",
   "execution_count": 37,
   "metadata": {},
   "outputs": [
    {
     "data": {
      "text/plain": [
       "'nǐ bù chī ma？'"
      ]
     },
     "execution_count": 37,
     "metadata": {},
     "output_type": "execute_result"
    }
   ],
   "source": [
    "returnran[0][4]"
   ]
  },
  {
   "cell_type": "code",
   "execution_count": null,
   "metadata": {},
   "outputs": [],
   "source": []
  },
  {
   "cell_type": "code",
   "execution_count": 26,
   "metadata": {},
   "outputs": [],
   "source": [
    "import svgwrite"
   ]
  },
  {
   "cell_type": "code",
   "execution_count": 27,
   "metadata": {},
   "outputs": [],
   "source": [
    "dwg = svgwrite.Drawing('example.svg', profile='tiny')"
   ]
  },
  {
   "cell_type": "code",
   "execution_count": 43,
   "metadata": {},
   "outputs": [],
   "source": [
    "import svgwrite\n",
    "\n",
    "dwg = svgwrite.Drawing('test.svg', profile='tiny')\n",
    "dwg.add(dwg.text(returnran[0][0], insert=(0, 0), font_size=\"12px\", fill='red'))\n",
    "dwg.add(dwg.text(returnran[0][4], insert=(0, 12), font_size=\"12px\", fill='black'))\n",
    "\n",
    "dwg.save()"
   ]
  },
  {
   "cell_type": "code",
   "execution_count": null,
   "metadata": {},
   "outputs": [],
   "source": []
  },
  {
   "cell_type": "code",
   "execution_count": 36,
   "metadata": {},
   "outputs": [
    {
     "data": {
      "text/plain": [
       "'你不吃吗？'"
      ]
     },
     "execution_count": 36,
     "metadata": {},
     "output_type": "execute_result"
    }
   ],
   "source": [
    "#returnq[0][0]"
   ]
  },
  {
   "cell_type": "code",
   "execution_count": 73,
   "metadata": {},
   "outputs": [
    {
     "name": "stdout",
     "output_type": "stream",
     "text": [
      "What is \"我是男人\" in english? i am man\n"
     ]
    }
   ],
   "source": [
    "#answerq = input('What is \"{}\" in english? '.format(returnq[0][0]))"
   ]
  },
  {
   "cell_type": "code",
   "execution_count": 74,
   "metadata": {},
   "outputs": [
    {
     "data": {
      "text/plain": [
       "'i am man'"
      ]
     },
     "execution_count": 74,
     "metadata": {},
     "output_type": "execute_result"
    }
   ],
   "source": [
    "#returnq[0][1]\n"
   ]
  },
  {
   "cell_type": "code",
   "execution_count": null,
   "metadata": {},
   "outputs": [],
   "source": []
  },
  {
   "cell_type": "code",
   "execution_count": null,
   "metadata": {},
   "outputs": [],
   "source": []
  },
  {
   "cell_type": "code",
   "execution_count": 75,
   "metadata": {},
   "outputs": [
    {
     "name": "stdout",
     "output_type": "stream",
     "text": [
      "correct\n"
     ]
    }
   ],
   "source": [
    "#if answerq == returnq[0][1]:\n",
    "#    print('correct')\n",
    "#else:\n",
    "#    print('wrong')\n",
    "    "
   ]
  },
  {
   "cell_type": "code",
   "execution_count": null,
   "metadata": {},
   "outputs": [],
   "source": [
    "#SELECT * FROM table ORDER BY RANDOM() LIMIT 1;"
   ]
  },
  {
   "cell_type": "code",
   "execution_count": null,
   "metadata": {},
   "outputs": [],
   "source": []
  },
  {
   "cell_type": "code",
   "execution_count": 27,
   "metadata": {},
   "outputs": [],
   "source": [
    "#createQuizDB('china')"
   ]
  },
  {
   "cell_type": "code",
   "execution_count": 31,
   "metadata": {},
   "outputs": [],
   "source": [
    "#createQuiz('我不爱你', 'I do not love you', '我爱她平', 'test.png')"
   ]
  },
  {
   "cell_type": "code",
   "execution_count": 1,
   "metadata": {},
   "outputs": [],
   "source": [
    "#def createquiz(zhch, engls, wronganswers, image):\n",
    "#    hanjs = requests.get('https://glosbe.com/transliteration/api?from=Han&dest=Latin&text={}&format=json'.format(zhch))\n",
    "#    pingzh = hanjs.json()\n",
    "#    return({'zh-ch' : zhch, 'englis' : engls, 'wrong' : wronganswers, 'image' : image, 'pinyin' : pingzh['text']})"
   ]
  },
  {
   "cell_type": "code",
   "execution_count": 4,
   "metadata": {},
   "outputs": [],
   "source": [
    "#quizjs = createquiz('我不爱你', 'I do not love you', '我爱她平', 'test.png')"
   ]
  },
  {
   "cell_type": "code",
   "execution_count": 5,
   "metadata": {},
   "outputs": [
    {
     "data": {
      "text/plain": [
       "'我爱她平'"
      ]
     },
     "execution_count": 5,
     "metadata": {},
     "output_type": "execute_result"
    }
   ],
   "source": [
    "#quizjs['wrong']"
   ]
  },
  {
   "cell_type": "code",
   "execution_count": 6,
   "metadata": {},
   "outputs": [
    {
     "data": {
      "text/plain": [
       "'我不爱你'"
      ]
     },
     "execution_count": 6,
     "metadata": {},
     "output_type": "execute_result"
    }
   ],
   "source": [
    "#quizjs['zh-ch']"
   ]
  },
  {
   "cell_type": "code",
   "execution_count": 7,
   "metadata": {},
   "outputs": [
    {
     "data": {
      "text/plain": [
       "{'englis': 'I do not love you',\n",
       " 'image': 'test.png',\n",
       " 'pinyin': 'wǒ bù ài nǐ',\n",
       " 'wrong': '我爱她平',\n",
       " 'zh-ch': '我不爱你'}"
      ]
     },
     "execution_count": 7,
     "metadata": {},
     "output_type": "execute_result"
    }
   ],
   "source": [
    "#quizjs"
   ]
  },
  {
   "cell_type": "code",
   "execution_count": null,
   "metadata": {},
   "outputs": [],
   "source": [
    "#print()"
   ]
  },
  {
   "cell_type": "code",
   "execution_count": null,
   "metadata": {},
   "outputs": [],
   "source": [
    "#qweqw"
   ]
  },
  {
   "cell_type": "code",
   "execution_count": 5,
   "metadata": {},
   "outputs": [
    {
     "name": "stdout",
     "output_type": "stream",
     "text": [
      "你好\n"
     ]
    }
   ],
   "source": [
    "#print('你好')"
   ]
  }
 ],
 "metadata": {
  "kernelspec": {
   "display_name": "Python 3",
   "language": "python",
   "name": "python3"
  },
  "language_info": {
   "codemirror_mode": {
    "name": "ipython",
    "version": 3
   },
   "file_extension": ".py",
   "mimetype": "text/x-python",
   "name": "python",
   "nbconvert_exporter": "python",
   "pygments_lexer": "ipython3",
   "version": "3.5.3"
  }
 },
 "nbformat": 4,
 "nbformat_minor": 2
}
