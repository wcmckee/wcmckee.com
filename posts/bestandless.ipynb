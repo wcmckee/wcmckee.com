{
 "cells": [
  {
   "cell_type": "markdown",
   "metadata": {},
   "source": [
    "best&less account stuff\n",
    "\n",
    "Python command line script to register, lookup, edit, delete accounts. The accounts are sorted by email address.\n",
    "\n",
    "Changes from current:\n",
    "\n",
    "ask twice for email and password\n",
    "\n",
    "force captive \n",
    "\n",
    "For every account:\n",
    "\n",
    "Creates a config file. Creates a json object. Creates a markdown blog post with python-nikola. Creates socially awkward seal GOODBYE FIRSTNAME, HELLO FIRSTNAME meme.\n",
    "\n",
    "3 database record of previous entries. \n",
    "\n",
    "gender - display male.jpg for male and female.jpg for female\n",
    "\n",
    "Gets art quote of the day and replaces art with fashion. add fashion to middle of authors name. add quote to top of blog post. \n",
    "TODO: display quote as image \n",
    "\n",
    "random choice of clothes. Pregenerated random, recommended. currently random choice of -  "
   ]
  },
  {
   "cell_type": "code",
   "execution_count": null,
   "metadata": {},
   "outputs": [],
   "source": []
  },
  {
   "cell_type": "code",
   "execution_count": 1,
   "metadata": {},
   "outputs": [],
   "source": [
    "import requests\n",
    "import bs4\n",
    "import getpass\n",
    "import json\n",
    "import shutil\n",
    "import PIL\n",
    "import json\n",
    "from PIL import ImageDraw, ImageFont\n",
    "import os\n",
    "#import arrow\n",
    "import configparser"
   ]
  },
  {
   "cell_type": "code",
   "execution_count": 2,
   "metadata": {},
   "outputs": [],
   "source": [
    "myusr = getpass.getuser()"
   ]
  },
  {
   "cell_type": "code",
   "execution_count": 3,
   "metadata": {},
   "outputs": [],
   "source": [
    "import arrow"
   ]
  },
  {
   "cell_type": "code",
   "execution_count": 4,
   "metadata": {},
   "outputs": [
    {
     "name": "stdout",
     "output_type": "stream",
     "text": [
      "Enter first name: will\n",
      "Enter last name: mckee\n",
      "Suggestions willmckee\n",
      "Enter username: willmckee\n",
      "Enter email: will@artcontrol.me\n",
      "Enter email again: will@artcontrol.me\n",
      "Email are the same\n",
      "date of birth: YEAR/MNTH/DAY: 2001/12/12\n",
      "Enter password: ········\n",
      "Enter password again: ········\n",
      "They are correct\n",
      "gender: male\n"
     ]
    }
   ],
   "source": [
    "loginda = input('Enter first name: ')\n",
    "loglast = input('Enter last name: ')\n",
    "print('Suggestions {}{}'.format(loginda, loglast))\n",
    "userset = input('Enter username: ')\n",
    "logemail = input('Enter email: ')\n",
    "emailtwic = input('Enter email again: ')\n",
    "if logemail == emailtwic:\n",
    "    print('Email are the same')\n",
    "else:\n",
    "    print('Email is not the same')\n",
    "        \n",
    "bodenter = input('date of birth: YEAR/MNTH/DAY: ')\n",
    "datebith = arrow.get(bodenter)\n",
    "datebithz = datebith.strftime('%Y')\n",
    "    \n",
    "passent = getpass.getpass('Enter password: ')\n",
    "passagain = getpass.getpass('Enter password again: ')\n",
    "if passent == passagain:\n",
    "    print('They are correct')\n",
    "    \n",
    "else:\n",
    "    print('They are not correct')\n",
    "        \n",
    "imgend = input('gender: ')\n",
    "    \n",
    "    #import ConfigParser\n",
    "\n",
    "config = configparser.RawConfigParser()\n",
    "\n",
    "    # When adding sections or items, add them in the reverse order of\n",
    "    # how you want them to be displayed in the actual file.\n",
    "    # In addition, please note that using RawConfigParser's and the raw\n",
    "    # mode of ConfigParser's respective set functions, you can assign\n",
    "    # non-string values to keys internally, but will receive an error\n",
    "    # when attempting to write to a file or when you get it in non-raw\n",
    "    # mode. SafeConfigParser does not allow such assignments to take place.\n",
    "config.add_section(logemail)\n",
    "config.set(logemail, 'firstname', loginda)\n",
    "config.set(logemail, 'lastname', loglast)\n",
    "config.set(logemail, 'email', logemail)\n",
    "    # Writing our configuration file to 'example.cfg'\n",
    "with open('/home/pi/.config/bestless.ini', 'w') as configfile:\n",
    "    config.write(configfile)\n"
   ]
  },
  {
   "cell_type": "code",
   "execution_count": 5,
   "metadata": {},
   "outputs": [],
   "source": [
    "import os\n",
    "import random"
   ]
  },
  {
   "cell_type": "code",
   "execution_count": 92,
   "metadata": {},
   "outputs": [],
   "source": [
    "if imgend == 'male':\n",
    "    genpat = ('/galleries/male.jpg')\n",
    "    rancho = random.choice(os.listdir('/home/pi/memetest/galleries/male/'))\n",
    "    genshit = ('/galleries/male/{}'.format(rancho))\n",
    "    #gmal = requests.get('https://api.gilt.com/v1/sales/men/upcoming.json?apikey=bb7cf716ec52e7a7737705f0129ed4282a35239a0a6b8a821e68f30a00ecc1a7')\n",
    "\n",
    "elif imgend == 'female':\n",
    "    genpat = ('/galleries/female.jpg')\n",
    "    rancho = random.choice(os.listdir('/home/pi/memetest/galleries/female/'))\n",
    "    #gmal = requests.get('https://api.gilt.com/v1/sales/women/upcoming.json?apikey=bb7cf716ec52e7a7737705f0129ed4282a35239a0a6b8a821e68f30a00ecc1a7')\n",
    "\n",
    "    genshit = ('/galleries/female/{}'.format(rancho))"
   ]
  },
  {
   "cell_type": "code",
   "execution_count": 71,
   "metadata": {},
   "outputs": [],
   "source": [
    "#salejs = gmal.json()"
   ]
  },
  {
   "cell_type": "code",
   "execution_count": 78,
   "metadata": {},
   "outputs": [],
   "source": [
    "#salelen = len(salejs['sales'])"
   ]
  },
  {
   "cell_type": "code",
   "execution_count": 87,
   "metadata": {},
   "outputs": [
    {
     "name": "stdout",
     "output_type": "stream",
     "text": [
      "Suede boots, leather sneakers, and more for wherever the day (or night) may take you\n",
      "https://cdn1.gilt.com/images/share/uploads/0000/0005/1726/517269805/orig.jpg\n",
      "Contemporary picks for partying or parlaying\n",
      "https://cdn1.gilt.com/images/share/uploads/0000/0005/1752/517526486/orig.jpg\n",
      "Stay stylishly warm with gloves, scarves, and more\n",
      "https://cdn1.gilt.com/images/share/uploads/0000/0005/1756/517563618/orig.jpg\n",
      "Get your wardrobe together at prices you can’t miss\n",
      "https://cdn1.gilt.com/images/share/uploads/0000/0005/1702/517028519/orig.jpg\n",
      "The essentials you need to upgrade your look at can’t-beat prices\n",
      "https://cdn1.gilt.com/images/share/uploads/0000/0005/1756/517565775/orig.jpg\n",
      "The perfect layering piece to keep you warm in style\n",
      "https://cdn1.gilt.com/images/share/uploads/0000/0005/1702/517027992/orig.jpg\n",
      "Minimalist styles for the modern man\n",
      "https://cdn1.gilt.com/images/share/uploads/0000/0005/1731/517318169/orig.jpg\n",
      "Sophisticated pieces for an instantly pulled-together look\n",
      "https://cdn1.gilt.com/images/share/uploads/0000/0005/1726/517269652/orig.jpg\n",
      "Get your dapper look together—before the ball drops\n",
      "https://cdn1.gilt.com/images/share/uploads/0000/0005/1656/516565162/orig.jpg\n",
      "Handsome selects that complete your look\n",
      "https://cdn1.gilt.com/images/share/uploads/0000/0005/1727/517270236/orig.jpg\n",
      "From colorful to classic, find the shape that suits you best\n",
      "https://cdn1.gilt.com/images/share/uploads/0000/0005/1726/517269900/orig.jpg\n",
      "Elevated basics, from undershirts to briefs\n",
      "https://cdn1.gilt.com/images/share/uploads/0000/0005/1727/517276348/orig.jpg\n"
     ]
    }
   ],
   "source": [
    "#for salele in range(salelen):\n",
    "#    print(salejs['sales'][salele]['description'])\n",
    "#    print(salejs['sales'][salele]['image_urls']['686x374'][0]['url'])"
   ]
  },
  {
   "cell_type": "code",
   "execution_count": 65,
   "metadata": {},
   "outputs": [
    {
     "data": {
      "text/plain": [
       "<Response [200]>"
      ]
     },
     "execution_count": 65,
     "metadata": {},
     "output_type": "execute_result"
    }
   ],
   "source": [
    "#requests.get('https://api.gilt.com/v1/sales/men/upcoming.json?apikey=bb7cf716ec52e7a7737705f0129ed4282a35239a0a6b8a821e68f30a00ecc1a7')"
   ]
  },
  {
   "cell_type": "code",
   "execution_count": null,
   "metadata": {},
   "outputs": [],
   "source": [
    "#https://api.gilt.com/v1/sales/women/active.json?apikey=bb7cf716ec52e7a7737705f0129ed4282a35239a0a6b8a821e68f30a00ecc1a7"
   ]
  },
  {
   "cell_type": "code",
   "execution_count": 7,
   "metadata": {},
   "outputs": [
    {
     "data": {
      "text/plain": [
       "'/galleries/male/male-shorts.jpeg'"
      ]
     },
     "execution_count": 7,
     "metadata": {},
     "output_type": "execute_result"
    }
   ],
   "source": [
    "genshit"
   ]
  },
  {
   "cell_type": "code",
   "execution_count": 8,
   "metadata": {},
   "outputs": [],
   "source": [
    "#import random"
   ]
  },
  {
   "cell_type": "code",
   "execution_count": 9,
   "metadata": {},
   "outputs": [],
   "source": [
    "#ranum = random.randint(100,1000)"
   ]
  },
  {
   "cell_type": "code",
   "execution_count": 10,
   "metadata": {},
   "outputs": [],
   "source": [
    "#for it in range(100,1000):\n",
    "#    print('suggestion: {}{}{}'.format(loginda, loglast, it))"
   ]
  },
  {
   "cell_type": "code",
   "execution_count": 11,
   "metadata": {},
   "outputs": [],
   "source": [
    "#ranum"
   ]
  },
  {
   "cell_type": "code",
   "execution_count": 12,
   "metadata": {},
   "outputs": [],
   "source": [
    "#reqgif = requests.get('http://api.giphy.com/v1/gifs/search?q={}+fashion&api_key=ee58ff1d10c54fd29ddb0388126c2bcd'.format(datebith))"
   ]
  },
  {
   "cell_type": "code",
   "execution_count": 13,
   "metadata": {},
   "outputs": [],
   "source": [
    "#gifjs = reqgif.json()"
   ]
  },
  {
   "cell_type": "code",
   "execution_count": 14,
   "metadata": {},
   "outputs": [],
   "source": [
    "#for himg in range(25):\n",
    "    \n",
    "#    img_data = requests.get(gifjs['data'][himg]['images']['fixed_height']['url']).content\n",
    "#    with open('{}.gif'.format(str(himg)), 'wb') as handler:\n",
    "#        handler.write(img_data)\n",
    "#    print(gifjs['data'][himg]['images']['fixed_height']['url'])"
   ]
  },
  {
   "cell_type": "code",
   "execution_count": 15,
   "metadata": {},
   "outputs": [],
   "source": [
    "with open('/home/{}/account.json'.format(myusr), 'r') as accdict:\n",
    "    readd = accdict.read()\n",
    "    readdict = json.loads(readd)"
   ]
  },
  {
   "cell_type": "code",
   "execution_count": 16,
   "metadata": {},
   "outputs": [],
   "source": [
    "#readdict = json.loads(readd)"
   ]
  },
  {
   "cell_type": "code",
   "execution_count": 17,
   "metadata": {},
   "outputs": [],
   "source": [
    "#print(readdict)"
   ]
  },
  {
   "cell_type": "code",
   "execution_count": 18,
   "metadata": {},
   "outputs": [
    {
     "name": "stdout",
     "output_type": "stream",
     "text": [
      "Email to lookup: hammersmake@gmail.com\n"
     ]
    }
   ],
   "source": [
    "emailup = input('Email to lookup: ')"
   ]
  },
  {
   "cell_type": "code",
   "execution_count": 19,
   "metadata": {},
   "outputs": [
    {
     "name": "stdout",
     "output_type": "stream",
     "text": [
      "{'lastname': 'Bill', 'email': 'hammersmake@gmail.com', 'password': 'hashthis', 'agehuman': '15 years ago', 'firstname': 'Will', 'gender': 'male', 'id': 7, 'dob': '2001/12/25'}\n"
     ]
    }
   ],
   "source": [
    "print(readdict[emailup])"
   ]
  },
  {
   "cell_type": "code",
   "execution_count": 20,
   "metadata": {},
   "outputs": [],
   "source": [
    "emailcont = ('Hello {},\\n\\nToday we have sale on {}. It is suitable for someone born {}.\\n\\nHave a great day,\\n\\nbest&less.'.format(loginda, imgend, datebith.humanize(), str(datebithz)))"
   ]
  },
  {
   "cell_type": "code",
   "execution_count": 21,
   "metadata": {},
   "outputs": [
    {
     "data": {
      "text/plain": [
       "'Hello will,\\n\\nToday we have sale on male. It is suitable for someone born 16 years ago.\\n\\nHave a great day,\\n\\nbest&less.'"
      ]
     },
     "execution_count": 21,
     "metadata": {},
     "output_type": "execute_result"
    }
   ],
   "source": [
    "emailcont"
   ]
  },
  {
   "cell_type": "code",
   "execution_count": null,
   "metadata": {},
   "outputs": [],
   "source": []
  },
  {
   "cell_type": "code",
   "execution_count": 22,
   "metadata": {},
   "outputs": [],
   "source": [
    "lenid = len(readdict)"
   ]
  },
  {
   "cell_type": "code",
   "execution_count": 23,
   "metadata": {},
   "outputs": [],
   "source": [
    "nexid = lenid + 1"
   ]
  },
  {
   "cell_type": "code",
   "execution_count": 24,
   "metadata": {},
   "outputs": [],
   "source": [
    "textzero = 'BYE ' + loginda \n",
    "textone = 'HELLO ' + loginda\n",
    "upzero = textzero.upper()\n",
    "\n",
    "botzero = textone.upper()\n",
    "\n",
    "\n",
    "# In[ ]:"
   ]
  },
  {
   "cell_type": "code",
   "execution_count": 25,
   "metadata": {},
   "outputs": [
    {
     "data": {
      "text/plain": [
       "'HELLO WILL'"
      ]
     },
     "execution_count": 25,
     "metadata": {},
     "output_type": "execute_result"
    }
   ],
   "source": [
    "botzero"
   ]
  },
  {
   "cell_type": "code",
   "execution_count": 26,
   "metadata": {},
   "outputs": [
    {
     "name": "stdout",
     "output_type": "stream",
     "text": [
      "(620, 397)\n",
      "79\n",
      "(275, 80)\n"
     ]
    }
   ],
   "source": [
    "#gheigh = (gtm['height'])\n",
    "#gwth = (gtm['width'])\n",
    "        #response = requests.get(gtm['url'], stream=True)\n",
    "        #with open('{}{}-reference.jpg'.format(repathz, str(rdz.author)), 'wb') as out_file:\n",
    "        #    shutil.copyfileobj(response.raw, out_file)\n",
    "        #    del response\n",
    "        \n",
    "        #with open('/home/{}/memetest/galleries/{}.png'.format(myusr, gtm['id']), 'wb') as out_file:\n",
    "        #    shutil.copyfileobj(response.raw, out_file)\n",
    "        #    del response\n",
    "            \n",
    "img = PIL.Image.open('/home/{}/Downloads/seal.jpg'.format(myusr))\n",
    "\n",
    "imageSize = img.size\n",
    "print(imageSize)\n",
    "        # find biggest font size that works\n",
    "fontSize = int(imageSize[1]/5)\n",
    "print(fontSize)\n",
    "font = ImageFont.truetype(\"/home/{}/impact.ttf\".format(myusr), fontSize)\n",
    "topTextSize = font.getsize(upzero)\n",
    "bottomTextSize = font.getsize(botzero)\n",
    "print(topTextSize)\n",
    "while topTextSize[0] > imageSize[0]-20 or bottomTextSize[0] > imageSize[0]-20:\n",
    "    fontSize = fontSize - 1\n",
    "    font = ImageFont.truetype(\"/home/{}/impact.ttf\".format(myusr), fontSize)\n",
    "    topTextSize = font.getsize(upzero)\n",
    "    bottomTextSize = font.getsize(botzero)\n",
    "    print(bottomTextSize)\n",
    "\n",
    "        # find top centered position for top text\n",
    "topTextPositionX = (imageSize[0]/2) - (topTextSize[0]/2)\n",
    "topTextPositionY = 0\n",
    "topTextPosition = (topTextPositionX, topTextPositionY)\n",
    "\n",
    "        # find bottom centered position for bottom text\n",
    "bottomTextPositionX = (imageSize[0]/2) - (bottomTextSize[0]/2)\n",
    "bottomTextPositionY = imageSize[1] - bottomTextSize[1] -10\n",
    "bottomTextPosition = (bottomTextPositionX, bottomTextPositionY)\n",
    "\n",
    "draw = ImageDraw.Draw(img)\n",
    "\n",
    "outlineRange = int(fontSize/15)\n",
    "for x in range(-outlineRange, outlineRange+1):\n",
    "    for y in range(-outlineRange, outlineRange+1):\n",
    "            draw.text((topTextPosition[0]+x, topTextPosition[1]+y), upzero, (0,0,0), font=font)\n",
    "            draw.text((bottomTextPosition[0]+x, bottomTextPosition[1]+y), botzero, (0,0,0), font=font)\n",
    "\n",
    "    draw.text(topTextPosition, upzero, (255,255,255), font=font)\n",
    "    draw.text(bottomTextPosition, botzero, (255,255,255), font=font)\n",
    "\n",
    "    img.save(\"/home/{}/memetest/galleries/{}.jpg\".format(myusr, str(nexid)))\n",
    "            #print(gtm['id'])\n",
    "            #filemh = gtm['id']\n",
    "    #print('hello')"
   ]
  },
  {
   "cell_type": "code",
   "execution_count": 27,
   "metadata": {},
   "outputs": [],
   "source": [
    "#reqote = requests.get('https://www.goodreads.com/quotes/tag/clothes')"
   ]
  },
  {
   "cell_type": "code",
   "execution_count": 28,
   "metadata": {},
   "outputs": [],
   "source": [
    "somequote = requests.get('http://quotes.rest/qod.json?category=art')"
   ]
  },
  {
   "cell_type": "code",
   "execution_count": 29,
   "metadata": {},
   "outputs": [],
   "source": [
    "quotejs = (somequote.json())"
   ]
  },
  {
   "cell_type": "code",
   "execution_count": 30,
   "metadata": {},
   "outputs": [],
   "source": [
    "myqute = (quotejs['contents']['quotes'][0]['quote'])"
   ]
  },
  {
   "cell_type": "code",
   "execution_count": 31,
   "metadata": {},
   "outputs": [],
   "source": [
    "lenqute = (quotejs['contents']['quotes'][0]['length'])"
   ]
  },
  {
   "cell_type": "code",
   "execution_count": 32,
   "metadata": {},
   "outputs": [],
   "source": [
    "qutefas = myqute.replace('art', 'fashion')"
   ]
  },
  {
   "cell_type": "code",
   "execution_count": 33,
   "metadata": {},
   "outputs": [
    {
     "data": {
      "text/plain": [
       "'The whole culture is telling you to hurry, while the fashion tells you to take your time. Always listen to the fashion.'"
      ]
     },
     "execution_count": 33,
     "metadata": {},
     "output_type": "execute_result"
    }
   ],
   "source": [
    "qutefas"
   ]
  },
  {
   "cell_type": "code",
   "execution_count": 34,
   "metadata": {},
   "outputs": [],
   "source": [
    "quoteauth = quotejs['contents']['quotes'][0]['author']"
   ]
  },
  {
   "cell_type": "code",
   "execution_count": 35,
   "metadata": {},
   "outputs": [],
   "source": [
    "auspit = quoteauth.split(' ')"
   ]
  },
  {
   "cell_type": "code",
   "execution_count": 36,
   "metadata": {},
   "outputs": [],
   "source": [
    "fashauthz = (auspit[0] + \" 'fashion' \" + auspit[1])"
   ]
  },
  {
   "cell_type": "code",
   "execution_count": 37,
   "metadata": {},
   "outputs": [],
   "source": [
    "bothquote = '\"' + qutefas + '\" - ' + fashauthz"
   ]
  },
  {
   "cell_type": "code",
   "execution_count": 38,
   "metadata": {},
   "outputs": [
    {
     "name": "stdout",
     "output_type": "stream",
     "text": [
      "\"The whole culture is telling you to hurry, while the fashion tells you to take your time. Always listen to the fashion.\" - Junot 'fashion' Diaz\n"
     ]
    }
   ],
   "source": [
    "print(bothquote)"
   ]
  },
  {
   "cell_type": "code",
   "execution_count": null,
   "metadata": {},
   "outputs": [],
   "source": []
  },
  {
   "cell_type": "code",
   "execution_count": 39,
   "metadata": {},
   "outputs": [
    {
     "name": "stdout",
     "output_type": "stream",
     "text": [
      "111\n"
     ]
    }
   ],
   "source": [
    "print(lenqute)"
   ]
  },
  {
   "cell_type": "code",
   "execution_count": 40,
   "metadata": {},
   "outputs": [
    {
     "data": {
      "text/plain": [
       "'111'"
      ]
     },
     "execution_count": 40,
     "metadata": {},
     "output_type": "execute_result"
    }
   ],
   "source": [
    "lenqute"
   ]
  },
  {
   "cell_type": "code",
   "execution_count": 41,
   "metadata": {},
   "outputs": [],
   "source": [
    "#if lenqute < 20:\n",
    "    "
   ]
  },
  {
   "cell_type": "code",
   "execution_count": 42,
   "metadata": {},
   "outputs": [],
   "source": [
    "#print(quotejs['contents']['quotes'][0]['id'])"
   ]
  },
  {
   "cell_type": "code",
   "execution_count": 43,
   "metadata": {},
   "outputs": [],
   "source": [
    "#float(lenqute) /2"
   ]
  },
  {
   "cell_type": "code",
   "execution_count": 44,
   "metadata": {},
   "outputs": [
    {
     "name": "stdout",
     "output_type": "stream",
     "text": [
      "(620, 397)\n",
      "79\n",
      "(3317, 88)\n"
     ]
    }
   ],
   "source": [
    "#gheigh = (gtm['height'])\n",
    "#gwth = (gtm['width'])\n",
    "        #response = requests.get(gtm['url'], stream=True)\n",
    "        #with open('{}{}-reference.jpg'.format(repathz, str(rdz.author)), 'wb') as out_file:\n",
    "        #    shutil.copyfileobj(response.raw, out_file)\n",
    "        #    del response\n",
    "        \n",
    "        #with open('/home/{}/memetest/galleries/{}.png'.format(myusr, gtm['id']), 'wb') as out_file:\n",
    "        #    shutil.copyfileobj(response.raw, out_file)\n",
    "        #    del response\n",
    "            \n",
    "img = PIL.Image.open('/home/pi/Downloads/seal.jpg')\n",
    "\n",
    "imageSize = img.size\n",
    "print(imageSize)\n",
    "        # find biggest font size that works\n",
    "fontSize = int(imageSize[1]/5)\n",
    "print(fontSize)\n",
    "font = ImageFont.truetype(\"/home/{}/impact.ttf\".format(myusr), fontSize)\n",
    "topTextSize = font.getsize(quotejs['contents']['quotes'][0]['quote'])\n",
    "#bottomTextSize = font.getsize(quotejs['contents']['quotes'][0]['quote'])\n",
    "print(topTextSize)\n",
    "while topTextSize[0] > imageSize[0]-20:\n",
    "    fontSize = fontSize - 1\n",
    "    font = ImageFont.truetype(\"/home/{}/impact.ttf\".format(myusr), fontSize)\n",
    "    topTextSize = font.getsize(quotejs['contents']['quotes'][0]['quote'])\n",
    "    #bottomTextSize = font.getsize(quotejs['contents']['quotes'][0]['quote'])\n",
    "    #print(bottomTextSize)\n",
    "\n",
    "        # find top centered position for top text\n",
    "topTextPositionX = (imageSize[0]/2) - (topTextSize[0]/2)\n",
    "topTextPositionY = 100\n",
    "topTextPosition = (topTextPositionX, topTextPositionY)\n",
    "\n",
    "        # find bottom centered position for bottom text\n",
    "#bottomTextPositionX = (imageSize[0]/2) - (bottomTextSize[0]/2)\n",
    "#bottomTextPositionY = imageSize[1] - bottomTextSize[1] -10\n",
    "#bottomTextPosition = (bottomTextPositionX, bottomTextPositionY)\n",
    "\n",
    "draw = ImageDraw.Draw(img)\n",
    "\n",
    "outlineRange = int(fontSize/15)\n",
    "for x in range(-outlineRange, outlineRange+1):\n",
    "    for y in range(-outlineRange, outlineRange+1):\n",
    "            draw.text((topTextPosition[0]+x, topTextPosition[1]+y), quotejs['contents']['quotes'][0]['quote'], (0,0,0), font=font)\n",
    "            #draw.text((bottomTextPosition[0]+x, bottomTextPosition[1]+y), quotejs['contents']['quotes'][0]['quote'], (0,0,0), font=font)\n",
    "\n",
    "    draw.text(topTextPosition, quotejs['contents']['quotes'][0]['quote'], (255,255,255), font=font)\n",
    "    #draw.text(bottomTextPosition, quotejs['contents']['quotes'][0]['quote'], (255,255,255), font=font)\n",
    "    img2 = img.crop((0, 80, 610,200))\n",
    "    #img2.save(\"img2.jpg\")\n",
    "\n",
    "    img2.save(\"/home/{}/memetest/galleries/{}.jpg\".format(myusr, str(quotejs['contents']['quotes'][0]['id'])))\n",
    "            #print(gtm['id'])\n",
    "            #filemh = gtm['id']\n",
    "    #print('hello')"
   ]
  },
  {
   "cell_type": "code",
   "execution_count": null,
   "metadata": {},
   "outputs": [],
   "source": []
  },
  {
   "cell_type": "code",
   "execution_count": null,
   "metadata": {},
   "outputs": [],
   "source": []
  },
  {
   "cell_type": "code",
   "execution_count": 45,
   "metadata": {},
   "outputs": [],
   "source": [
    "#print(reqote)"
   ]
  },
  {
   "cell_type": "code",
   "execution_count": 46,
   "metadata": {},
   "outputs": [],
   "source": [
    "#quotbs = bs4.BeautifulSoup(reqote.text)"
   ]
  },
  {
   "cell_type": "code",
   "execution_count": 47,
   "metadata": {
    "scrolled": true
   },
   "outputs": [],
   "source": [
    "#print(quotbs)"
   ]
  },
  {
   "cell_type": "code",
   "execution_count": 48,
   "metadata": {},
   "outputs": [],
   "source": [
    "#allquote = quotbs.find('div', {'class' : \"quoteText\"})"
   ]
  },
  {
   "cell_type": "code",
   "execution_count": 49,
   "metadata": {},
   "outputs": [],
   "source": [
    "#print(quotbs.find_all('a'))"
   ]
  },
  {
   "cell_type": "code",
   "execution_count": 50,
   "metadata": {},
   "outputs": [],
   "source": [
    "#for allq in allquote:\n",
    "#    print(allq)"
   ]
  },
  {
   "cell_type": "code",
   "execution_count": null,
   "metadata": {},
   "outputs": [],
   "source": []
  },
  {
   "cell_type": "code",
   "execution_count": 51,
   "metadata": {},
   "outputs": [],
   "source": [
    "accdict = ({logemail : dict({'firstname' : loginda, 'lastname' : loglast, 'email' : logemail, 'password' : 'hashthis', 'gender': imgend, 'agehuman' : datebith.humanize(),'dob' : bodenter, 'id' : nexid, 'image' : '/galleries/{}.jpg', 'username' : userset, 'post' : '/posts/{}.md'.format(str(nexid), str(nexid))})})"
   ]
  },
  {
   "cell_type": "code",
   "execution_count": 52,
   "metadata": {},
   "outputs": [],
   "source": [
    "#print(accdict)"
   ]
  },
  {
   "cell_type": "code",
   "execution_count": 53,
   "metadata": {},
   "outputs": [],
   "source": [
    "import json"
   ]
  },
  {
   "cell_type": "code",
   "execution_count": 54,
   "metadata": {},
   "outputs": [],
   "source": [
    "z = {**readdict, **accdict}"
   ]
  },
  {
   "cell_type": "code",
   "execution_count": 55,
   "metadata": {
    "scrolled": true
   },
   "outputs": [
    {
     "data": {
      "text/plain": [
       "{'beer@gmail.com': {'agehuman': '14 years ago',\n",
       "  'dob': '2003/12/12',\n",
       "  'email': 'beer@gmail.com',\n",
       "  'firstname': 'be',\n",
       "  'gender': 'male',\n",
       "  'id': 17,\n",
       "  'image': '/galleries/{}.jpg',\n",
       "  'lastname': 'er',\n",
       "  'password': 'hashthis',\n",
       "  'post': '/posts/17.md',\n",
       "  'username': 'beer'},\n",
       " 'debian@deb.com': {'agehuman': '15 years ago',\n",
       "  'dob': '2001/12/25',\n",
       "  'email': 'debian@deb.com',\n",
       "  'firstname': 'deb',\n",
       "  'gender': 'male',\n",
       "  'id': 8,\n",
       "  'lastname': 'ian',\n",
       "  'password': 'hashthis'},\n",
       " 'dude@gmail.com': {'agehuman': '16 years ago',\n",
       "  'dob': '2001/12/12',\n",
       "  'email': 'dude@gmail.com',\n",
       "  'firstname': 'dude',\n",
       "  'gender': 'female',\n",
       "  'id': 14,\n",
       "  'image': '/galleries/{}.jpg',\n",
       "  'lastname': 'liss',\n",
       "  'password': 'hashthis',\n",
       "  'post': '/posts/14.md',\n",
       "  'username': 'dudeliss'},\n",
       " 'dude@hayden.com': {'agehuman': '16 years ago',\n",
       "  'dob': '2001/09/11',\n",
       "  'email': 'dude@hayden.com',\n",
       "  'firstname': 'hay',\n",
       "  'gender': 'male',\n",
       "  'id': 10,\n",
       "  'lastname': 'den',\n",
       "  'password': 'hashthis'},\n",
       " 'funguy@gmail.com': {'agehuman': '16 years ago',\n",
       "  'dob': '2001/09/12',\n",
       "  'email': 'funguy@gmail.com',\n",
       "  'firstname': 'fun',\n",
       "  'gender': 'male',\n",
       "  'id': 12,\n",
       "  'image': '/galleries/{}.jpg',\n",
       "  'lastname': 'nny',\n",
       "  'password': 'hashthis',\n",
       "  'post': '/posts/12.md'},\n",
       " 'hammersmake@gmail.com': {'agehuman': '15 years ago',\n",
       "  'dob': '2001/12/25',\n",
       "  'email': 'hammersmake@gmail.com',\n",
       "  'firstname': 'Will',\n",
       "  'gender': 'male',\n",
       "  'id': 7,\n",
       "  'lastname': 'Bill',\n",
       "  'password': 'hashthis'},\n",
       " 'holley@mckee.com': {'agehuman': '29 years ago',\n",
       "  'dob': '1988/03/09',\n",
       "  'email': 'holley@mckee.com',\n",
       "  'firstname': 'Holley',\n",
       "  'gender': 'female',\n",
       "  'lastname': 'Mckee',\n",
       "  'password': 'hashthis'},\n",
       " 'joe@bin.com': {'agehuman': '72 years ago',\n",
       "  'dob': '1945/12/25',\n",
       "  'email': 'joe@bin.com',\n",
       "  'firstname': 'joe',\n",
       "  'gender': 'male',\n",
       "  'lastname': 'bin',\n",
       "  'password': 'hashthis'},\n",
       " 'lin@gmail.com': {'agehuman': '15 years ago',\n",
       "  'dob': '2001/12/25',\n",
       "  'email': 'lin@gmail.com',\n",
       "  'firstname': 'lin',\n",
       "  'gender': 'female',\n",
       "  'id': 7,\n",
       "  'lastname': 'dea',\n",
       "  'password': 'hashthis'},\n",
       " 'losers@gmail.com': {'agehuman': '29 years ago',\n",
       "  'dob': '1988/04/01',\n",
       "  'email': 'losers@gmail.com',\n",
       "  'firstname': 'los',\n",
       "  'gender': 'male',\n",
       "  'id': 16,\n",
       "  'image': '/galleries/{}.jpg',\n",
       "  'lastname': 'ers',\n",
       "  'password': 'hashthis',\n",
       "  'post': '/posts/16.md',\n",
       "  'username': 'losers'},\n",
       " 'myself@gmail.com': {'agehuman': '16 years ago',\n",
       "  'dob': '2001/02/12',\n",
       "  'email': 'myself@gmail.com',\n",
       "  'firstname': 'myse',\n",
       "  'gender': 'male',\n",
       "  'id': 18,\n",
       "  'image': '/galleries/{}.jpg',\n",
       "  'lastname': 'lf',\n",
       "  'password': 'hashthis',\n",
       "  'post': '/posts/18.md',\n",
       "  'username': 'myself'},\n",
       " 'p@moodley.com': {'agehuman': '41 years ago',\n",
       "  'dob': '1976/12/12',\n",
       "  'email': 'p@moodley.com',\n",
       "  'firstname': 'Peter',\n",
       "  'gender': 'female',\n",
       "  'lastname': 'Moodley',\n",
       "  'password': 'hashthis'},\n",
       " 'qwerty@gmail.com': {'agehuman': '16 years ago',\n",
       "  'dob': '2001/09/11',\n",
       "  'email': 'qwerty@gmail.com',\n",
       "  'firstname': 'qwe',\n",
       "  'gender': 'male',\n",
       "  'id': 13,\n",
       "  'image': '/galleries/{}.jpg',\n",
       "  'lastname': 'erty',\n",
       "  'password': 'hashthis',\n",
       "  'post': '/posts/13.md',\n",
       "  'username': 'qwerty'},\n",
       " 'random@gmail.com': {'agehuman': '16 years ago',\n",
       "  'dob': '2001/09/11',\n",
       "  'email': 'random@gmail.com',\n",
       "  'firstname': 'ran',\n",
       "  'gender': 'male',\n",
       "  'id': 11,\n",
       "  'lastname': 'dom',\n",
       "  'password': 'hashthis'},\n",
       " 'samsung@gmail.com': {'agehuman': '5 years ago',\n",
       "  'dob': '2012/02/02',\n",
       "  'email': 'samsung@gmail.com',\n",
       "  'firstname': 'sam',\n",
       "  'gender': 'male',\n",
       "  'id': 21,\n",
       "  'image': '/galleries/{}.jpg',\n",
       "  'lastname': 'sung',\n",
       "  'password': 'hashthis',\n",
       "  'post': '/posts/21.md',\n",
       "  'username': 'samsung'},\n",
       " 'somez@gmail.com': {'agehuman': '3 years ago',\n",
       "  'dob': '2013/12/25',\n",
       "  'email': 'somez@gmail.com',\n",
       "  'firstname': 'Someone',\n",
       "  'gender': 'male',\n",
       "  'lastname': 'Now',\n",
       "  'password': 'hashthis'},\n",
       " 'ubun@nut.com': {'agehuman': '16 years ago',\n",
       "  'dob': '2001/11/11',\n",
       "  'email': 'ubun@nut.com',\n",
       "  'firstname': 'ubun',\n",
       "  'gender': 'male',\n",
       "  'id': 9,\n",
       "  'lastname': 'tu',\n",
       "  'password': 'hashthis'},\n",
       " 'wazza@gmail.com': {'agehuman': '16 years ago',\n",
       "  'dob': '2001/02/02',\n",
       "  'email': 'wazza@gmail.com',\n",
       "  'firstname': 'waz',\n",
       "  'gender': 'female',\n",
       "  'id': 20,\n",
       "  'image': '/galleries/{}.jpg',\n",
       "  'lastname': 'za',\n",
       "  'password': 'hashthis',\n",
       "  'post': '/posts/20.md',\n",
       "  'username': 'wazza'},\n",
       " 'will@art.com': {'agehuman': '29 years ago',\n",
       "  'dob': '1988/12/12',\n",
       "  'email': 'will@art.com',\n",
       "  'firstname': 'seal',\n",
       "  'gender': 'female',\n",
       "  'id': 15,\n",
       "  'image': '/galleries/{}.jpg',\n",
       "  'lastname': 'aermy',\n",
       "  'password': 'hashthis',\n",
       "  'post': '/posts/15.md',\n",
       "  'username': 'sealaermy'},\n",
       " 'will@artcontrol.me': {'agehuman': '16 years ago',\n",
       "  'dob': '2001/12/12',\n",
       "  'email': 'will@artcontrol.me',\n",
       "  'firstname': 'will',\n",
       "  'gender': 'male',\n",
       "  'id': 22,\n",
       "  'image': '/galleries/{}.jpg',\n",
       "  'lastname': 'mckee',\n",
       "  'password': 'hashthis',\n",
       "  'post': '/posts/22.md',\n",
       "  'username': 'willmckee'},\n",
       " 'willmckee@gmail.com': {'agehuman': '16 years ago',\n",
       "  'dob': '2001/12/04',\n",
       "  'email': 'willmckee@gmail.com',\n",
       "  'firstname': 'will',\n",
       "  'gender': 'male',\n",
       "  'id': 19,\n",
       "  'image': '/galleries/{}.jpg',\n",
       "  'lastname': 'mckee',\n",
       "  'password': 'hashthis',\n",
       "  'post': '/posts/19.md',\n",
       "  'username': 'willmckee'},\n",
       " 'wow@gmail.com': {'agehuman': '32 years ago',\n",
       "  'dob': '1985/12/04',\n",
       "  'email': 'wow@gmail.com',\n",
       "  'firstname': 'woowa',\n",
       "  'gender': 'male',\n",
       "  'id': 6,\n",
       "  'lastname': 'never',\n",
       "  'password': 'hashthis'}}"
      ]
     },
     "execution_count": 55,
     "metadata": {},
     "output_type": "execute_result"
    }
   ],
   "source": [
    "z"
   ]
  },
  {
   "cell_type": "code",
   "execution_count": 56,
   "metadata": {},
   "outputs": [],
   "source": [
    "#json.dumps(accdict)"
   ]
  },
  {
   "cell_type": "code",
   "execution_count": 57,
   "metadata": {},
   "outputs": [],
   "source": [
    "with open('/home/pi/account.json', 'w') as blacc:\n",
    "    blacc.write(json.dumps(z))\n",
    "          "
   ]
  },
  {
   "cell_type": "code",
   "execution_count": 58,
   "metadata": {},
   "outputs": [],
   "source": [
    "#cat /home/pi/account.json"
   ]
  },
  {
   "cell_type": "code",
   "execution_count": 59,
   "metadata": {},
   "outputs": [],
   "source": [
    "timnow = arrow.now()"
   ]
  },
  {
   "cell_type": "code",
   "execution_count": 60,
   "metadata": {},
   "outputs": [],
   "source": [
    "timnowz = timnow.datetime"
   ]
  },
  {
   "cell_type": "code",
   "execution_count": 61,
   "metadata": {},
   "outputs": [],
   "source": [
    "#print(timnowz)"
   ]
  },
  {
   "cell_type": "code",
   "execution_count": 62,
   "metadata": {},
   "outputs": [],
   "source": [
    "with open('/home/{}/memetest/posts/{}.md'.format(myusr, str(nexid)), 'w') as resulmd:\n",
    "    resulmd.write('{}\\n\\n![{}](/galleries/{}.jpg)\\n\\n First name: {}\\n\\nLast name: {}\\n\\nEmail: {}\\n\\nGender: {}\\n\\n{}\\n\\n![gender]({})\\n\\n![cloth]({})'.format(bothquote, str(nexid), str(nexid), loginda, loglast, logemail, imgend, emailcont, genpat, genshit))\n",
    "        \n",
    "with open ('/home/{}/memetest/posts/{}.meta'.format(myusr, str(nexid)), 'w') as opmetat:\n",
    "    #opmetat.write(\"{}\".format(str(curtim))\n",
    "            #for arage in alltags:\n",
    "            #    print(arage)\n",
    "    opmetat.write('.. title: {}\\n.. slug: {}\\n.. date: {}\\n.. tags: \\n.. link:\\n.. description:\\n.. type: text'.format(str(nexid), str(nexid), timnowz))\n",
    "\n"
   ]
  },
  {
   "cell_type": "code",
   "execution_count": 63,
   "metadata": {},
   "outputs": [],
   "source": [
    "#with open('/home/pi/hugosite/content/post/{}.md'.format(str(nexid)), 'w') as hupost:\n",
    " #   hupost.write('+++\\ndate = \"{}\"\\ntitle = {}\\n\\n+++\\n\\nFirst name: {}\\n\\nLast name: {}\\n\\nUsername: {}\\n\\nEmail: {}\\n\\nGender: {}'.format(timnowz, str(nexid), loginda, loglast, logemail, imgend))\n",
    "    #hupost.write('+++\\ndate = \"{}\"\\ntitle = {}\\n\\n+++\\n\\nFirst name: '.format(timnowz))"
   ]
  },
  {
   "cell_type": "code",
   "execution_count": 91,
   "metadata": {},
   "outputs": [],
   "source": [
    "#for salele in range(salelen):\n",
    "    \n",
    "\n",
    "#    descript = (salejs['sales'][salele]['description'])\n",
    "#    imurl = (salejs['sales'][salele]['image_urls']['686x374'][0]['url'])\n",
    "#    with open('/home/{}/memetest/posts/{}.md'.format(myusr, str(nexid)), 'a') as resulmd:\n",
    "#        resulmd.write('\\n\\n![photo]({})\\n\\n'.format(imurl))"
   ]
  },
  {
   "cell_type": "code",
   "execution_count": null,
   "metadata": {},
   "outputs": [],
   "source": []
  },
  {
   "cell_type": "code",
   "execution_count": 64,
   "metadata": {},
   "outputs": [],
   "source": [
    "#cat /home/pi/hugosite/content/post/6.md"
   ]
  },
  {
   "cell_type": "code",
   "execution_count": null,
   "metadata": {},
   "outputs": [],
   "source": []
  },
  {
   "cell_type": "code",
   "execution_count": null,
   "metadata": {},
   "outputs": [],
   "source": []
  },
  {
   "cell_type": "code",
   "execution_count": null,
   "metadata": {},
   "outputs": [],
   "source": []
  },
  {
   "cell_type": "code",
   "execution_count": null,
   "metadata": {},
   "outputs": [],
   "source": []
  }
 ],
 "metadata": {
  "kernelspec": {
   "display_name": "Python 3",
   "language": "python",
   "name": "python3"
  },
  "language_info": {
   "codemirror_mode": {
    "name": "ipython",
    "version": 3
   },
   "file_extension": ".py",
   "mimetype": "text/x-python",
   "name": "python",
   "nbconvert_exporter": "python",
   "pygments_lexer": "ipython3",
   "version": "3.5.3"
  }
 },
 "nbformat": 4,
 "nbformat_minor": 2
}
