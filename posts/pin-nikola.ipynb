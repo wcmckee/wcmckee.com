{
 "cells": [
  {
   "cell_type": "markdown",
   "metadata": {},
   "source": [
    "Pin Nikola\n",
    "\n",
    "pinterest rss feed board parser. parse and retrieve url saving and creating data as json object. builds a Nikola static site with the data. "
   ]
  },
  {
   "cell_type": "code",
   "execution_count": 23,
   "metadata": {
    "collapsed": true
   },
   "outputs": [],
   "source": [
    "import requests\n",
    "#from flask import Flask, jsonify, abort\n",
    "import pickle\n",
    "#import pinata\n",
    "#from flask_restful import Resource, Api\n",
    "import getpass\n",
    "import xmltodict\n",
    "import json\n",
    "import arrow\n",
    "import os\n",
    "import bs4\n",
    "import PIL\n",
    "import shutil\n",
    "#from urlparse import urlparse\n",
    "#from PIL import Image\n"
   ]
  },
  {
   "cell_type": "code",
   "execution_count": 24,
   "metadata": {
    "collapsed": false
   },
   "outputs": [],
   "source": [
    "timnow = arrow.now()"
   ]
  },
  {
   "cell_type": "code",
   "execution_count": 25,
   "metadata": {
    "collapsed": true
   },
   "outputs": [],
   "source": [
    "myusr = getpass.getuser()"
   ]
  },
  {
   "cell_type": "code",
   "execution_count": 26,
   "metadata": {
    "collapsed": true
   },
   "outputs": [],
   "source": [
    "#facereq = requests.get('https://api.zalando.com/facets')"
   ]
  },
  {
   "cell_type": "code",
   "execution_count": 27,
   "metadata": {
    "collapsed": false
   },
   "outputs": [],
   "source": [
    "#facejs = facereq.json()"
   ]
  },
  {
   "cell_type": "code",
   "execution_count": 28,
   "metadata": {
    "collapsed": false
   },
   "outputs": [],
   "source": [
    "#flen = len(facejs)"
   ]
  },
  {
   "cell_type": "code",
   "execution_count": 29,
   "metadata": {
    "collapsed": false
   },
   "outputs": [],
   "source": [
    "#for fle in range(0, flen):\n",
    "#    print(facejs[fle]['filter'])\n",
    "#    \n",
    "#    face = (facejs[fle]['facets'])\n",
    "#    \n",
    "#    facelen = len(face)\n",
    "#    \n",
    "#    for fac in range(0, facelen):\n",
    "##        print(face[fac]['displayName'])\n",
    " #       \n",
    "#        print(face[fac]['key'])"
   ]
  },
  {
   "cell_type": "code",
   "execution_count": 30,
   "metadata": {
    "collapsed": true
   },
   "outputs": [],
   "source": [
    "reqhm = requests.get('https://pinterest.com/artctrl/feed.rss/')"
   ]
  },
  {
   "cell_type": "code",
   "execution_count": 31,
   "metadata": {
    "collapsed": false
   },
   "outputs": [],
   "source": [
    "xmlpin = xmltodict.parse(reqhm.text)"
   ]
  },
  {
   "cell_type": "code",
   "execution_count": 32,
   "metadata": {
    "collapsed": true
   },
   "outputs": [],
   "source": [
    "itlen = len(xmlpin['rss']['channel']['item'])"
   ]
  },
  {
   "cell_type": "code",
   "execution_count": 33,
   "metadata": {
    "collapsed": false
   },
   "outputs": [
    {
     "data": {
      "text/plain": [
       "25"
      ]
     },
     "execution_count": 33,
     "metadata": {},
     "output_type": "execute_result"
    }
   ],
   "source": [
    "itlen"
   ]
  },
  {
   "cell_type": "code",
   "execution_count": 34,
   "metadata": {
    "collapsed": false,
    "scrolled": true
   },
   "outputs": [
    {
     "name": "stdout",
     "output_type": "stream",
     "text": [
      "{'751678994025897785': {'url': 'http://news.bbc.co.uk/2/hi/in_pictures/8511197.stm', 'image': 'https://s-media-cache-ak0.pinimg.com/236x/74/17/dd/7417dd7b412b9cb2c48c1bfe74c56a22.jpg', 'id': '751678994025897785', 'pinurl': 'https://www.pinterest.com/pin/751678994025897785/'}, '751678994025897777': {'url': 'http://mai-magi.tumblr.com/post/95314114235/pixie-warrior-by-shortcuttothestars-term', 'image': 'https://s-media-cache-ak0.pinimg.com/236x/c1/9b/a8/c19ba82172129375e1cc55949743d7f8.jpg', 'id': '751678994025897777', 'pinurl': 'https://www.pinterest.com/pin/751678994025897777/'}, '751678994025918015': {'url': 'http://okieprep.polyvore.com/ive_made_decision_read/set?.embedder=7387628&.src=share_desktop&.svc=pinterest&id=171533662', 'image': 'https://s-media-cache-ak0.pinimg.com/236x/c2/fc/4a/c2fc4abb9a27852946c767bd0816c718.jpg', 'id': '751678994025918015', 'pinurl': 'https://www.pinterest.com/pin/751678994025918015/'}, '751678994025925712': {'url': 'https://www.theparksapparel.com/collections/the-parks-summer-collection', 'image': 'https://s-media-cache-ak0.pinimg.com/236x/bf/6c/1d/bf6c1de81d715bcbef426e54836a17bd.jpg', 'id': '751678994025925712', 'pinurl': 'https://www.pinterest.com/pin/751678994025925712/'}, '751678994025918017': {'url': 'https://dreamclosetcouture.us/collections/new-arrivals?utm_source=srtrendspinterest&utm_medium=pin&utm_campaign=dreamclosetcouture', 'image': 'https://s-media-cache-ak0.pinimg.com/236x/eb/bc/0d/ebbc0d8eaf042e5bdaa9387cec1573a5.jpg', 'id': '751678994025918017', 'pinurl': 'https://www.pinterest.com/pin/751678994025918017/'}, '751678994025903179': {'url': 'https://www.flickr.com/photos/craptoy/18804690971/in/dateposted/', 'image': 'https://s-media-cache-ak0.pinimg.com/236x/f6/ab/a1/f6aba1f6909f69b09399db5ec8f0dc12.jpg', 'id': '751678994025903179', 'pinurl': 'https://www.pinterest.com/pin/751678994025903179/'}, '751678994025896530': {'url': 'http://www.fashionclue.net/post/129759715487/runwayandbeauty-gigi-hadid-new-york-fashion', 'image': 'https://s-media-cache-ak0.pinimg.com/236x/d0/6b/26/d06b26c115d1443027cd196653dc996b.jpg', 'id': '751678994025896530', 'pinurl': 'https://www.pinterest.com/pin/751678994025896530/'}, '751678994025897949': {'url': 'https://www.etsy.com/ca/listing/242713651/clutch-wood-clutch-eco-clutch-clutch-bag?ga_order=most_relevant&ga_search_type=all&ga_view_type=gallery&ga_search_query=coral&ref=sr_gallery_29', 'image': 'https://s-media-cache-ak0.pinimg.com/236x/c2/69/64/c26964dd48d50fd5f53d3932ec8662a1.jpg', 'id': '751678994025897949', 'pinurl': 'https://www.pinterest.com/pin/751678994025897949/'}, '751678994025897796': {'url': 'https://psclausen.wordpress.com/2012/01/23/set-glamour-to-the-rain/', 'image': 'https://s-media-cache-ak0.pinimg.com/236x/22/93/c2/2293c240d99e93ee03f8d4c9208e3d2a.jpg', 'id': '751678994025897796', 'pinurl': 'https://www.pinterest.com/pin/751678994025897796/'}, '751678994025896833': {'url': 'http://fashionistastrends.com/2016/02/alt-ruffle/', 'image': 'https://s-media-cache-ak0.pinimg.com/236x/c6/6e/44/c66e44c9dfc5153f6d63e8014edc2a2f.jpg', 'id': '751678994025896833', 'pinurl': 'https://www.pinterest.com/pin/751678994025896833/'}, '751678994025901297': {'url': 'http://demandware.edgesuite.net/aafs_prd/on/demandware.static/Sites-cfgus-Site/Sites-cfgus-Library/en_US/dw1a71d237/assets/img/feeries/section4-img1.jpg', 'image': 'https://s-media-cache-ak0.pinimg.com/236x/60/a8/12/60a8122a440d1f0cc57cbc62430e4baa.jpg', 'id': '751678994025901297', 'pinurl': 'https://www.pinterest.com/pin/751678994025901297/'}, '751678994025897623': {'url': 'http://rstyle.me/n/ccadd2t26n', 'image': 'https://s-media-cache-ak0.pinimg.com/236x/e7/33/93/e73393d6c6612ced211e73a180f6bb12.jpg', 'id': '751678994025897623', 'pinurl': 'https://www.pinterest.com/pin/751678994025897623/'}, '751678994025897805': {'url': 'http://melancholia2011.tumblr.com/post/126275844616', 'image': 'https://s-media-cache-ak0.pinimg.com/236x/a9/70/06/a97006d86b35a506177ddfd5c92e150d.jpg', 'id': '751678994025897805', 'pinurl': 'https://www.pinterest.com/pin/751678994025897805/'}, '751678994025920769': {'url': 'http://bdoutfit.com/wp-admin/post-new.php', 'image': 'https://s-media-cache-ak0.pinimg.com/236x/94/2e/eb/942eeb8c950549e52392fea1581ab017.jpg', 'id': '751678994025920769', 'pinurl': 'https://www.pinterest.com/pin/751678994025920769/'}, '751678994025897941': {'url': 'https://www.pinterest.com/pin/548805904578084701/', 'image': 'https://s-media-cache-ak0.pinimg.com/236x/48/9e/10/489e107fdc35856f330d51accaba75fd.jpg', 'id': '751678994025897941', 'pinurl': 'https://www.pinterest.com/pin/751678994025897941/'}, '751678994025903174': {'url': 'http://www.flip-zone.com/', 'image': 'https://s-media-cache-ak0.pinimg.com/236x/f9/cb/c5/f9cbc54372934c154e052a78a3c5f06a.jpg', 'id': '751678994025903174', 'pinurl': 'https://www.pinterest.com/pin/751678994025903174/'}, '751678994025897642': {'url': 'https://www.etsy.com/it/shop/AppuntoArianna', 'image': 'https://s-media-cache-ak0.pinimg.com/236x/12/b1/2b/12b12bf34beb61945c880d26071dea87.jpg', 'id': '751678994025897642', 'pinurl': 'https://www.pinterest.com/pin/751678994025897642/'}, '751678994025896938': {'url': 'http://simplyme091909.blogspot.com/2011/01/tuesday-and-wednesday-outfits.html', 'image': 'https://s-media-cache-ak0.pinimg.com/236x/4b/98/6f/4b986ffc41f3ad28599195505cdcd328.jpg', 'id': '751678994025896938', 'pinurl': 'https://www.pinterest.com/pin/751678994025896938/'}, '751678994025929461': {'url': 'http://www.shopstyle.com/action/loadRetailerProductPage?id=273144816&pid=uid400-24654020-78', 'image': 'https://s-media-cache-ak0.pinimg.com/236x/c5/21/79/c5217982cabee84f98db13960dacf992.jpg', 'id': '751678994025929461', 'pinurl': 'https://www.pinterest.com/pin/751678994025929461/'}, '751678994025897790': {'url': 'http://www.zanocontrols.co.uk/lighting-design/', 'image': 'https://s-media-cache-ak0.pinimg.com/236x/d3/50/4a/d3504af462f30605e88d633c2bf3c208.jpg', 'id': '751678994025897790', 'pinurl': 'https://www.pinterest.com/pin/751678994025897790/'}, '751678994025896949': {'url': 'http://louisecarolann.wordpress.com/2012/11/14/insect-inspired-fashion/', 'image': 'https://s-media-cache-ak0.pinimg.com/236x/68/7a/78/687a78b1a4b13346569c0c10c4bf8062.jpg', 'id': '751678994025896949', 'pinurl': 'https://www.pinterest.com/pin/751678994025896949/'}, '751678994025929425': {'url': 'https://www.instagram.com/p/BKP1VHCjwZB/', 'image': 'https://s-media-cache-ak0.pinimg.com/236x/4f/b8/0b/4fb80b7cafa25abd6c6895c0bc3b0b44.jpg', 'id': '751678994025929425', 'pinurl': 'https://www.pinterest.com/pin/751678994025929425/'}, '751678994025896947': {'url': 'http://blogamelhorescolha.com/denim-special-edition-ca-by-vicunha/', 'image': 'https://s-media-cache-ak0.pinimg.com/236x/37/c1/af/37c1afb9aa5ce1618d38bb21d4d36013.jpg', 'id': '751678994025896947', 'pinurl': 'https://www.pinterest.com/pin/751678994025896947/'}, '751678994025903166': {'url': 'https://www.etsy.com/listing/483586791/pink-led-light-up-cage-fashion-dress?utm_source=Pinterest&utm_medium=PageTools&utm_campaign=Share', 'image': 'https://s-media-cache-ak0.pinimg.com/236x/e0/37/fe/e037fe84925a8f54b386f42f4878d195.jpg', 'id': '751678994025903166', 'pinurl': 'https://www.pinterest.com/pin/751678994025903166/'}, '751678994025903181': {'url': 'http://r.ebay.com/6QxoGd', 'image': 'https://s-media-cache-ak0.pinimg.com/236x/57/bc/3b/57bc3b34111d61583d925f7f6b5870a4.jpg', 'id': '751678994025903181', 'pinurl': 'https://www.pinterest.com/pin/751678994025903181/'}, '751678994025901265': {'url': 'http://www.farfetch.com/uk/shopping/women/marco-bologna-crystal-embellished-distressed-jeans-item-10926242.aspx?storeid=9436&ffref=lp_42_', 'image': 'https://s-media-cache-ak0.pinimg.com/236x/d6/fa/f4/d6faf40ab1432667e69d498813fb6f0a.jpg', 'id': '751678994025901265', 'pinurl': 'https://www.pinterest.com/pin/751678994025901265/'}, '751678994025920779': {'url': 'http://www.playbuzz.com/witlee10/whats-your-style', 'image': 'https://s-media-cache-ak0.pinimg.com/236x/37/4d/66/374d668634ba2c85db4a6407c4800743.jpg', 'id': '751678994025920779', 'pinurl': 'https://www.pinterest.com/pin/751678994025920779/'}, '751678994025903168': {'url': 'https://www.etsy.com/listing/185680365/vintage-1950s-dress-black-plaid-cotton', 'image': 'https://s-media-cache-ak0.pinimg.com/236x/91/d9/7e/91d97e9f96fb2afc6755def2f8fbc18e.jpg', 'id': '751678994025903168', 'pinurl': 'https://www.pinterest.com/pin/751678994025903168/'}, '751678994025897626': {'url': 'http://shop.lululemon.com/products/clothes-accessories/tops-long-sleeve/Run-Swiftly-Long-Sleeve-Crew?cc=17380&skuId=3662768&catId=tops-long-sleeve', 'image': 'https://s-media-cache-ak0.pinimg.com/236x/20/df/cb/20dfcb305eb3041fae16d1b0d9e098e1.jpg', 'id': '751678994025897626', 'pinurl': 'https://www.pinterest.com/pin/751678994025897626/'}, '751678994025896532': {'url': 'http://www.bobochoses.com/women/5571-woman-landscape-shirt.html', 'image': 'https://s-media-cache-ak0.pinimg.com/236x/98/1f/7e/981f7e831cb1a757bca04df447e1b9ce.jpg', 'id': '751678994025896532', 'pinurl': 'https://www.pinterest.com/pin/751678994025896532/'}, '751678994025920768': {'url': 'http://popsu.gr/udYv', 'image': 'https://s-media-cache-ak0.pinimg.com/236x/e5/79/c2/e579c26037a72a9a3ad7e10794a851d8.jpg', 'id': '751678994025920768', 'pinurl': 'https://www.pinterest.com/pin/751678994025920768/'}, '751678994025896495': {'url': 'http://www.engineergirl.org/9311.aspx', 'image': 'https://s-media-cache-ak0.pinimg.com/236x/f8/c0/7f/f8c07fb62c4584b26f5e4812b2077564.jpg', 'id': '751678994025896495', 'pinurl': 'https://www.pinterest.com/pin/751678994025896495/'}, '751678994025897953': {'url': 'http://www.hercampus.com/school/mizzou/5-minute-grammy-style-recap', 'image': 'https://s-media-cache-ak0.pinimg.com/236x/e9/26/ef/e926ef134a02ff1cfc164659c8d25039.jpg', 'id': '751678994025897953', 'pinurl': 'https://www.pinterest.com/pin/751678994025897953/'}, '751678994025901275': {'url': 'http://www.trendhunter.com/trends/lofficiel-paris-october-2012', 'image': 'https://s-media-cache-ak0.pinimg.com/236x/a7/b9/f8/a7b9f89b0de62bf9aa7309cd932a7e25.jpg', 'id': '751678994025901275', 'pinurl': 'https://www.pinterest.com/pin/751678994025901275/'}, '751678994025896927': {'url': 'None', 'image': 'https://s-media-cache-ak0.pinimg.com/236x/ce/65/17/ce6517fb678016628a8409fe27f87ece.jpg', 'id': '751678994025896927', 'pinurl': 'https://www.pinterest.com/pin/751678994025896927/'}, '751678994025903011': {'url': 'https://www.donnahay.com.au/recipes/three-cheese-potato-and-rosemary-tarts', 'image': 'https://s-media-cache-ak0.pinimg.com/236x/56/71/37/5671377eb73153cc675c40e40bbc22e5.jpg', 'id': '751678994025903011', 'pinurl': 'https://www.pinterest.com/pin/751678994025903011/'}, '751678994025901264': {'url': 'http://beautindarkness.blogspot.ca/2011/11/marko-mitanovskis-horned-beauties.html', 'image': 'https://s-media-cache-ak0.pinimg.com/236x/12/47/01/124701f1f5e755031604838f437caed7.jpg', 'id': '751678994025901264', 'pinurl': 'https://www.pinterest.com/pin/751678994025901264/'}, '751678994025918012': {'url': 'https://outfitshunter.com/article/60-trending-summer-outfits-from-our-label-crush-kookai-australia-1#VlCwj63MJe', 'image': 'https://s-media-cache-ak0.pinimg.com/236x/d4/58/aa/d458aaebe3fc9c29452fc20857284f1a.jpg', 'id': '751678994025918012', 'pinurl': 'https://www.pinterest.com/pin/751678994025918012/'}, '751678994025903170': {'url': 'http://tammy17tummy.tumblr.com/post/92624702151/gres-1952', 'image': 'https://s-media-cache-ak0.pinimg.com/236x/f1/4f/5e/f14f5e2ada5b72bd1bf8fcf2fed7e8d8.jpg', 'id': '751678994025903170', 'pinurl': 'https://www.pinterest.com/pin/751678994025903170/'}, '751678994025897792': {'url': 'http://dailyfashiondesign.com/2012/04/be-different-with-led-clothes-and-fiber-optic-fashion-2012/', 'image': 'https://s-media-cache-ak0.pinimg.com/236x/56/38/83/563883f4a62c438bca5288d785bfaf99.jpg', 'id': '751678994025897792', 'pinurl': 'https://www.pinterest.com/pin/751678994025897792/'}, '751678994025896492': {'url': 'https://www.etsy.com/listing/266986963/', 'image': 'https://s-media-cache-ak0.pinimg.com/236x/aa/ad/6d/aaad6d3beaa2c9402ad5c5af38232e0b.jpg', 'id': '751678994025896492', 'pinurl': 'https://www.pinterest.com/pin/751678994025896492/'}, '751678994025897793': {'url': 'http://www.vogue.fr/defiles/defile/croisiere-2017-new-york-edun/18258#defile-1', 'image': 'https://s-media-cache-ak0.pinimg.com/236x/d0/23/ef/d023ef2c8c395ad02ecc4cdac431bf4f.jpg', 'id': '751678994025897793', 'pinurl': 'https://www.pinterest.com/pin/751678994025897793/'}, '751678994025897944': {'url': 'http://www.remadeinbritain.com/news/sustainable_fashion/', 'image': 'https://s-media-cache-ak0.pinimg.com/236x/b1/8b/86/b18b864e34f1985c414805736eb36fb3.jpg', 'id': '751678994025897944', 'pinurl': 'https://www.pinterest.com/pin/751678994025897944/'}, '751678994025896507': {'url': 'https://www.1stdibs.com/fashion/clothing/evening-dresses/vintage-1950s-butterfly-print-halter-dress/id-v_667902/', 'image': 'https://s-media-cache-ak0.pinimg.com/236x/83/c7/b9/83c7b9fafa55acb559f4e3058067d2df.jpg', 'id': '751678994025896507', 'pinurl': 'https://www.pinterest.com/pin/751678994025896507/'}, '751678994025901254': {'url': 'http://www.stylebistro.com/runway/London+Fashion+Week+Fall+2008/Gareth+Pugh/Details/dQPy77FNXRP', 'image': 'https://s-media-cache-ak0.pinimg.com/236x/a0/13/ae/a013ae9389f204fbd66e69d9f049c118.jpg', 'id': '751678994025901254', 'pinurl': 'https://www.pinterest.com/pin/751678994025901254/'}, '751678994025903167': {'url': 'http://www.womenzmag.com/celebrities/celebrities-style-and-trends/10-red-carpet-trends-2015-oscars/', 'image': 'https://s-media-cache-ak0.pinimg.com/236x/19/53/04/19530422260ea44d9c10e90c891a9a81.jpg', 'id': '751678994025903167', 'pinurl': 'https://www.pinterest.com/pin/751678994025903167/'}, '751678994025896514': {'url': 'http://www.luvtolook.net/', 'image': 'https://s-media-cache-ak0.pinimg.com/236x/60/7c/cf/607ccf40b17a638cff0da9cb45efbba2.jpg', 'id': '751678994025896514', 'pinurl': 'https://www.pinterest.com/pin/751678994025896514/'}, '751678994025901286': {'url': 'http://www.flickr.com/photos/bof352000/2264748212/', 'image': 'https://s-media-cache-ak0.pinimg.com/236x/e9/49/2d/e9492d9195807ec6a0a31d6d30b9f9bb.jpg', 'id': '751678994025901286', 'pinurl': 'https://www.pinterest.com/pin/751678994025901286/'}, '751678994025897783': {'url': 'https://www.etsy.com/listing/169342071/vintage-1950s-dress-mamselle-cummerbund?ref=sr_gallery_14&ga_search_query=1950+dress&ga_order=date_desc&ga_view_type=gallery&ga_ship_to=US&ga_page=27&ga_search_type=vintage&ga_facet=vintage', 'image': 'https://s-media-cache-ak0.pinimg.com/236x/d4/93/ba/d493bab5decb6cff81c460b9f71e13d9.jpg', 'id': '751678994025897783', 'pinurl': 'https://www.pinterest.com/pin/751678994025897783/'}, '751678994025896489': {'url': 'http://www.lumigram.com/catalog/P2_LIGHT_UP_CLOTHING.php?osCsid=4gbkqhjd15h22u38aljh2cpli2', 'image': 'https://s-media-cache-ak0.pinimg.com/236x/5d/4a/fc/5d4afcf81dfd54f9390455e899d392a5.jpg', 'id': '751678994025896489', 'pinurl': 'https://www.pinterest.com/pin/751678994025896489/'}, '751678994025903177': {'url': 'None', 'image': 'https://s-media-cache-ak0.pinimg.com/236x/4d/0b/cf/4d0bcf4df82b0f58297d65bed7449d64.jpg', 'id': '751678994025903177', 'pinurl': 'https://www.pinterest.com/pin/751678994025903177/'}, '751678994025896520': {'url': 'http://www.lumigram.com/catalog/P7_LUMINOUS_CLOTHING.php', 'image': 'https://s-media-cache-ak0.pinimg.com/236x/35/ad/34/35ad3470cda0fc0120b071124044376f.jpg', 'id': '751678994025896520', 'pinurl': 'https://www.pinterest.com/pin/751678994025896520/'}, '751678994025896940': {'url': 'http://exercicedestyle.tumblr.com/post/147633852172/viktor-rolf-at-couture-fall-2016', 'image': 'https://s-media-cache-ak0.pinimg.com/236x/88/ae/a4/88aea45ef0035fe9a737ee37cf8f6a8d.jpg', 'id': '751678994025896940', 'pinurl': 'https://www.pinterest.com/pin/751678994025896940/'}, '751678994025903027': {'url': 'http://www.justthedesign.com/the-tomboy-style-illustrated-and-the-cute-tomboy-outfits-you-dont-want-to-miss/', 'image': 'https://s-media-cache-ak0.pinimg.com/236x/10/13/a6/1013a631021a32fed3e6067bb51b0a56.jpg', 'id': '751678994025903027', 'pinurl': 'https://www.pinterest.com/pin/751678994025903027/'}, '751678994025897786': {'url': 'http://shop.lululemon.com/products/clothes-accessories/crops-yoga/En-Route-Crop?cc=13705&skuId=3570593&catId=crops-yoga', 'image': 'https://s-media-cache-ak0.pinimg.com/236x/4a/e2/07/4ae207e8047f03f9fe95dfe96b53028e.jpg', 'id': '751678994025897786', 'pinurl': 'https://www.pinterest.com/pin/751678994025897786/'}, '751678994025901287': {'url': 'None', 'image': 'https://s-media-cache-ak0.pinimg.com/236x/22/4e/cd/224ecd21ee06e735aaa6cf1c196e1b6b.jpg', 'id': '751678994025901287', 'pinurl': 'https://www.pinterest.com/pin/751678994025901287/'}, '751678994025896944': {'url': 'http://www.biennale-design.com/saint-etienne/2013/fr/expositions/020113-z1-interaction-mode', 'image': 'https://s-media-cache-ak0.pinimg.com/236x/6d/59/fe/6d59feede08e63da900e60c5f7e4c0da.jpg', 'id': '751678994025896944', 'pinurl': 'https://www.pinterest.com/pin/751678994025896944/'}, '751678994025897947': {'url': 'http://www.tripleaughtdesign.com/Apparel/Jackets/Stealth-Hoodie', 'image': 'https://s-media-cache-ak0.pinimg.com/236x/ab/ee/aa/abeeaa487513e3a9c840c14856a27af1.jpg', 'id': '751678994025897947', 'pinurl': 'https://www.pinterest.com/pin/751678994025897947/'}, '751678994025920756': {'url': 'http://classyyettrendy.com/2016/10/10-ways-wear-plaid-shirt.html/', 'image': 'https://s-media-cache-ak0.pinimg.com/236x/9d/c2/b7/9dc2b7033f2a3836c5105227110fa333.jpg', 'id': '751678994025920756', 'pinurl': 'https://www.pinterest.com/pin/751678994025920756/'}, '751678994025901271': {'url': 'http://cdn.stylisheve.com/wp-content/uploads/2012/04/fiber-optic-fashion_15.jpg', 'image': 'https://s-media-cache-ak0.pinimg.com/236x/f9/06/a3/f906a341e03ae8a71292889bad00d1a0.jpg', 'id': '751678994025901271', 'pinurl': 'https://www.pinterest.com/pin/751678994025901271/'}, '751678994025896522': {'url': 'http://nikeinc.com/news/nike-tech-pack-returns-with-a-lightweight-collection-tech-hyperfuse#/detail/29279', 'image': 'https://s-media-cache-ak0.pinimg.com/236x/f7/b2/1a/f7b21a0e28d9be0618c312c97498677a.jpg', 'id': '751678994025896522', 'pinurl': 'https://www.pinterest.com/pin/751678994025896522/'}, '751678994025896508': {'url': 'http://inhabitat.com/lux-led-solar-power-necklace-highlights-future-tech/', 'image': 'https://s-media-cache-ak0.pinimg.com/236x/9e/8c/56/9e8c56963aaceed161dc8985c8a74d10.jpg', 'id': '751678994025896508', 'pinurl': 'https://www.pinterest.com/pin/751678994025896508/'}, '751678994025896504': {'url': 'http://futureofashion.blogspot.com/2011/05/anouk-wipprecht-high-tech-fashion.html', 'image': 'https://s-media-cache-ak0.pinimg.com/236x/1c/e0/2c/1ce02c8fed1d4311e48bce910afcec8e.jpg', 'id': '751678994025896504', 'pinurl': 'https://www.pinterest.com/pin/751678994025896504/'}, '751678994025896528': {'url': 'http://www.trendhunter.com/trends/top-designers-crystal-ball-gazing-jose-miro-future-fashions', 'image': 'https://s-media-cache-ak0.pinimg.com/236x/a3/77/95/a37795b14fb89fd712c7b17539981022.jpg', 'id': '751678994025896528', 'pinurl': 'https://www.pinterest.com/pin/751678994025896528/'}, '751678994025901269': {'url': 'http://zsazsabellagio.tumblr.com/post/98890494438/hautekills-serkan-cura-haute-couture-f-w-2014', 'image': 'https://s-media-cache-ak0.pinimg.com/236x/e5/fd/b9/e5fdb9f900a62f22b5c32a44f4ffa221.jpg', 'id': '751678994025901269', 'pinurl': 'https://www.pinterest.com/pin/751678994025901269/'}, '751678994025896943': {'url': 'http://www.mugler.es/la-maison-mugler-la-herencia-animal/1310/', 'image': 'https://s-media-cache-ak0.pinimg.com/236x/91/88/da/9188da88a8f572b44021563322acedc5.jpg', 'id': '751678994025896943', 'pinurl': 'https://www.pinterest.com/pin/751678994025896943/'}, '751678994025896526': {'url': 'http://www.themoontan.com/board/gallery/read.html?no=484&board_no=8&category_no=1&cate_no=1&category_no=1', 'image': 'https://s-media-cache-ak0.pinimg.com/236x/6b/9c/11/6b9c11a20fb4c54a555d5005006f1e6e.jpg', 'id': '751678994025896526', 'pinurl': 'https://www.pinterest.com/pin/751678994025896526/'}, '751678994025903009': {'url': 'http://zsazsabellagio.tumblr.com/', 'image': 'https://s-media-cache-ak0.pinimg.com/236x/f4/c7/4e/f4c74ea5d2cac48ea5baf579d3f74f0e.jpg', 'id': '751678994025903009', 'pinurl': 'https://www.pinterest.com/pin/751678994025903009/'}, '751678994025901248': {'url': 'https://3c.gmx.net/mail/client/mailbody/tmai14753254aa2c6f25/true', 'image': 'https://s-media-cache-ak0.pinimg.com/236x/57/10/4c/57104cfb68560600cf359a79e14b0392.jpg', 'id': '751678994025901248', 'pinurl': 'https://www.pinterest.com/pin/751678994025901248/'}, '751678994025920746': {'url': 'http://www.luulla.com/product/745247/simple-prom-dresses-tea-length-prom-dress-pink-prom-dress-formal-evening-gowns-girls-party-dress', 'image': 'https://s-media-cache-ak0.pinimg.com/236x/e2/84/c9/e284c9dece3e6a639c8ee6f05bf1b5fb.jpg', 'id': '751678994025920746', 'pinurl': 'https://www.pinterest.com/pin/751678994025920746/'}, '751678994025897806': {'url': 'http://trendsetter.blogs.elle.es/2014/12/17/mr-trendsetter-elige-gucci-prefall/?utm_source=Twitter&utm_medium=social-media&utm_content=broadcast&utm_campaign=new-article', 'image': 'https://s-media-cache-ak0.pinimg.com/236x/fd/5d/56/fd5d5686a9948cfac4d21ca036833b64.jpg', 'id': '751678994025897806', 'pinurl': 'https://www.pinterest.com/pin/751678994025897806/'}, '751678994025896955': {'url': 'http://japan.digitaldj-network.com/archives/52010395.html', 'image': 'https://s-media-cache-ak0.pinimg.com/236x/7b/fa/b1/7bfab180b20828eef07ba0c422d80b8f.jpg', 'id': '751678994025896955', 'pinurl': 'https://www.pinterest.com/pin/751678994025896955/'}, '751678994025896512': {'url': 'http://www.dazeddigital.com/fashion/gallery/19825/0/fashion-meets-sci-fi', 'image': 'https://s-media-cache-ak0.pinimg.com/236x/1f/0b/53/1f0b531970583fdb5f18706d37e508b0.jpg', 'id': '751678994025896512', 'pinurl': 'https://www.pinterest.com/pin/751678994025896512/'}, '751678994025896945': {'url': 'http://thenurtrecollective.com/', 'image': 'https://s-media-cache-ak0.pinimg.com/236x/5b/86/3e/5b863ecec1d08c9e2c0f4e066ded8776.jpg', 'id': '751678994025896945', 'pinurl': 'https://www.pinterest.com/pin/751678994025896945/'}, '751678994025896499': {'url': 'http://www.notjustalabel.com/vega_zaishi_wang', 'image': 'https://s-media-cache-ak0.pinimg.com/236x/99/7e/0a/997e0ae004701ed40119f2eb8768c7a2.jpg', 'id': '751678994025896499', 'pinurl': 'https://www.pinterest.com/pin/751678994025896499/'}, '751678994025896929': {'url': 'https://wearesodroee.com/2016/03/09/without-borders/', 'image': 'https://s-media-cache-ak0.pinimg.com/236x/32/9e/76/329e760e444c085c0ba4761b7f73518d.jpg', 'id': '751678994025896929', 'pinurl': 'https://www.pinterest.com/pin/751678994025896929/'}, '751678994025920784': {'url': 'https://outfitshunter.com/article/60-trending-and-girly-summer-outfit-ideas-to-upgrade-your-wardrobe-1#BmkrnbsaWh', 'image': 'https://s-media-cache-ak0.pinimg.com/236x/11/fa/e7/11fae7836e7686fb66fcd6d4aa84228b.jpg', 'id': '751678994025920784', 'pinurl': 'https://www.pinterest.com/pin/751678994025920784/'}, '751678994025929443': {'url': 'https://outfitshunter.com/article/60-summer-and-popular-outfits-of-tiger-mist-australian-label-2#GcQgMxUV69', 'image': 'https://s-media-cache-ak0.pinimg.com/236x/ae/36/6d/ae366d162a24372bdf411c4ba97e06e1.jpg', 'id': '751678994025929443', 'pinurl': 'https://www.pinterest.com/pin/751678994025929443/'}, '751678994025901255': {'url': 'https://www.etsy.com/listing/250400044/patched-denim-reworked-vintage-bershka?ref=shop_home_active_1', 'image': 'https://s-media-cache-ak0.pinimg.com/236x/0f/b7/77/0fb77747dab3adde323c6f260e03d017.jpg', 'id': '751678994025901255', 'pinurl': 'https://www.pinterest.com/pin/751678994025901255/'}, '751678994025897778': {'url': 'http://browngurl.tumblr.com/post/58194605798', 'image': 'https://s-media-cache-ak0.pinimg.com/236x/5f/a8/64/5fa86415926ab2967364cbb0be4704bb.jpg', 'id': '751678994025897778', 'pinurl': 'https://www.pinterest.com/pin/751678994025897778/'}, '751678994025896482': {'url': 'http://imgur.com/a/k4FeL', 'image': 'https://s-media-cache-ak0.pinimg.com/236x/6f/49/ed/6f49ed797a84c6c7d39194d34e26b13d.jpg', 'id': '751678994025896482', 'pinurl': 'https://www.pinterest.com/pin/751678994025896482/'}, '751678994025929465': {'url': 'http://comicbook.com/2015/05/04/suicide-squads-margot-robbie-as-harley-quinn-an-in-depth-analysi/', 'image': 'https://s-media-cache-ak0.pinimg.com/236x/5b/bc/2e/5bbc2e738eaeddcbbae6c2f7f6b06441.jpg', 'id': '751678994025929465', 'pinurl': 'https://www.pinterest.com/pin/751678994025929465/'}, '751678994025920808': {'url': 'http://wachabuy.com/outfits-to-wear-this-fall/', 'image': 'https://s-media-cache-ak0.pinimg.com/236x/b1/99/84/b199843a60a64e394c9db3d992d76504.jpg', 'id': '751678994025920808', 'pinurl': 'https://www.pinterest.com/pin/751678994025920808/'}, '751678994025929422': {'url': 'None', 'image': 'https://s-media-cache-ak0.pinimg.com/236x/00/69/5c/00695cc15e0d7b0c3bd51b39642b1727.jpg', 'id': '751678994025929422', 'pinurl': 'https://www.pinterest.com/pin/751678994025929422/'}, '751678994025918010': {'url': 'http://www.thecasualcraftlete.com/2016/09/27/one-pot-chicken-orzo-soup/', 'image': 'https://s-media-cache-ak0.pinimg.com/236x/0c/d0/14/0cd0145a3d67d55fbf0945bd5afffc5e.jpg', 'id': '751678994025918010', 'pinurl': 'https://www.pinterest.com/pin/751678994025918010/'}, '751678994025896936': {'url': 'http://design-milk.com/living-points-ewa-sliwinska/', 'image': 'https://s-media-cache-ak0.pinimg.com/236x/5b/32/bc/5b32bce242f376faf07fe19aa32c569e.jpg', 'id': '751678994025896936', 'pinurl': 'https://www.pinterest.com/pin/751678994025896936/'}, '751678994025896518': {'url': 'http://shop.lululemon.com/products/clothes-accessories/tops-long-sleeve/Run-Swiftly-Long-Sleeve-Crew?cc=4692&skuId=3650244&catId=tops-long-sleeve', 'image': 'https://s-media-cache-ak0.pinimg.com/236x/d1/dc/2a/d1dc2a1ab212eb754125e023e51e1fb5.jpg', 'id': '751678994025896518', 'pinurl': 'https://www.pinterest.com/pin/751678994025896518/'}, '751678994025903017': {'url': 'http://wheretoget.it/look/2351373', 'image': 'https://s-media-cache-ak0.pinimg.com/236x/03/f3/84/03f384bc46b08caabbc4da6a6dd0a93c.jpg', 'id': '751678994025903017', 'pinurl': 'https://www.pinterest.com/pin/751678994025903017/'}, '751678994025897951': {'url': 'http://helenaaaaaa.tumblr.com/post/12562292816', 'image': 'https://s-media-cache-ak0.pinimg.com/236x/41/f6/2b/41f62bcad67606256a9b942f2bd554cb.jpg', 'id': '751678994025897951', 'pinurl': 'https://www.pinterest.com/pin/751678994025897951/'}, '751678994025923378': {'url': 'http://www.getmecrazy.com/709921488603355477193.html', 'image': 'https://s-media-cache-ak0.pinimg.com/236x/69/ad/eb/69adebb1f7923475503739ac8cd4b988.jpg', 'id': '751678994025923378', 'pinurl': 'https://www.pinterest.com/pin/751678994025923378/'}, '751678994025897787': {'url': 'http://www.elle.be/fr/75926-20-facons-de-porter-le-blazer.html', 'image': 'https://s-media-cache-ak0.pinimg.com/236x/9c/89/55/9c8955aa4bad0b21f1a4ae53bff96233.jpg', 'id': '751678994025897787', 'pinurl': 'https://www.pinterest.com/pin/751678994025897787/'}, '751678994025901268': {'url': 'http://www.rockpaperink.com/content/column.php?id=232&cid=26', 'image': 'https://s-media-cache-ak0.pinimg.com/236x/63/3d/6a/633d6a3cb4b40e8a888d383250e63979.jpg', 'id': '751678994025901268', 'pinurl': 'https://www.pinterest.com/pin/751678994025901268/'}, '751678994025903173': {'url': 'http://trendnerd.com/2011/05/08/beauty-philosophy/crazy-fashion-show-11-1297071098/', 'image': 'https://s-media-cache-ak0.pinimg.com/236x/9f/6f/5d/9f6f5d4c85787f3f3f8f567a629f898c.jpg', 'id': '751678994025903173', 'pinurl': 'https://www.pinterest.com/pin/751678994025903173/'}, '751678994025903172': {'url': 'https://www.etsy.com/listing/234895765/african-dress-addis-abeba-coral', 'image': 'https://s-media-cache-ak0.pinimg.com/236x/50/2d/04/502d04d33f066ac25d49daeef8e3c925.jpg', 'id': '751678994025903172', 'pinurl': 'https://www.pinterest.com/pin/751678994025903172/'}, '751678994025901279': {'url': 'http://secondstreet.ru/blog/diy_djinsi/kreativnye-dzhinsy-podborka.html', 'image': 'https://s-media-cache-ak0.pinimg.com/236x/61/e3/b7/61e3b7709aca3d1db1b7e8351b2412e4.jpg', 'id': '751678994025901279', 'pinurl': 'https://www.pinterest.com/pin/751678994025901279/'}, '751678994025901283': {'url': 'http://www.tomandlorenzo.com/2012/04/vogue-korea-blooming-memories.html', 'image': 'https://s-media-cache-ak0.pinimg.com/236x/9d/fd/f6/9dfdf69cd1b6ae466d3cabbf3f05ea0c.jpg', 'id': '751678994025901283', 'pinurl': 'https://www.pinterest.com/pin/751678994025901283/'}, '751678994025901292': {'url': 'http://34bitchin.tumblr.com/', 'image': 'https://s-media-cache-ak0.pinimg.com/236x/a8/71/53/a871535f3760270a6085644bb89a605e.jpg', 'id': '751678994025901292', 'pinurl': 'https://www.pinterest.com/pin/751678994025901292/'}, '751678994025920755': {'url': 'http://www.weddingforward.com/ball-gown-wedding-dresses/?utm_source=Pinterest&utm_medium=Social&utm_campaign=AUTO-24VariousBallGownWeddingDressesForA&utm_content=dding-dresses-rami-kadi-gown', 'image': 'https://s-media-cache-ak0.pinimg.com/236x/a9/d2/97/a9d2973aafb69c345c0dd02477800596.jpg', 'id': '751678994025920755', 'pinurl': 'https://www.pinterest.com/pin/751678994025920755/'}, '751678994025920778': {'url': 'http://api.shopstyle.com/action/apiVisitRetailer?id=467654335&pid=uid6704-516052-92', 'image': 'https://s-media-cache-ak0.pinimg.com/236x/0f/70/c1/0f70c1d5fe7cf7ed15f7d05422c6d663.jpg', 'id': '751678994025920778', 'pinurl': 'https://www.pinterest.com/pin/751678994025920778/'}, '751678994025929415': {'url': 'http://styletic.com/easy-weekend-diy-projects-for-girls/', 'image': 'https://s-media-cache-ak0.pinimg.com/236x/88/4e/b3/884eb3bdc9c215d76b8001c2dc8710e8.jpg', 'id': '751678994025929415', 'pinurl': 'https://www.pinterest.com/pin/751678994025929415/'}, '751678994025917934': {'url': 'https://api.shopstyle.com/action/apiVisitRetailer?id=479861420&pid=uid2976-34503676-36', 'image': 'https://s-media-cache-ak0.pinimg.com/236x/9f/5d/3c/9f5d3cec84b8ec0b76ecceb07acc6a5c.jpg', 'id': '751678994025917934', 'pinurl': 'https://www.pinterest.com/pin/751678994025917934/'}, '751678994025897799': {'url': 'http://secondstreet.ru/blog/dizainery/dramatizm-anne-sofie-madsen.html', 'image': 'https://s-media-cache-ak0.pinimg.com/236x/1a/df/e8/1adfe82388d6da8b173840262fac6933.jpg', 'id': '751678994025897799', 'pinurl': 'https://www.pinterest.com/pin/751678994025897799/'}, '751678994025897945': {'url': 'http://www.photopumpkin.com/photo-blog/led-fashion-clothing-for-girls/', 'image': 'https://s-media-cache-ak0.pinimg.com/236x/87/6e/64/876e645570db2f941268f6de4e827524.jpg', 'id': '751678994025897945', 'pinurl': 'https://www.pinterest.com/pin/751678994025897945/'}, '751678994025897624': {'url': 'http://www.thefancy.com/things/297417589/Beijing-Fashion-Week---design-by-Pierre-Cardin', 'image': 'https://s-media-cache-ak0.pinimg.com/236x/24/39/35/243935cfb8510eab3501edd804786da6.jpg', 'id': '751678994025897624', 'pinurl': 'https://www.pinterest.com/pin/751678994025897624/'}, '751678994025897776': {'url': 'http://www.dazeddigital.com/fashion/gallery/19854/19/central-saint-martins-ba-fashion-2015', 'image': 'https://s-media-cache-ak0.pinimg.com/236x/73/a6/3b/73a63b8c55ac8809d5de7a257a866333.jpg', 'id': '751678994025897776', 'pinurl': 'https://www.pinterest.com/pin/751678994025897776/'}, '751678994025896933': {'url': 'http://1granary.com/inside-central-saint-martins/white-show-2015/', 'image': 'https://s-media-cache-ak0.pinimg.com/236x/b0/05/6c/b0056ce8744a66f52030cecaddeb1e61.jpg', 'id': '751678994025896933', 'pinurl': 'https://www.pinterest.com/pin/751678994025896933/'}, '751678994025897808': {'url': 'http://www.701-fashion.com/de/frauen/bekleidung/hosen-und-pants-und-leggings/jeans/300/capri-jeans-mit-spitze?c=100', 'image': 'https://s-media-cache-ak0.pinimg.com/236x/f7/ff/12/f7ff12dc4b68877321a3e58bb8aab0dc.jpg', 'id': '751678994025897808', 'pinurl': 'https://www.pinterest.com/pin/751678994025897808/'}, '751678994025897948': {'url': 'http://makezine.com/projects/how-to-3d-print-on-tulle-net-or-lace-fabrics/', 'image': 'https://s-media-cache-ak0.pinimg.com/236x/3c/d9/dd/3cd9dde416f1a4e2e1f83d153eb9c697.jpg', 'id': '751678994025897948', 'pinurl': 'https://www.pinterest.com/pin/751678994025897948/'}, '751678994025903049': {'url': 'http://www.mynaturalfamily.com/recipes/paleo-recipes/paleo-chicken-breast-recipes/2/', 'image': 'https://s-media-cache-ak0.pinimg.com/236x/07/34/b2/0734b2c8f8871b99c97d71288ca5eab0.jpg', 'id': '751678994025903049', 'pinurl': 'https://www.pinterest.com/pin/751678994025903049/'}, '751678994025897779': {'url': 'http://www.701-fashion.com/de/frauen/bekleidung/hosen-und-pants-und-leggings/jeans/290/jeans-mit-paillettenschnuerung?c=100', 'image': 'https://s-media-cache-ak0.pinimg.com/236x/35/2a/5e/352a5e184d8fcfefc4f4234e001b7d75.jpg', 'id': '751678994025897779', 'pinurl': 'https://www.pinterest.com/pin/751678994025897779/'}, '751678994025897791': {'url': 'http://gryulich.tumblr.com/post/42936095820/strangelycompelling-styling-david-widjaja-hair', 'image': 'https://s-media-cache-ak0.pinimg.com/236x/c8/af/bb/c8afbb99a193c893949c1ff8c49b3b4d.jpg', 'id': '751678994025897791', 'pinurl': 'https://www.pinterest.com/pin/751678994025897791/'}, '751678994025903171': {'url': 'http://ecstasymodel.com/post/139699368307/blackfashion-irie-print-dress-x-fringe', 'image': 'https://s-media-cache-ak0.pinimg.com/236x/c3/5b/d1/c35bd197bf660ce233a9650e6954daba.jpg', 'id': '751678994025903171', 'pinurl': 'https://www.pinterest.com/pin/751678994025903171/'}, '751678994025918018': {'url': 'https://www.instagram.com/p/_H6kxHH5Cn/', 'image': 'https://s-media-cache-ak0.pinimg.com/236x/c3/1c/4b/c31c4b1aa00d20ce1f71cddadf681c5f.jpg', 'id': '751678994025918018', 'pinurl': 'https://www.pinterest.com/pin/751678994025918018/'}, '751678994025897627': {'url': 'http://www.style.com/fashionshows/complete/slideshow/F2014RTW-CKANE/#49', 'image': 'https://s-media-cache-ak0.pinimg.com/236x/12/19/cb/1219cbb7e60185049fab001a0a06c3e4.jpg', 'id': '751678994025897627', 'pinurl': 'https://www.pinterest.com/pin/751678994025897627/'}, '751678994025897795': {'url': 'http://saintlaurentgirl.tumblr.com/', 'image': 'https://s-media-cache-ak0.pinimg.com/236x/fd/a2/5f/fda25f7d568a7334dc36ee65e7731d2e.jpg', 'id': '751678994025897795', 'pinurl': 'https://www.pinterest.com/pin/751678994025897795/'}, '751678994025897802': {'url': 'None', 'image': 'https://s-media-cache-ak0.pinimg.com/236x/86/ac/ee/86acee567f2e7d7cd586151e47b53660.jpg', 'id': '751678994025897802', 'pinurl': 'https://www.pinterest.com/pin/751678994025897802/'}, '751678994025896932': {'url': 'http://wearesodroee.wordpress.com/2014/01/30/art-factory/', 'image': 'https://s-media-cache-ak0.pinimg.com/236x/93/0e/e1/930ee1b6e085b34aef52514a45347e94.jpg', 'id': '751678994025896932', 'pinurl': 'https://www.pinterest.com/pin/751678994025896932/'}, '751678994025903028': {'url': 'http://www.mangomolliswimwear.com/collections/boys-arrows/products/boys-and-arrows-dylan-the-desperado-old-fashioned-and-kiki-the-killer-iron', 'image': 'https://s-media-cache-ak0.pinimg.com/236x/ef/09/cc/ef09cc9c6f41b46d5d839dcdcefcb0fa.jpg', 'id': '751678994025903028', 'pinurl': 'https://www.pinterest.com/pin/751678994025903028/'}, '751678994025896510': {'url': 'http://shop.mango.com/GB/p0/man/clothing/jackets/sports/ultra-light-running-jacket/?id=63053611_99&n=1', 'image': 'https://s-media-cache-ak0.pinimg.com/236x/37/56/0b/37560bcd06af159f1fac21a43d216baa.jpg', 'id': '751678994025896510', 'pinurl': 'https://www.pinterest.com/pin/751678994025896510/'}, '751678994025897788': {'url': 'None', 'image': 'https://s-media-cache-ak0.pinimg.com/236x/38/21/26/382126013c103ff7f0db800504c88a98.jpg', 'id': '751678994025897788', 'pinurl': 'https://www.pinterest.com/pin/751678994025897788/'}, '751678994025901290': {'url': 'None', 'image': 'https://s-media-cache-ak0.pinimg.com/236x/83/86/92/8386924b794886184c58391b4c4f6254.jpg', 'id': '751678994025901290', 'pinurl': 'https://www.pinterest.com/pin/751678994025901290/'}, '751678994025923403': {'url': 'http://www.labelsandvintage.com/blog/blush-holiday-dress', 'image': 'https://s-media-cache-ak0.pinimg.com/236x/c7/fb/fa/c7fbfaf4c480d03093f3caff1e274037.jpg', 'id': '751678994025923403', 'pinurl': 'https://www.pinterest.com/pin/751678994025923403/'}, '751678994025896924': {'url': 'http://www.mujeresymoda.com/futurismo-para-la-primavera-2012/', 'image': 'https://s-media-cache-ak0.pinimg.com/236x/e8/0d/77/e80d773dbe614c65f0428aa075540b6a.jpg', 'id': '751678994025896924', 'pinurl': 'https://www.pinterest.com/pin/751678994025896924/'}, '751678994025901263': {'url': 'http://degreeshow.mmu.ac.uk/2013/CaitiBetterton/', 'image': 'https://s-media-cache-ak0.pinimg.com/236x/bf/76/71/bf76711a5a86dd1aeed42290ba3882f3.jpg', 'id': '751678994025901263', 'pinurl': 'https://www.pinterest.com/pin/751678994025901263/'}, '751678994025920770': {'url': 'http://www.popsugar.com/fashion/How-Wear-Suede-Skirt-38357047?crlt.pid=camp.yNR1Kip38t7C', 'image': 'https://s-media-cache-ak0.pinimg.com/236x/34/eb/51/34eb51fdb2566c5a555ea49c34c090a1.jpg', 'id': '751678994025920770', 'pinurl': 'https://www.pinterest.com/pin/751678994025920770/'}, '751678994025897638': {'url': 'http://kotakitty.buzznet.com/photos/obsessed/?id=68231127', 'image': 'https://s-media-cache-ak0.pinimg.com/236x/89/4d/cb/894dcb380c031e3a71fda3cf7a74e247.jpg', 'id': '751678994025897638', 'pinurl': 'https://www.pinterest.com/pin/751678994025897638/'}, '751678994025925700': {'url': 'http://www.poshpatternsblog.com/crochet-messy-bun-hat-pattern/', 'image': 'https://s-media-cache-ak0.pinimg.com/236x/98/5b/d0/985bd0d55321576252ed536fa9c60312.jpg', 'id': '751678994025925700', 'pinurl': 'https://www.pinterest.com/pin/751678994025925700/'}, '751678994025920759': {'url': 'http://www.bellethemagazine.com/2014/12/berta-2015-bridal-collection.html', 'image': 'https://s-media-cache-ak0.pinimg.com/236x/23/5f/b3/235fb378f8c7a2b527cc55ccc71e9135.jpg', 'id': '751678994025920759', 'pinurl': 'https://www.pinterest.com/pin/751678994025920759/'}, '751678994025903020': {'url': 'http://www.pouted.com/80-elegant-work-outfit-ideas-2017/', 'image': 'https://s-media-cache-ak0.pinimg.com/236x/c1/3b/f3/c13bf397ad253574b406055a0121a691.jpg', 'id': '751678994025903020', 'pinurl': 'https://www.pinterest.com/pin/751678994025903020/'}, '751678994025903178': {'url': 'http://www.stella-dress.jp/', 'image': 'https://s-media-cache-ak0.pinimg.com/236x/75/ed/59/75ed5960e31a3407d191061d5b109348.jpg', 'id': '751678994025903178', 'pinurl': 'https://www.pinterest.com/pin/751678994025903178/'}, '751678994025901252': {'url': 'http://www.brownsfashion.com/product/03T732770003/134/pearl-embellished-boyfriend-jeans', 'image': 'https://s-media-cache-ak0.pinimg.com/236x/3c/5b/da/3c5bda400fd233ab4812800120ece8ca.jpg', 'id': '751678994025901252', 'pinurl': 'https://www.pinterest.com/pin/751678994025901252/'}, '751678994025896485': {'url': 'http://www.polyvore.com/cat_ear_headphones/thing?.embedder=16951749&.src=share_app&.svc=pinterest&id=154006146', 'image': 'https://s-media-cache-ak0.pinimg.com/236x/fa/97/2a/fa972a0c9b1b6c4fc2f36cd2a494d063.jpg', 'id': '751678994025896485', 'pinurl': 'https://www.pinterest.com/pin/751678994025896485/'}, '751678994025897632': {'url': 'http://mirellabruno.tumblr.com/post/141597056046/skt4ng-shushutong-ss16', 'image': 'https://s-media-cache-ak0.pinimg.com/236x/e4/41/f6/e441f6a3e6f8e72f7f4ca3131af7236f.jpg', 'id': '751678994025897632', 'pinurl': 'https://www.pinterest.com/pin/751678994025897632/'}, '751678994025897794': {'url': 'http://www.superior-magazine.com/web/online-magazine-photography-fashion-editorial-krzysztof-wyzynski-arachne/', 'image': 'https://s-media-cache-ak0.pinimg.com/236x/07/be/8c/07be8c1115d283e915abbacb349b6760.jpg', 'id': '751678994025897794', 'pinurl': 'https://www.pinterest.com/pin/751678994025897794/'}, '751678994025903169': {'url': 'http://www.dhgate.com/product/elegant-2016-full-lace-sheath-mother-off/381906514.html', 'image': 'https://s-media-cache-ak0.pinimg.com/236x/6d/61/9d/6d619d9b6951f876029ea143140dccd4.jpg', 'id': '751678994025903169', 'pinurl': 'https://www.pinterest.com/pin/751678994025903169/'}, '751678994025897780': {'url': 'http://somethingvain.tumblr.com/post/18590936700/viktor-and-rolf-s-s-2010-backstage', 'image': 'https://s-media-cache-ak0.pinimg.com/236x/d0/c1/70/d0c170398acdbea3c379c71512085a79.jpg', 'id': '751678994025897780', 'pinurl': 'https://www.pinterest.com/pin/751678994025897780/'}, '751678994025896923': {'url': 'http://oujistyle.tumblr.com/post/13743203897', 'image': 'https://s-media-cache-ak0.pinimg.com/236x/fe/64/27/fe642789c4e1d64861deb88f82e64032.jpg', 'id': '751678994025896923', 'pinurl': 'https://www.pinterest.com/pin/751678994025896923/'}, '751678994025897782': {'url': 'http://her-ladyship.tumblr.com/post/3461826585/theres-at-iris-van-herpen-hc-s-s-2011', 'image': 'https://s-media-cache-ak0.pinimg.com/236x/88/db/bd/88dbbd76a451422c806e291bebf2374c.jpg', 'id': '751678994025897782', 'pinurl': 'https://www.pinterest.com/pin/751678994025897782/'}, '751678994025903175': {'url': 'http://vintage-retro.tumblr.com/post/25803914691/1960s-fashion', 'image': 'https://s-media-cache-ak0.pinimg.com/236x/3a/75/03/3a750366e23d681a9c7785a3cfb619ec.jpg', 'id': '751678994025903175', 'pinurl': 'https://www.pinterest.com/pin/751678994025903175/'}, '751678994025918026': {'url': 'http://www.weddinginspirasi.com/2016/12/21/beautiful-bridal-dreams-are-made-of-these-galia-lahav-wedding-dresses/', 'image': 'https://s-media-cache-ak0.pinimg.com/236x/2d/9a/a6/2d9aa68ce8711bb6904bba04d22d1279.jpg', 'id': '751678994025918026', 'pinurl': 'https://www.pinterest.com/pin/751678994025918026/'}, '751678994025903019': {'url': 'http://cestvibe.tumblr.com/post/127412508379/cestvibe', 'image': 'https://s-media-cache-ak0.pinimg.com/236x/f1/b9/ed/f1b9ed3e9527cfb984eb158e63aa702d.jpg', 'id': '751678994025903019', 'pinurl': 'https://www.pinterest.com/pin/751678994025903019/'}, '751678994025903042': {'url': 'https://www.urbanbabyco.com/products/ill-have-a-bottle-of-the-house-white-baby-onesie', 'image': 'https://s-media-cache-ak0.pinimg.com/236x/cf/66/5e/cf665ea1284762c6ee1c2c932dca4f0b.jpg', 'id': '751678994025903042', 'pinurl': 'https://www.pinterest.com/pin/751678994025903042/'}, '751678994025896930': {'url': 'http://www.gizmag.com/go/6183/', 'image': 'https://s-media-cache-ak0.pinimg.com/236x/ec/cb/8c/eccb8c335cdb5ee6078a3c85dd04cef7.jpg', 'id': '751678994025896930', 'pinurl': 'https://www.pinterest.com/pin/751678994025896930/'}, '751678994025896486': {'url': 'http://design-milk.com/living-points-ewa-sliwinska/', 'image': 'https://s-media-cache-ak0.pinimg.com/236x/c0/7a/95/c07a9518586f90f0f76a0645d0cb29bf.jpg', 'id': '751678994025896486', 'pinurl': 'https://www.pinterest.com/pin/751678994025896486/'}, '751678994025923372': {'url': 'https://www.nudevotion.com/s/nude-pumps/', 'image': 'https://s-media-cache-ak0.pinimg.com/236x/6a/da/bb/6adabb0e06895ff7a7c7bd251bdc9ca7.jpg', 'id': '751678994025923372', 'pinurl': 'https://www.pinterest.com/pin/751678994025923372/'}, '751678994025896479': {'url': 'http://trustyourblood.tumblr.com/post/105002137022', 'image': 'https://s-media-cache-ak0.pinimg.com/236x/f3/90/ca/f390ca1574fa6abed99d9305496b8ccb.jpg', 'id': '751678994025896479', 'pinurl': 'https://www.pinterest.com/pin/751678994025896479/'}, '751678994025897797': {'url': 'https://officialwhatfashion.wordpress.com/2014/01/16/minimal-fashion/', 'image': 'https://s-media-cache-ak0.pinimg.com/236x/6d/4a/0c/6d4a0c7bad01541777b1f9c085f7a765.jpg', 'id': '751678994025897797', 'pinurl': 'https://www.pinterest.com/pin/751678994025897797/'}, '751678994025897636': {'url': 'http://sapphira-doll.tumblr.com/post/54928153469/tasudesu-someday-these-outfits-will-be-in-my', 'image': 'https://s-media-cache-ak0.pinimg.com/236x/dc/94/ff/dc94ff7a0b1aa7c87d7fd7bd6c5487ba.jpg', 'id': '751678994025897636', 'pinurl': 'https://www.pinterest.com/pin/751678994025897636/'}, '751678994025896476': {'url': 'http://store.y-3.com/us/y3sport/cappuccio_cod46483606bd.html', 'image': 'https://s-media-cache-ak0.pinimg.com/236x/53/09/c7/5309c7e642fda58551655cf8db9e04eb.jpg', 'id': '751678994025896476', 'pinurl': 'https://www.pinterest.com/pin/751678994025896476/'}, '751678994025925706': {'url': 'https://mystylediaryy.blogspot.de/2016/09/diy-bodysuit-out-of-tank-top.html?m=1#more', 'image': 'https://s-media-cache-ak0.pinimg.com/236x/54/70/28/54702817c18c988642da2b0193405589.jpg', 'id': '751678994025925706', 'pinurl': 'https://www.pinterest.com/pin/751678994025925706/'}, '751678994025901259': {'url': 'http://atelierbozuberalles.tumblr.com/post/103454370447/new-colourway-atelier-boz-isaac-jacket-dress', 'image': 'https://s-media-cache-ak0.pinimg.com/236x/97/16/78/971678900af96c0fde46847dc941e9ee.jpg', 'id': '751678994025901259', 'pinurl': 'https://www.pinterest.com/pin/751678994025901259/'}, '751678994025918007': {'url': 'http://trend2wear.com/girls-be-different-and-trendy-in-these-torn-jeans-this-summer/', 'image': 'https://s-media-cache-ak0.pinimg.com/236x/02/51/27/025127cd16ba5231341a45cebea1bcc4.jpg', 'id': '751678994025918007', 'pinurl': 'https://www.pinterest.com/pin/751678994025918007/'}, '751678994025903165': {'url': 'https://www.etsy.com/listing/238453576/maame-ama-high-waist-african-print', 'image': 'https://s-media-cache-ak0.pinimg.com/236x/77/88/db/7788db679703e1db212879b66f51ddff.jpg', 'id': '751678994025903165', 'pinurl': 'https://www.pinterest.com/pin/751678994025903165/'}, '751678994025901295': {'url': 'http://duchessdior.tumblr.com/post/137182517944/koreanmodel-jin-jung-sun-seon-hwang-jung-ho', 'image': 'https://s-media-cache-ak0.pinimg.com/236x/04/5d/da/045ddaf59d7a50284af9f707f1605e29.jpg', 'id': '751678994025901295', 'pinurl': 'https://www.pinterest.com/pin/751678994025901295/'}, '751678994025896953': {'url': 'http://www.vam.ac.uk/content/articles/f/fashion-in-motion-gareth-pugh/', 'image': 'https://s-media-cache-ak0.pinimg.com/236x/b8/14/89/b81489dc5c0e383263467c563b9a8565.jpg', 'id': '751678994025896953', 'pinurl': 'https://www.pinterest.com/pin/751678994025896953/'}, '751678994025897629': {'url': 'http://www.vegawang.com/collection02.asp?ClassId=43', 'image': 'https://s-media-cache-ak0.pinimg.com/236x/73/4e/93/734e937a9a6d36e8cb272648ed4359f1.jpg', 'id': '751678994025897629', 'pinurl': 'https://www.pinterest.com/pin/751678994025897629/'}, '751678994025901266': {'url': 'http://www.farfetch.com/br/shopping/women/stella-mccartney-calca-jeans-skinny-item-11025645.aspx?storeid=9512&ffref=lp_pic_863_2_', 'image': 'https://s-media-cache-ak0.pinimg.com/236x/35/a5/39/35a5395041e99e6a6462c21f5af7b2c9.jpg', 'id': '751678994025901266', 'pinurl': 'https://www.pinterest.com/pin/751678994025901266/'}, '751678994025896505': {'url': 'http://www.memorandum.com/2017/01/ivory-blazer-black-white-check-fringe-mini-skirt-tory-burch.html', 'image': 'https://s-media-cache-ak0.pinimg.com/236x/8e/a8/e2/8ea8e2fef3703bafd40e6b05652ee192.jpg', 'id': '751678994025896505', 'pinurl': 'https://www.pinterest.com/pin/751678994025896505/'}, '751678994025897643': {'url': 'http://kodonalife.tumblr.com/post/18205424699', 'image': 'https://s-media-cache-ak0.pinimg.com/236x/94/8e/1f/948e1fdd111aa32243887257b18e8d5e.jpg', 'id': '751678994025897643', 'pinurl': 'https://www.pinterest.com/pin/751678994025897643/'}, '751678994025897942': {'url': 'http://www.vogue.co.uk/shows/spring-summer-2017-ready-to-wear/miu-miu/collection/#2yWrgZ1XwMG', 'image': 'https://s-media-cache-ak0.pinimg.com/236x/51/89/d6/5189d665f00946c11cb65ed15eb6a275.jpg', 'id': '751678994025897942', 'pinurl': 'https://www.pinterest.com/pin/751678994025897942/'}, '751678994025901261': {'url': 'http://blog.styleestate.com/style-estate-blog/52-great-kendall-jenner-street-style-outfits', 'image': 'https://s-media-cache-ak0.pinimg.com/236x/98/51/b6/9851b6495f2eb52509ef20f6b6a04adc.jpg', 'id': '751678994025901261', 'pinurl': 'https://www.pinterest.com/pin/751678994025901261/'}, '751678994025929459': {'url': 'http://feedproxy.google.com/~r/amazingoutfits/~3/LPkE3trs3Ss/AmazingOutfits.page', 'image': 'https://s-media-cache-ak0.pinimg.com/236x/f7/81/05/f7810598916a57f4231c2b9ee05e6cb2.jpg', 'id': '751678994025929459', 'pinurl': 'https://www.pinterest.com/pin/751678994025929459/'}, '751678994025896527': {'url': 'http://corteks.tumblr.com/tagged/fashion', 'image': 'https://s-media-cache-ak0.pinimg.com/236x/bf/cc/fd/bfccfdf0e01d3b33d44b51cd1176908c.jpg', 'id': '751678994025896527', 'pinurl': 'https://www.pinterest.com/pin/751678994025896527/'}, '751678994025897622': {'url': 'http://www.etsy.com/listing/79538969/vintage-1950s-dress-fabulous-kamehameha?ref=usr_faveitems&atr_uid=8146159', 'image': 'https://s-media-cache-ak0.pinimg.com/236x/09/4b/d6/094bd6c7a6456302a71193a6197c103f.jpg', 'id': '751678994025897622', 'pinurl': 'https://www.pinterest.com/pin/751678994025897622/'}, '751678994025896502': {'url': 'http://www.amazon.com/Computer-Accessories-Supplies/b?ie=UTF8&node=172456', 'image': 'https://s-media-cache-ak0.pinimg.com/236x/8e/f6/ff/8ef6ff3db0dd441251fbd0e23f1edc46.jpg', 'id': '751678994025896502', 'pinurl': 'https://www.pinterest.com/pin/751678994025896502/'}, '751678994025920775': {'url': 'http://www.thisthatandlife.com/2013/02/a-little-of-this-a-little-of-that-4/', 'image': 'https://s-media-cache-ak0.pinimg.com/236x/f1/0b/d8/f10bd8ab74846c4593e840929d3ff558.jpg', 'id': '751678994025920775', 'pinurl': 'https://www.pinterest.com/pin/751678994025920775/'}, '751678994025896950': {'url': 'http://www.livingly.com/runway/Iris+Van+Herpen/Couture+Spring+2012/Details/dfWFrHSMWRR', 'image': 'https://s-media-cache-ak0.pinimg.com/236x/c2/e9/6a/c2e96ace7c4633d626b2f799ce441c5d.jpg', 'id': '751678994025896950', 'pinurl': 'https://www.pinterest.com/pin/751678994025896950/'}, '751678994025925924': {'url': 'http://eandrew888.polyvore.com/cgi/search.sets?utm_campaign=Outfits+for+Teenagers&query=teens&featured_set_ids=214244907', 'image': 'https://s-media-cache-ak0.pinimg.com/236x/88/63/e6/8863e6d1d12cd4be99cd137f64c7852e.jpg', 'id': '751678994025925924', 'pinurl': 'https://www.pinterest.com/pin/751678994025925924/'}, '751678994025903046': {'url': 'http://feedproxy.google.com/~r/amazingoutfits/~3/llTknA9ry-E/AmazingOutfits.page', 'image': 'https://s-media-cache-ak0.pinimg.com/236x/20/fd/5f/20fd5f9ae95ff1ec52cdd20a6fe5668e.jpg', 'id': '751678994025903046', 'pinurl': 'https://www.pinterest.com/pin/751678994025903046/'}, '751678994025897807': {'url': 'http://www.acronym.de/product.php?id=520', 'image': 'https://s-media-cache-ak0.pinimg.com/236x/0f/f0/59/0ff0598a6768d54662abe9be37c1b75f.jpg', 'id': '751678994025897807', 'pinurl': 'https://www.pinterest.com/pin/751678994025897807/'}, '751678994025901257': {'url': 'http://trendland.com/trendwatch-sarah-ryan-fraterna-collection/', 'image': 'https://s-media-cache-ak0.pinimg.com/236x/1f/7d/45/1f7d4556a7f605e5368f5cf2607be220.jpg', 'id': '751678994025901257', 'pinurl': 'https://www.pinterest.com/pin/751678994025901257/'}, '751678994025901272': {'url': 'http://www.notjustalabel.com/vega_zaishi_wang', 'image': 'https://s-media-cache-ak0.pinimg.com/236x/e6/25/32/e625327640228d22a1e474093d2326a6.jpg', 'id': '751678994025901272', 'pinurl': 'https://www.pinterest.com/pin/751678994025901272/'}, '751678994025923552': {'url': 'http://amzn.to/2gxKjAk', 'image': 'https://s-media-cache-ak0.pinimg.com/236x/84/1b/66/841b664d1e61c99e9f0607fb03ace29d.jpg', 'id': '751678994025923552', 'pinurl': 'https://www.pinterest.com/pin/751678994025923552/'}, '751678994025917930': {'url': 'https://www.lulus.com/products/power-of-love-navy-blue-strapless-jumpsuit/387482.html', 'image': 'https://s-media-cache-ak0.pinimg.com/236x/da/bb/67/dabb67319c71dafdb4cf57b2bc6441c3.jpg', 'id': '751678994025917930', 'pinurl': 'https://www.pinterest.com/pin/751678994025917930/'}, '751678994025901296': {'url': 'None', 'image': 'https://s-media-cache-ak0.pinimg.com/236x/81/a4/84/81a48422d5aaf932dda6c2aedd3649e2.jpg', 'id': '751678994025901296', 'pinurl': 'https://www.pinterest.com/pin/751678994025901296/'}}\n"
     ]
    }
   ],
   "source": [
    "with open('/home/{}/womenfashion.pickle'.format(myusr), 'rb') as handle:\n",
    "    womendic = pickle.load(handle)\n",
    "\n",
    "print (womendic)"
   ]
  },
  {
   "cell_type": "code",
   "execution_count": 35,
   "metadata": {
    "collapsed": false
   },
   "outputs": [
    {
     "data": {
      "text/plain": [
       "175"
      ]
     },
     "execution_count": 35,
     "metadata": {},
     "output_type": "execute_result"
    }
   ],
   "source": [
    "len(womendic)"
   ]
  },
  {
   "cell_type": "code",
   "execution_count": 36,
   "metadata": {
    "collapsed": false
   },
   "outputs": [],
   "source": [
    "dapatz = ('/home/{}/pin/'.format(myusr))"
   ]
  },
  {
   "cell_type": "code",
   "execution_count": 37,
   "metadata": {
    "collapsed": true
   },
   "outputs": [],
   "source": [
    "mylis = list()"
   ]
  },
  {
   "cell_type": "code",
   "execution_count": 38,
   "metadata": {
    "collapsed": true
   },
   "outputs": [],
   "source": [
    "startdic = dict()"
   ]
  },
  {
   "cell_type": "code",
   "execution_count": 39,
   "metadata": {
    "collapsed": false,
    "scrolled": false
   },
   "outputs": [
    {
     "name": "stdout",
     "output_type": "stream",
     "text": [
      "\"How to draw hoods\"\n",
      "751678994025929468\n",
      "https://s-media-cache-ak0.pinimg.com/236x/75/d6/55/75d655a4c49d44bd5c492ab1676d4320.jpg\n",
      "https://www.pinterest.com/pin/751678994025929468/\n",
      "https://www.patreon.com/posts/hoods-reference-2218600\n",
      "\"In-depth analysis of\"\n",
      "751678994025929465\n",
      "https://s-media-cache-ak0.pinimg.com/236x/5b/bc/2e/5bbc2e738eaeddcbbae6c2f7f6b06441.jpg\n",
      "https://www.pinterest.com/pin/751678994025929465/\n",
      "http://comicbook.com/2015/05/04/suicide-squads-margot-robbie-as-harley-quinn-an-in-depth-analysi/\n",
      "\"simplistic\"\n",
      "751678994025929461\n",
      "https://s-media-cache-ak0.pinimg.com/236x/c5/21/79/c5217982cabee84f98db13960dacf992.jpg\n",
      "https://www.pinterest.com/pin/751678994025929461/\n",
      "http://www.shopstyle.com/action/loadRetailerProductPage?id=273144816&pid=uid400-24654020-78\n",
      "\"Find More at => http\"\n",
      "751678994025929459\n",
      "https://s-media-cache-ak0.pinimg.com/236x/f7/81/05/f7810598916a57f4231c2b9ee05e6cb2.jpg\n",
      "https://www.pinterest.com/pin/751678994025929459/\n",
      "http://feedproxy.google.com/~r/amazingoutfits/~3/LPkE3trs3Ss/AmazingOutfits.page\n",
      "\"Star wars M\\u00e1s\"\n",
      "751678994025929456\n",
      "https://s-media-cache-ak0.pinimg.com/236x/93/37/cd/9337cd806866195dd0da770465e7dd67.jpg\n",
      "https://www.pinterest.com/pin/751678994025929456/\n",
      "None\n",
      "\"How to create the pe\"\n",
      "751678994025929453\n",
      "https://s-media-cache-ak0.pinimg.com/236x/a4/56/80/a4568026d1f9385f4e74847655aae938.jpg\n",
      "https://www.pinterest.com/pin/751678994025929453/\n",
      "http://wordsofleisure.com/2014/04/24/infografico-como-criar-uma-senha-super-ultra-mega-forte/\n",
      "\"\\u2724 Autor Jorge Royan.\"\n",
      "751678994025929452\n",
      "https://s-media-cache-ak0.pinimg.com/236x/5a/56/4d/5a564d197e8a50380a70e5c1441c5c90.jpg\n",
      "https://www.pinterest.com/pin/751678994025929452/\n",
      "http://sketchesjr.blogspot.ca/2013/11/luberon-france-2013-a.html\n",
      "\"Here's the alternati\"\n",
      "751678994025929450\n",
      "https://s-media-cache-ak0.pinimg.com/236x/d8/6b/59/d86b59009cabba0aef145959b2b607e9.jpg\n",
      "https://www.pinterest.com/pin/751678994025929450/\n",
      "http://mashable.com/2015/10/28/altwork-station-laying-down/?utm_cid=mash-com-pin-link#ThDvneW9fcqR\n",
      "\"If you need a last m\"\n",
      "751678994025929446\n",
      "https://s-media-cache-ak0.pinimg.com/236x/91/b3/36/91b33650343c4744ff2d1239a9d7e2ff.jpg\n",
      "https://www.pinterest.com/pin/751678994025929446/\n",
      "http://wonkywonderful.com/salted-caramel-pecan-cheesecake-dip/\n",
      "\"60 Summer And Popula\"\n",
      "751678994025929443\n",
      "https://s-media-cache-ak0.pinimg.com/236x/ae/36/6d/ae366d162a24372bdf411c4ba97e06e1.jpg\n",
      "https://www.pinterest.com/pin/751678994025929443/\n",
      "https://outfitshunter.com/article/60-summer-and-popular-outfits-of-tiger-mist-australian-label-2#GcQgMxUV69\n",
      "\"Uppercase planner Oc\"\n",
      "751678994025929442\n",
      "https://s-media-cache-ak0.pinimg.com/236x/54/7c/6f/547c6fbd0b6e87421ffc59ab0aa235be.jpg\n",
      "https://www.pinterest.com/pin/751678994025929442/\n",
      "http://siminiblocker.tumblr.com/tagged/books\n",
      "\"1940s Misses Dress V\"\n",
      "751678994025929439\n",
      "https://s-media-cache-ak0.pinimg.com/236x/27/00/60/2700604e98d044010cc7ba51b08b8c79.jpg\n",
      "https://www.pinterest.com/pin/751678994025929439/\n",
      "http://www.etsy.com/listing/112525586/1940s-misses-dress-vintage-sewing?utm_source=OpenGraph&utm_medium=PageTools&utm_campaign=Share\n",
      "\"Drawing arms\"\n",
      "751678994025929438\n",
      "https://s-media-cache-ak0.pinimg.com/236x/e3/fc/ae/e3fcae8605c78ebaafea89ef3a35775e.jpg\n",
      "https://www.pinterest.com/pin/751678994025929438/\n",
      "https://www.instagram.com/p/BGd9vsRvw6b/\n",
      "\"Cinnamon Roll Bread\"\n",
      "751678994025929436\n",
      "https://s-media-cache-ak0.pinimg.com/236x/cb/98/e4/cb98e4f592fc94c7dd71113d933b8499.jpg\n",
      "https://www.pinterest.com/pin/751678994025929436/\n",
      "http://centercutcook.com/cinnamon-roll-bread/\n",
      "\"by micha vom wald by\"\n",
      "751678994025929431\n",
      "https://s-media-cache-ak0.pinimg.com/236x/87/bf/c2/87bfc2316701970c3c8cec47de728152.jpg\n",
      "https://www.pinterest.com/pin/751678994025929431/\n",
      "http://edgardlops.tumblr.com/post/145429057251\n",
      "\"Texas Roadhouse Roll\"\n",
      "751678994025929429\n",
      "https://s-media-cache-ak0.pinimg.com/236x/b9/7f/f3/b97ff32a7b1cc8acd16832038becc6e6.jpg\n",
      "https://www.pinterest.com/pin/751678994025929429/\n",
      "http://www.jocooks.com/bakery/breads/texas-roadhouse-rolls/\n",
      "\"Glasses\"\n",
      "751678994025929425\n",
      "https://s-media-cache-ak0.pinimg.com/236x/4f/b8/0b/4fb80b7cafa25abd6c6895c0bc3b0b44.jpg\n",
      "https://www.pinterest.com/pin/751678994025929425/\n",
      "https://www.instagram.com/p/BKP1VHCjwZB/\n",
      "\"One Pot Spicy Eggs a\"\n",
      "751678994025929423\n",
      "https://s-media-cache-ak0.pinimg.com/236x/b4/8e/06/b48e06ca769a1cdf74d78038ed7360d3.jpg\n",
      "https://www.pinterest.com/pin/751678994025929423/\n",
      "http://pinchofyum.com/one-pot-spicy-eggs-and-potatoes\n",
      "\"Black suit with tiny\"\n",
      "751678994025929422\n",
      "https://s-media-cache-ak0.pinimg.com/236x/00/69/5c/00695cc15e0d7b0c3bd51b39642b1727.jpg\n",
      "https://www.pinterest.com/pin/751678994025929422/\n",
      "None\n",
      "null\n",
      "751678994025929419\n",
      "https://s-media-cache-ak0.pinimg.com/236x/49/31/23/4931239328e95e7e6318fde1ed3d3b69.jpg\n",
      "https://www.pinterest.com/pin/751678994025929419/\n",
      "http://www.torrid.com/product/star-wars-compact-mirror/10582692.html\n",
      "\"You only need four i\"\n",
      "751678994025929418\n",
      "https://s-media-cache-ak0.pinimg.com/236x/40/98/42/4098427420dc6db6ed416a5e1ef7c6db.jpg\n",
      "https://www.pinterest.com/pin/751678994025929418/\n",
      "http://www.veganosity.com/healthy-single-serving-oil-free-pesto-sauce/\n",
      "\"Enjoy these deliciou\"\n",
      "751678994025929417\n",
      "https://s-media-cache-ak0.pinimg.com/236x/ec/1f/a4/ec1fa4a6786927c6fab608f70c9aeca3.jpg\n",
      "https://www.pinterest.com/pin/751678994025929417/\n",
      "http://hip2save.com/2014/01/24/mini-corn-dog-muffins-recipe/\n",
      "\"Canga\"\n",
      "751678994025929415\n",
      "https://s-media-cache-ak0.pinimg.com/236x/88/4e/b3/884eb3bdc9c215d76b8001c2dc8710e8.jpg\n",
      "https://www.pinterest.com/pin/751678994025929415/\n",
      "http://styletic.com/easy-weekend-diy-projects-for-girls/\n",
      "\"Red vs White\"\n",
      "751678994025925971\n",
      "https://s-media-cache-ak0.pinimg.com/236x/69/c1/95/69c19505b76675c13af2593936a4b5b3.jpg\n",
      "https://www.pinterest.com/pin/751678994025925971/\n",
      "http://thewanderlustkitchen.com/wine-102-cooking-wine/\n",
      "\"A Beginner's Guide t\"\n",
      "751678994025925970\n",
      "https://s-media-cache-ak0.pinimg.com/236x/62/bb/3c/62bb3cf056487c83f65ff8d8aa52d467.jpg\n",
      "https://www.pinterest.com/pin/751678994025925970/\n",
      "http://www.thebiggreen.net/2014/12/01/a-beginners-guide-to-wine/\n"
     ]
    }
   ],
   "source": [
    "for itl in range(0, itlen):\n",
    "    print(json.dumps(xmlpin['rss']['channel']['item'][itl]['title']))\n",
    "    pinlink = (json.dumps(xmlpin['rss']['channel']['item'][itl]['link']))\n",
    "    pids =(pinlink.replace('https://www.pinterest.com/pin/', ''))\n",
    "    pinid = pids.replace('/', '')\n",
    "    \n",
    "    pinnor = (pinid.replace('\"', ''))\n",
    "    print(pinnor)\n",
    "    \n",
    "    pindesc = (json.dumps(xmlpin['rss']['channel']['item'][itl]['description']))\n",
    "    pinbs = bs4.BeautifulSoup(pindesc)\n",
    "    pinfin = (pinbs.find('img')['src'])\n",
    "    pinrep = (pinfin.replace('\\\\', ''))\n",
    "    prep = pinrep.replace('\"', '')\n",
    "    print(prep)\n",
    "    \n",
    "        \n",
    "        \n",
    "    rstme = ('.. title: ' + pinnor + ' \\n' + '.. slug: ' + pinnor + ' \\n' + '.. date: ' + str(timnow))\n",
    "    \n",
    "    #print(pinbs.text)\n",
    "    #print(pinbs)\n",
    "    finpinurl = (pinlink.replace('\"', ''))\n",
    "    \n",
    "    print(finpinurl)\n",
    "    reqfinpin = requests.get(finpinurl)\n",
    "    reqfintxt = reqfinpin.text\n",
    "    reqsoup = bs4.BeautifulSoup(reqfintxt)\n",
    "    newli = list()\n",
    "    reqa = reqsoup.find_all('meta')\n",
    "    #print(reqa)\n",
    "    urlmet = (reqa[30])\n",
    "    \n",
    "    print(urlmet['content'])\n",
    "    \n",
    "    womendic.update({pinnor : dict({'id' : pinnor, 'image' : prep, 'url' : urlmet['content'], 'pinurl' : finpinurl})})\n",
    "    startdic.update({pinnor : dict({'id' : pinnor, 'image' : prep, 'url' : urlmet['content'], 'pinurl' : finpinurl})})\n",
    "    #for req in reqa:\n",
    "    #    print(req)\n",
    "        #if 'http' in req:\n",
    "        #    print(req)\n",
    "        \n",
    "    #for link in reqsoup.find_all('a'):\n",
    "    #    try:\n",
    "    #        if 'http' in (link.get('href')):\n",
    "    #            print(link.get('href'))\n",
    "    #            with open('/home/{}/women-fashion/posts/{}.md'.format(myusr, pinnor), 'a') as fashmd:\n",
    "    #                fashmd.write('[' + link.get('href') + '](' + itl + ')\\n\\n')\n",
    "    #    except TypeError:\n",
    "    #        pass\n",
    "        #print(link.get('href'))\n",
    "    #print(reqa)\n",
    "    mylis = list()\n",
    "    newli.append(reqsoup)\n",
    "    mylis.append(reqsoup.find_all('meta'))\n",
    "    \n",
    "    with open('/home/{}/women-fashion/posts/{}.meta'.format(myusr, pinnor), 'w') as fashmd:\n",
    "        fashmd.write(rstme)\n",
    "        \n",
    "    \n",
    "    \n",
    "    with open('/home/{}/women-fashion/posts/{}.md'.format(myusr, pinnor), 'w') as fashmd:\n",
    "        fashmd.write('!' + '[' + pinnor + '](/galleries/' + pinnor + '.jpg)\\n\\n' + pinbs.text + '\\n\\n[link](' + urlmet['content'] + ')\\n\\n')\n",
    "        \n",
    "        \n",
    "    response = requests.get(prep, stream=True)\n",
    "    with open('{}{}.jpg'.format(dapatz + 'galleries/', pinnor), 'wb') as out_file:\n",
    "        shutil.copyfileobj(response.raw, out_file)\n",
    "        del response\n",
    "    #print(json.dumps(xmlpin['rss']['channel']['item'][itl]['link']))\n",
    "    "
   ]
  },
  {
   "cell_type": "code",
   "execution_count": 40,
   "metadata": {
    "collapsed": false
   },
   "outputs": [],
   "source": [
    "with open('/home/{}/womenfashion.pickle'.format(myusr), 'wb') as handle:\n",
    "    pickle.dump(womendic, handle, protocol=pickle.HIGHEST_PROTOCOL)"
   ]
  },
  {
   "cell_type": "code",
   "execution_count": 41,
   "metadata": {
    "collapsed": false
   },
   "outputs": [],
   "source": [
    "#len(womendic)"
   ]
  },
  {
   "cell_type": "code",
   "execution_count": 42,
   "metadata": {
    "collapsed": false
   },
   "outputs": [],
   "source": [
    "#jsdump = json.dumps(startdic)"
   ]
  },
  {
   "cell_type": "code",
   "execution_count": 43,
   "metadata": {
    "collapsed": false
   },
   "outputs": [],
   "source": [
    "#jsdump"
   ]
  },
  {
   "cell_type": "code",
   "execution_count": 319,
   "metadata": {
    "collapsed": false
   },
   "outputs": [],
   "source": [
    "#lispin = os.listdir('{}'.format(dapatz))"
   ]
  },
  {
   "cell_type": "code",
   "execution_count": 320,
   "metadata": {
    "collapsed": true
   },
   "outputs": [],
   "source": [
    "#heighsiz = list()\n",
    "#widthsiz = list()"
   ]
  },
  {
   "cell_type": "code",
   "execution_count": null,
   "metadata": {
    "collapsed": true
   },
   "outputs": [],
   "source": []
  },
  {
   "cell_type": "code",
   "execution_count": 518,
   "metadata": {
    "collapsed": false
   },
   "outputs": [],
   "source": [
    "#for lisp in lispin:\n",
    "#    im = Image.open(dapatz + lisp)\n",
    "#    print(im.size[1])\n",
    "#    heighsiz.append(im.size[1])\n",
    "#    widthsiz.append(im.size[0])\n",
    "#    print(im.filename)\n",
    "#    print(im.mode)"
   ]
  },
  {
   "cell_type": "code",
   "execution_count": 519,
   "metadata": {
    "collapsed": false
   },
   "outputs": [],
   "source": [
    "#widthsiz"
   ]
  },
  {
   "cell_type": "code",
   "execution_count": 520,
   "metadata": {
    "collapsed": false
   },
   "outputs": [],
   "source": [
    "#max(widthsiz)"
   ]
  },
  {
   "cell_type": "code",
   "execution_count": 521,
   "metadata": {
    "collapsed": false
   },
   "outputs": [],
   "source": [
    "#im = Image.new(\"RGB\", (max(widthsiz), sum(heighsiz)), \"white\")"
   ]
  },
  {
   "cell_type": "code",
   "execution_count": null,
   "metadata": {
    "collapsed": true
   },
   "outputs": [],
   "source": []
  },
  {
   "cell_type": "code",
   "execution_count": 325,
   "metadata": {
    "collapsed": false
   },
   "outputs": [
    {
     "data": {
      "text/plain": [
       "(236, 14066)"
      ]
     },
     "execution_count": 325,
     "metadata": {},
     "output_type": "execute_result"
    }
   ],
   "source": [
    "#im.size"
   ]
  },
  {
   "cell_type": "code",
   "execution_count": 326,
   "metadata": {
    "collapsed": false
   },
   "outputs": [
    {
     "data": {
      "text/plain": [
       "14066"
      ]
     },
     "execution_count": 326,
     "metadata": {},
     "output_type": "execute_result"
    }
   ],
   "source": [
    "#sum(heighsiz)"
   ]
  },
  {
   "cell_type": "code",
   "execution_count": 327,
   "metadata": {
    "collapsed": true
   },
   "outputs": [],
   "source": [
    "#posize = 0"
   ]
  },
  {
   "cell_type": "code",
   "execution_count": 328,
   "metadata": {
    "collapsed": true
   },
   "outputs": [],
   "source": [
    "#testlis = list()"
   ]
  },
  {
   "cell_type": "code",
   "execution_count": null,
   "metadata": {
    "collapsed": true
   },
   "outputs": [],
   "source": []
  },
  {
   "cell_type": "code",
   "execution_count": 329,
   "metadata": {
    "collapsed": false
   },
   "outputs": [
    {
     "name": "stdout",
     "output_type": "stream",
     "text": [
      "14066\n",
      "28132\n",
      "42198\n",
      "56264\n",
      "70330\n",
      "84396\n",
      "98462\n",
      "112528\n",
      "126594\n",
      "140660\n",
      "154726\n",
      "168792\n",
      "182858\n",
      "196924\n",
      "210990\n",
      "225056\n",
      "239122\n",
      "253188\n",
      "267254\n",
      "281320\n",
      "295386\n",
      "309452\n",
      "323518\n",
      "337584\n",
      "351650\n",
      "365716\n",
      "379782\n",
      "393848\n",
      "407914\n",
      "421980\n",
      "436046\n",
      "450112\n"
     ]
    }
   ],
   "source": [
    "#for lisp in lispin:\n",
    "#    imz = Image.open(dapatz + lisp)\n",
    "    #print(im.size[1])\n",
    "    #heighsiz.append(im.size[1])\n",
    "    #print(posize)\n",
    "#    pozi = (posize + (im.size[1]))\n",
    "#    testlis.append(im.size[1])\n",
    "#    print(sum(testlis))\n",
    "#    im.paste(imz, (0, sum(testlis)))\n",
    "    #img('home/wcm/pintrest/' + lisp)\n",
    "    #print(pozi)\n",
    "    #print(im.filename)\n",
    "    #print(im.mode)"
   ]
  },
  {
   "cell_type": "code",
   "execution_count": 330,
   "metadata": {
    "collapsed": false
   },
   "outputs": [],
   "source": [
    "#im.save('/home/wcm/Downloads/pin.jpg')"
   ]
  },
  {
   "cell_type": "code",
   "execution_count": 76,
   "metadata": {
    "collapsed": false
   },
   "outputs": [
    {
     "data": {
      "text/plain": [
       "'{\"title\": \"\\\\\"The Far Side\\\\\" by Ga\", \"link\": \"https://www.pinterest.com/pin/751678994025884711/\", \"description\": \"<p><a href=\\\\\"/pin/751678994025884711/\\\\\"><img src=\\\\\"https://s-media-cache-ak0.pinimg.com/236x/5d/ce/b1/5dceb19f02f223b25788847e05dea867.jpg\\\\\"></a></p><p>\\\\\"The Far Side\\\\\" by Gary Larson.</p>\", \"pubDate\": \"Mon, 23 Jan 2017 14:31:39 +0000\", \"guid\": \"https://www.pinterest.com/pin/751678994025884711/\"}'"
      ]
     },
     "execution_count": 76,
     "metadata": {},
     "output_type": "execute_result"
    }
   ],
   "source": [
    "#json.dumps(xmlpin['rss']['channel']['item'][0])"
   ]
  },
  {
   "cell_type": "code",
   "execution_count": 525,
   "metadata": {
    "collapsed": true
   },
   "outputs": [],
   "source": [
    "#https://nz.pinterest.com/search/pins/?q=kumera%20recipes"
   ]
  },
  {
   "cell_type": "code",
   "execution_count": 536,
   "metadata": {
    "collapsed": true
   },
   "outputs": [],
   "source": [
    "#searchspace = requests.get('https://nz.pinterest.com/search/pins/?q=kumera%20recipes')"
   ]
  },
  {
   "cell_type": "code",
   "execution_count": 537,
   "metadata": {
    "collapsed": true
   },
   "outputs": [],
   "source": [
    "#searchspace = requests.get('https://nz.pinterest.com/search/pins/?q=space%20fashion&rs=typed&term_meta[]=space%7Ctyped&term_meta[]=fashion%7Ctyped')"
   ]
  },
  {
   "cell_type": "code",
   "execution_count": 538,
   "metadata": {
    "collapsed": false
   },
   "outputs": [],
   "source": [
    "#bsearch =  bs4.BeautifulSoup(searchspace.text)"
   ]
  },
  {
   "cell_type": "code",
   "execution_count": 44,
   "metadata": {
    "collapsed": false
   },
   "outputs": [],
   "source": [
    "#for bsa in bsearch.find_all('a'):\n",
    "    #if '/pin/' in bsa:\n",
    "#    for pi in bsa:\n",
    "#        print(pi)\n",
    "        #if '/pin/' in pi:\n",
    "        #    print(pi)\n",
    "    "
   ]
  },
  {
   "cell_type": "code",
   "execution_count": 45,
   "metadata": {
    "collapsed": false
   },
   "outputs": [],
   "source": [
    "#for mybst in bsearch.find_all('img'):\n",
    "#    if '236x' in (mybst['src']):\n",
    "#        print(mybst)\n",
    "#        print(mybst['alt'])\n",
    "#        print((mybst['src']))"
   ]
  },
  {
   "cell_type": "code",
   "execution_count": null,
   "metadata": {
    "collapsed": true
   },
   "outputs": [],
   "source": []
  }
 ],
 "metadata": {
  "kernelspec": {
   "display_name": "Python 3",
   "language": "python",
   "name": "python3"
  },
  "language_info": {
   "codemirror_mode": {
    "name": "ipython",
    "version": 3
   },
   "file_extension": ".py",
   "mimetype": "text/x-python",
   "name": "python",
   "nbconvert_exporter": "python",
   "pygments_lexer": "ipython3",
   "version": "3.4.2"
  }
 },
 "nbformat": 4,
 "nbformat_minor": 0
}
