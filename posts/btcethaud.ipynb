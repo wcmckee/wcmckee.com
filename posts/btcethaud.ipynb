{
 "cells": [
  {
   "cell_type": "code",
   "execution_count": 1,
   "metadata": {},
   "outputs": [],
   "source": [
    "import requests\n",
    "import time\n",
    "import getpass\n",
    "import os\n",
    "import json\n",
    "import arrow"
   ]
  },
  {
   "cell_type": "code",
   "execution_count": 2,
   "metadata": {
    "collapsed": true
   },
   "outputs": [],
   "source": [
    "nowtime = arrow.now()"
   ]
  },
  {
   "cell_type": "code",
   "execution_count": 3,
   "metadata": {},
   "outputs": [
    {
     "data": {
      "text/plain": [
       "'2017-08-19T13:24:28.190837+12:00'"
      ]
     },
     "execution_count": 3,
     "metadata": {},
     "output_type": "execute_result"
    }
   ],
   "source": [
    "nowtime.for_json()"
   ]
  },
  {
   "cell_type": "code",
   "execution_count": 4,
   "metadata": {
    "collapsed": true
   },
   "outputs": [],
   "source": [
    "myusr = getpass.getuser()"
   ]
  },
  {
   "cell_type": "code",
   "execution_count": 10,
   "metadata": {},
   "outputs": [
    {
     "name": "stdout",
     "output_type": "stream",
     "text": [
      "{'ethdiff': 410.39, 'updated': '2017-10-18T10:01:58.329779+13:00', 'btcdiff': 7197.17, 'oldbtc': 7197.17, 'oldeth': 410.39}\n",
      "0.7600000000002183 0.160000000000025\n",
      "AUD. BTC: 7197.93. Old price: 7197.17. increase. ETH: 410.55. Old price: 410.39. increase\n",
      "old time: 2017-10-18T10:01:58.329779+13:00 current time: 2017-10-18T10:02:58.727963+13:00\n"
     ]
    }
   ],
   "source": [
    "confpat = '/home/{}/.config'.format(myusr)\n",
    "\n",
    "fulpat = '{}/blockchain.json'.format(confpat)\n",
    "\n",
    "if 'blockchain.json' in os.listdir(confpat):\n",
    "    pass\n",
    "else:\n",
    "    bcdic = dict({'oldbtc' : '0', 'oldeth' : '0', 'updated' : '2017-08-19T13:26:29.240023+12:00'})\n",
    "    bcjs = json.dumps(bcdic)\n",
    "    print(bcjs)\n",
    "    # Writing our configuration file to 'example.cfg'\n",
    "    with open(fulpat, 'w') as configfile:\n",
    "        configfile.write(bcjs)\n",
    "    \n",
    "with open(fulpat, 'r') as faljs:\n",
    "    #print(faljs.read())\n",
    "    convjs = json.loads(faljs.read())\n",
    "    \n",
    "print(convjs)\n",
    "oldbtc = convjs['oldbtc']\n",
    "oldeth = convjs['oldeth']\n",
    "\n",
    "payload = {'fsyms' : 'ETH,BTC', 'tsyms' : 'AUD'}\n",
    "\n",
    "reqetc = requests.get('https://min-api.cryptocompare.com/data/pricemulti', params= payload)\n",
    "nowtime = arrow.now()\n",
    "etjs = reqetc.json()\n",
    "\n",
    "if float(etjs['BTC']['AUD']) == float(oldbtc):\n",
    "    btcchange = 'no change'\n",
    "elif float(etjs['BTC']['AUD']) > float(oldbtc):\n",
    "    btcchange = 'increase'\n",
    "elif float(etjs['BTC']['AUD']) < float(oldbtc):\n",
    "    btcchange = 'decrease'\n",
    "    \n",
    "if float(etjs['ETH']['AUD']) == float(oldeth):\n",
    "    ethchange = 'no change'\n",
    "elif float(etjs['ETH']['AUD']) > float(oldeth):\n",
    "    ethchange = 'increase'\n",
    "elif float(etjs['ETH']['AUD']) < float(oldeth):\n",
    "    ethchange = 'decrease'\n",
    "    \n",
    "diffbtc = abs(float(etjs['BTC']['AUD'])-float(oldbtc))\n",
    "diffeth = abs(float(etjs['ETH']['AUD'])-float(oldeth))\n",
    "print(str(float(diffbtc)) + ' ' + str(float(diffeth)))\n",
    "oldtime = convjs['updated']\n",
    "print('AUD. BTC: {}. Old price: {}. {}. ETH: {}. Old price: {}. {}'.format(etjs['BTC']['AUD'], oldbtc, btcchange, etjs['ETH']['AUD'], oldeth, ethchange))\n",
    "print('old time: ' + oldtime + ' current time: ' + nowtime.for_json())\n",
    "#print(bt hchange)\n",
    "\n",
    "\n",
    "bcdic = dict({'oldbtc' : etjs['BTC']['AUD'], 'oldeth' : etjs['ETH']['AUD'], 'btcdiff' : diffbtc, 'ethdiff' : diffeth, 'updated' : nowtime.for_json()})\n",
    "bcjs = json.dumps(bcdic)\n",
    "\n",
    "with open(fulpat, 'w') as configfile:\n",
    "    configfile.write(bcjs)"
   ]
  },
  {
   "cell_type": "code",
   "execution_count": 11,
   "metadata": {},
   "outputs": [
    {
     "data": {
      "text/plain": [
       "{'btcdiff': 0.7600000000002183,\n",
       " 'ethdiff': 0.160000000000025,\n",
       " 'oldbtc': 7197.93,\n",
       " 'oldeth': 410.55,\n",
       " 'updated': '2017-10-18T10:02:58.727963+13:00'}"
      ]
     },
     "execution_count": 11,
     "metadata": {},
     "output_type": "execute_result"
    }
   ],
   "source": [
    "bcdic"
   ]
  },
  {
   "cell_type": "code",
   "execution_count": null,
   "metadata": {},
   "outputs": [],
   "source": []
  }
 ],
 "metadata": {
  "kernelspec": {
   "display_name": "Python 3",
   "language": "python",
   "name": "python3"
  },
  "language_info": {
   "codemirror_mode": {
    "name": "ipython",
    "version": 3
   },
   "file_extension": ".py",
   "mimetype": "text/x-python",
   "name": "python",
   "nbconvert_exporter": "python",
   "pygments_lexer": "ipython3",
   "version": "3.4.2"
  }
 },
 "nbformat": 4,
 "nbformat_minor": 2
}
