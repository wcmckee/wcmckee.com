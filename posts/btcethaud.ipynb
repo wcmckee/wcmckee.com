{
 "cells": [
  {
   "cell_type": "code",
   "execution_count": 100,
   "metadata": {},
   "outputs": [],
   "source": [
    "import requests\n",
    "import time\n",
    "import getpass\n",
    "import os\n",
    "import json\n",
    "import arrow"
   ]
  },
  {
   "cell_type": "code",
   "execution_count": 101,
   "metadata": {},
   "outputs": [],
   "source": [
    "import sqlite3"
   ]
  },
  {
   "cell_type": "code",
   "execution_count": 102,
   "metadata": {},
   "outputs": [],
   "source": [
    "blockconnect = sqlite3.connect('blockchain.db')"
   ]
  },
  {
   "cell_type": "code",
   "execution_count": 103,
   "metadata": {},
   "outputs": [],
   "source": [
    "bcon = blockconnect.cursor()"
   ]
  },
  {
   "cell_type": "code",
   "execution_count": 104,
   "metadata": {},
   "outputs": [],
   "source": [
    "try:\n",
    "    bcon.execute('''CREATE TABLE blockchain\n",
    "                    (datetime, ethval, bcval)''')\n",
    "    bcon.execute('INSERT INTO blockchain VALUES ({}, {}. {})'.format())\n",
    "except Exception:\n",
    "        pass"
   ]
  },
  {
   "cell_type": "code",
   "execution_count": 105,
   "metadata": {},
   "outputs": [],
   "source": [
    "nowtime = arrow.now()"
   ]
  },
  {
   "cell_type": "code",
   "execution_count": 106,
   "metadata": {},
   "outputs": [],
   "source": [
    "myusr = getpass.getuser()"
   ]
  },
  {
   "cell_type": "code",
   "execution_count": 107,
   "metadata": {},
   "outputs": [],
   "source": [
    "#confpat = '/home/{}/.config'.format(myusr)\n",
    "\n",
    "#fulpat = '{}/blockchain.json'.format(confpat)\n",
    "\n",
    "#if 'blockchain.json' in os.listdir(confpat):\n",
    "#    pass\n",
    "#else:\n",
    "#    bcdic = dict({'oldbtc' : '0', 'oldeth' : '0', 'updated' : '2017-08-19T13:26:29.240023+12:00'})\n",
    "#    bcjs = json.dumps(bcdic)\n",
    "#    print(bcjs)\n",
    "    # Writing our configuration file to 'example.cfg'\n",
    "#    with open(fulpat, 'w') as configfile:\n",
    "#        configfile.write(bcjs)\n",
    "    \n",
    "#with open(fulpat, 'r') as faljs:\n",
    "    #print(faljs.read())\n",
    "#    convjs = json.loads(faljs.read())\n",
    "    \n",
    "#print(convjs)\n",
    "#oldbtc = convjs['oldbtc']\n",
    "#oldeth = convjs['oldeth']\n",
    "\n",
    "payload = {'fsyms' : 'ETH,BTC', 'tsyms' : 'AUD'}\n",
    "\n",
    "reqetc = requests.get('https://min-api.cryptocompare.com/data/pricemulti', params= payload)\n",
    "nowtime = arrow.now()\n",
    "etjs = reqetc.json()\n",
    "\n",
    "#if float(etjs['BTC']['AUD']) == float(oldbtc):\n",
    "#    btcchange = 'no change'\n",
    "#elif float(etjs['BTC']['AUD']) > float(oldbtc):\n",
    "#    btcchange = 'increase'\n",
    "#elif float(etjs['BTC']['AUD']) < float(oldbtc):\n",
    "#    btcchange = 'decrease'\n",
    "    \n",
    "#if float(etjs['ETH']['AUD']) == float(oldeth):\n",
    "#    ethchange = 'no change'\n",
    "#elif float(etjs['ETH']['AUD']) > float(oldeth):\n",
    "#    ethchange = 'increase'\n",
    "#elif float(etjs['ETH']['AUD']) < float(oldeth):\n",
    "#    ethchange = 'decrease'\n",
    "    \n",
    "#diffbtc = abs(float(etjs['BTC']['AUD'])-float(oldbtc))\n",
    "#diffeth = abs(float(etjs['ETH']['AUD'])-float(oldeth))\n",
    "#print(str(float(diffbtc)) + ' ' + str(float(diffeth)))\n",
    "#oldtime = convjs['updated']\n",
    "#print('AUD. BTC: {}. Old price: {}. {}. ETH: {}. Old price: {}. {}'.format(etjs['BTC']['AUD'], oldbtc, btcchange, etjs['ETH']['AUD'], oldeth, ethchange))\n",
    "#print('old time: ' + oldtime + ' current time: ' + nowtime.for_json())\n",
    "#print(bt hchange)\n",
    "\n",
    "\n",
    "#bcdic = dict({'oldbtc' : etjs['BTC']['AUD'], 'oldeth' : etjs['ETH']['AUD'], 'btcdiff' : diffbtc, 'ethdiff' : diffeth, 'updated' : nowtime.for_json()})\n",
    "#bcjs = json.dumps(bcdic)\n",
    "\n",
    "#with open(fulpat, 'w') as configfile:\n",
    "#    configfile.write(bcjs)"
   ]
  },
  {
   "cell_type": "code",
   "execution_count": 108,
   "metadata": {},
   "outputs": [],
   "source": [
    "#bcdic"
   ]
  },
  {
   "cell_type": "code",
   "execution_count": 109,
   "metadata": {},
   "outputs": [
    {
     "ename": "OperationalError",
     "evalue": "database is locked",
     "output_type": "error",
     "traceback": [
      "\u001b[0;31m---------------------------------------------------------------------------\u001b[0m",
      "\u001b[0;31mOperationalError\u001b[0m                          Traceback (most recent call last)",
      "\u001b[0;32m<ipython-input-109-e4fcb48d2d08>\u001b[0m in \u001b[0;36m<module>\u001b[0;34m()\u001b[0m\n\u001b[0;32m----> 1\u001b[0;31m \u001b[0mbcon\u001b[0m\u001b[0;34m.\u001b[0m\u001b[0mexecute\u001b[0m\u001b[0;34m(\u001b[0m\u001b[0;34m'INSERT INTO blockchain VALUES ({}, {}, {})'\u001b[0m\u001b[0;34m.\u001b[0m\u001b[0mformat\u001b[0m\u001b[0;34m(\u001b[0m\u001b[0mnowtime\u001b[0m\u001b[0;34m.\u001b[0m\u001b[0mtimestamp\u001b[0m\u001b[0;34m,\u001b[0m \u001b[0metjs\u001b[0m\u001b[0;34m[\u001b[0m\u001b[0;34m'BTC'\u001b[0m\u001b[0;34m]\u001b[0m\u001b[0;34m[\u001b[0m\u001b[0;34m'AUD'\u001b[0m\u001b[0;34m]\u001b[0m\u001b[0;34m,\u001b[0m \u001b[0metjs\u001b[0m\u001b[0;34m[\u001b[0m\u001b[0;34m'ETH'\u001b[0m\u001b[0;34m]\u001b[0m\u001b[0;34m[\u001b[0m\u001b[0;34m'AUD'\u001b[0m\u001b[0;34m]\u001b[0m\u001b[0;34m)\u001b[0m\u001b[0;34m)\u001b[0m\u001b[0;34m\u001b[0m\u001b[0m\n\u001b[0m",
      "\u001b[0;31mOperationalError\u001b[0m: database is locked"
     ]
    }
   ],
   "source": [
    "bcon.execute('INSERT INTO blockchain VALUES ({}, {}, {})'.format(nowtime.timestamp, etjs['BTC']['AUD'], etjs['ETH']['AUD']))"
   ]
  },
  {
   "cell_type": "code",
   "execution_count": null,
   "metadata": {},
   "outputs": [],
   "source": [
    "blockconnect.commit()"
   ]
  },
  {
   "cell_type": "code",
   "execution_count": 110,
   "metadata": {},
   "outputs": [],
   "source": [
    "for row in bcon.execute('SELECT * FROM blockchain'):\n",
    "    print(row)"
   ]
  },
  {
   "cell_type": "code",
   "execution_count": 111,
   "metadata": {},
   "outputs": [
    {
     "ename": "AttributeError",
     "evalue": "'sqlite3.Cursor' object has no attribute 'commit'",
     "output_type": "error",
     "traceback": [
      "\u001b[0;31m---------------------------------------------------------------------------\u001b[0m",
      "\u001b[0;31mAttributeError\u001b[0m                            Traceback (most recent call last)",
      "\u001b[0;32m<ipython-input-111-f467ff2d8d78>\u001b[0m in \u001b[0;36m<module>\u001b[0;34m()\u001b[0m\n\u001b[0;32m----> 1\u001b[0;31m \u001b[0mbcon\u001b[0m\u001b[0;34m.\u001b[0m\u001b[0mcommit\u001b[0m\u001b[0;34m(\u001b[0m\u001b[0;34m)\u001b[0m\u001b[0;34m\u001b[0m\u001b[0m\n\u001b[0m",
      "\u001b[0;31mAttributeError\u001b[0m: 'sqlite3.Cursor' object has no attribute 'commit'"
     ]
    }
   ],
   "source": [
    "#bcon.commit()"
   ]
  },
  {
   "cell_type": "code",
   "execution_count": 112,
   "metadata": {},
   "outputs": [],
   "source": [
    "blockconnect.close()"
   ]
  },
  {
   "cell_type": "code",
   "execution_count": null,
   "metadata": {},
   "outputs": [],
   "source": []
  },
  {
   "cell_type": "code",
   "execution_count": null,
   "metadata": {},
   "outputs": [],
   "source": []
  }
 ],
 "metadata": {
  "kernelspec": {
   "display_name": "Python 3",
   "language": "python",
   "name": "python3"
  },
  "language_info": {
   "codemirror_mode": {
    "name": "ipython",
    "version": 3
   },
   "file_extension": ".py",
   "mimetype": "text/x-python",
   "name": "python",
   "nbconvert_exporter": "python",
   "pygments_lexer": "ipython3",
   "version": "3.5.3"
  }
 },
 "nbformat": 4,
 "nbformat_minor": 2
}
