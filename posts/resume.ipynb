{
 "cells": [
  {
   "cell_type": "markdown",
   "metadata": {},
   "source": [
    "<h3>William Mckee</h3>\n",
    "\n",
    "Email: will (at) artcontrol.me\n",
    "\n",
    "Phone: 0223721475\n",
    "\n",
    "<h3>Education</h3>\n",
    "\n",
    "Diploma with Honors in Art and Creativity. The Learning Connection. July 2010 - December 2012.\n",
    "\n",
    "Studied Drawing and Design. Palmerston North School Of Design. October 2008 - July 2010.\n",
    "\n",
    "Studied Applied Visual Imaging. Palmerston North UCOL. 2007 - 2009.\n",
    "\n",
    "NCEA Level 2. Horowhenua Collage, Levin. 2002 - 2006\n",
    "\n",
    "<h3>Work</h3>\n",
    "\n",
    "Education Support Worker, Ministery of Education. Working at Whaihanga Early Learning Centre. October 2014 - December 2014.\n",
    "\n",
    "Video Game Development tutor. Chalkle. September 2013.\n",
    "\n",
    "Casual Life modeling. The Learning Connection. 2011 - 2012.\n",
    "\n",
    "Mail Delivery. Kiwi Mail. 2004\n",
    "\n",
    "<h3>Volunteer</h3>\n",
    "\n",
    "linux.conf.au. January 10-16 2015. AV team - recording speakers talks. http://linux.conf.au/\n",
    "\n",
    "Te Whare O Te Ata (Fairfield Community Centre). Feburary 2014 - September 2014. Working with children on IT and art. Learning Linux sysadmin. http://fairfield.org.nz/\n",
    "\n",
    "Python Weekly Classes. 2014. Te Whare O Te Ata. Wednesday night programming and computer help.\n",
    "\n",
    "Whaihanga Early Learning Centre. 2014. Helper. Areas of note: art and building with blocks. Assistence with morning walks. \n",
    "\n",
    "SeniorNet, Levin. 2013. Helped eldely with their digital devices.  \n",
    "\n",
    "Company Branding Shop. 2010. Screen printing. http://shirt.co.nz\n",
    "\n",
    "<h3>Speaker</h3>\n",
    "\n",
    "linux.conf.au. Jan 2015. Lightning Talk at astro miniconf regarding IPython Notebook. http://bit.ly/15zGtNC\n",
    "\n",
    "Hamilton Computer Club. 2013 - 2014. Involvment and speaker Feb 2014 on Python programming language.\n",
    "\n",
    "Hamilton Linux Users Group. 2014. Speaker on GoDot Game Engine.  \n",
    "\n",
    "Kiwi PyCon 2013. Lightning Talk regarding lastfm api. http://bit.ly/18dgBJb\n",
    "\n",
    "<h3>Personal Projects</h3>\n",
    "\n",
    "ArtControl.me: The Art Of William Mckee. 2010 - Ongoing. Blog for uploading and discussing artwork. Pencil Drawing, Digital Painting. Life drawing, portraits, street scenes, landscapes. http://artcontrol.me CC:BY licence.\n",
    "\n",
    "BroBeur Studios: Video Game Development. 2012 - 2013. 13 game on Google Play Store. Majority solo, created between 48hours and 7days. Collab with others in small 2-4 people teams. Involve in Global Game Jam 2013, 2014, 2015. http://brobeur.com\n",
    "\n",
    "FreshFigure Photography. 2012 - Ongoing. Stock Photography site to host photography. Street and landscapes. Photography used by Horowhenua Mail, March 2013. http://freshfigure.com/art CC:BY licence.\n",
    "\n",
    "WCMCKEE: Web and Software Development. 2011 - Ongoing. Pythong programming. Web scalping, data processing, website generation. Notable sites/scripts generatored include http://getsdrawn.com and LCA Signin (digital signin/out system). http://wcmckee.com MIT licence\n"
   ]
  },
  {
   "cell_type": "code",
   "execution_count": null,
   "metadata": {
    "collapsed": true
   },
   "outputs": [],
   "source": []
  }
 ],
 "metadata": {
  "kernelspec": {
   "display_name": "Python 2",
   "name": "python2"
  },
  "language_info": {
   "codemirror_mode": {
    "name": "ipython",
    "version": 2
   },
   "file_extension": ".py",
   "mimetype": "text/x-python",
   "name": "python",
   "nbconvert_exporter": "python",
   "pygments_lexer": "ipython2",
   "version": "2.7.8"
  }
 },
 "nbformat": 4,
 "nbformat_minor": 0
}
