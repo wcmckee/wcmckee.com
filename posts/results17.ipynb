{
 "cells": [
  {
   "cell_type": "markdown",
   "metadata": {},
   "source": [
    "results17"
   ]
  },
  {
   "cell_type": "code",
   "execution_count": 133,
   "metadata": {
    "collapsed": true
   },
   "outputs": [],
   "source": [
    "import requests\n",
    "import bs4\n",
    "import getpass\n",
    "\n",
    "import arrow"
   ]
  },
  {
   "cell_type": "code",
   "execution_count": 105,
   "metadata": {
    "collapsed": true
   },
   "outputs": [],
   "source": [
    "myusr = getpass.getuser()"
   ]
  },
  {
   "cell_type": "code",
   "execution_count": 2,
   "metadata": {
    "collapsed": true
   },
   "outputs": [],
   "source": [
    "resulreq = requests.get('http://electionresults.govt.nz/')"
   ]
  },
  {
   "cell_type": "code",
   "execution_count": 7,
   "metadata": {
    "collapsed": false
   },
   "outputs": [
    {
     "name": "stderr",
     "output_type": "stream",
     "text": [
      "/usr/local/lib/python3.4/dist-packages/bs4/__init__.py:181: UserWarning: No parser was explicitly specified, so I'm using the best available HTML parser for this system (\"lxml\"). This usually isn't a problem, but if you run this code on another system, or in a different virtual environment, it may use a different parser and behave differently.\n",
      "\n",
      "The code that caused this warning is on line 170 of the file /usr/lib/python3.4/runpy.py. To get rid of this warning, change code that looks like this:\n",
      "\n",
      " BeautifulSoup(YOUR_MARKUP})\n",
      "\n",
      "to this:\n",
      "\n",
      " BeautifulSoup(YOUR_MARKUP, \"lxml\")\n",
      "\n",
      "  markup_type=markup_type))\n"
     ]
    }
   ],
   "source": [
    "bssou = bs4.BeautifulSoup(resulreq.text)"
   ]
  },
  {
   "cell_type": "code",
   "execution_count": 36,
   "metadata": {
    "collapsed": true
   },
   "outputs": [],
   "source": [
    "testlis = list()"
   ]
  },
  {
   "cell_type": "code",
   "execution_count": 134,
   "metadata": {
    "collapsed": false,
    "scrolled": true
   },
   "outputs": [],
   "source": [
    "for sso in (bssou.findAll('select')):\n",
    "    for sf in (sso.findAll('option')):\n",
    "#        print(sf)\n",
    "        testlis.append(sf)\n",
    "    #print(sso.text)"
   ]
  },
  {
   "cell_type": "code",
   "execution_count": 76,
   "metadata": {
    "collapsed": true
   },
   "outputs": [],
   "source": [
    "letes = len(testlis) - 1"
   ]
  },
  {
   "cell_type": "markdown",
   "metadata": {},
   "source": [
    "want api of each electorate. \n",
    "\n",
    "name: Auckland Central\n",
    "id: 1\n",
    "candinates: name: votes, party\n",
    "\n",
    "\n"
   ]
  },
  {
   "cell_type": "code",
   "execution_count": 125,
   "metadata": {
    "collapsed": true
   },
   "outputs": [],
   "source": []
  },
  {
   "cell_type": "code",
   "execution_count": 126,
   "metadata": {
    "collapsed": true
   },
   "outputs": [],
   "source": [
    "timnow = arrow.now()"
   ]
  },
  {
   "cell_type": "code",
   "execution_count": 132,
   "metadata": {
    "collapsed": false
   },
   "outputs": [],
   "source": [
    "for somerol in range(10,letes):\n",
    "    reqid = requests.get('http://electionresults.govt.nz/electorate-details-{}.html'.format(somerol))\n",
    "\n",
    "    reqtxt = bs4.BeautifulSoup(reqid.text, 'lxml')\n",
    "    \n",
    "    elebody = (reqtxt.find('tbody'))\n",
    "    #print(elebody.text)\n",
    "    try:\n",
    "        with open('/home/{}/electionresults/posts/results-{}.md'.format(myusr, somerol), 'w') as resulmd:\n",
    "            resulmd.write(str(somerol) + ' \\n' + str(elebody.text))\n",
    "            \n",
    "        with open ('/home/{}/electionresults/posts/{}.meta'.format(myusr, somerol), 'w') as opmetat:\n",
    "                #opmetat.write(\"{}\".format(str(curtim))\n",
    "            #for arage in alltags:\n",
    "            #    print(arage)\n",
    "            opmetat.write('.. title: {}\\n.. slug: {}\\n.. date: {}\\n.. tags: \\n.. link:\\n.. description:\\n.. type: text'.format(somerol, somerol, timnow.for_json()))\n",
    "\n",
    "        \n",
    "    except AttributeError: \n",
    "        pass\n",
    "    #     None not in elebody:\n",
    "    #    with open('/home/pi/memetest/posts/results-{}.md'.format(somerol), 'w') as resulmd:\n",
    "    #        resulmd.write(str(elebody.text))\n",
    "    \n",
    "    \n",
    "    "
   ]
  },
  {
   "cell_type": "code",
   "execution_count": null,
   "metadata": {
    "collapsed": true
   },
   "outputs": [],
   "source": []
  },
  {
   "cell_type": "code",
   "execution_count": 70,
   "metadata": {
    "collapsed": false
   },
   "outputs": [],
   "source": [
    "#reqid = requests.get('http://electionresults.govt.nz/electorate-details-{}.html'.format(inid))\n",
    "\n",
    "#reqtxt = bs4.BeautifulSoup(reqid.text, 'lxml')"
   ]
  },
  {
   "cell_type": "code",
   "execution_count": 71,
   "metadata": {
    "collapsed": false
   },
   "outputs": [],
   "source": [
    "#elebody = (reqtxt.findAll('tbody'))"
   ]
  },
  {
   "cell_type": "code",
   "execution_count": 72,
   "metadata": {
    "collapsed": true
   },
   "outputs": [],
   "source": [
    "#someresul = list()"
   ]
  },
  {
   "cell_type": "code",
   "execution_count": 135,
   "metadata": {
    "collapsed": false,
    "scrolled": true
   },
   "outputs": [],
   "source": [
    "#for ele in elebody:\n",
    "    #print(ele.text)\n",
    "#    someresul.append(ele.text)"
   ]
  },
  {
   "cell_type": "code",
   "execution_count": 15,
   "metadata": {
    "collapsed": false
   },
   "outputs": [],
   "source": [
    "#tbodz = bssou.findAll('td', {'class': 'text-left bold'})"
   ]
  },
  {
   "cell_type": "code",
   "execution_count": 108,
   "metadata": {
    "collapsed": false
   },
   "outputs": [],
   "source": [
    "bsu = bssou.findAll('td')"
   ]
  },
  {
   "cell_type": "code",
   "execution_count": 122,
   "metadata": {
    "collapsed": false,
    "scrolled": true
   },
   "outputs": [],
   "source": [
    "with open('/home/{}/electionresults/stories/index.md'.format(myusr), 'w') as stopn:\n",
    "    for bs in bsu:\n",
    "        #print(bs.text)\n",
    "        stopn.write(bs.text)"
   ]
  },
  {
   "cell_type": "code",
   "execution_count": null,
   "metadata": {
    "collapsed": true
   },
   "outputs": [],
   "source": [
    "#with open('/home/pi/memetest/posts/results-{}.html'.format(inid, 'w') as resulmd:\n",
    "#    resulmd.write(elebody)\n",
    "    \n",
    "    "
   ]
  }
 ],
 "metadata": {
  "kernelspec": {
   "display_name": "Python 3",
   "language": "python",
   "name": "python3"
  },
  "language_info": {
   "codemirror_mode": {
    "name": "ipython",
    "version": 3
   },
   "file_extension": ".py",
   "mimetype": "text/x-python",
   "name": "python",
   "nbconvert_exporter": "python",
   "pygments_lexer": "ipython3",
   "version": "3.4.2"
  }
 },
 "nbformat": 4,
 "nbformat_minor": 0
}
