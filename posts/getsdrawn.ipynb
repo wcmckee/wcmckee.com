{
 "cells": [
  {
   "cell_type": "markdown",
   "metadata": {},
   "source": [
    "<h1>GetsDrawn DotCom</h1>"
   ]
  },
  {
   "cell_type": "markdown",
   "metadata": {},
   "source": [
    "This is a python script to generate the website GetsDrawn. It takes data from /r/RedditGetsDrawn and makes something awesome.\n",
    "\n",
    "The script has envolved and been rewritten several times. \n",
    "\n",
    "The first script for rgdsnatch was written after I got banned from posting my artwork on /r/RedditGetsDrawn. The plan was to create a new site that displayed stuff from /r/RedditGetsDrawn. \n",
    "\n",
    "Currently it only displays the most recent 25 items on redditgetsdrawn. The script looks at the newest 25 reference photos on RedditGetsDrawn. It focuses only on jpeg/png images and ignores and links to none .jpg or .png ending files. \n",
    "It is needed to instead of ignoring them files - get the image or images in some cases, from the link.\n",
    "The photos are always submitted from imgur.\n",
    "Still filter out the i.imgur files, but take the links and filter them through a python imgur module returning the .jpeg or .png files. \n",
    "\n",
    "\n",
    "This is moving forward from rgdsnatch.py because I am stuck on it.  \n",
    "\n",
    "TODO\n",
    "\n",
    "Fix the links that don't link to png/jpeg and link to webaddress. \n",
    "Needs to get the images that are at that web address and embed them.\n",
    "\n",
    "Display artwork submitted under the images. \n",
    "\n",
    "Upload artwork to user. Sends them a message on redditgetsdrawn with links. \n",
    "\n",
    "More pandas\n",
    "\n",
    "Saves reference images to imgs/year/month/day/reference/username-reference.png\n",
    "\n",
    "Saves art images to imgs/year/month/day/art/username-line-bw-colour.png \n",
    "\n",
    "Creates index.html file with:\n",
    "Title of site and logo: GetsDrawn\n",
    "Last updated date and time. \n",
    "\n",
    "Path of image file /imgs/year/month/day/username-reference.png. \n",
    "(This needs changed to just their username).\n",
    "\n",
    "Save off .meta data from reddit of each photo, saving it to reference folder.\n",
    "username-yrmnthday.meta - contains info such as author, title, upvotes, downvotes.\n",
    "Currently saving .meta files to a meta folder - along side art and reference. \n",
    "\n",
    "Folder sorting system of files. \n",
    "websitename/index.html-style.css-imgs/YEAR(15)-MONTH(2)-DAY(4)/art-reference-meta\n",
    "Inside art folder\n",
    "Currently it generates USERNAME-line/bw/colour.png 50/50 white files. Maybe should be getting art replies from reddit?\n",
    "\n",
    "Inside reference folder\n",
    "Reference fold is working decent. \n",
    "it creates USERNAME-reference.png / jpeg files. \n",
    "\n",
    "Currently saves username-line-bw-colour.png to imgs folder. Instead get it to save to imgs/year/month/day/usernames.png.\n",
    "Script checks the year/month/day and if folder isnt created, it creates it. If folder is there, exit. \n",
    "Maybe get the reference image and save it with the line/bw/color.pngs\n",
    "\n",
    "The script now filters the jpeg and png image and skips links to imgur pages. This needs to be fixed by getting the images from the imgur pages.\n",
    "It renames the image files to the redditor username followed by a -reference tag (and ending with png of course).\n",
    "It opens these files up with PIL and checks the sizes. \n",
    "It needs to resize the images that are larger than 800px to 800px.\n",
    "These images need to be linked in the index.html instead of the imgur altenatives. \n",
    "\n",
    "Instead of the jpeg/png files on imgur they are downloaded to the server with this script. \n",
    "\n",
    "Filter through as images are getting downloaded and if it has been less than certain time or if the image has been submitted before \n",
    "\n",
    "Extending the subreddits it gets data from to cycle though a list, run script though list of subreddits.\n",
    "\n",
    "Browse certain days - Current day by default but option to scroll through other days.\n",
    "\n",
    "Filters - male/female/animals/couples etc\n",
    "Function that returns only male portraits. \n",
    "tags to add to photos. \n",
    "Filter images with tags\n",
    "\n",
    "\n"
   ]
  },
  {
   "cell_type": "code",
   "execution_count": 2,
   "metadata": {
    "collapsed": true
   },
   "outputs": [],
   "source": [
    "import os \n",
    "import requests\n",
    "from bs4 import BeautifulSoup\n",
    "import re\n",
    "import json\n",
    "import time\n",
    "import praw\n",
    "import dominate\n",
    "from dominate.tags import * \n",
    "from time import gmtime, strftime\n",
    "#import nose\n",
    "#import unittest\n",
    "import numpy as np\n",
    "import pandas as pd\n",
    "from pandas import *\n",
    "from PIL import Image\n",
    "from pprint import pprint\n",
    "#import pyttsx\n",
    "import shutil"
   ]
  },
  {
   "cell_type": "code",
   "execution_count": 3,
   "metadata": {
    "collapsed": true
   },
   "outputs": [],
   "source": [
    "gtsdrndir = ('/home/wcmckee/getsdrawndotcom')"
   ]
  },
  {
   "cell_type": "code",
   "execution_count": 4,
   "metadata": {
    "collapsed": true
   },
   "outputs": [],
   "source": [
    "os.chdir(gtsdrndir)"
   ]
  },
  {
   "cell_type": "code",
   "execution_count": 5,
   "metadata": {
    "collapsed": true
   },
   "outputs": [],
   "source": [
    "r = praw.Reddit(user_agent='getsdrawndotcom')"
   ]
  },
  {
   "cell_type": "code",
   "execution_count": 6,
   "metadata": {
    "collapsed": true
   },
   "outputs": [],
   "source": [
    "#getmin = r.get_redditor('itwillbemine')"
   ]
  },
  {
   "cell_type": "code",
   "execution_count": 7,
   "metadata": {
    "collapsed": true
   },
   "outputs": [],
   "source": [
    "#mincom = getmin.get_comments()"
   ]
  },
  {
   "cell_type": "code",
   "execution_count": 8,
   "metadata": {
    "collapsed": true
   },
   "outputs": [],
   "source": [
    "#engine = pyttsx.init()\n",
    "\n",
    "#engine.say('The quick brown fox jumped over the lazy dog.')\n",
    "#engine.runAndWait()"
   ]
  },
  {
   "cell_type": "code",
   "execution_count": 9,
   "metadata": {
    "collapsed": true
   },
   "outputs": [],
   "source": [
    "#shtweet = []"
   ]
  },
  {
   "cell_type": "code",
   "execution_count": 10,
   "metadata": {
    "collapsed": true
   },
   "outputs": [],
   "source": [
    "#for mi in mincom:\n",
    "#    print mi\n",
    "#    shtweet.append(mi)"
   ]
  },
  {
   "cell_type": "code",
   "execution_count": 11,
   "metadata": {
    "collapsed": true
   },
   "outputs": [],
   "source": [
    "bodycom = []\n",
    "bodyicv = dict()"
   ]
  },
  {
   "cell_type": "code",
   "execution_count": 12,
   "metadata": {
    "collapsed": true
   },
   "outputs": [],
   "source": [
    "#beginz = pyttsx.init()"
   ]
  },
  {
   "cell_type": "code",
   "execution_count": 13,
   "metadata": {
    "collapsed": true
   },
   "outputs": [],
   "source": [
    "#for shtz in shtweet:\n",
    "#    print shtz.downs\n",
    "#    print shtz.ups\n",
    "#    print shtz.body\n",
    "#    print shtz.replies\n",
    "    #beginz.say(shtz.author)\n",
    "    #beginz.say(shtz.body)\n",
    "    #beginz.runAndWait()\n",
    "    \n",
    "#    bodycom.append(shtz.body)\n",
    "    #bodyic"
   ]
  },
  {
   "cell_type": "code",
   "execution_count": 14,
   "metadata": {
    "collapsed": true
   },
   "outputs": [],
   "source": [
    "#bodycom "
   ]
  },
  {
   "cell_type": "code",
   "execution_count": 15,
   "metadata": {
    "collapsed": true
   },
   "outputs": [],
   "source": [
    "getnewr = r.get_subreddit('redditgetsdrawn')"
   ]
  },
  {
   "cell_type": "code",
   "execution_count": 16,
   "metadata": {
    "collapsed": true
   },
   "outputs": [],
   "source": [
    "rdnew = getnewr.get_new()"
   ]
  },
  {
   "cell_type": "code",
   "execution_count": 17,
   "metadata": {
    "collapsed": true
   },
   "outputs": [],
   "source": [
    "lisrgc = []\n",
    "lisauth = []"
   ]
  },
  {
   "cell_type": "code",
   "execution_count": 18,
   "metadata": {
    "collapsed": true
   },
   "outputs": [],
   "source": [
    "for uz in rdnew:\n",
    "    #print uz\n",
    "    lisrgc.append(uz)"
   ]
  },
  {
   "cell_type": "code",
   "execution_count": 19,
   "metadata": {
    "collapsed": true
   },
   "outputs": [],
   "source": [
    "gtdrndic = dict()"
   ]
  },
  {
   "cell_type": "code",
   "execution_count": 20,
   "metadata": {
    "collapsed": true
   },
   "outputs": [],
   "source": [
    "imgdir = ('/home/wcmckee/getsdrawndotcom/imgs')"
   ]
  },
  {
   "cell_type": "code",
   "execution_count": 21,
   "metadata": {
    "collapsed": true
   },
   "outputs": [],
   "source": [
    "artlist = os.listdir(imgdir)"
   ]
  },
  {
   "cell_type": "code",
   "execution_count": 22,
   "metadata": {
    "collapsed": true
   },
   "outputs": [],
   "source": [
    "from time import time"
   ]
  },
  {
   "cell_type": "code",
   "execution_count": 23,
   "metadata": {
    "collapsed": true
   },
   "outputs": [],
   "source": [
    "yearz = strftime(\"%y\", gmtime())\n",
    "monthz = strftime(\"%m\", gmtime())\n",
    "dayz = strftime(\"%d\", gmtime())\n",
    "\n",
    "\n",
    "#strftime(\"%y %m %d\", gmtime())"
   ]
  },
  {
   "cell_type": "code",
   "execution_count": 24,
   "metadata": {
    "collapsed": true
   },
   "outputs": [],
   "source": [
    "imgzdir = ('imgs/')\n",
    "yrzpat = (imgzdir + yearz)\n",
    "monzpath = (yrzpat + '/' + monthz)\n",
    "dayzpath = (monzpath + '/' + dayz)\n",
    "rmgzdays = (dayzpath + '/reference')\n",
    "imgzdays = (dayzpath + '/art')\n",
    "metzdays = (dayzpath + '/meta')\n",
    "\n",
    "repathz = ('imgs/' + yearz + '/' + monthz + '/' + dayz + '/')"
   ]
  },
  {
   "cell_type": "code",
   "execution_count": 25,
   "metadata": {
    "collapsed": true
   },
   "outputs": [
    {
     "data": {
      "text/plain": [
       "'imgs/15/01/05/meta'"
      ]
     },
     "execution_count": 25,
     "metadata": {},
     "output_type": "execute_result"
    }
   ],
   "source": [
    "metzdays"
   ]
  },
  {
   "cell_type": "code",
   "execution_count": 26,
   "metadata": {
    "collapsed": true
   },
   "outputs": [
    {
     "data": {
      "text/plain": [
       "'imgs/15/01/05/art'"
      ]
     },
     "execution_count": 26,
     "metadata": {},
     "output_type": "execute_result"
    }
   ],
   "source": [
    "imgzdays"
   ]
  },
  {
   "cell_type": "code",
   "execution_count": 27,
   "metadata": {
    "collapsed": true
   },
   "outputs": [
    {
     "data": {
      "text/plain": [
       "'imgs/15/01/05/'"
      ]
     },
     "execution_count": 27,
     "metadata": {},
     "output_type": "execute_result"
    }
   ],
   "source": [
    "repathz"
   ]
  },
  {
   "cell_type": "code",
   "execution_count": 28,
   "metadata": {
    "collapsed": true
   },
   "outputs": [],
   "source": [
    "def ospacheck():\n",
    "    if os.path.isdir(imgzdir + yearz) == True:\n",
    "        print 'its true'\n",
    "    else:\n",
    "        print 'its false'\n",
    "        os.mkdir(imgzdir + yearz)\n",
    "    "
   ]
  },
  {
   "cell_type": "code",
   "execution_count": 29,
   "metadata": {
    "collapsed": true
   },
   "outputs": [
    {
     "name": "stdout",
     "output_type": "stream",
     "text": [
      "its true\n"
     ]
    }
   ],
   "source": [
    "ospacheck()"
   ]
  },
  {
   "cell_type": "code",
   "execution_count": 30,
   "metadata": {
    "collapsed": true
   },
   "outputs": [],
   "source": [
    "#if os.path.isdir(imgzdir + yearz) == True:\n",
    "#    print 'its true'\n",
    "#else:\n",
    "#    print 'its false'\n",
    "#    os.mkdir(imgzdir + yearz)"
   ]
  },
  {
   "cell_type": "code",
   "execution_count": 117,
   "metadata": {},
   "outputs": [],
   "source": [
    "lizmon = ['monzpath', 'dayzpath', 'imgzdays', 'rmgzdays', 'metzdays']"
   ]
  },
  {
   "cell_type": "code",
   "execution_count": 120,
   "metadata": {},
   "outputs": [
    {
     "name": "stdout",
     "output_type": "stream",
     "text": [
      "its false\n",
      "its false\n",
      "its false\n",
      "its false\n",
      "its false\n"
     ]
    }
   ],
   "source": [
    "for liz in lizmon:\n",
    "    if os.path.isdir(liz) == True:\n",
    "        print 'its true'\n",
    "    else:\n",
    "        print 'its false'\n",
    "        os.mkdir(liz)"
   ]
  },
  {
   "cell_type": "code",
   "execution_count": 36,
   "metadata": {},
   "outputs": [],
   "source": [
    "fullhom = ('/home/wcmckee/getsdrawndotcom/')"
   ]
  },
  {
   "cell_type": "code",
   "execution_count": 38,
   "metadata": {
    "collapsed": true
   },
   "outputs": [],
   "source": [
    "#artlist"
   ]
  },
  {
   "cell_type": "code",
   "execution_count": 39,
   "metadata": {
    "collapsed": true
   },
   "outputs": [],
   "source": [
    "httpad = ('http://getsdrawn.com/imgs')"
   ]
  },
  {
   "cell_type": "code",
   "execution_count": 40,
   "metadata": {
    "collapsed": true
   },
   "outputs": [],
   "source": [
    "#im = Image.new(\"RGB\", (512, 512), \"white\")\n",
    "#im.save(file + \".thumbnail\", \"JPEG\")"
   ]
  },
  {
   "cell_type": "code",
   "execution_count": 41,
   "metadata": {
    "collapsed": true
   },
   "outputs": [],
   "source": [
    "rmgzdays = (dayzpath + '/reference')\n",
    "imgzdays = (dayzpath + '/art')\n",
    "metzdays = (dayzpath + '/meta')"
   ]
  },
  {
   "cell_type": "code",
   "execution_count": 42,
   "metadata": {},
   "outputs": [],
   "source": [
    "os.chdir(fullhom + metzdays)"
   ]
  },
  {
   "cell_type": "code",
   "execution_count": 47,
   "metadata": {},
   "outputs": [],
   "source": [
    "metadict = dict()"
   ]
  },
  {
   "cell_type": "markdown",
   "metadata": {},
   "source": [
    "if i save the data to the file how am i going to get it to update as the post is archieved. Such as up and down votes. "
   ]
  },
  {
   "cell_type": "code",
   "execution_count": 55,
   "metadata": {},
   "outputs": [],
   "source": [
    "for lisz in lisrgc:\n",
    "    metadict.update({'up': lisz.ups})\n",
    "    metadict.update({'down': lisz.downs})\n",
    "    metadict.update({'title': lisz.title})\n",
    "    metadict.update({'created': lisz.created})\n",
    "    #metadict.update({'createdutc': lisz.created_utc})\n",
    "    #print lisz.ups\n",
    "    #print lisz.downs\n",
    "    #print lisz.created\n",
    "    #print lisz.comments"
   ]
  },
  {
   "cell_type": "code",
   "execution_count": 56,
   "metadata": {},
   "outputs": [
    {
     "data": {
      "text/plain": [
       "{'created': 1420436236.0,\n",
       " 'createdutc': 1420407436.0,\n",
       " 'down': 0,\n",
       " 'title': u\"This is my favorite pic of my little ones, would anyone be interested in transforming it into color? I'd love to see your artistic interpretation!\",\n",
       " 'up': 2}"
      ]
     },
     "execution_count": 56,
     "metadata": {},
     "output_type": "execute_result"
    }
   ],
   "source": [
    "metadict"
   ]
  },
  {
   "cell_type": "markdown",
   "metadata": {},
   "source": [
    "Need to save json object.\n",
    "\n",
    "Dict is created but it isnt saving. Looping through lisrgc twice, should only require the one loop.\n",
    "\n",
    "Cycle through lisr and append to dict/concert to json, and also cycle through lisr.author meta folders saving the json that was created. "
   ]
  },
  {
   "cell_type": "code",
   "execution_count": 77,
   "metadata": {
    "collapsed": true
   },
   "outputs": [],
   "source": [
    "for lisr in lisrgc:\n",
    "    gtdrndic.update({'title': lisr.title})\n",
    "    lisauth.append(str(lisr.author))\n",
    "    for osliz in os.listdir(fullhom + metzdays):\n",
    "        with open(str(lisr.author) + '.meta', \"w\") as f:\n",
    "            rstrin = lisr.title.encode('ascii', 'ignore').decode('ascii')\n",
    "            #print matdict\n",
    "            #metadict = dict()\n",
    "            #for lisz in lisrgc:\n",
    "            #    metadict.update({'up': lisz.ups})\n",
    "            #    metadict.update({'down': lisz.downs})\n",
    "            #    metadict.update({'title': lisz.title})\n",
    "            #    metadict.update({'created': lisz.created})\n",
    "            f.write(rstrin)\n"
   ]
  },
  {
   "cell_type": "code",
   "execution_count": 75,
   "metadata": {},
   "outputs": [
    {
     "data": {
      "text/plain": [
       "{'created': 1420436236.0,\n",
       " 'down': 0,\n",
       " 'title': u\"This is my favorite pic of my little ones, would anyone be interested in transforming it into color? I'd love to see your artistic interpretation!\",\n",
       " 'up': 2}"
      ]
     },
     "execution_count": 75,
     "metadata": {},
     "output_type": "execute_result"
    }
   ],
   "source": [
    "#matdict"
   ]
  },
  {
   "cell_type": "markdown",
   "metadata": {},
   "source": [
    "I have it creating a meta folder and creating/writing username.meta files. It wrote 'test' in each folder, but now it writes the photo author title of post.. the username/image data. It should be writing more than author title - maybe upvotes/downvotes, subreddit, time published etc.\n"
   ]
  },
  {
   "cell_type": "code",
   "execution_count": 62,
   "metadata": {
    "collapsed": true
   },
   "outputs": [],
   "source": [
    "#os.listdir(dayzpath)"
   ]
  },
  {
   "cell_type": "markdown",
   "metadata": {},
   "source": [
    "Instead of creating these white images, why not download the art replies of the reference photo."
   ]
  },
  {
   "cell_type": "code",
   "execution_count": 63,
   "metadata": {
    "collapsed": true
   },
   "outputs": [],
   "source": [
    "#for lisa in lisauth:\n",
    "#    #print lisa + '-line.png'\n",
    "#    im = Image.new(\"RGB\", (512, 512), \"white\")\n",
    "#    im.save(lisa + '-line.png')\n",
    "#    im = Image.new(\"RGB\", (512, 512), \"white\")\n",
    "#    im.save(lisa + '-bw.png')\n",
    "\n",
    "    #print lisa + '-bw.png'\n",
    "#    im = Image.new(\"RGB\", (512, 512), \"white\")\n",
    "#    im.save(lisa + '-colour.png')\n",
    "\n",
    "    #print lisa + '-colour.png'"
   ]
  },
  {
   "cell_type": "code",
   "execution_count": 64,
   "metadata": {
    "collapsed": true
   },
   "outputs": [
    {
     "data": {
      "text/plain": [
       "['getsdrawn-bw.png', '12', '15', '14']"
      ]
     },
     "execution_count": 64,
     "metadata": {},
     "output_type": "execute_result"
    }
   ],
   "source": [
    "os.listdir('/home/wcmckee/getsdrawndotcom/imgs')"
   ]
  },
  {
   "cell_type": "code",
   "execution_count": 65,
   "metadata": {
    "collapsed": true
   },
   "outputs": [],
   "source": [
    "#lisauth"
   ]
  },
  {
   "cell_type": "markdown",
   "metadata": {},
   "source": [
    "I want to save the list of usernames that submit images as png files in a dir. \n",
    "Currently when I call the list of authors it returns Redditor(user_name='theusername'). I want to return 'theusername'.\n",
    "Once this is resolved I can add '-line.png' '-bw.png' '-colour.png' to each folder. "
   ]
  },
  {
   "cell_type": "code",
   "execution_count": 66,
   "metadata": {
    "collapsed": true
   },
   "outputs": [],
   "source": [
    "#lisr.author"
   ]
  },
  {
   "cell_type": "code",
   "execution_count": 67,
   "metadata": {
    "collapsed": true
   },
   "outputs": [],
   "source": [
    "namlis = []"
   ]
  },
  {
   "cell_type": "code",
   "execution_count": 68,
   "metadata": {
    "collapsed": true
   },
   "outputs": [],
   "source": [
    "opsinz = open('/home/wcmckee/visignsys/index.meta', 'r')\n",
    "panz = opsinz.read()"
   ]
  },
  {
   "cell_type": "code",
   "execution_count": 69,
   "metadata": {
    "collapsed": true
   },
   "outputs": [],
   "source": [
    "os.chdir('/home/wcmckee/getsdrawndotcom/' + rmgzdays)"
   ]
  },
  {
   "cell_type": "markdown",
   "metadata": {},
   "source": [
    "Filter the non jpeg/png links. Need to perform request or imgur api to get the jpeg/png files from the link. Hey maybe bs4?"
   ]
  },
  {
   "cell_type": "code",
   "execution_count": 83,
   "metadata": {},
   "outputs": [
    {
     "name": "stderr",
     "output_type": "stream",
     "text": [
      "/usr/local/lib/python2.7/dist-packages/bs4/__init__.py:189: UserWarning: \"http://m.imgur.com/uurbzet\" looks like a URL. Beautiful Soup is not an HTTP client. You should probably use an HTTP client to get the document behind the URL, and feed that document to Beautiful Soup.\n",
      "  '\"%s\" looks like a URL. Beautiful Soup is not an HTTP client. You should probably use an HTTP client to get the document behind the URL, and feed that document to Beautiful Soup.' % markup)\n"
     ]
    }
   ],
   "source": []
  },
  {
   "cell_type": "code",
   "execution_count": 130,
   "metadata": {},
   "outputs": [],
   "source": [
    "from imgurpython import ImgurClient"
   ]
  },
  {
   "cell_type": "code",
   "execution_count": 136,
   "metadata": {},
   "outputs": [],
   "source": [
    "opps = open('/home/wcmckee/ps.txt', 'r')\n",
    "opzs = open('/home/wcmckee/ps2.txt', 'r')\n",
    "oprd = opps.read()\n",
    "opzrd = opzs.read()"
   ]
  },
  {
   "cell_type": "code",
   "execution_count": 140,
   "metadata": {},
   "outputs": [
    {
     "ename": "TypeError",
     "evalue": "get_album_images() takes exactly 2 arguments (1 given)",
     "output_type": "error",
     "traceback": [
      "\u001b[1;31m---------------------------------------------------------------------------\u001b[0m\n\u001b[1;31mTypeError\u001b[0m                                 Traceback (most recent call last)",
      "\u001b[1;32m<ipython-input-140-91dfeecf21cc>\u001b[0m in \u001b[0;36m<module>\u001b[1;34m()\u001b[0m\n\u001b[0;32m      7\u001b[0m \u001b[1;33m\u001b[0m\u001b[0m\n\u001b[0;32m      8\u001b[0m \u001b[1;33m\u001b[0m\u001b[0m\n\u001b[1;32m----> 9\u001b[1;33m \u001b[0mitz\u001b[0m \u001b[1;33m=\u001b[0m \u001b[0mclient\u001b[0m\u001b[1;33m.\u001b[0m\u001b[0mget_album_images\u001b[0m\u001b[1;33m(\u001b[0m\u001b[1;33m)\u001b[0m\u001b[1;33m\u001b[0m\u001b[0m\n\u001b[0m",
      "\u001b[1;31mTypeError\u001b[0m: get_album_images() takes exactly 2 arguments (1 given)"
     ]
    }
   ],
   "source": [
    "client = ImgurClient(oprd, opzrd)\n",
    "\n",
    "# Example request\n",
    "#items = client.gallery()\n",
    "#for item in items:\n",
    "#    print(item.link)\n",
    "    \n",
    "\n",
    "#itz = client.get_album_images()"
   ]
  },
  {
   "cell_type": "code",
   "execution_count": 102,
   "metadata": {},
   "outputs": [],
   "source": [
    "linklis = []"
   ]
  },
  {
   "cell_type": "markdown",
   "metadata": {},
   "source": [
    "I need to get the image ids from each url. Strip the http://imgur.com/ from the string. The gallery id is the random characters after. if it's an album a is added. if multi imgs then , is used to seprate. \n",
    "\n",
    "Doesnt currently work. "
   ]
  },
  {
   "cell_type": "code",
   "execution_count": 141,
   "metadata": {},
   "outputs": [
    {
     "name": "stdout",
     "output_type": "stream",
     "text": [
      "http://imgur.com/SBaV275\n",
      "http://imgur.com/pFHPdwE\n",
      "http://imgur.com/qRDkoj6\n",
      "http://imgur.com/a/lPqbx\n",
      "http://imgur.com/xmmw9H0\n",
      "http://imgur.com/ViCxsrS,lxpGIUQ#1\n",
      "http://imgur.com/3RtgPGW\n",
      "http://imgur.com/k2kzLZu\n",
      "http://imgur.com/a/LTDJ9\n",
      "http://imgur.com/KZqZncZ\n",
      "http://imgur.com/a/xhfGD\n"
     ]
    }
   ],
   "source": [
    "for rdz in lisrgc:\n",
    "    if 'http://imgur.com' in rdz.url:\n",
    "        print rdz.url\n",
    "        #itz = client.get_album_images()\n",
    "#        reimg = requests.get(rdz.url)\n",
    "##        retxt = reimg.text\n",
    "#        souptxt = BeautifulSoup(''.join(retxt))\n",
    "#        soupurz = souptxt.findAll('img')\n",
    "#        for soupuz in soupurz:\n",
    "#            imgurl = soupuz['src']\n",
    "#            print imgurl\n",
    "#            linklis.append(imgurl)\n",
    "            \n",
    "            #try:\n",
    "            #    imzdata = requests.get(imgurl)"
   ]
  },
  {
   "cell_type": "code",
   "execution_count": 111,
   "metadata": {},
   "outputs": [
    {
     "data": {
      "text/plain": [
       "['//i.imgur.com/SBaV275.jpg',\n",
       " 'data:image/gif;base64,R0lGODlhAQABAIAAAAAAAP///yH5BAEAAAAALAAAAAABAAEAAAIBRAA7',\n",
       " '//i.imgur.com/pFHPdwE.jpg',\n",
       " 'data:image/gif;base64,R0lGODlhAQABAIAAAAAAAP///yH5BAEAAAAALAAAAAABAAEAAAIBRAA7',\n",
       " '//i.imgur.com/qRDkoj6.jpg',\n",
       " 'data:image/gif;base64,R0lGODlhAQABAIAAAAAAAP///yH5BAEAAAAALAAAAAABAAEAAAIBRAA7',\n",
       " '//i.imgur.com/PzRhHTr.jpg',\n",
       " '//i.imgur.com/FrlJauY.jpg']"
      ]
     },
     "execution_count": 111,
     "metadata": {},
     "output_type": "execute_result"
    }
   ],
   "source": [
    "linklis"
   ]
  },
  {
   "cell_type": "code",
   "execution_count": 115,
   "metadata": {},
   "outputs": [
    {
     "name": "stdout",
     "output_type": "stream",
     "text": [
      "no\n"
     ]
    }
   ],
   "source": [
    "if '.jpg' in linklis:\n",
    "    print 'yes'\n",
    "else:\n",
    "    print 'no'"
   ]
  },
  {
   "cell_type": "code",
   "execution_count": 70,
   "metadata": {
    "collapsed": true
   },
   "outputs": [
    {
     "name": "stdout",
     "output_type": "stream",
     "text": [
      "http://i.imgur.com/LPJyRvI.jpg\n",
      "http://i.imgur.com/IXscmtj.jpg\n",
      "http://i.imgur.com/HDkkpfs.jpg\n",
      "http://i.imgur.com/ENDI3AG.jpg\n",
      "http://i.imgur.com/P4ZXyZu.jpg\n",
      "http://i.imgur.com/fTznCbi.jpg\n",
      "http://i.imgur.com/aDIiH6t.jpg\n",
      "http://i.imgur.com/6NifkhZ.jpg\n",
      "http://i.imgur.com/EqnCVT7.jpg\n",
      "http://i.imgur.com/vJgRQ2n.jpg\n",
      "http://i.imgur.com/tMvP7jP.jpg\n",
      "http://i.imgur.com/EEae4eN.jpg\n",
      "http://i.imgur.com/SQeDd69.jpg\n"
     ]
    }
   ],
   "source": [
    "#panz()\n",
    "for rdz in lisrgc:\n",
    "    (rdz.title)\n",
    "    #a(rdz.url)\n",
    "    if 'http://i.imgur.com' in rdz.url:\n",
    "        #print rdz.url\n",
    "        print (rdz.url)\n",
    "        url = rdz.url\n",
    "        response = requests.get(url, stream=True)\n",
    "        with open(str(rdz.author) + '-reference.png', 'wb') as out_file:\n",
    "            shutil.copyfileobj(response.raw, out_file)\n",
    "            del response"
   ]
  },
  {
   "cell_type": "code",
   "execution_count": 55,
   "metadata": {
    "collapsed": true
   },
   "outputs": [],
   "source": [
    "apsize = []"
   ]
  },
  {
   "cell_type": "code",
   "execution_count": 56,
   "metadata": {
    "collapsed": true
   },
   "outputs": [],
   "source": [
    "aptype = []"
   ]
  },
  {
   "cell_type": "code",
   "execution_count": 57,
   "metadata": {
    "collapsed": true
   },
   "outputs": [],
   "source": [
    "basewidth = 600"
   ]
  },
  {
   "cell_type": "code",
   "execution_count": 58,
   "metadata": {
    "collapsed": true
   },
   "outputs": [],
   "source": [
    "imgdict = dict()"
   ]
  },
  {
   "cell_type": "code",
   "execution_count": 59,
   "metadata": {
    "collapsed": true
   },
   "outputs": [],
   "source": [
    "for rmglis in os.listdir('/home/wcmckee/getsdrawndotcom/' + rmgzdays):\n",
    "    #print rmglis\n",
    "    im = Image.open(rmglis)\n",
    "    #print im.size\n",
    "    imgdict.update({rmglis : im.size})\n",
    "    #im.thumbnail(size, Image.ANTIALIAS)\n",
    "    #im.save(file + \".thumbnail\", \"JPEG\")\n",
    "    apsize.append(im.size)\n",
    "    aptype.append(rmglis)"
   ]
  },
  {
   "cell_type": "code",
   "execution_count": 60,
   "metadata": {
    "collapsed": true
   },
   "outputs": [],
   "source": [
    "#for imdva in imgdict.values():\n",
    "    #print imdva\n",
    "    #for deva in imdva:\n",
    "        #print deva\n",
    "     #   if deva < 1000:\n",
    "      #      print 'omg less than 1000'\n",
    "       # else:\n",
    "        #    print 'omg more than 1000'\n",
    "         #   print deva / 2\n",
    "            #print imgdict.values\n",
    "            # Needs to update imgdict.values with this new number. Must halve height also."
   ]
  },
  {
   "cell_type": "code",
   "execution_count": 61,
   "metadata": {
    "collapsed": true
   },
   "outputs": [],
   "source": [
    "#basewidth = 300\n",
    "#img = Image.open('somepic.jpg')\n",
    "#wpercent = (basewidth/float(img.size[0]))\n",
    "#hsize = int((float(img.size[1])*float(wpercent)))\n",
    "#img = img.resize((basewidth,hsize), PIL.Image.ANTIALIAS)\n",
    "#img.save('sompic.jpg')"
   ]
  },
  {
   "cell_type": "code",
   "execution_count": 62,
   "metadata": {
    "collapsed": true
   },
   "outputs": [],
   "source": [
    "#os.chdir(metzdays)"
   ]
  },
  {
   "cell_type": "code",
   "execution_count": 62,
   "metadata": {},
   "outputs": [],
   "source": []
  },
  {
   "cell_type": "code",
   "execution_count": 63,
   "metadata": {
    "collapsed": true
   },
   "outputs": [],
   "source": [
    "#for numz in apsize:\n",
    "#    print numz[0]\n",
    " #   if numz[0] > 800:\n",
    "#        print ('greater than 800')\n",
    "#    else:\n",
    "#        print ('less than 800!')"
   ]
  },
  {
   "cell_type": "code",
   "execution_count": 64,
   "metadata": {
    "collapsed": true
   },
   "outputs": [],
   "source": [
    "reliz = []"
   ]
  },
  {
   "cell_type": "code",
   "execution_count": 65,
   "metadata": {
    "collapsed": true
   },
   "outputs": [],
   "source": [
    "for refls in os.listdir('/home/wcmckee/getsdrawndotcom/' + rmgzdays):\n",
    "    #print rmgzdays + refls\n",
    "    reliz.append(rmgzdays + '/' + refls)"
   ]
  },
  {
   "cell_type": "code",
   "execution_count": 66,
   "metadata": {
    "collapsed": true
   },
   "outputs": [
    {
     "data": {
      "text/plain": [
       "['imgs/15/01/04/reference/clawz_nd_webz-reference.png',\n",
       " 'imgs/15/01/04/reference/Jasperthecat77-reference.png',\n",
       " 'imgs/15/01/04/reference/Xrayguy104-reference.png',\n",
       " 'imgs/15/01/04/reference/trippedwire-reference.png',\n",
       " 'imgs/15/01/04/reference/herooftime94-reference.png',\n",
       " 'imgs/15/01/04/reference/OhDeBabies-reference.png',\n",
       " 'imgs/15/01/04/reference/yumyumyoshi-reference.png',\n",
       " 'imgs/15/01/04/reference/thaisun-reference.png',\n",
       " 'imgs/15/01/04/reference/Resrey-reference.png',\n",
       " 'imgs/15/01/04/reference/SinisterCanuck-reference.png',\n",
       " 'imgs/15/01/04/reference/Marsinator-reference.png',\n",
       " 'imgs/15/01/04/reference/zakkalaska-reference.png',\n",
       " 'imgs/15/01/04/reference/jazzyghost-reference.png',\n",
       " 'imgs/15/01/04/reference/Reptilebear-reference.png',\n",
       " 'imgs/15/01/04/reference/WesternWaterTribe-reference.png',\n",
       " 'imgs/15/01/04/reference/AidenXY-reference.png',\n",
       " 'imgs/15/01/04/reference/mrsmomo-reference.png',\n",
       " 'imgs/15/01/04/reference/SpaceFeline-reference.png',\n",
       " 'imgs/15/01/04/reference/Jabald69-reference.png',\n",
       " 'imgs/15/01/04/reference/harisshahzad98-reference.png',\n",
       " 'imgs/15/01/04/reference/TinyB1-reference.png',\n",
       " 'imgs/15/01/04/reference/crackettt-reference.png',\n",
       " 'imgs/15/01/04/reference/seahorseVT-reference.png',\n",
       " 'imgs/15/01/04/reference/the_master_blaster-reference.png',\n",
       " 'imgs/15/01/04/reference/baconbreeder-reference.png']"
      ]
     },
     "execution_count": 66,
     "metadata": {},
     "output_type": "execute_result"
    }
   ],
   "source": [
    "reliz"
   ]
  },
  {
   "cell_type": "code",
   "execution_count": 67,
   "metadata": {
    "collapsed": true
   },
   "outputs": [
    {
     "data": {
      "text/plain": [
       "['clawz_nd_webz-reference.png',\n",
       " 'Jasperthecat77-reference.png',\n",
       " 'Xrayguy104-reference.png',\n",
       " 'trippedwire-reference.png',\n",
       " 'herooftime94-reference.png',\n",
       " 'OhDeBabies-reference.png',\n",
       " 'yumyumyoshi-reference.png',\n",
       " 'thaisun-reference.png',\n",
       " 'Resrey-reference.png',\n",
       " 'SinisterCanuck-reference.png',\n",
       " 'Marsinator-reference.png',\n",
       " 'zakkalaska-reference.png',\n",
       " 'jazzyghost-reference.png',\n",
       " 'Reptilebear-reference.png',\n",
       " 'WesternWaterTribe-reference.png',\n",
       " 'AidenXY-reference.png',\n",
       " 'mrsmomo-reference.png',\n",
       " 'SpaceFeline-reference.png',\n",
       " 'Jabald69-reference.png',\n",
       " 'harisshahzad98-reference.png',\n",
       " 'TinyB1-reference.png',\n",
       " 'crackettt-reference.png',\n",
       " 'seahorseVT-reference.png',\n",
       " 'the_master_blaster-reference.png',\n",
       " 'baconbreeder-reference.png']"
      ]
     },
     "execution_count": 67,
     "metadata": {},
     "output_type": "execute_result"
    }
   ],
   "source": [
    "aptype"
   ]
  },
  {
   "cell_type": "code",
   "execution_count": 68,
   "metadata": {
    "collapsed": true
   },
   "outputs": [],
   "source": [
    "opad = open('/home/wcmckee/ad.html', 'r')"
   ]
  },
  {
   "cell_type": "code",
   "execution_count": 69,
   "metadata": {
    "collapsed": true
   },
   "outputs": [],
   "source": [
    "opred = opad.read()"
   ]
  },
  {
   "cell_type": "code",
   "execution_count": 70,
   "metadata": {
    "collapsed": true
   },
   "outputs": [],
   "source": [
    "str2 = opred.replace(\"\\n\", \"\")"
   ]
  },
  {
   "cell_type": "code",
   "execution_count": 71,
   "metadata": {
    "collapsed": true
   },
   "outputs": [
    {
     "data": {
      "text/plain": [
       "'<script async src=\"//pagead2.googlesyndication.com/pagead/js/adsbygoogle.js\"></script><!-- header --><ins class=\"adsbygoogle\"     style=\"display:inline-block;width:970px;height:250px\"     data-ad-client=\"ca-pub-2716205862465403\"     data-ad-slot=\"3994067148\"></ins><script>(adsbygoogle = window.adsbygoogle || []).push({});</script>'"
      ]
     },
     "execution_count": 71,
     "metadata": {},
     "output_type": "execute_result"
    }
   ],
   "source": [
    "str2"
   ]
  },
  {
   "cell_type": "code",
   "execution_count": 72,
   "metadata": {
    "collapsed": true
   },
   "outputs": [],
   "source": [
    "doc = dominate.document(title='GetsDrawn')\n",
    "\n",
    "with doc.head:\n",
    "    link(rel='stylesheet', href='style.css')\n",
    "    script(type ='text/javascript', src='script.js')\n",
    "    str(str2)\n",
    "    \n",
    "    with div():\n",
    "        attr(cls='header')\n",
    "        h1('GetsDrawn')\n",
    "        p(img('imgs/getsdrawn-bw.png', src='imgs/getsdrawn-bw.png'))\n",
    "        #p(img('imgs/15/01/02/ReptileLover82-reference.png', src= 'imgs/15/01/02/ReptileLover82-reference.png'))\n",
    "        h1('Updated ', strftime(\"%a, %d %b %Y %H:%M:%S +0000\", gmtime()))\n",
    "        p(panz)\n",
    "        p(bodycom)\n",
    "    \n",
    "    \n",
    "\n",
    "with doc:\n",
    "    with div(id='body').add(ol()):\n",
    "        for rdz in reliz:\n",
    "            #h1(rdz.title)\n",
    "            #a(rdz.url)\n",
    "            #p(img(rdz, src='%s' % rdz))\n",
    "            #print rdz\n",
    "            p(img(rdz, src = rdz))\n",
    "            p(rdz)\n",
    "\n",
    "\n",
    "                \n",
    "            #print rdz.url\n",
    "            #if '.jpg' in rdz.url:\n",
    "            #    img(rdz.urlz)\n",
    "            #else:\n",
    "            #    a(rdz.urlz)\n",
    "            #h1(str(rdz.author))\n",
    "            \n",
    "            #li(img(i.lower(), src='%s' % i))\n",
    "\n",
    "    with div():\n",
    "        attr(cls='body')\n",
    "        p('GetsDrawn is open source')\n",
    "        a('https://github.com/getsdrawn/getsdrawndotcom')\n",
    "        a('https://reddit.com/r/redditgetsdrawn')\n",
    "\n",
    "#print doc"
   ]
  },
  {
   "cell_type": "code",
   "execution_count": 73,
   "metadata": {
    "collapsed": true
   },
   "outputs": [],
   "source": [
    "docre = doc.render()"
   ]
  },
  {
   "cell_type": "code",
   "execution_count": 74,
   "metadata": {
    "collapsed": true
   },
   "outputs": [],
   "source": [
    "#s = docre.decode('ascii', 'ignore')"
   ]
  },
  {
   "cell_type": "code",
   "execution_count": 75,
   "metadata": {
    "collapsed": true
   },
   "outputs": [],
   "source": [
    "yourstring = docre.encode('ascii', 'ignore').decode('ascii')"
   ]
  },
  {
   "cell_type": "code",
   "execution_count": 76,
   "metadata": {
    "collapsed": true
   },
   "outputs": [],
   "source": [
    "indfil = ('/home/wcmckee/getsdrawndotcom/index.html')"
   ]
  },
  {
   "cell_type": "code",
   "execution_count": 77,
   "metadata": {
    "collapsed": true
   },
   "outputs": [],
   "source": [
    "mkind = open(indfil, 'w')\n",
    "mkind.write(yourstring)\n",
    "mkind.close()"
   ]
  },
  {
   "cell_type": "code",
   "execution_count": 78,
   "metadata": {
    "collapsed": true
   },
   "outputs": [],
   "source": [
    "#os.system('scp -r /home/wcmckee/getsdrawndotcom/ wcmckee@getsdrawn.com:/home/wcmckee/getsdrawndotcom')"
   ]
  },
  {
   "cell_type": "code",
   "execution_count": 79,
   "metadata": {
    "collapsed": true
   },
   "outputs": [],
   "source": [
    "#rsync -azP source destination"
   ]
  },
  {
   "cell_type": "code",
   "execution_count": 80,
   "metadata": {
    "collapsed": true
   },
   "outputs": [],
   "source": [
    "#updatehtm = raw_input('Update index? Y/n')\n",
    "#updateref = raw_input('Update reference? Y/n')\n",
    "\n",
    "#if 'y' or '' in updatehtm:\n",
    "#    os.system('scp -r /home/wcmckee/getsdrawndotcom/index.html wcmckee@getsdrawn.com:/home/wcmckee/getsdrawndotcom/index.html')\n",
    "#elif 'n' in updatehtm:\n",
    "#    print 'not uploading'\n",
    "#if 'y' or '' in updateref:\n",
    "#    os.system('rsync -azP /home/wcmckee/getsdrawndotcom/ wcmckee@getsdrawn.com:/home/wcmckee/getsdrawndotcom/')"
   ]
  },
  {
   "cell_type": "code",
   "execution_count": 81,
   "metadata": {
    "collapsed": true
   },
   "outputs": [
    {
     "data": {
      "text/plain": [
       "0"
      ]
     },
     "execution_count": 81,
     "metadata": {},
     "output_type": "execute_result"
    }
   ],
   "source": [
    "os.system('scp -r /home/wcmckee/getsdrawndotcom/index.html wcmckee@getsdrawn.com:/home/wcmckee/getsdrawndotcom/index.html')"
   ]
  },
  {
   "cell_type": "code",
   "execution_count": 553,
   "metadata": {
    "collapsed": true
   },
   "outputs": [],
   "source": [
    "#os.system('scp -r /home/wcmckee/getsdrawndotcom/style.css wcmckee@getsdrawn.com:/home/wcmckee/getsdrawndotcom/style.css')"
   ]
  },
  {
   "cell_type": "code",
   "execution_count": 553,
   "metadata": {
    "collapsed": true
   },
   "outputs": [],
   "source": []
  },
  {
   "cell_type": "code",
   "execution_count": 321,
   "metadata": {
    "collapsed": true
   },
   "outputs": [],
   "source": []
  },
  {
   "cell_type": "code",
   "execution_count": 138,
   "metadata": {
    "collapsed": true
   },
   "outputs": [],
   "source": []
  },
  {
   "cell_type": "code",
   "execution_count": 138,
   "metadata": {
    "collapsed": true
   },
   "outputs": [],
   "source": []
  },
  {
   "cell_type": "code",
   "execution_count": null,
   "metadata": {
    "collapsed": true
   },
   "outputs": [],
   "source": []
  }
 ],
 "metadata": {
  "kernelspec": {
   "display_name": "Python 3",
   "language": "python",
   "name": "python3"
  },
  "language_info": {
   "codemirror_mode": {
    "name": "ipython",
    "version": 3
   },
   "file_extension": ".py",
   "mimetype": "text/x-python",
   "name": "python",
   "nbconvert_exporter": "python",
   "pygments_lexer": "ipython3",
   "version": "3.5.3"
  }
 },
 "nbformat": 4,
 "nbformat_minor": 1
}
