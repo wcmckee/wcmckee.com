{
 "cells": [
  {
   "cell_type": "markdown",
   "metadata": {},
   "source": [
    "gif pokmon\n",
    "\n",
    "script to explore the pokemon api and get gifs. "
   ]
  },
  {
   "cell_type": "code",
   "execution_count": 42,
   "metadata": {
    "collapsed": false
   },
   "outputs": [],
   "source": [
    "import requests\n",
    "import json\n",
    "import shutil"
   ]
  },
  {
   "cell_type": "code",
   "execution_count": 29,
   "metadata": {
    "collapsed": true
   },
   "outputs": [],
   "source": [
    "reqg = requests.get('http://pokeapi.co/api/v1/pokedex/1/')"
   ]
  },
  {
   "cell_type": "code",
   "execution_count": 30,
   "metadata": {
    "collapsed": false
   },
   "outputs": [],
   "source": [
    "retxt = reqg.text"
   ]
  },
  {
   "cell_type": "code",
   "execution_count": 31,
   "metadata": {
    "collapsed": false
   },
   "outputs": [],
   "source": [
    "pokload = json.loads(retxt)"
   ]
  },
  {
   "cell_type": "code",
   "execution_count": 32,
   "metadata": {
    "collapsed": false
   },
   "outputs": [],
   "source": [
    "allpok = len(pokload['pokemon'])"
   ]
  },
  {
   "cell_type": "code",
   "execution_count": 36,
   "metadata": {
    "collapsed": false
   },
   "outputs": [
    {
     "name": "stdout",
     "output_type": "stream",
     "text": [
      "{'name': 'houndour', 'resource_uri': 'api/v1/pokemon/228/'}\n"
     ]
    }
   ],
   "source": [
    "print(pokload['pokemon'][200])"
   ]
  },
  {
   "cell_type": "code",
   "execution_count": 37,
   "metadata": {
    "collapsed": false
   },
   "outputs": [
    {
     "data": {
      "text/plain": [
       "778"
      ]
     },
     "execution_count": 37,
     "metadata": {},
     "output_type": "execute_result"
    }
   ],
   "source": [
    "allpok"
   ]
  },
  {
   "cell_type": "code",
   "execution_count": null,
   "metadata": {
    "collapsed": true
   },
   "outputs": [],
   "source": [
    "opwritj = requests.get('http://api.giphy.com/v1/gifs/search?q=' + (pokload['pokemon'][alpo]['name']) + '&api_key=dc6zaTOxFJmzC')"
   ]
  },
  {
   "cell_type": "code",
   "execution_count": 43,
   "metadata": {
    "collapsed": false
   },
   "outputs": [
    {
     "name": "stdout",
     "output_type": "stream",
     "text": [
      "rattata\n",
      "http://media1.giphy.com/media/vXkfATtZmC26Q/giphy.gif\n",
      "http://media0.giphy.com/media/IrMkKlhZy4hri/giphy.gif\n",
      "http://media4.giphy.com/media/jeWqeTeBS03WE/giphy.gif\n",
      "http://media3.giphy.com/media/NN4fvJBKKvrnq/giphy.gif\n",
      "http://media2.giphy.com/media/A3LyV2yV5r5cI/giphy.gif\n",
      "http://media1.giphy.com/media/6obZXFnopj9vy/giphy.gif\n",
      "http://media4.giphy.com/media/CZgC0EiQhwiM8/giphy.gif\n",
      "http://media2.giphy.com/media/10oCqxckv42wlq/giphy.gif\n",
      "http://media4.giphy.com/media/OZnzDqIzdduuY/giphy.gif\n",
      "charmander\n",
      "http://media2.giphy.com/media/PiiQ5B1XxxiX6/giphy.gif\n",
      "http://media3.giphy.com/media/V4sY8JCTxGyaI/giphy.gif\n",
      "http://media1.giphy.com/media/fJXClS1SskWPu/giphy.gif\n",
      "http://media2.giphy.com/media/11agp3tD5MPgnC/giphy.gif\n",
      "http://media2.giphy.com/media/hEpqDK5fSGeqc/giphy.gif\n",
      "http://media2.giphy.com/media/6JvWR1rDbseeQ/giphy.gif\n",
      "http://media0.giphy.com/media/EUge7PKTnkwzm/giphy.gif\n",
      "http://media1.giphy.com/media/Lk3CyavFIcr2o/giphy.gif\n",
      "http://media1.giphy.com/media/u1k1kpDZSw5sA/giphy.gif\n",
      "http://media.giphy.com/media/YmAqCTTOLHh0A/giphy-tumblr.gif\n",
      "http://media4.giphy.com/media/WJ7Tr9wi8xVe0/giphy.gif\n",
      "http://media2.giphy.com/media/kyQZBTnF1fG2A/giphy.gif\n",
      "http://media.giphy.com/media/3lttbqFYuaKsM/giphy-tumblr.gif\n",
      "http://media1.giphy.com/media/d8erhw94dHRsI/giphy.gif\n",
      "http://media.giphy.com/media/2Faz6MZP8J3zpcXBe/giphy-tumblr.gif\n",
      "http://media2.giphy.com/media/zggFOBuDFySDm/giphy.gif\n",
      "http://media3.giphy.com/media/7YmRxmyA3QA3C/giphy.gif\n",
      "http://media4.giphy.com/media/vz5JEg2WIJ8hG/giphy.gif\n",
      "http://media1.giphy.com/media/OTr3AVq8Pm2XK/giphy.gif\n",
      "http://media3.giphy.com/media/C5BvJRoI0ONs4/giphy.gif\n",
      "http://media2.giphy.com/media/4vGhTk9nDMnug/giphy.gif\n",
      "http://media4.giphy.com/media/gdh0jRFilcn4Y/giphy.gif\n",
      "http://media4.giphy.com/media/4MwcPSlM8j3IA/giphy.gif\n",
      "http://media3.giphy.com/media/d4yP1krJcfdCM/giphy.gif\n",
      "http://media4.giphy.com/media/bLiebL9q4RMK4/giphy.gif\n",
      "charmeleon\n",
      "http://media2.giphy.com/media/R0fZ5K1BspBjW/giphy.gif\n",
      "http://media1.giphy.com/media/u1k1kpDZSw5sA/giphy.gif\n",
      "http://media1.giphy.com/media/3r3bSqctriays/giphy.gif\n",
      "http://media3.giphy.com/media/7YmRxmyA3QA3C/giphy.gif\n",
      "http://media4.giphy.com/media/vz5JEg2WIJ8hG/giphy.gif\n",
      "http://media3.giphy.com/media/C5BvJRoI0ONs4/giphy.gif\n",
      "http://media1.giphy.com/media/OTr3AVq8Pm2XK/giphy.gif\n",
      "http://media4.giphy.com/media/4FPCEiIGk41cQ/giphy.gif\n",
      "http://media4.giphy.com/media/tyoOzh4nA1Fao/giphy.gif\n",
      "http://media0.giphy.com/media/Gccz9v9BmGHtu/giphy.gif\n",
      "http://media1.giphy.com/media/2LqbHgd5gwgO4/giphy.gif\n",
      "http://media4.giphy.com/media/cYmRQxMLaK9gI/giphy.gif\n",
      "http://media4.giphy.com/media/wCnNTsp817oY0/giphy.gif\n",
      "http://media1.giphy.com/media/POGOvsLHgXmpi/giphy.gif\n",
      "http://media1.giphy.com/media/OKG0r9IgZ11ba/giphy.gif\n",
      "http://media2.giphy.com/media/oecPcKjruvytG/giphy.gif\n",
      "http://media3.giphy.com/media/d4yP1krJcfdCM/giphy.gif\n",
      "http://media4.giphy.com/media/bLiebL9q4RMK4/giphy.gif\n",
      "http://media4.giphy.com/media/p25VnssgQTo4w/giphy.gif\n",
      "http://media1.giphy.com/media/IlzWt9twEUeSQ/giphy.gif\n",
      "http://media3.giphy.com/media/BM1w3GRjpTrk4/giphy.gif\n",
      "http://media4.giphy.com/media/BRwmhn51DJh8A/giphy.gif\n",
      "http://media3.giphy.com/media/DhIHKaOKB5pUA/giphy.gif\n",
      "http://media4.giphy.com/media/nBHnyQePKnES4/giphy.gif\n",
      "http://media3.giphy.com/media/tTsyn0reTC3rG/giphy.gif\n",
      "wartortle\n",
      "http://media3.giphy.com/media/APUf2KTVPMUo/giphy.gif\n",
      "http://media3.giphy.com/media/13RuvX8oKp701G/giphy.gif\n",
      "http://media1.giphy.com/media/EhTwMHUJMrc7m/giphy.gif\n",
      "http://media2.giphy.com/media/MZpmFL1wqh60g/giphy.gif\n",
      "http://media4.giphy.com/media/GVHKUACqw8480/giphy.gif\n",
      "http://media3.giphy.com/media/cHmJaZS0vw4Ny/giphy.gif\n"
     ]
    },
    {
     "ename": "KeyboardInterrupt",
     "evalue": "",
     "output_type": "error",
     "traceback": [
      "\u001b[1;31m---------------------------------------------------------------------------\u001b[0m",
      "\u001b[1;31mKeyboardInterrupt\u001b[0m                         Traceback (most recent call last)",
      "\u001b[1;32m<ipython-input-43-1f5c2d9799f0>\u001b[0m in \u001b[0;36m<module>\u001b[1;34m()\u001b[0m\n\u001b[0;32m     10\u001b[0m             \u001b[0mresponse\u001b[0m \u001b[1;33m=\u001b[0m \u001b[0mrequests\u001b[0m\u001b[1;33m.\u001b[0m\u001b[0mget\u001b[0m\u001b[1;33m(\u001b[0m\u001b[1;33m(\u001b[0m\u001b[0mjswri\u001b[0m\u001b[1;33m[\u001b[0m\u001b[1;34m'data'\u001b[0m\u001b[1;33m]\u001b[0m\u001b[1;33m[\u001b[0m\u001b[0mjsw\u001b[0m\u001b[1;33m]\u001b[0m\u001b[1;33m[\u001b[0m\u001b[1;34m'images'\u001b[0m\u001b[1;33m]\u001b[0m\u001b[1;33m[\u001b[0m\u001b[1;34m'downsized'\u001b[0m\u001b[1;33m]\u001b[0m\u001b[1;33m[\u001b[0m\u001b[1;34m'url'\u001b[0m\u001b[1;33m]\u001b[0m\u001b[1;33m)\u001b[0m\u001b[1;33m,\u001b[0m \u001b[0mstream\u001b[0m\u001b[1;33m=\u001b[0m\u001b[1;32mTrue\u001b[0m\u001b[1;33m)\u001b[0m\u001b[1;33m\u001b[0m\u001b[0m\n\u001b[0;32m     11\u001b[0m             \u001b[1;32mwith\u001b[0m \u001b[0mopen\u001b[0m\u001b[1;33m(\u001b[0m\u001b[1;34m'/home/wcmckee/Downloads/gify/'\u001b[0m \u001b[1;33m+\u001b[0m \u001b[1;33m(\u001b[0m\u001b[0mpokload\u001b[0m\u001b[1;33m[\u001b[0m\u001b[1;34m'pokemon'\u001b[0m\u001b[1;33m]\u001b[0m\u001b[1;33m[\u001b[0m\u001b[0malpo\u001b[0m\u001b[1;33m]\u001b[0m\u001b[1;33m[\u001b[0m\u001b[1;34m'name'\u001b[0m\u001b[1;33m]\u001b[0m\u001b[1;33m)\u001b[0m \u001b[1;33m+\u001b[0m \u001b[0mstr\u001b[0m\u001b[1;33m(\u001b[0m\u001b[0mjsw\u001b[0m\u001b[1;33m)\u001b[0m \u001b[1;33m+\u001b[0m \u001b[1;34m'.gif'\u001b[0m\u001b[1;33m,\u001b[0m \u001b[1;34m'wb'\u001b[0m\u001b[1;33m)\u001b[0m \u001b[1;32mas\u001b[0m \u001b[0mout_file\u001b[0m\u001b[1;33m:\u001b[0m\u001b[1;33m\u001b[0m\u001b[0m\n\u001b[1;32m---> 12\u001b[1;33m                 \u001b[0mshutil\u001b[0m\u001b[1;33m.\u001b[0m\u001b[0mcopyfileobj\u001b[0m\u001b[1;33m(\u001b[0m\u001b[0mresponse\u001b[0m\u001b[1;33m.\u001b[0m\u001b[0mraw\u001b[0m\u001b[1;33m,\u001b[0m \u001b[0mout_file\u001b[0m\u001b[1;33m)\u001b[0m\u001b[1;33m\u001b[0m\u001b[0m\n\u001b[0m\u001b[0;32m     13\u001b[0m                 \u001b[1;32mdel\u001b[0m \u001b[0mresponse\u001b[0m\u001b[1;33m\u001b[0m\u001b[0m\n",
      "\u001b[1;32m/usr/lib/python3.4/shutil.py\u001b[0m in \u001b[0;36mcopyfileobj\u001b[1;34m(fsrc, fdst, length)\u001b[0m\n\u001b[0;32m     64\u001b[0m     \u001b[1;34m\"\"\"copy data from file-like object fsrc to file-like object fdst\"\"\"\u001b[0m\u001b[1;33m\u001b[0m\u001b[0m\n\u001b[0;32m     65\u001b[0m     \u001b[1;32mwhile\u001b[0m \u001b[1;36m1\u001b[0m\u001b[1;33m:\u001b[0m\u001b[1;33m\u001b[0m\u001b[0m\n\u001b[1;32m---> 66\u001b[1;33m         \u001b[0mbuf\u001b[0m \u001b[1;33m=\u001b[0m \u001b[0mfsrc\u001b[0m\u001b[1;33m.\u001b[0m\u001b[0mread\u001b[0m\u001b[1;33m(\u001b[0m\u001b[0mlength\u001b[0m\u001b[1;33m)\u001b[0m\u001b[1;33m\u001b[0m\u001b[0m\n\u001b[0m\u001b[0;32m     67\u001b[0m         \u001b[1;32mif\u001b[0m \u001b[1;32mnot\u001b[0m \u001b[0mbuf\u001b[0m\u001b[1;33m:\u001b[0m\u001b[1;33m\u001b[0m\u001b[0m\n\u001b[0;32m     68\u001b[0m             \u001b[1;32mbreak\u001b[0m\u001b[1;33m\u001b[0m\u001b[0m\n",
      "\u001b[1;32m/usr/local/lib/python3.4/dist-packages/requests/packages/urllib3/response.py\u001b[0m in \u001b[0;36mread\u001b[1;34m(self, amt, decode_content, cache_content)\u001b[0m\n\u001b[0;32m    172\u001b[0m             \u001b[1;32melse\u001b[0m\u001b[1;33m:\u001b[0m\u001b[1;33m\u001b[0m\u001b[0m\n\u001b[0;32m    173\u001b[0m                 \u001b[0mcache_content\u001b[0m \u001b[1;33m=\u001b[0m \u001b[1;32mFalse\u001b[0m\u001b[1;33m\u001b[0m\u001b[0m\n\u001b[1;32m--> 174\u001b[1;33m                 \u001b[0mdata\u001b[0m \u001b[1;33m=\u001b[0m \u001b[0mself\u001b[0m\u001b[1;33m.\u001b[0m\u001b[0m_fp\u001b[0m\u001b[1;33m.\u001b[0m\u001b[0mread\u001b[0m\u001b[1;33m(\u001b[0m\u001b[0mamt\u001b[0m\u001b[1;33m)\u001b[0m\u001b[1;33m\u001b[0m\u001b[0m\n\u001b[0m\u001b[0;32m    175\u001b[0m                 \u001b[1;32mif\u001b[0m \u001b[0mamt\u001b[0m \u001b[1;33m!=\u001b[0m \u001b[1;36m0\u001b[0m \u001b[1;32mand\u001b[0m \u001b[1;32mnot\u001b[0m \u001b[0mdata\u001b[0m\u001b[1;33m:\u001b[0m  \u001b[1;31m# Platform-specific: Buggy versions of Python.\u001b[0m\u001b[1;33m\u001b[0m\u001b[0m\n\u001b[0;32m    176\u001b[0m                     \u001b[1;31m# Close the connection when no data is returned\u001b[0m\u001b[1;33m\u001b[0m\u001b[1;33m\u001b[0m\u001b[0m\n",
      "\u001b[1;32m/usr/lib/python3.4/http/client.py\u001b[0m in \u001b[0;36mread\u001b[1;34m(self, amt)\u001b[0m\n\u001b[0;32m    498\u001b[0m             \u001b[1;31m# Amount is given, so call base class version\u001b[0m\u001b[1;33m\u001b[0m\u001b[1;33m\u001b[0m\u001b[0m\n\u001b[0;32m    499\u001b[0m             \u001b[1;31m# (which is implemented in terms of self.readinto)\u001b[0m\u001b[1;33m\u001b[0m\u001b[1;33m\u001b[0m\u001b[0m\n\u001b[1;32m--> 500\u001b[1;33m             \u001b[1;32mreturn\u001b[0m \u001b[0msuper\u001b[0m\u001b[1;33m(\u001b[0m\u001b[0mHTTPResponse\u001b[0m\u001b[1;33m,\u001b[0m \u001b[0mself\u001b[0m\u001b[1;33m)\u001b[0m\u001b[1;33m.\u001b[0m\u001b[0mread\u001b[0m\u001b[1;33m(\u001b[0m\u001b[0mamt\u001b[0m\u001b[1;33m)\u001b[0m\u001b[1;33m\u001b[0m\u001b[0m\n\u001b[0m\u001b[0;32m    501\u001b[0m         \u001b[1;32melse\u001b[0m\u001b[1;33m:\u001b[0m\u001b[1;33m\u001b[0m\u001b[0m\n\u001b[0;32m    502\u001b[0m             \u001b[1;31m# Amount is not given (unbounded read) so we must check self.length\u001b[0m\u001b[1;33m\u001b[0m\u001b[1;33m\u001b[0m\u001b[0m\n",
      "\u001b[1;32m/usr/lib/python3.4/http/client.py\u001b[0m in \u001b[0;36mreadinto\u001b[1;34m(self, b)\u001b[0m\n\u001b[0;32m    537\u001b[0m         \u001b[1;31m# connection, and the user is reading more bytes than will be provided\u001b[0m\u001b[1;33m\u001b[0m\u001b[1;33m\u001b[0m\u001b[0m\n\u001b[0;32m    538\u001b[0m         \u001b[1;31m# (for example, reading in 1k chunks)\u001b[0m\u001b[1;33m\u001b[0m\u001b[1;33m\u001b[0m\u001b[0m\n\u001b[1;32m--> 539\u001b[1;33m         \u001b[0mn\u001b[0m \u001b[1;33m=\u001b[0m \u001b[0mself\u001b[0m\u001b[1;33m.\u001b[0m\u001b[0mfp\u001b[0m\u001b[1;33m.\u001b[0m\u001b[0mreadinto\u001b[0m\u001b[1;33m(\u001b[0m\u001b[0mb\u001b[0m\u001b[1;33m)\u001b[0m\u001b[1;33m\u001b[0m\u001b[0m\n\u001b[0m\u001b[0;32m    540\u001b[0m         \u001b[1;32mif\u001b[0m \u001b[1;32mnot\u001b[0m \u001b[0mn\u001b[0m \u001b[1;32mand\u001b[0m \u001b[0mb\u001b[0m\u001b[1;33m:\u001b[0m\u001b[1;33m\u001b[0m\u001b[0m\n\u001b[0;32m    541\u001b[0m             \u001b[1;31m# Ideally, we would raise IncompleteRead if the content-length\u001b[0m\u001b[1;33m\u001b[0m\u001b[1;33m\u001b[0m\u001b[0m\n",
      "\u001b[1;32m/usr/lib/python3.4/socket.py\u001b[0m in \u001b[0;36mreadinto\u001b[1;34m(self, b)\u001b[0m\n\u001b[0;32m    369\u001b[0m         \u001b[1;32mwhile\u001b[0m \u001b[1;32mTrue\u001b[0m\u001b[1;33m:\u001b[0m\u001b[1;33m\u001b[0m\u001b[0m\n\u001b[0;32m    370\u001b[0m             \u001b[1;32mtry\u001b[0m\u001b[1;33m:\u001b[0m\u001b[1;33m\u001b[0m\u001b[0m\n\u001b[1;32m--> 371\u001b[1;33m                 \u001b[1;32mreturn\u001b[0m \u001b[0mself\u001b[0m\u001b[1;33m.\u001b[0m\u001b[0m_sock\u001b[0m\u001b[1;33m.\u001b[0m\u001b[0mrecv_into\u001b[0m\u001b[1;33m(\u001b[0m\u001b[0mb\u001b[0m\u001b[1;33m)\u001b[0m\u001b[1;33m\u001b[0m\u001b[0m\n\u001b[0m\u001b[0;32m    372\u001b[0m             \u001b[1;32mexcept\u001b[0m \u001b[0mtimeout\u001b[0m\u001b[1;33m:\u001b[0m\u001b[1;33m\u001b[0m\u001b[0m\n\u001b[0;32m    373\u001b[0m                 \u001b[0mself\u001b[0m\u001b[1;33m.\u001b[0m\u001b[0m_timeout_occurred\u001b[0m \u001b[1;33m=\u001b[0m \u001b[1;32mTrue\u001b[0m\u001b[1;33m\u001b[0m\u001b[0m\n",
      "\u001b[1;31mKeyboardInterrupt\u001b[0m: "
     ]
    }
   ],
   "source": [
    "for alpo in range(allpok):\n",
    "    print(pokload['pokemon'][alpo]['name'])\n",
    "    opwritj = requests.get('http://api.giphy.com/v1/gifs/search?q=' + (pokload['pokemon'][alpo]['name']) + '&api_key=dc6zaTOxFJmzC')\n",
    "    wrijrd = opwritj.text\n",
    "    jswri = json.loads(wrijrd)\n",
    "    jswln = len(jswri['data'])\n",
    "    for jsw in range(0, jswln):\n",
    "        if '.gif' in jswri['data'][jsw]['images']['downsized']['url']:\n",
    "            print(jswri['data'][jsw]['images']['downsized']['url'])\n",
    "            response = requests.get((jswri['data'][jsw]['images']['downsized']['url']), stream=True)\n",
    "            with open('/home/wcmckee/Downloads/gify/' + (pokload['pokemon'][alpo]['name']) + str(jsw) + '.gif', 'wb') as out_file:\n",
    "                shutil.copyfileobj(response.raw, out_file)\n",
    "                del response"
   ]
  }
 ],
 "metadata": {
  "kernelspec": {
   "display_name": "Python 3",
   "language": "python",
   "name": "python3"
  },
  "language_info": {
   "codemirror_mode": {
    "name": "ipython",
    "version": 3
   },
   "file_extension": ".py",
   "mimetype": "text/x-python",
   "name": "python",
   "nbconvert_exporter": "python",
   "pygments_lexer": "ipython3",
   "version": "3.4.2"
  }
 },
 "nbformat": 4,
 "nbformat_minor": 0
}
