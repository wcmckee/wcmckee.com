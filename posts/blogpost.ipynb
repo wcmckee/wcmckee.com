{
 "cells": [
  {
   "cell_type": "code",
   "execution_count": 141,
   "metadata": {
    "collapsed": true,
    "slideshow": {
     "slide_type": "slide"
    }
   },
   "outputs": [],
   "source": [
    "import requests\n",
    "import shutil\n",
    "import os\n",
    "import getpass\n",
    "from urllib.parse import urlparse\n",
    "import json\n",
    "import arrow\n",
    "import glob\n",
    "import os\n",
    "import arrow\n",
    "import time\n",
    "import subprocess"
   ]
  },
  {
   "cell_type": "code",
   "execution_count": 115,
   "metadata": {
    "collapsed": true,
    "slideshow": {
     "slide_type": "slide"
    }
   },
   "outputs": [],
   "source": [
    "def mkyr(blogpath):\n",
    "    raw = arrow.now()\n",
    "    if raw.strftime(\"%Y\") not in os.listdir(blogpath + '/galleries'):\n",
    "        os.mkdir(blogpath + '/galleries/' + raw.strftime(\"%Y\"))\n",
    "        #return(raw.strftime(\"%Y\"))\n",
    "    else:\n",
    "        return('ERROR: Year already exists')"
   ]
  },
  {
   "cell_type": "code",
   "execution_count": 116,
   "metadata": {
    "collapsed": true,
    "slideshow": {
     "slide_type": "slide"
    }
   },
   "outputs": [],
   "source": [
    "def mkmth(blogpath):\n",
    "    raw = arrow.now()\n",
    "    if raw.strftime(\"%m\") not in os.listdir(blogpath + '/galleries/' + raw.strftime(\"%Y\")):\n",
    "        os.mkdir(blogpath + '/galleries/' + raw.strftime(\"%Y\") + '/' + raw.strftime(\"%m\"))\n",
    "        return(raw.strftime(\"%m\"))\n",
    "    else:\n",
    "        return('ERROR: Month already exists')"
   ]
  },
  {
   "cell_type": "code",
   "execution_count": 117,
   "metadata": {
    "collapsed": false,
    "slideshow": {
     "slide_type": "slide"
    }
   },
   "outputs": [],
   "source": [
    "def mkday(blogpath):\n",
    "    raw = arrow.now()\n",
    "    if raw.strftime(\"%d\") not in os.listdir(blogpath + '/galleries/' + raw.strftime(\"%Y\") + '/' + raw.strftime(\"%m\")):\n",
    "        os.mkdir(blogpath + '/galleries/' + raw.strftime(\"%Y\") + '/' + raw.strftime(\"%m\") + '/' + raw.strftime('%d'))\n",
    "        return(raw.strftime('%d'))\n",
    "    else:\n",
    "        return('ERROR: Day already exists')"
   ]
  },
  {
   "cell_type": "code",
   "execution_count": 139,
   "metadata": {
    "collapsed": true
   },
   "outputs": [],
   "source": [
    "def cpdayimg(orginpath, blogpath):\n",
    "    #copies images from origin folder to blog folder\n",
    "    raw = arrow.now()\n",
    "    files = os.listdir(orginpath)\n",
    "    for f in files:\n",
    "        shutil.copy(orginpath + '/' + f, blogpath + '/galleries/' + raw.strftime(\"%Y\") + '/' + raw.strftime(\"%m\") + '/' + raw.strftime('%d'))\n",
    "    return(os.listdir(blogpath + '/galleries/' + raw.strftime(\"%Y\") + '/' + raw.strftime(\"%m\") + '/' + raw.strftime('%d')))    "
   ]
  },
  {
   "cell_type": "code",
   "execution_count": 140,
   "metadata": {
    "collapsed": false
   },
   "outputs": [
    {
     "data": {
      "text/plain": [
       "['1017-05_BTS_WEB_HOME_wk14_2.jpg',\n",
       " '1017-05_BTS_WEB_HOME_wk14_28.jpg',\n",
       " '1017-05_BTS_WEB_HOME_wk14_32.jpg',\n",
       " '1017-05_BTS_WEB_HOME_wk14_30.jpg',\n",
       " '1017-05_BTS_WEB_HOME_wk14_26.jpg',\n",
       " 'test.jpg',\n",
       " '1017-05_BTS_WEB_HOME_wk14_24.jpg',\n",
       " 'david.jpg',\n",
       " '1017-05_BTS_WEB_HOME_wk14_16.jpg',\n",
       " '1017-05_BTS_WEB_HOME_wk14_10.jpg',\n",
       " '1017-05_BTS_WEB_HOME_wk14_4.jpg']"
      ]
     },
     "execution_count": 140,
     "metadata": {},
     "output_type": "execute_result"
    }
   ],
   "source": [
    "cpdayimg('/home/wcmckee/imgtest', '/home/wcmckee/artctrl-test/')"
   ]
  },
  {
   "cell_type": "code",
   "execution_count": 129,
   "metadata": {
    "collapsed": true,
    "slideshow": {
     "slide_type": "slide"
    }
   },
   "outputs": [],
   "source": [
    "def mkblogpost(blogpath, postname, tagblog):\n",
    "    raw = arrow.now()\n",
    "    fultim = raw.datetime\n",
    "    \n",
    "    if postname + '.md' not in os.listdir(blogpath + '/posts'):\n",
    "        with open(blogpath + '/posts/' + postname + '.meta', 'w') as daympo:\n",
    "            daympo.write('.. title: {}\\n.. slug: {}\\n.. date: {}\\n.. tags: {}\\n.. link:\\n.. description:\\n.. type: text'.format(postname, postname, fultim, tagblog))\n",
    "            \n",
    "        with open(blogpath + '/posts/' + postname + '.md', 'w') as daymark:\n",
    "            for toar in os.listdir(blogpath + '/galleries/' + raw.strftime(\"%Y\") + '/' + raw.strftime(\"%m\") + '/' + raw.strftime('%d')):\n",
    "\n",
    "                daymark.write('![{}]({}{})\\n\\n'.format(toar.replace('.png', ''), '/galleries/' + raw.strftime(\"%Y\") + '/' + raw.strftime(\"%m\") + '/' + raw.strftime('%d') + '/', toar))\n",
    "\n",
    "    else:\n",
    "        return('ERROR: post already exists')\n"
   ]
  },
  {
   "cell_type": "code",
   "execution_count": 178,
   "metadata": {
    "collapsed": false
   },
   "outputs": [],
   "source": [
    "import awscli"
   ]
  },
  {
   "cell_type": "code",
   "execution_count": 179,
   "metadata": {
    "collapsed": false
   },
   "outputs": [
    {
     "data": {
      "text/plain": [
       "<module 'awscli' from '/usr/lib/python3/dist-packages/awscli/__init__.py'>"
      ]
     },
     "execution_count": 179,
     "metadata": {},
     "output_type": "execute_result"
    }
   ],
   "source": [
    "awscli.en"
   ]
  },
  {
   "cell_type": "code",
   "execution_count": 181,
   "metadata": {
    "collapsed": false
   },
   "outputs": [
    {
     "data": {
      "text/plain": [
       "{'ca_bundle': ('ca_bundle', 'AWS_CA_BUNDLE', None, None),\n",
       " 'output': ('output', 'AWS_DEFAULT_OUTPUT', 'json', None)}"
      ]
     },
     "execution_count": 181,
     "metadata": {},
     "output_type": "execute_result"
    }
   ],
   "source": [
    "awscli.EnvironmentVariables"
   ]
  },
  {
   "cell_type": "code",
   "execution_count": null,
   "metadata": {
    "collapsed": true
   },
   "outputs": [],
   "source": []
  },
  {
   "cell_type": "code",
   "execution_count": 136,
   "metadata": {
    "collapsed": false
   },
   "outputs": [
    {
     "ename": "SyntaxError",
     "evalue": "unexpected EOF while parsing (<ipython-input-136-95d777530b3b>, line 2)",
     "output_type": "error",
     "traceback": [
      "\u001b[0;36m  File \u001b[0;32m\"<ipython-input-136-95d777530b3b>\"\u001b[0;36m, line \u001b[0;32m2\u001b[0m\n\u001b[0;31m    #rsync the galleries and post files to various services - aws and digitalocean bucket.\u001b[0m\n\u001b[0m                                                                                           ^\u001b[0m\n\u001b[0;31mSyntaxError\u001b[0m\u001b[0;31m:\u001b[0m unexpected EOF while parsing\n"
     ]
    }
   ],
   "source": [
    "def syncblogpost():\n",
    "    #rsync the galleries and post files to various services - aws and digitalocean bucket. "
   ]
  },
  {
   "cell_type": "markdown",
   "metadata": {},
   "source": [
    "folder of images. create request that creates json of image name, id, and text descrion. this is the text that goes after the image. "
   ]
  },
  {
   "cell_type": "code",
   "execution_count": 163,
   "metadata": {
    "collapsed": true
   },
   "outputs": [],
   "source": [
    "def imgjstru(blogpath, postname):\n",
    "    sampdict = dict()\n",
    "    raw = arrow.now()\n",
    "    for osli in os.listdir(blogpath + '/galleries/' + raw.strftime(\"%Y\") + '/' + raw.strftime(\"%m\") + '/' + raw.strftime('%d')):\n",
    "        #print(osli)\n",
    "        sampdict.update({osli : dict({'id' : 'one', 'text' : 'sampletext'})})\n",
    "    #os.listdir(blogpath + '/galleries/' + raw.strftime(\"%Y\") + '/' + raw.strftime(\"%m\") + '/' + raw.strftime('%d'))\n",
    "    return(sampdict)"
   ]
  },
  {
   "cell_type": "code",
   "execution_count": 173,
   "metadata": {
    "collapsed": true
   },
   "outputs": [],
   "source": [
    "def singimg(blogpath, postname, imgname, imgtxt):\n",
    "    sampdict = dict()\n",
    "    raw = arrow.now()\n",
    "  \n",
    "    with open(blogpath + '/posts/' + postname + '.md', 'a') as daymark:\n",
    "        daymark.write('![{}]({}{})\\n\\n{}\\n\\n'.format(imgname.replace('.png', ''), '/galleries/' + raw.strftime(\"%Y\") + '/' + raw.strftime(\"%m\") + '/' + raw.strftime('%d') + '/', imgname, imgtxt))\n",
    "\n",
    "    "
   ]
  },
  {
   "cell_type": "code",
   "execution_count": 174,
   "metadata": {
    "collapsed": false
   },
   "outputs": [],
   "source": [
    "singimg('/home/wcmckee/artctrl-test', 'omgz', 'hello.png', 'this is lame')"
   ]
  },
  {
   "cell_type": "code",
   "execution_count": 175,
   "metadata": {
    "collapsed": true
   },
   "outputs": [],
   "source": [
    "singimg('/home/wcmckee/artctrl-test', 'omgz', 'never.png', 'well this didnt look good')"
   ]
  },
  {
   "cell_type": "code",
   "execution_count": null,
   "metadata": {
    "collapsed": true
   },
   "outputs": [],
   "source": []
  },
  {
   "cell_type": "code",
   "execution_count": null,
   "metadata": {
    "collapsed": true
   },
   "outputs": [],
   "source": []
  },
  {
   "cell_type": "code",
   "execution_count": 164,
   "metadata": {
    "collapsed": false
   },
   "outputs": [
    {
     "ename": "NameError",
     "evalue": "name 'sam' is not defined",
     "output_type": "error",
     "traceback": [
      "\u001b[0;31m---------------------------------------------------------------------------\u001b[0m",
      "\u001b[0;31mNameError\u001b[0m                                 Traceback (most recent call last)",
      "\u001b[0;32m<ipython-input-164-3ef32f8c6790>\u001b[0m in \u001b[0;36m<module>\u001b[0;34m()\u001b[0m\n\u001b[0;32m----> 1\u001b[0;31m \u001b[0msam\u001b[0m\u001b[0;34m\u001b[0m\u001b[0m\n\u001b[0m",
      "\u001b[0;31mNameError\u001b[0m: name 'sam' is not defined"
     ]
    }
   ],
   "source": [
    "sam"
   ]
  },
  {
   "cell_type": "code",
   "execution_count": 165,
   "metadata": {
    "collapsed": false
   },
   "outputs": [
    {
     "data": {
      "text/plain": [
       "{'1017-05_BTS_WEB_HOME_wk14_10.jpg': {'id': 'one', 'text': 'sampletext'},\n",
       " '1017-05_BTS_WEB_HOME_wk14_16.jpg': {'id': 'one', 'text': 'sampletext'},\n",
       " '1017-05_BTS_WEB_HOME_wk14_2.jpg': {'id': 'one', 'text': 'sampletext'},\n",
       " '1017-05_BTS_WEB_HOME_wk14_24.jpg': {'id': 'one', 'text': 'sampletext'},\n",
       " '1017-05_BTS_WEB_HOME_wk14_26.jpg': {'id': 'one', 'text': 'sampletext'},\n",
       " '1017-05_BTS_WEB_HOME_wk14_28.jpg': {'id': 'one', 'text': 'sampletext'},\n",
       " '1017-05_BTS_WEB_HOME_wk14_30.jpg': {'id': 'one', 'text': 'sampletext'},\n",
       " '1017-05_BTS_WEB_HOME_wk14_32.jpg': {'id': 'one', 'text': 'sampletext'},\n",
       " '1017-05_BTS_WEB_HOME_wk14_4.jpg': {'id': 'one', 'text': 'sampletext'},\n",
       " 'david.jpg': {'id': 'one', 'text': 'sampletext'},\n",
       " 'test.jpg': {'id': 'one', 'text': 'sampletext'}}"
      ]
     },
     "execution_count": 165,
     "metadata": {},
     "output_type": "execute_result"
    }
   ],
   "source": [
    "imgjstru('/home/wcmckee/artctrl-test', 'testing')"
   ]
  },
  {
   "cell_type": "code",
   "execution_count": null,
   "metadata": {
    "collapsed": true
   },
   "outputs": [],
   "source": []
  },
  {
   "cell_type": "code",
   "execution_count": null,
   "metadata": {
    "collapsed": true
   },
   "outputs": [],
   "source": []
  },
  {
   "cell_type": "code",
   "execution_count": null,
   "metadata": {
    "collapsed": true
   },
   "outputs": [],
   "source": []
  }
 ],
 "metadata": {
  "kernelspec": {
   "display_name": "Python 3",
   "language": "python",
   "name": "python3"
  },
  "language_info": {
   "codemirror_mode": {
    "name": "ipython",
    "version": 3
   },
   "file_extension": ".py",
   "mimetype": "text/x-python",
   "name": "python",
   "nbconvert_exporter": "python",
   "pygments_lexer": "ipython3",
   "version": "3.5.3"
  }
 },
 "nbformat": 4,
 "nbformat_minor": 2
}
