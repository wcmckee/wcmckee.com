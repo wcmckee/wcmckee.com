{
 "cells": [
  {
   "cell_type": "code",
   "execution_count": 1,
   "metadata": {
    "collapsed": true
   },
   "outputs": [],
   "source": [
    "import json"
   ]
  },
  {
   "cell_type": "code",
   "execution_count": null,
   "metadata": {
    "collapsed": true
   },
   "outputs": [],
   "source": []
  },
  {
   "cell_type": "code",
   "execution_count": 2,
   "metadata": {
    "collapsed": true
   },
   "outputs": [],
   "source": [
    "import arrow"
   ]
  },
  {
   "cell_type": "code",
   "execution_count": 3,
   "metadata": {
    "collapsed": true
   },
   "outputs": [],
   "source": [
    "def getwholefil(width, height):\n",
    "    return(width * height)"
   ]
  },
  {
   "cell_type": "code",
   "execution_count": 4,
   "metadata": {
    "collapsed": true
   },
   "outputs": [],
   "source": [
    "def givearray(inputarray):\n",
    "    return(list(inputarray))"
   ]
  },
  {
   "cell_type": "code",
   "execution_count": 5,
   "metadata": {
    "collapsed": false
   },
   "outputs": [],
   "source": [
    "def retwatera(wid, hei, mylis):\n",
    "    return(getwholefil(wid,hei) - sum(givearray(mylis)))"
   ]
  },
  {
   "cell_type": "code",
   "execution_count": 6,
   "metadata": {
    "collapsed": true
   },
   "outputs": [],
   "source": [
    "#want to test that the two numbers are int and not str"
   ]
  },
  {
   "cell_type": "code",
   "execution_count": 7,
   "metadata": {
    "collapsed": false
   },
   "outputs": [
    {
     "data": {
      "text/plain": [
       "[2, 5, 6, 2, 3]"
      ]
     },
     "execution_count": 7,
     "metadata": {},
     "output_type": "execute_result"
    }
   ],
   "source": [
    "givearray([2,5,6,2,3])"
   ]
  },
  {
   "cell_type": "code",
   "execution_count": 8,
   "metadata": {
    "collapsed": false
   },
   "outputs": [
    {
     "data": {
      "text/plain": [
       "84"
      ]
     },
     "execution_count": 8,
     "metadata": {},
     "output_type": "execute_result"
    }
   ],
   "source": [
    "retwatera(5,20, [2,3,6,2,3])"
   ]
  },
  {
   "cell_type": "code",
   "execution_count": 9,
   "metadata": {
    "collapsed": false
   },
   "outputs": [
    {
     "data": {
      "text/plain": [
       "list"
      ]
     },
     "execution_count": 9,
     "metadata": {},
     "output_type": "execute_result"
    }
   ],
   "source": [
    "type(givearray('2, 5, 6, 6, 2'))"
   ]
  },
  {
   "cell_type": "code",
   "execution_count": 10,
   "metadata": {
    "collapsed": false
   },
   "outputs": [
    {
     "data": {
      "text/plain": [
       "['2', ',', '5', ',', '6', ',', '6', ',', '2']"
      ]
     },
     "execution_count": 10,
     "metadata": {},
     "output_type": "execute_result"
    }
   ],
   "source": [
    "givearray('2,5,6,6,2')"
   ]
  },
  {
   "cell_type": "code",
   "execution_count": 11,
   "metadata": {
    "collapsed": false
   },
   "outputs": [
    {
     "data": {
      "text/plain": [
       "50"
      ]
     },
     "execution_count": 11,
     "metadata": {},
     "output_type": "execute_result"
    }
   ],
   "source": [
    "getwholefil(5,10)"
   ]
  },
  {
   "cell_type": "code",
   "execution_count": 12,
   "metadata": {
    "collapsed": true
   },
   "outputs": [],
   "source": [
    "thearray = [1,3,5,2,3]"
   ]
  },
  {
   "cell_type": "code",
   "execution_count": 13,
   "metadata": {
    "collapsed": true
   },
   "outputs": [],
   "source": [
    "totfil = 50"
   ]
  },
  {
   "cell_type": "code",
   "execution_count": 14,
   "metadata": {
    "collapsed": false
   },
   "outputs": [
    {
     "data": {
      "text/plain": [
       "36"
      ]
     },
     "execution_count": 14,
     "metadata": {},
     "output_type": "execute_result"
    }
   ],
   "source": [
    "getwholefil(5,10) - sum(thearray)"
   ]
  },
  {
   "cell_type": "code",
   "execution_count": 15,
   "metadata": {
    "collapsed": false
   },
   "outputs": [
    {
     "name": "stdout",
     "output_type": "stream",
     "text": [
      "{\"profiles\": [{\"source_id\": \"87235872\", \"link\": \"https://facebook.com/john.smith.478653\", \"source\": \"facebook\"}, {\"source_id\": \"245986569842\", \"link\": \"https://instagram.com/johnsmith/\", \"source\": \"instagram\"}, {\"source_id\": \"72735729779824\", \"link\": \"https://twitter.com/johnnysmiddy/\", \"source\": \"twitter\"}, {\"source_id\": \"37461828371\", \"link\": \"https://salesforce.com/customer/abc123\", \"source\": \"salesforce\"}], \"customer_id\": \"00:14:22:01:23:45\", \"traits\": {\"birthdate\": \"1974-08-01\", \"gender\": \"male\", \"marketing_consent\": true, \"loyalty_level\": \"Elite Plus\", \"email\": \"john.smith@gmail.com\", \"last_name\": \"Smith\", \"loyalty_number\": \"AU8759342\", \"first_name\": \"John\"}}\n"
     ]
    },
    {
     "ename": "JSONDecodeError",
     "evalue": "Expecting value: line 1 column 1 (char 0)",
     "output_type": "error",
     "traceback": [
      "\u001b[0;31m---------------------------------------------------------------------------\u001b[0m",
      "\u001b[0;31mJSONDecodeError\u001b[0m                           Traceback (most recent call last)",
      "\u001b[0;32m<ipython-input-15-bf3aab5465f0>\u001b[0m in \u001b[0;36m<module>\u001b[0;34m()\u001b[0m\n\u001b[1;32m      1\u001b[0m \u001b[0;32mwith\u001b[0m \u001b[0mopen\u001b[0m\u001b[0;34m(\u001b[0m\u001b[0;34m'/home/wcmckee/local.json'\u001b[0m\u001b[0;34m,\u001b[0m \u001b[0;34m'r'\u001b[0m\u001b[0;34m)\u001b[0m \u001b[0;32mas\u001b[0m \u001b[0mlocj\u001b[0m\u001b[0;34m:\u001b[0m\u001b[0;34m\u001b[0m\u001b[0m\n\u001b[1;32m      2\u001b[0m     \u001b[0mprint\u001b[0m\u001b[0;34m(\u001b[0m\u001b[0mlocj\u001b[0m\u001b[0;34m.\u001b[0m\u001b[0mread\u001b[0m\u001b[0;34m(\u001b[0m\u001b[0;34m)\u001b[0m\u001b[0;34m)\u001b[0m\u001b[0;34m\u001b[0m\u001b[0m\n\u001b[0;32m----> 3\u001b[0;31m     \u001b[0mjsrd\u001b[0m \u001b[0;34m=\u001b[0m \u001b[0mjson\u001b[0m\u001b[0;34m.\u001b[0m\u001b[0mloads\u001b[0m\u001b[0;34m(\u001b[0m\u001b[0mlocj\u001b[0m\u001b[0;34m.\u001b[0m\u001b[0mread\u001b[0m\u001b[0;34m(\u001b[0m\u001b[0;34m)\u001b[0m\u001b[0;34m)\u001b[0m\u001b[0;34m\u001b[0m\u001b[0m\n\u001b[0m",
      "\u001b[0;32m/usr/lib/python3.5/json/__init__.py\u001b[0m in \u001b[0;36mloads\u001b[0;34m(s, encoding, cls, object_hook, parse_float, parse_int, parse_constant, object_pairs_hook, **kw)\u001b[0m\n\u001b[1;32m    317\u001b[0m             \u001b[0mparse_int\u001b[0m \u001b[0;32mis\u001b[0m \u001b[0;32mNone\u001b[0m \u001b[0;32mand\u001b[0m \u001b[0mparse_float\u001b[0m \u001b[0;32mis\u001b[0m \u001b[0;32mNone\u001b[0m \u001b[0;32mand\u001b[0m\u001b[0;34m\u001b[0m\u001b[0m\n\u001b[1;32m    318\u001b[0m             parse_constant is None and object_pairs_hook is None and not kw):\n\u001b[0;32m--> 319\u001b[0;31m         \u001b[0;32mreturn\u001b[0m \u001b[0m_default_decoder\u001b[0m\u001b[0;34m.\u001b[0m\u001b[0mdecode\u001b[0m\u001b[0;34m(\u001b[0m\u001b[0ms\u001b[0m\u001b[0;34m)\u001b[0m\u001b[0;34m\u001b[0m\u001b[0m\n\u001b[0m\u001b[1;32m    320\u001b[0m     \u001b[0;32mif\u001b[0m \u001b[0mcls\u001b[0m \u001b[0;32mis\u001b[0m \u001b[0;32mNone\u001b[0m\u001b[0;34m:\u001b[0m\u001b[0;34m\u001b[0m\u001b[0m\n\u001b[1;32m    321\u001b[0m         \u001b[0mcls\u001b[0m \u001b[0;34m=\u001b[0m \u001b[0mJSONDecoder\u001b[0m\u001b[0;34m\u001b[0m\u001b[0m\n",
      "\u001b[0;32m/usr/lib/python3.5/json/decoder.py\u001b[0m in \u001b[0;36mdecode\u001b[0;34m(self, s, _w)\u001b[0m\n\u001b[1;32m    337\u001b[0m \u001b[0;34m\u001b[0m\u001b[0m\n\u001b[1;32m    338\u001b[0m         \"\"\"\n\u001b[0;32m--> 339\u001b[0;31m         \u001b[0mobj\u001b[0m\u001b[0;34m,\u001b[0m \u001b[0mend\u001b[0m \u001b[0;34m=\u001b[0m \u001b[0mself\u001b[0m\u001b[0;34m.\u001b[0m\u001b[0mraw_decode\u001b[0m\u001b[0;34m(\u001b[0m\u001b[0ms\u001b[0m\u001b[0;34m,\u001b[0m \u001b[0midx\u001b[0m\u001b[0;34m=\u001b[0m\u001b[0m_w\u001b[0m\u001b[0;34m(\u001b[0m\u001b[0ms\u001b[0m\u001b[0;34m,\u001b[0m \u001b[0;36m0\u001b[0m\u001b[0;34m)\u001b[0m\u001b[0;34m.\u001b[0m\u001b[0mend\u001b[0m\u001b[0;34m(\u001b[0m\u001b[0;34m)\u001b[0m\u001b[0;34m)\u001b[0m\u001b[0;34m\u001b[0m\u001b[0m\n\u001b[0m\u001b[1;32m    340\u001b[0m         \u001b[0mend\u001b[0m \u001b[0;34m=\u001b[0m \u001b[0m_w\u001b[0m\u001b[0;34m(\u001b[0m\u001b[0ms\u001b[0m\u001b[0;34m,\u001b[0m \u001b[0mend\u001b[0m\u001b[0;34m)\u001b[0m\u001b[0;34m.\u001b[0m\u001b[0mend\u001b[0m\u001b[0;34m(\u001b[0m\u001b[0;34m)\u001b[0m\u001b[0;34m\u001b[0m\u001b[0m\n\u001b[1;32m    341\u001b[0m         \u001b[0;32mif\u001b[0m \u001b[0mend\u001b[0m \u001b[0;34m!=\u001b[0m \u001b[0mlen\u001b[0m\u001b[0;34m(\u001b[0m\u001b[0ms\u001b[0m\u001b[0;34m)\u001b[0m\u001b[0;34m:\u001b[0m\u001b[0;34m\u001b[0m\u001b[0m\n",
      "\u001b[0;32m/usr/lib/python3.5/json/decoder.py\u001b[0m in \u001b[0;36mraw_decode\u001b[0;34m(self, s, idx)\u001b[0m\n\u001b[1;32m    355\u001b[0m             \u001b[0mobj\u001b[0m\u001b[0;34m,\u001b[0m \u001b[0mend\u001b[0m \u001b[0;34m=\u001b[0m \u001b[0mself\u001b[0m\u001b[0;34m.\u001b[0m\u001b[0mscan_once\u001b[0m\u001b[0;34m(\u001b[0m\u001b[0ms\u001b[0m\u001b[0;34m,\u001b[0m \u001b[0midx\u001b[0m\u001b[0;34m)\u001b[0m\u001b[0;34m\u001b[0m\u001b[0m\n\u001b[1;32m    356\u001b[0m         \u001b[0;32mexcept\u001b[0m \u001b[0mStopIteration\u001b[0m \u001b[0;32mas\u001b[0m \u001b[0merr\u001b[0m\u001b[0;34m:\u001b[0m\u001b[0;34m\u001b[0m\u001b[0m\n\u001b[0;32m--> 357\u001b[0;31m             \u001b[0;32mraise\u001b[0m \u001b[0mJSONDecodeError\u001b[0m\u001b[0;34m(\u001b[0m\u001b[0;34m\"Expecting value\"\u001b[0m\u001b[0;34m,\u001b[0m \u001b[0ms\u001b[0m\u001b[0;34m,\u001b[0m \u001b[0merr\u001b[0m\u001b[0;34m.\u001b[0m\u001b[0mvalue\u001b[0m\u001b[0;34m)\u001b[0m \u001b[0;32mfrom\u001b[0m \u001b[0;32mNone\u001b[0m\u001b[0;34m\u001b[0m\u001b[0m\n\u001b[0m\u001b[1;32m    358\u001b[0m         \u001b[0;32mreturn\u001b[0m \u001b[0mobj\u001b[0m\u001b[0;34m,\u001b[0m \u001b[0mend\u001b[0m\u001b[0;34m\u001b[0m\u001b[0m\n",
      "\u001b[0;31mJSONDecodeError\u001b[0m: Expecting value: line 1 column 1 (char 0)"
     ]
    }
   ],
   "source": [
    "with open('/home/wcmckee/local.json', 'r') as locj:\n",
    "    print(locj.read())\n",
    "    jsrd = json.loads(locj.read())"
   ]
  },
  {
   "cell_type": "code",
   "execution_count": 19,
   "metadata": {
    "collapsed": false
   },
   "outputs": [],
   "source": [
    "from tinydb import TinyDB, Query\n",
    "db = TinyDB('/home/wcmckee/db.json')\n"
   ]
  },
  {
   "cell_type": "code",
   "execution_count": 3,
   "metadata": {
    "collapsed": false
   },
   "outputs": [
    {
     "ename": "ImportError",
     "evalue": "No module named 'tinydb'",
     "output_type": "error",
     "traceback": [
      "\u001b[0;31m---------------------------------------------------------------------------\u001b[0m",
      "\u001b[0;31mImportError\u001b[0m                               Traceback (most recent call last)",
      "\u001b[0;32m<ipython-input-3-6c7c253d0708>\u001b[0m in \u001b[0;36m<module>\u001b[0;34m()\u001b[0m\n\u001b[0;32m----> 1\u001b[0;31m \u001b[0;32mimport\u001b[0m \u001b[0mtinydb\u001b[0m\u001b[0;34m\u001b[0m\u001b[0m\n\u001b[0m",
      "\u001b[0;31mImportError\u001b[0m: No module named 'tinydb'"
     ]
    }
   ],
   "source": [
    "import tinydb"
   ]
  },
  {
   "cell_type": "code",
   "execution_count": 26,
   "metadata": {
    "collapsed": true
   },
   "outputs": [],
   "source": [
    "import sqlite3"
   ]
  },
  {
   "cell_type": "code",
   "execution_count": 27,
   "metadata": {
    "collapsed": false
   },
   "outputs": [],
   "source": [
    "conn = sqlite3.connect('example.db')"
   ]
  },
  {
   "cell_type": "code",
   "execution_count": 28,
   "metadata": {
    "collapsed": false
   },
   "outputs": [
    {
     "name": "stderr",
     "output_type": "stream",
     "text": [
      "ERROR:root:An unexpected error occurred while tokenizing input\n",
      "The following traceback may be corrupted or invalid\n",
      "The error message is: ('EOF in multi-line string', (1, 94))\n",
      "\n"
     ]
    },
    {
     "ename": "OperationalError",
     "evalue": "table identify already exists",
     "output_type": "error",
     "traceback": [
      "\u001b[0;31m---------------------------------------------------------------------------\u001b[0m",
      "\u001b[0;31mOperationalError\u001b[0m                          Traceback (most recent call last)",
      "\u001b[0;32m<ipython-input-28-948fa5b1e7da>\u001b[0m in \u001b[0;36m<module>\u001b[0;34m()\u001b[0m\n\u001b[1;32m      3\u001b[0m \u001b[0;31m# Create table\u001b[0m\u001b[0;34m\u001b[0m\u001b[0;34m\u001b[0m\u001b[0m\n\u001b[1;32m      4\u001b[0m c.execute('''CREATE TABLE identify\n\u001b[0;32m----> 5\u001b[0;31m              (customer_id, first_name, last_name, email, birthdate, gender, marketing_consent)''')\n\u001b[0m\u001b[1;32m      6\u001b[0m \u001b[0;34m\u001b[0m\u001b[0m\n\u001b[1;32m      7\u001b[0m \u001b[0;31m# Insert a row of data\u001b[0m\u001b[0;34m\u001b[0m\u001b[0;34m\u001b[0m\u001b[0m\n",
      "\u001b[0;31mOperationalError\u001b[0m: table identify already exists"
     ]
    }
   ],
   "source": [
    "c = conn.cursor()\n",
    "\n",
    "# Create table\n",
    "c.execute('''CREATE TABLE identify\n",
    "             (customer_id, first_name, last_name, email, birthdate, gender, marketing_consent)''')\n",
    "\n",
    "# Insert a row of data\n",
    "c.execute(\"INSERT INTO identify VALUES ('00:14:22:01:23:45','William','Mckee','hammer@gmail.com', '1974-08-01', 'male', 'True')\")\n",
    "\n",
    "# Save (commit) the changes\n",
    "conn.commit()\n",
    "\n",
    "# We can also close the connection if we are done with it.\n",
    "# Just be sure any changes have been committed or they will be lost.\n",
    "conn.close()"
   ]
  },
  {
   "cell_type": "code",
   "execution_count": null,
   "metadata": {
    "collapsed": true
   },
   "outputs": [],
   "source": [
    "c = conn.cursor()\n",
    "c.execute(\"INSERT INTO identify VALUES ('00:14:22:01:23:45','William','Mckee','hammer@gmail.com', '1974-08-01', 'male', 'True')\")\n",
    "conn.commit()\n",
    "conn.close()"
   ]
  },
  {
   "cell_type": "code",
   "execution_count": 29,
   "metadata": {
    "collapsed": true
   },
   "outputs": [],
   "source": [
    "conn = sqlite3.connect('example.db')\n",
    "c = conn.cursor()\n",
    "c.execute(\"INSERT INTO identify VALUES ('00:14:22:01:23:45','William','Mckee','hammer@gmail.com', '1974-08-01', 'male', 'True')\")\n",
    "conn.commit()\n",
    "conn.close()"
   ]
  },
  {
   "cell_type": "code",
   "execution_count": null,
   "metadata": {
    "collapsed": true
   },
   "outputs": [],
   "source": []
  },
  {
   "cell_type": "code",
   "execution_count": 30,
   "metadata": {
    "collapsed": true
   },
   "outputs": [],
   "source": [
    "conn = sqlite3.connect('example.db')"
   ]
  },
  {
   "cell_type": "code",
   "execution_count": 31,
   "metadata": {
    "collapsed": false
   },
   "outputs": [],
   "source": [
    "cur = conn.cursor()"
   ]
  },
  {
   "cell_type": "code",
   "execution_count": 35,
   "metadata": {
    "collapsed": false
   },
   "outputs": [
    {
     "name": "stdout",
     "output_type": "stream",
     "text": [
      "('Hugo', 'Boss')\n",
      "('Calvin', 'Klein')\n"
     ]
    }
   ],
   "source": [
    "import sqlite3\n",
    "\n",
    "persons = [\n",
    "    (\"Hugo\", \"Boss\"),\n",
    "    (\"Calvin\", \"Klein\")\n",
    "    ]\n",
    "\n",
    "con = sqlite3.connect(\":memory:\")\n",
    "\n",
    "# Create the table\n",
    "con.execute(\"create table person(firstname, lastname)\")\n",
    "\n",
    "# Fill the table\n",
    "con.executemany(\"insert into person(firstname, lastname) values (?, ?)\", persons)\n",
    "\n",
    "# Print the table contents\n",
    "for row in con.execute(\"select firstname, lastname from person\"):\n",
    "    print (row)\n",
    "\n",
    "#print \"I just deleted\", con.execute(\"delete from person\").rowcount, \"rows\""
   ]
  },
  {
   "cell_type": "code",
   "execution_count": null,
   "metadata": {
    "collapsed": false
   },
   "outputs": [],
   "source": [
    "from tinydb import TinyDB, Query\n",
    "db = TinyDB('path/to/db.json')\n",
    "#>>> User = Query()\n",
    "#>>> db.insert({'name': 'John', 'age': 22})\n",
    "#>>> db.search(User.name == 'John')"
   ]
  },
  {
   "cell_type": "code",
   "execution_count": null,
   "metadata": {
    "collapsed": true
   },
   "outputs": [],
   "source": [
    "import tinydb"
   ]
  },
  {
   "cell_type": "code",
   "execution_count": 34,
   "metadata": {
    "collapsed": false
   },
   "outputs": [
    {
     "ename": "OperationalError",
     "evalue": "no such column: first_name",
     "output_type": "error",
     "traceback": [
      "\u001b[0;31m---------------------------------------------------------------------------\u001b[0m",
      "\u001b[0;31mOperationalError\u001b[0m                          Traceback (most recent call last)",
      "\u001b[0;32m<ipython-input-34-fef3ecde143d>\u001b[0m in \u001b[0;36m<module>\u001b[0;34m()\u001b[0m\n\u001b[0;32m----> 1\u001b[0;31m \u001b[0;32mfor\u001b[0m \u001b[0mrow\u001b[0m \u001b[0;32min\u001b[0m \u001b[0mcur\u001b[0m\u001b[0;34m.\u001b[0m\u001b[0mexecute\u001b[0m\u001b[0;34m(\u001b[0m\u001b[0;34m\"select first_name\"\u001b[0m\u001b[0;34m)\u001b[0m\u001b[0;34m:\u001b[0m\u001b[0;34m\u001b[0m\u001b[0m\n\u001b[0m\u001b[1;32m      2\u001b[0m     \u001b[0mprint\u001b[0m\u001b[0;34m(\u001b[0m\u001b[0mrow\u001b[0m\u001b[0;34m)\u001b[0m\u001b[0;34m\u001b[0m\u001b[0m\n",
      "\u001b[0;31mOperationalError\u001b[0m: no such column: first_name"
     ]
    }
   ],
   "source": [
    "for row in cur.execute(\"select first_name\"):\n",
    "    print(row)\n"
   ]
  },
  {
   "cell_type": "code",
   "execution_count": 25,
   "metadata": {
    "collapsed": false
   },
   "outputs": [
    {
     "data": {
      "text/plain": [
       "[]"
      ]
     },
     "execution_count": 25,
     "metadata": {},
     "output_type": "execute_result"
    }
   ],
   "source": [
    "cur.fetchall()"
   ]
  },
  {
   "cell_type": "code",
   "execution_count": 248,
   "metadata": {
    "collapsed": true
   },
   "outputs": [],
   "source": [
    "def createprofile(customer_id, profilesource):\n",
    "    return('The customer id is {} and the profile source is {}'.format(customer_id, profilesource))"
   ]
  },
  {
   "cell_type": "code",
   "execution_count": 249,
   "metadata": {
    "collapsed": false
   },
   "outputs": [
    {
     "data": {
      "text/plain": [
       "'The customer id is hammer@gmail.com and the profile source is facebook'"
      ]
     },
     "execution_count": 249,
     "metadata": {},
     "output_type": "execute_result"
    }
   ],
   "source": [
    "createprofile('hammer@gmail.com', 'facebook')"
   ]
  },
  {
   "cell_type": "code",
   "execution_count": 24,
   "metadata": {
    "collapsed": false
   },
   "outputs": [],
   "source": [
    "def createfullprofile(first_name, last_name, email, marketing_consent, birthdate, gender):\n",
    "    db.insert({'first_name' : first_name, 'last_name' : last_name, 'email' : email, 'marketing_consent' : marketing_consent, 'birthdate' : birthdate, 'gender' : gender})\n",
    "    #return('Hello {} {}. Your email is {}. Marketing opt is {}. Your birthdate is {} and you are a {}'.format(first_name, last_name, email, marketing_consent, birthdate, gender))\n",
    "    return({'first_name' : first_name, 'last_name' : last_name, 'email' : email, 'marketing_consent' : marketing_consent, 'birthdate' : birthdate, 'gender' : gender})"
   ]
  },
  {
   "cell_type": "code",
   "execution_count": 27,
   "metadata": {
    "collapsed": false
   },
   "outputs": [
    {
     "data": {
      "text/plain": [
       "{'birthdate': '04/12/1001',\n",
       " 'email': 'law123@gmail.com',\n",
       " 'first_name': 'something',\n",
       " 'gender': 'male',\n",
       " 'last_name': 'else',\n",
       " 'marketing_consent': True}"
      ]
     },
     "execution_count": 27,
     "metadata": {},
     "output_type": "execute_result"
    }
   ],
   "source": [
    "createfullprofile('something', 'else', 'law123@gmail.com', True, '04/12/1001', 'male')"
   ]
  },
  {
   "cell_type": "code",
   "execution_count": 39,
   "metadata": {
    "collapsed": true
   },
   "outputs": [],
   "source": [
    "currentime = arrow.now()"
   ]
  },
  {
   "cell_type": "code",
   "execution_count": 252,
   "metadata": {
    "collapsed": false
   },
   "outputs": [],
   "source": [
    "birthday = arrow.get('1865-12-08')"
   ]
  },
  {
   "cell_type": "code",
   "execution_count": 253,
   "metadata": {
    "collapsed": false
   },
   "outputs": [
    {
     "name": "stdout",
     "output_type": "stream",
     "text": [
      "1865-12-08T00:00:00+00:00\n"
     ]
    }
   ],
   "source": [
    "print(birthday)"
   ]
  },
  {
   "cell_type": "code",
   "execution_count": 254,
   "metadata": {
    "collapsed": false
   },
   "outputs": [
    {
     "data": {
      "text/plain": [
       "datetime.timedelta(55819, 16397, 466220)"
      ]
     },
     "execution_count": 254,
     "metadata": {},
     "output_type": "execute_result"
    }
   ],
   "source": [
    "currentime - birthday"
   ]
  },
  {
   "cell_type": "code",
   "execution_count": 255,
   "metadata": {
    "collapsed": false
   },
   "outputs": [
    {
     "data": {
      "text/plain": [
       "datetime.date(1865, 12, 8)"
      ]
     },
     "execution_count": 255,
     "metadata": {},
     "output_type": "execute_result"
    }
   ],
   "source": [
    "birthday.date()"
   ]
  },
  {
   "cell_type": "code",
   "execution_count": 256,
   "metadata": {
    "collapsed": false
   },
   "outputs": [
    {
     "data": {
      "text/plain": [
       "'08'"
      ]
     },
     "execution_count": 256,
     "metadata": {},
     "output_type": "execute_result"
    }
   ],
   "source": [
    "birthday.strftime('%d')"
   ]
  },
  {
   "cell_type": "code",
   "execution_count": 257,
   "metadata": {
    "collapsed": false
   },
   "outputs": [
    {
     "data": {
      "text/plain": [
       "'12'"
      ]
     },
     "execution_count": 257,
     "metadata": {},
     "output_type": "execute_result"
    }
   ],
   "source": [
    "birthday.strftime('%m')"
   ]
  },
  {
   "cell_type": "code",
   "execution_count": 258,
   "metadata": {
    "collapsed": false
   },
   "outputs": [
    {
     "data": {
      "text/plain": [
       "'1865'"
      ]
     },
     "execution_count": 258,
     "metadata": {},
     "output_type": "execute_result"
    }
   ],
   "source": [
    "birthday.strftime('%Y')"
   ]
  },
  {
   "cell_type": "code",
   "execution_count": null,
   "metadata": {
    "collapsed": true
   },
   "outputs": [],
   "source": []
  },
  {
   "cell_type": "markdown",
   "metadata": {},
   "source": [
    "first_name \tstring \ttrue \tFirst name of the customer\n",
    "\n",
    "last_name \tstring \ttrue \tLast name of the customer\n",
    "\n",
    "email \tstring \tfalse \tThe email of the customer\n",
    "\n",
    "marketing_consent \tboolean \tfalse \tWhether the customer gives consent to receive marketing material\n",
    "\n",
    "birthdate \tstring \tfalse \tThe birthdate of the customer in the format YYYY-MM-DD\n",
    "\n",
    "gender \tstring \tfalse \tThe gender of the customer\n",
    "\n",
    "avatar_image \tstring \tfalse \tAn image representing the customer\n",
    "\n",
    "bio \tstring \tfalse \tA brief description of the customer\n",
    "\n",
    "hometown \tstring \tfalse \tThe home town of the customer\n",
    "\n",
    "link \tstring \tfalse \tA link to the original customer\n",
    "\n",
    "website \tstring \tfalse \tThe customers website"
   ]
  },
  {
   "cell_type": "code",
   "execution_count": 259,
   "metadata": {
    "collapsed": false
   },
   "outputs": [
    {
     "ename": "SyntaxError",
     "evalue": "unexpected EOF while parsing (<ipython-input-259-9f499cada62d>, line 7)",
     "output_type": "error",
     "traceback": [
      "\u001b[0;36m  File \u001b[0;32m\"<ipython-input-259-9f499cada62d>\"\u001b[0;36m, line \u001b[0;32m7\u001b[0m\n\u001b[0;31m    }\u001b[0m\n\u001b[0m     ^\u001b[0m\n\u001b[0;31mSyntaxError\u001b[0m\u001b[0;31m:\u001b[0m unexpected EOF while parsing\n"
     ]
    }
   ],
   "source": [
    " {\n",
    "    \"customer_id\": \"00:14:22:01:23:45\",\n",
    "    \"profiles\": [{\n",
    "        \"source\": \"facebook\",\n",
    "        \"source_id\": \"87235872\",\n",
    "        \"link\": \"https://facebook.com/john.smith.478653\",\n",
    "    }"
   ]
  },
  {
   "cell_type": "code",
   "execution_count": 260,
   "metadata": {
    "collapsed": false
   },
   "outputs": [],
   "source": [
    "with open('/home/wcmckee/local.json', 'r') as locj:\n",
    "    myjs = json.loads(locj.read())"
   ]
  },
  {
   "cell_type": "code",
   "execution_count": 261,
   "metadata": {
    "collapsed": false
   },
   "outputs": [],
   "source": [
    "thetraits = {\"traits\": {\n",
    "        \"first_name\": \"John\",\n",
    "        \"last_name\": \"Smith\",\n",
    "        \"email\": \"john.smith@gmail.com\",\n",
    "        \"loyalty_level\": \"Elite Plus\",\n",
    "        \"loyalty_number\": \"AU8759342\",\n",
    "        \"birthdate\": \"1974-10-01\",\n",
    "        \"gender\": \"male\",\n",
    "        \"marketing_consent\": True\n",
    "    }}"
   ]
  },
  {
   "cell_type": "code",
   "execution_count": 262,
   "metadata": {
    "collapsed": false
   },
   "outputs": [],
   "source": [
    "arge = arrow.get(thetraits['traits']['birthdate'], 'YYYY-MM-DD')"
   ]
  },
  {
   "cell_type": "code",
   "execution_count": 263,
   "metadata": {
    "collapsed": false
   },
   "outputs": [
    {
     "data": {
      "text/plain": [
       "'10'"
      ]
     },
     "execution_count": 263,
     "metadata": {},
     "output_type": "execute_result"
    }
   ],
   "source": [
    "arge.strftime('%m')"
   ]
  },
  {
   "cell_type": "code",
   "execution_count": 264,
   "metadata": {
    "collapsed": false
   },
   "outputs": [
    {
     "data": {
      "text/plain": [
       "'01'"
      ]
     },
     "execution_count": 264,
     "metadata": {},
     "output_type": "execute_result"
    }
   ],
   "source": [
    "arge.strftime('%d')"
   ]
  },
  {
   "cell_type": "code",
   "execution_count": 265,
   "metadata": {
    "collapsed": false
   },
   "outputs": [
    {
     "data": {
      "text/plain": [
       "datetime.date(2018, 10, 6)"
      ]
     },
     "execution_count": 265,
     "metadata": {},
     "output_type": "execute_result"
    }
   ],
   "source": [
    "currentime.date()"
   ]
  },
  {
   "cell_type": "code",
   "execution_count": 266,
   "metadata": {
    "collapsed": false
   },
   "outputs": [
    {
     "data": {
      "text/plain": [
       "'10'"
      ]
     },
     "execution_count": 266,
     "metadata": {},
     "output_type": "execute_result"
    }
   ],
   "source": [
    "currentime.strftime('%m')"
   ]
  },
  {
   "cell_type": "code",
   "execution_count": 267,
   "metadata": {
    "collapsed": true
   },
   "outputs": [],
   "source": [
    "import requests"
   ]
  },
  {
   "cell_type": "code",
   "execution_count": 268,
   "metadata": {
    "collapsed": true
   },
   "outputs": [],
   "source": [
    "unbreq = requests.get('https://api.giphy.com/v1/gifs/translate?api_key=123=unbirthday')"
   ]
  },
  {
   "cell_type": "code",
   "execution_count": 269,
   "metadata": {
    "collapsed": true
   },
   "outputs": [],
   "source": [
    "unbjs = unbreq.json()"
   ]
  },
  {
   "cell_type": "code",
   "execution_count": 270,
   "metadata": {
    "collapsed": false
   },
   "outputs": [
    {
     "ename": "KeyError",
     "evalue": "'data'",
     "output_type": "error",
     "traceback": [
      "\u001b[0;31m---------------------------------------------------------------------------\u001b[0m",
      "\u001b[0;31mKeyError\u001b[0m                                  Traceback (most recent call last)",
      "\u001b[0;32m<ipython-input-270-dace88d96482>\u001b[0m in \u001b[0;36m<module>\u001b[0;34m()\u001b[0m\n\u001b[0;32m----> 1\u001b[0;31m \u001b[0munbjs\u001b[0m\u001b[0;34m[\u001b[0m\u001b[0;34m'data'\u001b[0m\u001b[0;34m]\u001b[0m\u001b[0;34m[\u001b[0m\u001b[0;34m'images'\u001b[0m\u001b[0;34m]\u001b[0m\u001b[0;34m[\u001b[0m\u001b[0;34m'original'\u001b[0m\u001b[0;34m]\u001b[0m\u001b[0;34m[\u001b[0m\u001b[0;34m'url'\u001b[0m\u001b[0;34m]\u001b[0m\u001b[0;34m\u001b[0m\u001b[0m\n\u001b[0m",
      "\u001b[0;31mKeyError\u001b[0m: 'data'"
     ]
    }
   ],
   "source": [
    "unbjs['data']['images']['original']['url']"
   ]
  },
  {
   "cell_type": "code",
   "execution_count": 271,
   "metadata": {
    "collapsed": false
   },
   "outputs": [
    {
     "name": "stdout",
     "output_type": "stream",
     "text": [
      "it is your birthday month\n"
     ]
    }
   ],
   "source": [
    "if arge.strftime('%m') == currentime.strftime('%m'):\n",
    "    print('it is your birthday month')\n",
    "else:\n",
    "    print('it is not your birthday month')"
   ]
  },
  {
   "cell_type": "code",
   "execution_count": 272,
   "metadata": {
    "collapsed": false
   },
   "outputs": [
    {
     "name": "stdout",
     "output_type": "stream",
     "text": [
      "it is not your birthday\n"
     ]
    },
    {
     "ename": "KeyError",
     "evalue": "'data'",
     "output_type": "error",
     "traceback": [
      "\u001b[0;31m---------------------------------------------------------------------------\u001b[0m",
      "\u001b[0;31mKeyError\u001b[0m                                  Traceback (most recent call last)",
      "\u001b[0;32m<ipython-input-272-87d617035651>\u001b[0m in \u001b[0;36m<module>\u001b[0;34m()\u001b[0m\n\u001b[1;32m      8\u001b[0m     \u001b[0munbreq\u001b[0m \u001b[0;34m=\u001b[0m \u001b[0mrequests\u001b[0m\u001b[0;34m.\u001b[0m\u001b[0mget\u001b[0m\u001b[0;34m(\u001b[0m\u001b[0;34m'https://api.giphy.com/v1/gifs/translate?api_key=123&s=happy unbirthday'\u001b[0m\u001b[0;34m)\u001b[0m\u001b[0;34m\u001b[0m\u001b[0m\n\u001b[1;32m      9\u001b[0m     \u001b[0munbjs\u001b[0m \u001b[0;34m=\u001b[0m \u001b[0munbreq\u001b[0m\u001b[0;34m.\u001b[0m\u001b[0mjson\u001b[0m\u001b[0;34m(\u001b[0m\u001b[0;34m)\u001b[0m\u001b[0;34m\u001b[0m\u001b[0m\n\u001b[0;32m---> 10\u001b[0;31m     \u001b[0mprint\u001b[0m\u001b[0;34m(\u001b[0m\u001b[0munbjs\u001b[0m\u001b[0;34m[\u001b[0m\u001b[0;34m'data'\u001b[0m\u001b[0;34m]\u001b[0m\u001b[0;34m[\u001b[0m\u001b[0;34m'images'\u001b[0m\u001b[0;34m]\u001b[0m\u001b[0;34m[\u001b[0m\u001b[0;34m'original'\u001b[0m\u001b[0;34m]\u001b[0m\u001b[0;34m[\u001b[0m\u001b[0;34m'url'\u001b[0m\u001b[0;34m]\u001b[0m\u001b[0;34m)\u001b[0m\u001b[0;34m\u001b[0m\u001b[0m\n\u001b[0m",
      "\u001b[0;31mKeyError\u001b[0m: 'data'"
     ]
    }
   ],
   "source": [
    "if arge.strftime('%m-%d') == currentime.strftime('%d-%m'):\n",
    "    print('it is your birthday')\n",
    "    breq = requests.get('https://api.giphy.com/v1/gifs/random?api_key=123&tag=happy birthday&rating=G')\n",
    "    bjs = unbreq.json()\n",
    "    print(bjs['data']['images']['original']['url'])\n",
    "else:\n",
    "    print('it is not your birthday')\n",
    "    unbreq = requests.get('https://api.giphy.com/v1/gifs/translate?api_key=123&s=happy unbirthday')\n",
    "    unbjs = unbreq.json()\n",
    "    print(unbjs['data']['images']['original']['url'])"
   ]
  },
  {
   "cell_type": "code",
   "execution_count": 273,
   "metadata": {
    "collapsed": false
   },
   "outputs": [
    {
     "ename": "KeyError",
     "evalue": "'data'",
     "output_type": "error",
     "traceback": [
      "\u001b[0;31m---------------------------------------------------------------------------\u001b[0m",
      "\u001b[0;31mKeyError\u001b[0m                                  Traceback (most recent call last)",
      "\u001b[0;32m<ipython-input-273-c0bf7608b94e>\u001b[0m in \u001b[0;36m<module>\u001b[0;34m()\u001b[0m\n\u001b[1;32m      1\u001b[0m \u001b[0mbreq\u001b[0m \u001b[0;34m=\u001b[0m \u001b[0mrequests\u001b[0m\u001b[0;34m.\u001b[0m\u001b[0mget\u001b[0m\u001b[0;34m(\u001b[0m\u001b[0;34m'https://api.giphy.com/v1/gifs/translate?api_key=123&s=birthday'\u001b[0m\u001b[0;34m)\u001b[0m\u001b[0;34m\u001b[0m\u001b[0m\n\u001b[1;32m      2\u001b[0m \u001b[0mbjs\u001b[0m \u001b[0;34m=\u001b[0m \u001b[0mbreq\u001b[0m\u001b[0;34m.\u001b[0m\u001b[0mjson\u001b[0m\u001b[0;34m(\u001b[0m\u001b[0;34m)\u001b[0m\u001b[0;34m\u001b[0m\u001b[0m\n\u001b[0;32m----> 3\u001b[0;31m \u001b[0mprint\u001b[0m\u001b[0;34m(\u001b[0m\u001b[0mbjs\u001b[0m\u001b[0;34m[\u001b[0m\u001b[0;34m'data'\u001b[0m\u001b[0;34m]\u001b[0m\u001b[0;34m[\u001b[0m\u001b[0;34m'images'\u001b[0m\u001b[0;34m]\u001b[0m\u001b[0;34m[\u001b[0m\u001b[0;34m'original'\u001b[0m\u001b[0;34m]\u001b[0m\u001b[0;34m[\u001b[0m\u001b[0;34m'url'\u001b[0m\u001b[0;34m]\u001b[0m\u001b[0;34m)\u001b[0m\u001b[0;34m\u001b[0m\u001b[0m\n\u001b[0m",
      "\u001b[0;31mKeyError\u001b[0m: 'data'"
     ]
    }
   ],
   "source": [
    "breq = requests.get('https://api.giphy.com/v1/gifs/translate?api_key=123&s=birthday')\n",
    "bjs = breq.json()\n",
    "print(bjs['data']['images']['original']['url'])"
   ]
  },
  {
   "cell_type": "code",
   "execution_count": 274,
   "metadata": {
    "collapsed": false
   },
   "outputs": [
    {
     "data": {
      "text/plain": [
       "False"
      ]
     },
     "execution_count": 274,
     "metadata": {},
     "output_type": "execute_result"
    }
   ],
   "source": [
    "arge.strftime('%m-%d') == currentime.strftime('%d-%m')"
   ]
  },
  {
   "cell_type": "code",
   "execution_count": 275,
   "metadata": {
    "collapsed": false
   },
   "outputs": [
    {
     "name": "stdout",
     "output_type": "stream",
     "text": [
      "10-01\n"
     ]
    }
   ],
   "source": [
    "print(arge.strftime('%m-%d'))"
   ]
  },
  {
   "cell_type": "code",
   "execution_count": 276,
   "metadata": {
    "collapsed": false
   },
   "outputs": [
    {
     "name": "stdout",
     "output_type": "stream",
     "text": [
      "06-10\n"
     ]
    }
   ],
   "source": [
    "print(currentime.strftime('%d-%m'))"
   ]
  },
  {
   "cell_type": "code",
   "execution_count": 277,
   "metadata": {
    "collapsed": false
   },
   "outputs": [
    {
     "data": {
      "text/plain": [
       "44"
      ]
     },
     "execution_count": 277,
     "metadata": {},
     "output_type": "execute_result"
    }
   ],
   "source": [
    "abs(int(arge.strftime('%Y')) - int(currentime.strftime('%Y')))"
   ]
  },
  {
   "cell_type": "code",
   "execution_count": 278,
   "metadata": {
    "collapsed": false
   },
   "outputs": [
    {
     "data": {
      "text/plain": [
       "'1974-10-01'"
      ]
     },
     "execution_count": 278,
     "metadata": {},
     "output_type": "execute_result"
    }
   ],
   "source": [
    "thetraits['traits']['birthdate']"
   ]
  },
  {
   "cell_type": "code",
   "execution_count": 279,
   "metadata": {
    "collapsed": false
   },
   "outputs": [
    {
     "ename": "TypeError",
     "evalue": "unsupported operand type(s) for -: 'str' and 'str'",
     "output_type": "error",
     "traceback": [
      "\u001b[0;31m---------------------------------------------------------------------------\u001b[0m",
      "\u001b[0;31mTypeError\u001b[0m                                 Traceback (most recent call last)",
      "\u001b[0;32m<ipython-input-279-f4aabccb4f5f>\u001b[0m in \u001b[0;36m<module>\u001b[0;34m()\u001b[0m\n\u001b[0;32m----> 1\u001b[0;31m \u001b[0mtdelta\u001b[0m \u001b[0;34m=\u001b[0m \u001b[0marge\u001b[0m\u001b[0;34m.\u001b[0m\u001b[0mstrftime\u001b[0m\u001b[0;34m(\u001b[0m\u001b[0;34m'%Y-%m-%d'\u001b[0m\u001b[0;34m)\u001b[0m \u001b[0;34m-\u001b[0m \u001b[0mcurrentime\u001b[0m\u001b[0;34m.\u001b[0m\u001b[0mstrftime\u001b[0m\u001b[0;34m(\u001b[0m\u001b[0;34m'%Y-%m-%d'\u001b[0m\u001b[0;34m)\u001b[0m\u001b[0;34m\u001b[0m\u001b[0m\n\u001b[0m",
      "\u001b[0;31mTypeError\u001b[0m: unsupported operand type(s) for -: 'str' and 'str'"
     ]
    }
   ],
   "source": [
    "tdelta = arge.strftime('%Y-%m-%d') - currentime.strftime('%Y-%m-%d')"
   ]
  },
  {
   "cell_type": "code",
   "execution_count": 280,
   "metadata": {
    "collapsed": true
   },
   "outputs": [],
   "source": [
    "from datetime import datetime\n",
    "s1 = thetraits['traits']['birthdate']\n",
    "s2 = currentime.strftime('%Y-%m-%d') # for example\n",
    "FMT = '%Y-%m-%d'\n",
    "tdelta = datetime.strptime(s2, FMT) - datetime.strptime(s1, FMT)"
   ]
  },
  {
   "cell_type": "code",
   "execution_count": 281,
   "metadata": {
    "collapsed": false
   },
   "outputs": [
    {
     "data": {
      "text/plain": [
       "16076"
      ]
     },
     "execution_count": 281,
     "metadata": {},
     "output_type": "execute_result"
    }
   ],
   "source": [
    "tdelta.days"
   ]
  },
  {
   "cell_type": "code",
   "execution_count": 282,
   "metadata": {
    "collapsed": true
   },
   "outputs": [],
   "source": [
    "present = arrow.now()\n",
    "paseve = present.shift(days=-7)\n",
    "futur = present.shift(days=7)"
   ]
  },
  {
   "cell_type": "code",
   "execution_count": 283,
   "metadata": {
    "collapsed": true
   },
   "outputs": [],
   "source": [
    "rewardays = list()"
   ]
  },
  {
   "cell_type": "code",
   "execution_count": 284,
   "metadata": {
    "collapsed": false
   },
   "outputs": [
    {
     "name": "stdout",
     "output_type": "stream",
     "text": [
      "09-29\n",
      "09-30\n",
      "10-01\n",
      "10-02\n",
      "10-03\n",
      "10-04\n",
      "10-05\n",
      "10-06\n",
      "10-07\n",
      "10-08\n",
      "10-09\n",
      "10-10\n",
      "10-11\n",
      "10-12\n",
      "10-13\n"
     ]
    }
   ],
   "source": [
    "for r in arrow.Arrow.span_range('day', paseve, futur):\n",
    "    #print(r.index)\n",
    "    myr = r[0]\n",
    "    print(myr.strftime('%m-%d'))\n",
    "    rewardays.append(myr.strftime('%m-%d'))"
   ]
  },
  {
   "cell_type": "code",
   "execution_count": 285,
   "metadata": {
    "collapsed": true
   },
   "outputs": [],
   "source": [
    "bdayrew = arge.strftime('%m-%d') in rewardays"
   ]
  },
  {
   "cell_type": "code",
   "execution_count": 286,
   "metadata": {
    "collapsed": false
   },
   "outputs": [
    {
     "name": "stdout",
     "output_type": "stream",
     "text": [
      "its ya bday reward\n"
     ]
    }
   ],
   "source": [
    "if bdayrew == True:\n",
    "    print('its ya bday reward')\n",
    "else:\n",
    "    print('its not ya bday reward')"
   ]
  },
  {
   "cell_type": "code",
   "execution_count": 287,
   "metadata": {
    "collapsed": false
   },
   "outputs": [],
   "source": [
    "def checkbirth(dob):\n",
    "    arge = arrow.get(dob, 'YYYY-MM-DD')\n",
    "    bdayrew = arge.strftime('%m-%d') in rewardays\n",
    "    if bdayrew == True:\n",
    "        return('its ya bday reward')\n",
    "    else:\n",
    "        return('its not ya bday reward')\n",
    "    "
   ]
  },
  {
   "cell_type": "code",
   "execution_count": 288,
   "metadata": {
    "collapsed": false
   },
   "outputs": [
    {
     "data": {
      "text/plain": [
       "'its ya bday reward'"
      ]
     },
     "execution_count": 288,
     "metadata": {},
     "output_type": "execute_result"
    }
   ],
   "source": [
    "checkbirth('1988-10-01')"
   ]
  },
  {
   "cell_type": "markdown",
   "metadata": {},
   "source": [
    "customer_id \tstring \ttrue \tA customer identifier of customer. If you dont have one you can use the persons device mac or \n",
    "\n",
    "email address instead.\n",
    "\n",
    "longitude \tfloat \ttrue \tLongitude of the identified device\n",
    "\n",
    "latitude \tfloat \ttrue \tLatitude of the identified device\n",
    "\n",
    "seen_at \tstring \ttrue \tA datetime when the device was last seen. In the format of a RFC 3339 datetime ( 2017-11-29T08:09:57Z )"
   ]
  },
  {
   "cell_type": "code",
   "execution_count": 28,
   "metadata": {
    "collapsed": false
   },
   "outputs": [
    {
     "ename": "SyntaxError",
     "evalue": "invalid syntax (<ipython-input-28-ebff5005de0b>, line 1)",
     "output_type": "error",
     "traceback": [
      "\u001b[0;36m  File \u001b[0;32m\"<ipython-input-28-ebff5005de0b>\"\u001b[0;36m, line \u001b[0;32m1\u001b[0m\n\u001b[0;31m    \"longitude\": 151.20919,\u001b[0m\n\u001b[0m               ^\u001b[0m\n\u001b[0;31mSyntaxError\u001b[0m\u001b[0;31m:\u001b[0m invalid syntax\n"
     ]
    }
   ],
   "source": [
    "\"longitude\": 151.20919,\n",
    "    \"latitude\": -33.88668,\n",
    "    \"seen_at\": \"2017-11-29T08:09:57Z\""
   ]
  },
  {
   "cell_type": "code",
   "execution_count": null,
   "metadata": {
    "collapsed": true
   },
   "outputs": [],
   "source": []
  },
  {
   "cell_type": "code",
   "execution_count": 29,
   "metadata": {
    "collapsed": true
   },
   "outputs": [],
   "source": [
    "def createlocation(email, longitude, latitude):\n",
    "    return({'email' : email, 'longitude' : longitude, 'latitude' : latitude})"
   ]
  },
  {
   "cell_type": "code",
   "execution_count": 52,
   "metadata": {
    "collapsed": false
   },
   "outputs": [
    {
     "data": {
      "text/plain": [
       "{'email': 'hammers@gmail.com',\n",
       " 'latitude': '-33.88668',\n",
       " 'longitude': '151.20919'}"
      ]
     },
     "execution_count": 52,
     "metadata": {},
     "output_type": "execute_result"
    }
   ],
   "source": [
    "createlocation('hammers@gmail.com', '151.20919', '-33.88668')"
   ]
  },
  {
   "cell_type": "code",
   "execution_count": 53,
   "metadata": {
    "collapsed": true
   },
   "outputs": [],
   "source": [
    "import requests "
   ]
  },
  {
   "cell_type": "code",
   "execution_count": null,
   "metadata": {
    "collapsed": true
   },
   "outputs": [],
   "source": [
    "https://api.opencagedata.com/geocode/v1/json?q=41.40139%2C%202.12870&key=9943e82b6c974d878ff290540e9b9835&language=en&pretty=1"
   ]
  },
  {
   "cell_type": "code",
   "execution_count": 70,
   "metadata": {
    "collapsed": false
   },
   "outputs": [],
   "source": [
    "requrl = requests.get('https://api.opencagedata.com/geocode/v1/json?q=151.20919%2C%-33.88668&key=9943e82b6c974d878ff290540e9b9835&language=en&pretty=1')"
   ]
  },
  {
   "cell_type": "code",
   "execution_count": 71,
   "metadata": {
    "collapsed": false
   },
   "outputs": [
    {
     "data": {
      "text/plain": [
       "{'documentation': 'https://opencagedata.com/api',\n",
       " 'licenses': [{'name': 'CC-BY-SA',\n",
       "   'url': 'https://creativecommons.org/licenses/by-sa/3.0/'},\n",
       "  {'name': 'ODbL',\n",
       "   'url': 'https://opendatacommons.org/licenses/odbl/summary/'}],\n",
       " 'rate': {'limit': 2500, 'remaining': 2486, 'reset': 1539129600},\n",
       " 'results': [],\n",
       " 'status': {'code': 200, 'message': 'OK'},\n",
       " 'stay_informed': {'blog': 'https://blog.opencagedata.com',\n",
       "  'twitter': 'https://twitter.com/opencagedata'},\n",
       " 'thanks': 'For using an OpenCage Data API',\n",
       " 'timestamp': {'created_http': 'Tue, 09 Oct 2018 06:45:57 GMT',\n",
       "  'created_unix': 1539067557},\n",
       " 'total_results': 0}"
      ]
     },
     "execution_count": 71,
     "metadata": {},
     "output_type": "execute_result"
    }
   ],
   "source": [
    "requrl.json()"
   ]
  },
  {
   "cell_type": "code",
   "execution_count": 49,
   "metadata": {
    "collapsed": true
   },
   "outputs": [],
   "source": [
    "import requests\n",
    "url = 'https://maps.googleapis.com/maps/api/geocode/json'\n",
    "params = {'sensor': 'false', 'address': 'Mountain View, CA'}\n",
    "r = requests.get(url, params=params)\n",
    "results = r.json()['results']"
   ]
  },
  {
   "cell_type": "code",
   "execution_count": 142,
   "metadata": {
    "collapsed": true
   },
   "outputs": [],
   "source": [
    "somejs = {\n",
    "    \"customer_id\": \"00:14:22:01:23:45\",\n",
    "    \"profiles\": [{\n",
    "        \"source\": \"facebook\",\n",
    "        \"source_id\": \"87235872\",\n",
    "        \"link\": \"https://facebook.com/john.smith.478653\",\n",
    "    },{\n",
    "        \"source\": \"instagram\",\n",
    "        \"source_id\": \"245986569842\",\n",
    "        \"link\": \"https://instagram.com/johnsmith/\",\n",
    "    },{\n",
    "        \"source\": \"twitter\",\n",
    "        \"source_id\": \"72735729779824\",\n",
    "        \"link\": \"https://twitter.com/johnnysmiddy/\",\n",
    "    },{\n",
    "        \"source\": \"salesforce\",\n",
    "        \"source_id\": \"37461828371\",\n",
    "        \"link\": \"https://salesforce.com/customer/abc123\"\n",
    "    }],\n",
    "    \"traits\": {\n",
    "        \"first_name\": \"John\",\n",
    "        \"last_name\": \"Smith\",\n",
    "        \"email\": \"john.smith@gmail.com\",\n",
    "        \"loyalty_level\": \"Elite Plus\",\n",
    "        \"loyalty_number\": \"AU8759342\",\n",
    "        \"birthdate\": \"1974-08-01\",\n",
    "        \"gender\": \"male\",\n",
    "        \"marketing_consent\": True\n",
    "    }\n",
    "  }"
   ]
  },
  {
   "cell_type": "code",
   "execution_count": 146,
   "metadata": {
    "collapsed": false
   },
   "outputs": [],
   "source": [
    "with open('/home/wcmckee/local.json', 'w') as locwr:\n",
    "    locwr.write(json.dumps(somejs))"
   ]
  },
  {
   "cell_type": "code",
   "execution_count": 147,
   "metadata": {
    "collapsed": true
   },
   "outputs": [],
   "source": [
    "with open('/home/wcmckee/local.json', 'r') as locrd:\n",
    "    locrd.read()"
   ]
  },
  {
   "cell_type": "code",
   "execution_count": 148,
   "metadata": {
    "collapsed": false
   },
   "outputs": [
    {
     "name": "stdout",
     "output_type": "stream",
     "text": [
      "{\"profiles\": [{\"source_id\": \"87235872\", \"link\": \"https://facebook.com/john.smith.478653\", \"source\": \"facebook\"}, {\"source_id\": \"245986569842\", \"link\": \"https://instagram.com/johnsmith/\", \"source\": \"instagram\"}, {\"source_id\": \"72735729779824\", \"link\": \"https://twitter.com/johnnysmiddy/\", \"source\": \"twitter\"}, {\"source_id\": \"37461828371\", \"link\": \"https://salesforce.com/customer/abc123\", \"source\": \"salesforce\"}], \"customer_id\": \"00:14:22:01:23:45\", \"traits\": {\"birthdate\": \"1974-08-01\", \"gender\": \"male\", \"marketing_consent\": true, \"loyalty_level\": \"Elite Plus\", \"email\": \"john.smith@gmail.com\", \"last_name\": \"Smith\", \"loyalty_number\": \"AU8759342\", \"first_name\": \"John\"}}"
     ]
    }
   ],
   "source": [
    "cat /home/wcmckee/local.json"
   ]
  },
  {
   "cell_type": "code",
   "execution_count": 153,
   "metadata": {
    "collapsed": false
   },
   "outputs": [],
   "source": [
    "creatime = {\n",
    "  \"data\": [\n",
    "    {\n",
    "      \"created_time\": \"2017-12-08T01:08:57+0000\",\n",
    "      \"message\": \"Love this puzzle. One of my four coke puzzles\",\n",
    "      \"id\": \"820882001277849_1805191182846921\"\n",
    "    },\n",
    "    {\n",
    "      \"created_time\": \"2017-12-07T20:06:14+0000\",\n",
    "      \"message\": \"You need to add grape as a flavor for Coke in your freestyle machines.\",\n",
    "      \"id\": \"820882001277849_1804966026202770\"\n",
    "    },\n",
    "    {\n",
    "      \"created_time\": \"2017-12-07T01:29:12+0000\",\n",
    "      \"message\": \"Plz play the old commercial’s with the polar bears. Would be nice to see them this holiday\",\n",
    "      \"id\": \"820882001277849_1804168469615859\"\n",
    "    }\n",
    "  ]\n",
    "}"
   ]
  },
  {
   "cell_type": "code",
   "execution_count": 150,
   "metadata": {
    "collapsed": true
   },
   "outputs": [],
   "source": [
    "automshrply = 'thank you for the comment. this is an auto responce to let you know we have seen it.'"
   ]
  },
  {
   "cell_type": "code",
   "execution_count": 239,
   "metadata": {
    "collapsed": true
   },
   "outputs": [],
   "source": [
    "commenturl = 'https://graph.facebook.com/{}/comments?message={}'.format(creatime['data'][crdata]['id'], automshrply)"
   ]
  },
  {
   "cell_type": "code",
   "execution_count": 240,
   "metadata": {
    "collapsed": false
   },
   "outputs": [
    {
     "data": {
      "text/plain": [
       "'https://graph.facebook.com/820882001277849_1804168469615859/comments?message=thank you for the comment. this is an auto responce to let you know we have seen it.'"
      ]
     },
     "execution_count": 240,
     "metadata": {},
     "output_type": "execute_result"
    }
   ],
   "source": [
    "commenturl"
   ]
  },
  {
   "cell_type": "code",
   "execution_count": 163,
   "metadata": {
    "collapsed": false
   },
   "outputs": [
    {
     "name": "stdout",
     "output_type": "stream",
     "text": [
      "{'message': 'Love this puzzle. One of my four coke puzzles', 'id': '820882001277849_1805191182846921', 'created_time': '2017-12-08T01:08:57+0000'}\n",
      "820882001277849_1805191182846921\n",
      "https://graph.facebook.com/820882001277849_1805191182846921/comments?message=thank you for the comment. this is an auto responce to let you know we have seen it.\n",
      "{'message': 'You need to add grape as a flavor for Coke in your freestyle machines.', 'id': '820882001277849_1804966026202770', 'created_time': '2017-12-07T20:06:14+0000'}\n",
      "820882001277849_1804966026202770\n",
      "https://graph.facebook.com/820882001277849_1804966026202770/comments?message=thank you for the comment. this is an auto responce to let you know we have seen it.\n",
      "{'message': 'Plz play the old commercial’s with the polar bears. Would be nice to see them this holiday', 'id': '820882001277849_1804168469615859', 'created_time': '2017-12-07T01:29:12+0000'}\n",
      "820882001277849_1804168469615859\n",
      "https://graph.facebook.com/820882001277849_1804168469615859/comments?message=thank you for the comment. this is an auto responce to let you know we have seen it.\n"
     ]
    }
   ],
   "source": [
    "for crdata in range(0, len(creatime['data'])):\n",
    "    print(creatime['data'][crdata])\n",
    "    \n",
    "    print(creatime['data'][crdata]['id'])\n",
    "    #creatime['data']:\n",
    "    #print(creatime['data'])\n",
    "    automshrply = 'thank you for the comment. this is an auto responce to let you know we have seen it.'\n",
    "    commenturl = 'https://graph.facebook.com/{}/comments?message={}'.format(creatime['data'][crdata]['id'], automshrply)\n",
    "    print(commenturl)"
   ]
  },
  {
   "cell_type": "code",
   "execution_count": 72,
   "metadata": {
    "collapsed": true
   },
   "outputs": [],
   "source": [
    "reqfb = requests.get('https://api.meetup.com/self/calendar?photo-host=public&page=20&sig_id=58828502&sig=dcef242c3502d7e7e1f9129220507cb1f31ba3ec')"
   ]
  },
  {
   "cell_type": "code",
   "execution_count": 77,
   "metadata": {
    "collapsed": false
   },
   "outputs": [],
   "source": [
    "reqjs = (reqfb.json())"
   ]
  },
  {
   "cell_type": "code",
   "execution_count": 100,
   "metadata": {
    "collapsed": true
   },
   "outputs": [],
   "source": [
    "meetlen = len(reqjs)"
   ]
  },
  {
   "cell_type": "code",
   "execution_count": 101,
   "metadata": {
    "collapsed": false
   },
   "outputs": [
    {
     "name": "stdout",
     "output_type": "stream",
     "text": [
      "20\n"
     ]
    }
   ],
   "source": [
    "print(meetlen)"
   ]
  },
  {
   "cell_type": "code",
   "execution_count": 118,
   "metadata": {
    "collapsed": false,
    "scrolled": true
   },
   "outputs": [
    {
     "name": "stdout",
     "output_type": "stream",
     "text": [
      "{'duration': 9000000, 'name': 'Rescheduled October Data Engineering Meetup, Sydney', 'status': 'upcoming', 'venue': {'name': 'Airtasker', 'repinned': True, 'city': 'Sydney', 'address_1': 'Level 3, 71 York St', 'lon': 151.2057342529297, 'id': 25791855, 'localized_country_name': 'Australia', 'lat': -33.86824417114258, 'country': 'au'}, 'visibility': 'public', 'local_date': '2018-10-10', 'group': {'who': 'Data Engineers', 'name': 'Sydney Data Engineering Meetup', 'urlname': 'Sydney-Data-Engineering-Meetup', 'region': 'en_US', 'lon': 151.2100067138672, 'id': 26144847, 'created': 1507081242000, 'localized_location': 'Sydney, Australia', 'lat': -33.869998931884766, 'join_mode': 'open', 'timezone': 'Australia/Sydney'}, 'time': 1539154800000, 'link': 'https://www.meetup.com/Sydney-Data-Engineering-Meetup/events/255260041/', 'local_time': '18:00', 'yes_rsvp_count': 100, 'utc_offset': 39600000, 'description': '<p>Airtasker have kindly offered to host us this month.</p> <p>We have 3 awesome speakers:<br/>- Dan Gooden<br/>- Claire Carroll<br/>- Nick Wienholt</p> <p>******************************</p> <p>1st Talk - Dan Gooden:<br/>Testing Patterns in Code Driven SQL Data Pipelines<br/>Consistent and automated testing builds confidence in datasets, catches change in upstream systems, and ensures reliability so you can build more complex models safely.</p> <p>In this talk I\\'ll cover ideas I\\'ve developed over the past few years about useful testing patterns in fast moving, small data teams writing code driven SQL pipelines.</p> <p>Dan Gooden is the Data Lead at Airtasker, where he is responsible for ensuring the company leverages data internally to discover valuable insights, and externally for the benefit of its users of our platform. He has a keen interest in ensuring data has a meaningful relationship to the activities that companies undertake in the world.<br/>Before Airtasker, Dan worked for the Domain Group as the Data Engineering Platform Lead, where he was responsible for creating and managing a team that built the data warehouse. Prior to that he contracted for many years in the DW &amp; BI space.</p> <p>******************************</p> <p>2nd Talk - Claire Carroll<br/>Sharing beautiful data documentation<br/>One of the hardest parts of building a data-driven culture is making sure everyone is speaking the same language – in essence, answering the question “what does this number mean, and where does it come from?”<br/>Attempts to share this knowledge usually come in the form of building a “databook”, either built as a bespoke solution, or by using off the shelf products like Confluence.<br/>In this talk, I’m going to demonstrate how open source tool dbt has solved this problem.<br/>---<br/>Claire is a Data Analyst at Airtasker, and Community Manager for dbt.</p> <p>******************************</p> <p>3rd Talk - Nick Wienholt:<br/>Designing and implementing an automated trading system based on many disparate data sources, using multiple machine learning models and executing across multiple exchanges is an interesting engineering challenge, and one in with reference architectures are very much at the embryonic stage.<br/>In this presentation, Nick will present a complete architecture based on a number of open-source tools including Redis, Kafka and Spark, and examine a number of the possible design approaches.</p> <p>Nick is a consulting data and quantitive engineering based in Sydney. With a focus on high volume trading systems based on machine learning and alternate data, Nick enjoys working with a variety of clients on both the buy- and sell-side in the financial market and gaming industry.</p> <p>******************************</p> <p>We have our own slack group and website which you can find out more details about here: <a href=\"https://sydneydataengineers.github.io/\" class=\"linkified\">https://sydneydataengineers.github.io/</a></p> ', 'waitlist_count': 21, 'rsvp_limit': 100, 'id': '255260041', 'created': 1538644634000, 'updated': 1538644634000}\n",
      "{'name': 'Airtasker', 'repinned': True, 'city': 'Sydney', 'address_1': 'Level 3, 71 York St', 'lon': 151.2057342529297, 'id': 25791855, 'localized_country_name': 'Australia', 'lat': -33.86824417114258, 'country': 'au'}\n",
      "{'duration': 14400000, 'name': 'Flutter Study Jam Session 2', 'status': 'upcoming', 'venue': {'name': 'Google offices @ Fairfax', 'repinned': True, 'city': 'Sydney', 'address_1': ' 2/1 Darling Island Rd, Pyrmont NSW 2009', 'lon': 151.19580078125, 'id': 16805462, 'localized_country_name': 'Australia', 'lat': -33.864994049072266, 'country': 'au'}, 'visibility': 'public', 'local_date': '2018-10-10', 'group': {'who': 'Members', 'name': 'GDG Sydney', 'urlname': 'gdgsydney', 'region': 'en_US', 'lon': 151.2100067138672, 'id': 1955151, 'created': 1306990800000, 'localized_location': 'Sydney, Australia', 'lat': -33.869998931884766, 'join_mode': 'open', 'timezone': 'Australia/Sydney'}, 'time': 1539154800000, 'link': 'https://www.meetup.com/gdgsydney/events/254578726/', 'local_time': '18:00', 'yes_rsvp_count': 63, 'utc_offset': 39600000, 'description': '<p>Flutter is Google’s mobile app SDK for crafting high-quality native interfaces on iOS and Android in record time. Flutter works with existing code, is used by developers and organizations around the world, and is free and open source.</p> <p>Following our \\'Getting Ready to Flutter’ meetup, we are stepping up our game and we’re starting a full-fledged series of Flutter Study Jam sessions.<br/>These sessions are prepared by the Flutter team at Google and start off with the *very* basics of Flutter. So if you\\'ve never used Flutter before, come join in. If you have some basic knowledge, it might not be the best use of your time :)<br/>Keep in mind that this is a hands-on session, so not many spots are available. Make sure you can attend before you RSVP so you give other people a chance.</p> <p>Bring a laptop! If you want to hit the ground running, make sure you have Flutter installed on your laptop prior to starting the Study Jam. Windows/Linux/Mac are all fine. Check out : <a href=\"https://flutter.io/get-started/install/\" class=\"linkified\">https://flutter.io/get-started/install/</a></p> <p>This is Session 2 of 3 and each session builds on the previous<br/>Session 1: <a href=\"https://www.meetup.com/gdgsydney/events/254578527/\" class=\"linkified\">https://www.meetup.com/gdgsydney/events/254578527/</a><br/>Session 3: <a href=\"https://www.meetup.com/gdgsydney/events/254578753/\" class=\"linkified\">https://www.meetup.com/gdgsydney/events/254578753/</a></p> <p>Agenda:</p> <p>Zarah: Welcome!</p> <p>Quirijn &amp; Brett: Kicking off the Flutter Study jam part 2!</p> <p>Break</p> <p>Quirijn &amp; Brett: More Flutter!</p> <p>Thank you\\'s, hugs and goodbye\\'s</p> ', 'waitlist_count': 0, 'rsvp_limit': 76, 'pro_is_email_shared': True, 'id': '254578726', 'created': 1536660672000, 'updated': 1539081976000, 'how_to_find_us': 'Proceed to One Darling Island Road (the Domain/Fairfax building), security will check you off a list then beep you in through the gates and up the lift to level 2.'}\n",
      "{'name': 'Google offices @ Fairfax', 'repinned': True, 'city': 'Sydney', 'address_1': ' 2/1 Darling Island Rd, Pyrmont NSW 2009', 'lon': 151.19580078125, 'id': 16805462, 'localized_country_name': 'Australia', 'lat': -33.864994049072266, 'country': 'au'}\n",
      "{'duration': 10800000, 'name': 'Designing for Fintech and Financial Empowerment!', 'status': 'upcoming', 'venue': {'name': 'Academy Xi', 'repinned': True, 'city': 'Sydney', 'address_1': '48 Druitt St', 'lon': 151.2044677734375, 'id': 25646241, 'localized_country_name': 'Australia', 'lat': -33.87266159057617, 'country': 'au'}, 'visibility': 'public', 'local_date': '2018-10-10', 'group': {'who': 'Members', 'name': 'Sydney Designers', 'urlname': 'Sydney-Designers-Meetup', 'region': 'en_US', 'lon': 151.2100067138672, 'id': 22933614, 'created': 1489905312000, 'localized_location': 'Sydney, Australia', 'lat': -33.869998931884766, 'join_mode': 'open', 'timezone': 'Australia/Sydney'}, 'link': 'https://www.meetup.com/Sydney-Designers-Meetup/events/254869658/', 'local_time': '18:00', 'yes_rsvp_count': 139, 'utc_offset': 39600000, 'description': '<p>Design has evolved since the days of the ATM. From splitting bills to checking our account balance—designers work to improve our financial lives, and provide us the freedom to make financial decisions at the touch of a button.</p> <p>Join the best designers from the fintech and finance world as they talk about the challenges of creating a first class customer experience, and discuss all the unseen challenges of complying with numbers and regulations. Finance is ripe with design opportunities—learn from these war stories and victories!</p> ', 'waitlist_count': 0, 'id': '254869658', 'time': 1539154800000, 'created': 1537490162000, 'updated': 1537490611000}\n",
      "{'name': 'Academy Xi', 'repinned': True, 'city': 'Sydney', 'address_1': '48 Druitt St', 'lon': 151.2044677734375, 'id': 25646241, 'localized_country_name': 'Australia', 'lat': -33.87266159057617, 'country': 'au'}\n",
      "{'duration': 10800000, 'name': 'Meet up with your analytics peers and chat', 'status': 'upcoming', 'venue': {'name': 'Mr Tipplys ', 'repinned': True, 'city': 'Sydney', 'address_1': '347 Kent Street, Sydney NSW 2000 ', 'lon': 151.2041473388672, 'id': 24591303, 'localized_country_name': 'Australia', 'lat': -33.868370056152344, 'country': 'au'}, 'visibility': 'public', 'local_date': '2018-10-10', 'group': {'who': 'Analysts', 'name': 'Web Analytics Wednesday Sydney', 'urlname': 'Web-Analytics-Wednesday-Sydney', 'region': 'en_US', 'lon': 151.2100067138672, 'id': 13894792, 'created': 1397440322000, 'localized_location': 'Sydney, Australia', 'lat': -33.869998931884766, 'join_mode': 'open', 'timezone': 'Australia/Sydney'}, 'link': 'https://www.meetup.com/Web-Analytics-Wednesday-Sydney/events/fgqcqpyxnbnb/', 'local_time': '18:30', 'yes_rsvp_count': 35, 'utc_offset': 39600000, 'description': \"<p>Every second Wednesday of the month the digital analytics community gets together for one or two short talks in an informal setting. There's lots of time for open ended discussion and to socialise. Plus there's free drinks!</p> <p>Open to anyone interested in digital analytics, we have people ranging from beginners through to analytics gurus and from marketing through to technical spaces, and everything in between.</p> <p>Web Analytics Wednesday is a great person to learn about what's happening in the digital analytics field, meet your peers and solve problems together.</p> <p>=========<br/>This Month our talks are:<br/>Brian Do, Datalicious - Custom Funnel Reporting in Google Analytics</p> <p>Panel - How to Find and Grow Good Analytics Talent</p> \", 'waitlist_count': 0, 'id': 'fgqcqpyxnbnb', 'time': 1539156600000, 'created': 1524452619000, 'updated': 1538970947000, 'how_to_find_us': 'Upstairs on the first floor'}\n",
      "{'name': 'Mr Tipplys ', 'repinned': True, 'city': 'Sydney', 'address_1': '347 Kent Street, Sydney NSW 2000 ', 'lon': 151.2041473388672, 'id': 24591303, 'localized_country_name': 'Australia', 'lat': -33.868370056152344, 'country': 'au'}\n",
      "{'duration': 9000000, 'name': 'SydPWA October 2018', 'status': 'upcoming', 'venue': {'name': 'SiteMinder', 'repinned': True, 'city': 'Sydney', 'address_1': 'Ground Floor, 88 Cumberland St, The Rocks NSW 2000', 'lon': 151.2075958251953, 'id': 25500141, 'localized_country_name': 'Australia', 'lat': -33.85821533203125, 'country': 'au'}, 'visibility': 'public', 'local_date': '2018-10-11', 'group': {'who': 'Members', 'name': 'Sydney Progressive Web Apps | SydPWA', 'urlname': 'SydPWA', 'region': 'en_US', 'lon': 151.2100067138672, 'id': 20454233, 'created': 1474544374000, 'localized_location': 'Sydney, Australia', 'lat': -33.869998931884766, 'join_mode': 'open', 'timezone': 'Australia/Sydney'}, 'time': 1539241200000, 'link': 'https://www.meetup.com/SydPWA/events/254438926/', 'local_time': '18:00', 'yes_rsvp_count': 87, 'utc_offset': 39600000, 'description': '<p>PWA is becoming a major hot topic in web development recently. The SiteMinder and WebDirections are here to back you up with some tech details, news, and food.</p> <p>This time we have two topic:<br/>* Next Generation mobile retail with PWA and AMP<br/>* 0 to PWA in minutes (convert an existing site into a PWA)</p> <p>Sponsors:<br/>* Forever awesome SiteMinder which buys food 🍕 and is also our host 🏢 for the night. <a href=\"https://www.siteminder.com/\" class=\"linkified\">https://www.siteminder.com/</a><br/>* The prominent WebDirection conferences will get you some drinks 🍺. And we\\'ve got some discounts to their upcoming event 🎉. <a href=\"https://www.webdirections.org/wds/\" class=\"linkified\">https://www.webdirections.org/wds/</a></p> <p>Talk 1️⃣</p> <p>Time: 6:30 - 7:15pm</p> <p>Title: Next Generation mobile retail with PWA and AMP</p> <p>Info: How brands and retailers are leveraging the Progressive Web Apps to increase their mobile revenue and customer engagement. And some tech stuff that makes it all possible</p> <p>Presenters:<br/>Dean Maslic - Founder and Principal at Commerce Right, veteran of the mobile web and ecommerce solution expert<br/>James Semple - Lead Solutions Engineer at Mobify, mobile commerce evangelist, solution architect and thought leader</p> <p>Background:<br/>Commerce Right is a boutique consulting firm helping brands and retailers deliver omni-channel commerce solutions. Based in Sydney it is the only Mobify Implementation Partner in Australia<br/>Mobify is a digital experience platform for building modern, customer-first shopping experiences through Progressive Web Apps (PWA), Accelerated Mobile Pages (AMP), and native apps. Established in 2007, Mobify is headquartered in Vancouver, Canada</p> <p>Talk 2️⃣</p> <p>Time: 7:30pm - 8:00pm</p> <p>Title: 0 to PWA in minutes</p> <p>Info: A lightning journey on the fundamentals required to convert an existing site into a PWA.</p> <p>Presenter:<br/>Marcin Piekarski - Started learning how to build sites back in 1998 using Netscape and a text editor. Have worked on projects for companies big and small, including Carsguide, CBA, etc. With my most recent project being the implementation of a PWA on the Harvey Norman, Domayne and Joyce Mayne websites.</p> <p>Background:<br/>Harvey Norman is Harvey Norman.</p> <p>See ya there, friends!</p> ', 'waitlist_count': 0, 'rsvp_limit': 100, 'id': '254438926', 'created': 1536225867000, 'updated': 1538735083000}\n",
      "{'name': 'SiteMinder', 'repinned': True, 'city': 'Sydney', 'address_1': 'Ground Floor, 88 Cumberland St, The Rocks NSW 2000', 'lon': 151.2075958251953, 'id': 25500141, 'localized_country_name': 'Australia', 'lat': -33.85821533203125, 'country': 'au'}\n",
      "{'duration': 9900000, 'name': 'Fitness Friday Night Pitches', 'status': 'upcoming', 'venue': {'name': 'Fishburners', 'repinned': True, 'city': 'Sydney', 'address_1': 'Level 2/3 11-31 York St,', 'lon': 151.20526123046875, 'id': 25668721, 'localized_country_name': 'Australia', 'lat': -33.86531066894531, 'country': 'au'}, 'visibility': 'public', 'local_date': '2018-10-12', 'group': {'who': 'Entrepreneurs', 'name': 'Fishburners Meetup', 'urlname': 'Fishburners-Meetup', 'region': 'en_US', 'lon': 151.2100067138672, 'id': 17306242, 'created': 1412058644000, 'localized_location': 'Sydney, Australia', 'lat': -33.869998931884766, 'join_mode': 'open', 'timezone': 'Australia/Sydney'}, 'link': 'https://www.meetup.com/Fishburners-Meetup/events/cgglfqyxnbqb/', 'local_time': '17:15', 'yes_rsvp_count': 93, 'utc_offset': 39600000, 'description': \"<p>Every Friday night from 5:15pm, Fishburners opens its doors to host startup community pitches and networking!</p> <p>If you're looking for inspiration to start a business, learn some pitch tips or just find out what new tech startups are happening in Sydney, this event is for you.</p> <p>Please note that Fishburners values inclusive communities and all events hosted here are governed by our community code of conduct. This stems from our desire to run a productive and valuable night for our founders and all attendees where everyone feels safe and welcome to attend, bring friends, meet new people, and enjoy the start up landscape.</p> <p>To make sure we have the best environment in support of this, in cases where someone is detracting from this goal they may be asked to leave for excessive drinking, antisocial behaviour, speaking during the pitches or disengagement with the purpose of the night. If any issues arise that make you feel uncomfortable please don’t hesitate to come and speak to one of the team.</p> <p>We hope that by this everyone will enjoy an even more energetic and exciting event, continuing to grow in numbers as we focus all our considerable resources on growing and supporting the skills and passions of us all in the start up industry.</p> <p>The event schedule for Friday Night Pitches is as follows:</p> <p>• 5:15PM: Networking &amp; drinks</p> <p>• 5:30PM: Pitches begin. Grab a seat! No talking during this time :)</p> <p>• 6:30PM-8PM (approx.): Networking</p> <p>• 8PM: Event concludes</p> <p>See you soon!</p> \", 'waitlist_count': 0, 'id': 'cgglfqyxnbqb', 'time': 1539324900000, 'created': 1518060109000, 'updated': 1538539613000, 'how_to_find_us': 'Come up to Level 3 in the lifts'}\n",
      "{'name': 'Fishburners', 'repinned': True, 'city': 'Sydney', 'address_1': 'Level 2/3 11-31 York St,', 'lon': 151.20526123046875, 'id': 25668721, 'localized_country_name': 'Australia', 'lat': -33.86531066894531, 'country': 'au'}\n",
      "{'duration': 5400000, 'name': 'Read and chat', 'status': 'upcoming', 'venue': {'name': 'Location TBC', 'repinned': False, 'city': 'Sydney', 'address_1': 'TBC, Sydney', 'lon': 151.20689392089844, 'id': 12231022, 'localized_country_name': 'Australia', 'lat': -33.87364959716797, 'country': 'au'}, 'visibility': 'public_limited', 'local_date': '2018-10-14', 'rsvp_close_offset': 'PT1H30M', 'group': {'who': 'bibliophagists', 'name': 'Warm Brew and Reading Crew - Sydney', 'urlname': 'Warm-Brew-Reading-Crew-Sydney', 'region': 'en_US', 'lon': 151.2100067138672, 'id': 20004787, 'created': 1464404904000, 'localized_location': 'Sydney, Australia', 'lat': -33.869998931884766, 'join_mode': 'approval', 'timezone': 'Australia/Sydney'}, 'time': 1539477000000, 'link': 'https://www.meetup.com/Warm-Brew-Reading-Crew-Sydney/events/251980213/', 'local_time': '11:30', 'yes_rsvp_count': 15, 'utc_offset': 39600000, 'description': \"<p>Come along and discuss what you've been reading, and enjoy some good company and good conversation! As always, bring a book and an open mind.</p> <p>Happy to take suggestions for read and chat locations - let me know in the comments :)</p> \", 'waitlist_count': 7, 'rsvp_limit': 15, 'id': '251980213', 'created': 1529558013000, 'updated': 1529558065000, 'how_to_find_us': 'More details will be posted closer to Meetup date'}\n",
      "{'name': 'Location TBC', 'repinned': False, 'city': 'Sydney', 'address_1': 'TBC, Sydney', 'lon': 151.20689392089844, 'id': 12231022, 'localized_country_name': 'Australia', 'lat': -33.87364959716797, 'country': 'au'}\n",
      "{'duration': 7200000, 'name': 'Algorithms, Graphs and Awesome Procedures', 'status': 'upcoming', 'visibility': 'public', 'local_date': '2018-10-15', 'group': {'who': 'Graphistas', 'name': 'GraphDB Sydney', 'urlname': 'GraphDB-Sydney', 'region': 'en_US', 'lon': 151.2100067138672, 'id': 8031902, 'created': 1365761897000, 'localized_location': 'Sydney, Australia', 'lat': -33.869998931884766, 'join_mode': 'open', 'timezone': 'Australia/Sydney'}, 'time': 1539588600000, 'link': 'https://www.meetup.com/GraphDB-Sydney/events/wfjtzpyxnbtb/', 'local_time': '18:30', 'yes_rsvp_count': 56, 'utc_offset': 39600000, 'description': \"<p>After a festival season, it's time to reunion! This year, there will be a lot more to expect. Our Sydney meetup will be regular event held at our partner's venue in Sydney CBD. There will be more guest speakers, case studies, product shows, and of course food and other fun stuff.</p> <p>(graphs) -[:are]-&gt; (everywhere)</p> \", 'waitlist_count': 0, 'rsvp_limit': 150, 'id': 'wfjtzpyxnbtb', 'created': 1517792751000, 'updated': 1531893162000}\n",
      "error key not found\n",
      "{'duration': 9000000, 'name': 'Voice - the interface of the future', 'status': 'upcoming', 'venue': {'name': 'Deloitte', 'repinned': True, 'city': 'Sydney', 'address_1': 'Grosvenor Place, Level 9, 225 George Street, Sydney, NSW, 2000, Australia Sydney', 'lon': 151.20733642578125, 'id': 1682781, 'localized_country_name': 'Australia', 'lat': -33.86573028564453, 'country': 'au'}, 'visibility': 'public', 'local_date': '2018-10-16', 'group': {'who': 'Disruptors', 'name': 'Disruptors in Tech', 'urlname': 'Disruptors-in-Tech', 'region': 'en_US', 'lon': 151.2100067138672, 'id': 19155708, 'created': 1448508113000, 'localized_location': 'Sydney, Australia', 'lat': -33.869998931884766, 'join_mode': 'open', 'timezone': 'Australia/Sydney'}, 'time': 1539671400000, 'link': 'https://www.meetup.com/Disruptors-in-Tech/events/fjwqtpyxmbpb/', 'local_time': '17:30', 'yes_rsvp_count': 229, 'utc_offset': 39600000, 'description': '<p>You need your Eventbrite ticket to attend: <a href=\"https://www.eventbrite.com.au/e/voice-the-interface-of-the-future-tickets-48151202543\" class=\"linkified\">https://www.eventbrite.com.au/e/voice-the-interface-of-the-future-tickets-48151202543</a></p> <p>Session 1<br/>The Return of the Voice Interface – why voice is making a big comeback<br/>Technology is driving disruption across many industries inspiring new business models and reinventing the way consumers and service providers interact. It is not that long ago that businesses and service providers strongly directed consumers towards a web based service model and then again towards a mobile based engagement. Now, the “good old” voice interaction is making a comeback! In this session we will we will look at recent trends that brought voice back to the centre of the stage and what that may mean for the future</p> <p>Zack Levy, Partner | DevOps &amp; Automation, Deloitte Australia<br/>Zack has more than 25 of experience in the ICT industry with corporations in Australia and internationally spanning from software development, data centre environments and in particular, cloud technologies. He is also well-trained with a combination of technical and commercial expertise. Zack is passionate when it comes to technology, it is his profession and hobby. He is a big believer in cloud platforms and excited to be part of today’s digital transformation.</p> <p>Session 2<br/>Cognitive Customer Experience (CX)<br/>Philip will demonstrate how AWS is progressively using AI and Machine Learning enabled technologies to expand the ways in which their customers deliver improved CX. He will talk through how Voice is evolving into the new CX interface of preference, and how you can think of new and inventive ways to delight your customers.</p> <p>Philip Zammit, Amazon Connect, Amazon Web Services<br/>Phillip is an experienced business executive with deep domain experience and expertise in the Customer Experience, Contact Centre and Customer Service industry for over 20 years. With a focus on innovation and customer outcomes, Phillip has developed deep engagements across many industries and a track record of quantifiable results.</p> <p>Session 3<br/>The practical aspects of implementing voice services<br/>A discussion on the transition of business from a visual web content paradigm to a natural speaking based conversational experience. It will focus on how to leverage existing web content and infrastructure to create the building blocks that can then be used to facilitate complex yet simple voice user experiences and facilitate transactions.</p> <p>Simon Horne, CEO Alkira Software<br/>Simon is CEO of Alkira Software an innovative conversational commerce technology company that focuses on the transition from visual lead web content to an audio based brand experience. Simon personally is an experienced entrepreneur and angel investor with more then 15 years international startup experience having started a number of businesses in Asia and more recently in the US. The most successful was the silicon valley startup BlueJeans which he joined as employee #1 and helped create the business idea and form the foundation team in 2009.</p> <p>Agenda: (Please arrive before 6 PM to start on time)</p> <p>5.45 PM - Drinks will be served<br/>6.00 PM - 6.30 PM - Session 1<br/>6.30 PM - 7.00 PM - Session 2<br/>7.00 PM - 7.30 PM - Break<br/>7.30 PM - 8:00 PM - Session 3</p> <p>Feel free to share event details, pictures and learnings and tag #DisruptorsInTech</p> <p>See you soon!</p> ', 'waitlist_count': 24, 'rsvp_limit': 20, 'id': 'fjwqtpyxmbpb', 'created': 1487033090000, 'updated': 1538528674000}\n",
      "{'name': 'Deloitte', 'repinned': True, 'city': 'Sydney', 'address_1': 'Grosvenor Place, Level 9, 225 George Street, Sydney, NSW, 2000, Australia Sydney', 'lon': 151.20733642578125, 'id': 1682781, 'localized_country_name': 'Australia', 'lat': -33.86573028564453, 'country': 'au'}\n",
      "{'duration': 9000000, 'name': 'Monthly Meetup - October', 'status': 'upcoming', 'venue': {'name': 'Atlassian', 'repinned': True, 'city': 'Sydney', 'address_1': 'Level 6, 341 George Street', 'lon': 151.2065887451172, 'id': 24353819, 'localized_country_name': 'Australia', 'lat': -33.86717987060547, 'country': 'au'}, 'visibility': 'public', 'local_date': '2018-10-16', 'group': {'who': 'Developers', 'name': 'Android Australia User Group - Sydney', 'urlname': 'Android-Australia-User-Group-Sydney', 'region': 'en_US', 'lon': 151.2100067138672, 'id': 1954971, 'created': 1306988708000, 'localized_location': 'Sydney, Australia', 'lat': -33.869998931884766, 'join_mode': 'open', 'timezone': 'Australia/Sydney'}, 'time': 1539673200000, 'link': 'https://www.meetup.com/Android-Australia-User-Group-Sydney/events/255359341/', 'local_time': '18:00', 'yes_rsvp_count': 39, 'utc_offset': 39600000, 'description': '<p>• What we\\'ll do<br/>Thanks to our generous sponsors Atlassian for our venue, pizzas and drinks.</p> <p>Doors open at 6pm, and we\\'ll start talks 6.30pm:</p> <p>We\\'re be back at our usual place, at 341 George street.</p> <p>This month Orhan Obut from Atlassian will be sharing his experience on what it\\'s like working as a platform developer</p> <p>\"Working on an application is one thing, but working entirely on libraries (components) that are consumed by applications is another. In this talk, I’ll share my experience of being a platform developer and practices we follow.\"</p> <p>And Indrajit Chakrabarty has kindly volunteered to give us a \"Recap of KotlinConf 2018\"!</p> <p>We ask that attendees please take note of the recently published Code of Conduct (<a href=\"http://bit.ly/AndroidCoC\" class=\"linkified\">http://bit.ly/AndroidCoC</a>) on the About Us section of this meetup page (and pinned on the #android Slack (<a href=\"http://bit.ly/view-src\" class=\"linkified\">http://bit.ly/view-src</a>) channel)</p> <p>When you arrive, the lifts will be locked, but some very kind Atlassian employees will be there to let us up to level 6. Please try and arrive by 6.20pm so that they can catch the talks from 6.30pm. If you are running late, there will be a mobile number you can call from the lobby, but if you can, please try and avoid that so that our lovely hosts can see all the talks :)</p> <p>Questions or suggestions, please email sydneyaaug@gmail.com, ping @zarah or @ne\\'mi a direct message on Slack (<a href=\"http://view-source-radboats.herokuapp.com/\" class=\"linkified\">http://view-source-radboats.herokuapp.com/</a>)</p> ', 'waitlist_count': 0, 'rsvp_limit': 100, 'id': '255359341', 'created': 1538994454000, 'updated': 1539059288000, 'how_to_find_us': 'We are back at our usual place. Enter through the main entrance of Westpack'}\n",
      "{'name': 'Atlassian', 'repinned': True, 'city': 'Sydney', 'address_1': 'Level 6, 341 George Street', 'lon': 151.2065887451172, 'id': 24353819, 'localized_country_name': 'Australia', 'lat': -33.86717987060547, 'country': 'au'}\n",
      "{'duration': 5400000, 'name': 'From App Idea to Funded Startup', 'status': 'upcoming', 'venue': {'name': 'CUB Business Club', 'repinned': True, 'city': 'Sydney', 'address_1': '3 Kings Cross Road', 'lon': 151.22398376464844, 'id': 25294756, 'localized_country_name': 'Australia', 'lat': -33.876190185546875, 'country': 'au'}, 'visibility': 'public', 'local_date': '2018-10-17', 'group': {'who': 'Founders', 'name': 'From App Idea to Funded Startup', 'urlname': 'Have-an-idea-for-an-app', 'region': 'en_US', 'lon': 151.2100067138672, 'id': 19507156, 'created': 1454580687000, 'localized_location': 'Sydney, Australia', 'lat': -33.869998931884766, 'join_mode': 'open', 'timezone': 'Australia/Sydney'}, 'time': 1539757800000, 'link': 'https://www.meetup.com/Have-an-idea-for-an-app/events/255357393/', 'local_time': '17:30', 'yes_rsvp_count': 12, 'utc_offset': 39600000, 'description': \"<p>Got the next great app idea but you’re not sure how to get it off the ground? Join our free meetup and let's discuss how to validate a business idea, fund a startup and turn it into a successful tech company. Nibbles and drinks are on us. :)</p> \", 'waitlist_count': 0, 'rsvp_limit': 30, 'id': '255357393', 'created': 1538983312000, 'updated': 1539068373000}\n",
      "{'name': 'CUB Business Club', 'repinned': True, 'city': 'Sydney', 'address_1': '3 Kings Cross Road', 'lon': 151.22398376464844, 'id': 25294756, 'localized_country_name': 'Australia', 'lat': -33.876190185546875, 'country': 'au'}\n",
      "{'duration': 10800000, 'name': 'SydJS.S — Showcase', 'status': 'upcoming', 'venue': {'name': 'Atlassian Headquarters', 'repinned': False, 'city': 'Sydney', 'address_1': 'Level 6, 341 George St', 'lon': 151.20692443847656, 'id': 9682622, 'localized_country_name': 'Australia', 'lat': -33.86726760864258, 'country': 'au'}, 'visibility': 'public', 'local_date': '2018-10-17', 'group': {'who': 'Members', 'name': 'SydJS.S', 'urlname': 'SydJS-S', 'region': 'en_US', 'lon': 151.2100067138672, 'id': 24557686, 'created': 1497904662000, 'localized_location': 'Sydney, Australia', 'lat': -33.869998931884766, 'join_mode': 'open', 'timezone': 'Australia/Sydney'}, 'time': 1539759600000, 'link': 'https://www.meetup.com/SydJS-S/events/cslqcqyxnbwb/', 'local_time': '18:00', 'yes_rsvp_count': 65, 'utc_offset': 39600000, 'description': '<p><img src=\"https://secure.meetupstatic.com/photos/event/5/5/3/4/600_465441812.jpeg\" /></p> <p>The SydJS.S Showcase meeting series is designed to introduce Companies and Teams active in the Sydney JavaScript community to the Community at large.</p> <p>Each month, we\\'ll showcase the people making changes to the Web we work with. Keen to find out how teams are working? Want to meet a culture to see if you\\'d be a good match? You need to jin us at SydJS.S</p> <p>On the night you can meet and learn from some of Sydney\\'s finest.</p> ', 'waitlist_count': 0, 'rsvp_limit': 150, 'id': 'cslqcqyxnbwb', 'created': 1510567820000, 'updated': 1534253757000}\n",
      "{'name': 'Atlassian Headquarters', 'repinned': False, 'city': 'Sydney', 'address_1': 'Level 6, 341 George St', 'lon': 151.20692443847656, 'id': 9682622, 'localized_country_name': 'Australia', 'lat': -33.86726760864258, 'country': 'au'}\n",
      "{'duration': 7200000, 'name': 'SydJS', 'status': 'upcoming', 'venue': {'name': 'Atlassian Headquarters', 'repinned': False, 'city': 'Sydney', 'address_1': 'Level 6, 341 George St', 'lon': 151.20692443847656, 'id': 9682622, 'localized_country_name': 'Australia', 'lat': -33.86726760864258, 'country': 'au'}, 'visibility': 'public', 'local_date': '2018-10-17', 'group': {'who': 'Members', 'name': 'SydJS: Classic', 'urlname': 'SydJS-Classic', 'region': 'en_US', 'lon': 151.2100067138672, 'id': 26631779, 'created': 1510987258000, 'localized_location': 'Sydney, Australia', 'lat': -33.869998931884766, 'join_mode': 'open', 'timezone': 'Australia/Sydney'}, 'time': 1539759600000, 'link': 'https://www.meetup.com/SydJS-Classic/events/grqcgqyxnbwb/', 'local_time': '18:00', 'yes_rsvp_count': 54, 'utc_offset': 39600000, 'description': '<p>• What we\\'ll do<br/>Every 4th Wednesday of the month you\\'ll find us talking about what we\\'re doing and what\\'s happening around us in the world of JavaScript.</p> <p>• Important to know<br/><a href=\"https://sydjs.com/about#CoC\" class=\"linkified\">https://sydjs.com/about#CoC</a></p> ', 'waitlist_count': 0, 'rsvp_limit': 100, 'id': 'grqcgqyxnbwb', 'created': 1537203864000, 'updated': 1537203864000}\n",
      "{'name': 'Atlassian Headquarters', 'repinned': False, 'city': 'Sydney', 'address_1': 'Level 6, 341 George St', 'lon': 151.20692443847656, 'id': 9682622, 'localized_country_name': 'Australia', 'lat': -33.86726760864258, 'country': 'au'}\n",
      "{'duration': 9000000, 'name': 'Sydney Design Thinking Meetup #33: Design Thinking in Social Enterprises', 'status': 'upcoming', 'venue': {'name': 'ThoughtWorks', 'repinned': True, 'city': 'Sydney', 'address_1': 'Level 10, 50 Carrington Street', 'lon': 151.2065887451172, 'id': 25702956, 'localized_country_name': 'Australia', 'lat': -33.866329193115234, 'country': 'au'}, 'visibility': 'public', 'local_date': '2018-10-18', 'rsvp_close_offset': 'PT2H', 'group': {'who': 'Design Thinkers', 'name': 'Sydney Design Thinking Meetup', 'urlname': 'Sydney-Design-Thinking-Meetup', 'region': 'en_US', 'lon': 151.2100067138672, 'id': 18596799, 'created': 1431584824000, 'localized_location': 'Sydney, Australia', 'lat': -33.869998931884766, 'join_mode': 'open', 'timezone': 'Australia/Sydney'}, 'time': 1539846000000, 'link': 'https://www.meetup.com/Sydney-Design-Thinking-Meetup/events/249478643/', 'local_time': '18:00', 'yes_rsvp_count': 120, 'utc_offset': 39600000, 'description': '<p>Please join us for some thought provoking conversation with interesting people keen on design thinking. This month we\\'re talking about design thinking in social enterprises. We\\'ll have a couple of speakers followed by a panel.</p> <p>MEET THE SPEAKERS/PANEL<br/>**Julia Suh - Director of Small Shift**<br/>Julia is a leading voice in citizen-led urbanism, and specialises in applying human-centred design as a tool for social change and advocacy. Julia’s purpose is to support people to build a sense of belonging to their local places and community; and create a new kind of city-making narrative — one that includes people on the margin. Julia has taught and practiced architecture, placemaking and urban design in New York, Auckland, Hanoi and Sydney, building an extensive knowledge of various communities; and urban spaces that support or neglect them. In 2017, Julia was awarded Westpac Social Change Fellowship and has been backed by Westpac Bicentennial Foundation.</p> <p>Is top-down urban development killing our spirit, our innate ability to self-organise and improve our own lives and places? Julia spent her formative years in a 5,500-unit masterplanned ‘village’ in Seoul, seen neighbourliness shine in post-earthquake Christchurch, and worked with incredibly talented people who are experiencing homelessness and isolation in Sydney. To build community resilience, social trust and employment pathways, her bottom-up social enterprise Small Shift supports locals to reimagine and create public spaces together. Learn more about how she is taking the Small Shift model to disadvantaged areas, and contribute your thoughts on how we can create inclusive communities.</p> <p>**Bronte Hogarth - Founder of Raise The Bar**<br/>Bronte Hogarth is a social entrepreneur from Sydney. In 2017, she started Raise The Bar which diverts used coffee grounds from landfill by turning them into natural skincare products. Bronte recently completed a successful crowdfunding campaign to launch Raise The Bar and was one of the Foundation For Young Australian\\'s Young Social Pioneers in 2017.</p> <p>Bronte will share some of her journey with starting Raise The Bar.</p> <p>**Kath Hamilton - Founder of loop+**<br/>Kath has 15+ years experience as a digital executive leading product, engineering, business development and marketing. Her extensive experience with blue-chip corporates such as Yahoo!7, News Corp, Telstra and Westfield now combines with her passion to build products that can radically improve the lives of others. loop+ was conceived to support the functional recovery of her nephew who sustained a spinal cord injury at birth.</p> <p>loop+ is an activity tracker for wheelchair users that monitors health risks in everyday life. The platform is comprised of a sensor pad which remains in the wheelchair connected to a mobile app and dashboard for remote clinical monitoring. For the first time, wheelchair users who either can’t feel their lower limbs or are non-verbal and unable to communicate their discomfort, have a way to visualise what’s going on with their body. Remote monitoring supports early detection and intervention of pressure wounds, respiratory issues and scoliosis.</p> <p>**Ben Pecotich - Founder/Design &amp; Innovation Director of Dynamic4**<br/>Ben is a designer, innovation coach, and social enterprise founder. In addition to Dynamic4, he\\'s the CTO &amp; co-founder of Better Goals (<a href=\"http://bettergoals.com.au\" class=\"linkified\">http://bettergoals.com.au</a>), a social enterprise helping people with intellectual disability develop more independence. He\\'s also a founder of the Sydney Design Thinking meetup.</p> <p>Dynamic4 (<a href=\"https://dynamic4.com\" class=\"linkified\">https://dynamic4.com</a>) is a purpose-driven design &amp; innovation company, and certified B Corp. They collaborate with people to design and build ideas for happier communities that are more empowered, inclusive, and sustainable. Jetpack for Changemakers (<a href=\"https://dynamic4.com/jetpack\" class=\"linkified\">https://dynamic4.com/jetpack</a>) is Dynamic4\\'s coaching/incubator program for early stage social enterprises.</p> <p>EVENT SPONSOR<br/>Thanks to ThoughtWorks Sydney for hosting us and providing refreshments.</p> ', 'waitlist_count': 50, 'rsvp_limit': 120, 'id': '249478643', 'created': 1522975175000, 'updated': 1539084625000, 'how_to_find_us': 'Where all the buses are at Wynyard train station'}\n",
      "{'name': 'ThoughtWorks', 'repinned': True, 'city': 'Sydney', 'address_1': 'Level 10, 50 Carrington Street', 'lon': 151.2065887451172, 'id': 25702956, 'localized_country_name': 'Australia', 'lat': -33.866329193115234, 'country': 'au'}\n",
      "{'duration': 5400000, 'name': 'Casual Get Together Over Coffee, Tea or Brunch', 'status': 'upcoming', 'venue': {'name': 'UPPERROOM RESTCAFE', 'repinned': False, 'city': 'Sydney', 'address_1': '220 Pitt Street', 'lon': 151.2082977294922, 'id': 24154967, 'localized_country_name': 'Australia', 'lat': -33.87184143066406, 'country': 'au'}, 'visibility': 'public_limited', 'local_date': '2018-10-18', 'group': {'who': 'friends', 'name': 'Depression Anxiety Sydney', 'urlname': 'Depression-Anxiety-Sydney', 'region': 'en_US', 'lon': 151.2100067138672, 'id': 10312802, 'created': 1379459689000, 'localized_location': 'Sydney, Australia', 'lat': -33.869998931884766, 'join_mode': 'open', 'timezone': 'Australia/Sydney'}, 'link': 'https://www.meetup.com/Depression-Anxiety-Sydney/events/xfmvtpyxnbxb/', 'local_time': '11:00', 'yes_rsvp_count': 3, 'utc_offset': 39600000, 'description': \"<p>This is a daytime occasion for members who can attend and it's held in the city about 2 minutes walk from Town Hall Station.</p> <p>At this stage this will be a self-run meetup for members and guests. RSVP only if you are really going to attend. Any member wishing to host the meetup on a regular basis is welcome to approach the group organizers and indicate their interest.</p> <p>Come out and meet with like-minded people where you can be yourself without fear of judgement. We have all been through the same stuff! Discussion is encouraged with the aim of helping each other work through what's troubling you.</p> \", 'waitlist_count': 0, 'id': 'xfmvtpyxnbxb', 'time': 1539820800000, 'created': 1528439251000, 'updated': 1528439251000, 'how_to_find_us': 'Look for other group members whose photos appear on on this meetup page.'}\n",
      "{'name': 'UPPERROOM RESTCAFE', 'repinned': False, 'city': 'Sydney', 'address_1': '220 Pitt Street', 'lon': 151.2082977294922, 'id': 24154967, 'localized_country_name': 'Australia', 'lat': -33.87184143066406, 'country': 'au'}\n",
      "{'duration': 7200000, 'name': 'October Serverless Meetup, Sydney', 'status': 'upcoming', 'venue': {'name': 'Versent', 'repinned': True, 'city': 'Sydney', 'address_1': \"Level 6, 6-10 O'Connell Street\", 'lon': 151.210205078125, 'id': 25861753, 'localized_country_name': 'Australia', 'lat': -33.8651123046875, 'country': 'au'}, 'visibility': 'public', 'local_date': '2018-10-18', 'group': {'who': 'Members', 'name': 'Sydney Serverless Meetup Group', 'urlname': 'Sydney-Serverless-Meetup-Group', 'region': 'en_US', 'lon': 151.2100067138672, 'id': 19672958, 'created': 1457322583000, 'localized_location': 'Sydney, Australia', 'lat': -33.869998931884766, 'join_mode': 'open', 'timezone': 'Australia/Sydney'}, 'time': 1539846000000, 'link': 'https://www.meetup.com/Sydney-Serverless-Meetup-Group/events/251003001/', 'local_time': '18:00', 'yes_rsvp_count': 67, 'utc_offset': 39600000, 'description': '<p>Speak details are in:<br/>Rowan Udell will be doing the first talk - details to follow shortly.</p> <p>Simon Waight is the 2nd speaker for the night:<br/>Azure Serverless for Java Developers<br/>Come along and learn how to write, deploy and debug Java-based Azure Functions with the new v2 Azure Functions runtime. Learn about how you can build your own custom bindings for Functions to increase their utility in your environment.<br/>You can check out Simon\\'s bio here: <a href=\"https://blog.siliconvalve.com/speaker-bio/\" class=\"linkified\">https://blog.siliconvalve.com/speaker-bio/</a></p> <p>This months Serverless meetup will be hosted at Versent.</p> ', 'waitlist_count': 0, 'rsvp_limit': 95, 'id': '251003001', 'created': 1526949412000, 'updated': 1536914000000, 'how_to_find_us': 'Take the elevator up to level 6.'}\n",
      "{'name': 'Versent', 'repinned': True, 'city': 'Sydney', 'address_1': \"Level 6, 6-10 O'Connell Street\", 'lon': 151.210205078125, 'id': 25861753, 'localized_country_name': 'Australia', 'lat': -33.8651123046875, 'country': 'au'}\n",
      "{'duration': 9000000, 'name': 'Ruby on Rails Development Hub', 'status': 'upcoming', 'venue': {'name': 'Airtasker', 'repinned': False, 'city': 'Sydney', 'address_1': 'Level 3, 71 York St', 'lon': 151.2057342529297, 'id': 25791855, 'localized_country_name': 'Australia', 'lat': -33.86824417114258, 'country': 'au'}, 'visibility': 'public', 'local_date': '2018-10-18', 'group': {'who': 'Rubyists', 'name': 'Ruby on Rails Oceania Sydney', 'urlname': 'Ruby-On-Rails-Oceania-Sydney', 'region': 'en_US', 'lon': 151.2100067138672, 'id': 7610932, 'created': 1363232178000, 'localized_location': 'Sydney, Australia', 'lat': -33.869998931884766, 'join_mode': 'open', 'timezone': 'Australia/Sydney'}, 'time': 1539846000000, 'link': 'https://www.meetup.com/Ruby-On-Rails-Oceania-Sydney/events/wpttwpyxnbxb/', 'local_time': '18:00', 'yes_rsvp_count': 32, 'utc_offset': 39600000, 'description': '<p>What is it?</p> <p>This is a monthly Meetup event sponsored by reinteractive (<a href=\"http://www.reinteractive.net/\" class=\"linkified\">http://www.reinteractive.net/</a>) and Airtasker (<a href=\"https://www.airtasker.com\" class=\"linkified\">https://www.airtasker.com</a>), where you can bring along your laptop and get coding!</p> <p>No matter what your experience, from beginner to expert, professional Developers from the Community will be there to help you with whatever difficulty you are running into. Whether it be working through a step by step Rails tutorials, improving your app, or code writing tips, we\\'ll be there to help you take your skills to the next level.</p> <p>Who can Attend?</p> <p>Anyone can attend the DevelopmentHub. From complete beginners to experienced users of Ruby on Rails, we welcome anyone who wants to come along to improve your Ruby on Rails skills or get advice on the Rails application of your dreams.</p> <p>For those of you who are fresh graduates of the InstallFest Meetup or have completed the first (<a href=\"http://railsinstallfest.org/guides/installfest/getting_started/\" class=\"linkified\">http://railsinstallfest.org/guides/installfest/getting_started/</a>) and second (<a href=\"http://railsinstallfest.org/guides/installfest/testing_the_blog/\" class=\"linkified\">http://railsinstallfest.org/guides/installfest/testing_the_blog/</a>) InstallFest blog posts in your own time, Community mentors will help walk you through the next series of articles to continue to develop your Ruby on Rails learning experience step by step.</p> <p>If you do not yet have a Rails development environment set up on your laptop, you might prefer to attend an InstallFest first. You can register for the next event here (<a href=\"https://www.meetup.com/Ruby-On-Rails-Oceania-Sydney/events/244271091/\" class=\"linkified\">https://www.meetup.com/Ruby-On-Rails-Oceania-Sydney/events/244271091/</a>).</p> <p>What does it cost?</p> <p>Nothing :) It\\'s free!</p> <p>Will there be food?</p> <p>Yes, we are organising pizza and drinks for you to enjoy while you are working on tough Ruby on Rails problems!</p> <p>I\\'m a professional Rails Developer, can I help mentor?</p> <p>Yes, we are always looking for experts to come along and help. Just send us an email (training@reinteractive.net) or RSVP to let us know you\\'d like to come along.</p> <p>What have previous attendees said about Development Hub?</p> <p>“Very impressed with the way it was run, gained invaluable experience.” - Jurgens Smit (<a href=\"http://www.meetup.com/Ruby-On-Rails-Oceania-Sydney/members/91585442/\" class=\"linkified\">http://www.meetup.com/Ruby-On-Rails-Oceania-Sydney/members/91585442/</a>)</p> <p>“It’s really good and quite surprising that they do it for free” - Rudy Lee (<a href=\"http://www.meetup.com/Ruby-On-Rails-Oceania-Sydney/members/29671012/\" class=\"linkified\">http://www.meetup.com/Ruby-On-Rails-Oceania-Sydney/members/29671012/</a>)</p> <p>“Enjoyed the opportunity to build on the intro to Ruby on Rails provided at Installfest. It was great to get expert help regarding issues I had working through the subsequent reInteractive blogs. Solving the issues would have been much harder without the assistance of Mikel and his team.” - Eddie Gock (<a href=\"http://www.meetup.com/Ruby-On-Rails-Oceania-Sydney/members/88708892/\" class=\"linkified\">http://www.meetup.com/Ruby-On-Rails-Oceania-Sydney/members/88708892/</a>)</p> <p>\"That was great. I did some more coding afterwards and just the couple of questions I had answered made me more confident of my coding and happier it was going in the right direction. Very helpful. Thanks everyone.\" - Glenn Morrow (<a href=\"http://www.meetup.com/Ruby-On-Rails-Oceania-Sydney/members/92710342/\" class=\"linkified\">http://www.meetup.com/Ruby-On-Rails-Oceania-Sydney/members/92710342/</a>)</p> ', 'waitlist_count': 0, 'rsvp_limit': 80, 'id': 'wpttwpyxnbxb', 'created': 1530166235000, 'updated': 1538024492000}\n",
      "{'name': 'Airtasker', 'repinned': False, 'city': 'Sydney', 'address_1': 'Level 3, 71 York St', 'lon': 151.2057342529297, 'id': 25791855, 'localized_country_name': 'Australia', 'lat': -33.86824417114258, 'country': 'au'}\n",
      "{'duration': 9900000, 'name': 'eCommerce Friday Night Pitches', 'status': 'upcoming', 'venue': {'name': 'Fishburners', 'repinned': True, 'city': 'Sydney', 'address_1': 'Level 2/3 11-31 York St,', 'lon': 151.20526123046875, 'id': 25668721, 'localized_country_name': 'Australia', 'lat': -33.86531066894531, 'country': 'au'}, 'visibility': 'public', 'local_date': '2018-10-19', 'group': {'who': 'Entrepreneurs', 'name': 'Fishburners Meetup', 'urlname': 'Fishburners-Meetup', 'region': 'en_US', 'lon': 151.2100067138672, 'id': 17306242, 'created': 1412058644000, 'localized_location': 'Sydney, Australia', 'lat': -33.869998931884766, 'join_mode': 'open', 'timezone': 'Australia/Sydney'}, 'link': 'https://www.meetup.com/Fishburners-Meetup/events/cgglfqyxnbzb/', 'local_time': '17:15', 'yes_rsvp_count': 47, 'utc_offset': 39600000, 'description': \"<p>Every Friday night from 5:15pm, Fishburners opens its doors to host startup community pitches and networking!</p> <p>If you're looking for inspiration to start a business, learn some pitch tips or just find out what new tech startups are happening in Sydney, this event is for you.</p> <p>Please note that Fishburners values inclusive communities and all events hosted here are governed by our community code of conduct. This stems from our desire to run a productive and valuable night for our founders and all attendees where everyone feels safe and welcome to attend, bring friends, meet new people, and enjoy the start up landscape.</p> <p>To make sure we have the best environment in support of this, in cases where someone is detracting from this goal they may be asked to leave for excessive drinking, antisocial behaviour, speaking during the pitches or disengagement with the purpose of the night. If any issues arise that make you feel uncomfortable please don’t hesitate to come and speak to one of the team.</p> <p>We hope that by this everyone will enjoy an even more energetic and exciting event, continuing to grow in numbers as we focus all our considerable resources on growing and supporting the skills and passions of us all in the start up industry.</p> <p>The event schedule for Friday Night Pitches is as follows:</p> <p>• 5:15PM: Networking &amp; drinks</p> <p>• 5:30PM: Pitches begin. Grab a seat! No talking during this time :)</p> <p>• 6:30PM-8PM (approx.): Networking</p> <p>• 8PM: Event concludes</p> <p>See you soon!</p> \", 'waitlist_count': 0, 'id': 'cgglfqyxnbzb', 'time': 1539929700000, 'created': 1518060109000, 'updated': 1538539543000, 'how_to_find_us': 'Come up to Level 3 in the lifts'}\n",
      "{'name': 'Fishburners', 'repinned': True, 'city': 'Sydney', 'address_1': 'Level 2/3 11-31 York St,', 'lon': 151.20526123046875, 'id': 25668721, 'localized_country_name': 'Australia', 'lat': -33.86531066894531, 'country': 'au'}\n",
      "{'duration': 16200000, 'name': 'HIDDEN BEHIND CITY OFFICES', 'status': 'upcoming', 'visibility': 'public', 'local_date': '2018-10-20', 'group': {'who': 'Art Enthusiasts', 'name': 'Sydney Sketch Club', 'urlname': 'art-494', 'region': 'en_US', 'lon': 151.2100067138672, 'id': 1248488, 'created': 1218081176000, 'localized_location': 'Sydney, Australia', 'lat': -33.869998931884766, 'join_mode': 'open', 'timezone': 'Australia/Sydney'}, 'link': 'https://www.meetup.com/art-494/events/254476603/', 'local_time': '09:30', 'yes_rsvp_count': 31, 'utc_offset': 39600000, 'description': '<p>Note the earlier start time</p> <p>WHERE TO FIND US</p> <p>Meet at the fabulous mural beside “Blaq Piq” Café, 11 Alberta Street (corner of Clarke Street), Sydney CBD – see photos</p> <p>WHAT IS THERE TO DRAW</p> <p>Grungy alleyways, perspective of tall buildings, and a breath of fresh air via the colourful courtyard mural of an open-air café.<br/>TRANSPORT</p> <p>Closest train station is Museum, or if travelling by bus get out the stop closest to the Downing Centre, corner of Elizabeth and Liverpool Streets and go down a small street beside “The Canopy” called Nithsdale Street and then into Clarke Street (refer to your google map</p> <p>LUNCH</p> <p>… will be at the Blaq Piq - I highly recommend the pandan pancakes !! Menu: <a href=\"https://www.zomato.com/sydney/blaq-piq-cbd/menu\" class=\"linkified\">https://www.zomato.com/sydney/blaq-piq-cbd/menu</a></p> <p>Jennifer’s contact if required on the day<br/>0413 45 25 15<br/>............................<br/>There will be NO dollar charge this weekend !</p> <p>DISCLAIMER. Please note that Jennifer as volunteer organiser of activities for Sydney Sketch Club is not responsible for the health or safety of members [and their guests] and therefore will not accept any liability for accidents or injuries that may occur during Meetup events at any location, whether outside in public areas or inside commercial venues. By attending any Sydney Sketch Club event you acknowledge that you accept all of the above.</p> ', 'waitlist_count': 0, 'id': '254476603', 'time': 1539988200000, 'created': 1536328037000, 'updated': 1536328037000}\n",
      "error key not found\n",
      "{'duration': 14400000, 'name': 'Competitive Programming Fortnightly Meetup', 'status': 'upcoming', 'venue': {'name': 'General Assembly Sydney', 'repinned': True, 'city': 'Sydney', 'address_1': '1 Market Street (Entrance off Kent Street)', 'lon': 151.20457458496094, 'id': 25573905, 'localized_country_name': 'Australia', 'lat': -33.87124252319336, 'country': 'au'}, 'visibility': 'public', 'local_date': '2018-10-20', 'group': {'who': 'Programmers', 'name': 'Sydney Competitive Programming Meetup', 'urlname': 'Sydney-Competitive-Programming-Meetup', 'region': 'en_US', 'lon': 151.2100067138672, 'id': 29227222, 'created': 1531450698000, 'localized_location': 'Sydney, Australia', 'lat': -33.869998931884766, 'join_mode': 'open', 'timezone': 'Australia/Sydney'}, 'link': 'https://www.meetup.com/Sydney-Competitive-Programming-Meetup/events/qrcjgqyxnbbc/', 'local_time': '12:00', 'yes_rsvp_count': 7, 'utc_offset': 39600000, 'description': \"<p>Welcome to our meetup!</p> <p>Special thanks to General Assembly, who've offered up some space at their campus to run our meetup, as we now have a home to host our events.</p> <p>As this is a new group, the meetup structure will be pretty dynamic to start with. This is a chance for you to help shape what you want from this meetup and how you think it is best run! So please give us your feedback and we develop a structure that's best for us all.</p> <p>What you can expect from the event is:</p> <p>1. MICRO-TALK &amp; INTRODUCTION: We will start the event with an introduction to the coordinators, discuss the rules and introduce the challenges for the day. In the future we will be getting the community to present on things such as their favourite packages, design practices and quirks of certain languages.</p> <p>2. MICRO-HACKATHON: Next we will split off and begin to develop our solutions. You can work on your own, or band together into teams to solve problems together.</p> <p>3. PRESENTATIONS &amp; NETWORKING: Finally we will present our solutions to one another, crown a winner and come together to meet and chat. This is a social meetup remember!</p> <p>You will need to bring with you your own laptop, but we are happy to help you set up your development environment for newbies. This event is for all skill levels. Don't feel intimidated if you are new to coding!</p> <p>ABOUT OUR PARTNER<br/>========================</p> <p>General Assembly is a pioneer in education and career transformation, specializing in today’s most in-demand skills. The leading source for training, staffing, and career transitions, we foster a flourishing community of professionals pursuing careers they love.</p> \", 'waitlist_count': 0, 'id': 'qrcjgqyxnbbc', 'time': 1539997200000, 'created': 1536283389000, 'updated': 1537435851000}\n",
      "{'name': 'General Assembly Sydney', 'repinned': True, 'city': 'Sydney', 'address_1': '1 Market Street (Entrance off Kent Street)', 'lon': 151.20457458496094, 'id': 25573905, 'localized_country_name': 'Australia', 'lat': -33.87124252319336, 'country': 'au'}\n"
     ]
    }
   ],
   "source": [
    "for met in range(0, meetlen):\n",
    "    try:\n",
    "        print(reqjs[met])\n",
    "        print(reqjs[met]['venue'])\n",
    "    except KeyError:\n",
    "        #pass\n",
    "        print('error key not found')"
   ]
  },
  {
   "cell_type": "code",
   "execution_count": 78,
   "metadata": {
    "collapsed": false
   },
   "outputs": [
    {
     "name": "stdout",
     "output_type": "stream",
     "text": [
      "{'name': 'Airtasker', 'repinned': True, 'city': 'Sydney', 'address_1': 'Level 3, 71 York St', 'lon': 151.2057342529297, 'id': 25791855, 'localized_country_name': 'Australia', 'lat': -33.86824417114258, 'country': 'au'}\n"
     ]
    }
   ],
   "source": [
    "print(reqjs[0]['venue'])"
   ]
  },
  {
   "cell_type": "code",
   "execution_count": 83,
   "metadata": {
    "collapsed": true
   },
   "outputs": [],
   "source": [
    "import arrow"
   ]
  },
  {
   "cell_type": "code",
   "execution_count": 84,
   "metadata": {
    "collapsed": true
   },
   "outputs": [],
   "source": [
    "timnow = arrow.now()"
   ]
  },
  {
   "cell_type": "code",
   "execution_count": 88,
   "metadata": {
    "collapsed": false
   },
   "outputs": [
    {
     "name": "stdout",
     "output_type": "stream",
     "text": [
      "2018-10-10 05:50:24.110369+00:00\n"
     ]
    }
   ],
   "source": [
    "print(timnow.datetime)"
   ]
  },
  {
   "cell_type": "code",
   "execution_count": 98,
   "metadata": {
    "collapsed": false
   },
   "outputs": [],
   "source": [
    "def createfutloc(customer_id):\n",
    "    return(dict({'customer_id' : customer_id, 'name' : reqjs[0]['venue']['name'], 'address' : reqjs[0]['venue']['address_1'] +  ' ' + reqjs[0]['venue']['city'] + ' ' + reqjs[0]['venue']['localized_country_name'], 'seen_at' : str(timnow.datetime)}))"
   ]
  },
  {
   "cell_type": "code",
   "execution_count": 99,
   "metadata": {
    "collapsed": false
   },
   "outputs": [
    {
     "data": {
      "text/plain": [
       "{'address': 'Level 3, 71 York St Sydney Australia',\n",
       " 'customer_id': 'hammers@gmail.com',\n",
       " 'name': 'Airtasker',\n",
       " 'seen_at': '2018-10-10 05:50:24.110369+00:00'}"
      ]
     },
     "execution_count": 99,
     "metadata": {},
     "output_type": "execute_result"
    }
   ],
   "source": [
    "createfutloc('hammers@gmail.com')"
   ]
  },
  {
   "cell_type": "code",
   "execution_count": null,
   "metadata": {
    "collapsed": true
   },
   "outputs": [],
   "source": []
  },
  {
   "cell_type": "code",
   "execution_count": null,
   "metadata": {
    "collapsed": true
   },
   "outputs": [],
   "source": []
  },
  {
   "cell_type": "code",
   "execution_count": null,
   "metadata": {
    "collapsed": true
   },
   "outputs": [],
   "source": []
  },
  {
   "cell_type": "code",
   "execution_count": null,
   "metadata": {
    "collapsed": true
   },
   "outputs": [],
   "source": []
  },
  {
   "cell_type": "code",
   "execution_count": null,
   "metadata": {
    "collapsed": true
   },
   "outputs": [],
   "source": [
    "  {\n",
    "    \"customer_id\": \"00:14:22:01:23:45\",\n",
    "    \"venue_id\": \"FJHKL334\",\n",
    "    \"name\": \"Level 1\",\n",
    "    \"address\": \"3 Drewberry Lane\",\n",
    "    \"seen_at\": \"2017-11-29T08:09:57Z\"\n",
    "  }"
   ]
  },
  {
   "cell_type": "code",
   "execution_count": 79,
   "metadata": {
    "collapsed": false
   },
   "outputs": [
    {
     "ename": "KeyError",
     "evalue": "''",
     "output_type": "error",
     "traceback": [
      "\u001b[0;31m---------------------------------------------------------------------------\u001b[0m",
      "\u001b[0;31mKeyError\u001b[0m                                  Traceback (most recent call last)",
      "\u001b[0;32m<ipython-input-79-c21a863fd78f>\u001b[0m in \u001b[0;36m<module>\u001b[0;34m()\u001b[0m\n\u001b[0;32m----> 1\u001b[0;31m \u001b[0mreqjs\u001b[0m\u001b[0;34m[\u001b[0m\u001b[0;36m0\u001b[0m\u001b[0;34m]\u001b[0m\u001b[0;34m[\u001b[0m\u001b[0;34m'venue'\u001b[0m\u001b[0;34m]\u001b[0m\u001b[0;34m[\u001b[0m\u001b[0;34m''\u001b[0m\u001b[0;34m]\u001b[0m\u001b[0;34m\u001b[0m\u001b[0m\n\u001b[0m",
      "\u001b[0;31mKeyError\u001b[0m: ''"
     ]
    }
   ],
   "source": [
    "reqjs[0]['venue']['']"
   ]
  },
  {
   "cell_type": "code",
   "execution_count": 108,
   "metadata": {
    "collapsed": false
   },
   "outputs": [],
   "source": [
    "import getmac"
   ]
  },
  {
   "cell_type": "code",
   "execution_count": 121,
   "metadata": {
    "collapsed": true
   },
   "outputs": [],
   "source": [
    "import sqlite3"
   ]
  },
  {
   "cell_type": "code",
   "execution_count": 122,
   "metadata": {
    "collapsed": false
   },
   "outputs": [],
   "source": [
    "connid = sqlite3.connect('identity.db')"
   ]
  },
  {
   "cell_type": "code",
   "execution_count": 123,
   "metadata": {
    "collapsed": false
   },
   "outputs": [
    {
     "ename": "NameError",
     "evalue": "name 'first_name' is not defined",
     "output_type": "error",
     "traceback": [
      "\u001b[0;31m---------------------------------------------------------------------------\u001b[0m",
      "\u001b[0;31mNameError\u001b[0m                                 Traceback (most recent call last)",
      "\u001b[0;32m<ipython-input-123-0777da33ac1d>\u001b[0m in \u001b[0;36m<module>\u001b[0;34m()\u001b[0m\n\u001b[1;32m      6\u001b[0m \u001b[0;34m\u001b[0m\u001b[0m\n\u001b[1;32m      7\u001b[0m \u001b[0;31m# Insert a row of data\u001b[0m\u001b[0;34m\u001b[0m\u001b[0;34m\u001b[0m\u001b[0m\n\u001b[0;32m----> 8\u001b[0;31m \u001b[0mc\u001b[0m\u001b[0;34m.\u001b[0m\u001b[0mexecute\u001b[0m\u001b[0;34m(\u001b[0m\u001b[0;34m\"INSERT INTO identify VALUES ('{}','{}','{}', '{}', '{}', '{}')\"\u001b[0m\u001b[0;34m.\u001b[0m\u001b[0mformat\u001b[0m\u001b[0;34m(\u001b[0m\u001b[0mfirst_name\u001b[0m\u001b[0;34m,\u001b[0m \u001b[0mlast_name\u001b[0m\u001b[0;34m,\u001b[0m \u001b[0memail\u001b[0m\u001b[0;34m,\u001b[0m \u001b[0mbirthdate\u001b[0m\u001b[0;34m,\u001b[0m \u001b[0mgender\u001b[0m\u001b[0;34m,\u001b[0m \u001b[0mmarketing_consent\u001b[0m\u001b[0;34m)\u001b[0m\u001b[0;34m)\u001b[0m\u001b[0;34m\u001b[0m\u001b[0m\n\u001b[0m\u001b[1;32m      9\u001b[0m \u001b[0;34m\u001b[0m\u001b[0m\n\u001b[1;32m     10\u001b[0m \u001b[0;31m# Save (commit) the changes\u001b[0m\u001b[0;34m\u001b[0m\u001b[0;34m\u001b[0m\u001b[0m\n",
      "\u001b[0;31mNameError\u001b[0m: name 'first_name' is not defined"
     ]
    }
   ],
   "source": [
    "c = connid.cursor()\n",
    "\n",
    "# Create table\n",
    "c.execute('''CREATE TABLE identify\n",
    "             (first_name, last_name, email, birthdate, gender, marketing_consent)''')\n",
    "\n",
    "# Insert a row of data\n",
    "c.execute(\"INSERT INTO identify VALUES ('{}','{}','{}', '{}', '{}', '{}')\".format(first_name, last_name, email, birthdate, gender, marketing_consent))\n",
    "\n",
    "# Save (commit) the changes\n",
    "connid.commit()\n",
    "\n",
    "# We can also close the connection if we are done with it.\n",
    "# Just be sure any changes have been committed or they will be lost.\n",
    "connid.close()"
   ]
  },
  {
   "cell_type": "code",
   "execution_count": 124,
   "metadata": {
    "collapsed": true
   },
   "outputs": [],
   "source": [
    "def createdb(namedb):\n",
    "    connid = sqlite3.connect('{}.db'.format(namedb))\n",
    "    c.execute('''CREATE TABLE identify\n",
    "             (first_name, last_name, email, birthdate, gender, marketing_consent)''')\n",
    "    connid.commit()\n",
    "    connid.close()\n",
    "    "
   ]
  },
  {
   "cell_type": "code",
   "execution_count": 126,
   "metadata": {
    "collapsed": false
   },
   "outputs": [
    {
     "name": "stderr",
     "output_type": "stream",
     "text": [
      "ERROR:root:An unexpected error occurred while tokenizing input\n",
      "The following traceback may be corrupted or invalid\n",
      "The error message is: ('EOF in multi-line string', (1, 81))\n",
      "\n"
     ]
    },
    {
     "ename": "OperationalError",
     "evalue": "table identify already exists",
     "output_type": "error",
     "traceback": [
      "\u001b[0;31m---------------------------------------------------------------------------\u001b[0m",
      "\u001b[0;31mOperationalError\u001b[0m                          Traceback (most recent call last)",
      "\u001b[0;32m<ipython-input-126-ed50444a16cb>\u001b[0m in \u001b[0;36m<module>\u001b[0;34m()\u001b[0m\n\u001b[0;32m----> 1\u001b[0;31m \u001b[0mcreatedb\u001b[0m\u001b[0;34m(\u001b[0m\u001b[0;34m'heo'\u001b[0m\u001b[0;34m)\u001b[0m\u001b[0;34m\u001b[0m\u001b[0m\n\u001b[0m",
      "\u001b[0;32m<ipython-input-124-b4c1457897fa>\u001b[0m in \u001b[0;36mcreatedb\u001b[0;34m(namedb)\u001b[0m\n\u001b[1;32m      2\u001b[0m     \u001b[0mconnid\u001b[0m \u001b[0;34m=\u001b[0m \u001b[0msqlite3\u001b[0m\u001b[0;34m.\u001b[0m\u001b[0mconnect\u001b[0m\u001b[0;34m(\u001b[0m\u001b[0;34m'{}.db'\u001b[0m\u001b[0;34m.\u001b[0m\u001b[0mformat\u001b[0m\u001b[0;34m(\u001b[0m\u001b[0mnamedb\u001b[0m\u001b[0;34m)\u001b[0m\u001b[0;34m)\u001b[0m\u001b[0;34m\u001b[0m\u001b[0m\n\u001b[1;32m      3\u001b[0m     c.execute('''CREATE TABLE identify\n\u001b[0;32m----> 4\u001b[0;31m              (first_name, last_name, email, birthdate, gender, marketing_consent)''')\n\u001b[0m\u001b[1;32m      5\u001b[0m     \u001b[0mconnid\u001b[0m\u001b[0;34m.\u001b[0m\u001b[0mcommit\u001b[0m\u001b[0;34m(\u001b[0m\u001b[0;34m)\u001b[0m\u001b[0;34m\u001b[0m\u001b[0m\n\u001b[1;32m      6\u001b[0m     \u001b[0mconnid\u001b[0m\u001b[0;34m.\u001b[0m\u001b[0mclose\u001b[0m\u001b[0;34m(\u001b[0m\u001b[0;34m)\u001b[0m\u001b[0;34m\u001b[0m\u001b[0m\n",
      "\u001b[0;31mOperationalError\u001b[0m: table identify already exists"
     ]
    }
   ],
   "source": [
    "createdb('heo')"
   ]
  },
  {
   "cell_type": "code",
   "execution_count": null,
   "metadata": {
    "collapsed": true
   },
   "outputs": [],
   "source": []
  },
  {
   "cell_type": "code",
   "execution_count": 127,
   "metadata": {
    "collapsed": true
   },
   "outputs": [],
   "source": [
    "def createsqprofile(first_name, last_name, email, marketing_consent, birthdate, gender):\n",
    "    connid = sqlite3.connect('identity.db')\n",
    "    c = connid.cursor()\n",
    "    c.execute(\"INSERT INTO identify VALUES ('{}','{}','{}', '{}', '{}', '{}')\".format(first_name, last_name, email, birthdate, gender, marketing_consent))\n",
    "    connid.commit()\n",
    "    connid.close()\n",
    "\n",
    "    #db.insert({'first_name' : first_name, 'last_name' : last_name, 'email' : email, 'marketing_consent' : marketing_consent, 'birthdate' : birthdate, 'gender' : gender})\n",
    "    #return('Hello {} {}. Your email is {}. Marketing opt is {}. Your birthdate is {} and you are a {}'.format(first_name, last_name, email, marketing_consent, birthdate, gender))\n",
    "    return({'first_name' : first_name, 'last_name' : last_name, 'email' : email, 'marketing_consent' : marketing_consent, 'birthdate' : birthdate, 'gender' : gender})"
   ]
  },
  {
   "cell_type": "code",
   "execution_count": 128,
   "metadata": {
    "collapsed": false
   },
   "outputs": [
    {
     "data": {
      "text/plain": [
       "{'birthdate': '1974-10-10',\n",
       " 'email': 'hammersmake@gmail.com',\n",
       " 'first_name': 'william',\n",
       " 'gender': 'male',\n",
       " 'last_name': 'mckee',\n",
       " 'marketing_consent': 'True'}"
      ]
     },
     "execution_count": 128,
     "metadata": {},
     "output_type": "execute_result"
    }
   ],
   "source": [
    "createsqprofile('william', 'mckee', 'hammersmake@gmail.com', 'True', '1974-10-10', 'male')"
   ]
  },
  {
   "cell_type": "code",
   "execution_count": null,
   "metadata": {
    "collapsed": true
   },
   "outputs": [],
   "source": []
  },
  {
   "cell_type": "code",
   "execution_count": null,
   "metadata": {
    "collapsed": true
   },
   "outputs": [],
   "source": [
    "def mkdatabspro((first_name, last_name, email, marketing_consent, birthdate, gender):"
   ]
  },
  {
   "cell_type": "code",
   "execution_count": null,
   "metadata": {
    "collapsed": true
   },
   "outputs": [],
   "source": [
    "conn = sqlite3.connect('example.db')\n",
    "c = conn.cursor()\n",
    "c.execute(\"INSERT INTO identify VALUES ('{}','William','Mckee','hammer@gmail.com', '1974-08-01', 'male', 'True')\".format(getmac.get_mac_address()))\n",
    "conn.commit()\n",
    "conn.close()"
   ]
  }
 ],
 "metadata": {
  "kernelspec": {
   "display_name": "Python 3",
   "language": "python",
   "name": "python3"
  },
  "language_info": {
   "codemirror_mode": {
    "name": "ipython",
    "version": 3
   },
   "file_extension": ".py",
   "mimetype": "text/x-python",
   "name": "python",
   "nbconvert_exporter": "python",
   "pygments_lexer": "ipython3",
   "version": "3.5.3"
  }
 },
 "nbformat": 4,
 "nbformat_minor": 2
}
