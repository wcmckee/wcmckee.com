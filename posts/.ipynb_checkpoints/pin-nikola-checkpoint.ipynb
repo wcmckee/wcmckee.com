{
 "cells": [
  {
   "cell_type": "markdown",
   "metadata": {},
   "source": [
    "Pin Nikola\n",
    "\n",
    "pinterest rss feed board parser. parse and retrieve url saving and creating data as json object. builds a Nikola static site with the data. "
   ]
  },
  {
   "cell_type": "code",
   "execution_count": 1,
   "metadata": {
    "collapsed": true
   },
   "outputs": [],
   "source": [
    "import requests\n",
    "#from flask import Flask, jsonify, abort\n",
    "import pickle\n",
    "#import pinata\n",
    "#from flask_restful import Resource, Api\n",
    "import getpass\n",
    "import xmltodict\n",
    "import json\n",
    "import arrow\n",
    "import os\n",
    "import bs4\n",
    "import PIL\n",
    "import shutil\n",
    "#from urlparse import urlparse\n",
    "#from PIL import Image\n"
   ]
  },
  {
   "cell_type": "code",
   "execution_count": 2,
   "metadata": {},
   "outputs": [],
   "source": [
    "timnow = arrow.now()"
   ]
  },
  {
   "cell_type": "code",
   "execution_count": 3,
   "metadata": {
    "collapsed": true
   },
   "outputs": [],
   "source": [
    "myusr = getpass.getuser()"
   ]
  },
  {
   "cell_type": "code",
   "execution_count": 4,
   "metadata": {
    "collapsed": true
   },
   "outputs": [],
   "source": [
    "#facereq = requests.get('https://api.zalando.com/facets')"
   ]
  },
  {
   "cell_type": "code",
   "execution_count": 5,
   "metadata": {},
   "outputs": [],
   "source": [
    "#facejs = facereq.json()"
   ]
  },
  {
   "cell_type": "code",
   "execution_count": 6,
   "metadata": {},
   "outputs": [],
   "source": [
    "#flen = len(facejs)"
   ]
  },
  {
   "cell_type": "code",
   "execution_count": 7,
   "metadata": {},
   "outputs": [],
   "source": [
    "#for fle in range(0, flen):\n",
    "#    print(facejs[fle]['filter'])\n",
    "#    \n",
    "#    face = (facejs[fle]['facets'])\n",
    "#    \n",
    "#    facelen = len(face)\n",
    "#    \n",
    "#    for fac in range(0, facelen):\n",
    "##        print(face[fac]['displayName'])\n",
    " #       \n",
    "#        print(face[fac]['key'])"
   ]
  },
  {
   "cell_type": "code",
   "execution_count": 8,
   "metadata": {
    "collapsed": true
   },
   "outputs": [],
   "source": [
    "reqhm = requests.get('https://pinterest.com/artctrl/feed.rss/')"
   ]
  },
  {
   "cell_type": "code",
   "execution_count": 9,
   "metadata": {},
   "outputs": [],
   "source": [
    "xmlpin = xmltodict.parse(reqhm.text)"
   ]
  },
  {
   "cell_type": "code",
   "execution_count": 10,
   "metadata": {
    "collapsed": true
   },
   "outputs": [],
   "source": [
    "itlen = len(xmlpin['rss']['channel']['item'])"
   ]
  },
  {
   "cell_type": "code",
   "execution_count": 11,
   "metadata": {},
   "outputs": [
    {
     "data": {
      "text/plain": [
       "25"
      ]
     },
     "execution_count": 11,
     "metadata": {},
     "output_type": "execute_result"
    }
   ],
   "source": [
    "itlen"
   ]
  },
  {
   "cell_type": "code",
   "execution_count": 12,
   "metadata": {
    "scrolled": true
   },
   "outputs": [
    {
     "ename": "FileNotFoundError",
     "evalue": "[Errno 2] No such file or directory: '/home/wcm/womenfashion.pickle'",
     "output_type": "error",
     "traceback": [
      "\u001b[0;31m---------------------------------------------------------------------------\u001b[0m",
      "\u001b[0;31mFileNotFoundError\u001b[0m                         Traceback (most recent call last)",
      "\u001b[0;32m<ipython-input-12-c427fe5ca178>\u001b[0m in \u001b[0;36m<module>\u001b[0;34m()\u001b[0m\n\u001b[0;32m----> 1\u001b[0;31m \u001b[0;32mwith\u001b[0m \u001b[0mopen\u001b[0m\u001b[0;34m(\u001b[0m\u001b[0;34m'/home/{}/womenfashion.pickle'\u001b[0m\u001b[0;34m.\u001b[0m\u001b[0mformat\u001b[0m\u001b[0;34m(\u001b[0m\u001b[0mmyusr\u001b[0m\u001b[0;34m)\u001b[0m\u001b[0;34m,\u001b[0m \u001b[0;34m'rb'\u001b[0m\u001b[0;34m)\u001b[0m \u001b[0;32mas\u001b[0m \u001b[0mhandle\u001b[0m\u001b[0;34m:\u001b[0m\u001b[0;34m\u001b[0m\u001b[0m\n\u001b[0m\u001b[1;32m      2\u001b[0m     \u001b[0mwomendic\u001b[0m \u001b[0;34m=\u001b[0m \u001b[0mpickle\u001b[0m\u001b[0;34m.\u001b[0m\u001b[0mload\u001b[0m\u001b[0;34m(\u001b[0m\u001b[0mhandle\u001b[0m\u001b[0;34m)\u001b[0m\u001b[0;34m\u001b[0m\u001b[0m\n\u001b[1;32m      3\u001b[0m \u001b[0;34m\u001b[0m\u001b[0m\n\u001b[1;32m      4\u001b[0m \u001b[0mprint\u001b[0m \u001b[0;34m(\u001b[0m\u001b[0mwomendic\u001b[0m\u001b[0;34m)\u001b[0m\u001b[0;34m\u001b[0m\u001b[0m\n",
      "\u001b[0;31mFileNotFoundError\u001b[0m: [Errno 2] No such file or directory: '/home/wcm/womenfashion.pickle'"
     ]
    }
   ],
   "source": [
    "with open('/home/{}/womenfashion.pickle'.format(myusr), 'rb') as handle:\n",
    "    womendic = pickle.load(handle)\n",
    "\n",
    "print (womendic)"
   ]
  },
  {
   "cell_type": "code",
   "execution_count": 13,
   "metadata": {},
   "outputs": [
    {
     "ename": "NameError",
     "evalue": "name 'womendic' is not defined",
     "output_type": "error",
     "traceback": [
      "\u001b[0;31m---------------------------------------------------------------------------\u001b[0m",
      "\u001b[0;31mNameError\u001b[0m                                 Traceback (most recent call last)",
      "\u001b[0;32m<ipython-input-13-431d9f41ab80>\u001b[0m in \u001b[0;36m<module>\u001b[0;34m()\u001b[0m\n\u001b[0;32m----> 1\u001b[0;31m \u001b[0mlen\u001b[0m\u001b[0;34m(\u001b[0m\u001b[0mwomendic\u001b[0m\u001b[0;34m)\u001b[0m\u001b[0;34m\u001b[0m\u001b[0m\n\u001b[0m",
      "\u001b[0;31mNameError\u001b[0m: name 'womendic' is not defined"
     ]
    }
   ],
   "source": [
    "len(womendic)"
   ]
  },
  {
   "cell_type": "code",
   "execution_count": 14,
   "metadata": {},
   "outputs": [],
   "source": [
    "dapatz = ('/home/{}/pin/'.format(myusr))"
   ]
  },
  {
   "cell_type": "code",
   "execution_count": 15,
   "metadata": {
    "collapsed": true
   },
   "outputs": [],
   "source": [
    "mylis = list()"
   ]
  },
  {
   "cell_type": "code",
   "execution_count": 16,
   "metadata": {
    "collapsed": true
   },
   "outputs": [],
   "source": [
    "startdic = dict()"
   ]
  },
  {
   "cell_type": "code",
   "execution_count": 17,
   "metadata": {
    "scrolled": false
   },
   "outputs": [
    {
     "name": "stdout",
     "output_type": "stream",
     "text": [
      "\"Raspberry Pi Superco\"\n",
      "751678994027877238\n",
      "https://i.pinimg.com/236x/cb/39/4f/cb394f98b320a5910868dce7b1b0b4e3--raspberry-pi-computer-engineers.jpg\n",
      "https://www.pinterest.com/pin/751678994027877238/\n"
     ]
    },
    {
     "name": "stderr",
     "output_type": "stream",
     "text": [
      "/usr/lib/python3/dist-packages/bs4/__init__.py:181: UserWarning: No parser was explicitly specified, so I'm using the best available HTML parser for this system (\"lxml\"). This usually isn't a problem, but if you run this code on another system, or in a different virtual environment, it may use a different parser and behave differently.\n",
      "\n",
      "The code that caused this warning is on line 193 of the file /usr/lib/python3.5/runpy.py. To get rid of this warning, change code that looks like this:\n",
      "\n",
      " BeautifulSoup([your markup])\n",
      "\n",
      "to this:\n",
      "\n",
      " BeautifulSoup([your markup], \"lxml\")\n",
      "\n",
      "  markup_type=markup_type))\n"
     ]
    },
    {
     "name": "stdout",
     "output_type": "stream",
     "text": [
      "0\n"
     ]
    },
    {
     "ename": "NameError",
     "evalue": "name 'womendic' is not defined",
     "output_type": "error",
     "traceback": [
      "\u001b[0;31m---------------------------------------------------------------------------\u001b[0m",
      "\u001b[0;31mNameError\u001b[0m                                 Traceback (most recent call last)",
      "\u001b[0;32m<ipython-input-17-1d320034f431>\u001b[0m in \u001b[0;36m<module>\u001b[0;34m()\u001b[0m\n\u001b[1;32m     34\u001b[0m     \u001b[0mprint\u001b[0m\u001b[0;34m(\u001b[0m\u001b[0murlmet\u001b[0m\u001b[0;34m[\u001b[0m\u001b[0;34m'content'\u001b[0m\u001b[0;34m]\u001b[0m\u001b[0;34m)\u001b[0m\u001b[0;34m\u001b[0m\u001b[0m\n\u001b[1;32m     35\u001b[0m \u001b[0;34m\u001b[0m\u001b[0m\n\u001b[0;32m---> 36\u001b[0;31m     \u001b[0mwomendic\u001b[0m\u001b[0;34m.\u001b[0m\u001b[0mupdate\u001b[0m\u001b[0;34m(\u001b[0m\u001b[0;34m{\u001b[0m\u001b[0mpinnor\u001b[0m \u001b[0;34m:\u001b[0m \u001b[0mdict\u001b[0m\u001b[0;34m(\u001b[0m\u001b[0;34m{\u001b[0m\u001b[0;34m'id'\u001b[0m \u001b[0;34m:\u001b[0m \u001b[0mpinnor\u001b[0m\u001b[0;34m,\u001b[0m \u001b[0;34m'image'\u001b[0m \u001b[0;34m:\u001b[0m \u001b[0mprep\u001b[0m\u001b[0;34m,\u001b[0m \u001b[0;34m'url'\u001b[0m \u001b[0;34m:\u001b[0m \u001b[0murlmet\u001b[0m\u001b[0;34m[\u001b[0m\u001b[0;34m'content'\u001b[0m\u001b[0;34m]\u001b[0m\u001b[0;34m,\u001b[0m \u001b[0;34m'pinurl'\u001b[0m \u001b[0;34m:\u001b[0m \u001b[0mfinpinurl\u001b[0m\u001b[0;34m}\u001b[0m\u001b[0;34m)\u001b[0m\u001b[0;34m}\u001b[0m\u001b[0;34m)\u001b[0m\u001b[0;34m\u001b[0m\u001b[0m\n\u001b[0m\u001b[1;32m     37\u001b[0m     \u001b[0mstartdic\u001b[0m\u001b[0;34m.\u001b[0m\u001b[0mupdate\u001b[0m\u001b[0;34m(\u001b[0m\u001b[0;34m{\u001b[0m\u001b[0mpinnor\u001b[0m \u001b[0;34m:\u001b[0m \u001b[0mdict\u001b[0m\u001b[0;34m(\u001b[0m\u001b[0;34m{\u001b[0m\u001b[0;34m'id'\u001b[0m \u001b[0;34m:\u001b[0m \u001b[0mpinnor\u001b[0m\u001b[0;34m,\u001b[0m \u001b[0;34m'image'\u001b[0m \u001b[0;34m:\u001b[0m \u001b[0mprep\u001b[0m\u001b[0;34m,\u001b[0m \u001b[0;34m'url'\u001b[0m \u001b[0;34m:\u001b[0m \u001b[0murlmet\u001b[0m\u001b[0;34m[\u001b[0m\u001b[0;34m'content'\u001b[0m\u001b[0;34m]\u001b[0m\u001b[0;34m,\u001b[0m \u001b[0;34m'pinurl'\u001b[0m \u001b[0;34m:\u001b[0m \u001b[0mfinpinurl\u001b[0m\u001b[0;34m}\u001b[0m\u001b[0;34m)\u001b[0m\u001b[0;34m}\u001b[0m\u001b[0;34m)\u001b[0m\u001b[0;34m\u001b[0m\u001b[0m\n\u001b[1;32m     38\u001b[0m     \u001b[0;31m#for req in reqa:\u001b[0m\u001b[0;34m\u001b[0m\u001b[0;34m\u001b[0m\u001b[0m\n",
      "\u001b[0;31mNameError\u001b[0m: name 'womendic' is not defined"
     ]
    }
   ],
   "source": [
    "for itl in range(0, itlen):\n",
    "    print(json.dumps(xmlpin['rss']['channel']['item'][itl]['title']))\n",
    "    pinlink = (json.dumps(xmlpin['rss']['channel']['item'][itl]['link']))\n",
    "    pids =(pinlink.replace('https://www.pinterest.com/pin/', ''))\n",
    "    pinid = pids.replace('/', '')\n",
    "    \n",
    "    pinnor = (pinid.replace('\"', ''))\n",
    "    print(pinnor)\n",
    "    \n",
    "    pindesc = (json.dumps(xmlpin['rss']['channel']['item'][itl]['description']))\n",
    "    pinbs = bs4.BeautifulSoup(pindesc)\n",
    "    pinfin = (pinbs.find('img')['src'])\n",
    "    pinrep = (pinfin.replace('\\\\', ''))\n",
    "    prep = pinrep.replace('\"', '')\n",
    "    print(prep)\n",
    "    \n",
    "        \n",
    "        \n",
    "    rstme = ('.. title: ' + pinnor + ' \\n' + '.. slug: ' + pinnor + ' \\n' + '.. date: ' + str(timnow))\n",
    "    \n",
    "    #print(pinbs.text)\n",
    "    #print(pinbs)\n",
    "    finpinurl = (pinlink.replace('\"', ''))\n",
    "    \n",
    "    print(finpinurl)\n",
    "    reqfinpin = requests.get(finpinurl)\n",
    "    reqfintxt = reqfinpin.text\n",
    "    reqsoup = bs4.BeautifulSoup(reqfintxt)\n",
    "    newli = list()\n",
    "    reqa = reqsoup.find_all('meta')\n",
    "    #print(reqa)\n",
    "    urlmet = (reqa[30])\n",
    "    \n",
    "    print(urlmet['content'])\n",
    "    \n",
    "    womendic.update({pinnor : dict({'id' : pinnor, 'image' : prep, 'url' : urlmet['content'], 'pinurl' : finpinurl})})\n",
    "    startdic.update({pinnor : dict({'id' : pinnor, 'image' : prep, 'url' : urlmet['content'], 'pinurl' : finpinurl})})\n",
    "    #for req in reqa:\n",
    "    #    print(req)\n",
    "        #if 'http' in req:\n",
    "        #    print(req)\n",
    "        \n",
    "    #for link in reqsoup.find_all('a'):\n",
    "    #    try:\n",
    "    #        if 'http' in (link.get('href')):\n",
    "    #            print(link.get('href'))\n",
    "    #            with open('/home/{}/women-fashion/posts/{}.md'.format(myusr, pinnor), 'a') as fashmd:\n",
    "    #                fashmd.write('[' + link.get('href') + '](' + itl + ')\\n\\n')\n",
    "    #    except TypeError:\n",
    "    #        pass\n",
    "        #print(link.get('href'))\n",
    "    #print(reqa)\n",
    "    mylis = list()\n",
    "    newli.append(reqsoup)\n",
    "    mylis.append(reqsoup.find_all('meta'))\n",
    "    \n",
    "    with open('/home/{}/women-fashion/posts/{}.meta'.format(myusr, pinnor), 'w') as fashmd:\n",
    "        fashmd.write(rstme)\n",
    "        \n",
    "    \n",
    "    \n",
    "    with open('/home/{}/women-fashion/posts/{}.md'.format(myusr, pinnor), 'w') as fashmd:\n",
    "        fashmd.write('!' + '[' + pinnor + '](/galleries/' + pinnor + '.jpg)\\n\\n' + pinbs.text + '\\n\\n[link](' + urlmet['content'] + ')\\n\\n')\n",
    "        \n",
    "        \n",
    "    response = requests.get(prep, stream=True)\n",
    "    with open('{}{}.jpg'.format(dapatz + 'galleries/', pinnor), 'wb') as out_file:\n",
    "        shutil.copyfileobj(response.raw, out_file)\n",
    "        del response\n",
    "    #print(json.dumps(xmlpin['rss']['channel']['item'][itl]['link']))\n",
    "    "
   ]
  },
  {
   "cell_type": "code",
   "execution_count": 40,
   "metadata": {},
   "outputs": [],
   "source": [
    "with open('/home/{}/womenfashion.pickle'.format(myusr), 'wb') as handle:\n",
    "    pickle.dump(womendic, handle, protocol=pickle.HIGHEST_PROTOCOL)"
   ]
  },
  {
   "cell_type": "code",
   "execution_count": 41,
   "metadata": {},
   "outputs": [],
   "source": [
    "#len(womendic)"
   ]
  },
  {
   "cell_type": "code",
   "execution_count": 42,
   "metadata": {},
   "outputs": [],
   "source": [
    "#jsdump = json.dumps(startdic)"
   ]
  },
  {
   "cell_type": "code",
   "execution_count": 43,
   "metadata": {},
   "outputs": [],
   "source": [
    "#jsdump"
   ]
  },
  {
   "cell_type": "code",
   "execution_count": 319,
   "metadata": {},
   "outputs": [],
   "source": [
    "#lispin = os.listdir('{}'.format(dapatz))"
   ]
  },
  {
   "cell_type": "code",
   "execution_count": 320,
   "metadata": {
    "collapsed": true
   },
   "outputs": [],
   "source": [
    "#heighsiz = list()\n",
    "#widthsiz = list()"
   ]
  },
  {
   "cell_type": "code",
   "execution_count": null,
   "metadata": {
    "collapsed": true
   },
   "outputs": [],
   "source": []
  },
  {
   "cell_type": "code",
   "execution_count": 518,
   "metadata": {},
   "outputs": [],
   "source": [
    "#for lisp in lispin:\n",
    "#    im = Image.open(dapatz + lisp)\n",
    "#    print(im.size[1])\n",
    "#    heighsiz.append(im.size[1])\n",
    "#    widthsiz.append(im.size[0])\n",
    "#    print(im.filename)\n",
    "#    print(im.mode)"
   ]
  },
  {
   "cell_type": "code",
   "execution_count": 519,
   "metadata": {},
   "outputs": [],
   "source": [
    "#widthsiz"
   ]
  },
  {
   "cell_type": "code",
   "execution_count": 520,
   "metadata": {},
   "outputs": [],
   "source": [
    "#max(widthsiz)"
   ]
  },
  {
   "cell_type": "code",
   "execution_count": 521,
   "metadata": {},
   "outputs": [],
   "source": [
    "#im = Image.new(\"RGB\", (max(widthsiz), sum(heighsiz)), \"white\")"
   ]
  },
  {
   "cell_type": "code",
   "execution_count": null,
   "metadata": {
    "collapsed": true
   },
   "outputs": [],
   "source": []
  },
  {
   "cell_type": "code",
   "execution_count": 325,
   "metadata": {},
   "outputs": [
    {
     "data": {
      "text/plain": [
       "(236, 14066)"
      ]
     },
     "execution_count": 325,
     "metadata": {},
     "output_type": "execute_result"
    }
   ],
   "source": [
    "#im.size"
   ]
  },
  {
   "cell_type": "code",
   "execution_count": 326,
   "metadata": {},
   "outputs": [
    {
     "data": {
      "text/plain": [
       "14066"
      ]
     },
     "execution_count": 326,
     "metadata": {},
     "output_type": "execute_result"
    }
   ],
   "source": [
    "#sum(heighsiz)"
   ]
  },
  {
   "cell_type": "code",
   "execution_count": 327,
   "metadata": {
    "collapsed": true
   },
   "outputs": [],
   "source": [
    "#posize = 0"
   ]
  },
  {
   "cell_type": "code",
   "execution_count": 328,
   "metadata": {
    "collapsed": true
   },
   "outputs": [],
   "source": [
    "#testlis = list()"
   ]
  },
  {
   "cell_type": "code",
   "execution_count": null,
   "metadata": {
    "collapsed": true
   },
   "outputs": [],
   "source": []
  },
  {
   "cell_type": "code",
   "execution_count": 329,
   "metadata": {},
   "outputs": [
    {
     "name": "stdout",
     "output_type": "stream",
     "text": [
      "14066\n",
      "28132\n",
      "42198\n",
      "56264\n",
      "70330\n",
      "84396\n",
      "98462\n",
      "112528\n",
      "126594\n",
      "140660\n",
      "154726\n",
      "168792\n",
      "182858\n",
      "196924\n",
      "210990\n",
      "225056\n",
      "239122\n",
      "253188\n",
      "267254\n",
      "281320\n",
      "295386\n",
      "309452\n",
      "323518\n",
      "337584\n",
      "351650\n",
      "365716\n",
      "379782\n",
      "393848\n",
      "407914\n",
      "421980\n",
      "436046\n",
      "450112\n"
     ]
    }
   ],
   "source": [
    "#for lisp in lispin:\n",
    "#    imz = Image.open(dapatz + lisp)\n",
    "    #print(im.size[1])\n",
    "    #heighsiz.append(im.size[1])\n",
    "    #print(posize)\n",
    "#    pozi = (posize + (im.size[1]))\n",
    "#    testlis.append(im.size[1])\n",
    "#    print(sum(testlis))\n",
    "#    im.paste(imz, (0, sum(testlis)))\n",
    "    #img('home/wcm/pintrest/' + lisp)\n",
    "    #print(pozi)\n",
    "    #print(im.filename)\n",
    "    #print(im.mode)"
   ]
  },
  {
   "cell_type": "code",
   "execution_count": 330,
   "metadata": {},
   "outputs": [],
   "source": [
    "#im.save('/home/wcm/Downloads/pin.jpg')"
   ]
  },
  {
   "cell_type": "code",
   "execution_count": 76,
   "metadata": {},
   "outputs": [
    {
     "data": {
      "text/plain": [
       "'{\"title\": \"\\\\\"The Far Side\\\\\" by Ga\", \"link\": \"https://www.pinterest.com/pin/751678994025884711/\", \"description\": \"<p><a href=\\\\\"/pin/751678994025884711/\\\\\"><img src=\\\\\"https://s-media-cache-ak0.pinimg.com/236x/5d/ce/b1/5dceb19f02f223b25788847e05dea867.jpg\\\\\"></a></p><p>\\\\\"The Far Side\\\\\" by Gary Larson.</p>\", \"pubDate\": \"Mon, 23 Jan 2017 14:31:39 +0000\", \"guid\": \"https://www.pinterest.com/pin/751678994025884711/\"}'"
      ]
     },
     "execution_count": 76,
     "metadata": {},
     "output_type": "execute_result"
    }
   ],
   "source": [
    "#json.dumps(xmlpin['rss']['channel']['item'][0])"
   ]
  },
  {
   "cell_type": "code",
   "execution_count": 525,
   "metadata": {
    "collapsed": true
   },
   "outputs": [],
   "source": [
    "#https://nz.pinterest.com/search/pins/?q=kumera%20recipes"
   ]
  },
  {
   "cell_type": "code",
   "execution_count": 536,
   "metadata": {
    "collapsed": true
   },
   "outputs": [],
   "source": [
    "#searchspace = requests.get('https://nz.pinterest.com/search/pins/?q=kumera%20recipes')"
   ]
  },
  {
   "cell_type": "code",
   "execution_count": 537,
   "metadata": {
    "collapsed": true
   },
   "outputs": [],
   "source": [
    "#searchspace = requests.get('https://nz.pinterest.com/search/pins/?q=space%20fashion&rs=typed&term_meta[]=space%7Ctyped&term_meta[]=fashion%7Ctyped')"
   ]
  },
  {
   "cell_type": "code",
   "execution_count": 538,
   "metadata": {},
   "outputs": [],
   "source": [
    "#bsearch =  bs4.BeautifulSoup(searchspace.text)"
   ]
  },
  {
   "cell_type": "code",
   "execution_count": 44,
   "metadata": {},
   "outputs": [],
   "source": [
    "#for bsa in bsearch.find_all('a'):\n",
    "    #if '/pin/' in bsa:\n",
    "#    for pi in bsa:\n",
    "#        print(pi)\n",
    "        #if '/pin/' in pi:\n",
    "        #    print(pi)\n",
    "    "
   ]
  },
  {
   "cell_type": "code",
   "execution_count": 45,
   "metadata": {},
   "outputs": [],
   "source": [
    "#for mybst in bsearch.find_all('img'):\n",
    "#    if '236x' in (mybst['src']):\n",
    "#        print(mybst)\n",
    "#        print(mybst['alt'])\n",
    "#        print((mybst['src']))"
   ]
  },
  {
   "cell_type": "code",
   "execution_count": null,
   "metadata": {
    "collapsed": true
   },
   "outputs": [],
   "source": []
  }
 ],
 "metadata": {
  "kernelspec": {
   "display_name": "Python 3",
   "language": "python",
   "name": "python3"
  },
  "language_info": {
   "codemirror_mode": {
    "name": "ipython",
    "version": 3
   },
   "file_extension": ".py",
   "mimetype": "text/x-python",
   "name": "python",
   "nbconvert_exporter": "python",
   "pygments_lexer": "ipython3",
   "version": "3.5.3"
  }
 },
 "nbformat": 4,
 "nbformat_minor": 1
}
