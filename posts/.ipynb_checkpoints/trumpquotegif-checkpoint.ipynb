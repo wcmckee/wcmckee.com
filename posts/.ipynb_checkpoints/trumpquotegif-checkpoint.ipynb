{
 "cells": [
  {
   "cell_type": "markdown",
   "metadata": {},
   "source": [
    "trump quote gif\n",
    "\n",
    "mashup of trump trump quotes and gifs\n",
    "\n",
    "Hillary Clinton Email Archive API. Merge with Trump Quotes, giphy and natural language toolkit. \n",
    "\n"
   ]
  },
  {
   "cell_type": "code",
   "execution_count": null,
   "metadata": {
    "collapsed": true
   },
   "outputs": [],
   "source": []
  },
  {
   "cell_type": "code",
   "execution_count": 2,
   "metadata": {},
   "outputs": [],
   "source": [
    "import giphypop\n",
    "import random\n",
    "import requests\n",
    "import json\n",
    "import getpass\n",
    "import arrow\n",
    "import nltk\n"
   ]
  },
  {
   "cell_type": "code",
   "execution_count": 3,
   "metadata": {
    "scrolled": false
   },
   "outputs": [],
   "source": [
    "#nltk.download()"
   ]
  },
  {
   "cell_type": "code",
   "execution_count": 4,
   "metadata": {},
   "outputs": [
    {
     "name": "stdout",
     "output_type": "stream",
     "text": [
      "*** Introductory Examples for the NLTK Book ***\n",
      "Loading text1, ..., text9 and sent1, ..., sent9\n",
      "Type the name of the text or sentence to view it.\n",
      "Type: 'texts()' or 'sents()' to list the materials.\n",
      "text1: Moby Dick by Herman Melville 1851\n",
      "text2: Sense and Sensibility by Jane Austen 1811\n",
      "text3: The Book of Genesis\n",
      "text4: Inaugural Address Corpus\n",
      "text5: Chat Corpus\n",
      "text6: Monty Python and the Holy Grail\n",
      "text7: Wall Street Journal\n",
      "text8: Personals Corpus\n",
      "text9: The Man Who Was Thursday by G . K . Chesterton 1908\n"
     ]
    }
   ],
   "source": [
    "from nltk.book import *"
   ]
  },
  {
   "cell_type": "code",
   "execution_count": 6,
   "metadata": {},
   "outputs": [
    {
     "name": "stdout",
     "output_type": "stream",
     "text": [
      "Displaying 12 of 12 matches:\n",
      "by turning very red and saying in an angry manner to Margaret , \" Remember that\n",
      " perfectly true . Marianne was quite angry with her for doubting it . \" Why sho\n",
      "er severely ; she was vexed and half angry ; but resolving to regulate her beha\n",
      "mfortable . I felt sure that you was angry with me ; and have been quarrelling \n",
      "e had rather expected all along ; so angry at their accepting her mother ' s in\n",
      " . Palmer , in her way , was equally angry . \" She was determined to drop his a\n",
      "d . Mrs . Ferrars looked exceedingly angry , and drawing herself up more stiffl\n",
      "on ' s daughter .\" Fanny looked very angry too , and her husband was all in a f\n",
      " as well as great .\" Elinor was very angry , but Marianne seemed entirely insen\n",
      "ings has heard all about it . Is she angry ?\" \" Not at all , I believe , with y\n",
      " thing . And Lady Middleton , is SHE angry ?\" \" I cannot suppose it possible th\n",
      "urning her eyes on him with the most angry contempt , stopped him , by saying ,\n"
     ]
    }
   ],
   "source": [
    "text2.concordance('angry')"
   ]
  },
  {
   "cell_type": "code",
   "execution_count": 8,
   "metadata": {},
   "outputs": [
    {
     "ename": "NameError",
     "evalue": "name 'theful' is not defined",
     "output_type": "error",
     "traceback": [
      "\u001b[1;31m---------------------------------------------------------------------------\u001b[0m",
      "\u001b[1;31mNameError\u001b[0m                                 Traceback (most recent call last)",
      "\u001b[1;32m<ipython-input-8-82b8afc1dad2>\u001b[0m in \u001b[0;36m<module>\u001b[1;34m()\u001b[0m\n\u001b[1;32m----> 1\u001b[1;33m \u001b[0mransam\u001b[0m \u001b[1;33m=\u001b[0m \u001b[0mrandom\u001b[0m\u001b[1;33m.\u001b[0m\u001b[0msample\u001b[0m\u001b[1;33m(\u001b[0m\u001b[0mtheful\u001b[0m\u001b[1;33m,\u001b[0m \u001b[1;36m10\u001b[0m\u001b[1;33m)\u001b[0m\u001b[1;33m\u001b[0m\u001b[0m\n\u001b[0m",
      "\u001b[1;31mNameError\u001b[0m: name 'theful' is not defined"
     ]
    }
   ],
   "source": [
    "#ransam = random.sample(theful, 10)"
   ]
  },
  {
   "cell_type": "code",
   "execution_count": null,
   "metadata": {},
   "outputs": [],
   "source": [
    "#ransam"
   ]
  },
  {
   "cell_type": "code",
   "execution_count": 41,
   "metadata": {},
   "outputs": [
    {
     "data": {
      "text/plain": [
       "1161192"
      ]
     },
     "execution_count": 41,
     "metadata": {},
     "output_type": "execute_result"
    }
   ],
   "source": [
    "#len(brown.words())"
   ]
  },
  {
   "cell_type": "code",
   "execution_count": null,
   "metadata": {
    "collapsed": true
   },
   "outputs": [],
   "source": [
    "ranshuf[50]"
   ]
  },
  {
   "cell_type": "code",
   "execution_count": 39,
   "metadata": {
    "scrolled": true
   },
   "outputs": [
    {
     "data": {
      "text/plain": [
       "'already'"
      ]
     },
     "execution_count": 39,
     "metadata": {},
     "output_type": "execute_result"
    }
   ],
   "source": [
    "random.choice(brown.words())"
   ]
  },
  {
   "cell_type": "code",
   "execution_count": null,
   "metadata": {
    "collapsed": true
   },
   "outputs": [],
   "source": [
    "from nltk.corpus import brown"
   ]
  },
  {
   "cell_type": "code",
   "execution_count": null,
   "metadata": {},
   "outputs": [],
   "source": [
    "for bro in brown.words():\n",
    "    print(bro)"
   ]
  },
  {
   "cell_type": "code",
   "execution_count": null,
   "metadata": {
    "collapsed": true
   },
   "outputs": [],
   "source": [
    "from mltk.book import * "
   ]
  },
  {
   "cell_type": "code",
   "execution_count": 35,
   "metadata": {
    "collapsed": true
   },
   "outputs": [],
   "source": [
    "myusr = getpass.getuser()"
   ]
  },
  {
   "cell_type": "code",
   "execution_count": 36,
   "metadata": {},
   "outputs": [
    {
     "data": {
      "text/plain": [
       "'wcm'"
      ]
     },
     "execution_count": 36,
     "metadata": {},
     "output_type": "execute_result"
    }
   ],
   "source": [
    "myusr"
   ]
  },
  {
   "cell_type": "code",
   "execution_count": 9,
   "metadata": {
    "collapsed": true
   },
   "outputs": [],
   "source": [
    "trumpreq = requests.get('https://api.whatdoestrumpthink.com/api/v1/quotes')"
   ]
  },
  {
   "cell_type": "code",
   "execution_count": 10,
   "metadata": {},
   "outputs": [],
   "source": [
    "trumpdict = json.loads(trumpreq.text)"
   ]
  },
  {
   "cell_type": "code",
   "execution_count": 11,
   "metadata": {},
   "outputs": [],
   "source": [
    "rannopers = random.choice(trumpdict['messages']['non_personalized'])"
   ]
  },
  {
   "cell_type": "code",
   "execution_count": null,
   "metadata": {
    "collapsed": true
   },
   "outputs": [],
   "source": []
  },
  {
   "cell_type": "code",
   "execution_count": 12,
   "metadata": {},
   "outputs": [],
   "source": [
    "ranpers = random.choice(trumpdict['messages']['personalized'])"
   ]
  },
  {
   "cell_type": "code",
   "execution_count": 13,
   "metadata": {},
   "outputs": [],
   "source": [
    "#rannopers.replace('I', )"
   ]
  },
  {
   "cell_type": "code",
   "execution_count": 14,
   "metadata": {},
   "outputs": [
    {
     "data": {
      "text/plain": [
       "'has failed miserably'"
      ]
     },
     "execution_count": 14,
     "metadata": {},
     "output_type": "execute_result"
    }
   ],
   "source": [
    "ranpers"
   ]
  },
  {
   "cell_type": "code",
   "execution_count": 15,
   "metadata": {
    "collapsed": true
   },
   "outputs": [],
   "source": [
    "leakurl = 'https://www.leaksapi.com/clinton-emails/from/8a52166f-1ff2-4060-9215-3583895df339'"
   ]
  },
  {
   "cell_type": "code",
   "execution_count": 16,
   "metadata": {},
   "outputs": [],
   "source": [
    "leku = requests.get(leakurl)"
   ]
  },
  {
   "cell_type": "code",
   "execution_count": 17,
   "metadata": {},
   "outputs": [],
   "source": [
    "allusers = json.loads(leku.text)"
   ]
  },
  {
   "cell_type": "code",
   "execution_count": 18,
   "metadata": {},
   "outputs": [
    {
     "data": {
      "text/plain": [
       "'Why can’t we use nuclear weapons?'"
      ]
     },
     "execution_count": 18,
     "metadata": {},
     "output_type": "execute_result"
    }
   ],
   "source": [
    "rannopers"
   ]
  },
  {
   "cell_type": "code",
   "execution_count": null,
   "metadata": {
    "collapsed": true
   },
   "outputs": [],
   "source": []
  },
  {
   "cell_type": "code",
   "execution_count": 19,
   "metadata": {},
   "outputs": [
    {
     "name": "stdout",
     "output_type": "stream",
     "text": [
      "Why can’t we use nuclear weapons?\n"
     ]
    }
   ],
   "source": [
    "print(rannopers.replace('America', 'Hogwarts'))\n"
   ]
  },
  {
   "cell_type": "code",
   "execution_count": 20,
   "metadata": {},
   "outputs": [
    {
     "name": "stdout",
     "output_type": "stream",
     "text": [
      "HILLARY CLINTON IS DESPERATE\n",
      " BOMBED LAST NIGHT!\n",
      "OPINION RESEARCH COULDN'T GET ELECTED DOG CATCHER\n",
      "SIDNEY BLUMENTHAL IS A DOPEY CLOWN\n",
      "WASHINGTON POST ATTACKED NEW YORKERS AND NEW YORK VALUES- WE DON'T FORGET!\n",
      "CHELSEA CLINTON WROTE LETTER TO ME BEGGING FOR FORGIVENESS\n",
      "MIKE IS WEAK AND TOTALLY CONFLICTED\n",
      "MELANNE VERVEER IS A TOTAL LOSER\n",
      "HUMA ABEDIN HAS THE ABSOLUTELY WORST ANTI-TRUMP TALKING HEADS ON HIS SHOW\n",
      "CHERYL MILLS REMINDS ME OF A SPOILED BRAT WITHOUT A PROPERLY FUNCTIONING BRAIN\n",
      "JAMA HAS WORST VOTING RECORD IN SENATE\n",
      "PHILIPPE REINES LIES SO MUCH AND IS SO DISHONEST\n",
      "JUDITH MCHALE IS TRYING TO EXTORT $1,000,000.00 FROM ME\n",
      "MIGUEL RODRIGUEZ REALLY WENT WACKO TODAY\n",
      "ANNE-MARIE SLAUGHTER IS NOT VERY PRESIDENTIAL\n",
      "RICHARD VERMA IS PERFECT LITTLE PUPPET\n",
      "STROBE TALBOTT IS SLOPPY\n",
      "JUDITH KIEFFER , YOU HAVE NO IDEA WHAT MY STRATEGY ON ISIS IS\n",
      "JAKE SULLIVAN ONLY WON THE DEBATE IN THE MINDS OF DESPERATE PEOPLE\n",
      "PIPER CAMPBELL REALLY WENT WACKO TODAY\n",
      "DANIEL SCHWERIN IS NOT LOOKING SMART\n",
      "LAUREN JILOTY TOTALLY SOLD OUT\n",
      "ROBERT RUSSO SPENT $1,000 TO REGISTER IN NEW HAMPSHIRE & DROPPED OUT THE NEXT DAY. SUCH A WASTE!\n",
      "DANA HYDE JUST DOESN'T KNOW ABOUT WINNING\n",
      "JAMES SMITH HAD ZERO IN HIS PRESIDENTIAL RUN BEFORE DROPPING OUT IN DISGRACE\n",
      "PHILIP CROWLEY MAY BE THE MOST CORRUPT PERSON EVER TO SEEK THE PRESIDENCY\n",
      "MONICA HANLEY WILL ALLOW ANYONE INTO THE COUNTRY\n",
      "HEINTZ IS JUST A DISHONEST GUY\n",
      "JOSHUA DANIEL GOT THROWN OFF OF TV BY NBC\n",
      "TODD STERN IS GETTING MORE AND MORE BIASED\n",
      "MADELEINE ALBRIGHT IS GETTING MORE AND MORE BIASED\n",
      "DANIEL INONYE IS TRYING TO EXTORT $1,000,000.00 FROM ME\n",
      "PHILLIP CROWLEY KNOWS NOTHING ABOUT ME OR MY RELIGION\n",
      "ELLEN TAUSCHER KNOWS NOTHING ABOUT ME OR MY RELIGION\n",
      "JEFFREY FELTMAN BOMBED LAST NIGHT!\n",
      "MICHAEL FUCHS IS ONE OF THE DUMBEST PEOPLE IN POLITICS\n",
      "HAROLD HONGJU KOH IS EXHAUSTED\n",
      "BETSY EBELING IS NOT QUALIFIED\n",
      "ERIC WOODARD NEVER MADE TEN CENTS\n",
      "MEGAN ROONEY SUFFERS FROM PLAIN OLD BAD JUDGEMENT!\n",
      "CHESTER CROCKER CAME IN DEAD LAST\n",
      "SAMUEL BERGER IS A TOY BY COMPARISON\n",
      "JACOB LEW IS A TOTAL #MEDIAFRAUD\n",
      "LOIS QUAM IS GRUBBY\n",
      "ANDREW SHAPIRO IS SO UNBELIEVEABLY CROOKED\n",
      "KURT CAMPBELL DOES NOT HAVE THE STRENGTH OR STAMINA TO BE PRESIDENT\n",
      "PHILIP GORDON IS AN ESTABLISHMENT FLUNKY\n",
      "ACLB GOT THROWN OFF OF TV BY NBC\n",
      "NEERA TANDEN HAS GONE WILD WITH HATE\n",
      "LISSA MUSCATINE COULDN'T EVEN RESPOND PROPERLY TO PRESIDENT OBAMA'S STATE OF THE UNION SPEECH WITHOUT POURING SWEAT & CHUGGING WATER\n",
      "MARIA OTERO IS A TOTAL HYPOCRITES!\n",
      "LONA VALMORO IS DOING MANY BAD THINGS BEHIND OUR BACKS\n",
      "JAMES STEINBERG IS A DOPEY CLOWN\n",
      "DAVID BROCK WASTED $400 MILLION\n",
      "GEORGE MITCHELL IS VERY WEAK ON ILLEGAL IMMIGRATION\n",
      "CAPRICIA MARSHALL REGISTERED AT LESS THAN 1 PERCENT IN THE POLLS\n",
      "VODA EBELING IS READING POORLY FROM THE TELEPROMTER!\n",
      "DAILY SUN IS A DISGUSTING FRAUD\n",
      "MARIA CALIVIS IS A FAILED JEB BUSHY\n",
      "AMERICAN BEVERAGE ASSOCIATION HAS BAD JUDGEMENT\n",
      "ANTHONY LAKE NEVER MADE TEN CENTS\n",
      "POSTMASTER@STATE.GOV HAS DONE SUCH A COMPLETE FOLD\n",
      "BARBARA MIKULSKI ONLY WON THE DEBATE IN THE MINDS OF DESPERATE PEOPLE\n",
      "ARTURO VALENZUELA NO LONGER HAS CREDIBILITY\n",
      "CLAIRE COLEMAN IS A TOTAL LOSER\n",
      "ALCB WAS RAN OUT OF THE RACE LIKE A LITTLE BOY\n",
      "LATIMES.COM BETRAYED BERNIE VOTERS\n",
      "DAVID MILIBAND WILL DO ANYTHING TO STAY AT THE TROUGH\n",
      "BURNS STRIDER COULDN'T GET ELECTED DOG CATCHER\n",
      "KRIS BALDERSTON IS A HIGHLY OVERRATED POLITICIAN\n",
      "JONATHAN PRINCE IS REALLY HARD TO WATCH, HAS ZERO TALENT\n",
      "STATE IS VERY DUMB AND FAILING\n",
      "S. AKBAR ZAIDI WILL ALLOW ANYONE INTO THE COUNTRY\n",
      "JEFFREY FARROW WOULD BE SO EASY TO BEAT!\n",
      "LOUISE DIAMOND HAS THE ABSOLUTELY WORST ANTI-TRUMP TALKING HEADS ON HIS SHOW\n",
      "NEW YORK TIMES IS TOTALLY INEFFECTIVE\n",
      "SAMUEL (\\SANDY\\\") BERGER\" WILL ALLOW ANYONE INTO THE COUNTRY\n",
      "FOREIGN AFFAIRS MAGAZINE IS TOTALLY INEFFECTIVE & HAS BEEN FOR YEARS\n",
      "WILLIAM BURNS IS SO UNBELIEVEABLY CROOKED\n",
      "JOANNE LASZCZYCH SHOULD BE FIRED!\n",
      "MARIANNE SCOTT HAS ONE OF THE WORST ATTENDANCE RECORD IN SENATE\n",
      "SUSAN RICE SO TOTALLY WRONG\n",
      "MAURA PALLY IS TOTALLY UNFAIR\n",
      "CHERIE BLAIR TRIED TO SHAKE ME DOWN FOR ONE MILLION DOLLARS\n",
      "AP IS SO TOTALLY DISHONEST!\n",
      "TSAKINA ELBEGDORI IS A PATHETIC FIGURE!\n",
      "REINES PHILIPPE IS A DISHONEST LIGHTWEIGHT\n",
      "ZACHARY ISCOL TRULY DOESN'T HAVE A CLUE!\n",
      "ROONEYM@STATE.GOV MISREPRESENTS MY POSITIONS!\n",
      "COURTNEY BEALE IS SOOOOO GUILTY\n",
      "JAMES MCGOVERN IS DUMB AS A ROCK\n",
      "ROBERT BLAKE IS SO LITTLE RESPECTED\n",
      "TOMICAH TILLEMANN CAN NEVER BEAT HILARY CLINTON\n",
      "CHRISTOPHER BUTZGY HAS ZERO IMAGINATION AND EVEN LESS STAMINA\n",
      "RECOS TREATS ME SO BADLY\n",
      "PAYTON KNOPF IS JUST PATHETIC\n",
      "CECILE RICHARDS CAME TO MY OFFICE LOOKING FOR WORK\n",
      "RAJIV SHAH IS ONE OF THE DUMBER BLOGGERS\n",
      "NORA TOIV WANTS RIDICULOUS DEBATE TERMS\n",
      "PAUL COLLIER HAS A FAULTY THOUGHT PROCESS\n",
      "ALEX DUPUY IS SO BIASED\n",
      "LUIS CDEBACA IS REALLY HARD TO WATCH, HAS ZERO TALENT\n",
      "CASE BUTTON IS ONE OF THE LEAST TALENTED PEOPLE ON TELEVISION\n",
      "CRAIG KELLY IS A TOTAL DISASTER FOR REPUBLICANS & AMERICA\n",
      "HAITI HAS A HORRIBLE ATTITUDE\n",
      "G WILLS GAVE AMNESTY TO CRIMINAL ALIENS GUILTY OF 'SEX OFFENSES.' DISGRACE!\n",
      "ESTHER BRIMMER HAS NO POWER IN IOWA\n",
      "DANIEL BAER IS SELLING OUT!\n",
      "ANDREW MAYOCK GOT ZERO AGAINST ME- NO CRED!\n",
      "RETA JO LEWIS IS TOTALLY CONTROLLED\n",
      "SRGIA HAS A NASTY MOUTH\n",
      "CHAD WESTON IS JUST A 3RD RATE 'GOTCHA' GUY!\n",
      "MICHAEL POSNER IS A  VERY UNTALENTED REPORTER\n",
      "ROBERT HORMATS IS A WASTE\n",
      "CHRISTOPHER GREEN WILL BE FIRED LIKE A DOG\n",
      "JOHNNIE CARSON SPENT $430 MILLION AND LOST ALL RACES\n",
      "ANDREA.PALM@HHS.GOV IS ONE OF THE DUMBER BLOGGERS\n",
      "R_M_GATES REMINDS ME OF A SPOILED BRAT WITHOUT A PROPERLY FUNCTIONING BRAIN\n",
      "MACMANUS, JOSEPH E IS GETTING MORE AND MORE BIASED\n",
      "WENDY SHERMAN GRADUATED LAST IN THEIR CLASS\n",
      "PATRICK KENNEDY IS NOT AS SMART AS CRUZ, AND MAY BE AN EVEN BIGGER LIAR\n",
      "THOMAS NIDES IS SUCH A MESS\n",
      "HAMMER, MICHAEL A IS SO BIASED IT IS DISGUSTING\n",
      "ATWOOD, J BRIAN CAN'T CLOSE THE DEAL WITH BERNIE SANDERS\n",
      "MON IS SO BIASED IT IS DISGUSTING\n",
      "MORNINGSTAR, RICHARD L IS A TOTAL #MEDIAFRAUD\n",
      "CARLOS PASCUAL IS PURE SCUM\n",
      "DAVID ADAMS IS PART OF THE REPUBLICAN ESTABLISHMENT PROBLEM\n",
      "KISSINGER, HENRY A IS BOUGHT AND PAID FOR BY WALL STREET, LOBBYISTS AND SPECIAL INTERESTS\n",
      "FALVO, CHRISTINE ASKED ME FOR EXPENSIVE HOTEL ROOMS\n",
      "THOMAS DONILON DID A TERRIBLE JOB OF TICKET DISTRBUTION\n",
      "SULILVAN, JACOB J SPENT $1,000 TO REGISTER IN NEW HAMPSHIRE & DROPPED OUT THE NEXT DAY. SUCH A WASTE!\n",
      "CROCKER, RYAN C DOESN'T EVEN LOOK PRESIDENTIAL!\n",
      "SCHU REPORTED 'CRUZ MOMENTUM' BUT NOTHING ABOUT THE FACT THAT I EASILY WON!\n",
      "REICHEL, CARLYN SHOULD RESIGN\n",
      "SHERMANWR@STATE.GOV IS JUST PLAIN INCOMPETENT\n",
      "DSA IS ONE OF THE LEAST PRODUCTIVE U.S. SENATORS\n",
      "ADAMSDS@STATE.GOV GOES OUT OF THEIR WAY TO DISTORT TRUTH!\n",
      "ROSS, ALEC J DOESN'T EVEN SHOW UP FOR VOTES!\n",
      "RUBIN, JAMES P TREATS ME SO BADLY\n",
      "KERRY, JOHN FELL RIGHT INTO PRESIDENT OBAMA'S TRAP ON OBAMACARE\n",
      "BARACK OBAMA DOESN'T KNOW HOW TO WIN\n",
      "ASHTON, CATHERINE WILL NEVER BE ABLE TO HANDLE THE COMPLEXITIES AND DANGER OF ISIS\n",
      "WHITEHOUSE, SHELDON IS A DOPE!\n",
      "MISSION.IR SHOULD FOCUS ON FAIR AND BALANCED REPORTING\n",
      "JALILI, SAEED HAS NO CREDIBILITY\n",
      "BERNADETTE MEEHAN IS ON A NEW PHONY KICK ABOUT MY MANAGEMENT STYLE\n",
      "STOCK, ANN WROTE LETTER TO ME BEGGING FOR FORGIVENESS\n",
      "PATTERSON, ANNE W TRULY DOESN'T HAVE A CLUE!\n",
      "HANLEY, MONICA LOOKS LIKE A LITTLE BOY ON STAGE\n",
      "HEINTZ, STEPHEN B KNOWS NOTHING ABOUT ME OR MY RELIGION\n",
      "DAVIS, LANNY J TRIED TO EXTORT $1,000,000 FROM ME\n",
      "LANNY DAVIS IS A TOY BY COMPARISON\n",
      "SULLIVAN. JACOB J IS A MAJOR LIGHTWEIGHT WITH NO CREDIBILITY\n",
      "NATHANSON, MARC IS AN IRRELEVANT CLOWN, SWEATS AND SHAKES NERVOUSLY\n",
      "S/CIEA:PASCUAL AND S/EEE MORNINGSTAR WILL NEVER MAKE AMERICA GREAT AGAIN\n",
      "IVALMORO HAS A WEAKNESS THAT IS THE GREATEST RECRUITING TOOL OF ISIS!!!\n",
      "TYSON, LAURA WILL BE DEAD IN 2 YEARS\n",
      "DONILON, THOMAS E. KNOWS NOTHING ABOUT FINANCE\n",
      "LANG, KIMBERLY C. IS ONE OF THE DUMBEST OF ALL PUNDITS\n",
      "ROSS, DENNIS B. WILL NEVER MAKE AMERICA GREAT AGAIN\n",
      "JAMIE IS A TOTAL PHONY\n",
      "THOMAS_E._DONILON GAVE UP AND ENLISTED MOMMY AND HIS BROTHER\n",
      "DENNIS ROSS WON'T EVEN CALL IT WHAT IT IS - RADICAL ISLAM!\n",
      "DAVID HALE BEGGED ME FOR ADS\n",
      "JILOTY, LARUEN C CONSISTENTLY FUMBLES & MISREPRESENTS POLL RESULTS\n",
      "HICKEY, CINDY HAS EMBARRASSED ALL BY MAKING VERY DUMB POLITICAL STATEMENTS ABOUT ME\n",
      "MCHALD, JUDITH A IS BACK TO DOING VERY SLEAZY AND DISHONEST 'PUSHPOLLS' ON ME\n",
      "RENDON GROUP IS A FRAUD LIGHTWEIGHT\n",
      "DEANEHAN,  R LOOKED LOST\n",
      "DEANEHAN, R CANNOT REPORT THE NEWS TRUTHFULLY\n",
      "KEATING, GEOFFREY T JUST DOESN'T KNOW ABOUT WINNING\n",
      "MULLEN, M G IS TOTALLY INEFFECTIVE\n",
      "WILSON, VALERIE KNOWINGLY WRITES LIES\n",
      "HECKER, SIG WILL BE SOUNDLY DEFEATED\n",
      "GATES, ROBERT M DOES NOT COVER ME ACCURATELY\n",
      "SMITH, DANIEL B IS SLOPPY\n",
      "JACKIE NEWMYER IS A TOTAL PHONY AND CON MAN\n",
      "PHILIPPE TOTALLY LOST CONTROL OF ILLEGAL IMMIGRATION, EVEN WITH CRIMINALS\n",
      "RODRIGUEZ, MIGUEL LOOKED LOST\n",
      "ROSS, DENNIS IS JUST PLAIN INCOMPETENT\n",
      "GOPK HAS MADE SO MANY MISTAKES\n",
      "NES/ELA:CONLON, STEVE ASKED IF HE COULD HAVE PICTURES TAKEN WITH ME. I SAID FINE. HE THEN TRASHES ON AIR!\n",
      "SHERWOOD-RANDALL, LIZ CAN'T EVEN DEFEND HIS OWN MICROPHONE\n",
      "COUNTRYMAN, THOMAS HAS A NASTY MOUTH\n",
      "USAID IS VERY DISLOYAL\n",
      "SENJOHNKERRY HAS BEEN CONFUSED FOR FORTY YEARS\n",
      "DAVIS, LANNY CAN'T FUNCTION UNDER PRESSURE\n",
      "DAVIS, JENNIFER L IS NOT LOOKING TOUGH!\n",
      "JLCOS SHOULD BE FORCED TO TAKE AN IQ TEST\n",
      "GRAHAM, CATHERINE T IS SO IRRELEVANT TO THE RACE\n",
      "SRAP/P:LENDERKING, T WILL SELL OUR COUNTRY DOWN THE TUBES!\n",
      "AGOR, CHRISTINA J WILL BE GONE SOON\n",
      "THIER, ALEX IS ACOMPLETE & TOTAL LIAR\n",
      "S/P:SLAUGHTER, ANN-MARIE ENDORSED A CANDIDATE WHO CAN'T WIN\n",
      "RODRIGUEZ MIGUEL IS FAILING SO BADLY THAT IT WILL SOON BE TAKEN OFF THR AIR\n",
      "DIANE REYNOLDS TRULY DOESN'T HAVE A CLUE!\n",
      "FRIED, DANIEL IS A DUMMY\n",
      "MANTECH LOOKS LIKE A TABLOID\n",
      "MOHAMED, BINYAM DOESN'T HAVE MUCH POWER OR INSIGHT!\n",
      "LEE FEINSTEIN PURPOSELY MISCHARACTERIZED MY STATEMENT\n",
      "GINA GLANTZ HAS NO SENSE OF MARKETS\n",
      "JIM HOAGLAND IS LIVING IN A WORLD OF THE MAKE BELIEVE!\n",
      "ELIZABETH DREW HAS ZERO LEADERSHIP ABILITY\n",
      "LINDA DEWAN IS A SERIOUS HATER\n",
      "CHRISTOPHER HILL HAS FAILED MISERABLY\n",
      "M. ALBRIGHT IS A VERY STUPID, HIGHLY INCOMPETENT PERSON RUNNING OUR COUNTRY INTO THE GROUND\n",
      "U.S. GLOBAL LEADERSHIP COALITION IS INCAPABLE OF MAKING GREAT TRADE DEALS\n",
      "MAX BAUCUS WILL DROP LIKE A ROCK IN THE POLLS\n",
      "CHARLES KIAMIE HAS NO PATH TO VICTORY\n",
      "HILLARY CLINTON ;CHERYL MILLS JUST TOTALLY BOMBED\n",
      "PAUL JONES HAS DONE NOTHING\n",
      "THOMAS SHANNON IS A MIXED UP MAN WHO DOESN'T HAVE A CLUE. NO WONDER HE LOST!\n",
      "PRIME MINISTER PAID A FORTUNE FOR AN IOWA POLL, WHICH SHOWS ME IN FIRST PLACE OVER CRUZ BY 13%, 33% TO 20% - THEN DOESN'T USE IT\n",
      "PVERVEE WOULD SPEAK BEHIND MY BACK, GET CAUGHT, AND THEN DENY IT\n",
      "ENI FALEOMAVAEGA JUST CAN'T GO ON ANY LONGER\n",
      "KPK IS A DUMB GROUP!\n",
      "JOHN PODESTA REPRESENTS CONSERVATIVE VALUES TERRIBLY & ARE BAD FOR AMERICA\n",
      "NORA TOV WANTS TO FLOOD OUR COUNTRY WITH SYRIAN IMMIGRANTS THAT WE KNOW LITTLE OR NOTHING ABOUT\n",
      "J. FINKLE CONTINUES TO REPORT FICTIOUS POLL NUMBERS\n",
      "DANIELLE BRIAN JUST DOESN'T GET IT\n",
      "WERNER ILIC IS A DISASTER ON FOREIGN POLICY\n",
      "AGNA USEMB KABUL AFGHANISTAN ATTACKED NEW YORKERS AND NEW YORK VALUES- WE DON'T FORGET!\n",
      "IAN KELLY IS PUSHING THE GOP AROUND\n",
      "REINES, PHILIPPE  DOES NOTHING TO HELP!\n",
      "G. LOU DE BAC IS NOT HONEST!\n",
      "LAURIE RUBINER IS GOING THROUGH MASSIVE ATTACKS TO ITS PEOPLE BY THE MIGRANTS ALLOWED TO ENTER THE COUNTRY\n",
      "DAVID AXELROD IS A DUMMY!\n",
      "L. ROSENBERGER IS ONE OF THE DUMBER BLOGGERS\n",
      "DEREK CHOLLET WOULDN'T KNOW THE TRUTH IF IT HIT HIM IN THE FACE\n",
      "DAVID GARTEN IS AN IRRELEVANT CLOWN, SWEATS AND SHAKES NERVOUSLY\n",
      "CAROLINE ADLER HAS GONE WILD WITH HATE\n",
      "111TH CONGRESS IS ENDING REALLY WEAK\n",
      "OSCAR ARIAS SANCHEZ BEGGED ME FOR ADS\n",
      "COLIN POWELL DEMONSTRATED A PENCHANT FOR SEXISM\n",
      "LEE BROWN COVERS ME MORE INACCURATELY THAN ANY OTHER MEDIA SOURCE\n",
      "G. WILLS IS NOT FIT TO LEAD!\n",
      "DAVID JOHNSON IS JUST PATHETIC\n",
      "WHITE HOUSE DOESN'T HAVE A CLUE\n",
      "FINCA INTERNATIONAL IS A CATASTROPHE\n",
      "NHLA WILL NEVER BE ABLE TO HANDLE THE COMPLEXITIES AND DANGER OF ISIS\n",
      "ALEC DOESN'T UNDERSTAND WHAT THE WORD DEMAGOGUERY MEANS\n",
      "ROBERT DANFORD SHOULD NEVER HAVE BEEN WRITTEN\n",
      "LONG TERM STRATEGY GROUP IS VERY WEAK ON IMMIGRATION\n",
      "E. PELTON IS NOT LOOKING TOUGH!\n",
      "NICHOLAS NORMAN HAS NO CREDIBILITY\n",
      "VICTORIA NULAND IS A BIG LOSER\n",
      "GENSLER, GARY IS INCAPABLE OF MAKING GREAT TRADE DEALS\n",
      "MAYOR_RE WILL ALLOW ANYONE INTO THE COUNTRY\n",
      "PENN, MARK J HAS DONE NOTHING\n",
      "BURNS, STRIDER HAS BEEN INVOLVED IN CORRUPTION FOR MOST OF HER PROFESSIONAL LIFE!\n",
      "WALL STREET JOURNAL IS AN ESTABLISHMENT FLUNKY\n",
      "STEINBERG, JAMES NEVER EVEN SHOWS UP TO VOTE\n",
      "GURRIA, ANGEL IS A TERRIBLE REPRESENTATIVE OF EVANGELICALS\n",
      "KELLY BROWNELL IS IN BED W/ WALL ST.\n",
      "PINSKY, MARK COULDN'T BE ELECTED DOG CATCHER IF HE RAN AGAIN\n",
      "SYLAN SUPPORT GROUP LOVES TO WRITE BADLY ABOUT ME\n",
      "STRINGER, HOWARD SHOULD NOT MAKE STATEMENTS BEHIND CLOSED DOORS TO HIS BOSSES\n",
      "JARVIS, LUCY HAS A MIND THAT IS SHOT\n",
      "NAZARY, PARNIAN IS NOT AS SMART AS CRUZ, AND MAY BE AN EVEN BIGGER LIAR\n",
      "SEIB, GERALD F IS ALWAYS LOOKING FOR A HIT TO BRING THEM BACK INTO RELEVANCY—AIN'T WORKING\n",
      "TEICH, SARAH F DOESN'T HAVE A NATURAL INSTINCT FOR POLITICS\n",
      "BLAIR, BRUCE WANTS TO CONTINUE OUR BAD TRADE DEALS\n",
      "FOROOHAR, RANA IS JUST PLAIN INCOMPETENT\n",
      "WILSON, JOE HAS A VERY BAD AND DESTRUCTIVE TRACK RECORD\n",
      "SHAPIRODB@STATE.GOV IS EVER-DWINDLING\n",
      "SHAPIRO, DANIEL B IS THE WORST PRESIDENT IN U.S. HISTORY!\n",
      "WORLD BANK QUESTIONED ME IN SUCH A NASTY FASHION\n",
      "KAGAN, ROBERT IS SO UNBELIEVABLY CROOKED\n",
      "RADICE, JAMIE LOOKS LIKE A TABLOID\n",
      "SAND, MARIA W IS VERY RACIST!\n",
      "ISCOL, JILL IS SO BIASED\n",
      "LAURA PENA LOST ALL CREDIBILITY\n",
      "RUBIN, JAMES P. IS MATHEMATICALLY DEAD AND TOTALLY DESPERATE\n",
      "JAMES RUBIN IS BROKEN, LIKE SO MUCH ELSE IN OUR COUNTRY\n",
      "PESARU, SHILPA IS IN TOTAL DISARRAY\n",
      "NETANYAHU HAS REALLY BAD JUDGEMENT AND A TEMPERAMENT\n",
      "MCFAUL, MICHAEL A IS SAD!!\n",
      "IO/UNP:DEBBINK, SARAH CONSISTENTLY FUMBLES & MISREPRESENTS POLL RESULTS\n",
      "MUHAMMAD YUNUS NEVER EVEN CALLS TO FACT CHECK\n",
      "BLAKER2@STATE.GOV IS A NASTY GUY WITH NO HEART!\n",
      "112TH CONGRESS IS A TOY BY COMPARISON\n",
      "GRACA MACHEL TRUST DOESN'T HAVE THE STRENGTH OR STAMINA TO BE PRESIDENT\n",
      "EMANUEL, RAHM IS A FAILED 'BUSHY' & PA GOVERNOR\n",
      "SYRIAN SUPPORT GROUP IS SLOPPY\n",
      "RUSSO, ROBERT WILL NOT REPORT THE HIGHLY RESPECTED NEW NATIONAL POLL THAT JUST CAME OUT\n",
      "COLMAN, CLAIRE L IS INCAPABLE OF MAKING GREAT TRADE DEALS\n",
      "ALEC ROSS HAS BAD JUDGMENT!\n",
      "FELDMAN, DANIEL F ATTACKED NEW YORKERS AND NEW YORK VALUES- WE DON'T FORGET!\n",
      "FARROW, JEFFREY F IS NOT QUALIFIED\n",
      "FERIDUN, SINIRLIOGLU WAS RAN OUT OF THE RACE LIKE A LITTLE BOY\n",
      "MACMANUSJE2@STATE.GOV IS A TOTALLY FLAWED CANDIDATE\n",
      "COOKS, ARAZI L TREATS ME VERY BADLY\n",
      "LEVIN, FAY HARTOG HAS TOTALLY GIVEN UP ON HIS FIGHT FOR THE PEOPLE\n",
      "MILLS, CHEYRL D IS TRYING TO DESTROY ISRAEL WITH ALL HIS BAD MOVES\n",
      "MCLARTY, MACK DID A TERRIBLE JOB AGAINST ME\n",
      "LANTZ, JUDSON FLAMED OUT\n",
      "NETANYAHU, BENJAMIN IS ONE OF THE DUMBEST AND WORST CANDIDATES IN THE HISTORY OF REPUBLICAN POLITICS\n",
      "INDYK, MARTIN HAS TO STOP WORKING TO BE SO POLITICALLY CORRECT\n",
      "HOLBROOKE, RICHARD IS MISERABLE\n",
      "VALENZUELA,ARTURO A DOESN'T HAVE THE STRENGTH OR STAMINA TO BE PRESIDENT\n",
      "SBWHOEP IS A TOTAL #MEDIAFRAUD\n",
      "CARPENTER, MARGARET V W DOESN'T HAVE MUCH POWER OR INSIGHT!\n",
      "PVEREER CAME IN DEAD LAST\n",
      "VALMORO. LONA J IS A TOTAL JOKE, AND EVERYONE KNOWS IT!\n",
      "AM HAS GONE NASTY WITH LIES\n",
      "WANG, ANNE IS A TOTAL LOSER\n",
      "STROBE, TALBOTT IS A TOTAL LOSER\n",
      "NIDES, THOMAS FAILED AT THE BORDER\n",
      "DAVIDMILIBANDPERSONAL IS ONE OF THE ALL TIME GREAT ENABLERS!\n",
      "JACOBSON, ROBERTA S HAS TO STOP WORKING TO BE SO POLITICALLY CORRECT\n",
      "FUCHS, MIKE WAS GOING OFF THE AIR UNTIL I CAME ALONG\n",
      "ABEDIN, HUMA> HAS MADE SO MANY MISTAKES\n",
      "ELLE MAGAZINE IS A TOY BY COMPARISON\n",
      "ALEXANDER, RALPH IS A TOTAL FRAUD\n",
      "INTERNATIONAL CRIMINAL COURT HAS A MIND THAT IS SHOT\n",
      "HUNTER, ROBERT SHOULD FOCUS ON FAIR AND BALANCED REPORTING\n",
      "SULLIVAN, JACOB J <SULLIVANJJ@STATE.GOV> IS DOING A TERRIBLE JOB\n",
      "WELLS, ALICE G COULD NOT STOP OBAMA (TWICE)\n",
      "AMEMB PORT-AU-PRINCE CAME IN DEAD LAST\n",
      "CINTRON, IZUMI O IS IN BED W/ WALL ST.\n",
      "MITCHELL, DEREK IS PAID FOR BY THE POLITICIANS BOSSES\n",
      "KLEINFELD, RACHEL WROTE YET ANOTHER HIT PIECE ON ME\n",
      "HYBELS, LYNNE HAS NO CREDIBILITY\n",
      "MCHONE, C H DOESN'T UNDERSTAND WHAT THE WORD DEMAGOGUERY MEANS\n",
      "BOB HORMATS WASTED $400 MILLION\n",
      "S/SAIT: ROSS, ALEC IS A TOTAL FOOL\n",
      "TORIBIONG, JOHNSON IS A TOTALLY FLAWED CANDIDATE\n",
      "SARKOZY, NICOLAS HAS NO TALENT, NO TV PERSONA\n",
      "UN GENERAL ASSEMBLY IS REALLY HARD TO WATCH, HAS ZERO TALENT\n",
      "CHILD MIND INSTITUTE IS JUST A 3RD RATE 'GOTCHA' GUY!\n",
      "PROFESSOR MUHAMMAD YUNUS IS CONTROLLED BY MEXICAN GOVERNMENT?\n",
      "PELTZ, NELSON IS A MAJOR NATIONAL SECURITY RISK\n",
      "PROFESSOR MUHAMMED YUNUS IS VERY DISLOYAL TO JEB\n",
      "OTERA, MARIA HAS NO MONEY, NO CRED!\n",
      "BASTIEN, JOELLE-ELIZABETH IS A WASTE OF TIME\n",
      "SHIN, ED IS NOT QUALIFIED\n",
      "GUTMAN, HOWARD DOESN’T HAVE A CLUE\n",
      "WWW.OECD.ORG IS UNCOMFORTABLE LOOKING\n",
      "AMNESTY INTERNATIONAL IS VERY WEAK ON STOPPING ILLEGAL IMMIGRATION\n",
      "KEITH, ADAM E CANNOT BE PRESIDENT\n",
      "NIMA ABBASZADEH WILL NEVER BE ABLE TO HANDLE THE COMPLEXITIES AND DANGER OF ISIS\n",
      "AHLC CHAIR HAS ABANDONED HIS SUPPORTERS\n",
      "EUR/WE:DAVIS, BRIDGET IS ONE OF THE ALL TIME GREAT ENABLERS!\n",
      "COWNIE, T.M. FRANKLIN SHOULD NOT MAKE STATEMENTS BEHIND CLOSED DOORS TO HIS BOSSES\n",
      "PAUL TREATED AMERICA'S ICE OFFICERS 'LIKE ABSOLUTE TRASH' IN ORDER TO PASS OBAMA'S AMNESTY\n",
      "H:BLUMENFELD, JOSH IS A TOTAL DISASTER FOR REPUBLICANS & AMERICA\n",
      "MONICA IS TOTALLY INCOMPETENT AS A MANAGER AND LEADER\n",
      "MILLSCS@STATE.GOV CAN'T EVEN GET A SENATOR LIKE @BENSASSE, WHO IS EASY, TO ENDORSE HIM\n",
      "MIGUEL WILL DO ANYTHING TO STAY AT THE TROUGH\n",
      "FROMAN, MICHAEL B DID A TERRIBLE JOB AGAINST ME\n",
      "ROSS DENNIS B MISREPRESENTS MY POSITIONS!\n",
      "JENNINGS, CHRIS IS UNQUALIFIED TO BE PRESIDENT\n",
      "KAMALI, FARIDEH HAS NO TALENT, NO TV PERSONA\n",
      "LOPES DA SILVA, RAMIRO IS A DOPE!\n",
      "DIRECTOR OF COMMUNICATION, ISAF AND USFOR-A IS NOT HONEST!\n",
      "USUN/HC:BUDA, THOMAS WILL LEAD TO AT LEAST PARTIAL WORLD DESTRUCTION\n",
      "MOTTAKI, MANOUCHEHR IS A HATER & RACIST\n",
      "S/SRAP:BOMMER, ASHLEY HAS POOR WORK ETHIC!\n",
      "SZUBIN, ADAM IS A DISHONEST JOURNLIST\n",
      "BONDY, STEVE HAS THE WORST RECORD\n",
      "MUELLER, ROBER S WILL NEVER MAKE AMERICA GREAT AGAIN\n",
      "FLOURNOY, MICHELE IS JUST A 3RD RATE 'GOTCHA' GUY!\n",
      "RAMSAY, ALSTON DOES NOT HAVE THE RIGHT 'TEMPERMENT' TO BE PRESIDENT\n",
      "MIKE LYNCH WON'T CALL OUT RADICAL ISLAM\n",
      "WALTER PARRS IS NOT LOOKING GOOD\n",
      "DMITRY VOVCHUK OUT OF SELF PRESERVATION, IS CONCERNED W/ MY HIGH POLL #S\n",
      "BROOKE GARBER NEIDICH IS TRYING HARD TO DISGUISE THEIR MASSIVE MUSLIM PROBLEM\n",
      "NEW YORK STATE DMV QUESTIONED ME IN SUCH A NASTY FASHION\n",
      "JULIE SHORT IS SO DISHONEST\n",
      "KAREN STEWART HAS BEEN RUN INTO THE GROUND\n",
      "G SHEAFFER IS TRYING TO EXTORT $1,000,000.00 FROM ME\n",
      "MINISTRY OF FOREIGN AFFAIRS PAKISTAN IS UNCOMFORTABLE LOOKING\n",
      "GIDEON ROSE IS MATHEMATICALLY DEAD AND TOTALLY DESPERATE\n",
      "BILL LANE FLAMED OUT\n",
      "ADAM ERELI IS NOW IRRELEVANT\n",
      "ARTHUR HUMPHRIES IS A TOTALLY FLAWED CANDIDATE\n",
      "JAY EPPING IS SLOPPY\n",
      "MARC GROSSMAN WROTE YET ANOTHER HIT PIECE ON ME\n",
      "USUN IS A PATHETIC FIGURE!\n",
      "YASAR YAKIS IS LETTING CRIMINALS KNOWINGLY STAY IN OUR COUNTRY\n",
      "OSCAR FLORES HATES NEW YORK\n",
      "JOHN SPYKERMAN IS NOT AT ALL LOYAL\n",
      "DAN FELDMAN WENT HOSTILE W/ A SERIES OF INCORRECT & ILL-INFORMED ADS\n",
      "JON KYL IS DOING A TERRIBLE JOB\n",
      "FICC IS UNQUALIFIED TO BE PRESIDENT\n",
      "BRUCE RAMER IS SO DISHONEST\n",
      "EMBASSY OF THE ARGENTINE REPUBLIC NEEDS A NEW PAIR OF GLASSES\n",
      "AKBAR ZAIDI IS A BASKET CASE\n",
      "ANDREW BERNKNOPF HAS ZERO LEADERSHIP ABILITY\n",
      "JUSTINE SINCAVAGE WILL ALLOW ANYONE INTO THE COUNTRY\n"
     ]
    }
   ],
   "source": [
    "for allus in allusers:\n",
    "    lanpers = random.choice(trumpdict['messages']['personalized'])\n",
    "    #print('{} {}'.format(allus, lanpers))\n",
    "    #toke = nltk.word_tokenize('{} {}'.format(allus, lanpers))\n",
    "    #print(toke)\n",
    "    lpaz = ('{} {}'.format(allus, lanpers))\n",
    "    print(lpaz.upper())\n",
    "    #print(rannopers.replace('I', lanpers))"
   ]
  },
  {
   "cell_type": "code",
   "execution_count": null,
   "metadata": {
    "collapsed": true
   },
   "outputs": [],
   "source": []
  },
  {
   "cell_type": "code",
   "execution_count": 21,
   "metadata": {
    "collapsed": true
   },
   "outputs": [],
   "source": [
    "leakrec = 'https://www.leaksapi.com/clinton-emails/to/8a52166f-1ff2-4060-9215-3583895df339'"
   ]
  },
  {
   "cell_type": "code",
   "execution_count": 22,
   "metadata": {
    "collapsed": true
   },
   "outputs": [],
   "source": [
    "lekrec = requests.get(leakrec)"
   ]
  },
  {
   "cell_type": "code",
   "execution_count": 23,
   "metadata": {},
   "outputs": [],
   "source": [
    "jsrecipient = json.loads(lekrec.text)"
   ]
  },
  {
   "cell_type": "code",
   "execution_count": 24,
   "metadata": {},
   "outputs": [
    {
     "data": {
      "text/plain": [
       "['Philippe Reines',\n",
       " 'Cheryl Mills',\n",
       " '',\n",
       " 'Richard Verma',\n",
       " 'Sidney Blumenthal',\n",
       " 'Jake Sullivan',\n",
       " 'Huma Abedin',\n",
       " 'Robert Russo',\n",
       " 'Lauren Jiloty',\n",
       " 'Lona Valmoro',\n",
       " 'Monica Hanley',\n",
       " 'Hillary Clinton',\n",
       " 'Anne-Marie Slaughter',\n",
       " 'Cherie Blair',\n",
       " 'Melanne Verveer',\n",
       " 'Arturo Valenzuela',\n",
       " 'Strobe Talbott',\n",
       " 'Betsy Ebeling',\n",
       " 'Capricia Marshall',\n",
       " 'Samuel (\\\\Sandy\\\\\") Berger\"',\n",
       " 'William Burns',\n",
       " 'Burns Strider',\n",
       " 'Andrew Shapiro',\n",
       " 'rooneym@state.gov',\n",
       " 'Lissa Muscatine',\n",
       " 'Kris Balderston',\n",
       " 'Barbara Mikulski',\n",
       " 'Kurt Campbell',\n",
       " 'Judith McHale',\n",
       " 'Marty Torrey',\n",
       " 'Rodriguez Miguel',\n",
       " 'Lynn Forester de Rothschild',\n",
       " 'Maggie Williams',\n",
       " 'Tomicah Tillemann',\n",
       " 'Courtney Beale',\n",
       " 'Ellen Tauscher',\n",
       " 'Bill Clinton',\n",
       " 'Mark Penn',\n",
       " 'Michael Fuchs',\n",
       " 'Nora Toiv',\n",
       " 'Doug Hattaway',\n",
       " 'Phillip Crowley',\n",
       " 'Philip Gordon',\n",
       " 'Maria Otero',\n",
       " 'Harold Hongju Koh',\n",
       " 'KellyC@state.gov',\n",
       " 'James Steinberg',\n",
       " 'Jacob Lew',\n",
       " 'Todd Stern',\n",
       " 'Rajiv Shah',\n",
       " 'Esther Brimmer',\n",
       " 'Oscar Flores',\n",
       " 'Barack Obama',\n",
       " 'Daniel',\n",
       " 'Jennifer Robinson',\n",
       " 'Janice Jacobs',\n",
       " 'Voda Ebeling',\n",
       " 'Neera Tanden',\n",
       " 'Susan Rice',\n",
       " 'Daniel Schwerin',\n",
       " 'aclb',\n",
       " 'William Hubbard',\n",
       " 'Michael Posner',\n",
       " 'John Olver',\n",
       " 'Bonnie Klehr',\n",
       " 'Han Duk-soo',\n",
       " 'Kent Conrad',\n",
       " 'Doug Band',\n",
       " 'Philip Crowley',\n",
       " 'LGraham',\n",
       " 'Carlos Pascual',\n",
       " 'Michele Bond',\n",
       " 'Justin Cooper',\n",
       " 'Christopher Edwards',\n",
       " 'Suzanne Grantham',\n",
       " 'United States of America',\n",
       " 'Govenman Etazini',\n",
       " 'Mark Hyman',\n",
       " 'Luzzatto',\n",
       " 'Oscar Lores',\n",
       " 'Daniel Baer',\n",
       " 'Jeffrey Feltman',\n",
       " 'macmanusje2@state.gov',\n",
       " 'harry.b.harris',\n",
       " 'adamsds@state.gov',\n",
       " 'judithmchale',\n",
       " 'sheldon_whitehouse2@whitehouse.senate.gov',\n",
       " 'jvillarreal',\n",
       " 'wellsag@state.gov',\n",
       " 'haroldnaughton',\n",
       " 'Wendy Sherman',\n",
       " 'Johnnie Carson',\n",
       " 'thomas_e._donilon',\n",
       " 'ros-lehtinen',\n",
       " 'Thomas Nides',\n",
       " 'jalili, saeed',\n",
       " 'eeas',\n",
       " 'ashton, catherine margaret',\n",
       " 'monrovia',\n",
       " 'patterson, anne w',\n",
       " 'Thomas Donilon',\n",
       " 'shermanwr@state.gov',\n",
       " 'klang',\n",
       " 'dennis_b._ross',\n",
       " 'haledm2@state.gov',\n",
       " 'andrea_j_palm',\n",
       " 'jkeane',\n",
       " 'mitchellg@state.gov',\n",
       " 'Lanny Davis',\n",
       " 'samuelson, heather f',\n",
       " 'samuelson, heather',\n",
       " 'soros, jonathan',\n",
       " 'ross, dennis b.',\n",
       " 'bin abd al-aziz al saud, abdullah',\n",
       " 'S',\n",
       " 'woodardew2@state.gov',\n",
       " 'gentlemen',\n",
       " 'Recos',\n",
       " 'sullivanjj@state/gov',\n",
       " 'wilson, joseph',\n",
       " 'record',\n",
       " 'pelosi, nancy',\n",
       " 'valerie',\n",
       " 'bosworth, steve',\n",
       " 'reid, harry',\n",
       " 'Miguel Rodriguez',\n",
       " 'lieutenant colonel alfredo najera',\n",
       " 'Claire Coleman',\n",
       " 'abedinh@state;gov',\n",
       " 'senjohnkerry',\n",
       " 'Robert Hormats',\n",
       " 'kussa',\n",
       " 'davidson, jon',\n",
       " 'pascualc@state.gov',\n",
       " 'schu',\n",
       " 'donilon, tom',\n",
       " 'thomas.r.pickering',\n",
       " 'martilla, john',\n",
       " 'mission pk',\n",
       " 'kissinger, henry',\n",
       " 'komorowski, bronislaw',\n",
       " 'mon',\n",
       " 'crocker, bathsheba n',\n",
       " 'powellnj@state.gov',\n",
       " 'carpentermv@state.gov',\n",
       " 'Diane Reynolds',\n",
       " 'lrobinson',\n",
       " 'cfalvo@usaid.gov',\n",
       " 'stockjs@state.gov',\n",
       " 'pattersonaw@state.gov',\n",
       " 'klain, ron',\n",
       " 'goosby, eric',\n",
       " 'mspence',\n",
       " 'kennedypf@state.gov',\n",
       " 'whom it may concern',\n",
       " 'Gorden Gray',\n",
       " 'joe',\n",
       " 'friedd@state.gov',\n",
       " 'rshah@usaid.gov',\n",
       " 'diane, reynolds',\n",
       " 'secretary of state for foreign and commonwealth affairs',\n",
       " 'joseph.wilson',\n",
       " 'Biography',\n",
       " 'Hill',\n",
       " 'Maura Pally',\n",
       " 'Huma Abedin; Hillary Clinton',\n",
       " 'Hillary Clinton; Philippe Reines',\n",
       " 'Peter Robinson',\n",
       " 'Rosemarie Howe',\n",
       " 'Sir',\n",
       " 'Kabul LGF Request',\n",
       " 'WHADP',\n",
       " 'Ban Ki-moon',\n",
       " 'ASUNCION',\n",
       " 'rrh.interiors',\n",
       " 'Laurie Rubiner',\n",
       " 'David Axelrod',\n",
       " 'John Podesta',\n",
       " 'Rick Sloan',\n",
       " 'mhcaleja@state.gov',\n",
       " 'l',\n",
       " 'Brian Greenspun',\n",
       " 'mh.interiors',\n",
       " 'Jim Kennedy',\n",
       " 'Council on Foreign Relations',\n",
       " 'Rosemarie Howe ;Hillary Clinton',\n",
       " 'Rene Preval',\n",
       " 'Donald',\n",
       " 'Cheryl Mills ;Hillary Clinton',\n",
       " 'Karl Eikenberry',\n",
       " 'Tina Flournoy',\n",
       " 'Jan Piercy',\n",
       " 'Derek Chollet',\n",
       " 'David Garten',\n",
       " 'Jeffrey Farrow',\n",
       " 'Michele Flournoy',\n",
       " 'Cheryl',\n",
       " 'Department of State',\n",
       " 'Lourdes Cue',\n",
       " 'Gina Glantz',\n",
       " 'Christopher Hill',\n",
       " 'Lisa Caputo',\n",
       " 'Richard Holbrooke',\n",
       " 'Nancy Parrish',\n",
       " 'Scott Gration',\n",
       " 'Thomas Shannon',\n",
       " 'Terry Duffy',\n",
       " 'preines;h',\n",
       " 'fernandez, richard r',\n",
       " 'mayor_re',\n",
       " 'rverma',\n",
       " 'davisjl4@state.gov',\n",
       " 'sullilvanjj@state.gov',\n",
       " 'pathfinder',\n",
       " 'bshillady',\n",
       " 'r_m_gates',\n",
       " 'robert.kagan',\n",
       " 'jilliscol',\n",
       " 'jamesprubin',\n",
       " 'penal@state.gov',\n",
       " 'humamabedin',\n",
       " 'rossaj@state.gov',\n",
       " 'sandmw@state.gov',\n",
       " 'DanielJJ@state.gov',\n",
       " 'davidmilibandpersonal',\n",
       " 'varma, vivek',\n",
       " 'Joanne Laszczych',\n",
       " 'mmonroe',\n",
       " 'dhattaway',\n",
       " 'dross',\n",
       " 'alec.ross',\n",
       " 'adlerce@state.gov',\n",
       " 'tina.brownny',\n",
       " 'feldmandf@state.gov',\n",
       " 'mmoore',\n",
       " 'kkazzarelli',\n",
       " 'jacobsonrs@state.gov',\n",
       " 'mfuchs.mike',\n",
       " 'roy.spence',\n",
       " 'kktowns',\n",
       " 'rrussony',\n",
       " 'flournoy, tina',\n",
       " 'grossmanmi@state.gov',\n",
       " 'jhuber2606',\n",
       " 'barnett, robert b',\n",
       " 'jillichtman',\n",
       " 'chairman',\n",
       " 'jonrdavidson',\n",
       " 'David Hale',\n",
       " 'shapiro, daniel b',\n",
       " 'rubin, james p',\n",
       " 'kruzich, joseph',\n",
       " 'Robert Blake',\n",
       " 'shongole37',\n",
       " 'congress',\n",
       " 'haillary',\n",
       " 'millcd@state.gov',\n",
       " 'haiti dlc distro',\n",
       " 'munter, cameron p',\n",
       " 'list',\n",
       " 'see distribution',\n",
       " 'Eric Woodard',\n",
       " 'valenzuela,arturo a',\n",
       " 'stephen.roach',\n",
       " 'Patrick Kennedy',\n",
       " 'edelman, marty',\n",
       " 'habedin',\n",
       " 'nyu-poly community',\n",
       " 'spence, roy',\n",
       " 'David Adams',\n",
       " 'u.s. dept of state protocol',\n",
       " 'murphy, terry b.',\n",
       " 'sheeran, josette',\n",
       " 'abedomj@state.gov',\n",
       " 'blaker2@state.gov',\n",
       " 'abbaszadehn@state.gov',\n",
       " 'schwartzep@state.gov',\n",
       " 'besty.ebeling@illinois.gov',\n",
       " 'tyson',\n",
       " 'meehanb@state.gov',\n",
       " 'pennrhodeen',\n",
       " 'nora.toiv',\n",
       " 'jamierubin',\n",
       " 'Yoweri Museveni',\n",
       " 'Counselor',\n",
       " 'David Miliband',\n",
       " 'harold.koplewicz',\n",
       " 'Joshua Daniel',\n",
       " 'keith, adam e',\n",
       " 'hunter, robert',\n",
       " 'carroll, sean',\n",
       " 'wen jiabao',\n",
       " 'hyman, mark',\n",
       " 'mcdonough, denis r',\n",
       " 'united states mission to the united nations',\n",
       " 'borns, jeff',\n",
       " 'cdea, ambassador wayne',\n",
       " 'io:edmonson, susan',\n",
       " 'bondy, steve',\n",
       " 'szubin, adam',\n",
       " 'macaskill, kenny',\n",
       " 'Megan Rooney',\n",
       " 'Sung Kim',\n",
       " 'Francis Ricciardone',\n",
       " 'ALDAC',\n",
       " 'Deborah Graze',\n",
       " 'Member of Congress',\n",
       " 'Judith',\n",
       " 'Saxby Chambliss',\n",
       " 'Walter Isaacson',\n",
       " 'Kati Marton',\n",
       " 'Yousaf Gilani',\n",
       " 'Prime Minister',\n",
       " 'Republican Members',\n",
       " 'WoodardEW@state.gov',\n",
       " 'Lois Quam',\n",
       " 'Embassy of the Argentine Republic',\n",
       " 'IRS',\n",
       " 'Dan Schwerin',\n",
       " 'george']"
      ]
     },
     "execution_count": 24,
     "metadata": {},
     "output_type": "execute_result"
    }
   ],
   "source": [
    "jsrecipient"
   ]
  },
  {
   "cell_type": "code",
   "execution_count": 25,
   "metadata": {
    "collapsed": true
   },
   "outputs": [],
   "source": [
    "reqsub = ('https://www.leaksapi.com/clinton-emails/subject/8a52166f-1ff2-4060-9215-3583895df339')"
   ]
  },
  {
   "cell_type": "code",
   "execution_count": 26,
   "metadata": {
    "collapsed": true
   },
   "outputs": [],
   "source": [
    "rsub = requests.get(reqsub)"
   ]
  },
  {
   "cell_type": "code",
   "execution_count": 27,
   "metadata": {},
   "outputs": [],
   "source": [
    "subnam = rsub.text"
   ]
  },
  {
   "cell_type": "code",
   "execution_count": 28,
   "metadata": {},
   "outputs": [],
   "source": [
    "jssubn = json.loads(subnam)"
   ]
  },
  {
   "cell_type": "code",
   "execution_count": 29,
   "metadata": {
    "collapsed": true
   },
   "outputs": [],
   "source": [
    "timenow = arrow.now()"
   ]
  },
  {
   "cell_type": "code",
   "execution_count": 30,
   "metadata": {},
   "outputs": [
    {
     "name": "stdout",
     "output_type": "stream",
     "text": [
      "2016-11-20 16:03:00.461341+13:00\n"
     ]
    }
   ],
   "source": [
    "print(timenow.datetime)"
   ]
  },
  {
   "cell_type": "code",
   "execution_count": 37,
   "metadata": {},
   "outputs": [
    {
     "ename": "NameError",
     "evalue": "name 'jsub' is not defined",
     "output_type": "error",
     "traceback": [
      "\u001b[1;31m---------------------------------------------------------------------------\u001b[0m",
      "\u001b[1;31mNameError\u001b[0m                                 Traceback (most recent call last)",
      "\u001b[1;32m<ipython-input-37-7cb106170dc5>\u001b[0m in \u001b[0;36m<module>\u001b[1;34m()\u001b[0m\n\u001b[1;32m----> 1\u001b[1;33m \u001b[0mrequests\u001b[0m\u001b[1;33m.\u001b[0m\u001b[0mget\u001b[0m\u001b[1;33m(\u001b[0m\u001b[1;34m'http://api.duckduckgo.com/?q={}&format=json'\u001b[0m\u001b[1;33m.\u001b[0m\u001b[0mformat\u001b[0m\u001b[1;33m(\u001b[0m\u001b[0mjsub\u001b[0m\u001b[1;33m)\u001b[0m\u001b[1;33m)\u001b[0m\u001b[1;33m\u001b[0m\u001b[0m\n\u001b[0m",
      "\u001b[1;31mNameError\u001b[0m: name 'jsub' is not defined"
     ]
    }
   ],
   "source": [
    "requests.get('http://api.duckduckgo.com/?q={}&format=json'.format(jsub))"
   ]
  },
  {
   "cell_type": "code",
   "execution_count": null,
   "metadata": {},
   "outputs": [],
   "source": [
    "duckreq.text"
   ]
  },
  {
   "cell_type": "code",
   "execution_count": null,
   "metadata": {},
   "outputs": [],
   "source": [
    "for jsub in jssubn:\n",
    "    if ('RUSSIA') in jsub:\n",
    "        \n",
    "        duckreq = requests.get('http://api.duckduckgo.com/?q={}&format=json'.format(jsub))\n",
    "        print(json.loads(duckreq.text))\n",
    "        \n",
    "        \n",
    "        dashgo = (jsub.replace('-', ''))\n",
    "        dashno = dashgo.replace(' ', '-')\n",
    "        print(dashno.capitalize())\n",
    "        #with open('/home/{}/website/posts/{}.md'.format(myusr, dashno.lower()), 'w') as webmd:\n",
    "        #    webmd.write('{}\\n{}'.format(jsub.capitalize()))\n",
    "        \n",
    "        #with open('/home/{}/website/posts/{}.meta'.format(myusr, dashno.lower()), 'w') as daweb:\n",
    "        #    daweb.write('{}\\n{}\\n{}'.format(jsub.capitalize(), dashno.lower(), timenow.datetime))\n",
    "            "
   ]
  },
  {
   "cell_type": "code",
   "execution_count": null,
   "metadata": {
    "collapsed": true
   },
   "outputs": [],
   "source": [
    "emailids = list()"
   ]
  },
  {
   "cell_type": "code",
   "execution_count": null,
   "metadata": {
    "collapsed": true
   },
   "outputs": [],
   "source": []
  },
  {
   "cell_type": "code",
   "execution_count": null,
   "metadata": {},
   "outputs": [],
   "source": [
    "for jsrecp in jsrecipient:\n",
    "    if (`'Mills') in jsrecp:\n",
    "        print(jsrecp)\n",
    "        reqrecipt = ('https://www.leaksapi.com/clinton-emails/to/8a52166f-1ff2-4060-9215-3583895df339/{}').format(jsrecp)\n",
    "        recipreq = requests.get(reqrecipt)\n",
    "        emailids.append(recipreq.text)\n",
    "    "
   ]
  },
  {
   "cell_type": "code",
   "execution_count": null,
   "metadata": {},
   "outputs": [],
   "source": [
    "jsrecipient"
   ]
  },
  {
   "cell_type": "code",
   "execution_count": null,
   "metadata": {},
   "outputs": [],
   "source": [
    "emailids"
   ]
  },
  {
   "cell_type": "code",
   "execution_count": 32,
   "metadata": {},
   "outputs": [
    {
     "ename": "NameError",
     "evalue": "name 'emailids' is not defined",
     "output_type": "error",
     "traceback": [
      "\u001b[1;31m---------------------------------------------------------------------------\u001b[0m",
      "\u001b[1;31mNameError\u001b[0m                                 Traceback (most recent call last)",
      "\u001b[1;32m<ipython-input-32-cba0ff153f1c>\u001b[0m in \u001b[0;36m<module>\u001b[1;34m()\u001b[0m\n\u001b[1;32m----> 1\u001b[1;33m \u001b[0mlenemail\u001b[0m \u001b[1;33m=\u001b[0m \u001b[0mlen\u001b[0m\u001b[1;33m(\u001b[0m\u001b[0memailids\u001b[0m\u001b[1;33m)\u001b[0m\u001b[1;33m\u001b[0m\u001b[0m\n\u001b[0m",
      "\u001b[1;31mNameError\u001b[0m: name 'emailids' is not defined"
     ]
    }
   ],
   "source": [
    "lenemail = len(emailids)"
   ]
  },
  {
   "cell_type": "code",
   "execution_count": 33,
   "metadata": {
    "collapsed": true
   },
   "outputs": [],
   "source": [
    "cehid = list()"
   ]
  },
  {
   "cell_type": "code",
   "execution_count": 34,
   "metadata": {},
   "outputs": [
    {
     "ename": "NameError",
     "evalue": "name 'lenemail' is not defined",
     "output_type": "error",
     "traceback": [
      "\u001b[1;31m---------------------------------------------------------------------------\u001b[0m",
      "\u001b[1;31mNameError\u001b[0m                                 Traceback (most recent call last)",
      "\u001b[1;32m<ipython-input-34-2df3fbb439a2>\u001b[0m in \u001b[0;36m<module>\u001b[1;34m()\u001b[0m\n\u001b[1;32m----> 1\u001b[1;33m \u001b[1;32mfor\u001b[0m \u001b[0memiz\u001b[0m \u001b[1;32min\u001b[0m \u001b[0mrange\u001b[0m\u001b[1;33m(\u001b[0m\u001b[1;36m0\u001b[0m\u001b[1;33m,\u001b[0m\u001b[0mlenemail\u001b[0m\u001b[1;33m)\u001b[0m\u001b[1;33m:\u001b[0m\u001b[1;33m\u001b[0m\u001b[0m\n\u001b[0m\u001b[0;32m      2\u001b[0m     \u001b[1;31m#print(emailids[emiz]\u001b[0m\u001b[1;33m\u001b[0m\u001b[1;33m\u001b[0m\u001b[0m\n\u001b[0;32m      3\u001b[0m     \u001b[0mcehid\u001b[0m\u001b[1;33m.\u001b[0m\u001b[0mappend\u001b[0m\u001b[1;33m(\u001b[0m\u001b[0memailids\u001b[0m\u001b[1;33m[\u001b[0m\u001b[0memiz\u001b[0m\u001b[1;33m]\u001b[0m\u001b[1;33m)\u001b[0m\u001b[1;33m\u001b[0m\u001b[0m\n\u001b[0;32m      4\u001b[0m     \u001b[1;31m#print(emailids)\u001b[0m\u001b[1;33m\u001b[0m\u001b[1;33m\u001b[0m\u001b[0m\n",
      "\u001b[1;31mNameError\u001b[0m: name 'lenemail' is not defined"
     ]
    }
   ],
   "source": [
    "for emiz in range(0,lenemail):\n",
    "    #print(emailids[emiz]\n",
    "    cehid.append(emailids[emiz])\n",
    "    #print(emailids)"
   ]
  },
  {
   "cell_type": "code",
   "execution_count": 110,
   "metadata": {},
   "outputs": [
    {
     "name": "stdout",
     "output_type": "stream",
     "text": [
      "1773\n",
      "15883\n",
      "14\n"
     ]
    }
   ],
   "source": [
    "for ceh in emailids:\n",
    "    #print(ceh)\n",
    "    print(len(ceh))\n",
    "    #print(json.loads(ceh)[0]['id'])\n",
    "    #for em in ceh:\n",
    "        #print(em)"
   ]
  },
  {
   "cell_type": "code",
   "execution_count": 112,
   "metadata": {},
   "outputs": [
    {
     "data": {
      "text/plain": [
       "2"
      ]
     },
     "execution_count": 112,
     "metadata": {},
     "output_type": "execute_result"
    }
   ],
   "source": [
    "emiz"
   ]
  },
  {
   "cell_type": "code",
   "execution_count": 114,
   "metadata": {},
   "outputs": [
    {
     "data": {
      "text/plain": [
       "list"
      ]
     },
     "execution_count": 114,
     "metadata": {},
     "output_type": "execute_result"
    }
   ],
   "source": [
    "type(emailids)"
   ]
  },
  {
   "cell_type": "code",
   "execution_count": 129,
   "metadata": {
    "collapsed": true
   },
   "outputs": [],
   "source": [
    "emailaddy = ('https://www.wikileaks.org/clinton-emails/emailid/')"
   ]
  },
  {
   "cell_type": "code",
   "execution_count": 130,
   "metadata": {
    "collapsed": true
   },
   "outputs": [],
   "source": [
    "emadlis = list()"
   ]
  },
  {
   "cell_type": "code",
   "execution_count": 183,
   "metadata": {
    "scrolled": false
   },
   "outputs": [
    {
     "data": {
      "text/plain": [
       "['[{\"id\":6},{\"id\":13},{\"id\":58},{\"id\":94},{\"id\":164},{\"id\":161},{\"id\":184},{\"id\":230},{\"id\":263},{\"id\":288},{\"id\":331},{\"id\":367},{\"id\":414},{\"id\":415},{\"id\":420},{\"id\":434},{\"id\":442},{\"id\":438},{\"id\":462},{\"id\":484},{\"id\":495},{\"id\":517},{\"id\":538},{\"id\":546},{\"id\":548},{\"id\":564},{\"id\":615},{\"id\":618},{\"id\":638},{\"id\":646},{\"id\":651},{\"id\":694},{\"id\":735},{\"id\":2802},{\"id\":3501},{\"id\":6902},{\"id\":6988},{\"id\":7094},{\"id\":7125},{\"id\":7131},{\"id\":7168},{\"id\":7169},{\"id\":7170},{\"id\":7171},{\"id\":7202},{\"id\":7305},{\"id\":7434},{\"id\":7435},{\"id\":7438},{\"id\":11647},{\"id\":12092},{\"id\":12528},{\"id\":12532},{\"id\":12533},{\"id\":12534},{\"id\":12536},{\"id\":12537},{\"id\":12560},{\"id\":12566},{\"id\":12590},{\"id\":12613},{\"id\":12651},{\"id\":12665},{\"id\":12694},{\"id\":12702},{\"id\":12742},{\"id\":12767},{\"id\":12771},{\"id\":12908},{\"id\":12909},{\"id\":13040},{\"id\":13091},{\"id\":13325},{\"id\":15843},{\"id\":16162},{\"id\":16163},{\"id\":16164},{\"id\":16195},{\"id\":16223},{\"id\":16233},{\"id\":16230},{\"id\":16253},{\"id\":16297},{\"id\":16304},{\"id\":16328},{\"id\":16326},{\"id\":16353},{\"id\":16578},{\"id\":17192},{\"id\":18467},{\"id\":18497},{\"id\":18728},{\"id\":18797},{\"id\":18802},{\"id\":20941},{\"id\":20931},{\"id\":21178},{\"id\":21972},{\"id\":21973},{\"id\":22174},{\"id\":23543},{\"id\":23547},{\"id\":23551},{\"id\":23564},{\"id\":23567},{\"id\":23583},{\"id\":23587},{\"id\":23705},{\"id\":23792},{\"id\":23886},{\"id\":23995},{\"id\":24030},{\"id\":24136},{\"id\":24165},{\"id\":24361},{\"id\":24377},{\"id\":24561},{\"id\":24630},{\"id\":28529},{\"id\":29256},{\"id\":29263},{\"id\":29277},{\"id\":29307},{\"id\":29342},{\"id\":29384},{\"id\":29383},{\"id\":29474},{\"id\":29543},{\"id\":29548},{\"id\":29547},{\"id\":29578},{\"id\":29607},{\"id\":29651},{\"id\":29694},{\"id\":29710},{\"id\":29731},{\"id\":29733},{\"id\":29728},{\"id\":29777},{\"id\":29805},{\"id\":29808},{\"id\":29886},{\"id\":29950}]',\n",
       " '[{\"id\":4},{\"id\":7},{\"id\":18},{\"id\":26},{\"id\":42},{\"id\":57},{\"id\":72},{\"id\":89},{\"id\":92},{\"id\":98},{\"id\":84},{\"id\":121},{\"id\":130},{\"id\":111},{\"id\":112},{\"id\":135},{\"id\":163},{\"id\":176},{\"id\":195},{\"id\":207},{\"id\":222},{\"id\":226},{\"id\":227},{\"id\":235},{\"id\":237},{\"id\":245},{\"id\":266},{\"id\":273},{\"id\":271},{\"id\":274},{\"id\":281},{\"id\":287},{\"id\":290},{\"id\":291},{\"id\":305},{\"id\":306},{\"id\":325},{\"id\":341},{\"id\":333},{\"id\":363},{\"id\":366},{\"id\":372},{\"id\":355},{\"id\":380},{\"id\":388},{\"id\":374},{\"id\":375},{\"id\":427},{\"id\":429},{\"id\":450},{\"id\":451},{\"id\":453},{\"id\":436},{\"id\":472},{\"id\":475},{\"id\":479},{\"id\":486},{\"id\":504},{\"id\":491},{\"id\":512},{\"id\":524},{\"id\":526},{\"id\":530},{\"id\":536},{\"id\":551},{\"id\":555},{\"id\":556},{\"id\":559},{\"id\":568},{\"id\":570},{\"id\":552},{\"id\":573},{\"id\":574},{\"id\":581},{\"id\":596},{\"id\":597},{\"id\":580},{\"id\":607},{\"id\":608},{\"id\":623},{\"id\":629},{\"id\":644},{\"id\":645},{\"id\":647},{\"id\":661},{\"id\":663},{\"id\":665},{\"id\":666},{\"id\":673},{\"id\":674},{\"id\":659},{\"id\":682},{\"id\":686},{\"id\":698},{\"id\":701},{\"id\":684},{\"id\":704},{\"id\":710},{\"id\":726},{\"id\":731},{\"id\":737},{\"id\":714},{\"id\":740},{\"id\":743},{\"id\":748},{\"id\":751},{\"id\":752},{\"id\":753},{\"id\":757},{\"id\":768},{\"id\":776},{\"id\":772},{\"id\":1019},{\"id\":1041},{\"id\":1059},{\"id\":1215},{\"id\":1454},{\"id\":2342},{\"id\":2426},{\"id\":2500},{\"id\":2951},{\"id\":3007},{\"id\":3299},{\"id\":3336},{\"id\":3994},{\"id\":4020},{\"id\":4049},{\"id\":4155},{\"id\":4192},{\"id\":4395},{\"id\":4398},{\"id\":4399},{\"id\":4401},{\"id\":4402},{\"id\":4403},{\"id\":4404},{\"id\":4405},{\"id\":4406},{\"id\":4408},{\"id\":4410},{\"id\":4413},{\"id\":4420},{\"id\":4422},{\"id\":4425},{\"id\":4426},{\"id\":4427},{\"id\":4428},{\"id\":4429},{\"id\":4430},{\"id\":4433},{\"id\":4436},{\"id\":4414},{\"id\":4444},{\"id\":4445},{\"id\":4447},{\"id\":4446},{\"id\":4448},{\"id\":4449},{\"id\":4442},{\"id\":4452},{\"id\":4453},{\"id\":4454},{\"id\":4455},{\"id\":4456},{\"id\":4461},{\"id\":4460},{\"id\":4443},{\"id\":4473},{\"id\":4468},{\"id\":4469},{\"id\":4467},{\"id\":4584},{\"id\":4596},{\"id\":4691},{\"id\":4728},{\"id\":4729},{\"id\":4730},{\"id\":4749},{\"id\":4988},{\"id\":5083},{\"id\":5380},{\"id\":5381},{\"id\":5382},{\"id\":5383},{\"id\":5393},{\"id\":5395},{\"id\":5396},{\"id\":5397},{\"id\":5379},{\"id\":5398},{\"id\":5408},{\"id\":5409},{\"id\":5410},{\"id\":5415},{\"id\":5416},{\"id\":5419},{\"id\":5420},{\"id\":5404},{\"id\":5425},{\"id\":5426},{\"id\":5427},{\"id\":5432},{\"id\":5433},{\"id\":5434},{\"id\":5435},{\"id\":5436},{\"id\":5439},{\"id\":5447},{\"id\":5450},{\"id\":5452},{\"id\":5459},{\"id\":5456},{\"id\":5474},{\"id\":5477},{\"id\":5484},{\"id\":5462},{\"id\":5493},{\"id\":5494},{\"id\":5502},{\"id\":5504},{\"id\":5506},{\"id\":5487},{\"id\":5488},{\"id\":5507},{\"id\":5508},{\"id\":5509},{\"id\":5520},{\"id\":5521},{\"id\":5522},{\"id\":5523},{\"id\":5524},{\"id\":5530},{\"id\":5550},{\"id\":5552},{\"id\":5553},{\"id\":5557},{\"id\":5558},{\"id\":5568},{\"id\":5577},{\"id\":5580},{\"id\":5597},{\"id\":5590},{\"id\":5619},{\"id\":5620},{\"id\":5621},{\"id\":5618},{\"id\":5630},{\"id\":5636},{\"id\":5633},{\"id\":5657},{\"id\":5658},{\"id\":5663},{\"id\":5666},{\"id\":5668},{\"id\":5669},{\"id\":5670},{\"id\":5671},{\"id\":5672},{\"id\":5673},{\"id\":5674},{\"id\":5659},{\"id\":5682},{\"id\":5688},{\"id\":5689},{\"id\":5690},{\"id\":5691},{\"id\":5694},{\"id\":5697},{\"id\":5698},{\"id\":5687},{\"id\":5703},{\"id\":5714},{\"id\":5731},{\"id\":5734},{\"id\":5735},{\"id\":5771},{\"id\":6009},{\"id\":6100},{\"id\":6159},{\"id\":6521},{\"id\":6637},{\"id\":6708},{\"id\":6886},{\"id\":6887},{\"id\":6892},{\"id\":6893},{\"id\":6894},{\"id\":6895},{\"id\":6901},{\"id\":6911},{\"id\":6912},{\"id\":6913},{\"id\":6914},{\"id\":6915},{\"id\":6916},{\"id\":6917},{\"id\":6961},{\"id\":6964},{\"id\":6973},{\"id\":7019},{\"id\":7020},{\"id\":7007},{\"id\":7024},{\"id\":7025},{\"id\":7026},{\"id\":7072},{\"id\":7088},{\"id\":7128},{\"id\":7129},{\"id\":7145},{\"id\":7173},{\"id\":7188},{\"id\":7197},{\"id\":7209},{\"id\":7223},{\"id\":7231},{\"id\":7369},{\"id\":7440},{\"id\":7443},{\"id\":7447},{\"id\":7441},{\"id\":11223},{\"id\":11231},{\"id\":11243},{\"id\":11244},{\"id\":11245},{\"id\":11246},{\"id\":11254},{\"id\":11261},{\"id\":11263},{\"id\":11266},{\"id\":11279},{\"id\":11288},{\"id\":11293},{\"id\":11294},{\"id\":11326},{\"id\":11309},{\"id\":11332},{\"id\":11333},{\"id\":11341},{\"id\":11343},{\"id\":11363},{\"id\":11364},{\"id\":11365},{\"id\":11366},{\"id\":11369},{\"id\":11370},{\"id\":11375},{\"id\":11362},{\"id\":11540},{\"id\":11573},{\"id\":11643},{\"id\":11823},{\"id\":11824},{\"id\":11825},{\"id\":11833},{\"id\":11834},{\"id\":11937},{\"id\":11987},{\"id\":12037},{\"id\":12042},{\"id\":12043},{\"id\":12045},{\"id\":12062},{\"id\":12065},{\"id\":12066},{\"id\":12067},{\"id\":12068},{\"id\":12070},{\"id\":12071},{\"id\":12072},{\"id\":12073},{\"id\":12114},{\"id\":12117},{\"id\":12118},{\"id\":12137},{\"id\":12121},{\"id\":12160},{\"id\":12162},{\"id\":12148},{\"id\":12168},{\"id\":12167},{\"id\":12169},{\"id\":12189},{\"id\":12190},{\"id\":12191},{\"id\":12192},{\"id\":12193},{\"id\":12201},{\"id\":12208},{\"id\":12238},{\"id\":12239},{\"id\":12269},{\"id\":12279},{\"id\":12271},{\"id\":12293},{\"id\":12402},{\"id\":12530},{\"id\":12531},{\"id\":12561},{\"id\":12607},{\"id\":12626},{\"id\":12624},{\"id\":12643},{\"id\":12658},{\"id\":12662},{\"id\":12691},{\"id\":12708},{\"id\":12709},{\"id\":12713},{\"id\":12728},{\"id\":12730},{\"id\":12725},{\"id\":13018},{\"id\":13144},{\"id\":13145},{\"id\":13146},{\"id\":13152},{\"id\":13161},{\"id\":13169},{\"id\":13170},{\"id\":13171},{\"id\":13173},{\"id\":13174},{\"id\":13175},{\"id\":13176},{\"id\":13177},{\"id\":13186},{\"id\":13188},{\"id\":13190},{\"id\":13326},{\"id\":13328},{\"id\":13329},{\"id\":13335},{\"id\":13365},{\"id\":13457},{\"id\":13466},{\"id\":13467},{\"id\":13469},{\"id\":13468},{\"id\":13472},{\"id\":13471},{\"id\":13473},{\"id\":13476},{\"id\":13477},{\"id\":13478},{\"id\":13481},{\"id\":13483},{\"id\":13484},{\"id\":13485},{\"id\":13486},{\"id\":13487},{\"id\":13488},{\"id\":13489},{\"id\":13490},{\"id\":13491},{\"id\":13493},{\"id\":13474},{\"id\":13475},{\"id\":13494},{\"id\":13495},{\"id\":13496},{\"id\":13497},{\"id\":13498},{\"id\":13499},{\"id\":13500},{\"id\":13524},{\"id\":13662},{\"id\":13687},{\"id\":13705},{\"id\":14097},{\"id\":14600},{\"id\":14646},{\"id\":14756},{\"id\":14777},{\"id\":14781},{\"id\":14782},{\"id\":14779},{\"id\":14780},{\"id\":14805},{\"id\":14825},{\"id\":14833},{\"id\":14839},{\"id\":14840},{\"id\":14846},{\"id\":14831},{\"id\":14854},{\"id\":14862},{\"id\":14863},{\"id\":14871},{\"id\":14877},{\"id\":14879},{\"id\":14888},{\"id\":14889},{\"id\":14890},{\"id\":14896},{\"id\":14897},{\"id\":14898},{\"id\":14882},{\"id\":14883},{\"id\":14912},{\"id\":14917},{\"id\":14908},{\"id\":14931},{\"id\":14940},{\"id\":14960},{\"id\":14961},{\"id\":14968},{\"id\":14971},{\"id\":14973},{\"id\":14964},{\"id\":14965},{\"id\":14987},{\"id\":14998},{\"id\":15007},{\"id\":14989},{\"id\":15013},{\"id\":15020},{\"id\":15028},{\"id\":15033},{\"id\":15031},{\"id\":15043},{\"id\":15041},{\"id\":15052},{\"id\":15054},{\"id\":15067},{\"id\":15064},{\"id\":15072},{\"id\":15076},{\"id\":15077},{\"id\":15082},{\"id\":15080},{\"id\":15090},{\"id\":15101},{\"id\":15108},{\"id\":15113},{\"id\":15118},{\"id\":15123},{\"id\":15127},{\"id\":15131},{\"id\":15132},{\"id\":15140},{\"id\":15159},{\"id\":15165},{\"id\":15150},{\"id\":15173},{\"id\":15174},{\"id\":15181},{\"id\":15194},{\"id\":15202},{\"id\":15527},{\"id\":15542},{\"id\":15704},{\"id\":15762},{\"id\":15770},{\"id\":15815},{\"id\":15817},{\"id\":15830},{\"id\":15829},{\"id\":15835},{\"id\":15828},{\"id\":15846},{\"id\":15848},{\"id\":15855},{\"id\":15863},{\"id\":15864},{\"id\":15870},{\"id\":15871},{\"id\":15894},{\"id\":15905},{\"id\":15918},{\"id\":15934},{\"id\":15940},{\"id\":15942},{\"id\":15943},{\"id\":15947},{\"id\":15950},{\"id\":15955},{\"id\":15958},{\"id\":15959},{\"id\":15970},{\"id\":15973},{\"id\":15981},{\"id\":15978},{\"id\":16037},{\"id\":16045},{\"id\":16089},{\"id\":16107},{\"id\":16139},{\"id\":16153},{\"id\":16160},{\"id\":16159},{\"id\":16161},{\"id\":16167},{\"id\":16169},{\"id\":16181},{\"id\":16186},{\"id\":16207},{\"id\":16210},{\"id\":16213},{\"id\":16214},{\"id\":16205},{\"id\":16220},{\"id\":16228},{\"id\":16235},{\"id\":16242},{\"id\":16229},{\"id\":16246},{\"id\":16249},{\"id\":16248},{\"id\":16231},{\"id\":16251},{\"id\":16257},{\"id\":16256},{\"id\":16272},{\"id\":16277},{\"id\":16292},{\"id\":16293},{\"id\":16294},{\"id\":16309},{\"id\":16308},{\"id\":16317},{\"id\":16321},{\"id\":16318},{\"id\":16327},{\"id\":16329},{\"id\":16340},{\"id\":16341},{\"id\":16342},{\"id\":16343},{\"id\":16344},{\"id\":16347},{\"id\":16348},{\"id\":16350},{\"id\":16357},{\"id\":16358},{\"id\":16360},{\"id\":16356},{\"id\":16354},{\"id\":16366},{\"id\":16371},{\"id\":16377},{\"id\":16385},{\"id\":16383},{\"id\":16391},{\"id\":16395},{\"id\":16397},{\"id\":16399},{\"id\":16400},{\"id\":16401},{\"id\":16406},{\"id\":16387},{\"id\":16389},{\"id\":16412},{\"id\":16416},{\"id\":16427},{\"id\":16463},{\"id\":16478},{\"id\":16481},{\"id\":16489},{\"id\":16494},{\"id\":16495},{\"id\":16507},{\"id\":16509},{\"id\":16510},{\"id\":16492},{\"id\":16493},{\"id\":16523},{\"id\":16524},{\"id\":16531},{\"id\":16534},{\"id\":16529},{\"id\":16542},{\"id\":16544},{\"id\":16539},{\"id\":16538},{\"id\":16552},{\"id\":16546},{\"id\":16562},{\"id\":16569},{\"id\":16574},{\"id\":16584},{\"id\":16587},{\"id\":16615},{\"id\":16634},{\"id\":16641},{\"id\":16644},{\"id\":16652},{\"id\":16668},{\"id\":16669},{\"id\":16676},{\"id\":16686},{\"id\":16696},{\"id\":16706},{\"id\":16738},{\"id\":16764},{\"id\":16776},{\"id\":16780},{\"id\":16873},{\"id\":17206},{\"id\":17249},{\"id\":17264},{\"id\":17281},{\"id\":17304},{\"id\":17307},{\"id\":17313},{\"id\":17345},{\"id\":17344},{\"id\":17372},{\"id\":17387},{\"id\":17418},{\"id\":17422},{\"id\":17437},{\"id\":17444},{\"id\":17450},{\"id\":17457},{\"id\":17455},{\"id\":17463},{\"id\":17464},{\"id\":17468},{\"id\":17474},{\"id\":17475},{\"id\":17469},{\"id\":17477},{\"id\":17494},{\"id\":17545},{\"id\":17550},{\"id\":17563},{\"id\":17568},{\"id\":17574},{\"id\":17587},{\"id\":17609},{\"id\":17636},{\"id\":17671},{\"id\":17670},{\"id\":17679},{\"id\":17688},{\"id\":17689},{\"id\":17685},{\"id\":17712},{\"id\":17733},{\"id\":17730},{\"id\":17737},{\"id\":17765},{\"id\":17764},{\"id\":17769},{\"id\":17789},{\"id\":17785},{\"id\":17794},{\"id\":17800},{\"id\":17803},{\"id\":17818},{\"id\":17833},{\"id\":17849},{\"id\":17852},{\"id\":17862},{\"id\":17864},{\"id\":17903},{\"id\":17909},{\"id\":17910},{\"id\":17911},{\"id\":17930},{\"id\":17947},{\"id\":17963},{\"id\":17970},{\"id\":17980},{\"id\":17989},{\"id\":18006},{\"id\":18020},{\"id\":18030},{\"id\":18042},{\"id\":18090},{\"id\":18096},{\"id\":18104},{\"id\":18116},{\"id\":18119},{\"id\":18120},{\"id\":18121},{\"id\":18134},{\"id\":18143},{\"id\":18145},{\"id\":18147},{\"id\":18131},{\"id\":18156},{\"id\":18172},{\"id\":18179},{\"id\":18192},{\"id\":18199},{\"id\":18201},{\"id\":18202},{\"id\":18203},{\"id\":18205},{\"id\":18225},{\"id\":18231},{\"id\":18236},{\"id\":18237},{\"id\":18240},{\"id\":18257},{\"id\":18262},{\"id\":18259},{\"id\":18291},{\"id\":18297},{\"id\":18294},{\"id\":18302},{\"id\":18323},{\"id\":18329},{\"id\":18337},{\"id\":18340},{\"id\":18342},{\"id\":18351},{\"id\":18357},{\"id\":18358},{\"id\":18362},{\"id\":18366},{\"id\":18385},{\"id\":18387},{\"id\":18383},{\"id\":18406},{\"id\":18410},{\"id\":18415},{\"id\":18419},{\"id\":18421},{\"id\":18422},{\"id\":18428},{\"id\":18435},{\"id\":18442},{\"id\":18491},{\"id\":18489},{\"id\":18495},{\"id\":18502},{\"id\":18503},{\"id\":18509},{\"id\":18518},{\"id\":18522},{\"id\":18530},{\"id\":18571},{\"id\":18575},{\"id\":18580},{\"id\":18586},{\"id\":18589},{\"id\":18593},{\"id\":18609},{\"id\":18617},{\"id\":18635},{\"id\":18656},{\"id\":18661},{\"id\":18663},{\"id\":18674},{\"id\":18676},{\"id\":18665},{\"id\":18697},{\"id\":18699},{\"id\":18707},{\"id\":18722},{\"id\":18727},{\"id\":18737},{\"id\":18741},{\"id\":18796},{\"id\":18807},{\"id\":18811},{\"id\":18829},{\"id\":18831},{\"id\":19098},{\"id\":19104},{\"id\":19172},{\"id\":19188},{\"id\":19227},{\"id\":19237},{\"id\":19253},{\"id\":19296},{\"id\":19312},{\"id\":19566},{\"id\":19630},{\"id\":19678},{\"id\":19701},{\"id\":19704},{\"id\":20029},{\"id\":20165},{\"id\":20204},{\"id\":20886},{\"id\":20904},{\"id\":20906},{\"id\":20912},{\"id\":20913},{\"id\":20914},{\"id\":20917},{\"id\":20918},{\"id\":20920},{\"id\":20924},{\"id\":20922},{\"id\":20942},{\"id\":20943},{\"id\":20944},{\"id\":20945},{\"id\":20946},{\"id\":20947},{\"id\":20948},{\"id\":20952},{\"id\":20955},{\"id\":20964},{\"id\":20966},{\"id\":20970},{\"id\":20973},{\"id\":20976},{\"id\":20956},{\"id\":20957},{\"id\":20977},{\"id\":20978},{\"id\":20979},{\"id\":20980},{\"id\":20988},{\"id\":20989},{\"id\":20990},{\"id\":20991},{\"id\":20992},{\"id\":20995},{\"id\":20999},{\"id\":21000},{\"id\":21001},{\"id\":21002},{\"id\":20982},{\"id\":21006},{\"id\":21003},{\"id\":21007},{\"id\":21005},{\"id\":21009},{\"id\":21008},{\"id\":21013},{\"id\":21016},{\"id\":21010},{\"id\":21011},{\"id\":21185},{\"id\":21186},{\"id\":21453},{\"id\":21570},{\"id\":21691},{\"id\":21743},{\"id\":21975},{\"id\":21976},{\"id\":21977},{\"id\":21978},{\"id\":21980},{\"id\":21981},{\"id\":21982},{\"id\":21983},{\"id\":21984},{\"id\":21985},{\"id\":21986},{\"id\":21987},{\"id\":21988},{\"id\":21989},{\"id\":21990},{\"id\":21991},{\"id\":21992},{\"id\":21994},{\"id\":21996},{\"id\":22000},{\"id\":22001},{\"id\":22002},{\"id\":22003},{\"id\":22004},{\"id\":22005},{\"id\":22006},{\"id\":22007},{\"id\":22008},{\"id\":22009},{\"id\":22010},{\"id\":22014},{\"id\":22015},{\"id\":22016},{\"id\":22017},{\"id\":21997},{\"id\":21998},{\"id\":22019},{\"id\":22021},{\"id\":22020},{\"id\":22030},{\"id\":22043},{\"id\":22048},{\"id\":22057},{\"id\":22125},{\"id\":22147},{\"id\":22157},{\"id\":22165},{\"id\":22168},{\"id\":22170},{\"id\":22169},{\"id\":22171},{\"id\":22176},{\"id\":22180},{\"id\":22187},{\"id\":22175},{\"id\":22549},{\"id\":22945},{\"id\":22983},{\"id\":23070},{\"id\":23177},{\"id\":23549},{\"id\":23556},{\"id\":23561},{\"id\":23578},{\"id\":23601},{\"id\":23621},{\"id\":23623},{\"id\":23646},{\"id\":23649},{\"id\":23663},{\"id\":23643},{\"id\":23671},{\"id\":23679},{\"id\":23691},{\"id\":23674},{\"id\":23694},{\"id\":23699},{\"id\":23723},{\"id\":23734},{\"id\":23751},{\"id\":23754},{\"id\":23755},{\"id\":23741},{\"id\":23763},{\"id\":23776},{\"id\":23762},{\"id\":23790},{\"id\":23788},{\"id\":23800},{\"id\":23801},{\"id\":23812},{\"id\":23816},{\"id\":23844},{\"id\":23876},{\"id\":23893},{\"id\":23895},{\"id\":23908},{\"id\":23924},{\"id\":23925},{\"id\":23936},{\"id\":23943},{\"id\":23955},{\"id\":23949},{\"id\":23981},{\"id\":24001},{\"id\":24043},{\"id\":24064},{\"id\":24067},{\"id\":24072},{\"id\":24080},{\"id\":24099},{\"id\":24108},{\"id\":24113},{\"id\":24120},{\"id\":24105},{\"id\":24126},{\"id\":24127},{\"id\":24134},{\"id\":24137},{\"id\":24140},{\"id\":24143},{\"id\":24147},{\"id\":24160},{\"id\":24163},{\"id\":24167},{\"id\":24169},{\"id\":24189},{\"id\":24198},{\"id\":24181},{\"id\":24211},{\"id\":24229},{\"id\":24231},{\"id\":24239},{\"id\":24251},{\"id\":24252},{\"id\":24253},{\"id\":24257},{\"id\":24259},{\"id\":24281},{\"id\":24285},{\"id\":24310},{\"id\":24311},{\"id\":24318},{\"id\":24319},{\"id\":24321},{\"id\":24325},{\"id\":24337},{\"id\":24339},{\"id\":24332},{\"id\":24351},{\"id\":24375},{\"id\":24376},{\"id\":24384},{\"id\":24394},{\"id\":24399},{\"id\":24400},{\"id\":24401},{\"id\":24403},{\"id\":24408},{\"id\":24424},{\"id\":24425},{\"id\":24455},{\"id\":24484},{\"id\":24547},{\"id\":24552},{\"id\":24578},{\"id\":24559},{\"id\":24581},{\"id\":24596},{\"id\":24598},{\"id\":24606},{\"id\":24624},{\"id\":24634},{\"id\":24642},{\"id\":24643},{\"id\":24653},{\"id\":24654},{\"id\":24669},{\"id\":24670},{\"id\":24674},{\"id\":24675},{\"id\":24678},{\"id\":24683},{\"id\":24692},{\"id\":24688},{\"id\":24708},{\"id\":24712},{\"id\":24720},{\"id\":24727},{\"id\":24733},{\"id\":24734},{\"id\":24746},{\"id\":25555},{\"id\":25571},{\"id\":25666},{\"id\":25819},{\"id\":25949},{\"id\":25979},{\"id\":26065},{\"id\":26222},{\"id\":26258},{\"id\":26260},{\"id\":26266},{\"id\":26249},{\"id\":26273},{\"id\":26296},{\"id\":26302},{\"id\":26321},{\"id\":26325},{\"id\":26336},{\"id\":26338},{\"id\":26354},{\"id\":26355},{\"id\":26357},{\"id\":26358},{\"id\":26362},{\"id\":26365},{\"id\":26366},{\"id\":26371},{\"id\":26380},{\"id\":26382},{\"id\":26384},{\"id\":26385},{\"id\":26367},{\"id\":26388},{\"id\":26391},{\"id\":26392},{\"id\":26405},{\"id\":26393},{\"id\":26413},{\"id\":26410},{\"id\":26411},{\"id\":26416},{\"id\":26420},{\"id\":26418},{\"id\":26421},{\"id\":26426},{\"id\":26427},{\"id\":26436},{\"id\":26440},{\"id\":26441},{\"id\":26443},{\"id\":26446},{\"id\":26428},{\"id\":26429},{\"id\":26448},{\"id\":26449},{\"id\":26453},{\"id\":26601},{\"id\":27005},{\"id\":27068},{\"id\":27200},{\"id\":27454},{\"id\":27480},{\"id\":27486},{\"id\":27499},{\"id\":27503},{\"id\":27510},{\"id\":27569},{\"id\":27567},{\"id\":27775},{\"id\":27990},{\"id\":28269},{\"id\":28934},{\"id\":28992},{\"id\":29252},{\"id\":29255},{\"id\":29262},{\"id\":29265},{\"id\":29268},{\"id\":29275},{\"id\":29282},{\"id\":29292},{\"id\":29296},{\"id\":29306},{\"id\":29321},{\"id\":29305},{\"id\":29333},{\"id\":29338},{\"id\":29353},{\"id\":29360},{\"id\":29363},{\"id\":29367},{\"id\":29379},{\"id\":29391},{\"id\":29402},{\"id\":29437},{\"id\":29444},{\"id\":29453},{\"id\":29456},{\"id\":29460},{\"id\":29462},{\"id\":29467},{\"id\":29513},{\"id\":29617},{\"id\":29618},{\"id\":29628},{\"id\":29638},{\"id\":29659},{\"id\":29662},{\"id\":29686},{\"id\":29696},{\"id\":29788},{\"id\":29793},{\"id\":29798},{\"id\":29809},{\"id\":29816},{\"id\":29819},{\"id\":29823},{\"id\":29824},{\"id\":29835},{\"id\":29868},{\"id\":29872},{\"id\":29878},{\"id\":29887},{\"id\":29895},{\"id\":29907},{\"id\":29908},{\"id\":29925}]',\n",
       " '[{\"id\":15517}]']"
      ]
     },
     "execution_count": 183,
     "metadata": {},
     "output_type": "execute_result"
    }
   ],
   "source": [
    "emailids"
   ]
  },
  {
   "cell_type": "code",
   "execution_count": null,
   "metadata": {
    "collapsed": true
   },
   "outputs": [],
   "source": []
  },
  {
   "cell_type": "code",
   "execution_count": 190,
   "metadata": {},
   "outputs": [
    {
     "name": "stdout",
     "output_type": "stream",
     "text": [
      "{'id': 6}\n",
      "{'id': 4}\n",
      "{'id': 15517}\n"
     ]
    }
   ],
   "source": [
    "for ema in emailids:\n",
    "    #print(ema)\n",
    "    jsema = (json.loads(ema))\n",
    "    \n",
    "    #print(jsema[0]['id'])\n",
    "    print(jsema[0])\n",
    "    emadlis.append(jsema[0])\n",
    "    #print(emadlis[(jsema[0])])\n",
    "    #for em in ema:\n",
    "    #    print(em)"
   ]
  },
  {
   "cell_type": "code",
   "execution_count": 195,
   "metadata": {},
   "outputs": [
    {
     "data": {
      "text/plain": [
       "10"
      ]
     },
     "execution_count": 195,
     "metadata": {},
     "output_type": "execute_result"
    }
   ],
   "source": [
    "random.randint(0,10)"
   ]
  },
  {
   "cell_type": "code",
   "execution_count": null,
   "metadata": {
    "collapsed": true
   },
   "outputs": [],
   "source": []
  },
  {
   "cell_type": "code",
   "execution_count": 194,
   "metadata": {},
   "outputs": [
    {
     "data": {
      "text/plain": [
       "6"
      ]
     },
     "execution_count": 194,
     "metadata": {},
     "output_type": "execute_result"
    }
   ],
   "source": [
    "emadlis[0]['id']"
   ]
  },
  {
   "cell_type": "code",
   "execution_count": 143,
   "metadata": {
    "collapsed": true
   },
   "outputs": [],
   "source": [
    "import bs4"
   ]
  },
  {
   "cell_type": "code",
   "execution_count": null,
   "metadata": {
    "collapsed": true
   },
   "outputs": [],
   "source": [
    "bs4.BeautifulSoup()"
   ]
  },
  {
   "cell_type": "code",
   "execution_count": null,
   "metadata": {
    "collapsed": true
   },
   "outputs": [],
   "source": []
  },
  {
   "cell_type": "code",
   "execution_count": 163,
   "metadata": {
    "scrolled": false
   },
   "outputs": [
    {
     "name": "stdout",
     "output_type": "stream",
     "text": [
      "[<p>This key's fingerprint is A04C 5E09 ED02 B328 03EB  6116 93ED 732E 9231 8DBA</p>, <p>If you need help using Tor you can contact WikiLeaks for assistance in setting it up using our simple webchat available at: <a href=\"https://wikileaks.org/talk\">https://wikileaks.org/talk</a></p>, <p>If you can use Tor, but need to contact WikiLeaks for other reasons use our secured webchat available at <b>http://wlchatc3pjwpli5r.onion</b></p>, <p>We recommend contacting us over Tor if you can.</p>, <p><a href=\"https://www.torproject.org\">Tor</a> is an encrypted anonymising network that makes it harder to intercept internet communications, or see where communications are coming from or going to.</p>, <p>In order to use the WikiLeaks public submission system as detailed above you can download the Tor Browser Bundle, which is a Firefox-like browser available for Windows, Mac OS X and GNU/Linux and pre-configured to connect using the anonymising system Tor.</p>, <p>If you are at high risk and you have the capacity to do so, you can also access the submission system through a secure operating system called <a href=\"https://tails.boum.org\">Tails</a>. Tails is an operating system launched from a USB stick or a DVD that aim to leaves no traces when the computer is shut down after use and automatically routes your internet traffic through Tor. Tails will require you to have either a USB stick or a DVD at least 4GB big and a laptop or desktop computer.</p>, <p>Our submission system works hard to preserve your anonymity, but we recommend you also take some of your own precautions. Please review these basic guidelines. </p>, <p>If you have a very large submission, or a submission with a complex format, or are a high-risk source, please <a href=\"#submit_help_contact\">contact us</a>. In our experience it is always possible to find a custom solution for even the most seemingly difficult situations.</p>, <p>If the computer you are uploading from could subsequently be audited in an investigation, consider using a computer that is not easily tied to you. Technical users can also use <a href=\"https://tails.boum.org\">Tails</a> to help ensure you do not leave any records of your submission on the computer.</p>, <p>If you have any issues talk to WikiLeaks. We are the global experts in source protection – it is a complex field. Even those who mean well often do not have the experience or expertise to advise properly. This includes other media organisations.</p>, <p>If you have any issues talk to WikiLeaks. We are the global experts in source protection – it is a complex field. Even those who mean well often do not have the experience or expertise to advise properly. This includes other media organisations.</p>, <p>If you are a high-risk source, avoid saying anything or doing anything after submitting which might promote suspicion. In particular, you should try to stick to your normal routine and behaviour.</p>, <p>If you are a high-risk source and the computer you prepared your submission on, or uploaded it from, could subsequently be audited in an investigation, we recommend that you format and dispose of the computer hard drive and any other storage media you used.</p>, <p>In particular, hard drives retain data after formatting which may be visible to a digital forensics team and flash media (USB sticks, memory cards and SSD drives) retain data even after a secure erasure. If you used flash media to store sensitive data, it is important to destroy the media.</p>, <p>If you do this and are a high-risk source you should make sure there are no traces of the clean-up, since such traces themselves may draw suspicion.</p>, <p>If a legal action is brought against you as a result of your submission, there are organisations that may help you. The Courage Foundation is an international organisation dedicated to the protection of journalistic sources. You can find more details at <a href=\"https://www.couragefound.org\">https://www.couragefound.org</a>.</p>, <p>WikiLeaks publishes documents of political or historical importance that are censored or otherwise suppressed. We specialise in strategic global publishing and large archives.</p>, <p>The following is the address of our secure site where you can anonymously upload your documents to WikiLeaks editors. You can only access this submissions system through Tor. (See our <a href=\"#submit_help_tor\">Tor tab</a> for more information.) We also advise you to read our <a href=\"#submit_help_tips\">tips for sources</a> before submitting.</p>, <p>If you cannot use Tor, or your submission is very large, or you have specific requirements, WikiLeaks provides several alternative methods. <a href=\"#submit_help_contact\">Contact us</a> to discuss how to proceed.</p>, <p class=\"lead\"><a href=\"/clinton-emails/\">Back to the Search</a></p>, <p><a download=\"\" href=\"/clinton-emails/Clinton_Email_August_Release/C05776573.pdf\">Download Clinton_Email_August_Release/C05776573.pdf</a></p>, <p style=\"margin-top: 10px\"><a href=\"https://www.wikileaks.org/plusd/\">See Also US Diplomatic Cable Search</a></p>, <p class=\"efm-need-highlight\" style=\"margin-top:0;padding-top:0\">Click to send permalink to address bar, or right-click to copy permalink.</p>, <p style=\"margin:0.5em 0;padding:0;border-top:1px dotted #ccc;height:1px\"></p>, <p>\n",
      "</p>, <p>Tor is an encrypted anonymising network that makes it harder to intercept internet communications, or see where communications are coming from or going to.</p>, <p>\n",
      "</p>, <p>Tails is a live operating system, that you can start on almost any computer from a DVD, USB stick, or SD card. It aims at preserving your privacy and anonymity.</p>, <p>\n",
      "</p>, <p>The Courage Foundation is an international organisation that supports those who risk life or liberty to make significant contributions to the historical record.</p>, <p>\n",
      "</p>, <p>Bitcoin uses peer-to-peer technology to operate with no central authority or banks; managing transactions and the issuing of bitcoins is carried out collectively by the network.</p>]\n",
      "[<p>This key's fingerprint is A04C 5E09 ED02 B328 03EB  6116 93ED 732E 9231 8DBA</p>, <p>If you need help using Tor you can contact WikiLeaks for assistance in setting it up using our simple webchat available at: <a href=\"https://wikileaks.org/talk\">https://wikileaks.org/talk</a></p>, <p>If you can use Tor, but need to contact WikiLeaks for other reasons use our secured webchat available at <b>http://wlchatc3pjwpli5r.onion</b></p>, <p>We recommend contacting us over Tor if you can.</p>, <p><a href=\"https://www.torproject.org\">Tor</a> is an encrypted anonymising network that makes it harder to intercept internet communications, or see where communications are coming from or going to.</p>, <p>In order to use the WikiLeaks public submission system as detailed above you can download the Tor Browser Bundle, which is a Firefox-like browser available for Windows, Mac OS X and GNU/Linux and pre-configured to connect using the anonymising system Tor.</p>, <p>If you are at high risk and you have the capacity to do so, you can also access the submission system through a secure operating system called <a href=\"https://tails.boum.org\">Tails</a>. Tails is an operating system launched from a USB stick or a DVD that aim to leaves no traces when the computer is shut down after use and automatically routes your internet traffic through Tor. Tails will require you to have either a USB stick or a DVD at least 4GB big and a laptop or desktop computer.</p>, <p>Our submission system works hard to preserve your anonymity, but we recommend you also take some of your own precautions. Please review these basic guidelines. </p>, <p>If you have a very large submission, or a submission with a complex format, or are a high-risk source, please <a href=\"#submit_help_contact\">contact us</a>. In our experience it is always possible to find a custom solution for even the most seemingly difficult situations.</p>, <p>If the computer you are uploading from could subsequently be audited in an investigation, consider using a computer that is not easily tied to you. Technical users can also use <a href=\"https://tails.boum.org\">Tails</a> to help ensure you do not leave any records of your submission on the computer.</p>, <p>If you have any issues talk to WikiLeaks. We are the global experts in source protection – it is a complex field. Even those who mean well often do not have the experience or expertise to advise properly. This includes other media organisations.</p>, <p>If you have any issues talk to WikiLeaks. We are the global experts in source protection – it is a complex field. Even those who mean well often do not have the experience or expertise to advise properly. This includes other media organisations.</p>, <p>If you are a high-risk source, avoid saying anything or doing anything after submitting which might promote suspicion. In particular, you should try to stick to your normal routine and behaviour.</p>, <p>If you are a high-risk source and the computer you prepared your submission on, or uploaded it from, could subsequently be audited in an investigation, we recommend that you format and dispose of the computer hard drive and any other storage media you used.</p>, <p>In particular, hard drives retain data after formatting which may be visible to a digital forensics team and flash media (USB sticks, memory cards and SSD drives) retain data even after a secure erasure. If you used flash media to store sensitive data, it is important to destroy the media.</p>, <p>If you do this and are a high-risk source you should make sure there are no traces of the clean-up, since such traces themselves may draw suspicion.</p>, <p>If a legal action is brought against you as a result of your submission, there are organisations that may help you. The Courage Foundation is an international organisation dedicated to the protection of journalistic sources. You can find more details at <a href=\"https://www.couragefound.org\">https://www.couragefound.org</a>.</p>, <p>WikiLeaks publishes documents of political or historical importance that are censored or otherwise suppressed. We specialise in strategic global publishing and large archives.</p>, <p>The following is the address of our secure site where you can anonymously upload your documents to WikiLeaks editors. You can only access this submissions system through Tor. (See our <a href=\"#submit_help_tor\">Tor tab</a> for more information.) We also advise you to read our <a href=\"#submit_help_tips\">tips for sources</a> before submitting.</p>, <p>If you cannot use Tor, or your submission is very large, or you have specific requirements, WikiLeaks provides several alternative methods. <a href=\"#submit_help_contact\">Contact us</a> to discuss how to proceed.</p>, <p class=\"lead\"><a href=\"/clinton-emails/\">Back to the Search</a></p>, <p><a download=\"\" href=\"/clinton-emails/Clinton_Email_August_Release/C05777242.pdf\">Download Clinton_Email_August_Release/C05777242.pdf</a></p>, <p style=\"margin-top: 10px\"><a href=\"https://www.wikileaks.org/plusd/\">See Also US Diplomatic Cable Search</a></p>, <p class=\"efm-need-highlight\" style=\"margin-top:0;padding-top:0\">Click to send permalink to address bar, or right-click to copy permalink.</p>, <p style=\"margin:0.5em 0;padding:0;border-top:1px dotted #ccc;height:1px\"></p>, <p>\n",
      "</p>, <p>Tor is an encrypted anonymising network that makes it harder to intercept internet communications, or see where communications are coming from or going to.</p>, <p>\n",
      "</p>, <p>Tails is a live operating system, that you can start on almost any computer from a DVD, USB stick, or SD card. It aims at preserving your privacy and anonymity.</p>, <p>\n",
      "</p>, <p>The Courage Foundation is an international organisation that supports those who risk life or liberty to make significant contributions to the historical record.</p>, <p>\n",
      "</p>, <p>Bitcoin uses peer-to-peer technology to operate with no central authority or banks; managing transactions and the issuing of bitcoins is carried out collectively by the network.</p>]\n",
      "[<p>This key's fingerprint is A04C 5E09 ED02 B328 03EB  6116 93ED 732E 9231 8DBA</p>, <p>If you need help using Tor you can contact WikiLeaks for assistance in setting it up using our simple webchat available at: <a href=\"https://wikileaks.org/talk\">https://wikileaks.org/talk</a></p>, <p>If you can use Tor, but need to contact WikiLeaks for other reasons use our secured webchat available at <b>http://wlchatc3pjwpli5r.onion</b></p>, <p>We recommend contacting us over Tor if you can.</p>, <p><a href=\"https://www.torproject.org\">Tor</a> is an encrypted anonymising network that makes it harder to intercept internet communications, or see where communications are coming from or going to.</p>, <p>In order to use the WikiLeaks public submission system as detailed above you can download the Tor Browser Bundle, which is a Firefox-like browser available for Windows, Mac OS X and GNU/Linux and pre-configured to connect using the anonymising system Tor.</p>, <p>If you are at high risk and you have the capacity to do so, you can also access the submission system through a secure operating system called <a href=\"https://tails.boum.org\">Tails</a>. Tails is an operating system launched from a USB stick or a DVD that aim to leaves no traces when the computer is shut down after use and automatically routes your internet traffic through Tor. Tails will require you to have either a USB stick or a DVD at least 4GB big and a laptop or desktop computer.</p>, <p>Our submission system works hard to preserve your anonymity, but we recommend you also take some of your own precautions. Please review these basic guidelines. </p>, <p>If you have a very large submission, or a submission with a complex format, or are a high-risk source, please <a href=\"#submit_help_contact\">contact us</a>. In our experience it is always possible to find a custom solution for even the most seemingly difficult situations.</p>, <p>If the computer you are uploading from could subsequently be audited in an investigation, consider using a computer that is not easily tied to you. Technical users can also use <a href=\"https://tails.boum.org\">Tails</a> to help ensure you do not leave any records of your submission on the computer.</p>, <p>If you have any issues talk to WikiLeaks. We are the global experts in source protection – it is a complex field. Even those who mean well often do not have the experience or expertise to advise properly. This includes other media organisations.</p>, <p>If you have any issues talk to WikiLeaks. We are the global experts in source protection – it is a complex field. Even those who mean well often do not have the experience or expertise to advise properly. This includes other media organisations.</p>, <p>If you are a high-risk source, avoid saying anything or doing anything after submitting which might promote suspicion. In particular, you should try to stick to your normal routine and behaviour.</p>, <p>If you are a high-risk source and the computer you prepared your submission on, or uploaded it from, could subsequently be audited in an investigation, we recommend that you format and dispose of the computer hard drive and any other storage media you used.</p>, <p>In particular, hard drives retain data after formatting which may be visible to a digital forensics team and flash media (USB sticks, memory cards and SSD drives) retain data even after a secure erasure. If you used flash media to store sensitive data, it is important to destroy the media.</p>, <p>If you do this and are a high-risk source you should make sure there are no traces of the clean-up, since such traces themselves may draw suspicion.</p>, <p>If a legal action is brought against you as a result of your submission, there are organisations that may help you. The Courage Foundation is an international organisation dedicated to the protection of journalistic sources. You can find more details at <a href=\"https://www.couragefound.org\">https://www.couragefound.org</a>.</p>, <p>WikiLeaks publishes documents of political or historical importance that are censored or otherwise suppressed. We specialise in strategic global publishing and large archives.</p>, <p>The following is the address of our secure site where you can anonymously upload your documents to WikiLeaks editors. You can only access this submissions system through Tor. (See our <a href=\"#submit_help_tor\">Tor tab</a> for more information.) We also advise you to read our <a href=\"#submit_help_tips\">tips for sources</a> before submitting.</p>, <p>If you cannot use Tor, or your submission is very large, or you have specific requirements, WikiLeaks provides several alternative methods. <a href=\"#submit_help_contact\">Contact us</a> to discuss how to proceed.</p>, <p class=\"lead\"><a href=\"/clinton-emails/\">Back to the Search</a></p>, <p><a download=\"\" href=\"/clinton-emails/Clinton_Email_June_Release/C05762707.pdf\">Download Clinton_Email_June_Release/C05762707.pdf</a></p>, <p style=\"margin-top: 10px\"><a href=\"https://www.wikileaks.org/plusd/\">See Also US Diplomatic Cable Search</a></p>, <p class=\"efm-need-highlight\" style=\"margin-top:0;padding-top:0\">Click to send permalink to address bar, or right-click to copy permalink.</p>, <p style=\"margin:0.5em 0;padding:0;border-top:1px dotted #ccc;height:1px\"></p>, <p>\n",
      "</p>, <p>Tor is an encrypted anonymising network that makes it harder to intercept internet communications, or see where communications are coming from or going to.</p>, <p>\n",
      "</p>, <p>Tails is a live operating system, that you can start on almost any computer from a DVD, USB stick, or SD card. It aims at preserving your privacy and anonymity.</p>, <p>\n",
      "</p>, <p>The Courage Foundation is an international organisation that supports those who risk life or liberty to make significant contributions to the historical record.</p>, <p>\n",
      "</p>, <p>Bitcoin uses peer-to-peer technology to operate with no central authority or banks; managing transactions and the issuing of bitcoins is carried out collectively by the network.</p>]\n"
     ]
    }
   ],
   "source": [
    "#for emaz in emadlis:\n",
    "    #print(emaz['id'])\n",
    "#    thema = (emailaddy + str(emaz['id']))\n",
    "#    getema = requests.get(thema)\n",
    "#    bstxt = (bs4.BeautifulSoup(getema.text))\n",
    "#    print(bstxt.find_all('p'))\n",
    "    #print(bs4.BeautifulSoup(getema))"
   ]
  },
  {
   "cell_type": "code",
   "execution_count": 93,
   "metadata": {
    "collapsed": true
   },
   "outputs": [],
   "source": [
    "reqrecipt = ('https://www.leaksapi.com/clinton-emails/to/8a52166f-1ff2-4060-9215-3583895df339/')"
   ]
  },
  {
   "cell_type": "code",
   "execution_count": 177,
   "metadata": {
    "collapsed": true
   },
   "outputs": [],
   "source": [
    "reqem = ('https://www.leaksapi.com/clinton-emails/id/8a52166f-1ff2-4060-9215-3583895df339/1')"
   ]
  },
  {
   "cell_type": "code",
   "execution_count": 178,
   "metadata": {},
   "outputs": [
    {
     "data": {
      "text/plain": [
       "'https://www.leaksapi.com/clinton-emails/id/8a52166f-1ff2-4060-9215-3583895df339/1'"
      ]
     },
     "execution_count": 178,
     "metadata": {},
     "output_type": "execute_result"
    }
   ],
   "source": [
    "reqem"
   ]
  },
  {
   "cell_type": "code",
   "execution_count": 180,
   "metadata": {},
   "outputs": [],
   "source": [
    "rqg = requests.get(reqem)"
   ]
  },
  {
   "cell_type": "code",
   "execution_count": 182,
   "metadata": {},
   "outputs": [
    {
     "data": {
      "text/plain": [
       "'{\"to\":\"Philippe Reines\",\"timestamp\":\"2010-06-30 11:53\",\"subject\":\"TEST\",\"raw\":\"<div class=\\\\\"tab-pane fade in active\\\\\" id=\\\\\"content\\\\\"><header id=\\\\\"header\\\\\">\\\\n\\\\t\\\\t\\\\t\\\\t\\\\tFrom: <span title=\\\\\"Original: Hillary Clinton\\\\\">Hillary Clinton</span>\\\\n\\\\t\\\\t\\\\t\\\\t\\\\tTo: <span title=\\\\\"Original: preines\\\\\">Philippe Reines</span>\\\\n\\\\t\\\\t\\\\t\\\\t\\\\tDate: 2010-06-30 11:53\\\\n\\\\t\\\\t\\\\t\\\\t\\\\tSubject: TEST\\\\n\\\\t\\\\t\\\\t\\\\t</header><div class=\\\\\"email-content\\\\\" id=\\\\\"uniquer\\\\\"><span class=\\\\\"unclassified\\\\\">UNCLASSIFIED U.S. Department of State Case No. F-2014-20439 Doc No. C05775316 Date: 08/31/2015</span><span class=\\\\\"unclassified\\\\\">RELEASE IN PART</span>\\\\n                                                                                                              B6\\\\n\\\\n<span class=\\\\\"inlinemeta\\\\\">From:  \\\\t                               H <hrod17@clintonemail.com >\\\\n</span><span class=\\\\\"inlinemeta\\\\\">Sent:\\\\t                                 Thursday, July 1, 2010 6:53 PM\\\\nTo:   \\\\t                                \\'preines\\\\n</span><span class=\\\\\"inlinemeta\\\\\">Subject:\\\\t                              Re: Test\\\\n</span>\\\\n\\\\nReceived.\\\\n\\\\n\\\\t    <span class=\\\\\"inlinemeta\\\\\">Original Message</span><span class=\\\\\"inlinemeta\\\\\">From: PIR <preines\\\\n</span><span class=\\\\\"inlinemeta\\\\\">To: H\\\\n</span><span class=\\\\\"inlinemeta\\\\\">Cc: Lona J Valmoro <ValmoroU@state.gov>\\\\nSent: Thu Jul 01 18:52:18 2010\\\\nSubject: Test\\\\n</span>\\\\n\\\\nTesting in-flight communication\\\\n\\\\nSent from my iPad\\\\n\\\\t\\\\t\\\\t\\\\t</div></div>\",\"pdf\":\"https://www.wikileaks.org/clinton-emails/Clinton_Email_August_Release/C05775316.pdf\",\"id\":1,\"from\":\"Hillary Clinton\",\"body\":\"UNCLASSIFIED U.S. Department of State Case No. F-2014-20439 Doc No. C05775316 Date: 08/31/2015RELEASE IN PART\\\\n                                                                                                              B6\\\\n\\\\nFrom:  \\\\t                               H <hrod17@clintonemail.com >\\\\nSent:\\\\t                                 Thursday, July 1, 2010 6:53 PM\\\\nTo:   \\\\t                                \\'preines\\\\nSubject:\\\\t                              Re: Test\\\\n\\\\n\\\\nReceived.\\\\n\\\\n\\\\t    Original MessageFrom: PIR <preines\\\\nTo: H\\\\nCc: Lona J Valmoro <ValmoroU@state.gov>\\\\nSent: Thu Jul 01 18:52:18 2010\\\\nSubject: Test\\\\n\\\\n\\\\nTesting in-flight communication\\\\n\\\\nSent from my iPad\\\\n\\\\t\\\\t\\\\t\\\\t\"}'"
      ]
     },
     "execution_count": 182,
     "metadata": {},
     "output_type": "execute_result"
    }
   ],
   "source": [
    "rqg.text"
   ]
  },
  {
   "cell_type": "code",
   "execution_count": null,
   "metadata": {
    "collapsed": true
   },
   "outputs": [],
   "source": []
  },
  {
   "cell_type": "code",
   "execution_count": null,
   "metadata": {
    "collapsed": true
   },
   "outputs": [],
   "source": []
  },
  {
   "cell_type": "code",
   "execution_count": 54,
   "metadata": {},
   "outputs": [
    {
     "ename": "TypeError",
     "evalue": "string indices must be integers",
     "output_type": "error",
     "traceback": [
      "\u001b[1;31m---------------------------------------------------------------------------\u001b[0m",
      "\u001b[1;31mTypeError\u001b[0m                                 Traceback (most recent call last)",
      "\u001b[1;32m<ipython-input-54-5ef7b00f963b>\u001b[0m in \u001b[0;36m<module>\u001b[1;34m()\u001b[0m\n\u001b[1;32m----> 1\u001b[1;33m \u001b[1;33m[\u001b[0m\u001b[0msubnam\u001b[0m\u001b[1;33m.\u001b[0m\u001b[0mstrip\u001b[0m\u001b[1;33m(\u001b[0m\u001b[1;33m)\u001b[0m \u001b[1;32mfor\u001b[0m \u001b[0ms\u001b[0m \u001b[1;32min\u001b[0m \u001b[0msubnam\u001b[0m\u001b[1;33m[\u001b[0m\u001b[1;34m'1:-1'\u001b[0m\u001b[1;33m]\u001b[0m\u001b[1;33m.\u001b[0m\u001b[0msplit\u001b[0m\u001b[1;33m(\u001b[0m\u001b[1;34m','\u001b[0m\u001b[1;33m)\u001b[0m\u001b[1;33m]\u001b[0m\u001b[1;33m\u001b[0m\u001b[0m\n\u001b[0m",
      "\u001b[1;31mTypeError\u001b[0m: string indices must be integers"
     ]
    }
   ],
   "source": [
    "#[subnam.strip() for s in subnam['1:-1'].split(',')]"
   ]
  },
  {
   "cell_type": "code",
   "execution_count": 62,
   "metadata": {},
   "outputs": [],
   "source": [
    "snm = subnam.replace('[]', \"\")"
   ]
  },
  {
   "cell_type": "code",
   "execution_count": 64,
   "metadata": {},
   "outputs": [
    {
     "data": {
      "text/plain": [
       "str"
      ]
     },
     "execution_count": 64,
     "metadata": {},
     "output_type": "execute_result"
    }
   ],
   "source": [
    "type(snm)"
   ]
  },
  {
   "cell_type": "code",
   "execution_count": 65,
   "metadata": {
    "collapsed": true
   },
   "outputs": [],
   "source": [
    "snmz = list(snm)"
   ]
  },
  {
   "cell_type": "code",
   "execution_count": 2,
   "metadata": {},
   "outputs": [
    {
     "name": "stderr",
     "output_type": "stream",
     "text": [
      "/usr/local/lib/python3.4/dist-packages/giphypop.py:233: UserWarning: You are using the giphy public api key. This should be used for testing only and may be deactivated in the future. See https://github.com/Giphy/GiphyAPI.\n",
      "  warnings.warn('You are using the giphy public api key. This should be used for testing only '\n"
     ]
    },
    {
     "data": {
      "text/plain": [
       "GiphyImage<xTcnTkVDUvIYV1X4wo> at http://giphy.com/gifs/martin-luther-king-jr-mlk-mkl-xTcnTkVDUvIYV1X4wo"
      ]
     },
     "execution_count": 2,
     "metadata": {},
     "output_type": "execute_result"
    }
   ],
   "source": [
    "giphypop.random_gif()"
   ]
  },
  {
   "cell_type": "code",
   "execution_count": 17,
   "metadata": {},
   "outputs": [
    {
     "name": "stderr",
     "output_type": "stream",
     "text": [
      "/usr/local/lib/python3.4/dist-packages/giphypop.py:233: UserWarning: You are using the giphy public api key. This should be used for testing only and may be deactivated in the future. See https://github.com/Giphy/GiphyAPI.\n",
      "  warnings.warn('You are using the giphy public api key. This should be used for testing only '\n"
     ]
    }
   ],
   "source": [
    "trusear = giphypop.search('trump')"
   ]
  },
  {
   "cell_type": "code",
   "execution_count": 18,
   "metadata": {
    "collapsed": true
   },
   "outputs": [],
   "source": [
    "trumplist = list()"
   ]
  },
  {
   "cell_type": "code",
   "execution_count": null,
   "metadata": {
    "collapsed": true
   },
   "outputs": [],
   "source": []
  },
  {
   "cell_type": "code",
   "execution_count": 19,
   "metadata": {},
   "outputs": [],
   "source": [
    "for tru in trusear:\n",
    "    #print(tru.media_url)\n",
    "    trumplist.append(tru.media_url)"
   ]
  },
  {
   "cell_type": "code",
   "execution_count": 26,
   "metadata": {},
   "outputs": [
    {
     "data": {
      "text/plain": [
       "'http://media1.giphy.com/media/rzKSHEMN0lVkc/giphy.gif'"
      ]
     },
     "execution_count": 26,
     "metadata": {},
     "output_type": "execute_result"
    }
   ],
   "source": [
    "random.choice(trumplist)"
   ]
  },
  {
   "cell_type": "code",
   "execution_count": null,
   "metadata": {
    "collapsed": true
   },
   "outputs": [],
   "source": []
  },
  {
   "cell_type": "code",
   "execution_count": 20,
   "metadata": {},
   "outputs": [
    {
     "data": {
      "text/plain": [
       "['http://media4.giphy.com/media/l0HlzECw20Y4dK20o/giphy.gif',\n",
       " 'http://media3.giphy.com/media/3o6Zt4FFBn6Je1lBao/giphy.gif',\n",
       " 'http://media1.giphy.com/media/l396HKg4zkUrK1ihy/giphy.gif',\n",
       " 'http://media0.giphy.com/media/l0MYvt61Tr7KMOQy4/giphy.gif',\n",
       " 'http://media3.giphy.com/media/l2Sqb2raeiZLVDFaU/giphy.gif',\n",
       " 'http://media3.giphy.com/media/A2LScHLeGzzLa/giphy.gif',\n",
       " 'http://media1.giphy.com/media/l2SpQq3S9e0HE89oI/giphy.gif',\n",
       " 'http://media0.giphy.com/media/3o6ZsZoPzWFYLv7l5u/giphy.gif',\n",
       " 'http://media3.giphy.com/media/3o7TKsyXonvr2mv9mw/giphy.gif',\n",
       " 'http://media2.giphy.com/media/3oz8xtl7fxDIncrcKA/giphy.gif',\n",
       " 'https://media1.giphy.com/media/26tn8u4JaBPQmq8mY/giphy.gif',\n",
       " 'http://media2.giphy.com/media/jSB2l4zJ82Rvq/giphy.gif',\n",
       " 'http://media0.giphy.com/media/3oEjHS0LAZXyNo0eXu/giphy.gif',\n",
       " 'http://media3.giphy.com/media/3o6ZsVbs2GzgKNvVpS/giphy.gif',\n",
       " 'http://media1.giphy.com/media/3o7TKPpgPl68uSeIO4/giphy.gif',\n",
       " 'http://media1.giphy.com/media/z619OZp86JaBG/giphy.gif',\n",
       " 'http://media0.giphy.com/media/3o85xtWMj6Hbv1PakE/giphy.gif',\n",
       " 'http://media1.giphy.com/media/l0MYAH89fiNMdBYFW/giphy.gif',\n",
       " 'http://media0.giphy.com/media/3o7TKUMk1IysRprsis/giphy.gif',\n",
       " 'http://media1.giphy.com/media/oxsfuzJuJzCjm/giphy.gif',\n",
       " 'http://media4.giphy.com/media/l46CahdcL5yYTaQiQ/giphy.gif',\n",
       " 'http://media4.giphy.com/media/3o72EVhs2Fu38uVFv2/giphy.gif',\n",
       " 'http://media2.giphy.com/media/l0HlW09N6z8ZVSnok/giphy.gif',\n",
       " 'http://media4.giphy.com/media/l46CgWQ7xeOkNI1SU/giphy.gif',\n",
       " 'http://media1.giphy.com/media/rzKSHEMN0lVkc/giphy.gif']"
      ]
     },
     "execution_count": 20,
     "metadata": {},
     "output_type": "execute_result"
    }
   ],
   "source": [
    "trumplist"
   ]
  }
 ],
 "metadata": {
  "kernelspec": {
   "display_name": "Python 3",
   "language": "python",
   "name": "python3"
  },
  "language_info": {
   "codemirror_mode": {
    "name": "ipython",
    "version": 3
   },
   "file_extension": ".py",
   "mimetype": "text/x-python",
   "name": "python",
   "nbconvert_exporter": "python",
   "pygments_lexer": "ipython3",
   "version": "3.5.3"
  }
 },
 "nbformat": 4,
 "nbformat_minor": 1
}
