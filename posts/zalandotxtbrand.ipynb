{
 "cells": [
  {
   "cell_type": "code",
   "execution_count": null,
   "metadata": {
    "collapsed": true
   },
   "outputs": [],
   "source": [
    "zalando text brand\n",
    "\n",
    "analzye text from zalando brands"
   ]
  },
  {
   "cell_type": "code",
   "execution_count": 152,
   "metadata": {
    "collapsed": true
   },
   "outputs": [],
   "source": [
    "import getpass\n",
    "import requests\n",
    "import nltk\n",
    "import random\n",
    "import arrow\n",
    "import json"
   ]
  },
  {
   "cell_type": "code",
   "execution_count": 65,
   "metadata": {
    "collapsed": true
   },
   "outputs": [],
   "source": [
    "curtim = arrow.now()"
   ]
  },
  {
   "cell_type": "code",
   "execution_count": 51,
   "metadata": {
    "collapsed": true
   },
   "outputs": [],
   "source": [
    "myusr = getpass.getuser()"
   ]
  },
  {
   "cell_type": "code",
   "execution_count": 150,
   "metadata": {
    "collapsed": false
   },
   "outputs": [],
   "source": [
    "with open('/home/{}/brand.txt'.format(myusr), 'r') as branope:\n",
    "    brard = (branope.read())\n",
    "    #print(brard)"
   ]
  },
  {
   "cell_type": "code",
   "execution_count": 89,
   "metadata": {
    "collapsed": false
   },
   "outputs": [],
   "source": [
    "nlwr = nltk.word_tokenize(brard)"
   ]
  },
  {
   "cell_type": "code",
   "execution_count": 90,
   "metadata": {
    "collapsed": false
   },
   "outputs": [],
   "source": [
    "nlwr.sort()"
   ]
  },
  {
   "cell_type": "code",
   "execution_count": 91,
   "metadata": {
    "collapsed": true
   },
   "outputs": [],
   "source": [
    "dalis = list()"
   ]
  },
  {
   "cell_type": "code",
   "execution_count": 149,
   "metadata": {
    "collapsed": false
   },
   "outputs": [],
   "source": [
    "for sen in set(nlwr):\n",
    "    if len(sen) > 8:\n",
    "        #print(sen)\n",
    "        dalis.append(sen)"
   ]
  },
  {
   "cell_type": "code",
   "execution_count": 93,
   "metadata": {
    "collapsed": false
   },
   "outputs": [
    {
     "data": {
      "text/plain": [
       "241"
      ]
     },
     "execution_count": 93,
     "metadata": {},
     "output_type": "execute_result"
    }
   ],
   "source": [
    "len(dalis)"
   ]
  },
  {
   "cell_type": "code",
   "execution_count": 95,
   "metadata": {
    "collapsed": false
   },
   "outputs": [],
   "source": [
    "randa = random.sample(dalis, 5)"
   ]
  },
  {
   "cell_type": "code",
   "execution_count": 148,
   "metadata": {
    "collapsed": false
   },
   "outputs": [
    {
     "name": "stdout",
     "output_type": "stream",
     "text": [
      "adjustable\n",
      "http://media0.giphy.com/media/f0dlKKJMHGlJC/giphy.gif\n",
      "jewellery\n",
      "http://media0.giphy.com/media/S5NF19FUYNEic/giphy.gif\n",
      "Understated\n",
      "http://media2.giphy.com/media/QV5sMr0LaS89y/giphy.gif\n",
      "compromise\n",
      "http://media0.giphy.com/media/l0HlTTvEWSj3C3s3K/giphy.gif\n",
      "compliment\n",
      "https://media4.giphy.com/media/l3V0nzIFlQPh5LXYk/giphy.gif\n",
      "intimates\n",
      "http://media4.giphy.com/media/14nwIfYOFs73xe/giphy.gif\n",
      "clothingare\n"
     ]
    }
   ],
   "source": [
    "try:\n",
    "    for ran in dalis:\n",
    "        print(ran)\n",
    "        reqfo = requests.get('http://api.giphy.com/v1/gifs/search?q={}&api_key=dc6zaTOxFJmzC'.format(ran))\n",
    "        #print(reqfo.json())\n",
    "\n",
    "        rej = reqfo.json()\n",
    "\n",
    "        rez = rej['data'][0]['images']['original']['url']\n",
    "        print(rez)\n",
    "\n",
    "        with open ('/home/{}/za/posts/{}.md'.format(myusr, ran), 'w') as ranmd:\n",
    "        #oppost.write('![{}'.format())\n",
    "            ranmd.write(('![' + ran + '](' + rez + ')\\n\\n' + ran))\n",
    "\n",
    "        with open ('/home/{}/za/posts/{}.meta'.format(myusr, ran), 'w') as ranmeta:\n",
    "        #opmetat.write(\"{}\".format(str(curtim))\n",
    "            ranmeta.write('.. title: {}\\n.. slug: {}\\n.. date: {}\\n.. tags: \\n.. link:\\n.. description:\\n.. type: text'.format(ran, ran, curtim))\n",
    "            \n",
    "#except IndexError:\n",
    "except IndexError:\n",
    "    pass\n"
   ]
  },
  {
   "cell_type": "code",
   "execution_count": 131,
   "metadata": {
    "collapsed": false
   },
   "outputs": [],
   "source": [
    "with open('/home/{}/zalandobrand.json'.format(myusr), 'r') as zalajs:\n",
    "    zalabr = (zalajs.read())"
   ]
  },
  {
   "cell_type": "code",
   "execution_count": 133,
   "metadata": {
    "collapsed": false
   },
   "outputs": [],
   "source": [
    "jsza = json.loads(zalabr)"
   ]
  },
  {
   "cell_type": "code",
   "execution_count": 153,
   "metadata": {
    "collapsed": false
   },
   "outputs": [],
   "source": [
    "for js in jsza.values():\n",
    "    #print(js)\n",
    "    #print(js['slug'])\n",
    "    \n",
    "    #print(js['header'])\n",
    "    #print(js['title'])\n",
    "    #print(js['logo'])\n",
    "    \n",
    "    #print(js['banner'])\n",
    "    \n",
    "    with open ('/home/{}/za/posts/{}.md'.format(myusr, (js['slug'])), 'w') as ranmd:\n",
    "        #oppost.write('![{}'.format())\n",
    "        ranmd.write(('![' + (js['slug']) + '](' + (js['banner']) + ')\\n\\n' + js['header'] + '\\n\\n' + js['description']))\n",
    "\n",
    "    with open ('/home/{}/za/posts/{}.meta'.format(myusr, js['slug']), 'w') as ranmeta:\n",
    "        #opmetat.write(\"{}\".format(str(curtim))\n",
    "        ranmeta.write('.. title: {}\\n.. slug: {}\\n.. date: {}\\n.. tags: \\n.. link:\\n.. description:\\n.. type: text'.format(js['slug'], js['slug'], curtim))\n",
    "          \n",
    "    \n",
    "    "
   ]
  },
  {
   "cell_type": "code",
   "execution_count": null,
   "metadata": {
    "collapsed": true
   },
   "outputs": [],
   "source": []
  }
 ],
 "metadata": {
  "kernelspec": {
   "display_name": "Python 3",
   "language": "python",
   "name": "python3"
  },
  "language_info": {
   "codemirror_mode": {
    "name": "ipython",
    "version": 3
   },
   "file_extension": ".py",
   "mimetype": "text/x-python",
   "name": "python",
   "nbconvert_exporter": "python",
   "pygments_lexer": "ipython3",
   "version": "3.4.2"
  }
 },
 "nbformat": 4,
 "nbformat_minor": 0
}
