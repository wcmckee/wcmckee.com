{
 "cells": [
  {
   "cell_type": "markdown",
   "metadata": {
    "collapsed": true
   },
   "source": [
    "<h3>artcontrol gallery</h3>\n",
    "\n",
    "Create gallery for artcontrol artwork. \n",
    "\n",
    "Uses Year / Month / Day format.\n",
    "\n",
    "Create blog post for each day there is a post.\n",
    "\n",
    "It will need to list the files for that day and create a markdown file in posts that contains the artwork. Name of art then followed by each pience of artwork -line, bw, color. \n",
    "\n",
    "write a message about each piece of artwork. \n",
    "\n",
    "need to read a config file which lists the blog to update. \n",
    "\n"
   ]
  },
  {
   "cell_type": "code",
   "execution_count": 52,
   "metadata": {
    "collapsed": false
   },
   "outputs": [],
   "source": [
    "import os\n",
    "import arrow\n",
    "import getpass\n",
    "import configparser\n",
    "import time\n",
    "#import boto"
   ]
  },
  {
   "cell_type": "code",
   "execution_count": 53,
   "metadata": {
    "collapsed": false
   },
   "outputs": [],
   "source": [
    "myusr = getpass.getuser()"
   ]
  },
  {
   "cell_type": "code",
   "execution_count": 54,
   "metadata": {
    "collapsed": true
   },
   "outputs": [],
   "source": [
    "raw = arrow.now()"
   ]
  },
  {
   "cell_type": "code",
   "execution_count": 55,
   "metadata": {
    "collapsed": false
   },
   "outputs": [],
   "source": [
    "yraw = raw.strftime(\"%Y\")\n",
    "mntaw = raw.strftime(\"%m\")\n",
    "dytaw = raw.strftime(\"%d\")"
   ]
  },
  {
   "cell_type": "code",
   "execution_count": 56,
   "metadata": {
    "collapsed": true
   },
   "outputs": [],
   "source": [
    "#dytaw = str(28)"
   ]
  },
  {
   "cell_type": "code",
   "execution_count": 57,
   "metadata": {
    "collapsed": false
   },
   "outputs": [],
   "source": [
    "fulda = yraw + '/' + mntaw + '/' + dytaw"
   ]
  },
  {
   "cell_type": "code",
   "execution_count": 58,
   "metadata": {
    "collapsed": false
   },
   "outputs": [],
   "source": [
    "fultim = fulda + ' ' + raw.strftime('%H:%M:%S')"
   ]
  },
  {
   "cell_type": "code",
   "execution_count": 59,
   "metadata": {
    "collapsed": true
   },
   "outputs": [],
   "source": [
    "arnow = arrow.now()"
   ]
  },
  {
   "cell_type": "code",
   "execution_count": 60,
   "metadata": {
    "collapsed": false
   },
   "outputs": [],
   "source": [
    "curyr = arnow.strftime('%Y')"
   ]
  },
  {
   "cell_type": "code",
   "execution_count": 61,
   "metadata": {
    "collapsed": false
   },
   "outputs": [],
   "source": [
    "curmon = arnow.strftime('%m')"
   ]
  },
  {
   "cell_type": "code",
   "execution_count": 62,
   "metadata": {
    "collapsed": true
   },
   "outputs": [],
   "source": [
    "curday = arnow.strftime('%d')"
   ]
  },
  {
   "cell_type": "code",
   "execution_count": 63,
   "metadata": {
    "collapsed": true
   },
   "outputs": [],
   "source": [
    "#curday = '28'"
   ]
  },
  {
   "cell_type": "code",
   "execution_count": 103,
   "metadata": {
    "collapsed": false
   },
   "outputs": [],
   "source": [
    "config = configparser.ConfigParser()"
   ]
  },
  {
   "cell_type": "code",
   "execution_count": 104,
   "metadata": {
    "collapsed": false
   },
   "outputs": [
    {
     "data": {
      "text/plain": [
       "['/home/pi/.config/artcgallery.ini']"
      ]
     },
     "execution_count": 104,
     "metadata": {},
     "output_type": "execute_result"
    }
   ],
   "source": [
    "config.read('/home/{}/.config/artcgallery.ini'.format(myusr))"
   ]
  },
  {
   "cell_type": "code",
   "execution_count": 105,
   "metadata": {
    "collapsed": false
   },
   "outputs": [],
   "source": [
    "config = configparser.RawConfigParser()\n",
    "config.read('/home/{}/.config/artcgallery.ini'.format(myusr))\n",
    "\n",
    "# getfloat() raises an exception if the value is not a float\n",
    "# getint() and getboolean() also do this for their respective types\n",
    "defpath = (config.get('default', 'defaultpath'))\n",
    "nameofblogpost = (config.get('default', 'postname'))\n",
    "imgorigin = config.get('default', 'imgorigin')"
   ]
  },
  {
   "cell_type": "code",
   "execution_count": 108,
   "metadata": {
    "collapsed": true
   },
   "outputs": [],
   "source": [
    "#artctrlpath = '/home/{}/git/artctrl-stage'.format(myusr)"
   ]
  },
  {
   "cell_type": "code",
   "execution_count": 109,
   "metadata": {
    "collapsed": false
   },
   "outputs": [],
   "source": [
    "galerdir = ('{}/galleries/'.format(defpath))"
   ]
  },
  {
   "cell_type": "code",
   "execution_count": 110,
   "metadata": {
    "collapsed": false
   },
   "outputs": [],
   "source": [
    "pathdir = ('{}/posts/'.format(defpath))"
   ]
  },
  {
   "cell_type": "code",
   "execution_count": 111,
   "metadata": {
    "collapsed": false
   },
   "outputs": [],
   "source": [
    "oslispa = os.listdir(pathdir)"
   ]
  },
  {
   "cell_type": "code",
   "execution_count": 112,
   "metadata": {
    "collapsed": false
   },
   "outputs": [],
   "source": [
    "galdir = os.listdir(galerdir)"
   ]
  },
  {
   "cell_type": "code",
   "execution_count": 113,
   "metadata": {
    "collapsed": false
   },
   "outputs": [],
   "source": [
    "if curyr in galdir:\n",
    "    pass\n",
    "else:\n",
    "    os.mkdir(galerdir + curyr)"
   ]
  },
  {
   "cell_type": "code",
   "execution_count": 114,
   "metadata": {
    "collapsed": false
   },
   "outputs": [],
   "source": [
    "mondir = os.listdir(galerdir + curyr)"
   ]
  },
  {
   "cell_type": "code",
   "execution_count": 115,
   "metadata": {
    "collapsed": false
   },
   "outputs": [],
   "source": [
    "if curmon in mondir:\n",
    "    pass\n",
    "else:\n",
    "    os.mkdir(galerdir + curyr + '/' + curmon)"
   ]
  },
  {
   "cell_type": "code",
   "execution_count": 116,
   "metadata": {
    "collapsed": false
   },
   "outputs": [],
   "source": [
    "daydir = os.listdir(galerdir + curyr + '/' + curmon )"
   ]
  },
  {
   "cell_type": "code",
   "execution_count": 117,
   "metadata": {
    "collapsed": true
   },
   "outputs": [],
   "source": [
    "fridpath = ('{}{}/{}/{}').format(galerdir, curyr, curmon, curday)"
   ]
  },
  {
   "cell_type": "code",
   "execution_count": 118,
   "metadata": {
    "collapsed": true
   },
   "outputs": [],
   "source": [
    "fulldaypath = (galerdir + curyr + '/' + curmon + '/' + curday)"
   ]
  },
  {
   "cell_type": "code",
   "execution_count": 119,
   "metadata": {
    "collapsed": false
   },
   "outputs": [],
   "source": [
    "if curday in daydir:\n",
    "    pass\n",
    "else:\n",
    "    os.mkdir(galerdir + curyr + '/' + curmon + '/' + curday)"
   ]
  },
  {
   "cell_type": "code",
   "execution_count": 125,
   "metadata": {
    "collapsed": false
   },
   "outputs": [],
   "source": [
    "daypost = ('{}/posts/{}.md'.format(defpath, nameofblogpost))"
   ]
  },
  {
   "cell_type": "code",
   "execution_count": null,
   "metadata": {
    "collapsed": true
   },
   "outputs": [],
   "source": []
  },
  {
   "cell_type": "code",
   "execution_count": 126,
   "metadata": {
    "collapsed": true
   },
   "outputs": [],
   "source": [
    "daymetapost = ('{}/posts/{}.meta'.format(defpath, nameofblogpost))"
   ]
  },
  {
   "cell_type": "code",
   "execution_count": 127,
   "metadata": {
    "collapsed": true
   },
   "outputs": [],
   "source": [
    "daymdpost = ('{}/posts/{}.md'.format(defpath, nameofblogpost))"
   ]
  },
  {
   "cell_type": "code",
   "execution_count": 137,
   "metadata": {
    "collapsed": false
   },
   "outputs": [
    {
     "data": {
      "text/plain": [
       "0"
      ]
     },
     "execution_count": 137,
     "metadata": {},
     "output_type": "execute_result"
    }
   ],
   "source": [
    "subprocess.call('scp -r {}/*.png {}'.format(imgorigin, fridpath), shell=True)"
   ]
  },
  {
   "cell_type": "code",
   "execution_count": 145,
   "metadata": {
    "collapsed": true
   },
   "outputs": [],
   "source": [
    "todayart = os.listdir(fulldaypath)"
   ]
  },
  {
   "cell_type": "code",
   "execution_count": 146,
   "metadata": {
    "collapsed": true
   },
   "outputs": [],
   "source": [
    "todayart.sort()"
   ]
  },
  {
   "cell_type": "code",
   "execution_count": 147,
   "metadata": {
    "collapsed": false
   },
   "outputs": [],
   "source": [
    "gallerpath = ('/galleries/{}/{}/{}/'.format(curyr, curmon, curday))"
   ]
  },
  {
   "cell_type": "code",
   "execution_count": 148,
   "metadata": {
    "collapsed": true
   },
   "outputs": [],
   "source": [
    "urlpatz = 'http://artctrl.me'"
   ]
  },
  {
   "cell_type": "code",
   "execution_count": 149,
   "metadata": {
    "collapsed": true
   },
   "outputs": [],
   "source": [
    "patchurl = urlpatz + gallerpath"
   ]
  },
  {
   "cell_type": "code",
   "execution_count": 150,
   "metadata": {
    "collapsed": false
   },
   "outputs": [
    {
     "name": "stdout",
     "output_type": "stream",
     "text": [
      "post tags: gimp, rickmorty\n",
      "thoughts on: wacomend-jesusmo.png Line drawing of webcomic Jesus and Mo. \n",
      "thoughts on: wacomend-rickmorty.png Rick and Morty\n",
      "thoughts on: wacomend-spaceflight.png focus is the square head character in the center. Long neck, and circles attach the legs. squares, cicles, and wavy lines surrounding. \n"
     ]
    }
   ],
   "source": [
    "if nameofblogpost not in oslispa:\n",
    "    tagblog = input('post tags: ')\n",
    "    \n",
    "    with open(daymetapost, 'w') as daympo: \n",
    "        daympo.write('.. title: {}\\n.. slug: {}\\n.. date: {}\\n.. tags: {}\\n.. link:\\n.. description:\\n.. type: text'.format(nameofblogpost, nameofblogpost, fultim, tagblog))\n",
    "    \n",
    "    with open(daymdpost, 'w') as daymark:\n",
    "        for toar in todayart:\n",
    "            thoughon = input('thoughts on: {} '.format(toar))\n",
    "            daymark.write('![{}]({}{})\\n\\n{}\\n\\n'.format(toar.replace('.png', ''), gallerpath, toar, thoughon))\n",
    "            \n",
    "            #api.update_with_media('{}{}/{}'.format(gifpat, namofgifsea, ranlocgif), status='Started typing script {} {}'.format(blognam, jointag))\n",
    "     \n",
    "    \n",
    "else:\n",
    "    pass"
   ]
  },
  {
   "cell_type": "markdown",
   "metadata": {},
   "source": [
    "check to see if that blog post name already excist, if so error and ask for something more unique! \n",
    "\n",
    "input art piece writers. Shows the art then asks for input, appending the input below the artwork. Give a name for the art that is appended above. "
   ]
  },
  {
   "cell_type": "code",
   "execution_count": 151,
   "metadata": {
    "collapsed": false
   },
   "outputs": [],
   "source": [
    "os.chdir(defpath)"
   ]
  },
  {
   "cell_type": "code",
   "execution_count": 154,
   "metadata": {
    "collapsed": false
   },
   "outputs": [
    {
     "data": {
      "text/plain": [
       "0"
      ]
     },
     "execution_count": 154,
     "metadata": {},
     "output_type": "execute_result"
    }
   ],
   "source": [
    "subprocess.call('nikola build', shell=True)"
   ]
  },
  {
   "cell_type": "code",
   "execution_count": 139,
   "metadata": {
    "collapsed": false
   },
   "outputs": [
    {
     "data": {
      "text/plain": [
       "256"
      ]
     },
     "execution_count": 139,
     "metadata": {},
     "output_type": "execute_result"
    }
   ],
   "source": [
    "#os.system('aws s3 sync {} s3://artctrl-staging'.format(defpath))"
   ]
  },
  {
   "cell_type": "code",
   "execution_count": null,
   "metadata": {
    "collapsed": true
   },
   "outputs": [],
   "source": [
    "#subprocess.call('scp {} s3://artctrl-staging'.format(daypost), shell=True)"
   ]
  },
  {
   "cell_type": "code",
   "execution_count": null,
   "metadata": {
    "collapsed": true
   },
   "outputs": [],
   "source": [
    "#os.system('scp /media/pi/UNTITED/artcontrolme/posts/' + nameofblogpost + '.* wcmckee@artctrl.me:/home/wcmckee/artcontrolme/posts/')"
   ]
  },
  {
   "cell_type": "code",
   "execution_count": null,
   "metadata": {
    "collapsed": true
   },
   "outputs": [],
   "source": [
    "#os.system('scp /media/pi/UNTITED/artcontrolme/galleries/' + fridpath + ' ' + nameofblogpost + '.* wcmckee@artctrl.me:/home/wcmckee/artcontrolme/posts/')"
   ]
  }
 ],
 "metadata": {
  "kernelspec": {
   "display_name": "Python 3",
   "language": "python",
   "name": "python3"
  },
  "language_info": {
   "codemirror_mode": {
    "name": "ipython",
    "version": 3
   },
   "file_extension": ".py",
   "mimetype": "text/x-python",
   "name": "python",
   "nbconvert_exporter": "python",
   "pygments_lexer": "ipython3",
   "version": "3.4.2"
  }
 },
 "nbformat": 4,
 "nbformat_minor": 0
}
